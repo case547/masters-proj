{
 "cells": [
  {
   "attachments": {},
   "cell_type": "markdown",
   "metadata": {},
   "source": [
    "# RLlib Sumo Test"
   ]
  },
  {
   "cell_type": "code",
   "execution_count": 6,
   "metadata": {},
   "outputs": [],
   "source": [
    "import argparse\n",
    "from copy import deepcopy\n",
    "import logging\n",
    "import os\n",
    "import pathlib\n",
    "from pprint import pformat\n",
    "\n",
    "import ray\n",
    "from ray import air, tune\n",
    "\n",
    "from ray.rllib.algorithms.ppo import PPOConfig\n",
    "from ray.rllib.algorithms.ppo.ppo_torch_policy import PPOTorchPolicy\n",
    "from ray.rllib.examples.simulators.sumo import marlenvironment\n",
    "from ray.rllib.utils.test_utils import check_learning_achieved"
   ]
  },
  {
   "cell_type": "code",
   "execution_count": 2,
   "metadata": {},
   "outputs": [],
   "source": [
    "logging.basicConfig(level=logging.WARN)\n",
    "logger = logging.getLogger(\"ppotrain\")"
   ]
  },
  {
   "cell_type": "code",
   "execution_count": 3,
   "metadata": {},
   "outputs": [
    {
     "name": "stderr",
     "output_type": "stream",
     "text": [
      "2023-05-01 15:35:08,053\tINFO worker.py:1625 -- Started a local Ray instance.\n"
     ]
    }
   ],
   "source": [
    "ray.init()\n",
    "tune.register_env(\"sumo_test_env\", marlenvironment.env_creator)"
   ]
  },
  {
   "cell_type": "code",
   "execution_count": 13,
   "metadata": {},
   "outputs": [],
   "source": [
    "# Algorithm.\n",
    "policy_class = PPOTorchPolicy\n",
    "config = (\n",
    "    PPOConfig()\n",
    "    .rollouts(\n",
    "        num_rollout_workers=0,\n",
    "        batch_mode=\"complete_episodes\",\n",
    "    )\n",
    "    .training(\n",
    "        gamma=0.99,\n",
    "        lr=2.5e-4,\n",
    "        lambda_=0.95,\n",
    "        sgd_minibatch_size=256,\n",
    "        num_sgd_iter=4,\n",
    "        vf_loss_coeff=1.0,\n",
    "        entropy_coeff=1e-3,\n",
    "        clip_param=0.1,\n",
    "        vf_clip_param=None,\n",
    "        grad_clip=0.5,\n",
    "    )\n",
    "    .resources(num_gpus=int(os.environ.get(\"RLLIB_NUM_GPUS\", \"0\")))\n",
    "    .reporting(min_time_s_per_iteration=5)\n",
    ")"
   ]
  },
  {
   "cell_type": "code",
   "execution_count": 19,
   "metadata": {},
   "outputs": [],
   "source": [
    "# Load scenario config for RL env\n",
    "scenario_config = deepcopy(marlenvironment.DEFAULT_SCENARIO_CONFING)\n",
    "scenario_config[\"seed\"] = 42\n",
    "scenario_config[\"log_level\"] = \"INFO\"\n",
    "scenario_config[\"sumo_config\"][\"sumo_connector\"] = \"traci\"\n",
    "scenario_config[\"sumo_config\"][\"sumo_gui\"] = False\n",
    "scenario_config[\"sumo_config\"][\"sumo_cfg\"] = os.path.join(\"nets\",\"RESCO\",\"grid4x4\",\"grid4x4_1.sumocfg\")\n",
    "\n",
    "scenario_config[\"sumo_config\"][\"sumo_params\"] = [\"--collision.action\", \"warn\"]\n",
    "scenario_config[\"sumo_config\"][\"trace_file\"] = True\n",
    "scenario_config[\"sumo_config\"][\"end_of_sim\"] = 3600  # seconds\n",
    "scenario_config[\"sumo_config\"][\"update_freq\"] = 5  # no. traci.simulationStep() for each learning step.\n",
    "scenario_config[\"sumo_config\"][\"log_level\"] = \"INFO\"\n",
    "logger.info(\"Scenario Configuration: \\n %s\", pformat(scenario_config))"
   ]
  },
  {
   "cell_type": "code",
   "execution_count": null,
   "metadata": {},
   "outputs": [],
   "source": [
    "# Associate the agents with their configuration.\n",
    "agent_init = {\n",
    "    \"agent_0\": deepcopy(marlenvironment.DEFAULT_AGENT_CONFING),\n",
    "    \"agent_1\": deepcopy(marlenvironment.DEFAULT_AGENT_CONFING),\n",
    "}\n",
    "logger.info(\"Agents Configuration: \\n %s\", pformat(agent_init))\n",
    "\n",
    "# Init MARL env\n",
    "env_config = {\n",
    "    \"agent_init\": agent_init,\n",
    "    \"scenario_config\": scenario_config,\n",
    "}\n",
    "marl_env = marlenvironment.SUMOTestMultiAgentEnv(env_config)"
   ]
  }
 ],
 "metadata": {
  "kernelspec": {
   "display_name": "rllib",
   "language": "python",
   "name": "python3"
  },
  "language_info": {
   "codemirror_mode": {
    "name": "ipython",
    "version": 3
   },
   "file_extension": ".py",
   "mimetype": "text/x-python",
   "name": "python",
   "nbconvert_exporter": "python",
   "pygments_lexer": "ipython3",
   "version": "3.10.11"
  },
  "orig_nbformat": 4
 },
 "nbformat": 4,
 "nbformat_minor": 2
}
