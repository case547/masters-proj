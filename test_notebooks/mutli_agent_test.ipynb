{
 "cells": [
  {
   "attachments": {},
   "cell_type": "markdown",
   "metadata": {},
   "source": [
    "# Multi-Agent Eval Walkthrough"
   ]
  },
  {
   "cell_type": "code",
   "execution_count": 1,
   "metadata": {},
   "outputs": [],
   "source": [
    "import os\n",
    "\n",
    "import numpy as np\n",
    "from stable_baselines3 import PPO\n",
    "from stable_baselines3.common.vec_env import DummyVecEnv, VecEnv, VecMonitor, is_vecenv_wrapped\n",
    "from sumo_rl import parallel_env\n",
    "import supersuit as ss"
   ]
  },
  {
   "cell_type": "code",
   "execution_count": 2,
   "metadata": {},
   "outputs": [],
   "source": [
    "from pettingzoo.test import parallel_api_test\n",
    "from reward_functions import diff_wait_time_reward\n",
    "\n",
    "env_params = {\n",
    "    \"net_file\": os.path.join(\"nets\",\"RESCO\",\"grid4x4\",\"grid4x4.net.xml\"),\n",
    "    \"route_file\": os.path.join(\"nets\",\"RESCO\",\"grid4x4\",\"grid4x4_1.rou.xml\"),\n",
    "    \"num_seconds\": 10,\n",
    "    \"reward_fn\": diff_wait_time_reward,\n",
    "    \"sumo_seed\": 42,\n",
    "}\n",
    "env = parallel_env(**env_params)\n",
    "\n",
    "# parallel_api_test(env, num_cycles=10)\n",
    "\n",
    "# Maybe add frame-stacking here\n",
    "env = ss.pettingzoo_env_to_vec_env_v1(env)\n",
    "env = ss.concat_vec_envs_v1(env, 2, num_cpus=1, base_class=\"stable_baselines3\")\n",
    "env = VecMonitor(env)"
   ]
  },
  {
   "cell_type": "code",
   "execution_count": 3,
   "metadata": {},
   "outputs": [
    {
     "name": "stdout",
     "output_type": "stream",
     "text": [
      "Using cuda device\n"
     ]
    }
   ],
   "source": [
    "from helper_functions import linear_schedule\n",
    "\n",
    "# Using hyperparams for Atari (except for n_steps) from\n",
    "# https://github.com/DLR-RM/rl-baselines3-zoo/blob/master/hyperparams/ppo.yml\n",
    "\n",
    "model = PPO(\n",
    "    \"MlpPolicy\",\n",
    "    env,\n",
    "    learning_rate=2.5e-4,\n",
    "    n_steps=1024,\n",
    "    batch_size=256,\n",
    "    n_epochs=4,\n",
    "    clip_range=0.1,\n",
    "    ent_coef=1e-3,\n",
    "    verbose=1\n",
    ")"
   ]
  },
  {
   "cell_type": "code",
   "execution_count": 4,
   "metadata": {},
   "outputs": [
    {
     "data": {
      "text/plain": [
       "True"
      ]
     },
     "execution_count": 4,
     "metadata": {},
     "output_type": "execute_result"
    }
   ],
   "source": [
    "is_monitor_wrapped = False\n",
    "from stable_baselines3.common.monitor import Monitor\n",
    "\n",
    "if not isinstance(env, VecEnv):\n",
    "    env = DummyVecEnv([lambda: env])  # type: ignore[list-item, return-value]\n",
    "\n",
    "is_monitor_wrapped = is_vecenv_wrapped(env, VecMonitor) or env.env_is_wrapped(Monitor)[0]\n",
    "\n",
    "is_monitor_wrapped"
   ]
  },
  {
   "cell_type": "code",
   "execution_count": 5,
   "metadata": {},
   "outputs": [
    {
     "data": {
      "text/plain": [
       "32"
      ]
     },
     "execution_count": 5,
     "metadata": {},
     "output_type": "execute_result"
    }
   ],
   "source": [
    "n_eval_episodes = 1\n",
    "\n",
    "n_envs = env.num_envs\n",
    "episode_rewards = []\n",
    "episode_lengths = []\n",
    "\n",
    "n_envs"
   ]
  },
  {
   "cell_type": "code",
   "execution_count": 6,
   "metadata": {},
   "outputs": [
    {
     "name": "stdout",
     "output_type": "stream",
     "text": [
      "[0 0 0 0 0 0 0 0 0 0 0 0 0 0 0 0 0 0 0 0 0 0 0 0 0 0 0 0 0 0 0 0]\n",
      "[0 0 0 0 0 0 0 0 0 0 0 0 0 0 0 0 0 0 0 0 0 0 0 0 0 0 0 0 0 0 0 1]\n"
     ]
    }
   ],
   "source": [
    "episode_counts = np.zeros(n_envs, dtype=\"int\")\n",
    "# Divides episodes among different sub environments in the vector as evenly as possible\n",
    "episode_count_targets = np.array([(n_eval_episodes + i) // n_envs for i in range(n_envs)], dtype=\"int\")\n",
    "\n",
    "print(episode_counts)\n",
    "print(episode_count_targets)"
   ]
  },
  {
   "cell_type": "code",
   "execution_count": 7,
   "metadata": {},
   "outputs": [
    {
     "name": "stdout",
     "output_type": "stream",
     "text": [
      "(32, 33)\n",
      "[ True  True  True  True  True  True  True  True  True  True  True  True\n",
      "  True  True  True  True  True  True  True  True  True  True  True  True\n",
      "  True  True  True  True  True  True  True  True]\n"
     ]
    }
   ],
   "source": [
    "current_rewards = np.zeros(n_envs)\n",
    "current_lengths = np.zeros(n_envs, dtype=\"int\")\n",
    "observations = env.reset()\n",
    "states = None\n",
    "episode_starts = np.ones((env.num_envs,), dtype=bool)\n",
    "\n",
    "print(observations.shape)\n",
    "print(episode_starts)"
   ]
  },
  {
   "cell_type": "code",
   "execution_count": 8,
   "metadata": {},
   "outputs": [
    {
     "name": "stdout",
     "output_type": "stream",
     "text": [
      "[5 5 5 5 5 5 5 5 5 5 5 5 5 5 5 5 5 5 5 5 5 5 5 5 5 5 5 5 5 5 5 5]\n",
      "32\n",
      "None\n"
     ]
    }
   ],
   "source": [
    "actions, states = model.predict(\n",
    "    observations,  # type: ignore[arg-type]\n",
    "    state=states,\n",
    "    episode_start=episode_starts,\n",
    "    deterministic=True,\n",
    ")\n",
    "print(actions)\n",
    "print(len(actions))\n",
    "print(states)"
   ]
  },
  {
   "cell_type": "code",
   "execution_count": 9,
   "metadata": {},
   "outputs": [
    {
     "name": "stdout",
     "output_type": "stream",
     "text": [
      "[0. 0. 0. 0. 0. 0. 0. 0. 0. 0. 0. 0. 0. 0. 0. 0. 0. 0. 0. 0. 0. 0. 0. 0.\n",
      " 0. 0. 0. 0. 0. 0. 0. 0.]\n",
      "[0 0 0 0 0 0 0 0 0 0 0 0 0 0 0 0 0 0 0 0 0 0 0 0 0 0 0 0 0 0 0 0]\n"
     ]
    }
   ],
   "source": [
    "new_observations, rewards, dones, infos = env.step(actions)\n",
    "\n",
    "print(rewards)\n",
    "print(dones)"
   ]
  },
  {
   "cell_type": "code",
   "execution_count": 10,
   "metadata": {},
   "outputs": [],
   "source": [
    "markov_vector_envs = env.unwrapped.vec_envs\n",
    "agents_by_env = [mve.par_env.unwrapped.env.traffic_signals for mve in markov_vector_envs]"
   ]
  },
  {
   "cell_type": "code",
   "execution_count": 11,
   "metadata": {},
   "outputs": [
    {
     "data": {
      "text/plain": [
       "defaultdict(float,\n",
       "            {'arrived': 0.0,\n",
       "             'avg_speed': 15.513779840108208,\n",
       "             'pressure': -1.0,\n",
       "             'queued': 0.0,\n",
       "             'tyre_pm': 11.223127148696221,\n",
       "             'wait_time': 0.0})"
      ]
     },
     "execution_count": 11,
     "metadata": {},
     "output_type": "execute_result"
    }
   ],
   "source": [
    "from collections import defaultdict\n",
    "\n",
    "import traci\n",
    "from helper_functions import get_total_waiting_time, get_tyre_pm\n",
    "\n",
    "stats = defaultdict(float)\n",
    "\n",
    "for ts in agents_by_env[0].values():\n",
    "    stats[\"arrived\"] += traci.simulation.getArrivedNumber()\n",
    "    stats[\"avg_speed\"] += ts.get_average_speed()\n",
    "    stats[\"pressure\"] += ts.get_pressure()\n",
    "    stats[\"queued\"] += ts.get_total_queued()\n",
    "    stats[\"tyre_pm\"] += get_tyre_pm(ts)\n",
    "    stats[\"wait_time\"] += get_total_waiting_time(ts)\n",
    "\n",
    "stats"
   ]
  },
  {
   "cell_type": "code",
   "execution_count": 12,
   "metadata": {},
   "outputs": [
    {
     "data": {
      "text/plain": [
       "defaultdict(float,\n",
       "            {'arrived': 0.0,\n",
       "             'avg_speed': 15.513779840108208,\n",
       "             'pressure': -1.0,\n",
       "             'queued': 0.0,\n",
       "             'tyre_pm': 11.223127148696221,\n",
       "             'wait_time': 0.0})"
      ]
     },
     "execution_count": 12,
     "metadata": {},
     "output_type": "execute_result"
    }
   ],
   "source": [
    "stats = defaultdict(float)\n",
    "\n",
    "for ts in agents_by_env[1].values():\n",
    "    stats[\"arrived\"] += traci.simulation.getArrivedNumber()\n",
    "    stats[\"avg_speed\"] += ts.get_average_speed()\n",
    "    stats[\"pressure\"] += ts.get_pressure()\n",
    "    stats[\"queued\"] += ts.get_total_queued()\n",
    "    stats[\"tyre_pm\"] += get_tyre_pm(ts)\n",
    "    stats[\"wait_time\"] += get_total_waiting_time(ts)\n",
    "\n",
    "stats"
   ]
  },
  {
   "cell_type": "code",
   "execution_count": 13,
   "metadata": {},
   "outputs": [
    {
     "data": {
      "text/plain": [
       "array([1, 1, 1, 1, 1, 1, 1, 1, 1, 1, 1, 1, 1, 1, 1, 1, 1, 1, 1, 1, 1, 1,\n",
       "       1, 1, 1, 1, 1, 1, 1, 1, 1, 1])"
      ]
     },
     "execution_count": 13,
     "metadata": {},
     "output_type": "execute_result"
    }
   ],
   "source": [
    "current_lengths += 1\n",
    "current_lengths"
   ]
  },
  {
   "cell_type": "code",
   "execution_count": 14,
   "metadata": {},
   "outputs": [
    {
     "name": "stdout",
     "output_type": "stream",
     "text": [
      "[0 0 0 0 0 0 0 0 0 0 0 0 0 0 0 0 0 0 0 0 0 0 0 0 0 0 0 0 0 0 0 0]\n",
      "[ True  True  True  True  True  True  True  True  True  True  True  True\n",
      "  True  True  True  True  True  True  True  True  True  True  True  True\n",
      "  True  True  True  True  True  True  True False]\n"
     ]
    }
   ],
   "source": [
    "for i in range(n_envs):\n",
    "    if episode_counts[i] < episode_count_targets[i]:\n",
    "        # unpack values so that the callback can access the local variables\n",
    "        reward = rewards[i]\n",
    "        done = dones[i]\n",
    "        info = infos[i]\n",
    "        episode_starts[i] = done\n",
    "\n",
    "print(dones)\n",
    "print(episode_starts)\n",
    "\n",
    "observations = new_observations"
   ]
  },
  {
   "cell_type": "code",
   "execution_count": 15,
   "metadata": {},
   "outputs": [
    {
     "data": {
      "text/plain": [
       "0"
      ]
     },
     "execution_count": 15,
     "metadata": {},
     "output_type": "execute_result"
    }
   ],
   "source": [
    "import traci\n",
    "num_steps = (env_params[\"num_seconds\"]-5 - traci.simulation.getTime())/5\n",
    "int(num_steps)"
   ]
  },
  {
   "cell_type": "code",
   "execution_count": 16,
   "metadata": {},
   "outputs": [
    {
     "name": "stdout",
     "output_type": "stream",
     "text": [
      "[0 0 0 0 0 0 0 0 0 0 0 0 0 0 0 0 0 0 0 0 0 0 0 0 0 0 0 0 0 0 0 0]\n",
      "[0. 0. 0. 0. 0. 0. 0. 0. 0. 0. 0. 0. 0. 0. 0. 0. 0. 0. 0. 0. 0. 0. 0. 0.\n",
      " 0. 0. 0. 0. 0. 0. 0. 0.]\n",
      "[1 1 1 1 1 1 1 1 1 1 1 1 1 1 1 1 1 1 1 1 1 1 1 1 1 1 1 1 1 1 1 1]\n"
     ]
    }
   ],
   "source": [
    "for _ in range(int(num_steps)):\n",
    "    actions, states = model.predict(\n",
    "        observations,  # type: ignore[arg-type]\n",
    "        state=states,\n",
    "        episode_start=episode_starts,\n",
    "        deterministic=True,\n",
    "    )\n",
    "    new_observations, rewards, dones, infos = env.step(actions)\n",
    "    current_rewards += rewards\n",
    "    current_lengths += 1\n",
    "\n",
    "    for i in range(n_envs):\n",
    "        if episode_counts[i] < episode_count_targets[i]:\n",
    "            # unpack values so that the callback can access the local variables\n",
    "            reward = rewards[i]\n",
    "            done = dones[i]\n",
    "            info = infos[i]\n",
    "            episode_starts[i] = done\n",
    "            \n",
    "    observations = new_observations\n",
    "\n",
    "print(dones)\n",
    "print(current_rewards)\n",
    "print(current_lengths)"
   ]
  },
  {
   "cell_type": "code",
   "execution_count": 17,
   "metadata": {},
   "outputs": [
    {
     "data": {
      "text/plain": [
       "5.0"
      ]
     },
     "execution_count": 17,
     "metadata": {},
     "output_type": "execute_result"
    }
   ],
   "source": [
    "traci.simulation.getTime()"
   ]
  },
  {
   "cell_type": "code",
   "execution_count": 18,
   "metadata": {},
   "outputs": [
    {
     "data": {
      "text/plain": [
       "10"
      ]
     },
     "execution_count": 18,
     "metadata": {},
     "output_type": "execute_result"
    }
   ],
   "source": [
    "env.unwrapped.vec_envs[0].par_env.unwrapped.env.sim_max_time"
   ]
  },
  {
   "cell_type": "code",
   "execution_count": 19,
   "metadata": {},
   "outputs": [
    {
     "name": "stdout",
     "output_type": "stream",
     "text": [
      "[0 0 0 0 0 0 0 0 0 0 0 0 0 0 0 0 0 0 0 0 0 0 0 0 0 0 0 0 0 0 0 0]\n",
      "[1 1 1 1 1 1 1 1 1 1 1 1 1 1 1 1 1 1 1 1 1 1 1 1 1 1 1 1 1 1 1 1]\n",
      "[1 1 1 1 1 1 1 1 1 1 1 1 1 1 1 1 1 1 1 1 1 1 1 1 1 1 1 1 1 1 1 1]\n",
      "[0. 0. 0. 0. 0. 0. 0. 0. 0. 0. 0. 0. 0. 0. 0. 0. 0. 0. 0. 0. 0. 0. 0. 0.\n",
      " 0. 0. 0. 0. 0. 0. 0. 0.]\n",
      "[2 2 2 2 2 2 2 2 2 2 2 2 2 2 2 2 2 2 2 2 2 2 2 2 2 2 2 2 2 2 2 2]\n"
     ]
    }
   ],
   "source": [
    "actions, states = model.predict(\n",
    "    observations,  # type: ignore[arg-type]\n",
    "    state=states,\n",
    "    episode_start=episode_starts,\n",
    "    deterministic=True,\n",
    ")\n",
    "new_observations, rewards, dones, infos = env.step(actions)\n",
    "current_rewards += rewards\n",
    "current_lengths += 1\n",
    "\n",
    "for i in range(n_envs):\n",
    "    if episode_counts[i] < episode_count_targets[i]:\n",
    "        # unpack values so that the callback can access the local variables\n",
    "        reward = rewards[i]\n",
    "        done = dones[i]\n",
    "        info = infos[i]\n",
    "        episode_starts[i] = done\n",
    "\n",
    "print(dones)\n",
    "# print(infos)\n",
    "print(current_rewards)\n",
    "print(current_lengths)"
   ]
  },
  {
   "cell_type": "code",
   "execution_count": 19,
   "metadata": {},
   "outputs": [],
   "source": [
    "episode_rewards.append(current_rewards[i])\n",
    "episode_lengths.append(current_lengths[i])"
   ]
  },
  {
   "cell_type": "code",
   "execution_count": 21,
   "metadata": {},
   "outputs": [
    {
     "data": {
      "text/plain": [
       "(-148099.0, 0.0)"
      ]
     },
     "execution_count": 21,
     "metadata": {},
     "output_type": "execute_result"
    }
   ],
   "source": [
    "mean_reward = np.mean(episode_rewards)\n",
    "std_reward = np.std(episode_rewards)\n",
    "\n",
    "mean_reward, std_reward"
   ]
  }
 ],
 "metadata": {
  "kernelspec": {
   "display_name": "rl",
   "language": "python",
   "name": "python3"
  },
  "language_info": {
   "codemirror_mode": {
    "name": "ipython",
    "version": 3
   },
   "file_extension": ".py",
   "mimetype": "text/x-python",
   "name": "python",
   "nbconvert_exporter": "python",
   "pygments_lexer": "ipython3",
   "version": "3.9.16"
  },
  "orig_nbformat": 4
 },
 "nbformat": 4,
 "nbformat_minor": 2
}
