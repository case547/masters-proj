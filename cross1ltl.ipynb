{
 "cells": [
  {
   "attachments": {},
   "cell_type": "markdown",
   "metadata": {},
   "source": [
    "# Cross 1L TL"
   ]
  },
  {
   "cell_type": "code",
   "execution_count": 16,
   "metadata": {},
   "outputs": [],
   "source": [
    "import csv\n",
    "import os\n",
    "import shutil\n",
    "import subprocess\n",
    "\n",
    "import pyautogui\n",
    "from stable_baselines3 import PPO\n",
    "from stable_baselines3.common.env_checker import check_env\n",
    "from stable_baselines3.common.monitor import Monitor\n",
    "from sumo_rl import SumoEnvironment\n",
    "\n",
    "from evaluate import evaluate\n",
    "from helper_functions import linear_schedule\n",
    "from reward_functions import tyre_pm_reward"
   ]
  },
  {
   "cell_type": "code",
   "execution_count": 17,
   "metadata": {},
   "outputs": [],
   "source": [
    "TEST_NUM = 1"
   ]
  },
  {
   "attachments": {},
   "cell_type": "markdown",
   "metadata": {},
   "source": [
    "## Create Environment and Instantiate Agent"
   ]
  },
  {
   "cell_type": "code",
   "execution_count": 18,
   "metadata": {},
   "outputs": [],
   "source": [
    "csv_dir = os.path.join(\"outputs\",\"cross1ltl\",f\"test_{TEST_NUM}\")\n",
    "if not os.path.exists(csv_dir):\n",
    "    os.makedirs(csv_dir)\n",
    "    \n",
    "env_params = {\n",
    "    \"net_file\": os.path.join(\"nets\",\"simple_nets\",\"cross1ltl\",\"net.net.xml\"),\n",
    "    \"route_file\": os.path.join(\"nets\",\"simple_nets\",\"cross1ltl\",\"input_routes.rou.xml\"),\n",
    "    \"out_csv_name\": os.path.join(csv_dir,\"ppo\"),\n",
    "    \"num_seconds\": 1200,\n",
    "    \"single_agent\": True,\n",
    "    \"reward_fn\": tyre_pm_reward,\n",
    "    \"sumo_seed\": 42,\n",
    "}\n",
    "env = SumoEnvironment(**env_params)\n",
    "check_env(env)\n",
    "env = Monitor(env)  # wrap env to know episode reward, length, time"
   ]
  },
  {
   "cell_type": "code",
   "execution_count": 19,
   "metadata": {},
   "outputs": [
    {
     "name": "stdout",
     "output_type": "stream",
     "text": [
      "Using cuda device\n",
      "Wrapping the env in a DummyVecEnv.\n"
     ]
    }
   ],
   "source": [
    "# Using hyperparams from https://arxiv.org/abs/1707.06347 Table 5, except for `n_steps`,\n",
    "# which is from https://github.com/LucasAlegre/sumo-rl/blob/master/experiments/sb3_grid4x4.py\n",
    "\n",
    "model = PPO(\n",
    "    \"MlpPolicy\",\n",
    "    env,\n",
    "    learning_rate=linear_schedule(2.5e-4),\n",
    "    n_steps=256,\n",
    "    batch_size=256,\n",
    "    n_epochs=3,\n",
    "    clip_range=linear_schedule(0.1),\n",
    "    ent_coef=0.01,\n",
    "    vf_coef=1,\n",
    "    max_grad_norm=0.9,\n",
    "    tensorboard_log=os.path.join(\"logs\",\"cross1ltl\"),\n",
    "    verbose=1\n",
    ")"
   ]
  },
  {
   "cell_type": "code",
   "execution_count": 20,
   "metadata": {},
   "outputs": [
    {
     "name": "stdout",
     "output_type": "stream",
     "text": [
      "-5401.889468\n",
      "0.0\n"
     ]
    }
   ],
   "source": [
    "# Evaluate untrained random agent\n",
    "csv_path = os.path.join(csv_dir, \"untrained.csv\")\n",
    "tb_log_dir = os.path.join(\"logs\",\"cross1ltl\",\"eval_untrained\")\n",
    "\n",
    "mean_reward_untrained, std_reward_untrained = evaluate(model, env, csv_path, tb_log_dir, n_eval_episodes=1)\n",
    "\n",
    "print(mean_reward_untrained)\n",
    "print(std_reward_untrained)"
   ]
  },
  {
   "attachments": {},
   "cell_type": "markdown",
   "metadata": {},
   "source": [
    "## Train and Evaluate Agent"
   ]
  },
  {
   "cell_type": "code",
   "execution_count": null,
   "metadata": {},
   "outputs": [],
   "source": [
    "# Train agent\n",
    "model.learn(total_timesteps=1e5)"
   ]
  },
  {
   "cell_type": "code",
   "execution_count": null,
   "metadata": {},
   "outputs": [],
   "source": [
    "# Evaluate trained agent\n",
    "csv_path = os.path.join(csv_dir, \"trained.csv\")\n",
    "tb_log_dir = os.path.join(\"logs\",\"2way-single-intersection\",f\"PPO_{TEST_NUM}\",\"eval_trained\")\n",
    "\n",
    "mean_reward_trained, std_reward_trained = evaluate(model, env, csv_path, tb_log_dir, n_eval_episodes=1)\n",
    "\n",
    "print(mean_reward_trained)\n",
    "print(std_reward_trained)"
   ]
  },
  {
   "cell_type": "code",
   "execution_count": null,
   "metadata": {},
   "outputs": [],
   "source": [
    "original = os.path.join(\"logs\",\"2way-single-intersection\",\"eval_untrained\")\n",
    "target = os.path.join(\"logs\",\"2way-single-intersection\",f\"PPO_{TEST_NUM}\",\"eval_untrained\")\n",
    "\n",
    "shutil.move(original, target)"
   ]
  },
  {
   "attachments": {},
   "cell_type": "markdown",
   "metadata": {},
   "source": [
    "### Record Results"
   ]
  },
  {
   "cell_type": "code",
   "execution_count": null,
   "metadata": {},
   "outputs": [],
   "source": [
    "data = [env_params[\"net_file\"], TEST_NUM, env.reward_fn.__name__, mean_reward_untrained, mean_reward_trained]\n",
    "\n",
    "with open(\"test_results.csv\", \"a\", encoding=\"UTF8\", newline=\"\") as f:\n",
    "    writer = csv.writer(f)\n",
    "    writer.writerow(data)"
   ]
  },
  {
   "attachments": {},
   "cell_type": "markdown",
   "metadata": {},
   "source": [
    "### Save Model"
   ]
  },
  {
   "cell_type": "code",
   "execution_count": null,
   "metadata": {},
   "outputs": [],
   "source": [
    "model.save(os.path.join(\"saved_models\",f\"PPO_2way_single_intersection_{TEST_NUM}\"))"
   ]
  },
  {
   "attachments": {},
   "cell_type": "markdown",
   "metadata": {},
   "source": [
    "## Render Video"
   ]
  },
  {
   "cell_type": "code",
   "execution_count": null,
   "metadata": {},
   "outputs": [],
   "source": [
    "env_params.update({\"use_gui\": True})\n",
    "render_env = SumoEnvironment(**env_params)\n",
    "\n",
    "check_env(render_env)\n",
    "render_env.close()\n",
    "\n",
    "render_env = Monitor(render_env)  # wrap env to know episode reward, length, time"
   ]
  },
  {
   "cell_type": "code",
   "execution_count": null,
   "metadata": {},
   "outputs": [],
   "source": [
    "model = PPO.load(os.path.join(\"saved_models\",f\"PPO_2way_single_intersection_{TEST_NUM}\"))\n",
    "\n",
    "obs, info = render_env.reset()\n",
    "\n",
    "folder_path = os.path.join(\"renders\",\"2way-single-intersection\",f\"test_{TEST_NUM}\")\n",
    "if not os.path.exists(folder_path):\n",
    "    os.mkdir(folder_path)\n",
    "\n",
    "VID_LENGTH = 750\n",
    "for i in range(VID_LENGTH):\n",
    "    actions, _ = model.predict(obs)\n",
    "    obs, reward, terminated, truncated, info = render_env.step(actions)\n",
    "    env.render()\n",
    "\n",
    "    im = pyautogui.screenshot(\n",
    "        os.path.join(folder_path,f\"img{i}.jpg\"),\n",
    "        region=(0, 0, 2560, 1542)\n",
    "    )\n",
    "\n",
    "render_env.close()  # clean up"
   ]
  },
  {
   "cell_type": "code",
   "execution_count": null,
   "metadata": {},
   "outputs": [],
   "source": [
    "subprocess.run([\n",
    "    \"ffmpeg\", \"-y\", \"-r\", \"5\", \"-i\",\n",
    "    f\"renders\\\\2way-single-intersection\\\\test_{TEST_NUM}\\\\img%d.jpg\",\n",
    "    f\"videos\\\\2way_single_intersection_{TEST_NUM}.mp4\"\n",
    "])"
   ]
  },
  {
   "attachments": {},
   "cell_type": "markdown",
   "metadata": {},
   "source": [
    "## Clean-up"
   ]
  },
  {
   "cell_type": "code",
   "execution_count": null,
   "metadata": {},
   "outputs": [],
   "source": [
    "env.close()\n",
    "render_env.close()"
   ]
  }
 ],
 "metadata": {
  "kernelspec": {
   "display_name": "rl",
   "language": "python",
   "name": "python3"
  },
  "language_info": {
   "codemirror_mode": {
    "name": "ipython",
    "version": 3
   },
   "file_extension": ".py",
   "mimetype": "text/x-python",
   "name": "python",
   "nbconvert_exporter": "python",
   "pygments_lexer": "ipython3",
   "version": "3.9.16"
  },
  "orig_nbformat": 4,
  "vscode": {
   "interpreter": {
    "hash": "732c5edff638c91026cc37889b73c340773ecf599b6624077a4552d06a9ec22c"
   }
  }
 },
 "nbformat": 4,
 "nbformat_minor": 2
}
