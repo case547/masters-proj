{
 "cells": [
  {
   "attachments": {},
   "cell_type": "markdown",
   "metadata": {},
   "source": [
    "#  Grid4x4"
   ]
  },
  {
   "cell_type": "code",
   "execution_count": 2,
   "metadata": {},
   "outputs": [],
   "source": [
    "import os\n",
    "\n",
    "from stable_baselines3 import PPO\n",
    "from stable_baselines3.common.vec_env import VecMonitor\n",
    "from sumo_rl import parallel_env\n",
    "import supersuit as ss\n",
    "\n",
    "from evaluate import evaluate"
   ]
  },
  {
   "cell_type": "code",
   "execution_count": 3,
   "metadata": {},
   "outputs": [],
   "source": [
    "TEST_NUM = 4"
   ]
  },
  {
   "attachments": {},
   "cell_type": "markdown",
   "metadata": {},
   "source": [
    "## Create Environment and Instantiate Agent"
   ]
  },
  {
   "cell_type": "code",
   "execution_count": 4,
   "metadata": {},
   "outputs": [
    {
     "ename": "FatalTraCIError",
     "evalue": "connection closed by SUMO",
     "output_type": "error",
     "traceback": [
      "\u001b[1;31m---------------------------------------------------------------------------\u001b[0m",
      "\u001b[1;31mFatalTraCIError\u001b[0m                           Traceback (most recent call last)",
      "Cell \u001b[1;32mIn[4], line 10\u001b[0m\n\u001b[0;32m      1\u001b[0m \u001b[39mfrom\u001b[39;00m \u001b[39mreward_functions\u001b[39;00m \u001b[39mimport\u001b[39;00m combined_reward\n\u001b[0;32m      3\u001b[0m env_params \u001b[39m=\u001b[39m {\n\u001b[0;32m      4\u001b[0m     \u001b[39m\"\u001b[39m\u001b[39mnet_file\u001b[39m\u001b[39m\"\u001b[39m: os\u001b[39m.\u001b[39mpath\u001b[39m.\u001b[39mjoin(\u001b[39m\"\u001b[39m\u001b[39mnets\u001b[39m\u001b[39m\"\u001b[39m,\u001b[39m\"\u001b[39m\u001b[39mRESCO\u001b[39m\u001b[39m\"\u001b[39m,\u001b[39m\"\u001b[39m\u001b[39mgrid4x4\u001b[39m\u001b[39m\"\u001b[39m,\u001b[39m\"\u001b[39m\u001b[39mgrid4x4.net.xml\u001b[39m\u001b[39m\"\u001b[39m),\n\u001b[0;32m      5\u001b[0m     \u001b[39m\"\u001b[39m\u001b[39mroute_file\u001b[39m\u001b[39m\"\u001b[39m: os\u001b[39m.\u001b[39mpath\u001b[39m.\u001b[39mjoin(\u001b[39m\"\u001b[39m\u001b[39mnets\u001b[39m\u001b[39m\"\u001b[39m,\u001b[39m\"\u001b[39m\u001b[39mRESCO\u001b[39m\u001b[39m\"\u001b[39m,\u001b[39m\"\u001b[39m\u001b[39mgrid4x4\u001b[39m\u001b[39m\"\u001b[39m,\u001b[39m\"\u001b[39m\u001b[39mgrid4x4_1.rou.xml\u001b[39m\u001b[39m\"\u001b[39m),\n\u001b[1;32m   (...)\u001b[0m\n\u001b[0;32m      8\u001b[0m     \u001b[39m# \"sumo_seed\": 42,\u001b[39;00m\n\u001b[0;32m      9\u001b[0m }\n\u001b[1;32m---> 10\u001b[0m env \u001b[39m=\u001b[39m parallel_env(\u001b[39m*\u001b[39m\u001b[39m*\u001b[39menv_params)\n\u001b[0;32m     12\u001b[0m \u001b[39m# Maybe add frame-stacking here\u001b[39;00m\n\u001b[0;32m     13\u001b[0m env \u001b[39m=\u001b[39m ss\u001b[39m.\u001b[39mpettingzoo_env_to_vec_env_v1(env)\n",
      "File \u001b[1;32mc:\\Users\\Justin Mak\\anaconda3\\envs\\rl\\lib\\site-packages\\pettingzoo\\utils\\conversions.py:17\u001b[0m, in \u001b[0;36mparallel_wrapper_fn.<locals>.par_fn\u001b[1;34m(**kwargs)\u001b[0m\n\u001b[0;32m     16\u001b[0m \u001b[39mdef\u001b[39;00m \u001b[39mpar_fn\u001b[39m(\u001b[39m*\u001b[39m\u001b[39m*\u001b[39mkwargs):\n\u001b[1;32m---> 17\u001b[0m     env \u001b[39m=\u001b[39m env_fn(\u001b[39m*\u001b[39m\u001b[39m*\u001b[39mkwargs)\n\u001b[0;32m     18\u001b[0m     env \u001b[39m=\u001b[39m aec_to_parallel_wrapper(env)\n\u001b[0;32m     19\u001b[0m     \u001b[39mreturn\u001b[39;00m env\n",
      "File \u001b[1;32mc:\\Users\\Justin Mak\\anaconda3\\envs\\rl\\lib\\site-packages\\sumo_rl\\environment\\env.py:32\u001b[0m, in \u001b[0;36menv\u001b[1;34m(**kwargs)\u001b[0m\n\u001b[0;32m     30\u001b[0m \u001b[39mdef\u001b[39;00m \u001b[39menv\u001b[39m(\u001b[39m*\u001b[39m\u001b[39m*\u001b[39mkwargs):\n\u001b[0;32m     31\u001b[0m \u001b[39m    \u001b[39m\u001b[39m\"\"\"Instantiate a PettingoZoo environment.\"\"\"\u001b[39;00m\n\u001b[1;32m---> 32\u001b[0m     env \u001b[39m=\u001b[39m SumoEnvironmentPZ(\u001b[39m*\u001b[39m\u001b[39m*\u001b[39mkwargs)\n\u001b[0;32m     33\u001b[0m     env \u001b[39m=\u001b[39m wrappers\u001b[39m.\u001b[39mAssertOutOfBoundsWrapper(env)\n\u001b[0;32m     34\u001b[0m     env \u001b[39m=\u001b[39m wrappers\u001b[39m.\u001b[39mOrderEnforcingWrapper(env)\n",
      "File \u001b[1;32mc:\\Users\\Justin Mak\\anaconda3\\envs\\rl\\lib\\site-packages\\sumo_rl\\environment\\env.py:505\u001b[0m, in \u001b[0;36mSumoEnvironmentPZ.__init__\u001b[1;34m(self, **kwargs)\u001b[0m\n\u001b[0;32m    502\u001b[0m \u001b[39mself\u001b[39m\u001b[39m.\u001b[39m_kwargs \u001b[39m=\u001b[39m kwargs\n\u001b[0;32m    504\u001b[0m \u001b[39mself\u001b[39m\u001b[39m.\u001b[39mseed()\n\u001b[1;32m--> 505\u001b[0m \u001b[39mself\u001b[39m\u001b[39m.\u001b[39menv \u001b[39m=\u001b[39m SumoEnvironment(\u001b[39m*\u001b[39m\u001b[39m*\u001b[39m\u001b[39mself\u001b[39m\u001b[39m.\u001b[39m_kwargs)\n\u001b[0;32m    507\u001b[0m \u001b[39mself\u001b[39m\u001b[39m.\u001b[39magents \u001b[39m=\u001b[39m \u001b[39mself\u001b[39m\u001b[39m.\u001b[39menv\u001b[39m.\u001b[39mts_ids\n\u001b[0;32m    508\u001b[0m \u001b[39mself\u001b[39m\u001b[39m.\u001b[39mpossible_agents \u001b[39m=\u001b[39m \u001b[39mself\u001b[39m\u001b[39m.\u001b[39menv\u001b[39m.\u001b[39mts_ids\n",
      "File \u001b[1;32mc:\\Users\\Justin Mak\\anaconda3\\envs\\rl\\lib\\site-packages\\sumo_rl\\environment\\env.py:149\u001b[0m, in \u001b[0;36mSumoEnvironment.__init__\u001b[1;34m(self, net_file, route_file, out_csv_name, use_gui, virtual_display, begin_time, num_seconds, max_depart_delay, waiting_time_memory, time_to_teleport, delta_time, yellow_time, min_green, max_green, single_agent, reward_fn, observation_class, add_system_info, add_per_agent_info, sumo_seed, fixed_ts, sumo_warnings, additional_sumo_cmd, render_mode)\u001b[0m\n\u001b[0;32m    147\u001b[0m     conn \u001b[39m=\u001b[39m traci\n\u001b[0;32m    148\u001b[0m \u001b[39melse\u001b[39;00m:\n\u001b[1;32m--> 149\u001b[0m     traci\u001b[39m.\u001b[39;49mstart([sumolib\u001b[39m.\u001b[39;49mcheckBinary(\u001b[39m\"\u001b[39;49m\u001b[39msumo\u001b[39;49m\u001b[39m\"\u001b[39;49m), \u001b[39m\"\u001b[39;49m\u001b[39m-n\u001b[39;49m\u001b[39m\"\u001b[39;49m, \u001b[39mself\u001b[39;49m\u001b[39m.\u001b[39;49m_net], label\u001b[39m=\u001b[39;49m\u001b[39m\"\u001b[39;49m\u001b[39minit_connection\u001b[39;49m\u001b[39m\"\u001b[39;49m \u001b[39m+\u001b[39;49m \u001b[39mself\u001b[39;49m\u001b[39m.\u001b[39;49mlabel)\n\u001b[0;32m    150\u001b[0m     conn \u001b[39m=\u001b[39m traci\u001b[39m.\u001b[39mgetConnection(\u001b[39m\"\u001b[39m\u001b[39minit_connection\u001b[39m\u001b[39m\"\u001b[39m \u001b[39m+\u001b[39m \u001b[39mself\u001b[39m\u001b[39m.\u001b[39mlabel)\n\u001b[0;32m    152\u001b[0m \u001b[39mself\u001b[39m\u001b[39m.\u001b[39mts_ids \u001b[39m=\u001b[39m \u001b[39mlist\u001b[39m(conn\u001b[39m.\u001b[39mtrafficlight\u001b[39m.\u001b[39mgetIDList())\n",
      "File \u001b[1;32mC:\\Program Files (x86)\\Eclipse\\Sumo\\tools\\traci\\main.py:152\u001b[0m, in \u001b[0;36mstart\u001b[1;34m(cmd, port, numRetries, label, verbose, traceFile, traceGetters, stdout, doSwitch)\u001b[0m\n\u001b[0;32m    150\u001b[0m sumoProcess \u001b[39m=\u001b[39m subprocess\u001b[39m.\u001b[39mPopen(cmd2, stdout\u001b[39m=\u001b[39mstdout)\n\u001b[0;32m    151\u001b[0m \u001b[39mtry\u001b[39;00m:\n\u001b[1;32m--> 152\u001b[0m     result \u001b[39m=\u001b[39m init(sumoPort, numRetries, \u001b[39m\"\u001b[39;49m\u001b[39mlocalhost\u001b[39;49m\u001b[39m\"\u001b[39;49m, label, sumoProcess, doSwitch, traceFile, traceGetters)\n\u001b[0;32m    153\u001b[0m     \u001b[39mif\u001b[39;00m traceFile \u001b[39mis\u001b[39;00m \u001b[39mnot\u001b[39;00m \u001b[39mNone\u001b[39;00m:\n\u001b[0;32m    154\u001b[0m         _connections[label]\u001b[39m.\u001b[39mwrite(\u001b[39m\"\u001b[39m\u001b[39mstart\u001b[39m\u001b[39m\"\u001b[39m, \u001b[39m\"\u001b[39m\u001b[39m%s\u001b[39;00m\u001b[39m, port=\u001b[39m\u001b[39m%s\u001b[39;00m\u001b[39m, label=\u001b[39m\u001b[39m%s\u001b[39;00m\u001b[39m\"\u001b[39m \u001b[39m%\u001b[39m (\u001b[39mrepr\u001b[39m(cmd), \u001b[39mrepr\u001b[39m(port), \u001b[39mrepr\u001b[39m(label)))\n",
      "File \u001b[1;32mC:\\Program Files (x86)\\Eclipse\\Sumo\\tools\\traci\\main.py:124\u001b[0m, in \u001b[0;36minit\u001b[1;34m(port, numRetries, host, label, proc, doSwitch, traceFile, traceGetters)\u001b[0m\n\u001b[0;32m    122\u001b[0m \u001b[39mif\u001b[39;00m doSwitch:\n\u001b[0;32m    123\u001b[0m     switch(label)\n\u001b[1;32m--> 124\u001b[0m \u001b[39mreturn\u001b[39;00m _connections[label]\u001b[39m.\u001b[39;49mgetVersion()\n",
      "File \u001b[1;32mC:\\Program Files (x86)\\Eclipse\\Sumo\\tools\\traci\\connection.py:340\u001b[0m, in \u001b[0;36mConnection.getVersion\u001b[1;34m(self)\u001b[0m\n\u001b[0;32m    338\u001b[0m \u001b[39mdef\u001b[39;00m \u001b[39mgetVersion\u001b[39m(\u001b[39mself\u001b[39m):\n\u001b[0;32m    339\u001b[0m     command \u001b[39m=\u001b[39m tc\u001b[39m.\u001b[39mCMD_GETVERSION\n\u001b[1;32m--> 340\u001b[0m     result \u001b[39m=\u001b[39m \u001b[39mself\u001b[39;49m\u001b[39m.\u001b[39;49m_sendCmd(command, \u001b[39mNone\u001b[39;49;00m, \u001b[39mNone\u001b[39;49;00m)\n\u001b[0;32m    341\u001b[0m     result\u001b[39m.\u001b[39mreadLength()\n\u001b[0;32m    342\u001b[0m     response \u001b[39m=\u001b[39m result\u001b[39m.\u001b[39mread(\u001b[39m\"\u001b[39m\u001b[39m!B\u001b[39m\u001b[39m\"\u001b[39m)[\u001b[39m0\u001b[39m]\n",
      "File \u001b[1;32mC:\\Program Files (x86)\\Eclipse\\Sumo\\tools\\traci\\connection.py:189\u001b[0m, in \u001b[0;36mConnection._sendCmd\u001b[1;34m(self, cmdID, varID, objID, format, *values)\u001b[0m\n\u001b[0;32m    187\u001b[0m     \u001b[39mself\u001b[39m\u001b[39m.\u001b[39m_string \u001b[39m+\u001b[39m\u001b[39m=\u001b[39m struct\u001b[39m.\u001b[39mpack(\u001b[39m\"\u001b[39m\u001b[39m!i\u001b[39m\u001b[39m\"\u001b[39m, \u001b[39mlen\u001b[39m(objID)) \u001b[39m+\u001b[39m objID\u001b[39m.\u001b[39mencode(\u001b[39m\"\u001b[39m\u001b[39mlatin1\u001b[39m\u001b[39m\"\u001b[39m)\n\u001b[0;32m    188\u001b[0m \u001b[39mself\u001b[39m\u001b[39m.\u001b[39m_string \u001b[39m+\u001b[39m\u001b[39m=\u001b[39m packed\n\u001b[1;32m--> 189\u001b[0m \u001b[39mreturn\u001b[39;00m \u001b[39mself\u001b[39;49m\u001b[39m.\u001b[39;49m_sendExact()\n",
      "File \u001b[1;32mC:\\Program Files (x86)\\Eclipse\\Sumo\\tools\\traci\\connection.py:99\u001b[0m, in \u001b[0;36mConnection._sendExact\u001b[1;34m(self)\u001b[0m\n\u001b[0;32m     97\u001b[0m     \u001b[39mself\u001b[39m\u001b[39m.\u001b[39m_socket\u001b[39m.\u001b[39mclose()\n\u001b[0;32m     98\u001b[0m     \u001b[39mself\u001b[39m\u001b[39m.\u001b[39m_socket \u001b[39m=\u001b[39m \u001b[39mNone\u001b[39;00m\n\u001b[1;32m---> 99\u001b[0m     \u001b[39mraise\u001b[39;00m FatalTraCIError(\u001b[39m\"\u001b[39m\u001b[39mconnection closed by SUMO\u001b[39m\u001b[39m\"\u001b[39m)\n\u001b[0;32m    100\u001b[0m \u001b[39mfor\u001b[39;00m command \u001b[39min\u001b[39;00m \u001b[39mself\u001b[39m\u001b[39m.\u001b[39m_queue:\n\u001b[0;32m    101\u001b[0m     prefix \u001b[39m=\u001b[39m result\u001b[39m.\u001b[39mread(\u001b[39m\"\u001b[39m\u001b[39m!BBB\u001b[39m\u001b[39m\"\u001b[39m)\n",
      "\u001b[1;31mFatalTraCIError\u001b[0m: connection closed by SUMO"
     ]
    }
   ],
   "source": [
    "from reward_functions import combined_reward\n",
    "\n",
    "env_params = {\n",
    "    \"net_file\": os.path.join(\"nets\",\"grid4x4\",\"grid4x4.net.xml\"),\n",
    "    \"route_file\": os.path.join(\"nets\",\"grid4x4\",\"grid4x4_1.rou.xml\"),\n",
    "    \"num_seconds\": 3600,\n",
    "    \"reward_fn\": combined_reward,\n",
    "    # \"sumo_seed\": 42,\n",
    "}\n",
    "env = parallel_env(**env_params)\n",
    "\n",
    "# Maybe add frame-stacking here\n",
    "env = ss.pettingzoo_env_to_vec_env_v1(env)\n",
    "env = ss.concat_vec_envs_v1(env, num_vec_envs=8, base_class=\"stable_baselines3\")\n",
    "env = VecMonitor(env)"
   ]
  },
  {
   "cell_type": "code",
   "execution_count": 44,
   "metadata": {},
   "outputs": [
    {
     "name": "stdout",
     "output_type": "stream",
     "text": [
      "Using cuda device\n"
     ]
    }
   ],
   "source": [
    "from hyperparams import resco\n",
    "\n",
    "model = PPO(\n",
    "    \"MlpPolicy\",\n",
    "    env,\n",
    "    **resco,\n",
    "    tensorboard_log=os.path.join(\"logs\",\"grid4x4\"),\n",
    "    verbose=1,\n",
    "    # seed=0,\n",
    ")"
   ]
  },
  {
   "cell_type": "code",
   "execution_count": 45,
   "metadata": {},
   "outputs": [
    {
     "name": "stdout",
     "output_type": "stream",
     "text": [
      "-245990.18501207232\n",
      "0.0\n"
     ]
    }
   ],
   "source": [
    "# Evaluate untrained random agent\n",
    "csv_dir = os.path.join(\"outputs\",\"grid4x4\",f\"test_{TEST_NUM}\")\n",
    "if not os.path.exists(csv_dir):\n",
    "    os.makedirs(csv_dir)\n",
    "\n",
    "csv_path = os.path.join(csv_dir, \"untrained.csv\")\n",
    "tb_log_dir = os.path.join(\"logs\",\"grid4x4\",\"eval_untrained\")\n",
    "\n",
    "mean_reward_untrained, std_reward_untrained = evaluate(model, env, csv_path, tb_log_dir, n_eval_episodes=1)\n",
    "\n",
    "# Change made to SB3 > common > vec_env > vec_monitor.py > VecMonitor\n",
    "# Line 76 - added extra item to self.venv.step_wait() return\n",
    "# obs, rewards, dones, infos --> obs, rewards, dones, _, infos\n",
    "\n",
    "print(mean_reward_untrained)\n",
    "print(std_reward_untrained)"
   ]
  },
  {
   "attachments": {},
   "cell_type": "markdown",
   "metadata": {},
   "source": [
    "## Train and Evaluate Agent"
   ]
  },
  {
   "cell_type": "code",
   "execution_count": 46,
   "metadata": {},
   "outputs": [
    {
     "name": "stdout",
     "output_type": "stream",
     "text": [
      "Logging to logs\\grid4x4\\PPO_3\n",
      "-----------------------------------\n",
      "| rollout/           |            |\n",
      "|    ep_len_mean     | 720        |\n",
      "|    ep_rew_mean     | -10200.519 |\n",
      "| time/              |            |\n",
      "|    fps             | 179        |\n",
      "|    iterations      | 1          |\n",
      "|    time_elapsed    | 729        |\n",
      "|    total_timesteps | 131072     |\n",
      "-----------------------------------\n",
      "------------------------------------------\n",
      "| rollout/                |              |\n",
      "|    ep_len_mean          | 720          |\n",
      "|    ep_rew_mean          | -10065.127   |\n",
      "| time/                   |              |\n",
      "|    fps                  | 174          |\n",
      "|    iterations           | 2            |\n",
      "|    time_elapsed         | 1498         |\n",
      "|    total_timesteps      | 262144       |\n",
      "| train/                  |              |\n",
      "|    approx_kl            | 0.0016639231 |\n",
      "|    clip_fraction        | 0.0159       |\n",
      "|    clip_range           | 0.1          |\n",
      "|    entropy_loss         | -2.08        |\n",
      "|    explained_variance   | 3.33e-05     |\n",
      "|    learning_rate        | 0.00025      |\n",
      "|    loss                 | 3.32e+04     |\n",
      "|    n_updates            | 4            |\n",
      "|    policy_gradient_loss | -0.00124     |\n",
      "|    value_loss           | 6.4e+04      |\n",
      "------------------------------------------\n",
      "------------------------------------------\n",
      "| rollout/                |              |\n",
      "|    ep_len_mean          | 720          |\n",
      "|    ep_rew_mean          | -9989.725    |\n",
      "| time/                   |              |\n",
      "|    fps                  | 177          |\n",
      "|    iterations           | 3            |\n",
      "|    time_elapsed         | 2219         |\n",
      "|    total_timesteps      | 393216       |\n",
      "| train/                  |              |\n",
      "|    approx_kl            | 0.0013728967 |\n",
      "|    clip_fraction        | 0.011        |\n",
      "|    clip_range           | 0.1          |\n",
      "|    entropy_loss         | -2.08        |\n",
      "|    explained_variance   | 5.24e-05     |\n",
      "|    learning_rate        | 0.00025      |\n",
      "|    loss                 | 4.79e+04     |\n",
      "|    n_updates            | 8            |\n",
      "|    policy_gradient_loss | -0.000978    |\n",
      "|    value_loss           | 9.19e+04     |\n",
      "------------------------------------------\n",
      "------------------------------------------\n",
      "| rollout/                |              |\n",
      "|    ep_len_mean          | 720          |\n",
      "|    ep_rew_mean          | -9953.131    |\n",
      "| time/                   |              |\n",
      "|    fps                  | 175          |\n",
      "|    iterations           | 4            |\n",
      "|    time_elapsed         | 2987         |\n",
      "|    total_timesteps      | 524288       |\n",
      "| train/                  |              |\n",
      "|    approx_kl            | 0.0013770956 |\n",
      "|    clip_fraction        | 0.0107       |\n",
      "|    clip_range           | 0.1          |\n",
      "|    entropy_loss         | -2.07        |\n",
      "|    explained_variance   | 1.36e-05     |\n",
      "|    learning_rate        | 0.00025      |\n",
      "|    loss                 | 2.39e+04     |\n",
      "|    n_updates            | 12           |\n",
      "|    policy_gradient_loss | -0.000832    |\n",
      "|    value_loss           | 5.26e+04     |\n",
      "------------------------------------------\n",
      "------------------------------------------\n",
      "| rollout/                |              |\n",
      "|    ep_len_mean          | 720          |\n",
      "|    ep_rew_mean          | -9879.375    |\n",
      "| time/                   |              |\n",
      "|    fps                  | 171          |\n",
      "|    iterations           | 5            |\n",
      "|    time_elapsed         | 3813         |\n",
      "|    total_timesteps      | 655360       |\n",
      "| train/                  |              |\n",
      "|    approx_kl            | 0.0012133765 |\n",
      "|    clip_fraction        | 0.00771      |\n",
      "|    clip_range           | 0.1          |\n",
      "|    entropy_loss         | -2.06        |\n",
      "|    explained_variance   | 3.22e-06     |\n",
      "|    learning_rate        | 0.00025      |\n",
      "|    loss                 | 4.13e+04     |\n",
      "|    n_updates            | 16           |\n",
      "|    policy_gradient_loss | -0.00082     |\n",
      "|    value_loss           | 8.57e+04     |\n",
      "------------------------------------------\n",
      "-----------------------------------------\n",
      "| rollout/                |             |\n",
      "|    ep_len_mean          | 720         |\n",
      "|    ep_rew_mean          | -9763.37    |\n",
      "| time/                   |             |\n",
      "|    fps                  | 173         |\n",
      "|    iterations           | 6           |\n",
      "|    time_elapsed         | 4538        |\n",
      "|    total_timesteps      | 786432      |\n",
      "| train/                  |             |\n",
      "|    approx_kl            | 0.001656947 |\n",
      "|    clip_fraction        | 0.0131      |\n",
      "|    clip_range           | 0.1         |\n",
      "|    entropy_loss         | -2.05       |\n",
      "|    explained_variance   | 1.37e-06    |\n",
      "|    learning_rate        | 0.00025     |\n",
      "|    loss                 | 2.3e+04     |\n",
      "|    n_updates            | 20          |\n",
      "|    policy_gradient_loss | -0.000948   |\n",
      "|    value_loss           | 4.97e+04    |\n",
      "-----------------------------------------\n",
      "------------------------------------------\n",
      "| rollout/                |              |\n",
      "|    ep_len_mean          | 720          |\n",
      "|    ep_rew_mean          | -9785.97     |\n",
      "| time/                   |              |\n",
      "|    fps                  | 174          |\n",
      "|    iterations           | 7            |\n",
      "|    time_elapsed         | 5264         |\n",
      "|    total_timesteps      | 917504       |\n",
      "| train/                  |              |\n",
      "|    approx_kl            | 0.0015846759 |\n",
      "|    clip_fraction        | 0.00756      |\n",
      "|    clip_range           | 0.1          |\n",
      "|    entropy_loss         | -2.04        |\n",
      "|    explained_variance   | 5.36e-07     |\n",
      "|    learning_rate        | 0.00025      |\n",
      "|    loss                 | 2.75e+04     |\n",
      "|    n_updates            | 24           |\n",
      "|    policy_gradient_loss | -0.000723    |\n",
      "|    value_loss           | 6.09e+04     |\n",
      "------------------------------------------\n",
      "------------------------------------------\n",
      "| rollout/                |              |\n",
      "|    ep_len_mean          | 720          |\n",
      "|    ep_rew_mean          | -9718.008    |\n",
      "| time/                   |              |\n",
      "|    fps                  | 175          |\n",
      "|    iterations           | 8            |\n",
      "|    time_elapsed         | 5969         |\n",
      "|    total_timesteps      | 1048576      |\n",
      "| train/                  |              |\n",
      "|    approx_kl            | 0.0015413581 |\n",
      "|    clip_fraction        | 0.0058       |\n",
      "|    clip_range           | 0.1          |\n",
      "|    entropy_loss         | -2.03        |\n",
      "|    explained_variance   | 2.38e-07     |\n",
      "|    learning_rate        | 0.00025      |\n",
      "|    loss                 | 2.38e+04     |\n",
      "|    n_updates            | 28           |\n",
      "|    policy_gradient_loss | -0.000526    |\n",
      "|    value_loss           | 5.73e+04     |\n",
      "------------------------------------------\n"
     ]
    },
    {
     "data": {
      "text/plain": [
       "<stable_baselines3.ppo.ppo.PPO at 0x28640f46ca0>"
      ]
     },
     "execution_count": 46,
     "metadata": {},
     "output_type": "execute_result"
    }
   ],
   "source": [
    "TRAIN_TIME = 1e6\n",
    "model.learn(total_timesteps=TRAIN_TIME)"
   ]
  },
  {
   "cell_type": "code",
   "execution_count": 47,
   "metadata": {},
   "outputs": [
    {
     "name": "stdout",
     "output_type": "stream",
     "text": [
      "-143693.29015433788\n",
      "0.0\n"
     ]
    }
   ],
   "source": [
    "# Evaluate trained agent\n",
    "csv_path = os.path.join(csv_dir, \"trained.csv\")\n",
    "tb_log_dir = os.path.join(\"logs\",\"grid4x4\",f\"PPO_{TEST_NUM}\",\"eval_trained\")\n",
    "\n",
    "mean_reward_trained, std_reward_trained = evaluate(model, env, csv_path, tb_log_dir, n_eval_episodes=1)\n",
    "\n",
    "print(mean_reward_trained)\n",
    "print(std_reward_trained)"
   ]
  },
  {
   "cell_type": "code",
   "execution_count": 48,
   "metadata": {},
   "outputs": [
    {
     "data": {
      "text/plain": [
       "'logs\\\\grid4x4\\\\PPO_3\\\\eval_untrained'"
      ]
     },
     "execution_count": 48,
     "metadata": {},
     "output_type": "execute_result"
    }
   ],
   "source": [
    "# Move untrained.csv into numbered directory\n",
    "import shutil\n",
    "\n",
    "original = os.path.join(\"logs\",\"grid4x4\",\"eval_untrained\")\n",
    "target = os.path.join(\"logs\",\"grid4x4\",f\"PPO_{TEST_NUM}\",\"eval_untrained\")\n",
    "\n",
    "shutil.move(original, target)"
   ]
  },
  {
   "attachments": {},
   "cell_type": "markdown",
   "metadata": {},
   "source": [
    "### Save Model"
   ]
  },
  {
   "cell_type": "code",
   "execution_count": 49,
   "metadata": {},
   "outputs": [],
   "source": [
    "model.save(os.path.join(\"saved_models\",f\"PPO_grid4x4_{TEST_NUM}\"))"
   ]
  },
  {
   "attachments": {},
   "cell_type": "markdown",
   "metadata": {},
   "source": [
    "## Process Results"
   ]
  },
  {
   "cell_type": "code",
   "execution_count": 50,
   "metadata": {},
   "outputs": [],
   "source": [
    "import csv\n",
    "\n",
    "data = [env_params[\"net_file\"], TEST_NUM, env_params[\"reward_fn\"].__name__, mean_reward_untrained, mean_reward_trained, TRAIN_TIME, \"resco\"]\n",
    "\n",
    "with open(\"test_results.csv\", \"a\", encoding=\"UTF8\", newline=\"\") as f:\n",
    "    writer = csv.writer(f)\n",
    "    writer.writerow(data)"
   ]
  },
  {
   "attachments": {},
   "cell_type": "markdown",
   "metadata": {},
   "source": [
    "## Render Video"
   ]
  },
  {
   "cell_type": "code",
   "execution_count": 51,
   "metadata": {},
   "outputs": [],
   "source": [
    "env_params.update({\"use_gui\": True, \"render_mode\": \"human\"})\n",
    "render_env = parallel_env(**env_params)\n",
    "\n",
    "# Maybe add frame-stacking here\n",
    "render_env = ss.pettingzoo_env_to_vec_env_v1(render_env)\n",
    "render_env = VecMonitor(render_env)"
   ]
  },
  {
   "cell_type": "code",
   "execution_count": 52,
   "metadata": {},
   "outputs": [],
   "source": [
    "import pyautogui\n",
    "\n",
    "model = PPO.load(os.path.join(\"saved_models\",\"PPO_grid4x4_1.zip\"))\n",
    "obs = render_env.reset()\n",
    "\n",
    "folder_path = os.path.join(\"renders\",\"grid4x4\",f\"test_{TEST_NUM}\")\n",
    "if not os.path.exists(folder_path):\n",
    "    os.makedirs(folder_path)\n",
    "\n",
    "max_time = render_env.unwrapped.par_env.unwrapped.env.sim_max_time\n",
    "delta_time = render_env.unwrapped.par_env.unwrapped.env.delta_time\n",
    "vid_length = round(max_time/delta_time)\n",
    "\n",
    "for i in range(vid_length):\n",
    "    actions, _ = model.predict(obs, deterministic=True)\n",
    "    obs, rewards, dones, infos = render_env.step(actions)\n",
    "\n",
    "    im = pyautogui.screenshot(\n",
    "        os.path.join(folder_path,f\"img{i}.jpg\"),\n",
    "        region=(0, 0, 2560, 1542)\n",
    "    )\n",
    "\n",
    "render_env.close()  # clean up"
   ]
  },
  {
   "cell_type": "code",
   "execution_count": 53,
   "metadata": {},
   "outputs": [
    {
     "data": {
      "text/plain": [
       "CompletedProcess(args=['ffmpeg', '-y', '-r', '5', '-i', 'renders\\\\grid4x4\\\\test_3\\\\img%d.jpg', 'videos\\\\grid4x4_3.mp4'], returncode=0)"
      ]
     },
     "execution_count": 53,
     "metadata": {},
     "output_type": "execute_result"
    }
   ],
   "source": [
    "import subprocess\n",
    "\n",
    "subprocess.run([\n",
    "    \"ffmpeg\", \"-y\", \"-r\", \"5\", \"-i\",\n",
    "    f\"renders\\\\grid4x4\\\\test_{TEST_NUM}\\\\img%d.jpg\",\n",
    "    f\"videos\\\\grid4x4_{TEST_NUM}.mp4\"\n",
    "])"
   ]
  },
  {
   "attachments": {},
   "cell_type": "markdown",
   "metadata": {},
   "source": [
    "## Clean-up"
   ]
  },
  {
   "cell_type": "code",
   "execution_count": 54,
   "metadata": {},
   "outputs": [],
   "source": [
    "env.close()\n",
    "render_env.close()"
   ]
  }
 ],
 "metadata": {
  "kernelspec": {
   "display_name": "rl",
   "language": "python",
   "name": "python3"
  },
  "language_info": {
   "codemirror_mode": {
    "name": "ipython",
    "version": 3
   },
   "file_extension": ".py",
   "mimetype": "text/x-python",
   "name": "python",
   "nbconvert_exporter": "python",
   "pygments_lexer": "ipython3",
   "version": "3.9.16"
  },
  "orig_nbformat": 4,
  "vscode": {
   "interpreter": {
    "hash": "732c5edff638c91026cc37889b73c340773ecf599b6624077a4552d06a9ec22c"
   }
  }
 },
 "nbformat": 4,
 "nbformat_minor": 2
}
