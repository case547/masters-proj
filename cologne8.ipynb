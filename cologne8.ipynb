{
 "cells": [
  {
   "attachments": {},
   "cell_type": "markdown",
   "metadata": {},
   "source": [
    "# Grid2x2 using RLlib"
   ]
  },
  {
   "cell_type": "code",
   "execution_count": 1,
   "metadata": {},
   "outputs": [],
   "source": [
    "import csv\n",
    "import os\n",
    "from typing import Optional\n",
    "\n",
    "import ray\n",
    "from ray.rllib.env.wrappers.multi_agent_env_compatibility import MultiAgentEnvCompatibility\n",
    "from ray.tune.registry import register_env\n",
    "\n",
    "from envs import MultiAgentSumoEnv\n",
    "from observation import Cologne8ObservationFunction\n",
    "from reward_functions import combined_reward"
   ]
  },
  {
   "cell_type": "code",
   "execution_count": 2,
   "metadata": {},
   "outputs": [],
   "source": [
    "import random\n",
    "import numpy as np\n",
    "import torch\n",
    "\n",
    "TEST_NUM = 1\n",
    "SEED = 23423  # default SUMO seed no.\n",
    "random.seed(SEED)\n",
    "np.random.seed(SEED)\n",
    "torch.manual_seed(SEED)\n",
    "\n",
    "ENV_NAME = \"cologne8\"\n",
    "OBS_CLASS = Cologne8ObservationFunction\n",
    "assert not os.path.exists(os.path.join(\"ray_checkpoints\",ENV_NAME,f\"test_{TEST_NUM}\"))"
   ]
  },
  {
   "cell_type": "code",
   "execution_count": 3,
   "metadata": {},
   "outputs": [],
   "source": [
    "def train_env_creator(args):\n",
    "    env_params = {\n",
    "        \"net_file\": os.path.join(\"nets\",ENV_NAME,f\"{ENV_NAME}.net.xml\"),\n",
    "        \"route_file\": os.path.join(\"nets\",ENV_NAME,f\"{ENV_NAME}.rou.xml\"),\n",
    "        \"begin_time\": 25200,\n",
    "        \"num_seconds\": 3600,\n",
    "        \"reward_fn\": combined_reward,\n",
    "        \"sumo_seed\": SEED,\n",
    "        \"observation_class\": OBS_CLASS,\n",
    "        \"add_system_info\": False,\n",
    "    }\n",
    "    congestion_reward = combined_reward.__defaults__[0].__name__\n",
    "    alpha = combined_reward.__defaults__[1]  # congestion component coefficient\n",
    "    print(congestion_reward, alpha)\n",
    "\n",
    "    env = MultiAgentSumoEnv(**env_params)\n",
    "    return env"
   ]
  },
  {
   "cell_type": "code",
   "execution_count": 4,
   "metadata": {},
   "outputs": [
    {
     "name": "stdout",
     "output_type": "stream",
     "text": [
      "delta_wait_time_reward 0.875\n"
     ]
    }
   ],
   "source": [
    "from ray.rllib.algorithms.ppo import PPOConfig\n",
    "\n",
    "# From https://github.com/ray-project/ray/blob/master/rllib/tuned_examples/ppo/atari-ppo.yaml\n",
    "\n",
    "train_env = MultiAgentEnvCompatibility(train_env_creator({}))\n",
    "\n",
    "config: PPOConfig\n",
    "config = (\n",
    "    PPOConfig()\n",
    "    .environment(env=ENV_NAME)\n",
    "    .framework(framework=\"torch\")\n",
    "    .rollouts(\n",
    "        rollout_fragment_length=100,\n",
    "        num_rollout_workers=10,\n",
    "    )\n",
    "    .training(\n",
    "        lambda_=0.95,\n",
    "        kl_coeff=0.5,\n",
    "        clip_param=0.1,\n",
    "        vf_clip_param=10.0,\n",
    "        entropy_coeff=0.01,\n",
    "        train_batch_size=1000,\n",
    "        sgd_minibatch_size=100,\n",
    "        num_sgd_iter=10,\n",
    "    )\n",
    "    .evaluation(\n",
    "        evaluation_duration=1,\n",
    "        evaluation_num_workers=1,\n",
    "        evaluation_sample_timeout_s=300,\n",
    "    )\n",
    "    .debugging(seed=SEED)\n",
    "    .resources(num_gpus=int(os.environ.get(\"RLLIB_NUM_GPUS\", \"1\")))\n",
    "    .multi_agent(\n",
    "        policies=set(train_env.env.ts_ids),\n",
    "        policy_mapping_fn=(lambda agent_id, *args, **kwargs: agent_id),\n",
    "    )\n",
    "    .fault_tolerance(recreate_failed_workers=True)\n",
    ")"
   ]
  },
  {
   "cell_type": "code",
   "execution_count": 5,
   "metadata": {},
   "outputs": [],
   "source": [
    "csv_dir = os.path.join(\"outputs\",ENV_NAME,f\"test_{TEST_NUM}\")\n",
    "if not os.path.exists(csv_dir):\n",
    "    os.makedirs(csv_dir)"
   ]
  },
  {
   "attachments": {},
   "cell_type": "markdown",
   "metadata": {},
   "source": [
    "## Play Untrained Agent"
   ]
  },
  {
   "cell_type": "code",
   "execution_count": 6,
   "metadata": {},
   "outputs": [],
   "source": [
    "def eval_env_creator(csv_path: Optional[str] = None, tb_log_dir: Optional[str] = None):\n",
    "    env_params = {\n",
    "        \"net_file\": os.path.join(\"nets\",ENV_NAME,f\"{ENV_NAME}.net.xml\"),\n",
    "        \"route_file\": os.path.join(\"nets\",ENV_NAME,f\"{ENV_NAME}.rou.xml\"),\n",
    "        \"begin_time\": 25200,\n",
    "        \"num_seconds\": 3600,\n",
    "        \"reward_fn\": combined_reward,\n",
    "        \"sumo_seed\": SEED,\n",
    "        \"observation_class\": OBS_CLASS,\n",
    "        \"add_system_info\": False,\n",
    "    }\n",
    "    congestion_reward = combined_reward.__defaults__[0].__name__\n",
    "    alpha = combined_reward.__defaults__[1]  # congestion component coefficient\n",
    "    print(congestion_reward, alpha)\n",
    "\n",
    "    env = MultiAgentSumoEnv(eval=True, csv_path=csv_path, tb_log_dir=tb_log_dir, **env_params)\n",
    "    return env"
   ]
  },
  {
   "cell_type": "code",
   "execution_count": 7,
   "metadata": {},
   "outputs": [
    {
     "name": "stderr",
     "output_type": "stream",
     "text": [
      "2023-06-06 15:57:48,506\tINFO worker.py:1625 -- Started a local Ray instance.\n"
     ]
    }
   ],
   "source": [
    "ray.init()\n",
    "\n",
    "csv_path = os.path.join(csv_dir, \"untrained.csv\")\n",
    "tb_log_dir = os.path.join(\"logs\", ENV_NAME, f\"PPO_{TEST_NUM}\", \"eval_untrained\")\n",
    "\n",
    "with open(csv_path, \"a\", newline=\"\") as f:\n",
    "    csv_writer = csv.writer(f)\n",
    "    csv_writer.writerow([\"sim_time\", \"arrived_num\", \"sys_tyre_pm\", \"sys_stopped\",\n",
    "                         \"sys_total_wait\", \"sys_avg_wait\", \"sys_avg_speed\",\n",
    "                         \"agents_tyre_pm\", \"agents_stopped\", \"agents_total_wait\",\n",
    "                         \"agents_avg_speed\", \"agents_total_pressure\"])\n",
    "\n",
    "register_env(ENV_NAME, lambda config: MultiAgentEnvCompatibility(eval_env_creator(csv_path, tb_log_dir)))"
   ]
  },
  {
   "cell_type": "code",
   "execution_count": 8,
   "metadata": {},
   "outputs": [
    {
     "name": "stderr",
     "output_type": "stream",
     "text": [
      "2023-06-06 15:57:52,855\tWARNING algorithm_config.py:784 -- You have specified 1 evaluation workers, but your `evaluation_interval` is None! Therefore, evaluation will not occur automatically with each call to `Algorithm.train()`. Instead, you will have to call `Algorithm.evaluate()` manually in order to trigger an evaluation run.\n",
      "2023-06-06 15:57:52,889\tINFO algorithm.py:527 -- Current log_level is WARN. For more information, set 'log_level': 'INFO' / 'DEBUG' or use the -v and -vv flags.\n"
     ]
    },
    {
     "name": "stdout",
     "output_type": "stream",
     "text": [
      "\u001b[2m\u001b[36m(RolloutWorker pid=21784)\u001b[0m delta_wait_time_reward 0.875\n",
      "\u001b[2m\u001b[36m(RolloutWorker pid=6072)\u001b[0m Step #0.00 (0ms ?*RT. ?UPS, TraCI: 16ms, vehicles TOT 0 ACT 0 BUF 0)                     \n"
     ]
    },
    {
     "name": "stderr",
     "output_type": "stream",
     "text": [
      "\u001b[2m\u001b[36m(RolloutWorker pid=24172)\u001b[0m 2023-06-06 15:58:00,487\tWARNING env.py:285 -- Your MultiAgentEnv <MultiAgentEnvCompatibility instance> does not have some or all of the needed base-class attributes! Make sure you call `super().__init__()` from within your MutiAgentEnv's constructor. This will raise an error in the future.\n",
      "2023-06-06 15:58:03,526\tWARNING algorithm_config.py:784 -- You have specified 1 evaluation workers, but your `evaluation_interval` is None! Therefore, evaluation will not occur automatically with each call to `Algorithm.train()`. Instead, you will have to call `Algorithm.evaluate()` manually in order to trigger an evaluation run.\n"
     ]
    },
    {
     "name": "stdout",
     "output_type": "stream",
     "text": [
      "\u001b[2m\u001b[36m(RolloutWorker pid=6444)\u001b[0m delta_wait_time_reward 0.875\u001b[32m [repeated 10x across cluster] (Ray deduplicates logs by default. Set RAY_DEDUP_LOGS=0 to disable log deduplication, or see https://docs.ray.io/en/master/ray-observability/ray-logging.html#log-deduplication for more options.)\u001b[0m\n",
      "\u001b[2m\u001b[36m(RolloutWorker pid=15576)\u001b[0m Step #0.00 (0ms ?*RT. ?UPS, TraCI: 20ms, vehicles TOT 0 ACT 0 BUF 0)                     \u001b[32m [repeated 9x across cluster]\u001b[0m\n"
     ]
    },
    {
     "name": "stderr",
     "output_type": "stream",
     "text": [
      "\u001b[2m\u001b[36m(RolloutWorker pid=6444)\u001b[0m 2023-06-06 15:58:08,002\tWARNING env.py:285 -- Your MultiAgentEnv <MultiAgentEnvCompatibility instance> does not have some or all of the needed base-class attributes! Make sure you call `super().__init__()` from within your MutiAgentEnv's constructor. This will raise an error in the future.\n",
      "2023-06-06 15:58:08,257\tINFO trainable.py:172 -- Trainable.setup took 15.372 seconds. If your trainable is slow to initialize, consider setting reuse_actors=True to reduce actor creation overheads.\n"
     ]
    }
   ],
   "source": [
    "algo = config.build()"
   ]
  },
  {
   "cell_type": "code",
   "execution_count": 9,
   "metadata": {},
   "outputs": [
    {
     "name": "stderr",
     "output_type": "stream",
     "text": [
      "\u001b[2m\u001b[36m(RolloutWorker pid=6444)\u001b[0m 2023-06-06 16:01:23,564\tWARNING env_runner_v2.py:154 -- More than 5760 observations in 720 env steps for episode 522901342373682868 are buffered in the sampler. If this is more than you expected, check that that you set a horizon on your environment correctly and that it terminates at some point. Note: In multi-agent environments, `rollout_fragment_length` sets the batch size based on (across-agents) environment steps, not the steps of individual agents, which can result in unexpectedly large batches.Also, you may be waiting for your Env to terminate (batch_mode=`complete_episodes`). Make sure it does at some point.\n"
     ]
    },
    {
     "name": "stdout",
     "output_type": "stream",
     "text": [
      "Step #28800.00 (0ms ?*RT. ?UPS, TraCI: 320ms, vehicles TOT 2046 ACT 78 BUF 0)             s TOT 2 ACT 2 BUF 0)                  \n",
      "Step #28800.00 (0ms ?*RT. ?UPS, TraCI: 320ms, vehicles TOT 2046 ACT 78 BUF 0)             s TOT 2 ACT 2 BUF 0)                  \n"
     ]
    },
    {
     "data": {
      "text/plain": [
       "{'evaluation': {'episode_reward_max': -119341.47406456462,\n",
       "  'episode_reward_min': -119341.47406456462,\n",
       "  'episode_reward_mean': -119341.47406456462,\n",
       "  'episode_len_mean': 720.0,\n",
       "  'episode_media': {},\n",
       "  'episodes_this_iter': 1,\n",
       "  'policy_reward_min': {'247379907': -25146.52560635597,\n",
       "   '252017285': -9602.611715454253,\n",
       "   '256201389': -205.03901679367402,\n",
       "   '26110729': -54602.845117381265,\n",
       "   '280120513': -3965.094053775799,\n",
       "   '32319828': -1839.3006509249046,\n",
       "   '62426694': -3769.540023045584,\n",
       "   'cluster_1098574052_1098574061_247379905': -20210.517880832806},\n",
       "  'policy_reward_max': {'247379907': -25146.52560635597,\n",
       "   '252017285': -9602.611715454253,\n",
       "   '256201389': -205.03901679367402,\n",
       "   '26110729': -54602.845117381265,\n",
       "   '280120513': -3965.094053775799,\n",
       "   '32319828': -1839.3006509249046,\n",
       "   '62426694': -3769.540023045584,\n",
       "   'cluster_1098574052_1098574061_247379905': -20210.517880832806},\n",
       "  'policy_reward_mean': {'247379907': -25146.52560635597,\n",
       "   '252017285': -9602.611715454253,\n",
       "   '256201389': -205.03901679367402,\n",
       "   '26110729': -54602.845117381265,\n",
       "   '280120513': -3965.094053775799,\n",
       "   '32319828': -1839.3006509249046,\n",
       "   '62426694': -3769.540023045584,\n",
       "   'cluster_1098574052_1098574061_247379905': -20210.517880832806},\n",
       "  'custom_metrics': {},\n",
       "  'hist_stats': {'episode_reward': [-119341.47406456462],\n",
       "   'episode_lengths': [720],\n",
       "   'policy_247379907_reward': [-25146.52560635597],\n",
       "   'policy_252017285_reward': [-9602.611715454253],\n",
       "   'policy_256201389_reward': [-205.03901679367402],\n",
       "   'policy_26110729_reward': [-54602.845117381265],\n",
       "   'policy_280120513_reward': [-3965.094053775799],\n",
       "   'policy_32319828_reward': [-1839.3006509249046],\n",
       "   'policy_62426694_reward': [-3769.540023045584],\n",
       "   'policy_cluster_1098574052_1098574061_247379905_reward': [-20210.517880832806]},\n",
       "  'sampler_perf': {'mean_raw_obs_processing_ms': 5.00228434759767,\n",
       "   'mean_inference_ms': 5.238275091459616,\n",
       "   'mean_action_processing_ms': 0.5384447174495534,\n",
       "   'mean_env_wait_ms': 263.7609188831134,\n",
       "   'mean_env_render_ms': 0.0},\n",
       "  'num_faulty_episodes': 0,\n",
       "  'connector_metrics': {'ObsPreprocessorConnector_ms': 0.0,\n",
       "   'StateBufferConnector_ms': 0.0,\n",
       "   'ViewRequirementAgentConnector_ms': 0.0},\n",
       "  'num_agent_steps_sampled_this_iter': 5760,\n",
       "  'num_env_steps_sampled_this_iter': 720,\n",
       "  'timesteps_this_iter': 720}}"
      ]
     },
     "execution_count": 9,
     "metadata": {},
     "output_type": "execute_result"
    }
   ],
   "source": [
    "algo.evaluate()"
   ]
  },
  {
   "cell_type": "code",
   "execution_count": 10,
   "metadata": {},
   "outputs": [],
   "source": [
    "ray.shutdown()"
   ]
  },
  {
   "attachments": {},
   "cell_type": "markdown",
   "metadata": {},
   "source": [
    "## Train RL Agent"
   ]
  },
  {
   "cell_type": "code",
   "execution_count": 11,
   "metadata": {},
   "outputs": [
    {
     "name": "stderr",
     "output_type": "stream",
     "text": [
      "2023-06-06 16:01:31,129\tINFO worker.py:1625 -- Started a local Ray instance.\n"
     ]
    }
   ],
   "source": [
    "ray.init()\n",
    "\n",
    "register_env(ENV_NAME, lambda config: MultiAgentEnvCompatibility(train_env_creator(config)))"
   ]
  },
  {
   "cell_type": "code",
   "execution_count": 12,
   "metadata": {},
   "outputs": [
    {
     "name": "stderr",
     "output_type": "stream",
     "text": [
      "2023-06-06 16:01:35,439\tWARNING algorithm_config.py:784 -- You have specified 1 evaluation workers, but your `evaluation_interval` is None! Therefore, evaluation will not occur automatically with each call to `Algorithm.train()`. Instead, you will have to call `Algorithm.evaluate()` manually in order to trigger an evaluation run.\n"
     ]
    },
    {
     "name": "stdout",
     "output_type": "stream",
     "text": [
      "\u001b[2m\u001b[36m(RolloutWorker pid=20048)\u001b[0m delta_wait_time_reward 0.875\n",
      "\u001b[2m\u001b[36m(RolloutWorker pid=20048)\u001b[0m Step #0.00 (0ms ?*RT. ?UPS, TraCI: 13ms, vehicles TOT 0 ACT 0 BUF 0)                     \n"
     ]
    },
    {
     "name": "stderr",
     "output_type": "stream",
     "text": [
      "\u001b[2m\u001b[36m(RolloutWorker pid=1732)\u001b[0m 2023-06-06 16:01:43,234\tWARNING env.py:285 -- Your MultiAgentEnv <MultiAgentEnvCompatibility instance> does not have some or all of the needed base-class attributes! Make sure you call `super().__init__()` from within your MutiAgentEnv's constructor. This will raise an error in the future.\n",
      "2023-06-06 16:01:43,748\tWARNING algorithm_config.py:784 -- You have specified 1 evaluation workers, but your `evaluation_interval` is None! Therefore, evaluation will not occur automatically with each call to `Algorithm.train()`. Instead, you will have to call `Algorithm.evaluate()` manually in order to trigger an evaluation run.\n"
     ]
    },
    {
     "name": "stdout",
     "output_type": "stream",
     "text": [
      "\u001b[2m\u001b[36m(RolloutWorker pid=9260)\u001b[0m delta_wait_time_reward 0.875\u001b[32m [repeated 10x across cluster]\u001b[0m\n"
     ]
    },
    {
     "name": "stderr",
     "output_type": "stream",
     "text": [
      "\u001b[2m\u001b[36m(RolloutWorker pid=9260)\u001b[0m 2023-06-06 16:01:48,259\tWARNING env.py:285 -- Your MultiAgentEnv <MultiAgentEnvCompatibility instance> does not have some or all of the needed base-class attributes! Make sure you call `super().__init__()` from within your MutiAgentEnv's constructor. This will raise an error in the future.\n"
     ]
    },
    {
     "name": "stdout",
     "output_type": "stream",
     "text": [
      "\u001b[2m\u001b[36m(RolloutWorker pid=9260)\u001b[0m Step #0.00 (0ms ?*RT. ?UPS, TraCI: 12ms, vehicles TOT 0 ACT 0 BUF 0)                     \u001b[32m [repeated 10x across cluster]\u001b[0m\n"
     ]
    },
    {
     "name": "stderr",
     "output_type": "stream",
     "text": [
      "2023-06-06 16:01:48,503\tINFO trainable.py:172 -- Trainable.setup took 13.059 seconds. If your trainable is slow to initialize, consider setting reuse_actors=True to reduce actor creation overheads.\n"
     ]
    }
   ],
   "source": [
    "algo = config.build()"
   ]
  },
  {
   "cell_type": "code",
   "execution_count": 13,
   "metadata": {},
   "outputs": [
    {
     "name": "stderr",
     "output_type": "stream",
     "text": [
      "2023-06-06 16:02:03,424\tWARNING deprecation.py:50 -- DeprecationWarning: `_get_slice_indices` has been deprecated. This will raise an error in the future!\n",
      "\u001b[2m\u001b[36m(RolloutWorker pid=20048)\u001b[0m Warning: Vehicle '137709_412_0' performs emergency braking on lane ':26110729_2_0' with decel=9.00, wished=4.50, severity=1.00, time=25932.00.\n"
     ]
    },
    {
     "name": "stdout",
     "output_type": "stream",
     "text": [
      "Step #25900.00 (0ms ?*RT. ?UPS, TraCI: 122ms, vehicles TOT 395 ACT 89 BUF 0)              es TOT 2 ACT 2 BUF 0)                  \n"
     ]
    },
    {
     "name": "stderr",
     "output_type": "stream",
     "text": [
      "\u001b[2m\u001b[36m(RolloutWorker pid=21792)\u001b[0m Warning: Vehicle '188987_434_0' performs emergency braking on lane ':26110729_5_1' with decel=9.00, wished=4.50, severity=1.00, time=26154.00.\n"
     ]
    },
    {
     "name": "stdout",
     "output_type": "stream",
     "text": [
      "Step #26100.00 (1ms ~= 1000.00*RT, ~126000.00UPS, TraCI: 142ms, vehicles TOT 581 ACT 126 BCI: 49ms, vehicles TOT 2 ACT 2 BUF 0)  \n"
     ]
    },
    {
     "name": "stderr",
     "output_type": "stream",
     "text": [
      "\u001b[2m\u001b[36m(RolloutWorker pid=3060)\u001b[0m Warning: Vehicle '153757_420_0' performs emergency braking on lane ':280120513_1_0' with decel=9.00, wished=4.50, severity=1.00, time=26282.00.\n"
     ]
    },
    {
     "name": "stdout",
     "output_type": "stream",
     "text": [
      "Step #26200.00 (1ms ~= 1000.00*RT, ~138000.00UPS, TraCI: 230ms, vehicles TOT 661 ACT 138 BI: 55ms, vehicles TOT 2 ACT 2 BUF 0)  \n"
     ]
    },
    {
     "name": "stderr",
     "output_type": "stream",
     "text": [
      "\u001b[2m\u001b[36m(RolloutWorker pid=3060)\u001b[0m Warning: Vehicle '143048_415_0' performs emergency braking on lane ':280120513_1_0' with decel=9.00, wished=4.50, severity=1.00, time=26907.00.\n"
     ]
    },
    {
     "name": "stdout",
     "output_type": "stream",
     "text": [
      "Step #26900.00 (1ms ~= 1000.00*RT, ~90000.00UPS, TraCI: 128ms, vehicles TOT 1077 ACT 90 BUaCI: 180ms, vehicles TOT 760 ACT 176 B\n"
     ]
    },
    {
     "name": "stderr",
     "output_type": "stream",
     "text": [
      "\u001b[2m\u001b[36m(RolloutWorker pid=5640)\u001b[0m Warning: Vehicle '157684_421_0' performs emergency braking on lane ':32319828_6_0' with decel=9.00, wished=4.50, severity=1.00, time=27237.00.\n"
     ]
    },
    {
     "name": "stdout",
     "output_type": "stream",
     "text": [
      "Step #27200.00 (1ms ~= 1000.00*RT, ~87000.00UPS, TraCI: 186ms, vehicles TOT 1267 ACT 87 BUs TOT 2 ACT 2 BUF 0)                  \n"
     ]
    },
    {
     "name": "stderr",
     "output_type": "stream",
     "text": [
      "\u001b[2m\u001b[36m(RolloutWorker pid=13628)\u001b[0m Warning: Vehicle '210890_442_0' performs emergency braking on lane ':26110729_2_0' with decel=9.00, wished=4.50, severity=1.00, time=28422.00.\n"
     ]
    },
    {
     "name": "stdout",
     "output_type": "stream",
     "text": [
      "Step #28400.00 (1ms ~= 1000.00*RT, ~86000.00UPS, TraCI: 101ms, vehicles TOT 1876 ACT 86 BUCI: 44ms, vehicles TOT 2 ACT 2 BUF 0)  \n",
      "Step #28800.00 (0ms ?*RT. ?UPS, TraCI: 81ms, vehicles TOT 2046 ACT 35 BUF 0)              CI: 85ms, vehicles TOT 1325 ACT 74 BUF\n",
      "Step #28800.00 (1ms ~= 1000.00*RT, ~51000.00UPS, TraCI: 82ms, vehicles TOT 2046 ACT 51 BUFles TOT 661 ACT 120 BUF 0)             \n",
      "Step #28800.00 (0ms ?*RT. ?UPS, TraCI: 83ms, vehicles TOT 2046 ACT 51 BUF 0)              CI: 47ms, vehicles TOT 2 ACT 2 BUF 0)  \n",
      "Step #28800.00 (0ms ?*RT. ?UPS, TraCI: 88ms, vehicles TOT 2046 ACT 51 BUF 0)              I: 54ms, vehicles TOT 2 ACT 2 BUF 0)  \n",
      "Step #28800.00 (1ms ~= 1000.00*RT, ~54000.00UPS, TraCI: 85ms, vehicles TOT 2046 ACT 54 BUFraCI: 148ms, vehicles TOT 485 ACT 109 B\n",
      "Step #28800.00 (0ms ?*RT. ?UPS, TraCI: 76ms, vehicles TOT 2046 ACT 46 BUF 0)              I: 57ms, vehicles TOT 2 ACT 2 BUF 0)  \n",
      "Step #28800.00 (1ms ~= 1000.00*RT, ~57000.00UPS, TraCI: 68ms, vehicles TOT 2046 ACT 57 BUFI: 126ms, vehicles TOT 1139 ACT 94 BUF\n",
      "Step #28800.00 (1ms ~= 1000.00*RT, ~67000.00UPS, TraCI: 67ms, vehicles TOT 2046 ACT 67 BUFCI: 47ms, vehicles TOT 2 ACT 2 BUF 0)  \n",
      "Step #28800.00 (1ms ~= 1000.00*RT, ~60000.00UPS, TraCI: 71ms, vehicles TOT 2046 ACT 60 BUFaCI: 128ms, vehicles TOT 1933 ACT 73 BU\n",
      "Step #28800.00 (0ms ?*RT. ?UPS, TraCI: 54ms, vehicles TOT 2046 ACT 69 BUF 0)              I: 46ms, vehicles TOT 2 ACT 2 BUF 0)  \n"
     ]
    },
    {
     "name": "stderr",
     "output_type": "stream",
     "text": [
      "\u001b[2m\u001b[36m(RolloutWorker pid=20048)\u001b[0m Warning: Vehicle '188987_434_0' performs emergency braking on lane ':247379907_5_1' with decel=9.00, wished=4.50, severity=1.00, time=26180.00.\n",
      "\u001b[2m\u001b[36m(RolloutWorker pid=20048)\u001b[0m Warning: Vehicle '153757_420_0' performs emergency braking on lane ':280120513_1_0' with decel=9.00, wished=4.50, severity=1.00, time=26182.00.\n"
     ]
    },
    {
     "name": "stdout",
     "output_type": "stream",
     "text": [
      "Step #26100.00 (1ms ~= 1000.00*RT, ~98000.00UPS, TraCI: 206ms, vehicles TOT 582 ACT 98 BUFCI: 31ms, vehicles TOT 2 ACT 2 BUF 0)  \n",
      "Step #26100.00 (1ms ~= 1000.00*RT, ~114000.00UPS, TraCI: 247ms, vehicles TOT 578 ACT 114 BCI: 40ms, vehicles TOT 2 ACT 2 BUF 0)  \n"
     ]
    },
    {
     "name": "stderr",
     "output_type": "stream",
     "text": [
      "\u001b[2m\u001b[36m(RolloutWorker pid=2368)\u001b[0m Warning: Vehicle '243791_453_0' performs emergency braking on lane '186623965#9_1' with decel=9.00, wished=4.50, severity=1.00, time=27347.00.\u001b[32m [repeated 2x across cluster]\u001b[0m\n"
     ]
    },
    {
     "name": "stdout",
     "output_type": "stream",
     "text": [
      "Step #27300.00 (1ms ~= 1000.00*RT, ~58000.00UPS, TraCI: 100ms, vehicles TOT 1325 ACT 58 BUs TOT 2 ACT 2 BUF 0)                  \n"
     ]
    },
    {
     "name": "stderr",
     "output_type": "stream",
     "text": [
      "\u001b[2m\u001b[36m(RolloutWorker pid=18264)\u001b[0m Warning: Vehicle '170225_426_0' performs emergency braking on lane ':26110729_2_0' with decel=9.00, wished=4.50, severity=1.00, time=28362.00.\n"
     ]
    },
    {
     "name": "stdout",
     "output_type": "stream",
     "text": [
      "Step #28300.00 (0ms ?*RT. ?UPS, TraCI: 92ms, vehicles TOT 1813 ACT 53 BUF 2)              es TOT 2 ACT 2 BUF 0)                  \n",
      "Step #28800.00 (0ms ?*RT. ?UPS, TraCI: 116ms, vehicles TOT 2046 ACT 38 BUF 0)             s TOT 2 ACT 2 BUF 0)                  \n",
      "Step #28800.00 (0ms ?*RT. ?UPS, TraCI: 111ms, vehicles TOT 2046 ACT 35 BUF 0)             aCI: 107ms, vehicles TOT 1877 ACT 56 BU\n",
      "Step #28800.00 (0ms ?*RT. ?UPS, TraCI: 96ms, vehicles TOT 2046 ACT 36 BUF 0)              CI: 95ms, vehicles TOT 1369 ACT 55 BUF\n",
      "Step #28800.00 (1ms ~= 1000.00*RT, ~38000.00UPS, TraCI: 79ms, vehicles TOT 2046 ACT 38 BUFCI: 30ms, vehicles TOT 2 ACT 2 BUF 0)  \n",
      "Step #28800.00 (0ms ?*RT. ?UPS, TraCI: 91ms, vehicles TOT 2046 ACT 46 BUF 0)              raCI: 133ms, vehicles TOT 656 ACT 119 B\n",
      "Step #28800.00 (0ms ?*RT. ?UPS, TraCI: 83ms, vehicles TOT 2046 ACT 40 BUF 0)              CI: 38ms, vehicles TOT 2 ACT 2 BUF 0)  \n",
      "Step #28800.00 (0ms ?*RT. ?UPS, TraCI: 81ms, vehicles TOT 2046 ACT 38 BUF 0)              I: 27ms, vehicles TOT 2 ACT 2 BUF 0)  \n",
      "Step #28800.00 (0ms ?*RT. ?UPS, TraCI: 79ms, vehicles TOT 2046 ACT 41 BUF 0)              les TOT 661 ACT 93 BUF 0)              \n",
      "Step #28800.00 (0ms ?*RT. ?UPS, TraCI: 80ms, vehicles TOT 2046 ACT 44 BUF 0)              I: 33ms, vehicles TOT 2 ACT 2 BUF 0)  \n",
      "Step #28800.00 (0ms ?*RT. ?UPS, TraCI: 55ms, vehicles TOT 2046 ACT 48 BUF 0)              s TOT 2 ACT 2 BUF 0)                  \n"
     ]
    },
    {
     "name": "stderr",
     "output_type": "stream",
     "text": [
      "\u001b[2m\u001b[36m(RolloutWorker pid=18264)\u001b[0m Warning: Vehicle '163771_422_0' performs emergency braking on lane ':26110729_2_0' with decel=9.00, wished=4.50, severity=1.00, time=25832.00.\n"
     ]
    },
    {
     "name": "stdout",
     "output_type": "stream",
     "text": [
      "Step #25800.00 (1ms ~= 1000.00*RT, ~48000.00UPS, TraCI: 89ms, vehicles TOT 330 ACT 48 BUF es TOT 2 ACT 2 BUF 0)                  \n"
     ]
    },
    {
     "name": "stderr",
     "output_type": "stream",
     "text": [
      "\u001b[2m\u001b[36m(RolloutWorker pid=9256)\u001b[0m Warning: Vehicle '156190_420_0' performs emergency braking on lane '-23686088#0_0' with decel=9.00, wished=4.50, severity=1.00, time=26077.00.\n"
     ]
    },
    {
     "name": "stdout",
     "output_type": "stream",
     "text": [
      "Step #26000.00 (0ms ?*RT. ?UPS, TraCI: 151ms, vehicles TOT 485 ACT 81 BUF 1)              I: 50ms, vehicles TOT 2 ACT 2 BUF 0)  \n"
     ]
    },
    {
     "name": "stderr",
     "output_type": "stream",
     "text": [
      "\u001b[2m\u001b[36m(RolloutWorker pid=5640)\u001b[0m Warning: Vehicle '160119_421_0' performs emergency braking on lane ':26110729_2_0' with decel=9.00, wished=4.50, severity=1.00, time=26467.00.\n"
     ]
    },
    {
     "name": "stdout",
     "output_type": "stream",
     "text": [
      "Step #26400.00 (0ms ?*RT. ?UPS, TraCI: 137ms, vehicles TOT 816 ACT 104 BUF 7)             I: 32ms, vehicles TOT 2 ACT 2 BUF 0)  \n"
     ]
    },
    {
     "name": "stderr",
     "output_type": "stream",
     "text": [
      "\u001b[2m\u001b[36m(RolloutWorker pid=5640)\u001b[0m Warning: Vehicle '217444_446_0' performs emergency braking on lane '-23686088#0_0' with decel=9.00, wished=4.50, severity=1.00, time=27612.00.\n"
     ]
    },
    {
     "name": "stdout",
     "output_type": "stream",
     "text": [
      "Step #27600.00 (0ms ?*RT. ?UPS, TraCI: 137ms, vehicles TOT 1488 ACT 82 BUF 0)             CI: 191ms, vehicles TOT 869 ACT 96 BUF\n"
     ]
    },
    {
     "name": "stderr",
     "output_type": "stream",
     "text": [
      "\u001b[2m\u001b[36m(RolloutWorker pid=13628)\u001b[0m Warning: Vehicle '238045_451_0' performs emergency braking on lane ':26110729_2_0' with decel=9.00, wished=4.50, severity=1.00, time=28372.00.\n"
     ]
    },
    {
     "name": "stdout",
     "output_type": "stream",
     "text": [
      "Step #28300.00 (1ms ~= 1000.00*RT, ~54000.00UPS, TraCI: 93ms, vehicles TOT 1814 ACT 54 BUFes TOT 2 ACT 2 BUF 0)                  \n",
      "Step #28800.00 (0ms ?*RT. ?UPS, TraCI: 121ms, vehicles TOT 2046 ACT 33 BUF 0)             es TOT 2 ACT 2 BUF 0)                  \n",
      "Step #28800.00 (0ms ?*RT. ?UPS, TraCI: 129ms, vehicles TOT 2046 ACT 38 BUF 0)             CI: 146ms, vehicles TOT 1543 ACT 92 BU\n",
      "Step #28800.00 (0ms ?*RT. ?UPS, TraCI: 103ms, vehicles TOT 2046 ACT 41 BUF 0)             aCI: 104ms, vehicles TOT 1876 ACT 59 BU\n",
      "Step #28800.00 (0ms ?*RT. ?UPS, TraCI: 98ms, vehicles TOT 2046 ACT 36 BUF 0)              I: 28ms, vehicles TOT 2 ACT 2 BUF 0)  \n",
      "Step #28800.00 (0ms ?*RT. ?UPS, TraCI: 99ms, vehicles TOT 2046 ACT 38 BUF 0)              les TOT 395 ACT 57 BUF 0)              \n",
      "Step #28800.00 (1ms ~= 1000.00*RT, ~44000.00UPS, TraCI: 86ms, vehicles TOT 2046 ACT 44 BUFCI: 42ms, vehicles TOT 2 ACT 2 BUF 0)  \n",
      "Step #28800.00 (0ms ?*RT. ?UPS, TraCI: 84ms, vehicles TOT 2046 ACT 43 BUF 0)              aCI: 127ms, vehicles TOT 582 ACT 101 B\n",
      "Step #28800.00 (1ms ~= 1000.00*RT, ~39000.00UPS, TraCI: 76ms, vehicles TOT 2046 ACT 39 BUFI: 45ms, vehicles TOT 2 ACT 2 BUF 0)  \n",
      "Step #28800.00 (0ms ?*RT. ?UPS, TraCI: 66ms, vehicles TOT 2046 ACT 51 BUF 0)              I: 29ms, vehicles TOT 2 ACT 2 BUF 0)  \n",
      "Step #28800.00 (0ms ?*RT. ?UPS, TraCI: 69ms, vehicles TOT 2046 ACT 48 BUF 0)              CI: 31ms, vehicles TOT 2 ACT 2 BUF 0)  \n"
     ]
    },
    {
     "name": "stderr",
     "output_type": "stream",
     "text": [
      "\u001b[2m\u001b[36m(RolloutWorker pid=5640)\u001b[0m Warning: Vehicle '122500_406_0' performs emergency braking on lane ':32319828_6_0' with decel=9.00, wished=4.50, severity=1.00, time=25892.00.\n"
     ]
    },
    {
     "name": "stdout",
     "output_type": "stream",
     "text": [
      "Step #25800.00 (1ms ~= 1000.00*RT, ~47000.00UPS, TraCI: 80ms, vehicles TOT 330 ACT 47 BUF I: 29ms, vehicles TOT 2 ACT 2 BUF 0)  \n",
      "Step #28800.00 (1ms ~= 1000.00*RT, ~36000.00UPS, TraCI: 159ms, vehicles TOT 2046 ACT 36 BUes TOT 2 ACT 2 BUF 0)                  \n",
      "Step #28800.00 (0ms ?*RT. ?UPS, TraCI: 138ms, vehicles TOT 2046 ACT 33 BUF 0)             I: 39ms, vehicles TOT 2 ACT 2 BUF 0)  \n",
      "Step #28800.00 (0ms ?*RT. ?UPS, TraCI: 121ms, vehicles TOT 2046 ACT 31 BUF 0)             s TOT 2 ACT 2 BUF 0)                  \n",
      "Step #28800.00 (0ms ?*RT. ?UPS, TraCI: 125ms, vehicles TOT 2046 ACT 34 BUF 0)             CI: 47ms, vehicles TOT 2 ACT 2 BUF 0)  \n",
      "Step #28800.00 (1ms ~= 1000.00*RT, ~38000.00UPS, TraCI: 134ms, vehicles TOT 2046 ACT 38 BUI: 39ms, vehicles TOT 2 ACT 2 BUF 0)  \n",
      "Step #28800.00 (1ms ~= 1000.00*RT, ~40000.00UPS, TraCI: 121ms, vehicles TOT 2046 ACT 40 BUCI: 33ms, vehicles TOT 2 ACT 2 BUF 0)  \n",
      "Step #28800.00 (0ms ?*RT. ?UPS, TraCI: 104ms, vehicles TOT 2046 ACT 46 BUF 0)             I: 53ms, vehicles TOT 2 ACT 2 BUF 0)  \n",
      "Step #28800.00 (0ms ?*RT. ?UPS, TraCI: 101ms, vehicles TOT 2046 ACT 38 BUF 0)             CI: 39ms, vehicles TOT 2 ACT 2 BUF 0)  \n",
      "Step #28800.00 (0ms ?*RT. ?UPS, TraCI: 96ms, vehicles TOT 2046 ACT 37 BUF 0)              es TOT 395 ACT 50 BUF 0)              \n",
      "Step #28800.00 (0ms ?*RT. ?UPS, TraCI: 80ms, vehicles TOT 2046 ACT 36 BUF 0)              CI: 29ms, vehicles TOT 2 ACT 2 BUF 0)  \n"
     ]
    },
    {
     "name": "stderr",
     "output_type": "stream",
     "text": [
      "\u001b[2m\u001b[36m(RolloutWorker pid=3060)\u001b[0m Warning: Vehicle '212452_443_0' performs emergency braking on lane ':247379907_5_1' with decel=9.00, wished=4.50, severity=1.00, time=27264.00.\n"
     ]
    },
    {
     "name": "stdout",
     "output_type": "stream",
     "text": [
      "Step #27200.00 (1ms ~= 1000.00*RT, ~50000.00UPS, TraCI: 70ms, vehicles TOT 1267 ACT 50 BUFI: 50ms, vehicles TOT 2 ACT 2 BUF 0)  \n",
      "Step #28800.00 (1ms ~= 1000.00*RT, ~32000.00UPS, TraCI: 100ms, vehicles TOT 2046 ACT 32 BUCI: 49ms, vehicles TOT 2 ACT 2 BUF 0)  \n",
      "Step #28800.00 (0ms ?*RT. ?UPS, TraCI: 104ms, vehicles TOT 2046 ACT 36 BUF 0)             I: 31ms, vehicles TOT 2 ACT 2 BUF 0)  \n",
      "Step #28800.00 (0ms ?*RT. ?UPS, TraCI: 93ms, vehicles TOT 2046 ACT 34 BUF 0)              s TOT 1325 ACT 52 BUF 0)              \n",
      "Step #28800.00 (1ms ~= 1000.00*RT, ~32000.00UPS, TraCI: 101ms, vehicles TOT 2046 ACT 32 BUes TOT 2 ACT 2 BUF 0)                  \n",
      "Step #28800.00 (0ms ?*RT. ?UPS, TraCI: 95ms, vehicles TOT 2046 ACT 38 BUF 0)              es TOT 2 ACT 2 BUF 0)                  \n",
      "Step #28800.00 (0ms ?*RT. ?UPS, TraCI: 89ms, vehicles TOT 2046 ACT 37 BUF 0)              CI: 48ms, vehicles TOT 2 ACT 2 BUF 0)  \n",
      "Step #28800.00 (0ms ?*RT. ?UPS, TraCI: 87ms, vehicles TOT 2046 ACT 35 BUF 0)              I: 36ms, vehicles TOT 2 ACT 2 BUF 0)  \n",
      "Step #28800.00 (0ms ?*RT. ?UPS, TraCI: 78ms, vehicles TOT 2046 ACT 43 BUF 0)              CI: 36ms, vehicles TOT 2 ACT 2 BUF 0)  \n",
      "Step #28800.00 (0ms ?*RT. ?UPS, TraCI: 78ms, vehicles TOT 2046 ACT 40 BUF 0)              I: 47ms, vehicles TOT 2 ACT 2 BUF 0)  \n",
      "Step #28800.00 (0ms ?*RT. ?UPS, TraCI: 71ms, vehicles TOT 2046 ACT 38 BUF 0)              s TOT 2 ACT 2 BUF 0)                  \n"
     ]
    },
    {
     "name": "stderr",
     "output_type": "stream",
     "text": [
      "\u001b[2m\u001b[36m(RolloutWorker pid=13580)\u001b[0m Warning: Vehicle '158136_421_0' performs emergency braking on lane ':280120513_1_0' with decel=9.00, wished=4.50, severity=1.00, time=25312.00.\n"
     ]
    },
    {
     "name": "stdout",
     "output_type": "stream",
     "text": [
      "Step #25300.00 (0ms ?*RT. ?UPS, TraCI: 55ms, vehicles TOT 66 ACT 38 BUF 0)                CI: 26ms, vehicles TOT 2 ACT 2 BUF 0)  \n"
     ]
    },
    {
     "name": "stderr",
     "output_type": "stream",
     "text": [
      "\u001b[2m\u001b[36m(RolloutWorker pid=3060)\u001b[0m Warning: Vehicle '145084_416_0' performs emergency braking on lane ':26110729_2_0' with decel=9.00, wished=4.50, severity=1.00, time=26417.00.\n"
     ]
    },
    {
     "name": "stdout",
     "output_type": "stream",
     "text": [
      "Step #26400.00 (1ms ~= 1000.00*RT, ~100000.00UPS, TraCI: 92ms, vehicles TOT 821 ACT 100 BUI: 27ms, vehicles TOT 2 ACT 2 BUF 0)  \n",
      "Step #28800.00 (1ms ~= 1000.00*RT, ~32000.00UPS, TraCI: 58ms, vehicles TOT 2046 ACT 32 BUFCI: 28ms, vehicles TOT 2 ACT 2 BUF 0)  \n",
      "Step #28800.00 (0ms ?*RT. ?UPS, TraCI: 60ms, vehicles TOT 2046 ACT 31 BUF 0)              aCI: 57ms, vehicles TOT 104 ACT 33 BUF \n",
      "Step #28800.00 (0ms ?*RT. ?UPS, TraCI: 58ms, vehicles TOT 2046 ACT 34 BUF 0)              s TOT 2 ACT 2 BUF 0)                  \n",
      "Step #28800.00 (1ms ~= 1000.00*RT, ~34000.00UPS, TraCI: 56ms, vehicles TOT 2046 ACT 34 BUFes TOT 2 ACT 2 BUF 0)                  \n",
      "Step #28800.00 (0ms ?*RT. ?UPS, TraCI: 55ms, vehicles TOT 2046 ACT 38 BUF 0)              es TOT 2 ACT 2 BUF 0)                  \n",
      "Step #28800.00 (0ms ?*RT. ?UPS, TraCI: 52ms, vehicles TOT 2046 ACT 34 BUF 0)              CI: 88ms, vehicles TOT 873 ACT 85 BUF \n",
      "Step #28800.00 (0ms ?*RT. ?UPS, TraCI: 54ms, vehicles TOT 2046 ACT 36 BUF 0)              es TOT 2 ACT 2 BUF 0)                  \n",
      "Step #28800.00 (0ms ?*RT. ?UPS, TraCI: 37ms, vehicles TOT 2046 ACT 42 BUF 0)              I: 23ms, vehicles TOT 2 ACT 2 BUF 0)  \n",
      "Step #28800.00 (0ms ?*RT. ?UPS, TraCI: 50ms, vehicles TOT 2046 ACT 38 BUF 0)              I: 23ms, vehicles TOT 2 ACT 2 BUF 0)  \n",
      "Step #28800.00 (1ms ~= 1000.00*RT, ~39000.00UPS, TraCI: 51ms, vehicles TOT 2046 ACT 39 BUFI: 29ms, vehicles TOT 2 ACT 2 BUF 0)  \n"
     ]
    },
    {
     "name": "stderr",
     "output_type": "stream",
     "text": [
      "\u001b[2m\u001b[36m(RolloutWorker pid=5640)\u001b[0m Warning: Vehicle '120853_405_0' performs emergency braking on lane ':26110729_2_0' with decel=9.00, wished=4.50, severity=1.00, time=25782.00.\n"
     ]
    },
    {
     "name": "stdout",
     "output_type": "stream",
     "text": [
      "Step #25700.00 (0ms ?*RT. ?UPS, TraCI: 71ms, vehicles TOT 271 ACT 62 BUF 0)               I: 35ms, vehicles TOT 2 ACT 2 BUF 0)  \n"
     ]
    },
    {
     "name": "stderr",
     "output_type": "stream",
     "text": [
      "\u001b[2m\u001b[36m(RolloutWorker pid=9256)\u001b[0m Warning: Vehicle '143985_416_0' performs emergency braking on lane ':26110729_16_0' with decel=9.00, wished=4.50, severity=1.00, time=27077.00.\n"
     ]
    },
    {
     "name": "stdout",
     "output_type": "stream",
     "text": [
      "Step #27000.00 (1ms ~= 1000.00*RT, ~57000.00UPS, TraCI: 63ms, vehicles TOT 1139 ACT 57 BUFs TOT 2 ACT 2 BUF 0)                  \n",
      "Step #28800.00 (1ms ~= 1000.00*RT, ~33000.00UPS, TraCI: 84ms, vehicles TOT 2046 ACT 33 BUFI: 31ms, vehicles TOT 2 ACT 2 BUF 0)  \n",
      "Step #28800.00 (0ms ?*RT. ?UPS, TraCI: 66ms, vehicles TOT 2046 ACT 31 BUF 0)              es TOT 2 ACT 2 BUF 0)                  \n",
      "Step #28800.00 (1ms ~= 1000.00*RT, ~32000.00UPS, TraCI: 67ms, vehicles TOT 2046 ACT 32 BUFCI: 62ms, vehicles TOT 330 ACT 41 BUF \n",
      "Step #28800.00 (1ms ~= 1000.00*RT, ~33000.00UPS, TraCI: 64ms, vehicles TOT 2046 ACT 33 BUFes TOT 2 ACT 2 BUF 0)                  \n",
      "Step #28800.00 (1ms ~= 1000.00*RT, ~36000.00UPS, TraCI: 60ms, vehicles TOT 2046 ACT 36 BUFCI: 27ms, vehicles TOT 2 ACT 2 BUF 0)  \n",
      "Step #28800.00 (0ms ?*RT. ?UPS, TraCI: 63ms, vehicles TOT 2046 ACT 38 BUF 0)              CI: 120ms, vehicles TOT 1211 ACT 66 BU\n",
      "Step #28800.00 (0ms ?*RT. ?UPS, TraCI: 57ms, vehicles TOT 2046 ACT 39 BUF 0)              es TOT 2 ACT 2 BUF 0)                  \n",
      "Step #28800.00 (0ms ?*RT. ?UPS, TraCI: 47ms, vehicles TOT 2046 ACT 39 BUF 0)              I: 40ms, vehicles TOT 2 ACT 2 BUF 0)  \n",
      "Step #28800.00 (0ms ?*RT. ?UPS, TraCI: 46ms, vehicles TOT 2046 ACT 39 BUF 0)              I: 35ms, vehicles TOT 2 ACT 2 BUF 0)  \n",
      "Step #28800.00 (0ms ?*RT. ?UPS, TraCI: 46ms, vehicles TOT 2046 ACT 38 BUF 0)              CI: 28ms, vehicles TOT 2 ACT 2 BUF 0)  \n"
     ]
    },
    {
     "name": "stderr",
     "output_type": "stream",
     "text": [
      "\u001b[2m\u001b[36m(RolloutWorker pid=21792)\u001b[0m Warning: Vehicle '205391_440_0' performs emergency braking on lane ':26110729_16_0' with decel=9.00, wished=4.50, severity=1.00, time=26862.00.\n"
     ]
    },
    {
     "name": "stdout",
     "output_type": "stream",
     "text": [
      "Step #26800.00 (1ms ~= 1000.00*RT, ~63000.00UPS, TraCI: 66ms, vehicles TOT 1017 ACT 63 BUFCI: 24ms, vehicles TOT 2 ACT 2 BUF 0)  \n"
     ]
    },
    {
     "name": "stderr",
     "output_type": "stream",
     "text": [
      "\u001b[2m\u001b[36m(RolloutWorker pid=18264)\u001b[0m Warning: Vehicle '210188_441_0' performs emergency braking on lane ':247379907_5_1' with decel=9.00, wished=4.50, severity=1.00, time=27608.00.\n"
     ]
    },
    {
     "name": "stdout",
     "output_type": "stream",
     "text": [
      "Step #27600.00 (0ms ?*RT. ?UPS, TraCI: 88ms, vehicles TOT 1488 ACT 81 BUF 0)              es TOT 2 ACT 2 BUF 0)                  \n"
     ]
    },
    {
     "name": "stderr",
     "output_type": "stream",
     "text": [
      "\u001b[2m\u001b[36m(RolloutWorker pid=18264)\u001b[0m Warning: Vehicle '268146_465_0' performs emergency braking on lane '186623965#9_1' with decel=9.00, wished=4.50, severity=1.00, time=28445.00.\n"
     ]
    },
    {
     "name": "stdout",
     "output_type": "stream",
     "text": [
      "Step #28400.00 (1ms ~= 1000.00*RT, ~56000.00UPS, TraCI: 69ms, vehicles TOT 1877 ACT 56 BUFaCI: 81ms, vehicles TOT 1543 ACT 83 BUF\n",
      "Step #28800.00 (0ms ?*RT. ?UPS, TraCI: 81ms, vehicles TOT 2046 ACT 30 BUF 0)              CI: 32ms, vehicles TOT 2 ACT 2 BUF 0)  \n",
      "Step #28800.00 (0ms ?*RT. ?UPS, TraCI: 84ms, vehicles TOT 2046 ACT 36 BUF 0)              s TOT 2 ACT 2 BUF 0)                  \n",
      "Step #28800.00 (1ms ~= 1000.00*RT, ~39000.00UPS, TraCI: 86ms, vehicles TOT 2046 ACT 39 BUFs TOT 2 ACT 2 BUF 0)                  \n",
      "Step #28800.00 (0ms ?*RT. ?UPS, TraCI: 80ms, vehicles TOT 2046 ACT 34 BUF 0)              es TOT 1078 ACT 63 BUF 0)              \n",
      "Step #28800.00 (0ms ?*RT. ?UPS, TraCI: 74ms, vehicles TOT 2046 ACT 35 BUF 0)              CI: 25ms, vehicles TOT 2 ACT 2 BUF 0)  \n",
      "Step #28800.00 (0ms ?*RT. ?UPS, TraCI: 68ms, vehicles TOT 2046 ACT 41 BUF 0)              es TOT 2 ACT 2 BUF 0)                  \n",
      "Step #28800.00 (0ms ?*RT. ?UPS, TraCI: 63ms, vehicles TOT 2046 ACT 40 BUF 0)              les TOT 1933 ACT 63 BUF 0)             \n",
      "Step #28800.00 (0ms ?*RT. ?UPS, TraCI: 69ms, vehicles TOT 2046 ACT 37 BUF 0)              I: 28ms, vehicles TOT 2 ACT 2 BUF 0)  \n",
      "Step #28800.00 (0ms ?*RT. ?UPS, TraCI: 58ms, vehicles TOT 2046 ACT 37 BUF 0)              I: 25ms, vehicles TOT 2 ACT 2 BUF 0)  \n",
      "Step #28800.00 (0ms ?*RT. ?UPS, TraCI: 52ms, vehicles TOT 2046 ACT 40 BUF 0)              I: 33ms, vehicles TOT 2 ACT 2 BUF 0)  \n"
     ]
    },
    {
     "name": "stderr",
     "output_type": "stream",
     "text": [
      "\u001b[2m\u001b[36m(RolloutWorker pid=1732)\u001b[0m Warning: Vehicle '162220_421_0' performs emergency braking on lane ':26110729_5_1' with decel=9.00, wished=4.50, severity=1.00, time=25968.00.\n"
     ]
    },
    {
     "name": "stdout",
     "output_type": "stream",
     "text": [
      "Step #25900.00 (1ms ~= 1000.00*RT, ~49000.00UPS, TraCI: 132ms, vehicles TOT 395 ACT 49 BUFI: 37ms, vehicles TOT 2 ACT 2 BUF 0)  \n"
     ]
    },
    {
     "name": "stderr",
     "output_type": "stream",
     "text": [
      "\u001b[2m\u001b[36m(RolloutWorker pid=5640)\u001b[0m Warning: Vehicle '185145_432_0' performs emergency braking on lane ':26110729_5_1' with decel=9.00, wished=4.50, severity=1.00, time=26828.00.\u001b[32m [repeated 2x across cluster]\u001b[0m\n"
     ]
    },
    {
     "name": "stdout",
     "output_type": "stream",
     "text": [
      "Step #26800.00 (0ms ?*RT. ?UPS, TraCI: 52ms, vehicles TOT 1017 ACT 47 BUF 1)              s TOT 2 ACT 2 BUF 0)                  \n"
     ]
    },
    {
     "name": "stderr",
     "output_type": "stream",
     "text": [
      "\u001b[2m\u001b[36m(RolloutWorker pid=3060)\u001b[0m Warning: Vehicle '235972_451_0' performs emergency braking on lane ':26110729_5_1' with decel=9.00, wished=4.50, severity=1.00, time=28469.00.\n"
     ]
    },
    {
     "name": "stdout",
     "output_type": "stream",
     "text": [
      "Step #28400.00 (0ms ?*RT. ?UPS, TraCI: 117ms, vehicles TOT 1877 ACT 54 BUF 4)             I: 26ms, vehicles TOT 2 ACT 2 BUF 0)  \n",
      "Step #28800.00 (1ms ~= 1000.00*RT, ~34000.00UPS, TraCI: 105ms, vehicles TOT 2046 ACT 34 BUs TOT 1933 ACT 54 BUF 0)              \n",
      "Step #28800.00 (0ms ?*RT. ?UPS, TraCI: 98ms, vehicles TOT 2046 ACT 36 BUF 0)              es TOT 2 ACT 2 BUF 0)                  \n",
      "Step #28800.00 (0ms ?*RT. ?UPS, TraCI: 96ms, vehicles TOT 2046 ACT 33 BUF 0)              I: 37ms, vehicles TOT 2 ACT 2 BUF 0)  \n",
      "Step #28800.00 (0ms ?*RT. ?UPS, TraCI: 87ms, vehicles TOT 2046 ACT 35 BUF 0)              CI: 25ms, vehicles TOT 2 ACT 2 BUF 0)  \n",
      "Step #28800.00 (0ms ?*RT. ?UPS, TraCI: 84ms, vehicles TOT 2046 ACT 37 BUF 0)              es TOT 1077 ACT 56 BUF 1)             \n",
      "Step #28800.00 (0ms ?*RT. ?UPS, TraCI: 80ms, vehicles TOT 2046 ACT 35 BUF 0)              CI: 23ms, vehicles TOT 2 ACT 2 BUF 0)  \n",
      "Step #28800.00 (0ms ?*RT. ?UPS, TraCI: 72ms, vehicles TOT 2046 ACT 38 BUF 0)              CI: 77ms, vehicles TOT 485 ACT 79 BUF \n",
      "Step #28800.00 (0ms ?*RT. ?UPS, TraCI: 66ms, vehicles TOT 2046 ACT 39 BUF 0)              CI: 32ms, vehicles TOT 2 ACT 2 BUF 0)  \n",
      "Step #28800.00 (0ms ?*RT. ?UPS, TraCI: 73ms, vehicles TOT 2046 ACT 37 BUF 0)              s TOT 2 ACT 2 BUF 0)                  \n",
      "Step #28800.00 (0ms ?*RT. ?UPS, TraCI: 65ms, vehicles TOT 2046 ACT 41 BUF 0)              CI: 28ms, vehicles TOT 2 ACT 2 BUF 0)  \n"
     ]
    },
    {
     "name": "stderr",
     "output_type": "stream",
     "text": [
      "\u001b[2m\u001b[36m(RolloutWorker pid=20048)\u001b[0m Warning: Vehicle '166723_424_0' performs emergency braking on lane ':26110729_16_0' with decel=9.00, wished=4.50, severity=1.00, time=26157.00.\n"
     ]
    },
    {
     "name": "stdout",
     "output_type": "stream",
     "text": [
      "Step #26100.00 (1ms ~= 1000.00*RT, ~81000.00UPS, TraCI: 82ms, vehicles TOT 582 ACT 81 BUF es TOT 2 ACT 2 BUF 0)                  \n",
      "Step #28800.00 (1ms ~= 1000.00*RT, ~32000.00UPS, TraCI: 107ms, vehicles TOT 2046 ACT 32 BUes TOT 2 ACT 2 BUF 0)                  \n",
      "Step #28800.00 (1ms ~= 1000.00*RT, ~32000.00UPS, TraCI: 101ms, vehicles TOT 2046 ACT 32 BUI: 23ms, vehicles TOT 2 ACT 2 BUF 0)  \n",
      "Step #28800.00 (1ms ~= 1000.00*RT, ~30000.00UPS, TraCI: 99ms, vehicles TOT 2046 ACT 30 BUFI: 28ms, vehicles TOT 2 ACT 2 BUF 0)  \n",
      "Step #28800.00 (1ms ~= 1000.00*RT, ~42000.00UPS, TraCI: 99ms, vehicles TOT 2046 ACT 42 BUFaCI: 91ms, vehicles TOT 661 ACT 96 BUF \n",
      "Step #28800.00 (0ms ?*RT. ?UPS, TraCI: 99ms, vehicles TOT 2046 ACT 33 BUF 0)              CI: 27ms, vehicles TOT 2 ACT 2 BUF 0)  \n",
      "Step #28800.00 (1ms ~= 1000.00*RT, ~34000.00UPS, TraCI: 96ms, vehicles TOT 2046 ACT 34 BUFes TOT 2 ACT 2 BUF 0)                  \n",
      "Step #28800.00 (1ms ~= 1000.00*RT, ~34000.00UPS, TraCI: 99ms, vehicles TOT 2046 ACT 34 BUFI: 37ms, vehicles TOT 2 ACT 2 BUF 0)  \n",
      "Step #28800.00 (0ms ?*RT. ?UPS, TraCI: 97ms, vehicles TOT 2046 ACT 35 BUF 0)              I: 34ms, vehicles TOT 2 ACT 2 BUF 0)  \n",
      "Step #28800.00 (0ms ?*RT. ?UPS, TraCI: 72ms, vehicles TOT 2046 ACT 37 BUF 0)              s TOT 2 ACT 2 BUF 0)                  \n",
      "Step #28800.00 (0ms ?*RT. ?UPS, TraCI: 70ms, vehicles TOT 2046 ACT 44 BUF 0)              es TOT 2 ACT 2 BUF 0)                  \n"
     ]
    },
    {
     "name": "stderr",
     "output_type": "stream",
     "text": [
      "\u001b[2m\u001b[36m(RolloutWorker pid=13628)\u001b[0m Warning: Vehicle '186447_432_0' performs emergency braking on lane ':26110729_2_0' with decel=9.00, wished=4.50, severity=1.00, time=26052.00.\n"
     ]
    },
    {
     "name": "stdout",
     "output_type": "stream",
     "text": [
      "Step #26000.00 (1ms ~= 1000.00*RT, ~80000.00UPS, TraCI: 75ms, vehicles TOT 485 ACT 80 BUF es TOT 2 ACT 2 BUF 0)                  \n"
     ]
    },
    {
     "name": "stderr",
     "output_type": "stream",
     "text": [
      "\u001b[2m\u001b[36m(RolloutWorker pid=3060)\u001b[0m Warning: Vehicle '178875_430_0' performs emergency braking on lane ':26110729_5_1' with decel=9.00, wished=4.50, severity=1.00, time=26302.00.\n"
     ]
    },
    {
     "name": "stdout",
     "output_type": "stream",
     "text": [
      "Step #26300.00 (0ms ?*RT. ?UPS, TraCI: 96ms, vehicles TOT 762 ACT 117 BUF 1)              I: 26ms, vehicles TOT 2 ACT 2 BUF 0)  \n",
      "Step #28800.00 (0ms ?*RT. ?UPS, TraCI: 62ms, vehicles TOT 2046 ACT 30 BUF 0)              CI: 29ms, vehicles TOT 2 ACT 2 BUF 0)  \n",
      "Step #28800.00 (0ms ?*RT. ?UPS, TraCI: 62ms, vehicles TOT 2046 ACT 36 BUF 0)              aCI: 84ms, vehicles TOT 582 ACT 81 BUF \n",
      "Step #28800.00 (1ms ~= 1000.00*RT, ~36000.00UPS, TraCI: 56ms, vehicles TOT 2046 ACT 36 BUFI: 32ms, vehicles TOT 2 ACT 2 BUF 0)  \n",
      "Step #28800.00 (0ms ?*RT. ?UPS, TraCI: 54ms, vehicles TOT 2046 ACT 40 BUF 0)              CI: 24ms, vehicles TOT 2 ACT 2 BUF 0)  \n",
      "Step #28800.00 (0ms ?*RT. ?UPS, TraCI: 62ms, vehicles TOT 2046 ACT 36 BUF 0)              s TOT 821 ACT 97 BUF 2)               \n",
      "Step #28800.00 (1ms ~= 1000.00*RT, ~35000.00UPS, TraCI: 54ms, vehicles TOT 2046 ACT 35 BUFs TOT 2 ACT 2 BUF 0)                  \n",
      "Step #28800.00 (1ms ~= 1000.00*RT, ~39000.00UPS, TraCI: 48ms, vehicles TOT 2046 ACT 39 BUFCI: 25ms, vehicles TOT 2 ACT 2 BUF 0)  \n",
      "Step #28800.00 (0ms ?*RT. ?UPS, TraCI: 63ms, vehicles TOT 2046 ACT 37 BUF 0)              I: 29ms, vehicles TOT 2 ACT 2 BUF 0)  \n",
      "Step #28800.00 (0ms ?*RT. ?UPS, TraCI: 41ms, vehicles TOT 2046 ACT 44 BUF 0)              s TOT 2 ACT 2 BUF 0)                  \n",
      "Step #28800.00 (1ms ~= 1000.00*RT, ~44000.00UPS, TraCI: 37ms, vehicles TOT 2046 ACT 44 BUFCI: 27ms, vehicles TOT 2 ACT 2 BUF 0)  \n"
     ]
    },
    {
     "name": "stderr",
     "output_type": "stream",
     "text": [
      "\u001b[2m\u001b[36m(RolloutWorker pid=13628)\u001b[0m Warning: Vehicle '169726_426_0' performs emergency braking on lane ':26110729_2_0' with decel=9.00, wished=4.50, severity=1.00, time=26517.00.\n"
     ]
    },
    {
     "name": "stdout",
     "output_type": "stream",
     "text": [
      "Step #26500.00 (1ms ~= 1000.00*RT, ~89000.00UPS, TraCI: 90ms, vehicles TOT 867 ACT 89 BUF CI: 36ms, vehicles TOT 2 ACT 2 BUF 0)  \n",
      "Step #28800.00 (1ms ~= 1000.00*RT, ~35000.00UPS, TraCI: 70ms, vehicles TOT 2046 ACT 35 BUFI: 37ms, vehicles TOT 2 ACT 2 BUF 0)  \n",
      "Step #28800.00 (0ms ?*RT. ?UPS, TraCI: 64ms, vehicles TOT 2046 ACT 38 BUF 0)              es TOT 2 ACT 2 BUF 0)                  \n",
      "Step #28800.00 (1ms ~= 1000.00*RT, ~39000.00UPS, TraCI: 72ms, vehicles TOT 2046 ACT 39 BUFCI: 32ms, vehicles TOT 2 ACT 2 BUF 0)  \n",
      "Step #28800.00 (1ms ~= 1000.00*RT, ~38000.00UPS, TraCI: 66ms, vehicles TOT 2046 ACT 38 BUFI: 34ms, vehicles TOT 2 ACT 2 BUF 0)  \n",
      "Step #28800.00 (1ms ~= 1000.00*RT, ~37000.00UPS, TraCI: 65ms, vehicles TOT 2046 ACT 37 BUFles TOT 939 ACT 104 BUF 0)             \n",
      "Step #28800.00 (0ms ?*RT. ?UPS, TraCI: 60ms, vehicles TOT 2046 ACT 35 BUF 0)              s TOT 2 ACT 2 BUF 0)                  \n",
      "Step #28800.00 (1ms ~= 1000.00*RT, ~36000.00UPS, TraCI: 63ms, vehicles TOT 2046 ACT 36 BUFCI: 33ms, vehicles TOT 2 ACT 2 BUF 0)  \n",
      "Step #28800.00 (0ms ?*RT. ?UPS, TraCI: 48ms, vehicles TOT 2046 ACT 39 BUF 0)              CI: 36ms, vehicles TOT 2 ACT 2 BUF 0)  \n",
      "Step #28800.00 (0ms ?*RT. ?UPS, TraCI: 53ms, vehicles TOT 2046 ACT 41 BUF 0)              I: 33ms, vehicles TOT 2 ACT 2 BUF 0)  \n",
      "Step #28800.00 (0ms ?*RT. ?UPS, TraCI: 48ms, vehicles TOT 2046 ACT 43 BUF 0)              I: 35ms, vehicles TOT 2 ACT 2 BUF 0)  \n"
     ]
    },
    {
     "name": "stderr",
     "output_type": "stream",
     "text": [
      "\u001b[2m\u001b[36m(RolloutWorker pid=20048)\u001b[0m Warning: Vehicle '229837_450_0' performs emergency braking on lane ':26110729_2_0' with decel=9.00, wished=4.50, severity=1.00, time=28467.00.\n"
     ]
    },
    {
     "name": "stdout",
     "output_type": "stream",
     "text": [
      "Step #28400.00 (0ms ?*RT. ?UPS, TraCI: 70ms, vehicles TOT 1876 ACT 58 BUF 5)              CI: 26ms, vehicles TOT 2 ACT 2 BUF 0)  \n",
      "Step #28800.00 (1ms ~= 1000.00*RT, ~35000.00UPS, TraCI: 79ms, vehicles TOT 2046 ACT 35 BUFles TOT 1933 ACT 57 BUF 0)             \n",
      "Step #28800.00 (1ms ~= 1000.00*RT, ~33000.00UPS, TraCI: 82ms, vehicles TOT 2046 ACT 33 BUFs TOT 2 ACT 2 BUF 0)                  \n",
      "Step #28800.00 (1ms ~= 1000.00*RT, ~33000.00UPS, TraCI: 86ms, vehicles TOT 2046 ACT 33 BUFI: 32ms, vehicles TOT 2 ACT 2 BUF 0)  \n",
      "Step #28800.00 (1ms ~= 1000.00*RT, ~38000.00UPS, TraCI: 73ms, vehicles TOT 2046 ACT 38 BUFCI: 34ms, vehicles TOT 2 ACT 2 BUF 0)  \n",
      "Step #28800.00 (1ms ~= 1000.00*RT, ~37000.00UPS, TraCI: 67ms, vehicles TOT 2046 ACT 37 BUFes TOT 2 ACT 2 BUF 0)                  \n",
      "Step #28800.00 (0ms ?*RT. ?UPS, TraCI: 67ms, vehicles TOT 2046 ACT 36 BUF 0)              es TOT 2 ACT 2 BUF 0)                  \n",
      "Step #28800.00 (0ms ?*RT. ?UPS, TraCI: 63ms, vehicles TOT 2046 ACT 40 BUF 0)              CI: 33ms, vehicles TOT 2 ACT 2 BUF 0)  \n",
      "Step #28800.00 (1ms ~= 1000.00*RT, ~38000.00UPS, TraCI: 56ms, vehicles TOT 2046 ACT 38 BUFs TOT 2 ACT 2 BUF 0)                  \n",
      "Step #28800.00 (0ms ?*RT. ?UPS, TraCI: 61ms, vehicles TOT 2046 ACT 42 BUF 0)              s TOT 2 ACT 2 BUF 0)                  \n",
      "Step #28800.00 (0ms ?*RT. ?UPS, TraCI: 54ms, vehicles TOT 2046 ACT 46 BUF 0)              I: 26ms, vehicles TOT 2 ACT 2 BUF 0)  \n"
     ]
    },
    {
     "name": "stderr",
     "output_type": "stream",
     "text": [
      "\u001b[2m\u001b[36m(RolloutWorker pid=13628)\u001b[0m Warning: Vehicle '180743_430_0' performs emergency braking on lane ':26110729_5_1' with decel=9.00, wished=4.50, severity=1.00, time=26174.00.\n"
     ]
    },
    {
     "name": "stdout",
     "output_type": "stream",
     "text": [
      "Step #26100.00 (0ms ?*RT. ?UPS, TraCI: 85ms, vehicles TOT 579 ACT 92 BUF 3)               CI: 35ms, vehicles TOT 2 ACT 2 BUF 0)  \n"
     ]
    },
    {
     "name": "stderr",
     "output_type": "stream",
     "text": [
      "\u001b[2m\u001b[36m(RolloutWorker pid=9256)\u001b[0m Warning: Vehicle '167113_425_0' performs emergency braking on lane '186623965#9_1' with decel=9.00, wished=4.50, severity=1.00, time=26904.00.\n"
     ]
    },
    {
     "name": "stdout",
     "output_type": "stream",
     "text": [
      "Step #26900.00 (0ms ?*RT. ?UPS, TraCI: 138ms, vehicles TOT 1077 ACT 67 BUF 1)             I: 32ms, vehicles TOT 2 ACT 2 BUF 0)  \n",
      "Step #28800.00 (0ms ?*RT. ?UPS, TraCI: 94ms, vehicles TOT 2046 ACT 32 BUF 0)              I: 34ms, vehicles TOT 2 ACT 2 BUF 0)  \n",
      "Step #28800.00 (1ms ~= 1000.00*RT, ~34000.00UPS, TraCI: 90ms, vehicles TOT 2046 ACT 34 BUFles TOT 657 ACT 107 BUF 4)             \n",
      "Step #28800.00 (0ms ?*RT. ?UPS, TraCI: 89ms, vehicles TOT 2046 ACT 37 BUF 0)              s TOT 2 ACT 2 BUF 0)                  \n",
      "Step #28800.00 (0ms ?*RT. ?UPS, TraCI: 89ms, vehicles TOT 2046 ACT 31 BUF 0)              CI: 28ms, vehicles TOT 2 ACT 2 BUF 0)  \n",
      "Step #28800.00 (0ms ?*RT. ?UPS, TraCI: 86ms, vehicles TOT 2046 ACT 35 BUF 0)              es TOT 2 ACT 2 BUF 0)                  \n",
      "Step #28800.00 (1ms ~= 1000.00*RT, ~34000.00UPS, TraCI: 88ms, vehicles TOT 2046 ACT 34 BUFCI: 65ms, vehicles TOT 1139 ACT 56 BUF\n",
      "Step #28800.00 (1ms ~= 1000.00*RT, ~36000.00UPS, TraCI: 80ms, vehicles TOT 2046 ACT 36 BUFI: 37ms, vehicles TOT 2 ACT 2 BUF 0)  \n",
      "Step #28800.00 (0ms ?*RT. ?UPS, TraCI: 68ms, vehicles TOT 2046 ACT 36 BUF 0)              CI: 30ms, vehicles TOT 2 ACT 2 BUF 0)  \n",
      "Step #28800.00 (0ms ?*RT. ?UPS, TraCI: 68ms, vehicles TOT 2046 ACT 40 BUF 0)              I: 27ms, vehicles TOT 2 ACT 2 BUF 0)  \n",
      "Step #28800.00 (0ms ?*RT. ?UPS, TraCI: 61ms, vehicles TOT 2046 ACT 38 BUF 0)              CI: 30ms, vehicles TOT 2 ACT 2 BUF 0)  \n",
      "Step #28800.00 (1ms ~= 1000.00*RT, ~35000.00UPS, TraCI: 103ms, vehicles TOT 2046 ACT 35 BUCI: 27ms, vehicles TOT 2 ACT 2 BUF 0)  \n",
      "Step #28800.00 (0ms ?*RT. ?UPS, TraCI: 93ms, vehicles TOT 2046 ACT 34 BUF 0)              CI: 31ms, vehicles TOT 2 ACT 2 BUF 0)  \n",
      "Step #28800.00 (0ms ?*RT. ?UPS, TraCI: 101ms, vehicles TOT 2046 ACT 33 BUF 0)             s TOT 2 ACT 2 BUF 0)                  \n",
      "Step #28800.00 (0ms ?*RT. ?UPS, TraCI: 98ms, vehicles TOT 2046 ACT 34 BUF 0)              s TOT 2 ACT 2 BUF 0)                  \n",
      "Step #28800.00 (0ms ?*RT. ?UPS, TraCI: 100ms, vehicles TOT 2046 ACT 35 BUF 0)             es TOT 2 ACT 2 BUF 0)                  \n",
      "Step #28800.00 (0ms ?*RT. ?UPS, TraCI: 87ms, vehicles TOT 2046 ACT 39 BUF 0)              s TOT 2 ACT 2 BUF 0)                  \n",
      "Step #28800.00 (1ms ~= 1000.00*RT, ~40000.00UPS, TraCI: 82ms, vehicles TOT 2046 ACT 40 BUFes TOT 2 ACT 2 BUF 0)                  \n",
      "Step #28800.00 (0ms ?*RT. ?UPS, TraCI: 77ms, vehicles TOT 2046 ACT 43 BUF 0)              es TOT 2 ACT 2 BUF 0)                  \n",
      "Step #28800.00 (0ms ?*RT. ?UPS, TraCI: 77ms, vehicles TOT 2046 ACT 42 BUF 0)              s TOT 2 ACT 2 BUF 0)                  \n",
      "Step #28800.00 (0ms ?*RT. ?UPS, TraCI: 80ms, vehicles TOT 2046 ACT 47 BUF 0)              s TOT 2 ACT 2 BUF 0)                  \n"
     ]
    },
    {
     "name": "stderr",
     "output_type": "stream",
     "text": [
      "\u001b[2m\u001b[36m(RolloutWorker pid=21792)\u001b[0m Warning: Vehicle '179875_430_0' performs emergency braking on lane ':247379907_5_1' with decel=9.00, wished=4.50, severity=1.00, time=25980.00.\n"
     ]
    },
    {
     "name": "stdout",
     "output_type": "stream",
     "text": [
      "Step #25900.00 (1ms ~= 1000.00*RT, ~49000.00UPS, TraCI: 65ms, vehicles TOT 395 ACT 49 BUF CI: 26ms, vehicles TOT 2 ACT 2 BUF 0)  \n"
     ]
    },
    {
     "name": "stderr",
     "output_type": "stream",
     "text": [
      "\u001b[2m\u001b[36m(RolloutWorker pid=13628)\u001b[0m Warning: Vehicle '194935_436_0' performs emergency braking on lane '-186623965#16_1' with decel=9.00, wished=4.50, severity=1.00, time=26286.00.\n"
     ]
    },
    {
     "name": "stdout",
     "output_type": "stream",
     "text": [
      "Step #26200.00 (0ms ?*RT. ?UPS, TraCI: 144ms, vehicles TOT 657 ACT 105 BUF 4)             CI: 24ms, vehicles TOT 2 ACT 2 BUF 0)  \n",
      "Step #26300.00 (0ms ?*RT. ?UPS, TraCI: 87ms, vehicles TOT 761 ACT 111 BUF 2)              es TOT 2 ACT 2 BUF 0)                  \n"
     ]
    },
    {
     "name": "stderr",
     "output_type": "stream",
     "text": [
      "\u001b[2m\u001b[36m(RolloutWorker pid=18264)\u001b[0m Warning: Vehicle '244484_453_0' performs emergency braking on lane '-23686088#0_0' with decel=9.00, wished=4.50, severity=1.00, time=28507.00.\u001b[32m [repeated 2x across cluster]\u001b[0m\n"
     ]
    },
    {
     "name": "stdout",
     "output_type": "stream",
     "text": [
      "Step #28500.00 (0ms ?*RT. ?UPS, TraCI: 64ms, vehicles TOT 1933 ACT 53 BUF 0)              es TOT 822 ACT 92 BUF 1)               \n",
      "Step #28800.00 (1ms ~= 1000.00*RT, ~32000.00UPS, TraCI: 61ms, vehicles TOT 2046 ACT 32 BUFCI: 29ms, vehicles TOT 2 ACT 2 BUF 0)  \n",
      "Step #28800.00 (0ms ?*RT. ?UPS, TraCI: 58ms, vehicles TOT 2046 ACT 34 BUF 0)              I: 27ms, vehicles TOT 2 ACT 2 BUF 0)  \n",
      "Step #28800.00 (0ms ?*RT. ?UPS, TraCI: 56ms, vehicles TOT 2046 ACT 37 BUF 0)              I: 26ms, vehicles TOT 2 ACT 2 BUF 0)  \n",
      "Step #28800.00 (0ms ?*RT. ?UPS, TraCI: 57ms, vehicles TOT 2046 ACT 39 BUF 0)              es TOT 485 ACT 77 BUF 1)               \n",
      "Step #28800.00 (0ms ?*RT. ?UPS, TraCI: 53ms, vehicles TOT 2046 ACT 36 BUF 0)              s TOT 2 ACT 2 BUF 0)                  \n",
      "Step #28800.00 (0ms ?*RT. ?UPS, TraCI: 50ms, vehicles TOT 2046 ACT 40 BUF 0)              raCI: 98ms, vehicles TOT 751 ACT 117 BU\n",
      "Step #28800.00 (0ms ?*RT. ?UPS, TraCI: 52ms, vehicles TOT 2046 ACT 36 BUF 0)              s TOT 2 ACT 2 BUF 0)                  \n",
      "Step #28800.00 (0ms ?*RT. ?UPS, TraCI: 46ms, vehicles TOT 2046 ACT 40 BUF 0)              s TOT 2 ACT 2 BUF 0)                  \n",
      "Step #28800.00 (1ms ~= 1000.00*RT, ~40000.00UPS, TraCI: 52ms, vehicles TOT 2046 ACT 40 BUFes TOT 1975 ACT 54 BUF 0)              \n",
      "Step #28800.00 (0ms ?*RT. ?UPS, TraCI: 37ms, vehicles TOT 2046 ACT 48 BUF 0)              CI: 26ms, vehicles TOT 2 ACT 2 BUF 0)  \n"
     ]
    },
    {
     "name": "stderr",
     "output_type": "stream",
     "text": [
      "\u001b[2m\u001b[36m(RolloutWorker pid=20048)\u001b[0m Warning: Vehicle '188987_434_0' performs emergency braking on lane ':26110729_5_1' with decel=9.00, wished=4.50, severity=1.00, time=26154.00.\n"
     ]
    },
    {
     "name": "stdout",
     "output_type": "stream",
     "text": [
      "Step #26100.00 (1ms ~= 1000.00*RT, ~83000.00UPS, TraCI: 136ms, vehicles TOT 582 ACT 83 BUFCI: 35ms, vehicles TOT 2 ACT 2 BUF 0)  \n"
     ]
    },
    {
     "name": "stderr",
     "output_type": "stream",
     "text": [
      "\u001b[2m\u001b[36m(RolloutWorker pid=13628)\u001b[0m Warning: Vehicle '143416_415_0' performs emergency braking on lane ':26110729_7_0' with decel=9.00, wished=4.50, severity=1.00, time=28207.00.\n"
     ]
    },
    {
     "name": "stdout",
     "output_type": "stream",
     "text": [
      "Step #28200.00 (0ms ?*RT. ?UPS, TraCI: 57ms, vehicles TOT 1751 ACT 34 BUF 0)              CI: 32ms, vehicles TOT 2 ACT 2 BUF 0)  \n"
     ]
    },
    {
     "name": "stderr",
     "output_type": "stream",
     "text": [
      "\u001b[2m\u001b[36m(RolloutWorker pid=13580)\u001b[0m Warning: Vehicle '231835_451_0' performs emergency braking on lane ':26110729_5_1' with decel=9.00, wished=4.50, severity=1.00, time=28494.00.\n",
      "\u001b[2m\u001b[36m(RolloutWorker pid=2368)\u001b[0m Warning: Vehicle '231835_451_0' performs emergency braking on lane ':26110729_5_1' with decel=9.00, wished=4.50, severity=1.00, time=28494.00.\n"
     ]
    },
    {
     "name": "stdout",
     "output_type": "stream",
     "text": [
      "Step #28400.00 (1ms ~= 1000.00*RT, ~47000.00UPS, TraCI: 62ms, vehicles TOT 1875 ACT 47 BUFes TOT 2 ACT 2 BUF 0)                  \n",
      "Step #28400.00 (0ms ?*RT. ?UPS, TraCI: 73ms, vehicles TOT 1877 ACT 56 BUF 4)              I: 34ms, vehicles TOT 2 ACT 2 BUF 0)  \n",
      "Step #28800.00 (0ms ?*RT. ?UPS, TraCI: 71ms, vehicles TOT 2046 ACT 35 BUF 0)              es TOT 1933 ACT 62 BUF 0)              \n",
      "Step #28800.00 (0ms ?*RT. ?UPS, TraCI: 65ms, vehicles TOT 2046 ACT 36 BUF 0)              I: 29ms, vehicles TOT 2 ACT 2 BUF 0)  \n",
      "Step #28800.00 (0ms ?*RT. ?UPS, TraCI: 68ms, vehicles TOT 2046 ACT 41 BUF 0)              I: 27ms, vehicles TOT 2 ACT 2 BUF 0)  \n",
      "Step #28800.00 (0ms ?*RT. ?UPS, TraCI: 64ms, vehicles TOT 2046 ACT 39 BUF 0)              I: 29ms, vehicles TOT 2 ACT 2 BUF 0)  \n",
      "Step #28800.00 (0ms ?*RT. ?UPS, TraCI: 68ms, vehicles TOT 2046 ACT 46 BUF 0)              s TOT 2 ACT 2 BUF 0)                  \n",
      "Step #28800.00 (0ms ?*RT. ?UPS, TraCI: 69ms, vehicles TOT 2046 ACT 49 BUF 0)              s TOT 1933 ACT 63 BUF 0)              \n",
      "Step #28800.00 (0ms ?*RT. ?UPS, TraCI: 65ms, vehicles TOT 2046 ACT 53 BUF 0)              CI: 29ms, vehicles TOT 2 ACT 2 BUF 0)  \n",
      "Step #28800.00 (0ms ?*RT. ?UPS, TraCI: 65ms, vehicles TOT 2046 ACT 53 BUF 0)              raCI: 95ms, vehicles TOT 660 ACT 102 BU\n",
      "Step #28800.00 (0ms ?*RT. ?UPS, TraCI: 59ms, vehicles TOT 2046 ACT 55 BUF 0)              es TOT 1813 ACT 51 BUF 2)              \n",
      "Step #28800.00 (0ms ?*RT. ?UPS, TraCI: 64ms, vehicles TOT 2046 ACT 55 BUF 0)              es TOT 2 ACT 2 BUF 0)                  \n"
     ]
    },
    {
     "name": "stderr",
     "output_type": "stream",
     "text": [
      "\u001b[2m\u001b[36m(RolloutWorker pid=21792)\u001b[0m Warning: Vehicle '207932_441_0' performs emergency braking on lane ':26110729_16_0' with decel=9.00, wished=4.50, severity=1.00, time=26622.00.\n"
     ]
    },
    {
     "name": "stdout",
     "output_type": "stream",
     "text": [
      "Step #26600.00 (0ms ?*RT. ?UPS, TraCI: 99ms, vehicles TOT 909 ACT 114 BUF 30)             CI: 33ms, vehicles TOT 2 ACT 2 BUF 0)  \n",
      "Step #28800.00 (1ms ~= 1000.00*RT, ~47000.00UPS, TraCI: 90ms, vehicles TOT 2046 ACT 47 BUFaCI: 87ms, vehicles TOT 954 ACT 80 BUF \n",
      "Step #28800.00 (0ms ?*RT. ?UPS, TraCI: 96ms, vehicles TOT 2046 ACT 45 BUF 0)              I: 28ms, vehicles TOT 2 ACT 2 BUF 0)  \n",
      "Step #28800.00 (1ms ~= 1000.00*RT, ~49000.00UPS, TraCI: 89ms, vehicles TOT 2046 ACT 49 BUFI: 28ms, vehicles TOT 2 ACT 2 BUF 0)  \n",
      "Step #28800.00 (0ms ?*RT. ?UPS, TraCI: 83ms, vehicles TOT 2046 ACT 53 BUF 0)              CI: 36ms, vehicles TOT 2 ACT 2 BUF 0)  \n",
      "Step #28800.00 (0ms ?*RT. ?UPS, TraCI: 79ms, vehicles TOT 2046 ACT 51 BUF 0)              I: 30ms, vehicles TOT 2 ACT 2 BUF 0)  \n",
      "Step #28800.00 (0ms ?*RT. ?UPS, TraCI: 88ms, vehicles TOT 2046 ACT 51 BUF 0)              I: 29ms, vehicles TOT 2 ACT 2 BUF 0)  \n",
      "Step #28800.00 (0ms ?*RT. ?UPS, TraCI: 86ms, vehicles TOT 2046 ACT 55 BUF 0)              I: 30ms, vehicles TOT 2 ACT 2 BUF 0)  \n",
      "Step #28800.00 (0ms ?*RT. ?UPS, TraCI: 87ms, vehicles TOT 2046 ACT 69 BUF 0)              CI: 37ms, vehicles TOT 2 ACT 2 BUF 0)  \n",
      "Step #28800.00 (0ms ?*RT. ?UPS, TraCI: 62ms, vehicles TOT 2046 ACT 67 BUF 0)              CI: 28ms, vehicles TOT 2 ACT 2 BUF 0)  \n",
      "Step #28800.00 (0ms ?*RT. ?UPS, TraCI: 64ms, vehicles TOT 2046 ACT 52 BUF 0)              CI: 37ms, vehicles TOT 2 ACT 2 BUF 0)  \n"
     ]
    },
    {
     "name": "stderr",
     "output_type": "stream",
     "text": [
      "\u001b[2m\u001b[36m(RolloutWorker pid=9256)\u001b[0m Warning: Vehicle '166723_424_0' performs emergency braking on lane ':26110729_16_0' with decel=9.00, wished=4.50, severity=1.00, time=26157.00.\n"
     ]
    },
    {
     "name": "stdout",
     "output_type": "stream",
     "text": [
      "Step #26100.00 (1ms ~= 1000.00*RT, ~94000.00UPS, TraCI: 83ms, vehicles TOT 577 ACT 94 BUF I: 26ms, vehicles TOT 2 ACT 2 BUF 0)  \n",
      "Step #28800.00 (1ms ~= 1000.00*RT, ~38000.00UPS, TraCI: 104ms, vehicles TOT 2046 ACT 38 BUes TOT 2 ACT 2 BUF 0)                  \n",
      "Step #28800.00 (0ms ?*RT. ?UPS, TraCI: 88ms, vehicles TOT 2046 ACT 37 BUF 0)              CI: 29ms, vehicles TOT 2 ACT 2 BUF 0)  \n",
      "Step #28800.00 (0ms ?*RT. ?UPS, TraCI: 90ms, vehicles TOT 2046 ACT 45 BUF 0)              I: 28ms, vehicles TOT 2 ACT 2 BUF 0)  \n",
      "Step #28800.00 (0ms ?*RT. ?UPS, TraCI: 99ms, vehicles TOT 2046 ACT 40 BUF 0)              CI: 30ms, vehicles TOT 2 ACT 2 BUF 0)  \n",
      "Step #28800.00 (0ms ?*RT. ?UPS, TraCI: 84ms, vehicles TOT 2046 ACT 50 BUF 0)              I: 32ms, vehicles TOT 2 ACT 2 BUF 0)  \n",
      "Step #28800.00 (0ms ?*RT. ?UPS, TraCI: 83ms, vehicles TOT 2046 ACT 46 BUF 0)              s TOT 2 ACT 2 BUF 0)                  \n",
      "Step #28800.00 (1ms ~= 1000.00*RT, ~50000.00UPS, TraCI: 79ms, vehicles TOT 2046 ACT 50 BUFCI: 37ms, vehicles TOT 2 ACT 2 BUF 0)  \n",
      "Step #28800.00 (0ms ?*RT. ?UPS, TraCI: 69ms, vehicles TOT 2046 ACT 50 BUF 0)              s TOT 2 ACT 2 BUF 0)                  \n",
      "Step #28800.00 (0ms ?*RT. ?UPS, TraCI: 77ms, vehicles TOT 2046 ACT 55 BUF 0)              aCI: 102ms, vehicles TOT 653 ACT 105 B\n",
      "Step #28800.00 (1ms ~= 1000.00*RT, ~51000.00UPS, TraCI: 67ms, vehicles TOT 2046 ACT 51 BUFCI: 36ms, vehicles TOT 2 ACT 2 BUF 0)  \n"
     ]
    },
    {
     "name": "stderr",
     "output_type": "stream",
     "text": [
      "\u001b[2m\u001b[36m(RolloutWorker pid=18264)\u001b[0m Warning: Vehicle '214541_444_0' performs emergency braking on lane '-186623965#16_1' with decel=9.00, wished=4.50, severity=1.00, time=26671.00.\n"
     ]
    },
    {
     "name": "stdout",
     "output_type": "stream",
     "text": [
      "Step #26600.00 (0ms ?*RT. ?UPS, TraCI: 95ms, vehicles TOT 884 ACT 101 BUF 55)             CI: 30ms, vehicles TOT 2 ACT 2 BUF 0)  \n",
      "Step #28800.00 (1ms ~= 1000.00*RT, ~42000.00UPS, TraCI: 101ms, vehicles TOT 2046 ACT 42 BUes TOT 2 ACT 2 BUF 0)                  \n",
      "Step #28800.00 (0ms ?*RT. ?UPS, TraCI: 103ms, vehicles TOT 2046 ACT 48 BUF 0)             I: 40ms, vehicles TOT 2 ACT 2 BUF 0)  \n",
      "Step #28800.00 (1ms ~= 1000.00*RT, ~51000.00UPS, TraCI: 109ms, vehicles TOT 2046 ACT 51 BUCI: 30ms, vehicles TOT 2 ACT 2 BUF 0)  \n",
      "Step #28800.00 (0ms ?*RT. ?UPS, TraCI: 104ms, vehicles TOT 2046 ACT 46 BUF 0)             es TOT 2 ACT 2 BUF 0)                  \n",
      "Step #28800.00 (0ms ?*RT. ?UPS, TraCI: 103ms, vehicles TOT 2046 ACT 50 BUF 0)             es TOT 2 ACT 2 BUF 0)                  \n",
      "Step #28800.00 (0ms ?*RT. ?UPS, TraCI: 96ms, vehicles TOT 2046 ACT 56 BUF 0)              I: 28ms, vehicles TOT 2 ACT 2 BUF 0)  \n",
      "Step #28800.00 (0ms ?*RT. ?UPS, TraCI: 94ms, vehicles TOT 2046 ACT 56 BUF 0)              es TOT 925 ACT 81 BUF 54)              \n",
      "Step #28800.00 (1ms ~= 1000.00*RT, ~65000.00UPS, TraCI: 92ms, vehicles TOT 2046 ACT 65 BUFI: 31ms, vehicles TOT 2 ACT 2 BUF 0)  \n",
      "Step #28800.00 (0ms ?*RT. ?UPS, TraCI: 92ms, vehicles TOT 2046 ACT 63 BUF 0)              s TOT 2 ACT 2 BUF 0)                  \n",
      "Step #28800.00 (1ms ~= 1000.00*RT, ~68000.00UPS, TraCI: 82ms, vehicles TOT 2046 ACT 68 BUFs TOT 2 ACT 2 BUF 0)                  \n"
     ]
    },
    {
     "name": "stderr",
     "output_type": "stream",
     "text": [
      "\u001b[2m\u001b[36m(RolloutWorker pid=18264)\u001b[0m Warning: Vehicle '155045_420_0' performs emergency braking on lane '186623965#9_1' with decel=9.00, wished=4.50, severity=1.00, time=26410.00.\n"
     ]
    },
    {
     "name": "stdout",
     "output_type": "stream",
     "text": [
      "Step #26400.00 (1ms ~= 1000.00*RT, ~98000.00UPS, TraCI: 95ms, vehicles TOT 784 ACT 98 BUF es TOT 2 ACT 2 BUF 0)                  \n",
      "Step #28800.00 (1ms ~= 1000.00*RT, ~50000.00UPS, TraCI: 71ms, vehicles TOT 2046 ACT 50 BUFs TOT 2 ACT 2 BUF 0)                  \n",
      "Step #28800.00 (0ms ?*RT. ?UPS, TraCI: 74ms, vehicles TOT 2046 ACT 53 BUF 0)              es TOT 831 ACT 93 BUF 49)              \n",
      "Step #28800.00 (0ms ?*RT. ?UPS, TraCI: 74ms, vehicles TOT 2046 ACT 55 BUF 0)              I: 23ms, vehicles TOT 2 ACT 2 BUF 0)  \n",
      "Step #28800.00 (0ms ?*RT. ?UPS, TraCI: 73ms, vehicles TOT 2046 ACT 49 BUF 0)              I: 29ms, vehicles TOT 2 ACT 2 BUF 0)  \n",
      "Step #28800.00 (1ms ~= 1000.00*RT, ~54000.00UPS, TraCI: 66ms, vehicles TOT 2046 ACT 54 BUFCI: 32ms, vehicles TOT 2 ACT 2 BUF 0)  \n",
      "Step #28800.00 (1ms ~= 1000.00*RT, ~54000.00UPS, TraCI: 66ms, vehicles TOT 2046 ACT 54 BUFCI: 29ms, vehicles TOT 2 ACT 2 BUF 0)  \n",
      "Step #28800.00 (0ms ?*RT. ?UPS, TraCI: 60ms, vehicles TOT 2046 ACT 65 BUF 0)              es TOT 2 ACT 2 BUF 0)                  \n",
      "Step #28800.00 (0ms ?*RT. ?UPS, TraCI: 59ms, vehicles TOT 2046 ACT 62 BUF 0)              es TOT 2 ACT 2 BUF 0)                  \n",
      "Step #28800.00 (0ms ?*RT. ?UPS, TraCI: 52ms, vehicles TOT 2046 ACT 57 BUF 0)              s TOT 2 ACT 2 BUF 0)                  \n",
      "Step #28800.00 (0ms ?*RT. ?UPS, TraCI: 57ms, vehicles TOT 2046 ACT 60 BUF 0)              s TOT 2 ACT 2 BUF 0)                  \n"
     ]
    },
    {
     "name": "stderr",
     "output_type": "stream",
     "text": [
      "\u001b[2m\u001b[36m(RolloutWorker pid=20048)\u001b[0m Warning: Vehicle '229460_450_0' performs emergency braking on lane ':252017285_20_0' with decel=9.00, wished=4.50, severity=1.00, time=26931.00.\n"
     ]
    },
    {
     "name": "stdout",
     "output_type": "stream",
     "text": [
      "Step #26900.00 (1ms ~= 1000.00*RT, ~95000.00UPS, TraCI: 107ms, vehicles TOT 1057 ACT 95 BUCI: 29ms, vehicles TOT 2 ACT 2 BUF 0)  \n"
     ]
    },
    {
     "name": "stderr",
     "output_type": "stream",
     "text": [
      "\u001b[2m\u001b[36m(RolloutWorker pid=13580)\u001b[0m Warning: Vehicle '143105_415_0' performs emergency braking on lane ':26110729_5_1' with decel=9.00, wished=4.50, severity=1.00, time=27604.00.\n"
     ]
    },
    {
     "name": "stdout",
     "output_type": "stream",
     "text": [
      "Step #27600.00 (1ms ~= 1000.00*RT, ~97000.00UPS, TraCI: 110ms, vehicles TOT 1485 ACT 97 BUCI: 36ms, vehicles TOT 2 ACT 2 BUF 0)  \n"
     ]
    },
    {
     "name": "stderr",
     "output_type": "stream",
     "text": [
      "\u001b[2m\u001b[36m(RolloutWorker pid=2368)\u001b[0m Warning: Vehicle '235972_451_0' performs emergency braking on lane ':26110729_5_1' with decel=9.00, wished=4.50, severity=1.00, time=28469.00.\n"
     ]
    },
    {
     "name": "stdout",
     "output_type": "stream",
     "text": [
      "Step #28400.00 (0ms ?*RT. ?UPS, TraCI: 68ms, vehicles TOT 1876 ACT 57 BUF 5)              I: 39ms, vehicles TOT 2 ACT 2 BUF 0)  \n",
      "Step #28800.00 (1ms ~= 1000.00*RT, ~41000.00UPS, TraCI: 71ms, vehicles TOT 2046 ACT 41 BUFCI: 29ms, vehicles TOT 2 ACT 2 BUF 0)  \n",
      "Step #28800.00 (1ms ~= 1000.00*RT, ~51000.00UPS, TraCI: 79ms, vehicles TOT 2046 ACT 51 BUFI: 29ms, vehicles TOT 2 ACT 2 BUF 0)  \n",
      "Step #28800.00 (1ms ~= 1000.00*RT, ~63000.00UPS, TraCI: 77ms, vehicles TOT 2046 ACT 63 BUFes TOT 1127 ACT 95 BUF 12)             \n",
      "Step #28800.00 (0ms ?*RT. ?UPS, TraCI: 83ms, vehicles TOT 2046 ACT 64 BUF 0)              I: 24ms, vehicles TOT 2 ACT 2 BUF 0)  \n",
      "Step #28800.00 (0ms ?*RT. ?UPS, TraCI: 80ms, vehicles TOT 2046 ACT 55 BUF 0)              s TOT 2 ACT 2 BUF 0)                  \n",
      "Step #28800.00 (0ms ?*RT. ?UPS, TraCI: 76ms, vehicles TOT 2046 ACT 55 BUF 0)              CI: 78ms, vehicles TOT 1933 ACT 66 BUF\n",
      "Step #28800.00 (0ms ?*RT. ?UPS, TraCI: 75ms, vehicles TOT 2046 ACT 57 BUF 0)              CI: 30ms, vehicles TOT 2 ACT 2 BUF 0)  \n",
      "Step #28800.00 (1ms ~= 1000.00*RT, ~68000.00UPS, TraCI: 60ms, vehicles TOT 2046 ACT 68 BUFraCI: 93ms, vehicles TOT 1543 ACT 101 B\n",
      "Step #28800.00 (1ms ~= 1000.00*RT, ~64000.00UPS, TraCI: 80ms, vehicles TOT 2046 ACT 64 BUFes TOT 2 ACT 2 BUF 0)                  \n",
      "Step #28800.00 (0ms ?*RT. ?UPS, TraCI: 77ms, vehicles TOT 2046 ACT 61 BUF 0)              I: 27ms, vehicles TOT 2 ACT 2 BUF 0)  \n"
     ]
    },
    {
     "name": "stderr",
     "output_type": "stream",
     "text": [
      "\u001b[2m\u001b[36m(RolloutWorker pid=5640)\u001b[0m Warning: Vehicle '177566_429_0' performs emergency braking on lane ':247379907_5_1' with decel=9.00, wished=4.50, severity=1.00, time=26016.00.\n"
     ]
    },
    {
     "name": "stdout",
     "output_type": "stream",
     "text": [
      "Step #26000.00 (1ms ~= 1000.00*RT, ~85000.00UPS, TraCI: 140ms, vehicles TOT 485 ACT 85 BUFs TOT 2 ACT 2 BUF 0)                  \n",
      "Step #26100.00 (1ms ~= 1000.00*RT, ~90000.00UPS, TraCI: 89ms, vehicles TOT 570 ACT 90 BUF CI: 38ms, vehicles TOT 2 ACT 2 BUF 0)  \n"
     ]
    },
    {
     "name": "stderr",
     "output_type": "stream",
     "text": [
      "\u001b[2m\u001b[36m(RolloutWorker pid=18264)\u001b[0m Warning: Vehicle '145955_416_0' performs emergency braking on lane ':26110729_5_1' with decel=9.00, wished=4.50, severity=1.00, time=26385.00.\u001b[32m [repeated 2x across cluster]\u001b[0m\n"
     ]
    },
    {
     "name": "stdout",
     "output_type": "stream",
     "text": [
      "Step #26300.00 (0ms ?*RT. ?UPS, TraCI: 95ms, vehicles TOT 732 ACT 115 BUF 31)             raCI: 98ms, vehicles TOT 643 ACT 103 BU\n"
     ]
    },
    {
     "name": "stderr",
     "output_type": "stream",
     "text": [
      "\u001b[2m\u001b[36m(RolloutWorker pid=2368)\u001b[0m Warning: Vehicle '207984_441_0' performs emergency braking on lane ':26110729_16_0' with decel=9.00, wished=4.50, severity=1.00, time=26802.00.\n"
     ]
    },
    {
     "name": "stdout",
     "output_type": "stream",
     "text": [
      "Step #26800.00 (1ms ~= 1000.00*RT, ~79000.00UPS, TraCI: 83ms, vehicles TOT 975 ACT 79 BUF I: 36ms, vehicles TOT 2 ACT 2 BUF 0)  \n"
     ]
    },
    {
     "name": "stderr",
     "output_type": "stream",
     "text": [
      "\u001b[2m\u001b[36m(RolloutWorker pid=13580)\u001b[0m Warning: Vehicle '200638_437_0' performs emergency braking on lane ':26110729_5_1' with decel=9.00, wished=4.50, severity=1.00, time=28035.00.\n"
     ]
    },
    {
     "name": "stdout",
     "output_type": "stream",
     "text": [
      "Step #28000.00 (0ms ?*RT. ?UPS, TraCI: 109ms, vehicles TOT 1673 ACT 58 BUF 0)             es TOT 2 ACT 2 BUF 0)                  \n"
     ]
    },
    {
     "name": "stderr",
     "output_type": "stream",
     "text": [
      "\u001b[2m\u001b[36m(RolloutWorker pid=13628)\u001b[0m Warning: Vehicle '231835_451_0' performs emergency braking on lane ':26110729_5_1' with decel=9.00, wished=4.50, severity=1.00, time=28494.00.\n"
     ]
    },
    {
     "name": "stdout",
     "output_type": "stream",
     "text": [
      "Step #28400.00 (0ms ?*RT. ?UPS, TraCI: 77ms, vehicles TOT 1877 ACT 58 BUF 4)              CI: 33ms, vehicles TOT 2 ACT 2 BUF 0)  \n",
      "Step #28800.00 (1ms ~= 1000.00*RT, ~52000.00UPS, TraCI: 99ms, vehicles TOT 2046 ACT 52 BUFI: 26ms, vehicles TOT 2 ACT 2 BUF 0)  \n",
      "Step #28800.00 (0ms ?*RT. ?UPS, TraCI: 96ms, vehicles TOT 2024 ACT 63 BUF 22)             s TOT 2 ACT 2 BUF 0)                  \n",
      "Step #28800.00 (0ms ?*RT. ?UPS, TraCI: 102ms, vehicles TOT 2044 ACT 66 BUF 2)             es TOT 2 ACT 2 BUF 0)                  \n",
      "Step #28800.00 (1ms ~= 1000.00*RT, ~62000.00UPS, TraCI: 95ms, vehicles TOT 2046 ACT 62 BUFes TOT 1711 ACT 38 BUF 0)              \n",
      "Step #28800.00 (1ms ~= 1000.00*RT, ~66000.00UPS, TraCI: 98ms, vehicles TOT 2028 ACT 66 BUFaCI: 96ms, vehicles TOT 785 ACT 94 BUF \n",
      "Step #28800.00 (1ms ~= 1000.00*RT, ~66000.00UPS, TraCI: 92ms, vehicles TOT 2033 ACT 66 BUFs TOT 2 ACT 2 BUF 0)                  \n",
      "Step #28800.00 (0ms ?*RT. ?UPS, TraCI: 95ms, vehicles TOT 2046 ACT 61 BUF 0)              CI: 91ms, vehicles TOT 574 ACT 92 BUF \n",
      "Step #28800.00 (0ms ?*RT. ?UPS, TraCI: 73ms, vehicles TOT 2041 ACT 69 BUF 5)              es TOT 2 ACT 2 BUF 0)                  \n",
      "Step #28800.00 (0ms ?*RT. ?UPS, TraCI: 74ms, vehicles TOT 2043 ACT 68 BUF 3)              les TOT 1931 ACT 72 BUF 2)             \n",
      "Step #28800.00 (0ms ?*RT. ?UPS, TraCI: 74ms, vehicles TOT 2029 ACT 69 BUF 17)             CI: 93ms, vehicles TOT 1043 ACT 98 BUF\n"
     ]
    },
    {
     "name": "stderr",
     "output_type": "stream",
     "text": [
      "\u001b[2m\u001b[36m(RolloutWorker pid=20048)\u001b[0m Warning: Vehicle '229786_450_0' performs emergency braking on lane ':cluster_1098574052_1098574061_247379905_5_0' with decel=9.00, wished=4.50, severity=1.00, time=27248.00.\n"
     ]
    },
    {
     "name": "stdout",
     "output_type": "stream",
     "text": [
      "Step #27200.00 (1ms ~= 1000.00*RT, ~90000.00UPS, TraCI: 97ms, vehicles TOT 1250 ACT 90 BUFCI: 36ms, vehicles TOT 2 ACT 2 BUF 0)  \n",
      "Step #27200.00 (0ms ?*RT. ?UPS, TraCI: 91ms, vehicles TOT 1238 ACT 93 BUF 29)             I: 25ms, vehicles TOT 2 ACT 2 BUF 0)  \n",
      "Step #28800.00 (0ms ?*RT. ?UPS, TraCI: 117ms, vehicles TOT 2020 ACT 63 BUF 26)            aCI: 84ms, vehicles TOT 1308 ACT 93 BUF\n",
      "Step #28800.00 (0ms ?*RT. ?UPS, TraCI: 114ms, vehicles TOT 2026 ACT 66 BUF 20)            es TOT 2 ACT 2 BUF 0)                  \n",
      "Step #28800.00 (0ms ?*RT. ?UPS, TraCI: 121ms, vehicles TOT 2016 ACT 64 BUF 30)            I: 28ms, vehicles TOT 2 ACT 2 BUF 0)  \n",
      "Step #28800.00 (0ms ?*RT. ?UPS, TraCI: 109ms, vehicles TOT 2031 ACT 67 BUF 15)            CI: 36ms, vehicles TOT 2 ACT 2 BUF 0)  \n",
      "Step #28800.00 (0ms ?*RT. ?UPS, TraCI: 109ms, vehicles TOT 2003 ACT 64 BUF 43)            CI: 91ms, vehicles TOT 1295 ACT 97 BUF\n",
      "Step #28800.00 (0ms ?*RT. ?UPS, TraCI: 94ms, vehicles TOT 2011 ACT 68 BUF 35)             CI: 39ms, vehicles TOT 2 ACT 2 BUF 0)  \n",
      "Step #28800.00 (0ms ?*RT. ?UPS, TraCI: 104ms, vehicles TOT 2020 ACT 64 BUF 26)            s TOT 2 ACT 2 BUF 0)                  \n",
      "Step #28800.00 (0ms ?*RT. ?UPS, TraCI: 110ms, vehicles TOT 2020 ACT 67 BUF 26)            CI: 38ms, vehicles TOT 2 ACT 2 BUF 0)  \n",
      "Step #28800.00 (0ms ?*RT. ?UPS, TraCI: 109ms, vehicles TOT 2034 ACT 65 BUF 12)            s TOT 2 ACT 2 BUF 0)                  \n",
      "Step #28800.00 (0ms ?*RT. ?UPS, TraCI: 76ms, vehicles TOT 2031 ACT 70 BUF 15)             s TOT 2 ACT 2 BUF 0)                  \n"
     ]
    },
    {
     "name": "stderr",
     "output_type": "stream",
     "text": [
      "\u001b[2m\u001b[36m(RolloutWorker pid=13580)\u001b[0m Warning: Vehicle '188987_434_0' performs emergency braking on lane ':26110729_5_1' with decel=9.00, wished=4.50, severity=1.00, time=26154.00.\u001b[32m [repeated 2x across cluster]\u001b[0m\n"
     ]
    },
    {
     "name": "stdout",
     "output_type": "stream",
     "text": [
      "Step #26100.00 (1ms ~= 1000.00*RT, ~99000.00UPS, TraCI: 88ms, vehicles TOT 562 ACT 99 BUF CI: 32ms, vehicles TOT 2 ACT 2 BUF 0)  \n"
     ]
    },
    {
     "name": "stderr",
     "output_type": "stream",
     "text": [
      "\u001b[2m\u001b[36m(RolloutWorker pid=13580)\u001b[0m Warning: Vehicle '191387_435_0' performs emergency braking on lane ':26110729_16_0' with decel=9.00, wished=4.50, severity=1.00, time=26892.00.\n"
     ]
    },
    {
     "name": "stdout",
     "output_type": "stream",
     "text": [
      "Step #26800.00 (0ms ?*RT. ?UPS, TraCI: 149ms, vehicles TOT 973 ACT 86 BUF 45)             raCI: 97ms, vehicles TOT 636 ACT 106 BU\n"
     ]
    },
    {
     "name": "stderr",
     "output_type": "stream",
     "text": [
      "\u001b[2m\u001b[36m(RolloutWorker pid=5640)\u001b[0m Warning: Vehicle '178434_430_0' performs emergency braking on lane ':26110729_5_1' with decel=9.00, wished=4.50, severity=1.00, time=27304.00.\n"
     ]
    },
    {
     "name": "stdout",
     "output_type": "stream",
     "text": [
      "Step #27300.00 (1ms ~= 1000.00*RT, ~93000.00UPS, TraCI: 146ms, vehicles TOT 1318 ACT 93 BUI: 40ms, vehicles TOT 2 ACT 2 BUF 0)  \n",
      "Step #28800.00 (0ms ?*RT. ?UPS, TraCI: 123ms, vehicles TOT 2030 ACT 67 BUF 16)            es TOT 2 ACT 2 BUF 0)                  \n",
      "Step #28800.00 (0ms ?*RT. ?UPS, TraCI: 124ms, vehicles TOT 2033 ACT 70 BUF 13)            I: 25ms, vehicles TOT 2 ACT 2 BUF 0)  \n",
      "Step #28800.00 (0ms ?*RT. ?UPS, TraCI: 116ms, vehicles TOT 2028 ACT 70 BUF 18)            CI: 36ms, vehicles TOT 2 ACT 2 BUF 0)  \n",
      "Step #28800.00 (1ms ~= 1000.00*RT, ~67000.00UPS, TraCI: 116ms, vehicles TOT 2017 ACT 67 BUI: 26ms, vehicles TOT 2 ACT 2 BUF 0)  \n",
      "Step #28800.00 (1ms ~= 1000.00*RT, ~70000.00UPS, TraCI: 110ms, vehicles TOT 1996 ACT 70 BUCI: 26ms, vehicles TOT 2 ACT 2 BUF 0)  \n",
      "Step #28800.00 (0ms ?*RT. ?UPS, TraCI: 111ms, vehicles TOT 1997 ACT 71 BUF 49)            es TOT 1044 ACT 102 BUF 34)            \n",
      "Step #28800.00 (0ms ?*RT. ?UPS, TraCI: 119ms, vehicles TOT 2027 ACT 66 BUF 19)            I: 35ms, vehicles TOT 2 ACT 2 BUF 0)  \n",
      "Step #28800.00 (0ms ?*RT. ?UPS, TraCI: 101ms, vehicles TOT 2011 ACT 67 BUF 35)            I: 34ms, vehicles TOT 2 ACT 2 BUF 0)  \n",
      "Step #28800.00 (1ms ~= 1000.00*RT, ~67000.00UPS, TraCI: 89ms, vehicles TOT 2010 ACT 67 BUFs TOT 1363 ACT 77 BUF 6)              \n",
      "Step #28800.00 (0ms ?*RT. ?UPS, TraCI: 83ms, vehicles TOT 2010 ACT 68 BUF 36)             CI: 26ms, vehicles TOT 2 ACT 2 BUF 0)  \n"
     ]
    },
    {
     "name": "stderr",
     "output_type": "stream",
     "text": [
      "\u001b[2m\u001b[36m(RolloutWorker pid=20048)\u001b[0m Warning: Vehicle '198690_436_0' performs emergency braking on lane ':26110729_7_0' with decel=9.00, wished=4.50, severity=1.00, time=25920.00.\n"
     ]
    },
    {
     "name": "stdout",
     "output_type": "stream",
     "text": [
      "Step #25900.00 (0ms ?*RT. ?UPS, TraCI: 78ms, vehicles TOT 395 ACT 62 BUF 0)               CI: 26ms, vehicles TOT 2 ACT 2 BUF 0)  \n"
     ]
    },
    {
     "name": "stderr",
     "output_type": "stream",
     "text": [
      "\u001b[2m\u001b[36m(RolloutWorker pid=5640)\u001b[0m Warning: Vehicle '189988_434_0' performs emergency braking on lane ':26110729_7_0' with decel=9.00, wished=4.50, severity=1.00, time=26802.00.\n"
     ]
    },
    {
     "name": "stdout",
     "output_type": "stream",
     "text": [
      "Step #26800.00 (1ms ~= 1000.00*RT, ~81000.00UPS, TraCI: 87ms, vehicles TOT 958 ACT 81 BUF s TOT 2 ACT 2 BUF 0)                  \n"
     ]
    },
    {
     "name": "stderr",
     "output_type": "stream",
     "text": [
      "\u001b[2m\u001b[36m(RolloutWorker pid=21792)\u001b[0m Warning: Vehicle '224658_449_0' performs emergency braking on lane ':26110729_14_1' with decel=9.00, wished=4.50, severity=1.00, time=28429.00.\n"
     ]
    },
    {
     "name": "stdout",
     "output_type": "stream",
     "text": [
      "Step #28400.00 (1ms ~= 1000.00*RT, ~78000.00UPS, TraCI: 87ms, vehicles TOT 1851 ACT 78 BUFes TOT 2 ACT 2 BUF 0)                  \n",
      "Step #28800.00 (0ms ?*RT. ?UPS, TraCI: 81ms, vehicles TOT 2014 ACT 65 BUF 32)             es TOT 1895 ACT 78 BUF 38)             \n",
      "Step #28800.00 (0ms ?*RT. ?UPS, TraCI: 88ms, vehicles TOT 2029 ACT 67 BUF 17)             s TOT 2 ACT 2 BUF 0)                  \n",
      "Step #28800.00 (1ms ~= 1000.00*RT, ~70000.00UPS, TraCI: 83ms, vehicles TOT 1981 ACT 70 BUFCI: 27ms, vehicles TOT 2 ACT 2 BUF 0)  \n",
      "Step #28800.00 (0ms ?*RT. ?UPS, TraCI: 88ms, vehicles TOT 2022 ACT 69 BUF 24)             CI: 25ms, vehicles TOT 2 ACT 2 BUF 0)  \n",
      "Step #28800.00 (1ms ~= 1000.00*RT, ~65000.00UPS, TraCI: 90ms, vehicles TOT 2012 ACT 65 BUFI: 25ms, vehicles TOT 2 ACT 2 BUF 0)  \n",
      "Step #28800.00 (0ms ?*RT. ?UPS, TraCI: 89ms, vehicles TOT 2027 ACT 65 BUF 19)             I: 25ms, vehicles TOT 2 ACT 2 BUF 0)  \n",
      "Step #28800.00 (0ms ?*RT. ?UPS, TraCI: 86ms, vehicles TOT 2035 ACT 68 BUF 11)             CI: 29ms, vehicles TOT 2 ACT 2 BUF 0)  \n",
      "Step #28800.00 (0ms ?*RT. ?UPS, TraCI: 81ms, vehicles TOT 2006 ACT 66 BUF 40)             I: 28ms, vehicles TOT 2 ACT 2 BUF 0)  \n",
      "Step #28800.00 (0ms ?*RT. ?UPS, TraCI: 86ms, vehicles TOT 1991 ACT 73 BUF 55)             CI: 88ms, vehicles TOT 1025 ACT 98 BUF\n",
      "Step #28800.00 (1ms ~= 1000.00*RT, ~67000.00UPS, TraCI: 51ms, vehicles TOT 2010 ACT 67 BUFes TOT 474 ACT 91 BUF 12)              \n"
     ]
    },
    {
     "name": "stderr",
     "output_type": "stream",
     "text": [
      "\u001b[2m\u001b[36m(RolloutWorker pid=20048)\u001b[0m Warning: Vehicle '168214_425_0' performs emergency braking on lane ':26110729_5_1' with decel=9.00, wished=4.50, severity=1.00, time=28704.00.\n"
     ]
    },
    {
     "name": "stdout",
     "output_type": "stream",
     "text": [
      "Step #28700.00 (1ms ~= 1000.00*RT, ~86000.00UPS, TraCI: 83ms, vehicles TOT 1965 ACT 86 BUFCI: 36ms, vehicles TOT 2 ACT 2 BUF 0)  \n",
      "Step #28800.00 (0ms ?*RT. ?UPS, TraCI: 104ms, vehicles TOT 2019 ACT 66 BUF 27)            I: 40ms, vehicles TOT 2 ACT 2 BUF 0)  \n",
      "Step #28800.00 (1ms ~= 1000.00*RT, ~62000.00UPS, TraCI: 96ms, vehicles TOT 2010 ACT 62 BUFI: 31ms, vehicles TOT 2 ACT 2 BUF 0)  \n",
      "\u001b[2m\u001b[36m(RolloutWorker pid=20048)\u001b[0m Step #28800.00 (0ms ?*RT. ?UPS, TraCI: 100ms, vehicles TOT 2000 ACT 69 BUF 46)            \n",
      "Step #28800.00 (0ms ?*RT. ?UPS, TraCI: 104ms, vehicles TOT 2027 ACT 66 BUF 19)            CI: 40ms, vehicles TOT 2 ACT 2 BUF 0)  \n",
      "Step #28800.00 (1ms ~= 1000.00*RT, ~63000.00UPS, TraCI: 99ms, vehicles TOT 2007 ACT 63 BUFI: 44ms, vehicles TOT 2 ACT 2 BUF 0)  \n",
      "Step #28800.00 (1ms ~= 1000.00*RT, ~67000.00UPS, TraCI: 102ms, vehicles TOT 2019 ACT 67 BUCI: 39ms, vehicles TOT 2 ACT 2 BUF 0)  \n",
      "Step #28800.00 (1ms ~= 1000.00*RT, ~73000.00UPS, TraCI: 94ms, vehicles TOT 2021 ACT 73 BUFes TOT 2 ACT 2 BUF 0)                  \n",
      "Step #28800.00 (0ms ?*RT. ?UPS, TraCI: 94ms, vehicles TOT 2013 ACT 67 BUF 33)             I: 40ms, vehicles TOT 2 ACT 2 BUF 0)   \n",
      "Step #28800.00 (1ms ~= 1000.00*RT, ~65000.00UPS, TraCI: 99ms, vehicles TOT 2031 ACT 65 BUFs TOT 2 ACT 2 BUF 0)                  \n",
      "Step #28800.00 (0ms ?*RT. ?UPS, TraCI: 105ms, vehicles TOT 2013 ACT 68 BUF 33)            I: 46ms, vehicles TOT 2 ACT 2 BUF 0)  \n"
     ]
    },
    {
     "name": "stderr",
     "output_type": "stream",
     "text": [
      "\u001b[2m\u001b[36m(RolloutWorker pid=13628)\u001b[0m Warning: Vehicle '166947_424_0' performs emergency braking on lane ':26110729_16_0' with decel=9.00, wished=4.50, severity=1.00, time=26162.00.\n"
     ]
    },
    {
     "name": "stdout",
     "output_type": "stream",
     "text": [
      "Step #26100.00 (1ms ~= 1000.00*RT, ~95000.00UPS, TraCI: 89ms, vehicles TOT 563 ACT 95 BUF CI: 35ms, vehicles TOT 2 ACT 2 BUF 0)  \n"
     ]
    },
    {
     "name": "stderr",
     "output_type": "stream",
     "text": [
      "\u001b[2m\u001b[36m(RolloutWorker pid=9256)\u001b[0m Warning: Vehicle '145955_416_0' performs emergency braking on lane ':26110729_5_1' with decel=9.00, wished=4.50, severity=1.00, time=26385.00.\n"
     ]
    },
    {
     "name": "stdout",
     "output_type": "stream",
     "text": [
      "Step #26300.00 (1ms ~= 1000.00*RT, ~121000.00UPS, TraCI: 92ms, vehicles TOT 724 ACT 121 BUI: 28ms, vehicles TOT 2 ACT 2 BUF 0)  \n"
     ]
    },
    {
     "name": "stderr",
     "output_type": "stream",
     "text": [
      "\u001b[2m\u001b[36m(RolloutWorker pid=21792)\u001b[0m Warning: Vehicle '135408_411_0' performs emergency braking on lane ':26110729_16_0' with decel=9.00, wished=4.50, severity=1.00, time=26632.00.\n"
     ]
    },
    {
     "name": "stdout",
     "output_type": "stream",
     "text": [
      "Step #26600.00 (0ms ?*RT. ?UPS, TraCI: 90ms, vehicles TOT 874 ACT 99 BUF 65)              CI: 35ms, vehicles TOT 2 ACT 2 BUF 0)  \n"
     ]
    },
    {
     "name": "stderr",
     "output_type": "stream",
     "text": [
      "\u001b[2m\u001b[36m(RolloutWorker pid=20048)\u001b[0m Warning: Vehicle '220488_447_0' performs emergency braking on lane ':26110729_14_1' with decel=9.00, wished=4.50, severity=1.00, time=28363.00.\n"
     ]
    },
    {
     "name": "stdout",
     "output_type": "stream",
     "text": [
      "Step #28300.00 (1ms ~= 1000.00*RT, ~91000.00UPS, TraCI: 82ms, vehicles TOT 1809 ACT 91 BUFes TOT 2 ACT 2 BUF 0)                  \n",
      "Step #28300.00 (1ms ~= 1000.00*RT, ~96000.00UPS, TraCI: 90ms, vehicles TOT 1806 ACT 96 BUFI: 28ms, vehicles TOT 2 ACT 2 BUF 0)  \n",
      "\u001b[2m\u001b[36m(RolloutWorker pid=1732)\u001b[0m Step #28400.00 (1ms ~= 1000.00*RT, ~79000.00UPS, TraCI: 81ms, vehicles TOT 1850 ACT 79 BUF\n",
      "Step #28800.00 (0ms ?*RT. ?UPS, TraCI: 114ms, vehicles TOT 2017 ACT 67 BUF 29)            aCI: 82ms, vehicles TOT 1855 ACT 76 BUF\n",
      "Step #28800.00 (1ms ~= 1000.00*RT, ~65000.00UPS, TraCI: 107ms, vehicles TOT 2025 ACT 65 BUI: 35ms, vehicles TOT 2 ACT 2 BUF 0)  \n",
      "Step #28800.00 (0ms ?*RT. ?UPS, TraCI: 115ms, vehicles TOT 2020 ACT 64 BUF 26)            CI: 37ms, vehicles TOT 2 ACT 2 BUF 0)  \n",
      "Step #28800.00 (0ms ?*RT. ?UPS, TraCI: 108ms, vehicles TOT 2011 ACT 66 BUF 35)            es TOT 1896 ACT 72 BUF 37)            \n",
      "Step #28800.00 (1ms ~= 1000.00*RT, ~66000.00UPS, TraCI: 112ms, vehicles TOT 2010 ACT 66 BUaCI: 97ms, vehicles TOT 771 ACT 100 BU\n",
      "Step #28800.00 (1ms ~= 1000.00*RT, ~67000.00UPS, TraCI: 116ms, vehicles TOT 2022 ACT 67 BUI: 34ms, vehicles TOT 2 ACT 2 BUF 0)  \n",
      "Step #28800.00 (1ms ~= 1000.00*RT, ~67000.00UPS, TraCI: 100ms, vehicles TOT 1993 ACT 67 BUes TOT 917 ACT 75 BUF 62)              \n",
      "Step #28800.00 (1ms ~= 1000.00*RT, ~72000.00UPS, TraCI: 104ms, vehicles TOT 2019 ACT 72 BUraCI: 97ms, vehicles TOT 635 ACT 102 BU\n",
      "Step #28800.00 (0ms ?*RT. ?UPS, TraCI: 101ms, vehicles TOT 2014 ACT 68 BUF 32)            s TOT 2 ACT 2 BUF 0)                  \n",
      "Step #28800.00 (0ms ?*RT. ?UPS, TraCI: 108ms, vehicles TOT 1996 ACT 72 BUF 50)            CI: 35ms, vehicles TOT 2 ACT 2 BUF 0)  \n"
     ]
    },
    {
     "name": "stderr",
     "output_type": "stream",
     "text": [
      "\u001b[2m\u001b[36m(RolloutWorker pid=1732)\u001b[0m Warning: Vehicle '207984_441_0' performs emergency braking on lane ':26110729_16_0' with decel=9.00, wished=4.50, severity=1.00, time=26797.00.\u001b[32m [repeated 3x across cluster]\u001b[0m\n"
     ]
    },
    {
     "name": "stdout",
     "output_type": "stream",
     "text": [
      "Step #26700.00 (0ms ?*RT. ?UPS, TraCI: 89ms, vehicles TOT 918 ACT 78 BUF 61)              I: 37ms, vehicles TOT 2 ACT 2 BUF 0)  \n",
      "Step #26900.00 (0ms ?*RT. ?UPS, TraCI: 180ms, vehicles TOT 1036 ACT 100 BUF 42)           s TOT 2 ACT 2 BUF 0)                  \n"
     ]
    },
    {
     "name": "stderr",
     "output_type": "stream",
     "text": [
      "\u001b[2m\u001b[36m(RolloutWorker pid=1732)\u001b[0m Warning: Vehicle '231835_451_0' performs emergency braking on lane ':26110729_5_1' with decel=9.00, wished=4.50, severity=1.00, time=28494.00.\u001b[32m [repeated 2x across cluster]\u001b[0m\n"
     ]
    },
    {
     "name": "stdout",
     "output_type": "stream",
     "text": [
      "Step #28400.00 (0ms ?*RT. ?UPS, TraCI: 138ms, vehicles TOT 1860 ACT 79 BUF 21)            CI: 84ms, vehicles TOT 966 ACT 86 BUF \n",
      "Step #28800.00 (0ms ?*RT. ?UPS, TraCI: 120ms, vehicles TOT 2019 ACT 64 BUF 27)            es TOT 2 ACT 2 BUF 0)                  \n",
      "Step #28800.00 (1ms ~= 1000.00*RT, ~67000.00UPS, TraCI: 120ms, vehicles TOT 2008 ACT 67 BUCI: 35ms, vehicles TOT 2 ACT 2 BUF 0)  \n",
      "Step #28800.00 (0ms ?*RT. ?UPS, TraCI: 128ms, vehicles TOT 2013 ACT 69 BUF 33)            I: 25ms, vehicles TOT 2 ACT 2 BUF 0)  \n",
      "Step #28800.00 (0ms ?*RT. ?UPS, TraCI: 143ms, vehicles TOT 2031 ACT 67 BUF 15)            es TOT 2 ACT 2 BUF 0)                  \n",
      "Step #28800.00 (0ms ?*RT. ?UPS, TraCI: 112ms, vehicles TOT 2019 ACT 65 BUF 27)            s TOT 1901 ACT 73 BUF 32)             \n",
      "Step #28800.00 (1ms ~= 1000.00*RT, ~61000.00UPS, TraCI: 118ms, vehicles TOT 2015 ACT 61 BUCI: 90ms, vehicles TOT 1107 ACT 99 BUF\n",
      "Step #28800.00 (0ms ?*RT. ?UPS, TraCI: 130ms, vehicles TOT 2020 ACT 67 BUF 26)            es TOT 2 ACT 2 BUF 0)                  \n",
      "Step #28800.00 (0ms ?*RT. ?UPS, TraCI: 124ms, vehicles TOT 2024 ACT 66 BUF 22)            I: 39ms, vehicles TOT 2 ACT 2 BUF 0)  \n",
      "Step #28800.00 (0ms ?*RT. ?UPS, TraCI: 95ms, vehicles TOT 2020 ACT 67 BUF 26)             I: 34ms, vehicles TOT 2 ACT 2 BUF 0)  \n",
      "Step #28800.00 (0ms ?*RT. ?UPS, TraCI: 74ms, vehicles TOT 2000 ACT 65 BUF 46)             CI: 35ms, vehicles TOT 2 ACT 2 BUF 0)  \n"
     ]
    },
    {
     "name": "stderr",
     "output_type": "stream",
     "text": [
      "\u001b[2m\u001b[36m(RolloutWorker pid=5640)\u001b[0m Warning: Vehicle '185145_432_0' performs emergency braking on lane ':26110729_7_0' with decel=9.00, wished=4.50, severity=1.00, time=26827.00.\n"
     ]
    },
    {
     "name": "stdout",
     "output_type": "stream",
     "text": [
      "Step #26800.00 (0ms ?*RT. ?UPS, TraCI: 144ms, vehicles TOT 972 ACT 79 BUF 46)             I: 34ms, vehicles TOT 2 ACT 2 BUF 0)  \n"
     ]
    },
    {
     "name": "stderr",
     "output_type": "stream",
     "text": [
      "\u001b[2m\u001b[36m(RolloutWorker pid=9256)\u001b[0m Warning: Vehicle '167113_425_0' performs emergency braking on lane '186623965#15_1' with decel=9.00, wished=4.50, severity=1.00, time=26917.00.\n"
     ]
    },
    {
     "name": "stdout",
     "output_type": "stream",
     "text": [
      "Step #26900.00 (1ms ~= 1000.00*RT, ~99000.00UPS, TraCI: 92ms, vehicles TOT 1037 ACT 99 BUFI: 41ms, vehicles TOT 2 ACT 2 BUF 0)  \n"
     ]
    },
    {
     "name": "stderr",
     "output_type": "stream",
     "text": [
      "\u001b[2m\u001b[36m(RolloutWorker pid=20048)\u001b[0m Warning: Vehicle '213409_443_0' performs emergency braking on lane ':26110729_5_1' with decel=9.00, wished=4.50, severity=1.00, time=27288.00.\u001b[32m [repeated 2x across cluster]\u001b[0m\n"
     ]
    },
    {
     "name": "stdout",
     "output_type": "stream",
     "text": [
      "Step #27200.00 (0ms ?*RT. ?UPS, TraCI: 92ms, vehicles TOT 1255 ACT 93 BUF 12)             es TOT 2 ACT 2 BUF 0)                  \n"
     ]
    },
    {
     "name": "stderr",
     "output_type": "stream",
     "text": [
      "\u001b[2m\u001b[36m(RolloutWorker pid=18264)\u001b[0m Warning: Vehicle '274574_467_0' performs emergency braking on lane ':cluster_1098574052_1098574061_247379905_5_0' with decel=9.00, wished=4.50, severity=1.00, time=28133.00.\n"
     ]
    },
    {
     "name": "stdout",
     "output_type": "stream",
     "text": [
      "Step #28100.00 (0ms ?*RT. ?UPS, TraCI: 86ms, vehicles TOT 1676 ACT 75 BUF 35)             es TOT 2 ACT 2 BUF 0)                  \n",
      "Step #28800.00 (0ms ?*RT. ?UPS, TraCI: 138ms, vehicles TOT 2026 ACT 63 BUF 20)            CI: 32ms, vehicles TOT 2 ACT 2 BUF 0)  \n",
      "Step #28800.00 (0ms ?*RT. ?UPS, TraCI: 129ms, vehicles TOT 2027 ACT 67 BUF 19)            I: 35ms, vehicles TOT 2 ACT 2 BUF 0)  \n",
      "Step #28800.00 (0ms ?*RT. ?UPS, TraCI: 137ms, vehicles TOT 2022 ACT 70 BUF 24)            aCI: 156ms, vehicles TOT 1317 ACT 89 BU\n",
      "Step #28800.00 (0ms ?*RT. ?UPS, TraCI: 137ms, vehicles TOT 1996 ACT 69 BUF 50)            aCI: 84ms, vehicles TOT 1723 ACT 72 BUF\n",
      "Step #28800.00 (1ms ~= 1000.00*RT, ~63000.00UPS, TraCI: 125ms, vehicles TOT 2020 ACT 63 BUCI: 92ms, vehicles TOT 1041 ACT 98 BUF\n",
      "Step #28800.00 (0ms ?*RT. ?UPS, TraCI: 102ms, vehicles TOT 1999 ACT 64 BUF 47)            CI: 32ms, vehicles TOT 2 ACT 2 BUF 0)  \n",
      "Step #28800.00 (0ms ?*RT. ?UPS, TraCI: 107ms, vehicles TOT 2014 ACT 68 BUF 32)            s TOT 2 ACT 2 BUF 0)                  \n",
      "Step #28800.00 (0ms ?*RT. ?UPS, TraCI: 90ms, vehicles TOT 2003 ACT 67 BUF 43)             es TOT 2 ACT 2 BUF 0)                  \n",
      "Step #28800.00 (0ms ?*RT. ?UPS, TraCI: 92ms, vehicles TOT 1993 ACT 68 BUF 53)             I: 33ms, vehicles TOT 2 ACT 2 BUF 0)  \n",
      "Step #28800.00 (1ms ~= 1000.00*RT, ~74000.00UPS, TraCI: 91ms, vehicles TOT 2001 ACT 74 BUFs TOT 1106 ACT 93 BUF 33)             \n"
     ]
    },
    {
     "name": "stderr",
     "output_type": "stream",
     "text": [
      "\u001b[2m\u001b[36m(RolloutWorker pid=3060)\u001b[0m Warning: Vehicle '188987_434_0' performs emergency braking on lane ':26110729_5_1' with decel=9.00, wished=4.50, severity=1.00, time=26154.00.\n"
     ]
    },
    {
     "name": "stdout",
     "output_type": "stream",
     "text": [
      "Step #26100.00 (1ms ~= 1000.00*RT, ~89000.00UPS, TraCI: 87ms, vehicles TOT 555 ACT 89 BUF s TOT 2 ACT 2 BUF 0)                  \n"
     ]
    },
    {
     "name": "stderr",
     "output_type": "stream",
     "text": [
      "\u001b[2m\u001b[36m(RolloutWorker pid=18264)\u001b[0m Warning: Vehicle '155407_420_0' performs emergency braking on lane ':26110729_14_1' with decel=9.00, wished=4.50, severity=1.00, time=26279.00.\n"
     ]
    },
    {
     "name": "stdout",
     "output_type": "stream",
     "text": [
      "Step #26200.00 (1ms ~= 1000.00*RT, ~102000.00UPS, TraCI: 152ms, vehicles TOT 635 ACT 102 Bes TOT 2 ACT 2 BUF 0)                  \n"
     ]
    },
    {
     "name": "stderr",
     "output_type": "stream",
     "text": [
      "\u001b[2m\u001b[36m(RolloutWorker pid=2368)\u001b[0m Warning: Vehicle '135408_411_0' performs emergency braking on lane '-186623965#16_1' with decel=9.00, wished=4.50, severity=1.00, time=26677.00.\n"
     ]
    },
    {
     "name": "stdout",
     "output_type": "stream",
     "text": [
      "Step #26600.00 (1ms ~= 1000.00*RT, ~97000.00UPS, TraCI: 100ms, vehicles TOT 883 ACT 97 BUFs TOT 2 ACT 2 BUF 0)                  \n"
     ]
    },
    {
     "name": "stderr",
     "output_type": "stream",
     "text": [
      "\u001b[2m\u001b[36m(RolloutWorker pid=1732)\u001b[0m Warning: Vehicle '161407_421_0' performs emergency braking on lane ':26110729_5_1' with decel=9.00, wished=4.50, severity=1.00, time=26954.00.\n"
     ]
    },
    {
     "name": "stdout",
     "output_type": "stream",
     "text": [
      "Step #26900.00 (1ms ~= 1000.00*RT, ~100000.00UPS, TraCI: 87ms, vehicles TOT 1041 ACT 100 BI: 28ms, vehicles TOT 2 ACT 2 BUF 0)  \n",
      "Step #28800.00 (0ms ?*RT. ?UPS, TraCI: 86ms, vehicles TOT 2022 ACT 68 BUF 24)             es TOT 2 ACT 2 BUF 0)                  \n",
      "Step #28800.00 (1ms ~= 1000.00*RT, ~64000.00UPS, TraCI: 79ms, vehicles TOT 2012 ACT 64 BUFCI: 24ms, vehicles TOT 2 ACT 2 BUF 0)  \n",
      "Step #28800.00 (0ms ?*RT. ?UPS, TraCI: 81ms, vehicles TOT 2012 ACT 65 BUF 34)             es TOT 628 ACT 102 BUF 33)            \n",
      "Step #28800.00 (0ms ?*RT. ?UPS, TraCI: 80ms, vehicles TOT 2006 ACT 66 BUF 40)             es TOT 2 ACT 2 BUF 0)                  \n",
      "Step #28800.00 (0ms ?*RT. ?UPS, TraCI: 75ms, vehicles TOT 1982 ACT 71 BUF 64)             CI: 27ms, vehicles TOT 2 ACT 2 BUF 0)  \n",
      "Step #28800.00 (0ms ?*RT. ?UPS, TraCI: 82ms, vehicles TOT 2007 ACT 62 BUF 39)             CI: 98ms, vehicles TOT 1108 ACT 98 BUF\n",
      "Step #28800.00 (0ms ?*RT. ?UPS, TraCI: 84ms, vehicles TOT 2016 ACT 69 BUF 30)             es TOT 925 ACT 77 BUF 54)             \n",
      "Step #28800.00 (1ms ~= 1000.00*RT, ~61000.00UPS, TraCI: 81ms, vehicles TOT 2011 ACT 61 BUFes TOT 720 ACT 117 BUF 43)             \n",
      "Step #28800.00 (0ms ?*RT. ?UPS, TraCI: 81ms, vehicles TOT 2006 ACT 67 BUF 40)             s TOT 2 ACT 2 BUF 0)                  \n",
      "Step #28800.00 (1ms ~= 1000.00*RT, ~68000.00UPS, TraCI: 82ms, vehicles TOT 2017 ACT 68 BUFI: 27ms, vehicles TOT 2 ACT 2 BUF 0)  \n"
     ]
    },
    {
     "name": "stderr",
     "output_type": "stream",
     "text": [
      "\u001b[2m\u001b[36m(RolloutWorker pid=9256)\u001b[0m Warning: Vehicle '146328_416_0' performs emergency braking on lane ':26110729_5_1' with decel=9.00, wished=4.50, severity=1.00, time=26898.00.\n"
     ]
    },
    {
     "name": "stdout",
     "output_type": "stream",
     "text": [
      "Step #26800.00 (1ms ~= 1000.00*RT, ~80000.00UPS, TraCI: 87ms, vehicles TOT 956 ACT 80 BUF I: 42ms, vehicles TOT 2 ACT 2 BUF 0)  \n",
      "Step #26900.00 (1ms ~= 1000.00*RT, ~98000.00UPS, TraCI: 93ms, vehicles TOT 1037 ACT 98 BUFCI: 44ms, vehicles TOT 2 ACT 2 BUF 0)  \n",
      "Step #26900.00 (0ms ?*RT. ?UPS, TraCI: 92ms, vehicles TOT 1035 ACT 101 BUF 43)            I: 40ms, vehicles TOT 2 ACT 2 BUF 0)  \n"
     ]
    },
    {
     "name": "stderr",
     "output_type": "stream",
     "text": [
      "\u001b[2m\u001b[36m(RolloutWorker pid=2368)\u001b[0m Warning: Vehicle '244584_453_0' performs emergency braking on lane ':26110729_5_1' with decel=9.00, wished=4.50, severity=1.00, time=28489.00.\u001b[32m [repeated 3x across cluster]\u001b[0m\n"
     ]
    },
    {
     "name": "stdout",
     "output_type": "stream",
     "text": [
      "Step #28400.00 (0ms ?*RT. ?UPS, TraCI: 81ms, vehicles TOT 1849 ACT 77 BUF 32)             I: 39ms, vehicles TOT 2 ACT 2 BUF 0)  \n",
      "Step #28800.00 (1ms ~= 1000.00*RT, ~67000.00UPS, TraCI: 99ms, vehicles TOT 2028 ACT 67 BUFCI: 40ms, vehicles TOT 2 ACT 2 BUF 0)  \n",
      "Step #28800.00 (1ms ~= 1000.00*RT, ~66000.00UPS, TraCI: 109ms, vehicles TOT 2010 ACT 66 BUes TOT 2 ACT 2 BUF 0)                  \n",
      "Step #28800.00 (0ms ?*RT. ?UPS, TraCI: 98ms, vehicles TOT 2029 ACT 67 BUF 17)             CI: 93ms, vehicles TOT 1104 ACT 93 BUF\n",
      "Step #28800.00 (0ms ?*RT. ?UPS, TraCI: 98ms, vehicles TOT 2019 ACT 66 BUF 27)             CI: 40ms, vehicles TOT 2 ACT 2 BUF 0)  \n",
      "Step #28800.00 (1ms ~= 1000.00*RT, ~65000.00UPS, TraCI: 92ms, vehicles TOT 2015 ACT 65 BUFCI: 41ms, vehicles TOT 2 ACT 2 BUF 0)  \n",
      "Step #28800.00 (1ms ~= 1000.00*RT, ~68000.00UPS, TraCI: 91ms, vehicles TOT 2026 ACT 68 BUFs TOT 2 ACT 2 BUF 0)                  \n",
      "Step #28800.00 (1ms ~= 1000.00*RT, ~65000.00UPS, TraCI: 98ms, vehicles TOT 2015 ACT 65 BUFs TOT 1895 ACT 75 BUF 38)             \n",
      "Step #28800.00 (0ms ?*RT. ?UPS, TraCI: 93ms, vehicles TOT 2011 ACT 63 BUF 35)             aCI: 89ms, vehicles TOT 1028 ACT 100 B\n",
      "Step #28800.00 (0ms ?*RT. ?UPS, TraCI: 95ms, vehicles TOT 2020 ACT 69 BUF 26)             I: 39ms, vehicles TOT 2 ACT 2 BUF 0)  \n",
      "Step #28800.00 (0ms ?*RT. ?UPS, TraCI: 60ms, vehicles TOT 2000 ACT 80 BUF 46)             aCI: 94ms, vehicles TOT 1104 ACT 96 BUF\n"
     ]
    },
    {
     "name": "stderr",
     "output_type": "stream",
     "text": [
      "\u001b[2m\u001b[36m(RolloutWorker pid=18264)\u001b[0m Warning: Vehicle '212234_442_0' performs emergency braking on lane ':26110729_14_1' with decel=9.00, wished=4.50, severity=1.00, time=28298.00.\n"
     ]
    },
    {
     "name": "stdout",
     "output_type": "stream",
     "text": [
      "Step #28200.00 (1ms ~= 1000.00*RT, ~74000.00UPS, TraCI: 82ms, vehicles TOT 1747 ACT 74 BUFes TOT 2 ACT 2 BUF 0)                  \n"
     ]
    },
    {
     "name": "stderr",
     "output_type": "stream",
     "text": [
      "\u001b[2m\u001b[36m(RolloutWorker pid=2368)\u001b[0m Warning: Vehicle '231835_451_0' performs emergency braking on lane ':26110729_5_1' with decel=9.00, wished=4.50, severity=1.00, time=28494.00.\n"
     ]
    },
    {
     "name": "stdout",
     "output_type": "stream",
     "text": [
      "Step #28400.00 (1ms ~= 1000.00*RT, ~79000.00UPS, TraCI: 84ms, vehicles TOT 1854 ACT 79 BUFI: 37ms, vehicles TOT 2 ACT 2 BUF 0)  \n",
      "Step #28800.00 (1ms ~= 1000.00*RT, ~64000.00UPS, TraCI: 100ms, vehicles TOT 2026 ACT 64 BUCI: 40ms, vehicles TOT 2 ACT 2 BUF 0)  \n",
      "Step #28800.00 (0ms ?*RT. ?UPS, TraCI: 102ms, vehicles TOT 2028 ACT 66 BUF 18)            I: 37ms, vehicles TOT 2 ACT 2 BUF 0)  \n",
      "Step #28800.00 (0ms ?*RT. ?UPS, TraCI: 106ms, vehicles TOT 2019 ACT 71 BUF 27)            CI: 38ms, vehicles TOT 2 ACT 2 BUF 0)  \n",
      "Step #28800.00 (0ms ?*RT. ?UPS, TraCI: 103ms, vehicles TOT 2018 ACT 65 BUF 28)            CI: 36ms, vehicles TOT 2 ACT 2 BUF 0)  \n",
      "Step #28800.00 (0ms ?*RT. ?UPS, TraCI: 103ms, vehicles TOT 2019 ACT 66 BUF 27)            I: 40ms, vehicles TOT 2 ACT 2 BUF 0)  \n",
      "Step #28800.00 (0ms ?*RT. ?UPS, TraCI: 96ms, vehicles TOT 2018 ACT 65 BUF 28)             CI: 37ms, vehicles TOT 2 ACT 2 BUF 0)  \n",
      "Step #28800.00 (0ms ?*RT. ?UPS, TraCI: 94ms, vehicles TOT 2013 ACT 67 BUF 33)             I: 37ms, vehicles TOT 2 ACT 2 BUF 0)  \n",
      "Step #28800.00 (1ms ~= 1000.00*RT, ~66000.00UPS, TraCI: 103ms, vehicles TOT 2015 ACT 66 BUes TOT 1899 ACT 77 BUF 34)            \n",
      "Step #28800.00 (0ms ?*RT. ?UPS, TraCI: 105ms, vehicles TOT 2019 ACT 73 BUF 27)            es TOT 1813 ACT 93 BUF 2)              \n",
      "Step #28800.00 (0ms ?*RT. ?UPS, TraCI: 90ms, vehicles TOT 1991 ACT 68 BUF 55)             s TOT 2 ACT 2 BUF 0)                  \n"
     ]
    },
    {
     "name": "stderr",
     "output_type": "stream",
     "text": [
      "\u001b[2m\u001b[36m(RolloutWorker pid=21792)\u001b[0m Warning: Vehicle '268146_465_0' performs emergency braking on lane ':26110729_5_1' with decel=9.00, wished=4.50, severity=1.00, time=28445.00.\n"
     ]
    },
    {
     "name": "stdout",
     "output_type": "stream",
     "text": [
      "Step #28400.00 (1ms ~= 1000.00*RT, ~73000.00UPS, TraCI: 146ms, vehicles TOT 1866 ACT 73 BUes TOT 2 ACT 2 BUF 0)                  \n"
     ]
    },
    {
     "name": "stderr",
     "output_type": "stream",
     "text": [
      "\u001b[2m\u001b[36m(RolloutWorker pid=13580)\u001b[0m Warning: Vehicle '235972_451_0' performs emergency braking on lane ':26110729_5_1' with decel=9.00, wished=4.50, severity=1.00, time=28469.00.\n"
     ]
    },
    {
     "name": "stdout",
     "output_type": "stream",
     "text": [
      "Step #28400.00 (0ms ?*RT. ?UPS, TraCI: 145ms, vehicles TOT 1860 ACT 84 BUF 21)            CI: 24ms, vehicles TOT 2 ACT 2 BUF 0)  \n",
      "Step #28800.00 (1ms ~= 1000.00*RT, ~65000.00UPS, TraCI: 121ms, vehicles TOT 2016 ACT 65 BUCI: 31ms, vehicles TOT 2 ACT 2 BUF 0)  \n",
      "Step #28800.00 (1ms ~= 1000.00*RT, ~63000.00UPS, TraCI: 120ms, vehicles TOT 2015 ACT 63 BUes TOT 1899 ACT 69 BUF 34)             \n",
      "Step #28800.00 (1ms ~= 1000.00*RT, ~68000.00UPS, TraCI: 110ms, vehicles TOT 2025 ACT 68 BUes TOT 1911 ACT 74 BUF 22)             \n",
      "Step #28800.00 (1ms ~= 1000.00*RT, ~67000.00UPS, TraCI: 115ms, vehicles TOT 2005 ACT 67 BUI: 33ms, vehicles TOT 2 ACT 2 BUF 0)  \n",
      "Step #28800.00 (1ms ~= 1000.00*RT, ~67000.00UPS, TraCI: 105ms, vehicles TOT 2011 ACT 67 BUI: 38ms, vehicles TOT 2 ACT 2 BUF 0)  \n",
      "Step #28800.00 (1ms ~= 1000.00*RT, ~67000.00UPS, TraCI: 103ms, vehicles TOT 1999 ACT 67 BUI: 44ms, vehicles TOT 2 ACT 2 BUF 0)  \n",
      "Step #28800.00 (0ms ?*RT. ?UPS, TraCI: 107ms, vehicles TOT 2003 ACT 66 BUF 43)            CI: 43ms, vehicles TOT 2 ACT 2 BUF 0)  \n",
      "Step #28800.00 (0ms ?*RT. ?UPS, TraCI: 117ms, vehicles TOT 2027 ACT 64 BUF 19)            I: 36ms, vehicles TOT 2 ACT 2 BUF 0)  \n",
      "Step #28800.00 (1ms ~= 1000.00*RT, ~67000.00UPS, TraCI: 110ms, vehicles TOT 2009 ACT 67 BUI: 25ms, vehicles TOT 2 ACT 2 BUF 0)  \n",
      "Step #28800.00 (0ms ?*RT. ?UPS, TraCI: 79ms, vehicles TOT 1993 ACT 64 BUF 53)             CI: 42ms, vehicles TOT 2 ACT 2 BUF 0)  \n"
     ]
    },
    {
     "name": "stderr",
     "output_type": "stream",
     "text": [
      "\u001b[2m\u001b[36m(RolloutWorker pid=2368)\u001b[0m 2023-06-06 17:17:27,383\tERROR actor_manager.py:179 -- Worker exception, recreating: unpack requires a buffer of 3 bytes\n",
      "\u001b[2m\u001b[36m(RolloutWorker pid=2368)\u001b[0m Traceback (most recent call last):\n",
      "\u001b[2m\u001b[36m(RolloutWorker pid=2368)\u001b[0m   File \"c:\\Users\\admin\\anaconda3\\envs\\marl\\lib\\site-packages\\ray\\rllib\\utils\\actor_manager.py\", line 176, in apply\n",
      "\u001b[2m\u001b[36m(RolloutWorker pid=2368)\u001b[0m     return func(self, *args, **kwargs)\n",
      "\u001b[2m\u001b[36m(RolloutWorker pid=2368)\u001b[0m   File \"c:\\Users\\admin\\anaconda3\\envs\\marl\\lib\\site-packages\\ray\\rllib\\execution\\rollout_ops.py\", line 86, in <lambda>\n",
      "\u001b[2m\u001b[36m(RolloutWorker pid=2368)\u001b[0m     lambda w: w.sample(), local_worker=False, healthy_only=True\n",
      "\u001b[2m\u001b[36m(RolloutWorker pid=2368)\u001b[0m   File \"c:\\Users\\admin\\anaconda3\\envs\\marl\\lib\\site-packages\\ray\\util\\tracing\\tracing_helper.py\", line 460, in _resume_span\n",
      "\u001b[2m\u001b[36m(RolloutWorker pid=2368)\u001b[0m     return method(self, *_args, **_kwargs)\n",
      "\u001b[2m\u001b[36m(RolloutWorker pid=2368)\u001b[0m   File \"c:\\Users\\admin\\anaconda3\\envs\\marl\\lib\\site-packages\\ray\\rllib\\evaluation\\rollout_worker.py\", line 915, in sample\n",
      "\u001b[2m\u001b[36m(RolloutWorker pid=2368)\u001b[0m     batches = [self.input_reader.next()]\n",
      "\u001b[2m\u001b[36m(RolloutWorker pid=2368)\u001b[0m   File \"c:\\Users\\admin\\anaconda3\\envs\\marl\\lib\\site-packages\\ray\\rllib\\evaluation\\sampler.py\", line 92, in next\n",
      "\u001b[2m\u001b[36m(RolloutWorker pid=2368)\u001b[0m     batches = [self.get_data()]\n",
      "\u001b[2m\u001b[36m(RolloutWorker pid=2368)\u001b[0m   File \"c:\\Users\\admin\\anaconda3\\envs\\marl\\lib\\site-packages\\ray\\rllib\\evaluation\\sampler.py\", line 277, in get_data\n",
      "\u001b[2m\u001b[36m(RolloutWorker pid=2368)\u001b[0m     item = next(self._env_runner)\n",
      "\u001b[2m\u001b[36m(RolloutWorker pid=2368)\u001b[0m   File \"c:\\Users\\admin\\anaconda3\\envs\\marl\\lib\\site-packages\\ray\\rllib\\evaluation\\env_runner_v2.py\", line 323, in run\n",
      "\u001b[2m\u001b[36m(RolloutWorker pid=2368)\u001b[0m     outputs = self.step()\n",
      "\u001b[2m\u001b[36m(RolloutWorker pid=2368)\u001b[0m   File \"c:\\Users\\admin\\anaconda3\\envs\\marl\\lib\\site-packages\\ray\\rllib\\evaluation\\env_runner_v2.py\", line 349, in step\n",
      "\u001b[2m\u001b[36m(RolloutWorker pid=2368)\u001b[0m     active_envs, to_eval, outputs = self._process_observations(\n",
      "\u001b[2m\u001b[36m(RolloutWorker pid=2368)\u001b[0m   File \"c:\\Users\\admin\\anaconda3\\envs\\marl\\lib\\site-packages\\ray\\rllib\\evaluation\\env_runner_v2.py\", line 667, in _process_observations\n",
      "\u001b[2m\u001b[36m(RolloutWorker pid=2368)\u001b[0m     self._handle_done_episode(\n",
      "\u001b[2m\u001b[36m(RolloutWorker pid=2368)\u001b[0m   File \"c:\\Users\\admin\\anaconda3\\envs\\marl\\lib\\site-packages\\ray\\rllib\\evaluation\\env_runner_v2.py\", line 834, in _handle_done_episode\n",
      "\u001b[2m\u001b[36m(RolloutWorker pid=2368)\u001b[0m     resetted_obs, resetted_infos = self._base_env.try_reset(env_id)\n",
      "\u001b[2m\u001b[36m(RolloutWorker pid=2368)\u001b[0m   File \"c:\\Users\\admin\\anaconda3\\envs\\marl\\lib\\site-packages\\ray\\rllib\\env\\multi_agent_env.py\", line 707, in try_reset\n",
      "\u001b[2m\u001b[36m(RolloutWorker pid=2368)\u001b[0m     obs, infos = self.env_states[idx].reset(seed=seed, options=options)\n",
      "\u001b[2m\u001b[36m(RolloutWorker pid=2368)\u001b[0m   File \"c:\\Users\\admin\\anaconda3\\envs\\marl\\lib\\site-packages\\ray\\rllib\\env\\multi_agent_env.py\", line 912, in reset\n",
      "\u001b[2m\u001b[36m(RolloutWorker pid=2368)\u001b[0m     raise e\n",
      "\u001b[2m\u001b[36m(RolloutWorker pid=2368)\u001b[0m   File \"c:\\Users\\admin\\anaconda3\\envs\\marl\\lib\\site-packages\\ray\\rllib\\env\\multi_agent_env.py\", line 906, in reset\n",
      "\u001b[2m\u001b[36m(RolloutWorker pid=2368)\u001b[0m     obs_and_infos = self.env.reset(seed=seed, options=options)\n",
      "\u001b[2m\u001b[36m(RolloutWorker pid=2368)\u001b[0m   File \"c:\\Users\\admin\\anaconda3\\envs\\marl\\lib\\site-packages\\ray\\rllib\\env\\wrappers\\multi_agent_env_compatibility.py\", line 52, in reset\n",
      "\u001b[2m\u001b[36m(RolloutWorker pid=2368)\u001b[0m     obs = self.env.reset()\n",
      "\u001b[2m\u001b[36m(RolloutWorker pid=2368)\u001b[0m   File \"c:\\Users\\admin\\anaconda3\\envs\\marl\\lib\\site-packages\\sumo_rl\\environment\\env.py\", line 253, in reset\n",
      "\u001b[2m\u001b[36m(RolloutWorker pid=2368)\u001b[0m     self._start_simulation()\n",
      "\u001b[2m\u001b[36m(RolloutWorker pid=2368)\u001b[0m   File \"c:\\Users\\admin\\anaconda3\\envs\\marl\\lib\\site-packages\\sumo_rl\\environment\\env.py\", line 235, in _start_simulation\n",
      "\u001b[2m\u001b[36m(RolloutWorker pid=2368)\u001b[0m     traci.start(sumo_cmd, label=self.label)\n",
      "\u001b[2m\u001b[36m(RolloutWorker pid=2368)\u001b[0m   File \"C:\\Program Files (x86)\\Eclipse\\Sumo\\tools\\traci\\main.py\", line 152, in start\n",
      "\u001b[2m\u001b[36m(RolloutWorker pid=2368)\u001b[0m     result = init(sumoPort, numRetries, \"localhost\", label, sumoProcess, doSwitch, traceFile, traceGetters)\n",
      "\u001b[2m\u001b[36m(RolloutWorker pid=2368)\u001b[0m   File \"C:\\Program Files (x86)\\Eclipse\\Sumo\\tools\\traci\\main.py\", line 124, in init\n",
      "\u001b[2m\u001b[36m(RolloutWorker pid=2368)\u001b[0m     return _connections[label].getVersion()\n",
      "\u001b[2m\u001b[36m(RolloutWorker pid=2368)\u001b[0m   File \"C:\\Program Files (x86)\\Eclipse\\Sumo\\tools\\traci\\connection.py\", line 340, in getVersion\n",
      "\u001b[2m\u001b[36m(RolloutWorker pid=2368)\u001b[0m     result = self._sendCmd(command, None, None)\n",
      "\u001b[2m\u001b[36m(RolloutWorker pid=2368)\u001b[0m   File \"C:\\Program Files (x86)\\Eclipse\\Sumo\\tools\\traci\\connection.py\", line 189, in _sendCmd\n",
      "\u001b[2m\u001b[36m(RolloutWorker pid=2368)\u001b[0m     return self._sendExact()\n",
      "\u001b[2m\u001b[36m(RolloutWorker pid=2368)\u001b[0m   File \"C:\\Program Files (x86)\\Eclipse\\Sumo\\tools\\traci\\connection.py\", line 101, in _sendExact\n",
      "\u001b[2m\u001b[36m(RolloutWorker pid=2368)\u001b[0m     prefix = result.read(\"!BBB\")\n",
      "\u001b[2m\u001b[36m(RolloutWorker pid=2368)\u001b[0m   File \"C:\\Program Files (x86)\\Eclipse\\Sumo\\tools\\traci\\storage.py\", line 38, in read\n",
      "\u001b[2m\u001b[36m(RolloutWorker pid=2368)\u001b[0m     return struct.unpack(format, self._content[oldPos:self._pos])\n",
      "\u001b[2m\u001b[36m(RolloutWorker pid=2368)\u001b[0m struct.error: unpack requires a buffer of 3 bytes\n",
      "\u001b[2m\u001b[36m(RolloutWorker pid=2368)\u001b[0m Error: tcpip::Socket::accept() Unable to create listening socket: Address already in use\n",
      "\u001b[2m\u001b[36m(RolloutWorker pid=2368)\u001b[0m Quitting (on error).\n",
      "2023-06-06 17:18:27,401\tWARNING worker.py:1986 -- A worker died or was killed while executing a task by an unexpected system error. To troubleshoot the problem, check the logs for the dead worker. RayTask ID: ffffffffffffffff8b622b51b6b637938f0c732e01000000 Worker ID: f51e45c68ab6f68341536a6a3ebfaebbace261c366627450361ee64c Node ID: 6635f4a58de173ea930d81738e4cb9022bd74437d81c3769c55a9653 Worker IP address: 127.0.0.1 Worker port: 65019 Worker PID: 18264 Worker exit type: SYSTEM_ERROR Worker exit detail: Worker exits unexpectedly. Worker exits with an exit code 1.\n",
      "2023-06-06 17:18:27,407\tWARNING worker.py:1986 -- A worker died or was killed while executing a task by an unexpected system error. To troubleshoot the problem, check the logs for the dead worker. RayTask ID: ffffffffffffffff0f80452de3a05f10debed76c01000000 Worker ID: cf3ddce4a561751f85439a0dd51c173901630a496bf2271c84f3b241 Node ID: 6635f4a58de173ea930d81738e4cb9022bd74437d81c3769c55a9653 Worker IP address: 127.0.0.1 Worker port: 65035 Worker PID: 2368 Worker exit type: SYSTEM_ERROR Worker exit detail: Worker exits unexpectedly. Worker exits with an exit code 1.\n",
      "\u001b[2m\u001b[36m(RolloutWorker pid=2368)\u001b[0m 2023-06-06 17:18:27,398\tERROR worker.py:844 -- Worker exits with an exit code 1.\n",
      "\u001b[2m\u001b[36m(RolloutWorker pid=2368)\u001b[0m \n",
      "\u001b[2m\u001b[36m(RolloutWorker pid=2368)\u001b[0m During handling of the above exception, another exception occurred:\n",
      "\u001b[2m\u001b[36m(RolloutWorker pid=2368)\u001b[0m \n",
      "\u001b[2m\u001b[36m(RolloutWorker pid=2368)\u001b[0m   File \"python\\ray\\_raylet.pyx\", line 1197, in ray._raylet.task_execution_handler\n",
      "\u001b[2m\u001b[36m(RolloutWorker pid=2368)\u001b[0m   File \"python\\ray\\_raylet.pyx\", line 1100, in ray._raylet.execute_task_with_cancellation_handler\n",
      "\u001b[2m\u001b[36m(RolloutWorker pid=2368)\u001b[0m   File \"python\\ray\\_raylet.pyx\", line 823, in ray._raylet.execute_task\n",
      "\u001b[2m\u001b[36m(RolloutWorker pid=2368)\u001b[0m   File \"python\\ray\\_raylet.pyx\", line 870, in ray._raylet.execute_task\n",
      "\u001b[2m\u001b[36m(RolloutWorker pid=2368)\u001b[0m   File \"python\\ray\\_raylet.pyx\", line 877, in ray._raylet.execute_task\n",
      "\u001b[2m\u001b[36m(RolloutWorker pid=2368)\u001b[0m   File \"python\\ray\\_raylet.pyx\", line 881, in ray._raylet.execute_task\n",
      "\u001b[2m\u001b[36m(RolloutWorker pid=2368)\u001b[0m   File \"python\\ray\\_raylet.pyx\", line 821, in ray._raylet.execute_task.function_executor\n",
      "\u001b[2m\u001b[36m(RolloutWorker pid=2368)\u001b[0m   File \"c:\\Users\\admin\\anaconda3\\envs\\marl\\lib\\site-packages\\ray\\_private\\function_manager.py\", line 670, in actor_method_executor\n",
      "\u001b[2m\u001b[36m(RolloutWorker pid=2368)\u001b[0m     return method(__ray_actor, *args, **kwargs)\n",
      "\u001b[2m\u001b[36m(RolloutWorker pid=2368)\u001b[0m     sys.exit(1)\n",
      "\u001b[2m\u001b[36m(RolloutWorker pid=2368)\u001b[0m SystemExit: 1\n",
      "\u001b[2m\u001b[36m(RolloutWorker pid=18264)\u001b[0m SystemExit: 1\n",
      "\u001b[2m\u001b[36m(RolloutWorker pid=2368)\u001b[0m Traceback (most recent call last):\u001b[32m [repeated 3x across cluster]\u001b[0m\n",
      "\u001b[2m\u001b[36m(RolloutWorker pid=2368)\u001b[0m   File \"c:\\Users\\admin\\anaconda3\\envs\\marl\\lib\\site-packages\\ray\\rllib\\utils\\actor_manager.py\", line 183, in apply\u001b[32m [repeated 3x across cluster]\u001b[0m\n",
      "\u001b[2m\u001b[36m(RolloutWorker pid=2368)\u001b[0m     return func(self, *args, **kwargs)\u001b[32m [repeated 2x across cluster]\u001b[0m\n",
      "\u001b[2m\u001b[36m(RolloutWorker pid=2368)\u001b[0m   File \"c:\\Users\\admin\\anaconda3\\envs\\marl\\lib\\site-packages\\ray\\rllib\\execution\\rollout_ops.py\", line 86, in <lambda>\u001b[32m [repeated 2x across cluster]\u001b[0m\n",
      "\u001b[2m\u001b[36m(RolloutWorker pid=2368)\u001b[0m     lambda w: w.sample(), local_worker=False, healthy_only=True\u001b[32m [repeated 2x across cluster]\u001b[0m\n",
      "\u001b[2m\u001b[36m(RolloutWorker pid=2368)\u001b[0m   File \"c:\\Users\\admin\\anaconda3\\envs\\marl\\lib\\site-packages\\ray\\util\\tracing\\tracing_helper.py\", line 460, in _resume_span\u001b[32m [repeated 3x across cluster]\u001b[0m\n",
      "\u001b[2m\u001b[36m(RolloutWorker pid=2368)\u001b[0m     return method(self, *_args, **_kwargs)\u001b[32m [repeated 3x across cluster]\u001b[0m\n",
      "\u001b[2m\u001b[36m(RolloutWorker pid=2368)\u001b[0m   File \"c:\\Users\\admin\\anaconda3\\envs\\marl\\lib\\site-packages\\ray\\rllib\\evaluation\\rollout_worker.py\", line 915, in sample\u001b[32m [repeated 2x across cluster]\u001b[0m\n",
      "\u001b[2m\u001b[36m(RolloutWorker pid=2368)\u001b[0m     batches = [self.input_reader.next()]\u001b[32m [repeated 2x across cluster]\u001b[0m\n",
      "\u001b[2m\u001b[36m(RolloutWorker pid=2368)\u001b[0m   File \"c:\\Users\\admin\\anaconda3\\envs\\marl\\lib\\site-packages\\ray\\rllib\\evaluation\\sampler.py\", line 92, in next\u001b[32m [repeated 2x across cluster]\u001b[0m\n",
      "\u001b[2m\u001b[36m(RolloutWorker pid=2368)\u001b[0m     batches = [self.get_data()]\u001b[32m [repeated 2x across cluster]\u001b[0m\n",
      "\u001b[2m\u001b[36m(RolloutWorker pid=2368)\u001b[0m   File \"c:\\Users\\admin\\anaconda3\\envs\\marl\\lib\\site-packages\\ray\\rllib\\evaluation\\sampler.py\", line 277, in get_data\u001b[32m [repeated 2x across cluster]\u001b[0m\n",
      "\u001b[2m\u001b[36m(RolloutWorker pid=2368)\u001b[0m     item = next(self._env_runner)\u001b[32m [repeated 2x across cluster]\u001b[0m\n",
      "\u001b[2m\u001b[36m(RolloutWorker pid=2368)\u001b[0m   File \"c:\\Users\\admin\\anaconda3\\envs\\marl\\lib\\site-packages\\ray\\rllib\\evaluation\\env_runner_v2.py\", line 323, in run\u001b[32m [repeated 2x across cluster]\u001b[0m\n",
      "\u001b[2m\u001b[36m(RolloutWorker pid=2368)\u001b[0m     outputs = self.step()\u001b[32m [repeated 2x across cluster]\u001b[0m\n",
      "\u001b[2m\u001b[36m(RolloutWorker pid=2368)\u001b[0m   File \"c:\\Users\\admin\\anaconda3\\envs\\marl\\lib\\site-packages\\ray\\rllib\\evaluation\\env_runner_v2.py\", line 349, in step\u001b[32m [repeated 2x across cluster]\u001b[0m\n",
      "\u001b[2m\u001b[36m(RolloutWorker pid=2368)\u001b[0m     active_envs, to_eval, outputs = self._process_observations(\u001b[32m [repeated 2x across cluster]\u001b[0m\n",
      "\u001b[2m\u001b[36m(RolloutWorker pid=2368)\u001b[0m   File \"c:\\Users\\admin\\anaconda3\\envs\\marl\\lib\\site-packages\\ray\\rllib\\evaluation\\env_runner_v2.py\", line 667, in _process_observations\u001b[32m [repeated 2x across cluster]\u001b[0m\n",
      "\u001b[2m\u001b[36m(RolloutWorker pid=2368)\u001b[0m     self._handle_done_episode(\u001b[32m [repeated 2x across cluster]\u001b[0m\n",
      "\u001b[2m\u001b[36m(RolloutWorker pid=2368)\u001b[0m   File \"c:\\Users\\admin\\anaconda3\\envs\\marl\\lib\\site-packages\\ray\\rllib\\evaluation\\env_runner_v2.py\", line 834, in _handle_done_episode\u001b[32m [repeated 2x across cluster]\u001b[0m\n",
      "\u001b[2m\u001b[36m(RolloutWorker pid=2368)\u001b[0m     resetted_obs, resetted_infos = self._base_env.try_reset(env_id)\u001b[32m [repeated 2x across cluster]\u001b[0m\n",
      "\u001b[2m\u001b[36m(RolloutWorker pid=2368)\u001b[0m   File \"c:\\Users\\admin\\anaconda3\\envs\\marl\\lib\\site-packages\\ray\\rllib\\env\\multi_agent_env.py\", line 707, in try_reset\u001b[32m [repeated 2x across cluster]\u001b[0m\n",
      "\u001b[2m\u001b[36m(RolloutWorker pid=2368)\u001b[0m     obs, infos = self.env_states[idx].reset(seed=seed, options=options)\u001b[32m [repeated 2x across cluster]\u001b[0m\n",
      "\u001b[2m\u001b[36m(RolloutWorker pid=2368)\u001b[0m   File \"c:\\Users\\admin\\anaconda3\\envs\\marl\\lib\\site-packages\\sumo_rl\\environment\\env.py\", line 253, in reset\u001b[32m [repeated 8x across cluster]\u001b[0m\n",
      "\u001b[2m\u001b[36m(RolloutWorker pid=2368)\u001b[0m     raise e\u001b[32m [repeated 2x across cluster]\u001b[0m\n",
      "\u001b[2m\u001b[36m(RolloutWorker pid=2368)\u001b[0m     obs_and_infos = self.env.reset(seed=seed, options=options)\u001b[32m [repeated 2x across cluster]\u001b[0m\n",
      "\u001b[2m\u001b[36m(RolloutWorker pid=2368)\u001b[0m     obs = self.env.reset()\u001b[32m [repeated 2x across cluster]\u001b[0m\n",
      "\u001b[2m\u001b[36m(RolloutWorker pid=2368)\u001b[0m     self._start_simulation()\u001b[32m [repeated 2x across cluster]\u001b[0m\n",
      "\u001b[2m\u001b[36m(RolloutWorker pid=2368)\u001b[0m   File \"c:\\Users\\admin\\anaconda3\\envs\\marl\\lib\\site-packages\\sumo_rl\\environment\\env.py\", line 235, in _start_simulation\u001b[32m [repeated 2x across cluster]\u001b[0m\n",
      "\u001b[2m\u001b[36m(RolloutWorker pid=2368)\u001b[0m     traci.start(sumo_cmd, label=self.label)\u001b[32m [repeated 2x across cluster]\u001b[0m\n",
      "\u001b[2m\u001b[36m(RolloutWorker pid=2368)\u001b[0m   File \"C:\\Program Files (x86)\\Eclipse\\Sumo\\tools\\traci\\main.py\", line 152, in start\u001b[32m [repeated 2x across cluster]\u001b[0m\n",
      "\u001b[2m\u001b[36m(RolloutWorker pid=2368)\u001b[0m     result = init(sumoPort, numRetries, \"localhost\", label, sumoProcess, doSwitch, traceFile, traceGetters)\u001b[32m [repeated 2x across cluster]\u001b[0m\n",
      "\u001b[2m\u001b[36m(RolloutWorker pid=2368)\u001b[0m   File \"C:\\Program Files (x86)\\Eclipse\\Sumo\\tools\\traci\\main.py\", line 124, in init\u001b[32m [repeated 2x across cluster]\u001b[0m\n",
      "\u001b[2m\u001b[36m(RolloutWorker pid=2368)\u001b[0m     return _connections[label].getVersion()\u001b[32m [repeated 2x across cluster]\u001b[0m\n",
      "\u001b[2m\u001b[36m(RolloutWorker pid=2368)\u001b[0m   File \"C:\\Program Files (x86)\\Eclipse\\Sumo\\tools\\traci\\connection.py\", line 340, in getVersion\u001b[32m [repeated 2x across cluster]\u001b[0m\n",
      "\u001b[2m\u001b[36m(RolloutWorker pid=2368)\u001b[0m     result = self._sendCmd(command, None, None)\u001b[32m [repeated 2x across cluster]\u001b[0m\n",
      "\u001b[2m\u001b[36m(RolloutWorker pid=2368)\u001b[0m   File \"C:\\Program Files (x86)\\Eclipse\\Sumo\\tools\\traci\\connection.py\", line 189, in _sendCmd\u001b[32m [repeated 2x across cluster]\u001b[0m\n",
      "\u001b[2m\u001b[36m(RolloutWorker pid=2368)\u001b[0m     return self._sendExact()\u001b[32m [repeated 2x across cluster]\u001b[0m\n",
      "\u001b[2m\u001b[36m(RolloutWorker pid=2368)\u001b[0m   File \"C:\\Program Files (x86)\\Eclipse\\Sumo\\tools\\traci\\connection.py\", line 101, in _sendExact\u001b[32m [repeated 2x across cluster]\u001b[0m\n",
      "\u001b[2m\u001b[36m(RolloutWorker pid=2368)\u001b[0m     prefix = result.read(\"!BBB\")\u001b[32m [repeated 2x across cluster]\u001b[0m\n",
      "\u001b[2m\u001b[36m(RolloutWorker pid=2368)\u001b[0m   File \"C:\\Program Files (x86)\\Eclipse\\Sumo\\tools\\traci\\storage.py\", line 38, in read\u001b[32m [repeated 2x across cluster]\u001b[0m\n",
      "\u001b[2m\u001b[36m(RolloutWorker pid=2368)\u001b[0m     return struct.unpack(format, self._content[oldPos:self._pos])\u001b[32m [repeated 2x across cluster]\u001b[0m\n",
      "\u001b[2m\u001b[36m(RolloutWorker pid=2368)\u001b[0m struct.error: unpack requires a buffer of 3 bytes\u001b[32m [repeated 2x across cluster]\u001b[0m\n",
      "\u001b[2m\u001b[36m(RolloutWorker pid=18264)\u001b[0m SystemExit: 1\n",
      "\u001b[2m\u001b[36m(RolloutWorker pid=18264)\u001b[0m SystemExit: 1\n",
      "2023-06-06 17:18:28,510\tERROR actor_manager.py:507 -- Ray error, taking actor 6 out of service. The actor died unexpectedly before finishing this task.\n",
      "2023-06-06 17:18:28,513\tERROR actor_manager.py:507 -- Ray error, taking actor 9 out of service. The actor died unexpectedly before finishing this task.\n"
     ]
    },
    {
     "name": "stdout",
     "output_type": "stream",
     "text": [
      "\u001b[2m\u001b[36m(RolloutWorker pid=3200)\u001b[0m delta_wait_time_reward 0.875\n",
      "\u001b[2m\u001b[36m(RolloutWorker pid=3200)\u001b[0m Step #0.00 (0ms ?*RT. ?UPS, TraCI: 16ms, vehicles TOT 0 ACT 0 BUF 0)                     \n"
     ]
    },
    {
     "name": "stderr",
     "output_type": "stream",
     "text": [
      "\u001b[2m\u001b[36m(RolloutWorker pid=3200)\u001b[0m Warning: Vehicle '176781_429_0' performs emergency braking on lane '-186623965#16_1' with decel=9.00, wished=4.50, severity=1.00, time=25612.00.\n",
      "\u001b[2m\u001b[36m(RolloutWorker pid=18264)\u001b[0m Warning: Vehicle '176781_429_0' performs emergency braking on lane '-186623965#16_1' with decel=9.00, wished=4.50, severity=1.00, time=25612.00.\n",
      "\u001b[2m\u001b[36m(RolloutWorker pid=18264)\u001b[0m     sys.exit(1)\u001b[32m [repeated 3x across cluster]\u001b[0m\n",
      "\u001b[2m\u001b[36m(RolloutWorker pid=18264)\u001b[0m Warning: Vehicle '176781_429_0' performs emergency braking on lane '-186623965#16_1' with decel=9.00, wished=4.50, severity=1.00, time=25612.00.\n",
      "\u001b[2m\u001b[36m(RolloutWorker pid=18264)\u001b[0m Warning: Vehicle '176781_429_0' performs emergency braking on lane '-186623965#16_1' with decel=9.00, wished=4.50, severity=1.00, time=25612.00.\n",
      "\u001b[2m\u001b[36m(RolloutWorker pid=18264)\u001b[0m Warning: Vehicle '176781_429_0' performs emergency braking on lane '-186623965#16_1' with decel=9.00, wished=4.50, severity=1.00, time=25612.00.\n",
      "\u001b[2m\u001b[36m(RolloutWorker pid=18264)\u001b[0m   File \"python\\ray\\_raylet.pyx\", line 881, in ray._raylet.execute_task\u001b[32m [repeated 4x across cluster]\u001b[0m\n",
      "\u001b[2m\u001b[36m(RolloutWorker pid=18264)\u001b[0m Warning: Vehicle '176781_429_0' performs emergency braking on lane '-186623965#16_1' with decel=9.00, wished=4.50, severity=1.00, time=25612.00.\n",
      "\u001b[2m\u001b[36m(RolloutWorker pid=18264)\u001b[0m Warning: Vehicle '176781_429_0' performs emergency braking on lane '-186623965#16_1' with decel=9.00, wished=4.50, severity=1.00, time=25612.00.\n",
      "\u001b[2m\u001b[36m(RolloutWorker pid=18264)\u001b[0m Warning: Vehicle '176781_429_0' performs emergency braking on lane '-186623965#16_1' with decel=9.00, wished=4.50, severity=1.00, time=25612.00.\n",
      "\u001b[2m\u001b[36m(RolloutWorker pid=18264)\u001b[0m Warning: Vehicle '176781_429_0' performs emergency braking on lane '-186623965#16_1' with decel=9.00, wished=4.50, severity=1.00, time=25612.00.\n",
      "\u001b[2m\u001b[36m(RolloutWorker pid=18264)\u001b[0m Traceback (most recent call last):\u001b[32m [repeated 2x across cluster]\u001b[0m\n",
      "\u001b[2m\u001b[36m(RolloutWorker pid=18264)\u001b[0m   File \"c:\\Users\\admin\\anaconda3\\envs\\marl\\lib\\site-packages\\ray\\rllib\\utils\\actor_manager.py\", line 183, in apply\u001b[32m [repeated 2x across cluster]\u001b[0m\n",
      "\u001b[2m\u001b[36m(RolloutWorker pid=18264)\u001b[0m Warning: Vehicle '176781_429_0' performs emergency braking on lane '-186623965#16_1' with decel=9.00, wished=4.50, severity=1.00, time=25612.00.\n",
      "\u001b[2m\u001b[36m(RolloutWorker pid=18264)\u001b[0m Warning: Vehicle '176781_429_0' performs emergency braking on lane '-186623965#16_1' with decel=9.00, wished=4.50, severity=1.00, time=25612.00.\n",
      "\u001b[2m\u001b[36m(RolloutWorker pid=18264)\u001b[0m Warning: Vehicle '176781_429_0' performs emergency braking on lane '-186623965#16_1' with decel=9.00, wished=4.50, severity=1.00, time=25612.00.\n",
      "\u001b[2m\u001b[36m(RolloutWorker pid=18264)\u001b[0m   File \"c:\\Users\\admin\\anaconda3\\envs\\marl\\lib\\site-packages\\ray\\util\\tracing\\tracing_helper.py\", line 460, in _resume_span\u001b[32m [repeated 2x across cluster]\u001b[0m\n",
      "\u001b[2m\u001b[36m(RolloutWorker pid=18264)\u001b[0m     return method(self, *_args, **_kwargs)\u001b[32m [repeated 2x across cluster]\u001b[0m\n",
      "\u001b[2m\u001b[36m(RolloutWorker pid=18264)\u001b[0m Warning: Vehicle '176781_429_0' performs emergency braking on lane '-186623965#16_1' with decel=9.00, wished=4.50, severity=1.00, time=25612.00.\n",
      "\u001b[2m\u001b[36m(RolloutWorker pid=18264)\u001b[0m Warning: Vehicle '176781_429_0' performs emergency braking on lane '-186623965#16_1' with decel=9.00, wished=4.50, severity=1.00, time=25612.00.\n",
      "\u001b[2m\u001b[36m(RolloutWorker pid=18264)\u001b[0m Warning: Vehicle '176781_429_0' performs emergency braking on lane '-186623965#16_1' with decel=9.00, wished=4.50, severity=1.00, time=25612.00.\n",
      "\u001b[2m\u001b[36m(RolloutWorker pid=18264)\u001b[0m Warning: Vehicle '176781_429_0' performs emergency braking on lane '-186623965#16_1' with decel=9.00, wished=4.50, severity=1.00, time=25612.00.\n",
      "\u001b[2m\u001b[36m(RolloutWorker pid=18264)\u001b[0m Warning: Vehicle '176781_429_0' performs emergency braking on lane '-186623965#16_1' with decel=9.00, wished=4.50, severity=1.00, time=25612.00.\n",
      "\u001b[2m\u001b[36m(RolloutWorker pid=18264)\u001b[0m Warning: Vehicle '176781_429_0' performs emergency braking on lane '-186623965#16_1' with decel=9.00, wished=4.50, severity=1.00, time=25612.00.\n",
      "\u001b[2m\u001b[36m(RolloutWorker pid=18264)\u001b[0m Warning: Vehicle '176781_429_0' performs emergency braking on lane '-186623965#16_1' with decel=9.00, wished=4.50, severity=1.00, time=25612.00.\n",
      "\u001b[2m\u001b[36m(RolloutWorker pid=18264)\u001b[0m Warning: Vehicle '176781_429_0' performs emergency braking on lane '-186623965#16_1' with decel=9.00, wished=4.50, severity=1.00, time=25612.00.\n",
      "\u001b[2m\u001b[36m(RolloutWorker pid=18264)\u001b[0m Warning: Vehicle '176781_429_0' performs emergency braking on lane '-186623965#16_1' with decel=9.00, wished=4.50, severity=1.00, time=25612.00.\n",
      "\u001b[2m\u001b[36m(RolloutWorker pid=18264)\u001b[0m Warning: Vehicle '176781_429_0' performs emergency braking on lane '-186623965#16_1' with decel=9.00, wished=4.50, severity=1.00, time=25612.00.\n",
      "\u001b[2m\u001b[36m(RolloutWorker pid=18264)\u001b[0m Warning: Vehicle '176781_429_0' performs emergency braking on lane '-186623965#16_1' with decel=9.00, wished=4.50, severity=1.00, time=25612.00.\n",
      "\u001b[2m\u001b[36m(RolloutWorker pid=18264)\u001b[0m Warning: Vehicle '176781_429_0' performs emergency braking on lane '-186623965#16_1' with decel=9.00, wished=4.50, severity=1.00, time=25612.00.\n",
      "\u001b[2m\u001b[36m(RolloutWorker pid=18264)\u001b[0m Warning: Vehicle '176781_429_0' performs emergency braking on lane '-186623965#16_1' with decel=9.00, wished=4.50, severity=1.00, time=25612.00.\n",
      "\u001b[2m\u001b[36m(RolloutWorker pid=18264)\u001b[0m Warning: Vehicle '176781_429_0' performs emergency braking on lane '-186623965#16_1' with decel=9.00, wished=4.50, severity=1.00, time=25612.00.\n",
      "\u001b[2m\u001b[36m(RolloutWorker pid=18264)\u001b[0m Warning: Vehicle '176781_429_0' performs emergency braking on lane '-186623965#16_1' with decel=9.00, wished=4.50, severity=1.00, time=25612.00.\n",
      "\u001b[2m\u001b[36m(RolloutWorker pid=18264)\u001b[0m Warning: Vehicle '176781_429_0' performs emergency braking on lane '-186623965#16_1' with decel=9.00, wished=4.50, severity=1.00, time=25612.00.\n",
      "\u001b[2m\u001b[36m(RolloutWorker pid=18264)\u001b[0m   File \"c:\\Users\\admin\\anaconda3\\envs\\marl\\lib\\site-packages\\sumo_rl\\environment\\env.py\", line 253, in reset\u001b[32m [repeated 4x across cluster]\u001b[0m\n",
      "\u001b[2m\u001b[36m(RolloutWorker pid=18264)\u001b[0m Warning: Vehicle '176781_429_0' performs emergency braking on lane '-186623965#16_1' with decel=9.00, wished=4.50, severity=1.00, time=25612.00.\n",
      "\u001b[2m\u001b[36m(RolloutWorker pid=18264)\u001b[0m Warning: Vehicle '176781_429_0' performs emergency braking on lane '-186623965#16_1' with decel=9.00, wished=4.50, severity=1.00, time=25612.00.\n",
      "\u001b[2m\u001b[36m(RolloutWorker pid=18264)\u001b[0m Warning: Vehicle '176781_429_0' performs emergency braking on lane '-186623965#16_1' with decel=9.00, wished=4.50, severity=1.00, time=25612.00.\n",
      "\u001b[2m\u001b[36m(RolloutWorker pid=18264)\u001b[0m Warning: Vehicle '176781_429_0' performs emergency braking on lane '-186623965#16_1' with decel=9.00, wished=4.50, severity=1.00, time=25612.00.\n",
      "\u001b[2m\u001b[36m(RolloutWorker pid=18264)\u001b[0m Warning: Vehicle '176781_429_0' performs emergency braking on lane '-186623965#16_1' with decel=9.00, wished=4.50, severity=1.00, time=25612.00.\n",
      "\u001b[2m\u001b[36m(RolloutWorker pid=18264)\u001b[0m Warning: Vehicle '176781_429_0' performs emergency braking on lane '-186623965#16_1' with decel=9.00, wished=4.50, severity=1.00, time=25612.00.\n",
      "\u001b[2m\u001b[36m(RolloutWorker pid=18264)\u001b[0m Warning: Vehicle '176781_429_0' performs emergency braking on lane '-186623965#16_1' with decel=9.00, wished=4.50, severity=1.00, time=25612.00.\n",
      "\u001b[2m\u001b[36m(RolloutWorker pid=18264)\u001b[0m Warning: Vehicle '176781_429_0' performs emergency braking on lane '-186623965#16_1' with decel=9.00, wished=4.50, severity=1.00, time=25612.00.\n",
      "\u001b[2m\u001b[36m(RolloutWorker pid=18264)\u001b[0m Warning: Vehicle '176781_429_0' performs emergency braking on lane '-186623965#16_1' with decel=9.00, wished=4.50, severity=1.00, time=25612.00.\n",
      "\u001b[2m\u001b[36m(RolloutWorker pid=18264)\u001b[0m Warning: Vehicle '176781_429_0' performs emergency braking on lane '-186623965#16_1' with decel=9.00, wished=4.50, severity=1.00, time=25612.00.\n",
      "\u001b[2m\u001b[36m(RolloutWorker pid=18264)\u001b[0m Warning: Vehicle '176781_429_0' performs emergency braking on lane '-186623965#16_1' with decel=9.00, wished=4.50, severity=1.00, time=25612.00.\n",
      "\u001b[2m\u001b[36m(RolloutWorker pid=18264)\u001b[0m Warning: Vehicle '176781_429_0' performs emergency braking on lane '-186623965#16_1' with decel=9.00, wished=4.50, severity=1.00, time=25612.00.\n",
      "\u001b[2m\u001b[36m(RolloutWorker pid=18264)\u001b[0m Warning: Vehicle '176781_429_0' performs emergency braking on lane '-186623965#16_1' with decel=9.00, wished=4.50, severity=1.00, time=25612.00.\n",
      "\u001b[2m\u001b[36m(RolloutWorker pid=18264)\u001b[0m Warning: Vehicle '176781_429_0' performs emergency braking on lane '-186623965#16_1' with decel=9.00, wished=4.50, severity=1.00, time=25612.00.\n",
      "\u001b[2m\u001b[36m(RolloutWorker pid=18264)\u001b[0m Warning: Vehicle '176781_429_0' performs emergency braking on lane '-186623965#16_1' with decel=9.00, wished=4.50, severity=1.00, time=25612.00.\n",
      "\u001b[2m\u001b[36m(RolloutWorker pid=18264)\u001b[0m Warning: Vehicle '176781_429_0' performs emergency braking on lane '-186623965#16_1' with decel=9.00, wished=4.50, severity=1.00, time=25612.00.\n",
      "\u001b[2m\u001b[36m(RolloutWorker pid=18264)\u001b[0m Warning: Vehicle '176781_429_0' performs emergency braking on lane '-186623965#16_1' with decel=9.00, wished=4.50, severity=1.00, time=25612.00.\n",
      "\u001b[2m\u001b[36m(RolloutWorker pid=18264)\u001b[0m Warning: Vehicle '176781_429_0' performs emergency braking on lane '-186623965#16_1' with decel=9.00, wished=4.50, severity=1.00, time=25612.00.\n",
      "\u001b[2m\u001b[36m(RolloutWorker pid=18264)\u001b[0m Warning: Vehicle '176781_429_0' performs emergency braking on lane '-186623965#16_1' with decel=9.00, wished=4.50, severity=1.00, time=25612.00.\n"
     ]
    },
    {
     "name": "stdout",
     "output_type": "stream",
     "text": [
      "Step #25600.00 (1ms ~= 1000.00*RT, ~52000.00UPS, TraCI: 60ms, vehicles TOT 206 ACT 52 BUF I: 35ms, vehicles TOT 2 ACT 2 BUF 0)  \n",
      "Step #25600.00 (1ms ~= 1000.00*RT, ~52000.00UPS, TraCI: 60ms, vehicles TOT 206 ACT 52 BUF CI: 35ms, vehicles TOT 2 ACT 2 BUF 0)  \n",
      "Step #25600.00 (1ms ~= 1000.00*RT, ~52000.00UPS, TraCI: 60ms, vehicles TOT 206 ACT 52 BUF CI: 35ms, vehicles TOT 2 ACT 2 BUF 0)  \n"
     ]
    },
    {
     "name": "stderr",
     "output_type": "stream",
     "text": [
      "\u001b[2m\u001b[36m(RolloutWorker pid=24144)\u001b[0m Warning: Vehicle '167113_425_0' performs emergency braking on lane ':26110729_5_1' with decel=9.00, wished=4.50, severity=1.00, time=26905.00.\n"
     ]
    },
    {
     "name": "stdout",
     "output_type": "stream",
     "text": [
      "Step #26900.00 (0ms ?*RT. ?UPS, TraCI: 90ms, vehicles TOT 1027 ACT 102 BUF 51)            es TOT 2 ACT 2 BUF 0)                  \n"
     ]
    },
    {
     "name": "stderr",
     "output_type": "stream",
     "text": [
      "\u001b[2m\u001b[36m(RolloutWorker pid=20048)\u001b[0m Warning: Vehicle '200638_437_0' performs emergency braking on lane ':26110729_5_1' with decel=9.00, wished=4.50, severity=1.00, time=28035.00.\n"
     ]
    },
    {
     "name": "stdout",
     "output_type": "stream",
     "text": [
      "Step #28000.00 (0ms ?*RT. ?UPS, TraCI: 82ms, vehicles TOT 1655 ACT 83 BUF 18)             es TOT 2 ACT 2 BUF 0)                  \n",
      "Step #28800.00 (0ms ?*RT. ?UPS, TraCI: 120ms, vehicles TOT 2009 ACT 65 BUF 37)            CI: 34ms, vehicles TOT 2 ACT 2 BUF 0)  \n",
      "Step #28800.00 (0ms ?*RT. ?UPS, TraCI: 124ms, vehicles TOT 2022 ACT 64 BUF 24)            s TOT 2 ACT 2 BUF 0)                  \n",
      "Step #28800.00 (0ms ?*RT. ?UPS, TraCI: 126ms, vehicles TOT 2013 ACT 68 BUF 33)            aCI: 83ms, vehicles TOT 1697 ACT 76 BUF\n",
      "Step #28800.00 (0ms ?*RT. ?UPS, TraCI: 120ms, vehicles TOT 2015 ACT 67 BUF 31)            I: 27ms, vehicles TOT 2 ACT 2 BUF 0)  \n",
      "Step #28800.00 (1ms ~= 1000.00*RT, ~63000.00UPS, TraCI: 125ms, vehicles TOT 2006 ACT 63 BUCI: 34ms, vehicles TOT 2 ACT 2 BUF 0)  \n",
      "Step #28800.00 (0ms ?*RT. ?UPS, TraCI: 134ms, vehicles TOT 2013 ACT 68 BUF 33)            s TOT 2 ACT 2 BUF 0)                  \n",
      "Step #28800.00 (1ms ~= 1000.00*RT, ~65000.00UPS, TraCI: 124ms, vehicles TOT 2011 ACT 65 BUI: 27ms, vehicles TOT 2 ACT 2 BUF 0)  \n",
      "Step #28800.00 (0ms ?*RT. ?UPS, TraCI: 111ms, vehicles TOT 2013 ACT 66 BUF 33)            es TOT 2 ACT 2 BUF 0)                  \n",
      "Step #28800.00 (1ms ~= 1000.00*RT, ~65000.00UPS, TraCI: 84ms, vehicles TOT 2007 ACT 65 BUFes TOT 271 ACT 55 BUF 0)              \n",
      "Step #28800.00 (0ms ?*RT. ?UPS, TraCI: 80ms, vehicles TOT 2004 ACT 65 BUF 42)             aCI: 91ms, vehicles TOT 1097 ACT 95 BUF\n"
     ]
    },
    {
     "name": "stderr",
     "output_type": "stream",
     "text": [
      "\u001b[2m\u001b[36m(RolloutWorker pid=5640)\u001b[0m Warning: Vehicle '188987_434_0' performs emergency braking on lane '186623965#9_1' with decel=9.00, wished=4.50, severity=1.00, time=26154.00.\n"
     ]
    },
    {
     "name": "stdout",
     "output_type": "stream",
     "text": [
      "Step #26100.00 (1ms ~= 1000.00*RT, ~92000.00UPS, TraCI: 88ms, vehicles TOT 559 ACT 92 BUF s TOT 2 ACT 2 BUF 0)                  \n"
     ]
    },
    {
     "name": "stderr",
     "output_type": "stream",
     "text": [
      "\u001b[2m\u001b[36m(RolloutWorker pid=3200)\u001b[0m Warning: Vehicle '178434_430_0' performs emergency braking on lane '186623965#9_1' with decel=9.00, wished=4.50, severity=1.00, time=27303.00.\n"
     ]
    },
    {
     "name": "stdout",
     "output_type": "stream",
     "text": [
      "Step #27300.00 (1ms ~= 1000.00*RT, ~88000.00UPS, TraCI: 78ms, vehicles TOT 1315 ACT 88 BUFI: 40ms, vehicles TOT 2 ACT 2 BUF 0)  \n",
      "Step #27900.00 (1ms ~= 1000.00*RT, ~74000.00UPS, TraCI: 78ms, vehicles TOT 1588 ACT 74 BUFs TOT 2 ACT 2 BUF 0)                  \n",
      "Step #28800.00 (0ms ?*RT. ?UPS, TraCI: 77ms, vehicles TOT 2020 ACT 68 BUF 26)             CI: 25ms, vehicles TOT 2 ACT 2 BUF 0)  \n",
      "Step #28800.00 (1ms ~= 1000.00*RT, ~64000.00UPS, TraCI: 72ms, vehicles TOT 2023 ACT 64 BUFCI: 26ms, vehicles TOT 2 ACT 2 BUF 0)  \n",
      "Step #28800.00 (1ms ~= 1000.00*RT, ~65000.00UPS, TraCI: 78ms, vehicles TOT 2018 ACT 65 BUFs TOT 2 ACT 2 BUF 0)                  \n",
      "Step #28800.00 (1ms ~= 1000.00*RT, ~62000.00UPS, TraCI: 79ms, vehicles TOT 2026 ACT 62 BUFCI: 25ms, vehicles TOT 2 ACT 2 BUF 0)  \n",
      "Step #28800.00 (1ms ~= 1000.00*RT, ~69000.00UPS, TraCI: 78ms, vehicles TOT 2005 ACT 69 BUFs TOT 1645 ACT 81 BUF 28)             \n",
      "Step #28800.00 (1ms ~= 1000.00*RT, ~65000.00UPS, TraCI: 83ms, vehicles TOT 2023 ACT 65 BUFI: 23ms, vehicles TOT 2 ACT 2 BUF 0)  \n",
      "Step #28800.00 (0ms ?*RT. ?UPS, TraCI: 81ms, vehicles TOT 2030 ACT 66 BUF 16)             es TOT 633 ACT 103 BUF 28)            \n",
      "Step #28800.00 (1ms ~= 1000.00*RT, ~489000.00UPS, TraCI: 337ms, vehicles TOT 1830 ACT 489 CI: 26ms, vehicles TOT 2 ACT 2 BUF 0)  \n",
      "Step #28800.00 (0ms ?*RT. ?UPS, TraCI: 94ms, vehicles TOT 2031 ACT 67 BUF 15)             s TOT 1363 ACT 74 BUF 6)              \n",
      "Step #28800.00 (1ms ~= 1000.00*RT, ~69000.00UPS, TraCI: 102ms, vehicles TOT 2021 ACT 69 BUCI: 37ms, vehicles TOT 2 ACT 2 BUF 0)  \n"
     ]
    },
    {
     "name": "stderr",
     "output_type": "stream",
     "text": [
      "\u001b[2m\u001b[36m(RolloutWorker pid=3200)\u001b[0m Warning: Vehicle '175093_428_0' performs emergency braking on lane ':26110729_14_1' with decel=9.00, wished=4.50, severity=1.00, time=25783.00.\u001b[32m [repeated 2x across cluster]\u001b[0m\n"
     ]
    },
    {
     "name": "stdout",
     "output_type": "stream",
     "text": [
      "Step #25700.00 (1ms ~= 1000.00*RT, ~59000.00UPS, TraCI: 63ms, vehicles TOT 271 ACT 59 BUF I: 38ms, vehicles TOT 2 ACT 2 BUF 0)  \n"
     ]
    },
    {
     "name": "stderr",
     "output_type": "stream",
     "text": [
      "\u001b[2m\u001b[36m(RolloutWorker pid=13580)\u001b[0m Warning: Vehicle '167113_425_0' performs emergency braking on lane '186623965#9_1' with decel=9.00, wished=4.50, severity=1.00, time=26904.00.\n"
     ]
    },
    {
     "name": "stdout",
     "output_type": "stream",
     "text": [
      "Step #26900.00 (1ms ~= 1000.00*RT, ~96000.00UPS, TraCI: 83ms, vehicles TOT 1039 ACT 96 BUFCI: 39ms, vehicles TOT 2 ACT 2 BUF 0)  \n"
     ]
    },
    {
     "name": "stderr",
     "output_type": "stream",
     "text": [
      "\u001b[2m\u001b[36m(RolloutWorker pid=20048)\u001b[0m Warning: Vehicle '241789_452_0' performs emergency braking on lane ':26110729_14_1' with decel=9.00, wished=4.50, severity=1.00, time=28409.00.\n"
     ]
    },
    {
     "name": "stdout",
     "output_type": "stream",
     "text": [
      "Step #28400.00 (1ms ~= 1000.00*RT, ~72000.00UPS, TraCI: 79ms, vehicles TOT 1867 ACT 72 BUFCI: 35ms, vehicles TOT 2 ACT 2 BUF 0)  \n",
      "Step #28800.00 (0ms ?*RT. ?UPS, TraCI: 93ms, vehicles TOT 2026 ACT 63 BUF 20)             CI: 40ms, vehicles TOT 2 ACT 2 BUF 0)  \n",
      "Step #28800.00 (0ms ?*RT. ?UPS, TraCI: 99ms, vehicles TOT 2027 ACT 69 BUF 19)             s TOT 2 ACT 2 BUF 0)                  \n",
      "Step #28800.00 (0ms ?*RT. ?UPS, TraCI: 94ms, vehicles TOT 2026 ACT 63 BUF 20)             aCI: 91ms, vehicles TOT 1112 ACT 94 BUF\n",
      "Step #28800.00 (0ms ?*RT. ?UPS, TraCI: 96ms, vehicles TOT 2024 ACT 62 BUF 22)             I: 37ms, vehicles TOT 2 ACT 2 BUF 0)  \n",
      "Step #28800.00 (1ms ~= 1000.00*RT, ~64000.00UPS, TraCI: 94ms, vehicles TOT 2030 ACT 64 BUFI: 40ms, vehicles TOT 2 ACT 2 BUF 0)  \n",
      "Step #28800.00 (0ms ?*RT. ?UPS, TraCI: 94ms, vehicles TOT 2025 ACT 70 BUF 21)             es TOT 1909 ACT 71 BUF 24)             \n",
      "Step #28800.00 (0ms ?*RT. ?UPS, TraCI: 89ms, vehicles TOT 2027 ACT 66 BUF 19)             es TOT 2 ACT 2 BUF 0)                  \n",
      "Step #28800.00 (1ms ~= 1000.00*RT, ~69000.00UPS, TraCI: 97ms, vehicles TOT 2042 ACT 69 BUFI: 40ms, vehicles TOT 2 ACT 2 BUF 0)  \n",
      "Step #28800.00 (1ms ~= 1000.00*RT, ~64000.00UPS, TraCI: 113ms, vehicles TOT 2026 ACT 64 BUs TOT 330 ACT 51 BUF 0)               \n",
      "Step #28800.00 (1ms ~= 1000.00*RT, ~67000.00UPS, TraCI: 103ms, vehicles TOT 2025 ACT 67 BUCI: 37ms, vehicles TOT 2 ACT 2 BUF 0)  \n"
     ]
    },
    {
     "name": "stderr",
     "output_type": "stream",
     "text": [
      "\u001b[2m\u001b[36m(RolloutWorker pid=3060)\u001b[0m Warning: Vehicle '145955_416_0' performs emergency braking on lane ':26110729_5_1' with decel=9.00, wished=4.50, severity=1.00, time=26385.00.\n"
     ]
    },
    {
     "name": "stdout",
     "output_type": "stream",
     "text": [
      "Step #26300.00 (1ms ~= 1000.00*RT, ~119000.00UPS, TraCI: 96ms, vehicles TOT 721 ACT 119 BUs TOT 2 ACT 2 BUF 0)                  \n"
     ]
    },
    {
     "name": "stderr",
     "output_type": "stream",
     "text": [
      "\u001b[2m\u001b[36m(RolloutWorker pid=24144)\u001b[0m Warning: Vehicle '189846_434_0' performs emergency braking on lane ':26110729_5_1' with decel=9.00, wished=4.50, severity=1.00, time=26679.00.\n"
     ]
    },
    {
     "name": "stdout",
     "output_type": "stream",
     "text": [
      "Step #26600.00 (0ms ?*RT. ?UPS, TraCI: 92ms, vehicles TOT 868 ACT 97 BUF 71)              CI: 26ms, vehicles TOT 2 ACT 2 BUF 0)  \n",
      "Step #27300.00 (1ms ~= 1000.00*RT, ~91000.00UPS, TraCI: 87ms, vehicles TOT 1299 ACT 91 BUFI: 35ms, vehicles TOT 2 ACT 2 BUF 0)  \n"
     ]
    },
    {
     "name": "stderr",
     "output_type": "stream",
     "text": [
      "\u001b[2m\u001b[36m(RolloutWorker pid=13580)\u001b[0m Warning: Vehicle '236819_451_0' performs emergency braking on lane ':26110729_14_1' with decel=9.00, wished=4.50, severity=1.00, time=28293.00.\u001b[32m [repeated 2x across cluster]\u001b[0m\n"
     ]
    },
    {
     "name": "stdout",
     "output_type": "stream",
     "text": [
      "Step #28200.00 (1ms ~= 1000.00*RT, ~71000.00UPS, TraCI: 83ms, vehicles TOT 1733 ACT 71 BUFes TOT 2 ACT 2 BUF 0)                  \n",
      "Step #28800.00 (1ms ~= 1000.00*RT, ~67000.00UPS, TraCI: 109ms, vehicles TOT 2021 ACT 67 BUCI: 36ms, vehicles TOT 2 ACT 2 BUF 0)  \n",
      "Step #28800.00 (1ms ~= 1000.00*RT, ~66000.00UPS, TraCI: 117ms, vehicles TOT 2011 ACT 66 BUCI: 35ms, vehicles TOT 2 ACT 2 BUF 0)  \n",
      "Step #28800.00 (0ms ?*RT. ?UPS, TraCI: 108ms, vehicles TOT 2019 ACT 68 BUF 27)            CI: 87ms, vehicles TOT 770 ACT 99 BUF \n",
      "Step #28800.00 (1ms ~= 1000.00*RT, ~69000.00UPS, TraCI: 106ms, vehicles TOT 2001 ACT 69 BUaCI: 88ms, vehicles TOT 1798 ACT 91 BUF\n",
      "Step #28800.00 (0ms ?*RT. ?UPS, TraCI: 101ms, vehicles TOT 2010 ACT 67 BUF 36)            CI: 35ms, vehicles TOT 2 ACT 2 BUF 0)  \n",
      "Step #28800.00 (0ms ?*RT. ?UPS, TraCI: 115ms, vehicles TOT 2010 ACT 66 BUF 36)            s TOT 1346 ACT 75 BUF 23)             \n",
      "Step #28800.00 (1ms ~= 1000.00*RT, ~68000.00UPS, TraCI: 105ms, vehicles TOT 2013 ACT 68 BUs TOT 2 ACT 2 BUF 0)                  \n",
      "Step #28800.00 (0ms ?*RT. ?UPS, TraCI: 110ms, vehicles TOT 2000 ACT 64 BUF 46)            I: 36ms, vehicles TOT 2 ACT 2 BUF 0)  \n",
      "Step #28800.00 (0ms ?*RT. ?UPS, TraCI: 76ms, vehicles TOT 2023 ACT 70 BUF 23)             I: 21ms, vehicles TOT 2 ACT 2 BUF 0)  \n",
      "Step #28800.00 (0ms ?*RT. ?UPS, TraCI: 75ms, vehicles TOT 2000 ACT 69 BUF 46)             es TOT 911 ACT 77 BUF 68)              \n"
     ]
    },
    {
     "name": "stderr",
     "output_type": "stream",
     "text": [
      "\u001b[2m\u001b[36m(RolloutWorker pid=1732)\u001b[0m Warning: Vehicle '150226_418_0' performs emergency braking on lane ':247379907_5_1' with decel=9.00, wished=4.50, severity=1.00, time=25980.00.\n"
     ]
    },
    {
     "name": "stdout",
     "output_type": "stream",
     "text": [
      "Step #25900.00 (1ms ~= 1000.00*RT, ~64000.00UPS, TraCI: 133ms, vehicles TOT 395 ACT 64 BUFs TOT 2 ACT 2 BUF 0)                  \n"
     ]
    },
    {
     "name": "stderr",
     "output_type": "stream",
     "text": [
      "\u001b[2m\u001b[36m(RolloutWorker pid=13580)\u001b[0m Warning: Vehicle '188987_434_0' performs emergency braking on lane ':26110729_5_1' with decel=9.00, wished=4.50, severity=1.00, time=26154.00.\n"
     ]
    },
    {
     "name": "stdout",
     "output_type": "stream",
     "text": [
      "Step #26100.00 (0ms ?*RT. ?UPS, TraCI: 86ms, vehicles TOT 554 ACT 90 BUF 28)              es TOT 2 ACT 2 BUF 0)                  \n",
      "Step #26100.00 (1ms ~= 1000.00*RT, ~93000.00UPS, TraCI: 90ms, vehicles TOT 560 ACT 93 BUF CI: 35ms, vehicles TOT 2 ACT 2 BUF 0)  \n"
     ]
    },
    {
     "name": "stderr",
     "output_type": "stream",
     "text": [
      "\u001b[2m\u001b[36m(RolloutWorker pid=3200)\u001b[0m Warning: Vehicle '210175_441_0' performs emergency braking on lane ':26110729_14_1' with decel=9.00, wished=4.50, severity=1.00, time=26301.00.\u001b[32m [repeated 2x across cluster]\u001b[0m\n"
     ]
    },
    {
     "name": "stdout",
     "output_type": "stream",
     "text": [
      "Step #26300.00 (1ms ~= 1000.00*RT, ~120000.00UPS, TraCI: 145ms, vehicles TOT 720 ACT 120 Bs TOT 2 ACT 2 BUF 0)                  \n"
     ]
    },
    {
     "name": "stderr",
     "output_type": "stream",
     "text": [
      "\u001b[2m\u001b[36m(RolloutWorker pid=13580)\u001b[0m Warning: Vehicle '178434_430_0' performs emergency braking on lane ':26110729_5_1' with decel=9.00, wished=4.50, severity=1.00, time=27303.00.\n"
     ]
    },
    {
     "name": "stdout",
     "output_type": "stream",
     "text": [
      "Step #27300.00 (1ms ~= 1000.00*RT, ~89000.00UPS, TraCI: 82ms, vehicles TOT 1298 ACT 89 BUFraCI: 94ms, vehicles TOT 627 ACT 102 BU\n",
      "Step #28800.00 (0ms ?*RT. ?UPS, TraCI: 114ms, vehicles TOT 2010 ACT 62 BUF 36)            CI: 39ms, vehicles TOT 2 ACT 2 BUF 0)  \n",
      "Step #28800.00 (1ms ~= 1000.00*RT, ~63000.00UPS, TraCI: 122ms, vehicles TOT 2016 ACT 63 BUes TOT 2 ACT 2 BUF 0)                  \n",
      "Step #28800.00 (0ms ?*RT. ?UPS, TraCI: 124ms, vehicles TOT 2003 ACT 71 BUF 43)            les TOT 1347 ACT 73 BUF 22)            \n",
      "Step #28800.00 (0ms ?*RT. ?UPS, TraCI: 112ms, vehicles TOT 1998 ACT 63 BUF 48)            s TOT 477 ACT 91 BUF 9)               \n",
      "Step #28800.00 (0ms ?*RT. ?UPS, TraCI: 116ms, vehicles TOT 2018 ACT 63 BUF 28)            I: 37ms, vehicles TOT 2 ACT 2 BUF 0)  \n",
      "Step #28800.00 (1ms ~= 1000.00*RT, ~64000.00UPS, TraCI: 98ms, vehicles TOT 2010 ACT 64 BUFI: 42ms, vehicles TOT 2 ACT 2 BUF 0)  \n",
      "Step #28800.00 (0ms ?*RT. ?UPS, TraCI: 96ms, vehicles TOT 2010 ACT 66 BUF 36)             es TOT 633 ACT 98 BUF 28)              \n",
      "Step #28800.00 (0ms ?*RT. ?UPS, TraCI: 87ms, vehicles TOT 1999 ACT 67 BUF 47)             s TOT 2 ACT 2 BUF 0)                  \n",
      "Step #28800.00 (0ms ?*RT. ?UPS, TraCI: 84ms, vehicles TOT 2009 ACT 65 BUF 37)             CI: 93ms, vehicles TOT 768 ACT 98 BUF \n",
      "Step #28800.00 (0ms ?*RT. ?UPS, TraCI: 78ms, vehicles TOT 2009 ACT 64 BUF 37)             es TOT 2 ACT 2 BUF 0)                  \n"
     ]
    },
    {
     "name": "stderr",
     "output_type": "stream",
     "text": [
      "\u001b[2m\u001b[36m(RolloutWorker pid=20048)\u001b[0m Warning: Vehicle '186121_432_0' performs emergency braking on lane ':26110729_7_0' with decel=9.00, wished=4.50, severity=1.00, time=27712.00.\n"
     ]
    },
    {
     "name": "stdout",
     "output_type": "stream",
     "text": [
      "Step #27700.00 (1ms ~= 1000.00*RT, ~92000.00UPS, TraCI: 95ms, vehicles TOT 1497 ACT 92 BUFCI: 26ms, vehicles TOT 2 ACT 2 BUF 0)  \n"
     ]
    },
    {
     "name": "stderr",
     "output_type": "stream",
     "text": [
      "\u001b[2m\u001b[36m(RolloutWorker pid=13580)\u001b[0m Warning: Vehicle '139203_413_0' performs emergency braking on lane ':26110729_5_1' with decel=9.00, wished=4.50, severity=1.00, time=28298.00.\n"
     ]
    },
    {
     "name": "stdout",
     "output_type": "stream",
     "text": [
      "Step #28200.00 (0ms ?*RT. ?UPS, TraCI: 87ms, vehicles TOT 1740 ACT 75 BUF 11)             CI: 26ms, vehicles TOT 2 ACT 2 BUF 0)  \n",
      "Step #28800.00 (0ms ?*RT. ?UPS, TraCI: 127ms, vehicles TOT 2002 ACT 69 BUF 44)            les TOT 1801 ACT 95 BUF 14)            \n",
      "Step #28800.00 (0ms ?*RT. ?UPS, TraCI: 125ms, vehicles TOT 1976 ACT 69 BUF 70)            I: 27ms, vehicles TOT 2 ACT 2 BUF 0)  \n",
      "Step #28800.00 (1ms ~= 1000.00*RT, ~67000.00UPS, TraCI: 123ms, vehicles TOT 1981 ACT 67 BUaCI: 120ms, vehicles TOT 1526 ACT 66 BU\n",
      "Step #28800.00 (0ms ?*RT. ?UPS, TraCI: 123ms, vehicles TOT 1994 ACT 68 BUF 52)            s TOT 2 ACT 2 BUF 0)                  \n",
      "Step #28800.00 (0ms ?*RT. ?UPS, TraCI: 122ms, vehicles TOT 1993 ACT 68 BUF 53)            I: 33ms, vehicles TOT 2 ACT 2 BUF 0)  \n",
      "Step #28800.00 (1ms ~= 1000.00*RT, ~69000.00UPS, TraCI: 95ms, vehicles TOT 1991 ACT 69 BUFes TOT 2 ACT 2 BUF 0)                  \n",
      "Step #28800.00 (1ms ~= 1000.00*RT, ~68000.00UPS, TraCI: 95ms, vehicles TOT 1993 ACT 68 BUFCI: 32ms, vehicles TOT 2 ACT 2 BUF 0)  \n",
      "Step #28800.00 (0ms ?*RT. ?UPS, TraCI: 101ms, vehicles TOT 1978 ACT 71 BUF 68)            I: 29ms, vehicles TOT 2 ACT 2 BUF 0)  \n",
      "Step #28800.00 (0ms ?*RT. ?UPS, TraCI: 85ms, vehicles TOT 1998 ACT 69 BUF 48)             I: 26ms, vehicles TOT 2 ACT 2 BUF 0)  \n",
      "Step #28800.00 (0ms ?*RT. ?UPS, TraCI: 82ms, vehicles TOT 1985 ACT 73 BUF 61)             CI: 26ms, vehicles TOT 2 ACT 2 BUF 0)  \n"
     ]
    },
    {
     "name": "stderr",
     "output_type": "stream",
     "text": [
      "\u001b[2m\u001b[36m(RolloutWorker pid=3200)\u001b[0m Warning: Vehicle '188987_434_0' performs emergency braking on lane ':26110729_5_1' with decel=9.00, wished=4.50, severity=1.00, time=26154.00.\n"
     ]
    },
    {
     "name": "stdout",
     "output_type": "stream",
     "text": [
      "Step #26100.00 (1ms ~= 1000.00*RT, ~92000.00UPS, TraCI: 144ms, vehicles TOT 553 ACT 92 BUFI: 38ms, vehicles TOT 2 ACT 2 BUF 0)  \n",
      "Step #26800.00 (0ms ?*RT. ?UPS, TraCI: 85ms, vehicles TOT 963 ACT 84 BUF 55)              I: 29ms, vehicles TOT 2 ACT 2 BUF 0)  \n"
     ]
    },
    {
     "name": "stderr",
     "output_type": "stream",
     "text": [
      "\u001b[2m\u001b[36m(RolloutWorker pid=3060)\u001b[0m Warning: Vehicle '139203_413_0' performs emergency braking on lane ':26110729_5_1' with decel=9.00, wished=4.50, severity=1.00, time=28298.00.\u001b[32m [repeated 2x across cluster]\u001b[0m\n"
     ]
    },
    {
     "name": "stdout",
     "output_type": "stream",
     "text": [
      "Step #28200.00 (0ms ?*RT. ?UPS, TraCI: 149ms, vehicles TOT 1711 ACT 75 BUF 40)            I: 26ms, vehicles TOT 2 ACT 2 BUF 0)  \n",
      "Step #28800.00 (1ms ~= 1000.00*RT, ~69000.00UPS, TraCI: 84ms, vehicles TOT 1978 ACT 69 BUFes TOT 2 ACT 2 BUF 0)                  \n",
      "Step #28800.00 (0ms ?*RT. ?UPS, TraCI: 88ms, vehicles TOT 1962 ACT 68 BUF 84)             CI: 26ms, vehicles TOT 2 ACT 2 BUF 0)  \n",
      "Step #28800.00 (0ms ?*RT. ?UPS, TraCI: 88ms, vehicles TOT 1975 ACT 68 BUF 71)             s TOT 1775 ACT 93 BUF 40)             \n",
      "Step #28800.00 (0ms ?*RT. ?UPS, TraCI: 92ms, vehicles TOT 1972 ACT 68 BUF 74)             es TOT 2 ACT 2 BUF 0)                  \n",
      "Step #28800.00 (0ms ?*RT. ?UPS, TraCI: 85ms, vehicles TOT 1981 ACT 69 BUF 65)             CI: 25ms, vehicles TOT 2 ACT 2 BUF 0)  \n",
      "Step #28800.00 (1ms ~= 1000.00*RT, ~65000.00UPS, TraCI: 81ms, vehicles TOT 1997 ACT 65 BUFs TOT 2 ACT 2 BUF 0)                  \n",
      "Step #28800.00 (1ms ~= 1000.00*RT, ~69000.00UPS, TraCI: 83ms, vehicles TOT 1988 ACT 69 BUFs TOT 2 ACT 2 BUF 0)                  \n",
      "Step #28800.00 (1ms ~= 1000.00*RT, ~68000.00UPS, TraCI: 84ms, vehicles TOT 1977 ACT 68 BUFCI: 91ms, vehicles TOT 1031 ACT 96 BUF\n",
      "Step #28800.00 (1ms ~= 1000.00*RT, ~72000.00UPS, TraCI: 98ms, vehicles TOT 1968 ACT 72 BUFaCI: 107ms, vehicles TOT 625 ACT 106 B\n",
      "Step #28800.00 (0ms ?*RT. ?UPS, TraCI: 91ms, vehicles TOT 1974 ACT 70 BUF 72)             es TOT 2 ACT 2 BUF 0)                  \n"
     ]
    },
    {
     "name": "stderr",
     "output_type": "stream",
     "text": [
      "\u001b[2m\u001b[36m(RolloutWorker pid=13580)\u001b[0m Warning: Vehicle '183638_431_0' performs emergency braking on lane ':26110729_5_1' with decel=9.00, wished=4.50, severity=1.00, time=26235.00.\n"
     ]
    },
    {
     "name": "stdout",
     "output_type": "stream",
     "text": [
      "Step #26200.00 (1ms ~= 1000.00*RT, ~102000.00UPS, TraCI: 96ms, vehicles TOT 624 ACT 102 BUCI: 38ms, vehicles TOT 2 ACT 2 BUF 0)  \n"
     ]
    },
    {
     "name": "stderr",
     "output_type": "stream",
     "text": [
      "\u001b[2m\u001b[36m(RolloutWorker pid=20048)\u001b[0m Warning: Vehicle '178434_430_0' performs emergency braking on lane '186623965#9_1' with decel=9.00, wished=4.50, severity=1.00, time=27303.00.\n"
     ]
    },
    {
     "name": "stdout",
     "output_type": "stream",
     "text": [
      "Step #27300.00 (0ms ?*RT. ?UPS, TraCI: 82ms, vehicles TOT 1298 ACT 90 BUF 27)             CI: 37ms, vehicles TOT 2 ACT 2 BUF 0)  \n",
      "Step #28800.00 (0ms ?*RT. ?UPS, TraCI: 93ms, vehicles TOT 1995 ACT 72 BUF 51)             CI: 40ms, vehicles TOT 2 ACT 2 BUF 0)  \n",
      "Step #28800.00 (0ms ?*RT. ?UPS, TraCI: 89ms, vehicles TOT 1990 ACT 73 BUF 56)             aCI: 90ms, vehicles TOT 1345 ACT 76 BUF\n",
      "Step #28800.00 (0ms ?*RT. ?UPS, TraCI: 96ms, vehicles TOT 1995 ACT 69 BUF 51)             I: 40ms, vehicles TOT 2 ACT 2 BUF 0)  \n",
      "Step #28800.00 (0ms ?*RT. ?UPS, TraCI: 95ms, vehicles TOT 1991 ACT 67 BUF 55)             es TOT 707 ACT 113 BUF 56)             \n",
      "Step #28800.00 (1ms ~= 1000.00*RT, ~69000.00UPS, TraCI: 85ms, vehicles TOT 1979 ACT 69 BUFes TOT 2 ACT 2 BUF 0)                  \n",
      "Step #28800.00 (1ms ~= 1000.00*RT, ~68000.00UPS, TraCI: 94ms, vehicles TOT 1996 ACT 68 BUFs TOT 2 ACT 2 BUF 0)                  \n",
      "Step #28800.00 (1ms ~= 1000.00*RT, ~67000.00UPS, TraCI: 92ms, vehicles TOT 2002 ACT 67 BUFI: 38ms, vehicles TOT 2 ACT 2 BUF 0)  \n",
      "Step #28800.00 (0ms ?*RT. ?UPS, TraCI: 91ms, vehicles TOT 2005 ACT 66 BUF 41)             I: 37ms, vehicles TOT 2 ACT 2 BUF 0)  \n",
      "Step #28800.00 (0ms ?*RT. ?UPS, TraCI: 114ms, vehicles TOT 1985 ACT 71 BUF 61)            s TOT 2 ACT 2 BUF 0)                  \n",
      "Step #28800.00 (0ms ?*RT. ?UPS, TraCI: 107ms, vehicles TOT 1992 ACT 72 BUF 54)            CI: 36ms, vehicles TOT 2 ACT 2 BUF 0)  \n"
     ]
    },
    {
     "name": "stderr",
     "output_type": "stream",
     "text": [
      "\u001b[2m\u001b[36m(RolloutWorker pid=3060)\u001b[0m Warning: Vehicle '162220_421_0' performs emergency braking on lane ':26110729_5_1' with decel=9.00, wished=4.50, severity=1.00, time=25968.00.\n"
     ]
    },
    {
     "name": "stdout",
     "output_type": "stream",
     "text": [
      "Step #25900.00 (1ms ~= 1000.00*RT, ~69000.00UPS, TraCI: 74ms, vehicles TOT 395 ACT 69 BUF I: 38ms, vehicles TOT 2 ACT 2 BUF 0)  \n"
     ]
    },
    {
     "name": "stderr",
     "output_type": "stream",
     "text": [
      "\u001b[2m\u001b[36m(RolloutWorker pid=5640)\u001b[0m Warning: Vehicle '178434_430_0' performs emergency braking on lane ':26110729_5_1' with decel=9.00, wished=4.50, severity=1.00, time=27303.00.\n"
     ]
    },
    {
     "name": "stdout",
     "output_type": "stream",
     "text": [
      "Step #27300.00 (0ms ?*RT. ?UPS, TraCI: 82ms, vehicles TOT 1305 ACT 86 BUF 20)             I: 38ms, vehicles TOT 2 ACT 2 BUF 0)  \n",
      "Step #27300.00 (1ms ~= 1000.00*RT, ~89000.00UPS, TraCI: 80ms, vehicles TOT 1310 ACT 89 BUFes TOT 2 ACT 2 BUF 0)                  \n",
      "Step #28800.00 (1ms ~= 1000.00*RT, ~65000.00UPS, TraCI: 108ms, vehicles TOT 2015 ACT 65 BUes TOT 2 ACT 2 BUF 0)                  \n",
      "Step #28800.00 (1ms ~= 1000.00*RT, ~76000.00UPS, TraCI: 110ms, vehicles TOT 2009 ACT 76 BUaCI: 83ms, vehicles TOT 1358 ACT 75 BUF\n",
      "Step #28800.00 (0ms ?*RT. ?UPS, TraCI: 110ms, vehicles TOT 2011 ACT 65 BUF 35)            I: 35ms, vehicles TOT 2 ACT 2 BUF 0)  \n",
      "Step #28800.00 (0ms ?*RT. ?UPS, TraCI: 104ms, vehicles TOT 1994 ACT 69 BUF 52)            CI: 35ms, vehicles TOT 2 ACT 2 BUF 0)  \n",
      "Step #28800.00 (0ms ?*RT. ?UPS, TraCI: 92ms, vehicles TOT 1985 ACT 73 BUF 61)             es TOT 470 ACT 92 BUF 16)             \n",
      "Step #28800.00 (0ms ?*RT. ?UPS, TraCI: 94ms, vehicles TOT 1998 ACT 66 BUF 48)             CI: 35ms, vehicles TOT 2 ACT 2 BUF 0)  \n",
      "Step #28800.00 (1ms ~= 1000.00*RT, ~70000.00UPS, TraCI: 91ms, vehicles TOT 2001 ACT 70 BUFI: 39ms, vehicles TOT 2 ACT 2 BUF 0)  \n",
      "Step #28800.00 (1ms ~= 1000.00*RT, ~68000.00UPS, TraCI: 106ms, vehicles TOT 2003 ACT 68 BUs TOT 1353 ACT 71 BUF 16)             \n",
      "Step #28800.00 (0ms ?*RT. ?UPS, TraCI: 80ms, vehicles TOT 2007 ACT 67 BUF 39)             s TOT 2 ACT 2 BUF 0)                  \n",
      "Step #28800.00 (0ms ?*RT. ?UPS, TraCI: 79ms, vehicles TOT 2018 ACT 69 BUF 28)             CI: 25ms, vehicles TOT 2 ACT 2 BUF 0)  \n"
     ]
    },
    {
     "name": "stderr",
     "output_type": "stream",
     "text": [
      "\u001b[2m\u001b[36m(RolloutWorker pid=20048)\u001b[0m Warning: Vehicle '188987_434_0' performs emergency braking on lane ':26110729_5_1' with decel=9.00, wished=4.50, severity=1.00, time=26154.00.\u001b[32m [repeated 2x across cluster]\u001b[0m\n"
     ]
    },
    {
     "name": "stdout",
     "output_type": "stream",
     "text": [
      "Step #26100.00 (0ms ?*RT. ?UPS, TraCI: 84ms, vehicles TOT 562 ACT 90 BUF 20)              es TOT 2 ACT 2 BUF 0)                  \n"
     ]
    },
    {
     "name": "stderr",
     "output_type": "stream",
     "text": [
      "\u001b[2m\u001b[36m(RolloutWorker pid=5640)\u001b[0m Warning: Vehicle '171303_426_0' performs emergency braking on lane ':252017285_20_0' with decel=9.00, wished=4.50, severity=1.00, time=26566.00.\n"
     ]
    },
    {
     "name": "stdout",
     "output_type": "stream",
     "text": [
      "Step #26500.00 (0ms ?*RT. ?UPS, TraCI: 85ms, vehicles TOT 814 ACT 92 BUF 66)              I: 32ms, vehicles TOT 2 ACT 2 BUF 0)  \n"
     ]
    },
    {
     "name": "stderr",
     "output_type": "stream",
     "text": [
      "\u001b[2m\u001b[36m(RolloutWorker pid=21792)\u001b[0m Warning: Vehicle '241789_452_0' performs emergency braking on lane ':26110729_14_1' with decel=9.00, wished=4.50, severity=1.00, time=28409.00.\n"
     ]
    },
    {
     "name": "stdout",
     "output_type": "stream",
     "text": [
      "Step #28400.00 (1ms ~= 1000.00*RT, ~73000.00UPS, TraCI: 144ms, vehicles TOT 1823 ACT 73 BUCI: 34ms, vehicles TOT 2 ACT 2 BUF 0)  \n",
      "Step #28800.00 (1ms ~= 1000.00*RT, ~69000.00UPS, TraCI: 122ms, vehicles TOT 2011 ACT 69 BUes TOT 636 ACT 100 BUF 25)             \n",
      "Step #28800.00 (0ms ?*RT. ?UPS, TraCI: 115ms, vehicles TOT 1997 ACT 70 BUF 49)            I: 35ms, vehicles TOT 2 ACT 2 BUF 0)  \n",
      "Step #28800.00 (1ms ~= 1000.00*RT, ~67000.00UPS, TraCI: 122ms, vehicles TOT 1995 ACT 67 BUes TOT 2 ACT 2 BUF 0)                  \n",
      "Step #28800.00 (1ms ~= 1000.00*RT, ~69000.00UPS, TraCI: 125ms, vehicles TOT 2000 ACT 69 BUCI: 38ms, vehicles TOT 2 ACT 2 BUF 0)  \n",
      "Step #28800.00 (0ms ?*RT. ?UPS, TraCI: 128ms, vehicles TOT 2001 ACT 67 BUF 45)            I: 37ms, vehicles TOT 2 ACT 2 BUF 0)  \n",
      "Step #28800.00 (1ms ~= 1000.00*RT, ~69000.00UPS, TraCI: 107ms, vehicles TOT 1988 ACT 69 BUes TOT 1865 ACT 72 BUF 68)             \n",
      "Step #28800.00 (0ms ?*RT. ?UPS, TraCI: 103ms, vehicles TOT 1993 ACT 70 BUF 53)            I: 29ms, vehicles TOT 2 ACT 2 BUF 0)  \n",
      "Step #28800.00 (0ms ?*RT. ?UPS, TraCI: 110ms, vehicles TOT 1997 ACT 70 BUF 49)            s TOT 877 ACT 97 BUF 62)              \n"
     ]
    },
    {
     "name": "stderr",
     "output_type": "stream",
     "text": [
      "\u001b[2m\u001b[36m(RolloutWorker pid=24144)\u001b[0m Warning: Vehicle '294603_480_0' performs emergency braking on lane ':26110729_5_1' with decel=9.00, wished=4.50, severity=1.00, time=28605.00.\n"
     ]
    },
    {
     "name": "stdout",
     "output_type": "stream",
     "text": [
      "Step #28600.00 (1ms ~= 1000.00*RT, ~76000.00UPS, TraCI: 86ms, vehicles TOT 1904 ACT 76 BUFes TOT 2 ACT 2 BUF 0)                  \n",
      "Step #28800.00 (0ms ?*RT. ?UPS, TraCI: 87ms, vehicles TOT 1980 ACT 71 BUF 66)             es TOT 1945 ACT 84 BUF 68)             \n",
      "Step #28800.00 (0ms ?*RT. ?UPS, TraCI: 85ms, vehicles TOT 1989 ACT 68 BUF 57)             I: 25ms, vehicles TOT 2 ACT 2 BUF 0)  \n"
     ]
    },
    {
     "name": "stderr",
     "output_type": "stream",
     "text": [
      "\u001b[2m\u001b[36m(RolloutWorker pid=9256)\u001b[0m Warning: Vehicle '188987_434_0' performs emergency braking on lane ':26110729_5_1' with decel=9.00, wished=4.50, severity=1.00, time=26154.00.\n"
     ]
    },
    {
     "name": "stdout",
     "output_type": "stream",
     "text": [
      "Step #26100.00 (1ms ~= 1000.00*RT, ~91000.00UPS, TraCI: 86ms, vehicles TOT 562 ACT 91 BUF s TOT 2 ACT 2 BUF 0)                  \n",
      "Step #28800.00 (0ms ?*RT. ?UPS, TraCI: 133ms, vehicles TOT 2008 ACT 66 BUF 38)            aCI: 85ms, vehicles TOT 634 ACT 106 BU\n",
      "Step #28800.00 (1ms ~= 1000.00*RT, ~64000.00UPS, TraCI: 132ms, vehicles TOT 2012 ACT 64 BUI: 31ms, vehicles TOT 2 ACT 2 BUF 0)  \n",
      "Step #28800.00 (0ms ?*RT. ?UPS, TraCI: 124ms, vehicles TOT 1995 ACT 69 BUF 51)            CI: 29ms, vehicles TOT 2 ACT 2 BUF 0)  \n",
      "Step #28800.00 (0ms ?*RT. ?UPS, TraCI: 122ms, vehicles TOT 1988 ACT 71 BUF 58)            es TOT 2 ACT 2 BUF 0)                  \n",
      "Step #28800.00 (0ms ?*RT. ?UPS, TraCI: 126ms, vehicles TOT 1989 ACT 68 BUF 57)            I: 31ms, vehicles TOT 2 ACT 2 BUF 0)  \n",
      "Step #28800.00 (1ms ~= 1000.00*RT, ~68000.00UPS, TraCI: 115ms, vehicles TOT 2003 ACT 68 BUCI: 28ms, vehicles TOT 2 ACT 2 BUF 0)  \n",
      "Step #28800.00 (0ms ?*RT. ?UPS, TraCI: 120ms, vehicles TOT 2011 ACT 67 BUF 35)            s TOT 2 ACT 2 BUF 0)                  \n",
      "Step #28800.00 (0ms ?*RT. ?UPS, TraCI: 124ms, vehicles TOT 1950 ACT 159 BUF 96)           CI: 29ms, vehicles TOT 2 ACT 2 BUF 0)  \n"
     ]
    },
    {
     "name": "stderr",
     "output_type": "stream",
     "text": [
      "\u001b[2m\u001b[36m(RolloutWorker pid=3060)\u001b[0m Warning: Vehicle '131071_409_0' performs emergency braking on lane ':26110729_16_0' with decel=9.00, wished=4.50, severity=1.00, time=25267.00.\n"
     ]
    },
    {
     "name": "stdout",
     "output_type": "stream",
     "text": [
      "\u001b[2m\u001b[36m(RolloutWorker pid=3060)\u001b[0m Step #25200.00 (1ms ~= 1000.00*RT, ~2000.00UPS, TraCI: 28ms, vehicles TOT 2 ACT 2 BUF 0)  \n",
      "Step #28800.00 (0ms ?*RT. ?UPS, TraCI: 84ms, vehicles TOT 1998 ACT 69 BUF 48)             I: 25ms, vehicles TOT 2 ACT 2 BUF 0)  \n",
      "Step #28800.00 (1ms ~= 1000.00*RT, ~74000.00UPS, TraCI: 80ms, vehicles TOT 1985 ACT 74 BUFCI: 25ms, vehicles TOT 2 ACT 2 BUF 0)  \n"
     ]
    },
    {
     "name": "stderr",
     "output_type": "stream",
     "text": [
      "\u001b[2m\u001b[36m(RolloutWorker pid=13628)\u001b[0m Warning: Vehicle '168214_425_0' performs emergency braking on lane ':26110729_5_1' with decel=9.00, wished=4.50, severity=1.00, time=28704.00.\n"
     ]
    },
    {
     "name": "stdout",
     "output_type": "stream",
     "text": [
      "Step #28700.00 (0ms ?*RT. ?UPS, TraCI: 132ms, vehicles TOT 1964 ACT 87 BUF 49)            CI: 26ms, vehicles TOT 2 ACT 2 BUF 0)  \n",
      "Step #28800.00 (0ms ?*RT. ?UPS, TraCI: 88ms, vehicles TOT 1998 ACT 68 BUF 48)             I: 27ms, vehicles TOT 2 ACT 2 BUF 0)  \n",
      "Step #28800.00 (0ms ?*RT. ?UPS, TraCI: 79ms, vehicles TOT 2003 ACT 75 BUF 43)             CI: 26ms, vehicles TOT 2 ACT 2 BUF 0)  \n",
      "Step #28800.00 (0ms ?*RT. ?UPS, TraCI: 66ms, vehicles TOT 1993 ACT 74 BUF 53)             CI: 27ms, vehicles TOT 2 ACT 2 BUF 0)  \n",
      "Step #28800.00 (1ms ~= 1000.00*RT, ~70000.00UPS, TraCI: 79ms, vehicles TOT 1975 ACT 70 BUFs TOT 66 ACT 40 BUF 0)                \n",
      "Step #28800.00 (0ms ?*RT. ?UPS, TraCI: 85ms, vehicles TOT 1998 ACT 68 BUF 48)             es TOT 2 ACT 2 BUF 0)                  \n",
      "\u001b[2m\u001b[36m(RolloutWorker pid=13628)\u001b[0m Step #28800.00 (0ms ?*RT. ?UPS, TraCI: 84ms, vehicles TOT 2000 ACT 66 BUF 46)             \n",
      "Step #28800.00 (0ms ?*RT. ?UPS, TraCI: 87ms, vehicles TOT 1997 ACT 67 BUF 49)             I: 27ms, vehicles TOT 2 ACT 2 BUF 0)  \n",
      "Step #28800.00 (0ms ?*RT. ?UPS, TraCI: 87ms, vehicles TOT 1977 ACT 70 BUF 69)             I: 28ms, vehicles TOT 2 ACT 2 BUF 0)  \n",
      "Step #28800.00 (0ms ?*RT. ?UPS, TraCI: 95ms, vehicles TOT 1992 ACT 70 BUF 54)             s TOT 2 ACT 2 BUF 0)                  \n",
      "Step #28800.00 (0ms ?*RT. ?UPS, TraCI: 93ms, vehicles TOT 1982 ACT 69 BUF 64)             es TOT 2 ACT 2 BUF 0)                  \n"
     ]
    },
    {
     "name": "stderr",
     "output_type": "stream",
     "text": [
      "\u001b[2m\u001b[36m(RolloutWorker pid=3200)\u001b[0m Warning: Vehicle '175379_428_0' performs emergency braking on lane ':26110729_14_1' with decel=9.00, wished=4.50, severity=1.00, time=27191.00.\n"
     ]
    },
    {
     "name": "stdout",
     "output_type": "stream",
     "text": [
      "Step #27100.00 (1ms ~= 1000.00*RT, ~101000.00UPS, TraCI: 88ms, vehicles TOT 1166 ACT 101 BI: 40ms, vehicles TOT 2 ACT 2 BUF 0)  \n"
     ]
    },
    {
     "name": "stderr",
     "output_type": "stream",
     "text": [
      "\u001b[2m\u001b[36m(RolloutWorker pid=9256)\u001b[0m Warning: Vehicle '139203_413_0' performs emergency braking on lane ':26110729_5_1' with decel=9.00, wished=4.50, severity=1.00, time=28298.00.\n"
     ]
    },
    {
     "name": "stdout",
     "output_type": "stream",
     "text": [
      "Step #28200.00 (1ms ~= 1000.00*RT, ~75000.00UPS, TraCI: 88ms, vehicles TOT 1712 ACT 75 BUFI: 38ms, vehicles TOT 2 ACT 2 BUF 0)  \n",
      "Step #28800.00 (0ms ?*RT. ?UPS, TraCI: 95ms, vehicles TOT 1998 ACT 66 BUF 48)             es TOT 2 ACT 2 BUF 0)                  \n",
      "Step #28800.00 (1ms ~= 1000.00*RT, ~67000.00UPS, TraCI: 96ms, vehicles TOT 1997 ACT 67 BUFes TOT 2 ACT 2 BUF 0)                  \n",
      "Step #28800.00 (0ms ?*RT. ?UPS, TraCI: 96ms, vehicles TOT 2010 ACT 66 BUF 36)             CI: 36ms, vehicles TOT 2 ACT 2 BUF 0)  \n",
      "Step #28800.00 (1ms ~= 1000.00*RT, ~69000.00UPS, TraCI: 86ms, vehicles TOT 1987 ACT 69 BUFs TOT 2 ACT 2 BUF 0)                  \n",
      "Step #28800.00 (1ms ~= 1000.00*RT, ~69000.00UPS, TraCI: 81ms, vehicles TOT 1982 ACT 69 BUFes TOT 2 ACT 2 BUF 0)                  \n",
      "Step #28800.00 (1ms ~= 1000.00*RT, ~73000.00UPS, TraCI: 85ms, vehicles TOT 1984 ACT 73 BUFI: 42ms, vehicles TOT 2 ACT 2 BUF 0)  \n",
      "Step #28800.00 (1ms ~= 1000.00*RT, ~68000.00UPS, TraCI: 88ms, vehicles TOT 1983 ACT 68 BUFCI: 92ms, vehicles TOT 1777 ACT 92 BUF\n",
      "Step #28800.00 (1ms ~= 1000.00*RT, ~67000.00UPS, TraCI: 90ms, vehicles TOT 1989 ACT 67 BUFI: 27ms, vehicles TOT 2 ACT 2 BUF 0)  \n"
     ]
    },
    {
     "name": "stderr",
     "output_type": "stream",
     "text": [
      "\u001b[2m\u001b[36m(RolloutWorker pid=24144)\u001b[0m Warning: Vehicle '234376_451_0' performs emergency braking on lane ':26110729_1_0' with decel=9.00, wished=4.50, severity=1.00, time=28786.00.\n"
     ]
    },
    {
     "name": "stdout",
     "output_type": "stream",
     "text": [
      "Step #28700.00 (1ms ~= 1000.00*RT, ~80000.00UPS, TraCI: 89ms, vehicles TOT 1945 ACT 80 BUFCI: 39ms, vehicles TOT 2 ACT 2 BUF 0)  \n",
      "Step #28800.00 (1ms ~= 1000.00*RT, ~72000.00UPS, TraCI: 110ms, vehicles TOT 1989 ACT 72 BUCI: 93ms, vehicles TOT 1230 ACT 92 BUF\n",
      "\u001b[2m\u001b[36m(RolloutWorker pid=24144)\u001b[0m Step #28800.00 (1ms ~= 1000.00*RT, ~74000.00UPS, TraCI: 105ms, vehicles TOT 1982 ACT 74 BU\n"
     ]
    },
    {
     "name": "stderr",
     "output_type": "stream",
     "text": [
      "\u001b[2m\u001b[36m(RolloutWorker pid=13628)\u001b[0m Warning: Vehicle '202429_438_0' performs emergency braking on lane ':247379907_5_1' with decel=9.00, wished=4.50, severity=1.00, time=26194.00.\n"
     ]
    },
    {
     "name": "stdout",
     "output_type": "stream",
     "text": [
      "Step #26100.00 (1ms ~= 1000.00*RT, ~92000.00UPS, TraCI: 85ms, vehicles TOT 551 ACT 92 BUF CI: 35ms, vehicles TOT 2 ACT 2 BUF 0)  \n"
     ]
    },
    {
     "name": "stderr",
     "output_type": "stream",
     "text": [
      "\u001b[2m\u001b[36m(RolloutWorker pid=24144)\u001b[0m Warning: Vehicle '167113_425_0' performs emergency braking on lane ':26110729_5_1' with decel=9.00, wished=4.50, severity=1.00, time=26905.00.\n"
     ]
    },
    {
     "name": "stdout",
     "output_type": "stream",
     "text": [
      "Step #26900.00 (0ms ?*RT. ?UPS, TraCI: 106ms, vehicles TOT 1020 ACT 101 BUF 58)           es TOT 2 ACT 2 BUF 0)                  \n",
      "Step #28800.00 (0ms ?*RT. ?UPS, TraCI: 107ms, vehicles TOT 1974 ACT 69 BUF 72)            CI: 28ms, vehicles TOT 2 ACT 2 BUF 0)  \n",
      "Step #28800.00 (1ms ~= 1000.00*RT, ~72000.00UPS, TraCI: 105ms, vehicles TOT 1982 ACT 72 BUes TOT 2 ACT 2 BUF 0)                  \n",
      "Step #28800.00 (0ms ?*RT. ?UPS, TraCI: 102ms, vehicles TOT 1962 ACT 71 BUF 84)            s TOT 2 ACT 2 BUF 0)                  \n",
      "Step #28800.00 (1ms ~= 1000.00*RT, ~70000.00UPS, TraCI: 102ms, vehicles TOT 1978 ACT 70 BUI: 36ms, vehicles TOT 2 ACT 2 BUF 0)  \n",
      "Step #28800.00 (0ms ?*RT. ?UPS, TraCI: 108ms, vehicles TOT 1978 ACT 70 BUF 68)            CI: 34ms, vehicles TOT 2 ACT 2 BUF 0)  \n",
      "Step #28800.00 (0ms ?*RT. ?UPS, TraCI: 104ms, vehicles TOT 1970 ACT 66 BUF 76)            raCI: 94ms, vehicles TOT 625 ACT 104 BU\n",
      "Step #28800.00 (0ms ?*RT. ?UPS, TraCI: 82ms, vehicles TOT 1978 ACT 73 BUF 68)             s TOT 2 ACT 2 BUF 0)                  \n",
      "Step #28800.00 (0ms ?*RT. ?UPS, TraCI: 107ms, vehicles TOT 1983 ACT 69 BUF 63)            s TOT 2 ACT 2 BUF 0)                  \n"
     ]
    },
    {
     "name": "stderr",
     "output_type": "stream",
     "text": [
      "\u001b[2m\u001b[36m(RolloutWorker pid=3060)\u001b[0m Warning: Vehicle '172172_426_0' performs emergency braking on lane ':26110729_16_0' with decel=9.00, wished=4.50, severity=1.00, time=25562.00.\n"
     ]
    },
    {
     "name": "stdout",
     "output_type": "stream",
     "text": [
      "Step #25500.00 (0ms ?*RT. ?UPS, TraCI: 46ms, vehicles TOT 147 ACT 29 BUF 0)               I: 35ms, vehicles TOT 2 ACT 2 BUF 0)  \n",
      "Step #28800.00 (0ms ?*RT. ?UPS, TraCI: 80ms, vehicles TOT 1978 ACT 69 BUF 68)             s TOT 2 ACT 2 BUF 0)                  \n",
      "Step #28800.00 (0ms ?*RT. ?UPS, TraCI: 78ms, vehicles TOT 1973 ACT 70 BUF 73)             aCI: 97ms, vehicles TOT 1088 ACT 98 BUF\n"
     ]
    },
    {
     "name": "stderr",
     "output_type": "stream",
     "text": [
      "\u001b[2m\u001b[36m(RolloutWorker pid=1732)\u001b[0m Warning: Vehicle '177566_429_0' performs emergency braking on lane ':247379907_5_1' with decel=9.00, wished=4.50, severity=1.00, time=26013.00.\n"
     ]
    },
    {
     "name": "stdout",
     "output_type": "stream",
     "text": [
      "Step #26000.00 (0ms ?*RT. ?UPS, TraCI: 86ms, vehicles TOT 473 ACT 95 BUF 13)              s TOT 2 ACT 2 BUF 0)                  \n"
     ]
    },
    {
     "name": "stderr",
     "output_type": "stream",
     "text": [
      "\u001b[2m\u001b[36m(RolloutWorker pid=13580)\u001b[0m Warning: Vehicle '188987_434_0' performs emergency braking on lane '186623965#9_1' with decel=9.00, wished=4.50, severity=1.00, time=26154.00.\n"
     ]
    },
    {
     "name": "stdout",
     "output_type": "stream",
     "text": [
      "Step #26100.00 (1ms ~= 1000.00*RT, ~91000.00UPS, TraCI: 88ms, vehicles TOT 556 ACT 91 BUF es TOT 2 ACT 2 BUF 0)                  \n",
      "Step #28800.00 (0ms ?*RT. ?UPS, TraCI: 115ms, vehicles TOT 1986 ACT 71 BUF 60)            les TOT 630 ACT 101 BUF 31)            \n",
      "Step #28800.00 (0ms ?*RT. ?UPS, TraCI: 106ms, vehicles TOT 1977 ACT 70 BUF 69)            CI: 27ms, vehicles TOT 2 ACT 2 BUF 0)  \n",
      "Step #28800.00 (1ms ~= 1000.00*RT, ~68000.00UPS, TraCI: 111ms, vehicles TOT 1974 ACT 68 BUCI: 33ms, vehicles TOT 2 ACT 2 BUF 0)  \n",
      "Step #28800.00 (0ms ?*RT. ?UPS, TraCI: 116ms, vehicles TOT 1976 ACT 68 BUF 70)            s TOT 206 ACT 52 BUF 0)               \n",
      "Step #28800.00 (1ms ~= 1000.00*RT, ~71000.00UPS, TraCI: 118ms, vehicles TOT 1987 ACT 71 BUs TOT 2 ACT 2 BUF 0)                  \n",
      "Step #28800.00 (0ms ?*RT. ?UPS, TraCI: 106ms, vehicles TOT 1984 ACT 70 BUF 62)            CI: 34ms, vehicles TOT 2 ACT 2 BUF 0)  \n",
      "Step #28800.00 (1ms ~= 1000.00*RT, ~72000.00UPS, TraCI: 101ms, vehicles TOT 1982 ACT 72 BUCI: 89ms, vehicles TOT 553 ACT 88 BUF \n",
      "Step #28800.00 (0ms ?*RT. ?UPS, TraCI: 111ms, vehicles TOT 1973 ACT 70 BUF 73)            I: 33ms, vehicles TOT 2 ACT 2 BUF 0)  \n",
      "Step #28800.00 (0ms ?*RT. ?UPS, TraCI: 85ms, vehicles TOT 1973 ACT 68 BUF 73)             I: 27ms, vehicles TOT 2 ACT 2 BUF 0)  \n",
      "Step #28800.00 (0ms ?*RT. ?UPS, TraCI: 82ms, vehicles TOT 1970 ACT 68 BUF 76)             es TOT 2 ACT 2 BUF 0)                  \n"
     ]
    },
    {
     "name": "stderr",
     "output_type": "stream",
     "text": [
      "\u001b[2m\u001b[36m(RolloutWorker pid=21792)\u001b[0m Warning: Vehicle '167113_425_0' performs emergency braking on lane ':26110729_5_1' with decel=9.00, wished=4.50, severity=1.00, time=26904.00.\n"
     ]
    },
    {
     "name": "stdout",
     "output_type": "stream",
     "text": [
      "Step #26900.00 (1ms ~= 1000.00*RT, ~96000.00UPS, TraCI: 85ms, vehicles TOT 1025 ACT 96 BUFCI: 30ms, vehicles TOT 2 ACT 2 BUF 0)  \n"
     ]
    },
    {
     "name": "stderr",
     "output_type": "stream",
     "text": [
      "\u001b[2m\u001b[36m(RolloutWorker pid=13628)\u001b[0m Warning: Vehicle '268146_465_0' performs emergency braking on lane '186623965#9_1' with decel=9.00, wished=4.50, severity=1.00, time=28445.00.\n"
     ]
    },
    {
     "name": "stdout",
     "output_type": "stream",
     "text": [
      "Step #28400.00 (1ms ~= 1000.00*RT, ~74000.00UPS, TraCI: 78ms, vehicles TOT 1818 ACT 74 BUFCI: 33ms, vehicles TOT 2 ACT 2 BUF 0)  \n",
      "Step #28800.00 (0ms ?*RT. ?UPS, TraCI: 148ms, vehicles TOT 1977 ACT 69 BUF 69)            CI: 30ms, vehicles TOT 2 ACT 2 BUF 0)  \n",
      "Step #28800.00 (1ms ~= 1000.00*RT, ~71000.00UPS, TraCI: 139ms, vehicles TOT 1978 ACT 71 BUaCI: 81ms, vehicles TOT 1860 ACT 68 BUF\n",
      "Step #28800.00 (1ms ~= 1000.00*RT, ~71000.00UPS, TraCI: 155ms, vehicles TOT 1981 ACT 71 BUs TOT 2 ACT 2 BUF 0)                  \n",
      "Step #28800.00 (1ms ~= 1000.00*RT, ~65000.00UPS, TraCI: 123ms, vehicles TOT 2000 ACT 65 BUaCI: 91ms, vehicles TOT 1095 ACT 96 BUF\n",
      "Step #28800.00 (0ms ?*RT. ?UPS, TraCI: 138ms, vehicles TOT 1996 ACT 68 BUF 50)            CI: 25ms, vehicles TOT 2 ACT 2 BUF 0)  \n",
      "Step #28800.00 (0ms ?*RT. ?UPS, TraCI: 121ms, vehicles TOT 1981 ACT 74 BUF 65)            I: 32ms, vehicles TOT 2 ACT 2 BUF 0)  \n",
      "Step #28800.00 (1ms ~= 1000.00*RT, ~71000.00UPS, TraCI: 129ms, vehicles TOT 1986 ACT 71 BUI: 30ms, vehicles TOT 2 ACT 2 BUF 0)  \n",
      "Step #28800.00 (0ms ?*RT. ?UPS, TraCI: 105ms, vehicles TOT 1971 ACT 71 BUF 75)            I: 28ms, vehicles TOT 2 ACT 2 BUF 0)  \n",
      "Step #28800.00 (1ms ~= 1000.00*RT, ~72000.00UPS, TraCI: 84ms, vehicles TOT 1984 ACT 72 BUFI: 24ms, vehicles TOT 2 ACT 2 BUF 0)  \n",
      "Step #28800.00 (0ms ?*RT. ?UPS, TraCI: 87ms, vehicles TOT 1989 ACT 70 BUF 57)             CI: 24ms, vehicles TOT 2 ACT 2 BUF 0)  \n"
     ]
    },
    {
     "name": "stderr",
     "output_type": "stream",
     "text": [
      "\u001b[2m\u001b[36m(RolloutWorker pid=1732)\u001b[0m Warning: Vehicle '203493_439_0' performs emergency braking on lane ':26110729_16_0' with decel=9.00, wished=4.50, severity=1.00, time=26742.00.\n"
     ]
    },
    {
     "name": "stdout",
     "output_type": "stream",
     "text": [
      "Step #26700.00 (1ms ~= 1000.00*RT, ~77000.00UPS, TraCI: 127ms, vehicles TOT 913 ACT 77 BUFI: 28ms, vehicles TOT 2 ACT 2 BUF 0)  \n"
     ]
    },
    {
     "name": "stderr",
     "output_type": "stream",
     "text": [
      "\u001b[2m\u001b[36m(RolloutWorker pid=3200)\u001b[0m Warning: Vehicle '188987_434_0' performs emergency braking on lane ':26110729_5_1' with decel=9.00, wished=4.50, severity=1.00, time=26154.00.\n"
     ]
    },
    {
     "name": "stdout",
     "output_type": "stream",
     "text": [
      "Step #26100.00 (1ms ~= 1000.00*RT, ~95000.00UPS, TraCI: 153ms, vehicles TOT 555 ACT 95 BUFI: 36ms, vehicles TOT 2 ACT 2 BUF 0)  \n"
     ]
    },
    {
     "name": "stderr",
     "output_type": "stream",
     "text": [
      "\u001b[2m\u001b[36m(RolloutWorker pid=5640)\u001b[0m Warning: Vehicle '161407_421_0' performs emergency braking on lane ':26110729_5_1' with decel=9.00, wished=4.50, severity=1.00, time=26954.00.\n"
     ]
    },
    {
     "name": "stdout",
     "output_type": "stream",
     "text": [
      "Step #26900.00 (0ms ?*RT. ?UPS, TraCI: 88ms, vehicles TOT 1022 ACT 97 BUF 56)             s TOT 2 ACT 2 BUF 0)                  \n"
     ]
    },
    {
     "name": "stderr",
     "output_type": "stream",
     "text": [
      "\u001b[2m\u001b[36m(RolloutWorker pid=20048)\u001b[0m Warning: Vehicle '178434_430_0' performs emergency braking on lane ':26110729_5_1' with decel=9.00, wished=4.50, severity=1.00, time=27303.00.\n"
     ]
    },
    {
     "name": "stdout",
     "output_type": "stream",
     "text": [
      "Step #27300.00 (0ms ?*RT. ?UPS, TraCI: 86ms, vehicles TOT 1295 ACT 89 BUF 30)             es TOT 2 ACT 2 BUF 0)                  \n",
      "Step #27300.00 (0ms ?*RT. ?UPS, TraCI: 86ms, vehicles TOT 1300 ACT 87 BUF 25)             CI: 80ms, vehicles TOT 961 ACT 82 BUF \n",
      "Step #28800.00 (1ms ~= 1000.00*RT, ~68000.00UPS, TraCI: 88ms, vehicles TOT 1986 ACT 68 BUFaCI: 84ms, vehicles TOT 1342 ACT 76 BUF\n",
      "Step #28800.00 (1ms ~= 1000.00*RT, ~66000.00UPS, TraCI: 83ms, vehicles TOT 1974 ACT 66 BUFI: 24ms, vehicles TOT 2 ACT 2 BUF 0)  \n",
      "Step #28800.00 (1ms ~= 1000.00*RT, ~70000.00UPS, TraCI: 87ms, vehicles TOT 1973 ACT 70 BUFCI: 26ms, vehicles TOT 2 ACT 2 BUF 0)  \n",
      "Step #28800.00 (0ms ?*RT. ?UPS, TraCI: 81ms, vehicles TOT 1986 ACT 69 BUF 60)             es TOT 2 ACT 2 BUF 0)                  \n",
      "Step #28800.00 (0ms ?*RT. ?UPS, TraCI: 84ms, vehicles TOT 1979 ACT 71 BUF 67)             s TOT 1345 ACT 75 BUF 24)             \n",
      "Step #28800.00 (0ms ?*RT. ?UPS, TraCI: 84ms, vehicles TOT 1977 ACT 71 BUF 69)             I: 25ms, vehicles TOT 2 ACT 2 BUF 0)  \n",
      "Step #28800.00 (0ms ?*RT. ?UPS, TraCI: 80ms, vehicles TOT 1983 ACT 70 BUF 63)             CI: 95ms, vehicles TOT 1092 ACT 94 BUF\n",
      "Step #28800.00 (1ms ~= 1000.00*RT, ~97000.00UPS, TraCI: 69ms, vehicles TOT 1953 ACT 97 BUFes TOT 2 ACT 2 BUF 0)                  \n",
      "Step #28800.00 (1ms ~= 1000.00*RT, ~72000.00UPS, TraCI: 101ms, vehicles TOT 1965 ACT 72 BUs TOT 628 ACT 103 BUF 33)             \n",
      "Step #28800.00 (0ms ?*RT. ?UPS, TraCI: 91ms, vehicles TOT 1997 ACT 66 BUF 49)             es TOT 2 ACT 2 BUF 0)                  \n"
     ]
    },
    {
     "name": "stderr",
     "output_type": "stream",
     "text": [
      "\u001b[2m\u001b[36m(RolloutWorker pid=3060)\u001b[0m Warning: Vehicle '167113_425_0' performs emergency braking on lane ':26110729_5_1' with decel=9.00, wished=4.50, severity=1.00, time=26904.00.\u001b[32m [repeated 2x across cluster]\u001b[0m\n"
     ]
    },
    {
     "name": "stdout",
     "output_type": "stream",
     "text": [
      "Step #26900.00 (0ms ?*RT. ?UPS, TraCI: 95ms, vehicles TOT 1031 ACT 97 BUF 47)             I: 37ms, vehicles TOT 2 ACT 2 BUF 0)  \n"
     ]
    },
    {
     "name": "stderr",
     "output_type": "stream",
     "text": [
      "\u001b[2m\u001b[36m(RolloutWorker pid=13580)\u001b[0m Warning: Vehicle '139203_413_0' performs emergency braking on lane ':26110729_5_1' with decel=9.00, wished=4.50, severity=1.00, time=28298.00.\n"
     ]
    },
    {
     "name": "stdout",
     "output_type": "stream",
     "text": [
      "Step #28200.00 (0ms ?*RT. ?UPS, TraCI: 88ms, vehicles TOT 1712 ACT 69 BUF 39)             CI: 35ms, vehicles TOT 2 ACT 2 BUF 0)  \n",
      "Step #28800.00 (1ms ~= 1000.00*RT, ~69000.00UPS, TraCI: 92ms, vehicles TOT 1995 ACT 69 BUFI: 34ms, vehicles TOT 2 ACT 2 BUF 0)  \n",
      "Step #28800.00 (1ms ~= 1000.00*RT, ~67000.00UPS, TraCI: 94ms, vehicles TOT 1993 ACT 67 BUFCI: 39ms, vehicles TOT 2 ACT 2 BUF 0)  \n",
      "Step #28800.00 (0ms ?*RT. ?UPS, TraCI: 104ms, vehicles TOT 1986 ACT 80 BUF 60)            CI: 35ms, vehicles TOT 2 ACT 2 BUF 0)  \n",
      "Step #28800.00 (0ms ?*RT. ?UPS, TraCI: 100ms, vehicles TOT 1992 ACT 66 BUF 54)            CI: 89ms, vehicles TOT 1097 ACT 92 BUF\n",
      "Step #28800.00 (0ms ?*RT. ?UPS, TraCI: 96ms, vehicles TOT 1979 ACT 69 BUF 67)             es TOT 1780 ACT 94 BUF 35)             \n",
      "Step #28800.00 (1ms ~= 1000.00*RT, ~68000.00UPS, TraCI: 91ms, vehicles TOT 1981 ACT 68 BUFCI: 40ms, vehicles TOT 2 ACT 2 BUF 0)  \n",
      "Step #28800.00 (1ms ~= 1000.00*RT, ~71000.00UPS, TraCI: 90ms, vehicles TOT 1982 ACT 71 BUFI: 34ms, vehicles TOT 2 ACT 2 BUF 0)  \n",
      "Step #28800.00 (0ms ?*RT. ?UPS, TraCI: 90ms, vehicles TOT 1982 ACT 70 BUF 64)             s TOT 2 ACT 2 BUF 0)                  \n",
      "Step #28800.00 (1ms ~= 1000.00*RT, ~72000.00UPS, TraCI: 108ms, vehicles TOT 1984 ACT 72 BUs TOT 2 ACT 2 BUF 0)                  \n",
      "Step #28800.00 (1ms ~= 1000.00*RT, ~70000.00UPS, TraCI: 99ms, vehicles TOT 1989 ACT 70 BUFes TOT 2 ACT 2 BUF 0)                  \n"
     ]
    },
    {
     "name": "stderr",
     "output_type": "stream",
     "text": [
      "\u001b[2m\u001b[36m(RolloutWorker pid=3200)\u001b[0m Warning: Vehicle '131071_409_0' performs emergency braking on lane ':26110729_16_0' with decel=9.00, wished=4.50, severity=1.00, time=25267.00.\n"
     ]
    },
    {
     "name": "stdout",
     "output_type": "stream",
     "text": [
      "\u001b[2m\u001b[36m(RolloutWorker pid=3200)\u001b[0m Step #25200.00 (0ms ?*RT. ?UPS, TraCI: 26ms, vehicles TOT 2 ACT 2 BUF 0)                  \n"
     ]
    },
    {
     "name": "stderr",
     "output_type": "stream",
     "text": [
      "\u001b[2m\u001b[36m(RolloutWorker pid=5640)\u001b[0m Warning: Vehicle '146441_416_0' performs emergency braking on lane ':26110729_16_0' with decel=9.00, wished=4.50, severity=1.00, time=27532.00.\n"
     ]
    },
    {
     "name": "stdout",
     "output_type": "stream",
     "text": [
      "Step #27500.00 (0ms ?*RT. ?UPS, TraCI: 304ms, vehicles TOT 1388 ACT 77 BUF 26)            I: 31ms, vehicles TOT 2 ACT 2 BUF 0)  \n",
      "Step #28800.00 (0ms ?*RT. ?UPS, TraCI: 106ms, vehicles TOT 1967 ACT 69 BUF 79)            CI: 39ms, vehicles TOT 2 ACT 2 BUF 0)  \n",
      "Step #28800.00 (1ms ~= 1000.00*RT, ~68000.00UPS, TraCI: 108ms, vehicles TOT 1976 ACT 68 BUCI: 35ms, vehicles TOT 2 ACT 2 BUF 0)  \n",
      "Step #28800.00 (1ms ~= 1000.00*RT, ~68000.00UPS, TraCI: 103ms, vehicles TOT 1972 ACT 68 BUes TOT 2 ACT 2 BUF 0)                  \n",
      "Step #28800.00 (0ms ?*RT. ?UPS, TraCI: 101ms, vehicles TOT 1968 ACT 67 BUF 78)            CI: 39ms, vehicles TOT 2 ACT 2 BUF 0)  \n",
      "Step #28800.00 (0ms ?*RT. ?UPS, TraCI: 99ms, vehicles TOT 1971 ACT 70 BUF 75)             I: 38ms, vehicles TOT 2 ACT 2 BUF 0)  \n",
      "Step #28800.00 (1ms ~= 1000.00*RT, ~71000.00UPS, TraCI: 105ms, vehicles TOT 1978 ACT 71 BUI: 35ms, vehicles TOT 2 ACT 2 BUF 0)  \n",
      "Step #28800.00 (1ms ~= 1000.00*RT, ~70000.00UPS, TraCI: 105ms, vehicles TOT 1981 ACT 70 BUaCI: 109ms, vehicles TOT 1449 ACT 100 \n",
      "Step #28800.00 (0ms ?*RT. ?UPS, TraCI: 87ms, vehicles TOT 1977 ACT 71 BUF 69)             I: 34ms, vehicles TOT 2 ACT 2 BUF 0)  \n",
      "Step #28800.00 (0ms ?*RT. ?UPS, TraCI: 76ms, vehicles TOT 1974 ACT 72 BUF 72)             s TOT 66 ACT 40 BUF 0)                \n",
      "Step #28800.00 (0ms ?*RT. ?UPS, TraCI: 73ms, vehicles TOT 1986 ACT 68 BUF 60)             CI: 27ms, vehicles TOT 2 ACT 2 BUF 0)  \n"
     ]
    },
    {
     "name": "stderr",
     "output_type": "stream",
     "text": [
      "\u001b[2m\u001b[36m(RolloutWorker pid=9256)\u001b[0m Warning: Vehicle '184524_431_0' performs emergency braking on lane ':26110729_14_1' with decel=9.00, wished=4.50, severity=1.00, time=26351.00.\n"
     ]
    },
    {
     "name": "stdout",
     "output_type": "stream",
     "text": [
      "Step #26300.00 (1ms ~= 1000.00*RT, ~119000.00UPS, TraCI: 83ms, vehicles TOT 715 ACT 119 BUs TOT 2 ACT 2 BUF 0)                  \n"
     ]
    },
    {
     "name": "stderr",
     "output_type": "stream",
     "text": [
      "\u001b[2m\u001b[36m(RolloutWorker pid=9256)\u001b[0m Warning: Vehicle '161407_421_0' performs emergency braking on lane ':26110729_5_1' with decel=9.00, wished=4.50, severity=1.00, time=26954.00.\n"
     ]
    },
    {
     "name": "stdout",
     "output_type": "stream",
     "text": [
      "Step #26900.00 (1ms ~= 1000.00*RT, ~97000.00UPS, TraCI: 148ms, vehicles TOT 1022 ACT 97 BUaCI: 150ms, vehicles TOT 765 ACT 100 B\n",
      "Step #28800.00 (0ms ?*RT. ?UPS, TraCI: 124ms, vehicles TOT 1965 ACT 69 BUF 81)            CI: 35ms, vehicles TOT 2 ACT 2 BUF 0)  \n",
      "Step #28800.00 (0ms ?*RT. ?UPS, TraCI: 117ms, vehicles TOT 1978 ACT 70 BUF 68)            es TOT 2 ACT 2 BUF 0)                  \n",
      "Step #28800.00 (1ms ~= 1000.00*RT, ~70000.00UPS, TraCI: 121ms, vehicles TOT 1981 ACT 70 BUCI: 26ms, vehicles TOT 2 ACT 2 BUF 0)  \n",
      "Step #28800.00 (1ms ~= 1000.00*RT, ~67000.00UPS, TraCI: 121ms, vehicles TOT 1975 ACT 67 BUCI: 34ms, vehicles TOT 2 ACT 2 BUF 0)  \n",
      "Step #28800.00 (0ms ?*RT. ?UPS, TraCI: 129ms, vehicles TOT 1986 ACT 73 BUF 60)            I: 36ms, vehicles TOT 2 ACT 2 BUF 0)  \n",
      "Step #28800.00 (0ms ?*RT. ?UPS, TraCI: 131ms, vehicles TOT 1981 ACT 69 BUF 65)            s TOT 1092 ACT 95 BUF 47)             \n",
      "Step #28800.00 (1ms ~= 1000.00*RT, ~67000.00UPS, TraCI: 113ms, vehicles TOT 1981 ACT 67 BUI: 35ms, vehicles TOT 2 ACT 2 BUF 0)  \n",
      "Step #28800.00 (1ms ~= 1000.00*RT, ~71000.00UPS, TraCI: 84ms, vehicles TOT 1987 ACT 71 BUFs TOT 2 ACT 2 BUF 0)                  \n",
      "Step #28800.00 (1ms ~= 1000.00*RT, ~70000.00UPS, TraCI: 90ms, vehicles TOT 1968 ACT 70 BUFes TOT 2 ACT 2 BUF 0)                  \n",
      "Step #28800.00 (0ms ?*RT. ?UPS, TraCI: 87ms, vehicles TOT 1978 ACT 70 BUF 68)             I: 24ms, vehicles TOT 2 ACT 2 BUF 0)  \n"
     ]
    },
    {
     "name": "stderr",
     "output_type": "stream",
     "text": [
      "\u001b[2m\u001b[36m(RolloutWorker pid=20048)\u001b[0m Warning: Vehicle '178434_430_0' performs emergency braking on lane '186623965#9_1' with decel=9.00, wished=4.50, severity=1.00, time=27303.00.\n"
     ]
    },
    {
     "name": "stdout",
     "output_type": "stream",
     "text": [
      "Step #27300.00 (0ms ?*RT. ?UPS, TraCI: 149ms, vehicles TOT 1291 ACT 93 BUF 34)            CI: 27ms, vehicles TOT 2 ACT 2 BUF 0)  \n",
      "Step #27300.00 (1ms ~= 1000.00*RT, ~89000.00UPS, TraCI: 172ms, vehicles TOT 1294 ACT 89 BUI: 33ms, vehicles TOT 2 ACT 2 BUF 0)  \n"
     ]
    },
    {
     "name": "stderr",
     "output_type": "stream",
     "text": [
      "\u001b[2m\u001b[36m(RolloutWorker pid=13580)\u001b[0m Warning: Vehicle '149857_417_0' performs emergency braking on lane ':26110729_7_0' with decel=9.00, wished=4.50, severity=1.00, time=27917.00.\u001b[32m [repeated 2x across cluster]\u001b[0m\n"
     ]
    },
    {
     "name": "stdout",
     "output_type": "stream",
     "text": [
      "Step #27900.00 (1ms ~= 1000.00*RT, ~73000.00UPS, TraCI: 79ms, vehicles TOT 1574 ACT 73 BUFCI: 25ms, vehicles TOT 2 ACT 2 BUF 0)  \n",
      "Step #28800.00 (0ms ?*RT. ?UPS, TraCI: 131ms, vehicles TOT 1976 ACT 69 BUF 70)            aCI: 89ms, vehicles TOT 1339 ACT 76 BUF\n",
      "Step #28800.00 (0ms ?*RT. ?UPS, TraCI: 132ms, vehicles TOT 1969 ACT 72 BUF 77)            I: 32ms, vehicles TOT 2 ACT 2 BUF 0)  \n",
      "Step #28800.00 (0ms ?*RT. ?UPS, TraCI: 109ms, vehicles TOT 1981 ACT 73 BUF 65)            CI: 32ms, vehicles TOT 2 ACT 2 BUF 0)  \n",
      "Step #28800.00 (0ms ?*RT. ?UPS, TraCI: 131ms, vehicles TOT 1977 ACT 69 BUF 69)            s TOT 2 ACT 2 BUF 0)                  \n",
      "Step #28800.00 (0ms ?*RT. ?UPS, TraCI: 130ms, vehicles TOT 1974 ACT 67 BUF 72)            aCI: 86ms, vehicles TOT 1628 ACT 81 BUF\n",
      "Step #28800.00 (1ms ~= 1000.00*RT, ~71000.00UPS, TraCI: 142ms, vehicles TOT 1986 ACT 71 BUs TOT 2 ACT 2 BUF 0)                  \n",
      "Step #28800.00 (0ms ?*RT. ?UPS, TraCI: 136ms, vehicles TOT 1971 ACT 69 BUF 75)            s TOT 1341 ACT 73 BUF 28)             \n",
      "Step #28800.00 (0ms ?*RT. ?UPS, TraCI: 100ms, vehicles TOT 1976 ACT 70 BUF 70)            CI: 26ms, vehicles TOT 2 ACT 2 BUF 0)  \n",
      "Step #28800.00 (1ms ~= 1000.00*RT, ~72000.00UPS, TraCI: 84ms, vehicles TOT 1978 ACT 72 BUFs TOT 2 ACT 2 BUF 0)                  \n",
      "Step #28800.00 (0ms ?*RT. ?UPS, TraCI: 84ms, vehicles TOT 1979 ACT 71 BUF 67)             CI: 26ms, vehicles TOT 2 ACT 2 BUF 0)  \n"
     ]
    },
    {
     "name": "stderr",
     "output_type": "stream",
     "text": [
      "\u001b[2m\u001b[36m(RolloutWorker pid=20048)\u001b[0m Warning: Vehicle '191387_435_0' performs emergency braking on lane ':26110729_16_0' with decel=9.00, wished=4.50, severity=1.00, time=26892.00.\n"
     ]
    },
    {
     "name": "stdout",
     "output_type": "stream",
     "text": [
      "Step #26800.00 (0ms ?*RT. ?UPS, TraCI: 77ms, vehicles TOT 951 ACT 78 BUF 67)              es TOT 2 ACT 2 BUF 0)                  \n"
     ]
    },
    {
     "name": "stderr",
     "output_type": "stream",
     "text": [
      "\u001b[2m\u001b[36m(RolloutWorker pid=3200)\u001b[0m Warning: Vehicle '199466_437_0' performs emergency braking on lane ':247379907_5_1' with decel=9.00, wished=4.50, severity=1.00, time=27267.00.\n"
     ]
    },
    {
     "name": "stdout",
     "output_type": "stream",
     "text": [
      "Step #27200.00 (1ms ~= 1000.00*RT, ~90000.00UPS, TraCI: 89ms, vehicles TOT 1228 ACT 90 BUFI: 37ms, vehicles TOT 2 ACT 2 BUF 0)  \n"
     ]
    },
    {
     "name": "stderr",
     "output_type": "stream",
     "text": [
      "\u001b[2m\u001b[36m(RolloutWorker pid=9256)\u001b[0m Warning: Vehicle '143416_415_0' performs emergency braking on lane ':26110729_7_0' with decel=9.00, wished=4.50, severity=1.00, time=28207.00.\n"
     ]
    },
    {
     "name": "stdout",
     "output_type": "stream",
     "text": [
      "Step #28200.00 (1ms ~= 1000.00*RT, ~72000.00UPS, TraCI: 156ms, vehicles TOT 1711 ACT 72 BUI: 28ms, vehicles TOT 2 ACT 2 BUF 0)  \n",
      "Step #28800.00 (0ms ?*RT. ?UPS, TraCI: 85ms, vehicles TOT 1979 ACT 69 BUF 67)             aCI: 93ms, vehicles TOT 1020 ACT 97 BUF\n",
      "Step #28800.00 (0ms ?*RT. ?UPS, TraCI: 85ms, vehicles TOT 1976 ACT 70 BUF 70)             CI: 27ms, vehicles TOT 2 ACT 2 BUF 0)  \n",
      "Step #28800.00 (1ms ~= 1000.00*RT, ~74000.00UPS, TraCI: 85ms, vehicles TOT 1987 ACT 74 BUFs TOT 2 ACT 2 BUF 0)                  \n",
      "Step #28800.00 (1ms ~= 1000.00*RT, ~68000.00UPS, TraCI: 85ms, vehicles TOT 1959 ACT 68 BUFCI: 28ms, vehicles TOT 2 ACT 2 BUF 0)  \n",
      "Step #28800.00 (0ms ?*RT. ?UPS, TraCI: 84ms, vehicles TOT 1978 ACT 70 BUF 68)             CI: 25ms, vehicles TOT 2 ACT 2 BUF 0)  \n",
      "Step #28800.00 (0ms ?*RT. ?UPS, TraCI: 84ms, vehicles TOT 1976 ACT 68 BUF 70)             s TOT 2 ACT 2 BUF 0)                  \n",
      "Step #28800.00 (1ms ~= 1000.00*RT, ~70000.00UPS, TraCI: 81ms, vehicles TOT 1978 ACT 70 BUFs TOT 1775 ACT 89 BUF 40)             \n",
      "Step #28800.00 (1ms ~= 1000.00*RT, ~69000.00UPS, TraCI: 89ms, vehicles TOT 1977 ACT 69 BUFs TOT 2 ACT 2 BUF 0)                  \n"
     ]
    },
    {
     "name": "stderr",
     "output_type": "stream",
     "text": [
      "\u001b[2m\u001b[36m(RolloutWorker pid=24144)\u001b[0m Warning: Vehicle '244584_453_0' performs emergency braking on lane ':26110729_5_1' with decel=9.00, wished=4.50, severity=1.00, time=28490.00.\n"
     ]
    },
    {
     "name": "stdout",
     "output_type": "stream",
     "text": [
      "Step #28400.00 (0ms ?*RT. ?UPS, TraCI: 85ms, vehicles TOT 1822 ACT 79 BUF 59)             CI: 36ms, vehicles TOT 2 ACT 2 BUF 0)  \n",
      "Step #28800.00 (1ms ~= 1000.00*RT, ~71000.00UPS, TraCI: 93ms, vehicles TOT 1970 ACT 71 BUFs TOT 1290 ACT 87 BUF 35)             \n",
      "Step #28800.00 (1ms ~= 1000.00*RT, ~73000.00UPS, TraCI: 97ms, vehicles TOT 1982 ACT 73 BUFes TOT 1862 ACT 72 BUF 71)             \n"
     ]
    },
    {
     "name": "stderr",
     "output_type": "stream",
     "text": [
      "\u001b[2m\u001b[36m(RolloutWorker pid=3200)\u001b[0m Warning: Vehicle '188987_434_0' performs emergency braking on lane ':26110729_5_1' with decel=9.00, wished=4.50, severity=1.00, time=26154.00.\n"
     ]
    },
    {
     "name": "stdout",
     "output_type": "stream",
     "text": [
      "Step #26100.00 (1ms ~= 1000.00*RT, ~90000.00UPS, TraCI: 86ms, vehicles TOT 557 ACT 90 BUF s TOT 2 ACT 2 BUF 0)                  \n"
     ]
    },
    {
     "name": "stderr",
     "output_type": "stream",
     "text": [
      "\u001b[2m\u001b[36m(RolloutWorker pid=20048)\u001b[0m Warning: Vehicle '151856_419_0' performs emergency braking on lane ':26110729_7_0' with decel=9.00, wished=4.50, severity=1.00, time=26862.00.\n"
     ]
    },
    {
     "name": "stdout",
     "output_type": "stream",
     "text": [
      "Step #26800.00 (0ms ?*RT. ?UPS, TraCI: 85ms, vehicles TOT 955 ACT 82 BUF 63)              CI: 39ms, vehicles TOT 2 ACT 2 BUF 0)  \n",
      "Step #26200.00 (0ms ?*RT. ?UPS, TraCI: 97ms, vehicles TOT 628 ACT 103 BUF 33)             CI: 42ms, vehicles TOT 2 ACT 2 BUF 0)  \n"
     ]
    },
    {
     "name": "stderr",
     "output_type": "stream",
     "text": [
      "\u001b[2m\u001b[36m(RolloutWorker pid=13580)\u001b[0m Warning: Vehicle '201807_438_0' performs emergency braking on lane '-23686088#0_0' with decel=9.00, wished=4.50, severity=1.00, time=27312.00.\u001b[32m [repeated 2x across cluster]\u001b[0m\n"
     ]
    },
    {
     "name": "stdout",
     "output_type": "stream",
     "text": [
      "Step #27300.00 (0ms ?*RT. ?UPS, TraCI: 84ms, vehicles TOT 1298 ACT 89 BUF 27)             CI: 40ms, vehicles TOT 2 ACT 2 BUF 0)  \n"
     ]
    },
    {
     "name": "stderr",
     "output_type": "stream",
     "text": [
      "\u001b[2m\u001b[36m(RolloutWorker pid=21792)\u001b[0m Warning: Vehicle '149857_417_0' performs emergency braking on lane ':26110729_7_0' with decel=9.00, wished=4.50, severity=1.00, time=27917.00.\n"
     ]
    },
    {
     "name": "stdout",
     "output_type": "stream",
     "text": [
      "Step #27900.00 (1ms ~= 1000.00*RT, ~73000.00UPS, TraCI: 85ms, vehicles TOT 1575 ACT 73 BUFes TOT 2 ACT 2 BUF 0)                  \n"
     ]
    },
    {
     "name": "stderr",
     "output_type": "stream",
     "text": [
      "\u001b[2m\u001b[36m(RolloutWorker pid=21792)\u001b[0m Warning: Vehicle '148523_417_0' performs emergency braking on lane ':26110729_7_0' with decel=9.00, wished=4.50, severity=1.00, time=28657.00.\n"
     ]
    },
    {
     "name": "stdout",
     "output_type": "stream",
     "text": [
      "Step #28600.00 (1ms ~= 1000.00*RT, ~73000.00UPS, TraCI: 154ms, vehicles TOT 1910 ACT 73 BUes TOT 1629 ACT 80 BUF 44)             \n",
      "Step #28800.00 (0ms ?*RT. ?UPS, TraCI: 101ms, vehicles TOT 1997 ACT 68 BUF 49)            es TOT 1344 ACT 79 BUF 25)             \n",
      "Step #28800.00 (0ms ?*RT. ?UPS, TraCI: 98ms, vehicles TOT 1975 ACT 70 BUF 71)             CI: 37ms, vehicles TOT 2 ACT 2 BUF 0)  \n",
      "Step #28800.00 (1ms ~= 1000.00*RT, ~71000.00UPS, TraCI: 98ms, vehicles TOT 1981 ACT 71 BUFs TOT 2 ACT 2 BUF 0)                  \n",
      "Step #28800.00 (0ms ?*RT. ?UPS, TraCI: 99ms, vehicles TOT 1996 ACT 69 BUF 50)             s TOT 2 ACT 2 BUF 0)                  \n",
      "Step #28800.00 (0ms ?*RT. ?UPS, TraCI: 89ms, vehicles TOT 1976 ACT 69 BUF 70)             raCI: 98ms, vehicles TOT 1023 ACT 100 B\n",
      "Step #28800.00 (0ms ?*RT. ?UPS, TraCI: 85ms, vehicles TOT 1989 ACT 69 BUF 57)             es TOT 1953 ACT 86 BUF 60)             \n",
      "Step #28800.00 (1ms ~= 1000.00*RT, ~70000.00UPS, TraCI: 93ms, vehicles TOT 1987 ACT 70 BUFI: 39ms, vehicles TOT 2 ACT 2 BUF 0)  \n",
      "Step #28800.00 (0ms ?*RT. ?UPS, TraCI: 95ms, vehicles TOT 1985 ACT 69 BUF 61)             s TOT 2 ACT 2 BUF 0)                  \n",
      "Step #28800.00 (1ms ~= 1000.00*RT, ~73000.00UPS, TraCI: 104ms, vehicles TOT 1972 ACT 73 BUes TOT 629 ACT 106 BUF 32)            \n",
      "Step #28800.00 (1ms ~= 1000.00*RT, ~73000.00UPS, TraCI: 101ms, vehicles TOT 1974 ACT 73 BUraCI: 92ms, vehicles TOT 712 ACT 115 BU\n"
     ]
    },
    {
     "name": "stderr",
     "output_type": "stream",
     "text": [
      "\u001b[2m\u001b[36m(RolloutWorker pid=13628)\u001b[0m Warning: Vehicle '190010_434_0' performs emergency braking on lane ':26110729_16_0' with decel=9.00, wished=4.50, severity=1.00, time=26162.00.\n"
     ]
    },
    {
     "name": "stdout",
     "output_type": "stream",
     "text": [
      "Step #26100.00 (0ms ?*RT. ?UPS, TraCI: 91ms, vehicles TOT 558 ACT 95 BUF 24)              CI: 38ms, vehicles TOT 2 ACT 2 BUF 0)  \n"
     ]
    },
    {
     "name": "stderr",
     "output_type": "stream",
     "text": [
      "\u001b[2m\u001b[36m(RolloutWorker pid=13580)\u001b[0m Warning: Vehicle '183638_431_0' performs emergency braking on lane ':26110729_5_1' with decel=9.00, wished=4.50, severity=1.00, time=26235.00.\n"
     ]
    },
    {
     "name": "stdout",
     "output_type": "stream",
     "text": [
      "Step #26200.00 (0ms ?*RT. ?UPS, TraCI: 106ms, vehicles TOT 633 ACT 104 BUF 28)            es TOT 2 ACT 2 BUF 0)                  \n"
     ]
    },
    {
     "name": "stderr",
     "output_type": "stream",
     "text": [
      "\u001b[2m\u001b[36m(RolloutWorker pid=21792)\u001b[0m Warning: Vehicle '184516_431_0' performs emergency braking on lane '186623965#9_1' with decel=9.00, wished=4.50, severity=1.00, time=27649.00.\n"
     ]
    },
    {
     "name": "stdout",
     "output_type": "stream",
     "text": [
      "Step #27600.00 (0ms ?*RT. ?UPS, TraCI: 106ms, vehicles TOT 1450 ACT 102 BUF 38)           es TOT 2 ACT 2 BUF 0)                  \n",
      "Step #28800.00 (1ms ~= 1000.00*RT, ~73000.00UPS, TraCI: 112ms, vehicles TOT 1973 ACT 73 BUes TOT 2 ACT 2 BUF 0)                  \n",
      "Step #28800.00 (1ms ~= 1000.00*RT, ~71000.00UPS, TraCI: 112ms, vehicles TOT 1983 ACT 71 BUaCI: 99ms, vehicles TOT 1500 ACT 96 BUF\n",
      "Step #28800.00 (0ms ?*RT. ?UPS, TraCI: 110ms, vehicles TOT 1978 ACT 72 BUF 68)            I: 35ms, vehicles TOT 2 ACT 2 BUF 0)  \n",
      "Step #28800.00 (1ms ~= 1000.00*RT, ~70000.00UPS, TraCI: 116ms, vehicles TOT 1981 ACT 70 BUes TOT 717 ACT 119 BUF 46)             \n",
      "Step #28800.00 (0ms ?*RT. ?UPS, TraCI: 112ms, vehicles TOT 1975 ACT 71 BUF 71)            I: 36ms, vehicles TOT 2 ACT 2 BUF 0)  \n",
      "Step #28800.00 (1ms ~= 1000.00*RT, ~71000.00UPS, TraCI: 117ms, vehicles TOT 1977 ACT 71 BUI: 38ms, vehicles TOT 2 ACT 2 BUF 0)  \n",
      "Step #28800.00 (1ms ~= 1000.00*RT, ~71000.00UPS, TraCI: 112ms, vehicles TOT 1971 ACT 71 BUI: 36ms, vehicles TOT 2 ACT 2 BUF 0)  \n",
      "Step #28800.00 (0ms ?*RT. ?UPS, TraCI: 112ms, vehicles TOT 1979 ACT 79 BUF 67)            raCI: 97ms, vehicles TOT 628 ACT 105 BU\n",
      "Step #28800.00 (1ms ~= 1000.00*RT, ~70000.00UPS, TraCI: 79ms, vehicles TOT 1962 ACT 70 BUFI: 27ms, vehicles TOT 2 ACT 2 BUF 0)  \n",
      "Step #28800.00 (1ms ~= 1000.00*RT, ~71000.00UPS, TraCI: 78ms, vehicles TOT 1961 ACT 71 BUFes TOT 2 ACT 2 BUF 0)                  \n"
     ]
    },
    {
     "name": "stderr",
     "output_type": "stream",
     "text": [
      "\u001b[2m\u001b[36m(RolloutWorker pid=13580)\u001b[0m Warning: Vehicle '163932_422_0' performs emergency braking on lane ':247379907_5_1' with decel=9.00, wished=4.50, severity=1.00, time=25996.00.\n"
     ]
    },
    {
     "name": "stdout",
     "output_type": "stream",
     "text": [
      "Step #25900.00 (1ms ~= 1000.00*RT, ~70000.00UPS, TraCI: 138ms, vehicles TOT 395 ACT 70 BUFCI: 37ms, vehicles TOT 2 ACT 2 BUF 0)  \n"
     ]
    },
    {
     "name": "stderr",
     "output_type": "stream",
     "text": [
      "\u001b[2m\u001b[36m(RolloutWorker pid=13580)\u001b[0m Warning: Vehicle '184516_431_0' performs emergency braking on lane ':26110729_5_1' with decel=9.00, wished=4.50, severity=1.00, time=27649.00.\n"
     ]
    },
    {
     "name": "stdout",
     "output_type": "stream",
     "text": [
      "Step #27600.00 (0ms ?*RT. ?UPS, TraCI: 106ms, vehicles TOT 1438 ACT 99 BUF 50)            aCI: 86ms, vehicles TOT 470 ACT 90 BUF \n",
      "Step #28800.00 (0ms ?*RT. ?UPS, TraCI: 120ms, vehicles TOT 1969 ACT 71 BUF 77)            es TOT 2 ACT 2 BUF 0)                  \n",
      "Step #28800.00 (0ms ?*RT. ?UPS, TraCI: 113ms, vehicles TOT 1966 ACT 71 BUF 80)            CI: 33ms, vehicles TOT 2 ACT 2 BUF 0)  \n",
      "Step #28800.00 (0ms ?*RT. ?UPS, TraCI: 120ms, vehicles TOT 1962 ACT 70 BUF 84)            les TOT 1487 ACT 95 BUF 56)            \n",
      "Step #28800.00 (1ms ~= 1000.00*RT, ~72000.00UPS, TraCI: 118ms, vehicles TOT 1970 ACT 72 BUI: 36ms, vehicles TOT 2 ACT 2 BUF 0)  \n",
      "Step #28800.00 (1ms ~= 1000.00*RT, ~72000.00UPS, TraCI: 116ms, vehicles TOT 1981 ACT 72 BUI: 27ms, vehicles TOT 2 ACT 2 BUF 0)  \n",
      "Step #28800.00 (1ms ~= 1000.00*RT, ~70000.00UPS, TraCI: 109ms, vehicles TOT 1974 ACT 70 BUI: 27ms, vehicles TOT 2 ACT 2 BUF 0)  \n",
      "Step #28800.00 (0ms ?*RT. ?UPS, TraCI: 130ms, vehicles TOT 1964 ACT 71 BUF 82)            es TOT 2 ACT 2 BUF 0)                  \n",
      "Step #28800.00 (0ms ?*RT. ?UPS, TraCI: 113ms, vehicles TOT 1970 ACT 74 BUF 76)            I: 37ms, vehicles TOT 2 ACT 2 BUF 0)  \n",
      "Step #28800.00 (0ms ?*RT. ?UPS, TraCI: 86ms, vehicles TOT 1969 ACT 68 BUF 77)             I: 26ms, vehicles TOT 2 ACT 2 BUF 0)  \n",
      "Step #28800.00 (0ms ?*RT. ?UPS, TraCI: 84ms, vehicles TOT 1969 ACT 68 BUF 77)             es TOT 2 ACT 2 BUF 0)                  \n"
     ]
    },
    {
     "name": "stderr",
     "output_type": "stream",
     "text": [
      "\u001b[2m\u001b[36m(RolloutWorker pid=1732)\u001b[0m Warning: Vehicle '188987_434_0' performs emergency braking on lane ':26110729_5_1' with decel=9.00, wished=4.50, severity=1.00, time=26154.00.\n"
     ]
    },
    {
     "name": "stdout",
     "output_type": "stream",
     "text": [
      "Step #26100.00 (0ms ?*RT. ?UPS, TraCI: 88ms, vehicles TOT 557 ACT 94 BUF 25)              I: 32ms, vehicles TOT 2 ACT 2 BUF 0)  \n"
     ]
    },
    {
     "name": "stderr",
     "output_type": "stream",
     "text": [
      "\u001b[2m\u001b[36m(RolloutWorker pid=3200)\u001b[0m Warning: Vehicle '238239_451_0' performs emergency braking on lane ':26110729_16_0' with decel=9.00, wished=4.50, severity=1.00, time=27932.00.\n"
     ]
    },
    {
     "name": "stdout",
     "output_type": "stream",
     "text": [
      "Step #27900.00 (1ms ~= 1000.00*RT, ~75000.00UPS, TraCI: 87ms, vehicles TOT 1586 ACT 75 BUFs TOT 2 ACT 2 BUF 0)                  \n",
      "Step #28800.00 (1ms ~= 1000.00*RT, ~73000.00UPS, TraCI: 140ms, vehicles TOT 1962 ACT 73 BUCI: 34ms, vehicles TOT 2 ACT 2 BUF 0)  \n",
      "Step #28800.00 (1ms ~= 1000.00*RT, ~75000.00UPS, TraCI: 129ms, vehicles TOT 1969 ACT 75 BUCI: 31ms, vehicles TOT 2 ACT 2 BUF 0)  \n",
      "Step #28800.00 (0ms ?*RT. ?UPS, TraCI: 128ms, vehicles TOT 1973 ACT 75 BUF 73)            es TOT 2 ACT 2 BUF 0)                  \n",
      "Step #28800.00 (0ms ?*RT. ?UPS, TraCI: 129ms, vehicles TOT 1960 ACT 70 BUF 86)            I: 31ms, vehicles TOT 2 ACT 2 BUF 0)  \n",
      "Step #28800.00 (0ms ?*RT. ?UPS, TraCI: 113ms, vehicles TOT 1981 ACT 75 BUF 65)            es TOT 2 ACT 2 BUF 0)                  \n",
      "Step #28800.00 (1ms ~= 1000.00*RT, ~71000.00UPS, TraCI: 107ms, vehicles TOT 1966 ACT 71 BUI: 31ms, vehicles TOT 2 ACT 2 BUF 0)  \n",
      "Step #28800.00 (1ms ~= 1000.00*RT, ~69000.00UPS, TraCI: 122ms, vehicles TOT 1966 ACT 69 BUaCI: 86ms, vehicles TOT 630 ACT 106 BU\n",
      "Step #28800.00 (0ms ?*RT. ?UPS, TraCI: 128ms, vehicles TOT 1971 ACT 67 BUF 75)            I: 31ms, vehicles TOT 2 ACT 2 BUF 0)  \n",
      "Step #28800.00 (0ms ?*RT. ?UPS, TraCI: 86ms, vehicles TOT 1978 ACT 69 BUF 68)             CI: 83ms, vehicles TOT 1637 ACT 83 BUF\n",
      "Step #28800.00 (1ms ~= 1000.00*RT, ~74000.00UPS, TraCI: 87ms, vehicles TOT 1966 ACT 74 BUFCI: 23ms, vehicles TOT 2 ACT 2 BUF 0)  \n"
     ]
    },
    {
     "name": "stderr",
     "output_type": "stream",
     "text": [
      "\u001b[2m\u001b[36m(RolloutWorker pid=13628)\u001b[0m Warning: Vehicle '150226_418_0' performs emergency braking on lane ':247379907_5_1' with decel=9.00, wished=4.50, severity=1.00, time=25980.00.\n"
     ]
    },
    {
     "name": "stdout",
     "output_type": "stream",
     "text": [
      "Step #25900.00 (0ms ?*RT. ?UPS, TraCI: 71ms, vehicles TOT 395 ACT 66 BUF 0)               CI: 30ms, vehicles TOT 2 ACT 2 BUF 0)  \n"
     ]
    },
    {
     "name": "stderr",
     "output_type": "stream",
     "text": [
      "\u001b[2m\u001b[36m(RolloutWorker pid=5640)\u001b[0m Warning: Vehicle '149857_417_0' performs emergency braking on lane ':26110729_7_0' with decel=9.00, wished=4.50, severity=1.00, time=27917.00.\n"
     ]
    },
    {
     "name": "stdout",
     "output_type": "stream",
     "text": [
      "Step #27900.00 (1ms ~= 1000.00*RT, ~72000.00UPS, TraCI: 86ms, vehicles TOT 1564 ACT 72 BUFI: 30ms, vehicles TOT 2 ACT 2 BUF 0)  \n"
     ]
    },
    {
     "name": "stderr",
     "output_type": "stream",
     "text": [
      "\u001b[2m\u001b[36m(RolloutWorker pid=5640)\u001b[0m Warning: Vehicle '235972_451_0' performs emergency braking on lane ':26110729_5_1' with decel=9.00, wished=4.50, severity=1.00, time=28469.00.\n"
     ]
    },
    {
     "name": "stdout",
     "output_type": "stream",
     "text": [
      "Step #28400.00 (0ms ?*RT. ?UPS, TraCI: 85ms, vehicles TOT 1809 ACT 76 BUF 72)             s TOT 1619 ACT 82 BUF 54)             \n",
      "Step #28800.00 (0ms ?*RT. ?UPS, TraCI: 84ms, vehicles TOT 1968 ACT 71 BUF 78)             es TOT 2 ACT 2 BUF 0)                  \n",
      "Step #28800.00 (0ms ?*RT. ?UPS, TraCI: 88ms, vehicles TOT 1977 ACT 70 BUF 69)             es TOT 2 ACT 2 BUF 0)                  \n",
      "Step #28800.00 (0ms ?*RT. ?UPS, TraCI: 84ms, vehicles TOT 1967 ACT 69 BUF 79)             I: 26ms, vehicles TOT 2 ACT 2 BUF 0)  \n",
      "Step #28800.00 (1ms ~= 1000.00*RT, ~69000.00UPS, TraCI: 86ms, vehicles TOT 1972 ACT 69 BUFCI: 31ms, vehicles TOT 2 ACT 2 BUF 0)  \n",
      "Step #28800.00 (0ms ?*RT. ?UPS, TraCI: 89ms, vehicles TOT 1966 ACT 70 BUF 80)             es TOT 471 ACT 91 BUF 15)              \n",
      "Step #28800.00 (1ms ~= 1000.00*RT, ~69000.00UPS, TraCI: 86ms, vehicles TOT 1964 ACT 69 BUFs TOT 2 ACT 2 BUF 0)                  \n",
      "Step #28800.00 (0ms ?*RT. ?UPS, TraCI: 83ms, vehicles TOT 1966 ACT 72 BUF 80)             I: 29ms, vehicles TOT 2 ACT 2 BUF 0)  \n",
      "Step #28800.00 (0ms ?*RT. ?UPS, TraCI: 90ms, vehicles TOT 1970 ACT 74 BUF 76)             CI: 80ms, vehicles TOT 1850 ACT 71 BUF\n"
     ]
    },
    {
     "name": "stderr",
     "output_type": "stream",
     "text": [
      "\u001b[2m\u001b[36m(RolloutWorker pid=20048)\u001b[0m Error: tcpip::Socket::accept() Unable to create listening socket: Address already in use\n",
      "\u001b[2m\u001b[36m(RolloutWorker pid=20048)\u001b[0m Quitting (on error).\n",
      "\u001b[2m\u001b[36m(RolloutWorker pid=20048)\u001b[0m C:\\Program Files (x86)\\Eclipse\\Sumo\\tools\\traci\\main.py:159: UserWarning: Could not connect to TraCI server using port 51683 (TraCI server already finished). Retrying with different port.\n",
      "\u001b[2m\u001b[36m(RolloutWorker pid=20048)\u001b[0m   warnings.warn((\"Could not connect to TraCI server using port %s (%s).\" +\n"
     ]
    },
    {
     "name": "stdout",
     "output_type": "stream",
     "text": [
      "Step #28800.00 (1ms ~= 1000.00*RT, ~73000.00UPS, TraCI: 95ms, vehicles TOT 1969 ACT 73 BUFI: 38ms, vehicles TOT 2 ACT 2 BUF 0)  \n",
      "Step #28800.00 (1ms ~= 1000.00*RT, ~74000.00UPS, TraCI: 93ms, vehicles TOT 1966 ACT 74 BUFCI: 38ms, vehicles TOT 2 ACT 2 BUF 0)  \n"
     ]
    },
    {
     "name": "stderr",
     "output_type": "stream",
     "text": [
      "\u001b[2m\u001b[36m(RolloutWorker pid=24144)\u001b[0m Warning: Vehicle '188987_434_0' performs emergency braking on lane ':26110729_5_1' with decel=9.00, wished=4.50, severity=1.00, time=26154.00.\n"
     ]
    },
    {
     "name": "stdout",
     "output_type": "stream",
     "text": [
      "Step #26100.00 (0ms ?*RT. ?UPS, TraCI: 84ms, vehicles TOT 555 ACT 92 BUF 27)              CI: 40ms, vehicles TOT 2 ACT 2 BUF 0)  \n",
      "Step #28800.00 (1ms ~= 1000.00*RT, ~71000.00UPS, TraCI: 107ms, vehicles TOT 1962 ACT 71 BUCI: 41ms, vehicles TOT 2 ACT 2 BUF 0)  \n",
      "Step #28800.00 (0ms ?*RT. ?UPS, TraCI: 106ms, vehicles TOT 1970 ACT 73 BUF 76)            I: 39ms, vehicles TOT 2 ACT 2 BUF 0)  \n",
      "Step #28800.00 (1ms ~= 1000.00*RT, ~67000.00UPS, TraCI: 92ms, vehicles TOT 1968 ACT 67 BUFCI: 36ms, vehicles TOT 2 ACT 2 BUF 0)  \n",
      "Step #28800.00 (0ms ?*RT. ?UPS, TraCI: 101ms, vehicles TOT 1970 ACT 72 BUF 76)            CI: 40ms, vehicles TOT 2 ACT 2 BUF 0)  \n",
      "Step #28800.00 (0ms ?*RT. ?UPS, TraCI: 97ms, vehicles TOT 1966 ACT 72 BUF 80)             s TOT 2 ACT 2 BUF 0)                  \n",
      "Step #28800.00 (1ms ~= 1000.00*RT, ~68000.00UPS, TraCI: 95ms, vehicles TOT 1959 ACT 68 BUFs TOT 2 ACT 2 BUF 0)                  \n",
      "Step #28800.00 (0ms ?*RT. ?UPS, TraCI: 98ms, vehicles TOT 1965 ACT 73 BUF 81)             I: 37ms, vehicles TOT 2 ACT 2 BUF 0)  \n",
      "Step #28800.00 (1ms ~= 1000.00*RT, ~73000.00UPS, TraCI: 89ms, vehicles TOT 1968 ACT 73 BUFCI: 38ms, vehicles TOT 2 ACT 2 BUF 0)  \n"
     ]
    },
    {
     "name": "stderr",
     "output_type": "stream",
     "text": [
      "\u001b[2m\u001b[36m(RolloutWorker pid=21792)\u001b[0m Warning: Vehicle '161283_421_0' performs emergency braking on lane '-186623965#16_1' with decel=9.00, wished=4.50, severity=1.00, time=25763.00.\n"
     ]
    },
    {
     "name": "stdout",
     "output_type": "stream",
     "text": [
      "Step #25700.00 (1ms ~= 1000.00*RT, ~59000.00UPS, TraCI: 65ms, vehicles TOT 271 ACT 59 BUF es TOT 2 ACT 2 BUF 0)                  \n",
      "Step #28800.00 (0ms ?*RT. ?UPS, TraCI: 112ms, vehicles TOT 1971 ACT 72 BUF 75)            s TOT 2 ACT 2 BUF 0)                  \n",
      "Step #28800.00 (1ms ~= 1000.00*RT, ~72000.00UPS, TraCI: 111ms, vehicles TOT 1965 ACT 72 BUes TOT 627 ACT 101 BUF 34)             \n"
     ]
    },
    {
     "name": "stderr",
     "output_type": "stream",
     "text": [
      "\u001b[2m\u001b[36m(RolloutWorker pid=5640)\u001b[0m Warning: Vehicle '149857_417_0' performs emergency braking on lane ':26110729_7_0' with decel=9.00, wished=4.50, severity=1.00, time=27917.00.\n"
     ]
    },
    {
     "name": "stdout",
     "output_type": "stream",
     "text": [
      "Step #27900.00 (1ms ~= 1000.00*RT, ~73000.00UPS, TraCI: 83ms, vehicles TOT 1571 ACT 73 BUFI: 34ms, vehicles TOT 2 ACT 2 BUF 0)  \n",
      "Step #28800.00 (0ms ?*RT. ?UPS, TraCI: 104ms, vehicles TOT 1974 ACT 71 BUF 72)            CI: 29ms, vehicles TOT 2 ACT 2 BUF 0)  \n",
      "Step #28800.00 (0ms ?*RT. ?UPS, TraCI: 108ms, vehicles TOT 1970 ACT 73 BUF 76)            aCI: 71ms, vehicles TOT 330 ACT 53 BUF \n",
      "Step #28800.00 (0ms ?*RT. ?UPS, TraCI: 110ms, vehicles TOT 1965 ACT 72 BUF 81)            I: 34ms, vehicles TOT 2 ACT 2 BUF 0)  \n",
      "Step #28800.00 (1ms ~= 1000.00*RT, ~67000.00UPS, TraCI: 103ms, vehicles TOT 1959 ACT 67 BUes TOT 2 ACT 2 BUF 0)                  \n",
      "Step #28800.00 (1ms ~= 1000.00*RT, ~72000.00UPS, TraCI: 108ms, vehicles TOT 1980 ACT 72 BUI: 39ms, vehicles TOT 2 ACT 2 BUF 0)  \n",
      "Step #28800.00 (1ms ~= 1000.00*RT, ~69000.00UPS, TraCI: 109ms, vehicles TOT 1966 ACT 69 BUI: 40ms, vehicles TOT 2 ACT 2 BUF 0)  \n",
      "Step #28800.00 (1ms ~= 1000.00*RT, ~71000.00UPS, TraCI: 99ms, vehicles TOT 1965 ACT 71 BUFCI: 37ms, vehicles TOT 2 ACT 2 BUF 0)  \n",
      "Step #28800.00 (0ms ?*RT. ?UPS, TraCI: 104ms, vehicles TOT 1965 ACT 71 BUF 81)            es TOT 1624 ACT 82 BUF 49)            \n",
      "Step #28800.00 (0ms ?*RT. ?UPS, TraCI: 77ms, vehicles TOT 1978 ACT 68 BUF 68)             I: 34ms, vehicles TOT 2 ACT 2 BUF 0)  \n",
      "Step #28800.00 (0ms ?*RT. ?UPS, TraCI: 80ms, vehicles TOT 1972 ACT 72 BUF 74)             CI: 36ms, vehicles TOT 2 ACT 2 BUF 0)  \n"
     ]
    },
    {
     "name": "stderr",
     "output_type": "stream",
     "text": [
      "\u001b[2m\u001b[36m(RolloutWorker pid=20048)\u001b[0m Warning: Vehicle '188987_434_0' performs emergency braking on lane ':26110729_5_1' with decel=9.00, wished=4.50, severity=1.00, time=26154.00.\n",
      "\u001b[2m\u001b[36m(RolloutWorker pid=5640)\u001b[0m Warning: Vehicle '188987_434_0' performs emergency braking on lane ':26110729_5_1' with decel=9.00, wished=4.50, severity=1.00, time=26154.00.\n"
     ]
    },
    {
     "name": "stdout",
     "output_type": "stream",
     "text": [
      "Step #26100.00 (0ms ?*RT. ?UPS, TraCI: 84ms, vehicles TOT 559 ACT 93 BUF 23)              CI: 36ms, vehicles TOT 2 ACT 2 BUF 0)  \n",
      "Step #26100.00 (1ms ~= 1000.00*RT, ~96000.00UPS, TraCI: 92ms, vehicles TOT 559 ACT 96 BUF I: 37ms, vehicles TOT 2 ACT 2 BUF 0)  \n"
     ]
    },
    {
     "name": "stderr",
     "output_type": "stream",
     "text": [
      "\u001b[2m\u001b[36m(RolloutWorker pid=21792)\u001b[0m Warning: Vehicle '210817_442_0' performs emergency braking on lane ':26110729_5_1' with decel=9.00, wished=4.50, severity=1.00, time=27309.00.\n"
     ]
    },
    {
     "name": "stdout",
     "output_type": "stream",
     "text": [
      "Step #27300.00 (1ms ~= 1000.00*RT, ~91000.00UPS, TraCI: 83ms, vehicles TOT 1285 ACT 91 BUFes TOT 2 ACT 2 BUF 0)                  \n"
     ]
    },
    {
     "name": "stderr",
     "output_type": "stream",
     "text": [
      "\u001b[2m\u001b[36m(RolloutWorker pid=3200)\u001b[0m Warning: Vehicle '178434_430_0' performs emergency braking on lane '186623965#9_1' with decel=9.00, wished=4.50, severity=1.00, time=27303.00.\n"
     ]
    },
    {
     "name": "stdout",
     "output_type": "stream",
     "text": [
      "Step #27300.00 (1ms ~= 1000.00*RT, ~88000.00UPS, TraCI: 143ms, vehicles TOT 1286 ACT 88 BUI: 27ms, vehicles TOT 2 ACT 2 BUF 0)  \n",
      "Step #28800.00 (0ms ?*RT. ?UPS, TraCI: 118ms, vehicles TOT 1980 ACT 72 BUF 66)            aCI: 164ms, vehicles TOT 1334 ACT 77 BU\n",
      "Step #28800.00 (1ms ~= 1000.00*RT, ~73000.00UPS, TraCI: 125ms, vehicles TOT 1975 ACT 73 BUCI: 36ms, vehicles TOT 2 ACT 2 BUF 0)  \n",
      "Step #28800.00 (0ms ?*RT. ?UPS, TraCI: 113ms, vehicles TOT 1973 ACT 68 BUF 73)            I: 32ms, vehicles TOT 2 ACT 2 BUF 0)  \n",
      "Step #28800.00 (0ms ?*RT. ?UPS, TraCI: 121ms, vehicles TOT 1991 ACT 76 BUF 55)            es TOT 631 ACT 103 BUF 30)             \n",
      "Step #28800.00 (1ms ~= 1000.00*RT, ~68000.00UPS, TraCI: 117ms, vehicles TOT 1975 ACT 68 BUs TOT 2 ACT 2 BUF 0)                  \n",
      "Step #28800.00 (0ms ?*RT. ?UPS, TraCI: 95ms, vehicles TOT 1976 ACT 71 BUF 70)             CI: 35ms, vehicles TOT 2 ACT 2 BUF 0)  \n",
      "Step #28800.00 (0ms ?*RT. ?UPS, TraCI: 118ms, vehicles TOT 1973 ACT 70 BUF 73)            I: 32ms, vehicles TOT 2 ACT 2 BUF 0)  \n",
      "Step #28800.00 (1ms ~= 1000.00*RT, ~92000.00UPS, TraCI: 91ms, vehicles TOT 1955 ACT 92 BUFaCI: 95ms, vehicles TOT 632 ACT 102 BU\n",
      "Step #28800.00 (1ms ~= 1000.00*RT, ~71000.00UPS, TraCI: 84ms, vehicles TOT 1978 ACT 71 BUFCI: 85ms, vehicles TOT 1334 ACT 71 BUF\n",
      "Step #28800.00 (0ms ?*RT. ?UPS, TraCI: 83ms, vehicles TOT 1987 ACT 70 BUF 59)             es TOT 2 ACT 2 BUF 0)                  \n"
     ]
    },
    {
     "name": "stderr",
     "output_type": "stream",
     "text": [
      "\u001b[2m\u001b[36m(RolloutWorker pid=3200)\u001b[0m Warning: Vehicle '136876_411_0' performs emergency braking on lane ':247379907_5_1' with decel=9.00, wished=4.50, severity=1.00, time=25970.00.\n"
     ]
    },
    {
     "name": "stdout",
     "output_type": "stream",
     "text": [
      "Step #25900.00 (0ms ?*RT. ?UPS, TraCI: 73ms, vehicles TOT 395 ACT 59 BUF 0)               s TOT 2 ACT 2 BUF 0)                  \n"
     ]
    },
    {
     "name": "stderr",
     "output_type": "stream",
     "text": [
      "\u001b[2m\u001b[36m(RolloutWorker pid=21792)\u001b[0m Warning: Vehicle '200402_437_0' performs emergency braking on lane ':26110729_16_0' with decel=9.00, wished=4.50, severity=1.00, time=26832.00.\n"
     ]
    },
    {
     "name": "stdout",
     "output_type": "stream",
     "text": [
      "Step #26800.00 (1ms ~= 1000.00*RT, ~87000.00UPS, TraCI: 145ms, vehicles TOT 956 ACT 87 BUFCI: 26ms, vehicles TOT 2 ACT 2 BUF 0)  \n",
      "Step #26900.00 (1ms ~= 1000.00*RT, ~99000.00UPS, TraCI: 89ms, vehicles TOT 1022 ACT 99 BUFCI: 26ms, vehicles TOT 2 ACT 2 BUF 0)  \n"
     ]
    },
    {
     "name": "stderr",
     "output_type": "stream",
     "text": [
      "\u001b[2m\u001b[36m(RolloutWorker pid=24144)\u001b[0m Warning: Vehicle '171303_426_0' performs emergency braking on lane ':252017285_20_0' with decel=9.00, wished=4.50, severity=1.00, time=26566.00.\u001b[32m [repeated 2x across cluster]\u001b[0m\n"
     ]
    },
    {
     "name": "stdout",
     "output_type": "stream",
     "text": [
      "Step #26500.00 (0ms ?*RT. ?UPS, TraCI: 91ms, vehicles TOT 812 ACT 92 BUF 68)              CI: 28ms, vehicles TOT 2 ACT 2 BUF 0)  \n"
     ]
    },
    {
     "name": "stderr",
     "output_type": "stream",
     "text": [
      "\u001b[2m\u001b[36m(RolloutWorker pid=21792)\u001b[0m Warning: Vehicle '149857_417_0' performs emergency braking on lane ':26110729_7_0' with decel=9.00, wished=4.50, severity=1.00, time=27917.00.\n"
     ]
    },
    {
     "name": "stdout",
     "output_type": "stream",
     "text": [
      "Step #27900.00 (0ms ?*RT. ?UPS, TraCI: 81ms, vehicles TOT 1572 ACT 73 BUF 48)             aCI: 95ms, vehicles TOT 1021 ACT 98 BUF\n"
     ]
    },
    {
     "name": "stderr",
     "output_type": "stream",
     "text": [
      "\u001b[2m\u001b[36m(RolloutWorker pid=3200)\u001b[0m Warning: Vehicle '168240_425_0' performs emergency braking on lane ':26110729_16_0' with decel=9.00, wished=4.50, severity=1.00, time=27507.00.\n"
     ]
    },
    {
     "name": "stdout",
     "output_type": "stream",
     "text": [
      "Step #27500.00 (0ms ?*RT. ?UPS, TraCI: 90ms, vehicles TOT 1390 ACT 79 BUF 24)             s TOT 476 ACT 92 BUF 10)              \n"
     ]
    },
    {
     "name": "stderr",
     "output_type": "stream",
     "text": [
      "\u001b[2m\u001b[36m(RolloutWorker pid=24144)\u001b[0m Warning: Vehicle '238239_451_0' performs emergency braking on lane '-186623965#16_1' with decel=9.00, wished=4.50, severity=1.00, time=27932.00.\n"
     ]
    },
    {
     "name": "stdout",
     "output_type": "stream",
     "text": [
      "Step #27900.00 (0ms ?*RT. ?UPS, TraCI: 87ms, vehicles TOT 1588 ACT 77 BUF 32)             es TOT 874 ACT 99 BUF 65)              \n",
      "Step #28800.00 (1ms ~= 1000.00*RT, ~71000.00UPS, TraCI: 134ms, vehicles TOT 1981 ACT 71 BUaCI: 99ms, vehicles TOT 1092 ACT 97 BUF\n",
      "Step #28800.00 (0ms ?*RT. ?UPS, TraCI: 142ms, vehicles TOT 1979 ACT 70 BUF 67)            I: 29ms, vehicles TOT 2 ACT 2 BUF 0)  \n",
      "Step #28800.00 (1ms ~= 1000.00*RT, ~68000.00UPS, TraCI: 143ms, vehicles TOT 1975 ACT 68 BUCI: 28ms, vehicles TOT 2 ACT 2 BUF 0)  \n",
      "Step #28800.00 (1ms ~= 1000.00*RT, ~75000.00UPS, TraCI: 139ms, vehicles TOT 1978 ACT 75 BUaCI: 86ms, vehicles TOT 1625 ACT 79 BUF\n",
      "Step #28800.00 (0ms ?*RT. ?UPS, TraCI: 138ms, vehicles TOT 1976 ACT 68 BUF 70)            s TOT 2 ACT 2 BUF 0)                  \n",
      "Step #28800.00 (1ms ~= 1000.00*RT, ~71000.00UPS, TraCI: 124ms, vehicles TOT 1977 ACT 71 BUCI: 31ms, vehicles TOT 2 ACT 2 BUF 0)  \n",
      "Step #28800.00 (1ms ~= 1000.00*RT, ~74000.00UPS, TraCI: 143ms, vehicles TOT 1978 ACT 74 BUI: 23ms, vehicles TOT 2 ACT 2 BUF 0)  \n",
      "Step #28800.00 (0ms ?*RT. ?UPS, TraCI: 134ms, vehicles TOT 1976 ACT 69 BUF 70)            I: 36ms, vehicles TOT 2 ACT 2 BUF 0)  \n",
      "Step #28800.00 (0ms ?*RT. ?UPS, TraCI: 86ms, vehicles TOT 1981 ACT 68 BUF 65)             es TOT 1452 ACT 102 BUF 36)           \n",
      "Step #28800.00 (0ms ?*RT. ?UPS, TraCI: 87ms, vehicles TOT 1990 ACT 72 BUF 56)             aCI: 83ms, vehicles TOT 1637 ACT 83 BUF\n"
     ]
    },
    {
     "name": "stderr",
     "output_type": "stream",
     "text": [
      "\u001b[2m\u001b[36m(RolloutWorker pid=13580)\u001b[0m Warning: Vehicle '188987_434_0' performs emergency braking on lane '186623965#9_1' with decel=9.00, wished=4.50, severity=1.00, time=26154.00.\n"
     ]
    },
    {
     "name": "stdout",
     "output_type": "stream",
     "text": [
      "Step #26100.00 (1ms ~= 1000.00*RT, ~92000.00UPS, TraCI: 82ms, vehicles TOT 553 ACT 92 BUF CI: 30ms, vehicles TOT 2 ACT 2 BUF 0)  \n"
     ]
    },
    {
     "name": "stderr",
     "output_type": "stream",
     "text": [
      "\u001b[2m\u001b[36m(RolloutWorker pid=13628)\u001b[0m Warning: Vehicle '178434_430_0' performs emergency braking on lane ':26110729_5_1' with decel=9.00, wished=4.50, severity=1.00, time=27303.00.\n"
     ]
    },
    {
     "name": "stdout",
     "output_type": "stream",
     "text": [
      "Step #27300.00 (1ms ~= 1000.00*RT, ~92000.00UPS, TraCI: 81ms, vehicles TOT 1293 ACT 92 BUFCI: 34ms, vehicles TOT 2 ACT 2 BUF 0)  \n",
      "Step #28800.00 (0ms ?*RT. ?UPS, TraCI: 86ms, vehicles TOT 1971 ACT 67 BUF 75)             es TOT 2 ACT 2 BUF 0)                  \n",
      "Step #28800.00 (0ms ?*RT. ?UPS, TraCI: 87ms, vehicles TOT 1972 ACT 73 BUF 74)             I: 32ms, vehicles TOT 2 ACT 2 BUF 0)  \n",
      "Step #28800.00 (1ms ~= 1000.00*RT, ~67000.00UPS, TraCI: 79ms, vehicles TOT 1967 ACT 67 BUFles TOT 626 ACT 105 BUF 35)            \n",
      "Step #28800.00 (0ms ?*RT. ?UPS, TraCI: 86ms, vehicles TOT 1974 ACT 65 BUF 72)             s TOT 2 ACT 2 BUF 0)                  \n",
      "Step #28800.00 (1ms ~= 1000.00*RT, ~69000.00UPS, TraCI: 74ms, vehicles TOT 1985 ACT 69 BUFCI: 27ms, vehicles TOT 2 ACT 2 BUF 0)  \n",
      "Step #28800.00 (1ms ~= 1000.00*RT, ~69000.00UPS, TraCI: 79ms, vehicles TOT 1976 ACT 69 BUFaCI: 87ms, vehicles TOT 1339 ACT 71 BUF\n",
      "Step #28800.00 (0ms ?*RT. ?UPS, TraCI: 81ms, vehicles TOT 1981 ACT 76 BUF 65)             s TOT 2 ACT 2 BUF 0)                  \n",
      "Step #28800.00 (0ms ?*RT. ?UPS, TraCI: 77ms, vehicles TOT 1978 ACT 73 BUF 68)             I: 33ms, vehicles TOT 2 ACT 2 BUF 0)  \n",
      "Step #28800.00 (1ms ~= 1000.00*RT, ~70000.00UPS, TraCI: 90ms, vehicles TOT 1984 ACT 70 BUFI: 34ms, vehicles TOT 2 ACT 2 BUF 0)  \n",
      "Step #28800.00 (0ms ?*RT. ?UPS, TraCI: 100ms, vehicles TOT 1982 ACT 70 BUF 64)            CI: 35ms, vehicles TOT 2 ACT 2 BUF 0)  \n"
     ]
    },
    {
     "name": "stderr",
     "output_type": "stream",
     "text": [
      "\u001b[2m\u001b[36m(RolloutWorker pid=5640)\u001b[0m Warning: Vehicle '188987_434_0' performs emergency braking on lane ':26110729_5_1' with decel=9.00, wished=4.50, severity=1.00, time=26154.00.\n"
     ]
    },
    {
     "name": "stdout",
     "output_type": "stream",
     "text": [
      "Step #26100.00 (1ms ~= 1000.00*RT, ~90000.00UPS, TraCI: 143ms, vehicles TOT 559 ACT 90 BUFI: 39ms, vehicles TOT 2 ACT 2 BUF 0)  \n"
     ]
    },
    {
     "name": "stderr",
     "output_type": "stream",
     "text": [
      "\u001b[2m\u001b[36m(RolloutWorker pid=24144)\u001b[0m Warning: Vehicle '188987_434_0' performs emergency braking on lane '186623965#9_1' with decel=9.00, wished=4.50, severity=1.00, time=26154.00.\n"
     ]
    },
    {
     "name": "stdout",
     "output_type": "stream",
     "text": [
      "Step #26100.00 (0ms ?*RT. ?UPS, TraCI: 86ms, vehicles TOT 559 ACT 91 BUF 23)              es TOT 2 ACT 2 BUF 0)                  \n"
     ]
    },
    {
     "name": "stderr",
     "output_type": "stream",
     "text": [
      "\u001b[2m\u001b[36m(RolloutWorker pid=20048)\u001b[0m Warning: Vehicle '203858_439_0' performs emergency braking on lane ':cluster_1098574052_1098574061_247379905_14_0' with decel=9.00, wished=4.50, severity=1.00, time=27632.00.\n"
     ]
    },
    {
     "name": "stdout",
     "output_type": "stream",
     "text": [
      "Step #27600.00 (1ms ~= 1000.00*RT, ~102000.00UPS, TraCI: 170ms, vehicles TOT 1444 ACT 102 CI: 31ms, vehicles TOT 2 ACT 2 BUF 0)  \n",
      "Step #28800.00 (0ms ?*RT. ?UPS, TraCI: 92ms, vehicles TOT 1972 ACT 71 BUF 74)             I: 37ms, vehicles TOT 2 ACT 2 BUF 0)  \n",
      "Step #28800.00 (0ms ?*RT. ?UPS, TraCI: 98ms, vehicles TOT 1973 ACT 69 BUF 73)             s TOT 2 ACT 2 BUF 0)                  \n",
      "Step #28800.00 (0ms ?*RT. ?UPS, TraCI: 93ms, vehicles TOT 1969 ACT 67 BUF 77)             aCI: 94ms, vehicles TOT 1495 ACT 97 BUF\n",
      "Step #28800.00 (0ms ?*RT. ?UPS, TraCI: 96ms, vehicles TOT 1978 ACT 71 BUF 68)             CI: 39ms, vehicles TOT 2 ACT 2 BUF 0)  \n",
      "Step #28800.00 (0ms ?*RT. ?UPS, TraCI: 95ms, vehicles TOT 1967 ACT 69 BUF 79)             es TOT 2 ACT 2 BUF 0)                  \n",
      "Step #28800.00 (0ms ?*RT. ?UPS, TraCI: 92ms, vehicles TOT 1985 ACT 70 BUF 61)             CI: 39ms, vehicles TOT 2 ACT 2 BUF 0)  \n",
      "Step #28800.00 (0ms ?*RT. ?UPS, TraCI: 93ms, vehicles TOT 1984 ACT 74 BUF 62)             I: 41ms, vehicles TOT 2 ACT 2 BUF 0)  \n",
      "Step #28800.00 (1ms ~= 1000.00*RT, ~71000.00UPS, TraCI: 99ms, vehicles TOT 1974 ACT 71 BUFs TOT 632 ACT 101 BUF 29)             \n",
      "Step #28800.00 (0ms ?*RT. ?UPS, TraCI: 112ms, vehicles TOT 1979 ACT 73 BUF 67)            s TOT 2 ACT 2 BUF 0)                  \n",
      "Step #28800.00 (1ms ~= 1000.00*RT, ~69000.00UPS, TraCI: 106ms, vehicles TOT 1983 ACT 69 BUles TOT 631 ACT 106 BUF 30)            \n"
     ]
    },
    {
     "name": "stderr",
     "output_type": "stream",
     "text": [
      "\u001b[2m\u001b[36m(RolloutWorker pid=3200)\u001b[0m Warning: Vehicle '176781_429_0' performs emergency braking on lane ':26110729_16_0' with decel=9.00, wished=4.50, severity=1.00, time=25612.00.\n"
     ]
    },
    {
     "name": "stdout",
     "output_type": "stream",
     "text": [
      "Step #25600.00 (0ms ?*RT. ?UPS, TraCI: 61ms, vehicles TOT 206 ACT 54 BUF 0)               I: 25ms, vehicles TOT 2 ACT 2 BUF 0)  \n"
     ]
    },
    {
     "name": "stderr",
     "output_type": "stream",
     "text": [
      "\u001b[2m\u001b[36m(RolloutWorker pid=3200)\u001b[0m Warning: Vehicle '190010_434_0' performs emergency braking on lane ':26110729_16_0' with decel=9.00, wished=4.50, severity=1.00, time=26162.00.\n"
     ]
    },
    {
     "name": "stdout",
     "output_type": "stream",
     "text": [
      "Step #26100.00 (1ms ~= 1000.00*RT, ~91000.00UPS, TraCI: 86ms, vehicles TOT 555 ACT 91 BUF CI: 68ms, vehicles TOT 271 ACT 58 BUF \n"
     ]
    },
    {
     "name": "stderr",
     "output_type": "stream",
     "text": [
      "\u001b[2m\u001b[36m(RolloutWorker pid=9256)\u001b[0m Warning: Vehicle '238239_451_0' performs emergency braking on lane '-186623965#16_1' with decel=9.00, wished=4.50, severity=1.00, time=27932.00.\n"
     ]
    },
    {
     "name": "stdout",
     "output_type": "stream",
     "text": [
      "Step #27900.00 (1ms ~= 1000.00*RT, ~72000.00UPS, TraCI: 81ms, vehicles TOT 1566 ACT 72 BUFI: 36ms, vehicles TOT 2 ACT 2 BUF 0)  \n",
      "Step #28800.00 (0ms ?*RT. ?UPS, TraCI: 113ms, vehicles TOT 1969 ACT 70 BUF 77)            CI: 36ms, vehicles TOT 2 ACT 2 BUF 0)  \n",
      "Step #28800.00 (1ms ~= 1000.00*RT, ~73000.00UPS, TraCI: 110ms, vehicles TOT 1965 ACT 73 BUCI: 37ms, vehicles TOT 2 ACT 2 BUF 0)  \n",
      "Step #28800.00 (1ms ~= 1000.00*RT, ~70000.00UPS, TraCI: 108ms, vehicles TOT 1961 ACT 70 BUCI: 33ms, vehicles TOT 2 ACT 2 BUF 0)  \n",
      "Step #28800.00 (1ms ~= 1000.00*RT, ~71000.00UPS, TraCI: 106ms, vehicles TOT 1973 ACT 71 BUI: 35ms, vehicles TOT 2 ACT 2 BUF 0)  \n",
      "Step #28800.00 (1ms ~= 1000.00*RT, ~71000.00UPS, TraCI: 99ms, vehicles TOT 1976 ACT 71 BUFCI: 38ms, vehicles TOT 2 ACT 2 BUF 0)  \n",
      "Step #28800.00 (1ms ~= 1000.00*RT, ~77000.00UPS, TraCI: 96ms, vehicles TOT 1981 ACT 77 BUFs TOT 2 ACT 2 BUF 0)                  \n",
      "Step #28800.00 (0ms ?*RT. ?UPS, TraCI: 98ms, vehicles TOT 1970 ACT 70 BUF 76)             CI: 140ms, vehicles TOT 1620 ACT 82 BU\n",
      "Step #28800.00 (0ms ?*RT. ?UPS, TraCI: 96ms, vehicles TOT 1981 ACT 73 BUF 65)             I: 33ms, vehicles TOT 2 ACT 2 BUF 0)  \n",
      "Step #28800.00 (1ms ~= 1000.00*RT, ~74000.00UPS, TraCI: 76ms, vehicles TOT 1967 ACT 74 BUFaCI: 101ms, vehicles TOT 626 ACT 105 B\n",
      "Step #28800.00 (1ms ~= 1000.00*RT, ~69000.00UPS, TraCI: 73ms, vehicles TOT 1964 ACT 69 BUFCI: 25ms, vehicles TOT 2 ACT 2 BUF 0)  \n"
     ]
    },
    {
     "name": "stderr",
     "output_type": "stream",
     "text": [
      "\u001b[2m\u001b[36m(RolloutWorker pid=3060)\u001b[0m Warning: Vehicle '183638_431_0' performs emergency braking on lane ':26110729_5_1' with decel=9.00, wished=4.50, severity=1.00, time=26235.00.\n"
     ]
    },
    {
     "name": "stdout",
     "output_type": "stream",
     "text": [
      "Step #26200.00 (0ms ?*RT. ?UPS, TraCI: 89ms, vehicles TOT 628 ACT 110 BUF 33)             s TOT 2 ACT 2 BUF 0)                  \n"
     ]
    },
    {
     "name": "stderr",
     "output_type": "stream",
     "text": [
      "\u001b[2m\u001b[36m(RolloutWorker pid=24144)\u001b[0m Warning: Vehicle '188987_434_0' performs emergency braking on lane ':26110729_5_1' with decel=9.00, wished=4.50, severity=1.00, time=26154.00.\n"
     ]
    },
    {
     "name": "stdout",
     "output_type": "stream",
     "text": [
      "Step #26100.00 (0ms ?*RT. ?UPS, TraCI: 89ms, vehicles TOT 555 ACT 93 BUF 27)              CI: 28ms, vehicles TOT 2 ACT 2 BUF 0)  \n"
     ]
    },
    {
     "name": "stderr",
     "output_type": "stream",
     "text": [
      "\u001b[2m\u001b[36m(RolloutWorker pid=9256)\u001b[0m Warning: Vehicle '216002_445_0' performs emergency braking on lane ':26110729_16_0' with decel=9.00, wished=4.50, severity=1.00, time=26822.00.\n"
     ]
    },
    {
     "name": "stdout",
     "output_type": "stream",
     "text": [
      "Step #26800.00 (0ms ?*RT. ?UPS, TraCI: 81ms, vehicles TOT 951 ACT 80 BUF 67)              I: 37ms, vehicles TOT 2 ACT 2 BUF 0)  \n"
     ]
    },
    {
     "name": "stderr",
     "output_type": "stream",
     "text": [
      "\u001b[2m\u001b[36m(RolloutWorker pid=5640)\u001b[0m Warning: Vehicle '161407_421_0' performs emergency braking on lane ':26110729_5_1' with decel=9.00, wished=4.50, severity=1.00, time=26954.00.\n"
     ]
    },
    {
     "name": "stdout",
     "output_type": "stream",
     "text": [
      "Step #26900.00 (1ms ~= 1000.00*RT, ~100000.00UPS, TraCI: 170ms, vehicles TOT 1012 ACT 100 I: 35ms, vehicles TOT 2 ACT 2 BUF 0)  \n"
     ]
    },
    {
     "name": "stderr",
     "output_type": "stream",
     "text": [
      "\u001b[2m\u001b[36m(RolloutWorker pid=3200)\u001b[0m Warning: Vehicle '155045_420_0' performs emergency braking on lane ':26110729_5_1' with decel=9.00, wished=4.50, severity=1.00, time=26412.00.\n"
     ]
    },
    {
     "name": "stdout",
     "output_type": "stream",
     "text": [
      "Step #26400.00 (1ms ~= 1000.00*RT, ~101000.00UPS, TraCI: 96ms, vehicles TOT 757 ACT 101 BUI: 22ms, vehicles TOT 2 ACT 2 BUF 0)  \n"
     ]
    },
    {
     "name": "stderr",
     "output_type": "stream",
     "text": [
      "\u001b[2m\u001b[36m(RolloutWorker pid=20048)\u001b[0m Warning: Vehicle '235972_451_0' performs emergency braking on lane ':26110729_5_1' with decel=9.00, wished=4.50, severity=1.00, time=28469.00.\n"
     ]
    },
    {
     "name": "stdout",
     "output_type": "stream",
     "text": [
      "Step #28400.00 (1ms ~= 1000.00*RT, ~75000.00UPS, TraCI: 147ms, vehicles TOT 1810 ACT 75 BUes TOT 2 ACT 2 BUF 0)                  \n",
      "Step #28800.00 (1ms ~= 1000.00*RT, ~73000.00UPS, TraCI: 127ms, vehicles TOT 1966 ACT 73 BUes TOT 1850 ACT 71 BUF 83)             \n",
      "Step #28800.00 (1ms ~= 1000.00*RT, ~70000.00UPS, TraCI: 118ms, vehicles TOT 1965 ACT 70 BUes TOT 2 ACT 2 BUF 0)                  \n",
      "Step #28800.00 (0ms ?*RT. ?UPS, TraCI: 118ms, vehicles TOT 1963 ACT 69 BUF 83)            CI: 29ms, vehicles TOT 2 ACT 2 BUF 0)  \n",
      "Step #28800.00 (1ms ~= 1000.00*RT, ~69000.00UPS, TraCI: 125ms, vehicles TOT 1967 ACT 69 BUaCI: 81ms, vehicles TOT 715 ACT 117 BU\n",
      "Step #28800.00 (0ms ?*RT. ?UPS, TraCI: 118ms, vehicles TOT 1961 ACT 72 BUF 85)            es TOT 2 ACT 2 BUF 0)                  \n",
      "Step #28800.00 (0ms ?*RT. ?UPS, TraCI: 123ms, vehicles TOT 1968 ACT 71 BUF 78)            I: 37ms, vehicles TOT 2 ACT 2 BUF 0)  \n",
      "Step #28800.00 (1ms ~= 1000.00*RT, ~72000.00UPS, TraCI: 125ms, vehicles TOT 1959 ACT 72 BUCI: 165ms, vehicles TOT 1018 ACT 97 BU\n",
      "Step #28800.00 (1ms ~= 1000.00*RT, ~68000.00UPS, TraCI: 104ms, vehicles TOT 1960 ACT 68 BUCI: 89ms, vehicles TOT 1080 ACT 97 BUF\n",
      "Step #28800.00 (1ms ~= 1000.00*RT, ~72000.00UPS, TraCI: 87ms, vehicles TOT 1966 ACT 72 BUFCI: 95ms, vehicles TOT 801 ACT 93 BUF \n",
      "Step #28800.00 (0ms ?*RT. ?UPS, TraCI: 85ms, vehicles TOT 1975 ACT 71 BUF 71)             les TOT 625 ACT 107 BUF 36)            \n",
      "Step #28800.00 (1ms ~= 1000.00*RT, ~67000.00UPS, TraCI: 125ms, vehicles TOT 1950 ACT 67 BUes TOT 2 ACT 2 BUF 0)                  \n",
      "Step #28800.00 (1ms ~= 1000.00*RT, ~71000.00UPS, TraCI: 128ms, vehicles TOT 1957 ACT 71 BUes TOT 2 ACT 2 BUF 0)                  \n",
      "Step #28800.00 (0ms ?*RT. ?UPS, TraCI: 129ms, vehicles TOT 1966 ACT 69 BUF 80)            CI: 33ms, vehicles TOT 2 ACT 2 BUF 0)  \n",
      "Step #28800.00 (1ms ~= 1000.00*RT, ~72000.00UPS, TraCI: 120ms, vehicles TOT 1965 ACT 72 BUI: 27ms, vehicles TOT 2 ACT 2 BUF 0)  \n",
      "Step #28800.00 (1ms ~= 1000.00*RT, ~70000.00UPS, TraCI: 128ms, vehicles TOT 1959 ACT 70 BUes TOT 2 ACT 2 BUF 0)                  \n",
      "Step #28800.00 (0ms ?*RT. ?UPS, TraCI: 125ms, vehicles TOT 1970 ACT 68 BUF 76)            I: 28ms, vehicles TOT 2 ACT 2 BUF 0)  \n",
      "Step #28800.00 (1ms ~= 1000.00*RT, ~72000.00UPS, TraCI: 121ms, vehicles TOT 1971 ACT 72 BUs TOT 2 ACT 2 BUF 0)                  \n",
      "Step #28800.00 (1ms ~= 1000.00*RT, ~71000.00UPS, TraCI: 118ms, vehicles TOT 1970 ACT 71 BUs TOT 2 ACT 2 BUF 0)                  \n",
      "Step #28800.00 (1ms ~= 1000.00*RT, ~63000.00UPS, TraCI: 83ms, vehicles TOT 1952 ACT 63 BUFI: 29ms, vehicles TOT 2 ACT 2 BUF 0)  \n",
      "Step #28800.00 (0ms ?*RT. ?UPS, TraCI: 83ms, vehicles TOT 1957 ACT 72 BUF 89)             CI: 29ms, vehicles TOT 2 ACT 2 BUF 0)  \n"
     ]
    },
    {
     "name": "stderr",
     "output_type": "stream",
     "text": [
      "\u001b[2m\u001b[36m(RolloutWorker pid=5640)\u001b[0m Warning: Vehicle '178434_430_0' performs emergency braking on lane ':26110729_5_1' with decel=9.00, wished=4.50, severity=1.00, time=27303.00.\n"
     ]
    },
    {
     "name": "stdout",
     "output_type": "stream",
     "text": [
      "Step #27300.00 (1ms ~= 1000.00*RT, ~92000.00UPS, TraCI: 83ms, vehicles TOT 1288 ACT 92 BUFI: 27ms, vehicles TOT 2 ACT 2 BUF 0)  \n",
      "Step #27300.00 (1ms ~= 1000.00*RT, ~87000.00UPS, TraCI: 81ms, vehicles TOT 1278 ACT 87 BUFes TOT 2 ACT 2 BUF 0)                  \n",
      "Step #27300.00 (0ms ?*RT. ?UPS, TraCI: 80ms, vehicles TOT 1293 ACT 88 BUF 32)             I: 28ms, vehicles TOT 2 ACT 2 BUF 0)  \n"
     ]
    },
    {
     "name": "stderr",
     "output_type": "stream",
     "text": [
      "\u001b[2m\u001b[36m(RolloutWorker pid=1732)\u001b[0m Warning: Vehicle '141686_415_0' performs emergency braking on lane '186623965#9_1' with decel=9.00, wished=4.50, severity=1.00, time=27743.00.\u001b[32m [repeated 3x across cluster]\u001b[0m\n"
     ]
    },
    {
     "name": "stdout",
     "output_type": "stream",
     "text": [
      "Step #27700.00 (1ms ~= 1000.00*RT, ~102000.00UPS, TraCI: 146ms, vehicles TOT 1491 ACT 102 I: 28ms, vehicles TOT 2 ACT 2 BUF 0)  \n",
      "Step #28800.00 (0ms ?*RT. ?UPS, TraCI: 89ms, vehicles TOT 1975 ACT 71 BUF 71)             CI: 24ms, vehicles TOT 2 ACT 2 BUF 0)  \n",
      "Step #28800.00 (1ms ~= 1000.00*RT, ~71000.00UPS, TraCI: 83ms, vehicles TOT 1971 ACT 71 BUFCI: 24ms, vehicles TOT 2 ACT 2 BUF 0)  \n",
      "Step #28800.00 (1ms ~= 1000.00*RT, ~69000.00UPS, TraCI: 81ms, vehicles TOT 1969 ACT 69 BUFs TOT 1341 ACT 75 BUF 28)             \n",
      "Step #28800.00 (0ms ?*RT. ?UPS, TraCI: 89ms, vehicles TOT 1965 ACT 74 BUF 81)             es TOT 1330 ACT 75 BUF 39)             \n",
      "Step #28800.00 (1ms ~= 1000.00*RT, ~73000.00UPS, TraCI: 86ms, vehicles TOT 1971 ACT 73 BUFes TOT 2 ACT 2 BUF 0)                  \n",
      "Step #28800.00 (0ms ?*RT. ?UPS, TraCI: 77ms, vehicles TOT 1966 ACT 71 BUF 80)             s TOT 1520 ACT 70 BUF 55)             \n",
      "Step #28800.00 (1ms ~= 1000.00*RT, ~71000.00UPS, TraCI: 84ms, vehicles TOT 1978 ACT 71 BUFs TOT 2 ACT 2 BUF 0)                  \n",
      "Step #28800.00 (1ms ~= 1000.00*RT, ~67000.00UPS, TraCI: 85ms, vehicles TOT 1976 ACT 67 BUFs TOT 1335 ACT 75 BUF 34)             \n"
     ]
    },
    {
     "name": "stderr",
     "output_type": "stream",
     "text": [
      "\u001b[2m\u001b[36m(RolloutWorker pid=13580)\u001b[0m Warning: Vehicle '131071_409_0' performs emergency braking on lane ':26110729_16_0' with decel=9.00, wished=4.50, severity=1.00, time=25267.00.\n"
     ]
    },
    {
     "name": "stdout",
     "output_type": "stream",
     "text": [
      "\u001b[2m\u001b[36m(RolloutWorker pid=13580)\u001b[0m Step #25200.00 (1ms ~= 1000.00*RT, ~2000.00UPS, TraCI: 37ms, vehicles TOT 2 ACT 2 BUF 0)  \n"
     ]
    },
    {
     "name": "stderr",
     "output_type": "stream",
     "text": [
      "\u001b[2m\u001b[36m(RolloutWorker pid=3200)\u001b[0m Warning: Vehicle '244584_453_0' performs emergency braking on lane ':26110729_5_1' with decel=9.00, wished=4.50, severity=1.00, time=28490.00.\n"
     ]
    },
    {
     "name": "stdout",
     "output_type": "stream",
     "text": [
      "Step #28400.00 (0ms ?*RT. ?UPS, TraCI: 77ms, vehicles TOT 1808 ACT 75 BUF 73)             s TOT 2 ACT 2 BUF 0)                  \n",
      "Step #28800.00 (1ms ~= 1000.00*RT, ~71000.00UPS, TraCI: 97ms, vehicles TOT 1961 ACT 71 BUFs TOT 1850 ACT 72 BUF 83)             \n",
      "Step #28800.00 (0ms ?*RT. ?UPS, TraCI: 99ms, vehicles TOT 1974 ACT 70 BUF 72)             CI: 35ms, vehicles TOT 2 ACT 2 BUF 0)  \n"
     ]
    },
    {
     "name": "stderr",
     "output_type": "stream",
     "text": [
      "\u001b[2m\u001b[36m(RolloutWorker pid=1732)\u001b[0m Warning: Vehicle '210315_441_0' performs emergency braking on lane ':26110729_5_1' with decel=9.00, wished=4.50, severity=1.00, time=26362.00.\n"
     ]
    },
    {
     "name": "stdout",
     "output_type": "stream",
     "text": [
      "Step #26300.00 (1ms ~= 1000.00*RT, ~116000.00UPS, TraCI: 99ms, vehicles TOT 714 ACT 116 BUs TOT 2 ACT 2 BUF 0)                  \n"
     ]
    },
    {
     "name": "stderr",
     "output_type": "stream",
     "text": [
      "\u001b[2m\u001b[36m(RolloutWorker pid=24144)\u001b[0m Warning: Vehicle '188987_434_0' performs emergency braking on lane ':26110729_5_1' with decel=9.00, wished=4.50, severity=1.00, time=26154.00.\n"
     ]
    },
    {
     "name": "stdout",
     "output_type": "stream",
     "text": [
      "Step #26100.00 (1ms ~= 1000.00*RT, ~94000.00UPS, TraCI: 89ms, vehicles TOT 555 ACT 94 BUF CI: 37ms, vehicles TOT 2 ACT 2 BUF 0)  \n",
      "Step #26100.00 (1ms ~= 1000.00*RT, ~93000.00UPS, TraCI: 89ms, vehicles TOT 560 ACT 93 BUF I: 35ms, vehicles TOT 2 ACT 2 BUF 0)  \n"
     ]
    },
    {
     "name": "stderr",
     "output_type": "stream",
     "text": [
      "\u001b[2m\u001b[36m(RolloutWorker pid=13580)\u001b[0m Warning: Vehicle '243791_453_0' performs emergency braking on lane ':26110729_7_0' with decel=9.00, wished=4.50, severity=1.00, time=27347.00.\u001b[32m [repeated 2x across cluster]\u001b[0m\n"
     ]
    },
    {
     "name": "stdout",
     "output_type": "stream",
     "text": [
      "Step #27300.00 (1ms ~= 1000.00*RT, ~95000.00UPS, TraCI: 91ms, vehicles TOT 1286 ACT 95 BUFaCI: 51ms, vehicles TOT 65 ACT 41 BUF 1\n"
     ]
    },
    {
     "name": "stderr",
     "output_type": "stream",
     "text": [
      "\u001b[2m\u001b[36m(RolloutWorker pid=21792)\u001b[0m Warning: Vehicle '235972_451_0' performs emergency braking on lane ':26110729_5_1' with decel=9.00, wished=4.50, severity=1.00, time=28469.00.\n"
     ]
    },
    {
     "name": "stdout",
     "output_type": "stream",
     "text": [
      "Step #28400.00 (1ms ~= 1000.00*RT, ~77000.00UPS, TraCI: 82ms, vehicles TOT 1815 ACT 77 BUFes TOT 2 ACT 2 BUF 0)                  \n",
      "Step #28800.00 (0ms ?*RT. ?UPS, TraCI: 94ms, vehicles TOT 1968 ACT 73 BUF 78)             aCI: 86ms, vehicles TOT 1854 ACT 71 BUF\n",
      "Step #28800.00 (0ms ?*RT. ?UPS, TraCI: 93ms, vehicles TOT 1963 ACT 70 BUF 83)             aCI: 81ms, vehicles TOT 1332 ACT 74 BUF\n",
      "Step #28800.00 (0ms ?*RT. ?UPS, TraCI: 98ms, vehicles TOT 1961 ACT 70 BUF 85)             s TOT 762 ACT 94 BUF 61)              \n",
      "Step #28800.00 (0ms ?*RT. ?UPS, TraCI: 97ms, vehicles TOT 1958 ACT 68 BUF 88)             I: 37ms, vehicles TOT 2 ACT 2 BUF 0)  \n",
      "Step #28800.00 (0ms ?*RT. ?UPS, TraCI: 97ms, vehicles TOT 1960 ACT 69 BUF 86)             I: 45ms, vehicles TOT 2 ACT 2 BUF 0)  \n",
      "Step #28800.00 (1ms ~= 1000.00*RT, ~73000.00UPS, TraCI: 86ms, vehicles TOT 1978 ACT 73 BUFI: 38ms, vehicles TOT 2 ACT 2 BUF 0)  \n",
      "Step #28800.00 (1ms ~= 1000.00*RT, ~69000.00UPS, TraCI: 81ms, vehicles TOT 1975 ACT 69 BUFCI: 38ms, vehicles TOT 2 ACT 2 BUF 0)  \n",
      "Step #28800.00 (0ms ?*RT. ?UPS, TraCI: 72ms, vehicles TOT 1950 ACT 95 BUF 96)             es TOT 2 ACT 2 BUF 0)                  \n",
      "Step #28800.00 (1ms ~= 1000.00*RT, ~73000.00UPS, TraCI: 105ms, vehicles TOT 1973 ACT 73 BUaCI: 97ms, vehicles TOT 634 ACT 107 BU\n",
      "Step #28800.00 (0ms ?*RT. ?UPS, TraCI: 104ms, vehicles TOT 1964 ACT 72 BUF 82)            raCI: 97ms, vehicles TOT 627 ACT 106 BU\n",
      "Step #28800.00 (0ms ?*RT. ?UPS, TraCI: 108ms, vehicles TOT 1958 ACT 69 BUF 88)            es TOT 2 ACT 2 BUF 0)                  \n",
      "Step #28800.00 (1ms ~= 1000.00*RT, ~70000.00UPS, TraCI: 104ms, vehicles TOT 1964 ACT 70 BUCI: 36ms, vehicles TOT 2 ACT 2 BUF 0)  \n",
      "Step #28800.00 (1ms ~= 1000.00*RT, ~72000.00UPS, TraCI: 102ms, vehicles TOT 1972 ACT 72 BUCI: 36ms, vehicles TOT 2 ACT 2 BUF 0)  \n",
      "Step #28800.00 (1ms ~= 1000.00*RT, ~74000.00UPS, TraCI: 88ms, vehicles TOT 1968 ACT 74 BUFs TOT 2 ACT 2 BUF 0)                  \n",
      "Step #28800.00 (1ms ~= 1000.00*RT, ~72000.00UPS, TraCI: 101ms, vehicles TOT 1966 ACT 72 BUes TOT 2 ACT 2 BUF 0)                  \n",
      "Step #28800.00 (0ms ?*RT. ?UPS, TraCI: 104ms, vehicles TOT 1959 ACT 70 BUF 87)            I: 36ms, vehicles TOT 2 ACT 2 BUF 0)  \n",
      "Step #28800.00 (0ms ?*RT. ?UPS, TraCI: 101ms, vehicles TOT 1959 ACT 69 BUF 87)            s TOT 2 ACT 2 BUF 0)                  \n",
      "Step #28800.00 (1ms ~= 1000.00*RT, ~70000.00UPS, TraCI: 102ms, vehicles TOT 1970 ACT 70 BUs TOT 2 ACT 2 BUF 0)                  \n"
     ]
    },
    {
     "name": "stderr",
     "output_type": "stream",
     "text": [
      "\u001b[2m\u001b[36m(RolloutWorker pid=3200)\u001b[0m Warning: Vehicle '153961_420_0' performs emergency braking on lane ':26110729_7_0' with decel=9.00, wished=4.50, severity=1.00, time=28432.00.\n"
     ]
    },
    {
     "name": "stdout",
     "output_type": "stream",
     "text": [
      "Step #28400.00 (0ms ?*RT. ?UPS, TraCI: 144ms, vehicles TOT 1814 ACT 79 BUF 67)            s TOT 2 ACT 2 BUF 0)                  \n",
      "Step #28800.00 (1ms ~= 1000.00*RT, ~69000.00UPS, TraCI: 78ms, vehicles TOT 1966 ACT 69 BUFs TOT 1852 ACT 72 BUF 81)             \n",
      "Step #28800.00 (1ms ~= 1000.00*RT, ~75000.00UPS, TraCI: 75ms, vehicles TOT 1966 ACT 75 BUFes TOT 2 ACT 2 BUF 0)                  \n"
     ]
    },
    {
     "name": "stderr",
     "output_type": "stream",
     "text": [
      "\u001b[2m\u001b[36m(RolloutWorker pid=24144)\u001b[0m Warning: Vehicle '188987_434_0' performs emergency braking on lane '186623965#9_1' with decel=9.00, wished=4.50, severity=1.00, time=26154.00.\n"
     ]
    },
    {
     "name": "stdout",
     "output_type": "stream",
     "text": [
      "Step #26100.00 (1ms ~= 1000.00*RT, ~95000.00UPS, TraCI: 88ms, vehicles TOT 555 ACT 95 BUF es TOT 2 ACT 2 BUF 0)                  \n"
     ]
    },
    {
     "name": "stderr",
     "output_type": "stream",
     "text": [
      "\u001b[2m\u001b[36m(RolloutWorker pid=20048)\u001b[0m Warning: Vehicle '161407_421_0' performs emergency braking on lane ':26110729_5_1' with decel=9.00, wished=4.50, severity=1.00, time=26954.00.\n"
     ]
    },
    {
     "name": "stdout",
     "output_type": "stream",
     "text": [
      "Step #26900.00 (1ms ~= 1000.00*RT, ~99000.00UPS, TraCI: 154ms, vehicles TOT 1022 ACT 99 BUes TOT 2 ACT 2 BUF 0)                  \n"
     ]
    },
    {
     "name": "stderr",
     "output_type": "stream",
     "text": [
      "\u001b[2m\u001b[36m(RolloutWorker pid=21792)\u001b[0m Warning: Vehicle '243960_453_0' performs emergency braking on lane ':247379907_5_1' with decel=9.00, wished=4.50, severity=1.00, time=27254.00.\n"
     ]
    },
    {
     "name": "stdout",
     "output_type": "stream",
     "text": [
      "Step #27200.00 (1ms ~= 1000.00*RT, ~92000.00UPS, TraCI: 97ms, vehicles TOT 1212 ACT 92 BUFes TOT 2 ACT 2 BUF 0)                  \n",
      "Step #28800.00 (0ms ?*RT. ?UPS, TraCI: 122ms, vehicles TOT 1963 ACT 71 BUF 83)            aCI: 94ms, vehicles TOT 1092 ACT 95 BUF\n",
      "Step #28800.00 (0ms ?*RT. ?UPS, TraCI: 112ms, vehicles TOT 1956 ACT 69 BUF 90)            aCI: 89ms, vehicles TOT 1274 ACT 91 BUF\n",
      "Step #28800.00 (0ms ?*RT. ?UPS, TraCI: 115ms, vehicles TOT 1967 ACT 72 BUF 79)            es TOT 2 ACT 2 BUF 0)                  \n",
      "Step #28800.00 (1ms ~= 1000.00*RT, ~66000.00UPS, TraCI: 113ms, vehicles TOT 1974 ACT 66 BUs TOT 2 ACT 2 BUF 0)                  \n",
      "Step #28800.00 (0ms ?*RT. ?UPS, TraCI: 119ms, vehicles TOT 1979 ACT 70 BUF 67)            I: 37ms, vehicles TOT 2 ACT 2 BUF 0)  \n",
      "Step #28800.00 (1ms ~= 1000.00*RT, ~69000.00UPS, TraCI: 114ms, vehicles TOT 1962 ACT 69 BUI: 36ms, vehicles TOT 2 ACT 2 BUF 0)  \n",
      "Step #28800.00 (1ms ~= 1000.00*RT, ~67000.00UPS, TraCI: 94ms, vehicles TOT 1962 ACT 67 BUFs TOT 2 ACT 2 BUF 0)                  \n",
      "Step #28800.00 (1ms ~= 1000.00*RT, ~66000.00UPS, TraCI: 108ms, vehicles TOT 1968 ACT 66 BUCI: 37ms, vehicles TOT 2 ACT 2 BUF 0)  \n",
      "Step #28800.00 (0ms ?*RT. ?UPS, TraCI: 83ms, vehicles TOT 1970 ACT 69 BUF 76)             I: 25ms, vehicles TOT 2 ACT 2 BUF 0)  \n",
      "Step #28800.00 (1ms ~= 1000.00*RT, ~72000.00UPS, TraCI: 85ms, vehicles TOT 1978 ACT 72 BUFraCI: 98ms, vehicles TOT 626 ACT 106 BU\n"
     ]
    },
    {
     "name": "stderr",
     "output_type": "stream",
     "text": [
      "\u001b[2m\u001b[36m(RolloutWorker pid=5640)\u001b[0m Warning: Vehicle '188987_434_0' performs emergency braking on lane ':26110729_5_1' with decel=9.00, wished=4.50, severity=1.00, time=26154.00.\n"
     ]
    },
    {
     "name": "stdout",
     "output_type": "stream",
     "text": [
      "Step #26100.00 (1ms ~= 1000.00*RT, ~98000.00UPS, TraCI: 94ms, vehicles TOT 556 ACT 98 BUF s TOT 2 ACT 2 BUF 0)                  \n"
     ]
    },
    {
     "name": "stderr",
     "output_type": "stream",
     "text": [
      "\u001b[2m\u001b[36m(RolloutWorker pid=1732)\u001b[0m Warning: Vehicle '201329_438_0' performs emergency braking on lane ':cluster_1098574052_1098574061_247379905_14_0' with decel=9.00, wished=4.50, severity=1.00, time=26317.00.\n"
     ]
    },
    {
     "name": "stdout",
     "output_type": "stream",
     "text": [
      "Step #26300.00 (1ms ~= 1000.00*RT, ~120000.00UPS, TraCI: 145ms, vehicles TOT 711 ACT 120 BI: 32ms, vehicles TOT 2 ACT 2 BUF 0)  \n"
     ]
    },
    {
     "name": "stderr",
     "output_type": "stream",
     "text": [
      "\u001b[2m\u001b[36m(RolloutWorker pid=13628)\u001b[0m Warning: Vehicle '205391_440_0' performs emergency braking on lane '-186623965#16_1' with decel=9.00, wished=4.50, severity=1.00, time=26857.00.\n"
     ]
    },
    {
     "name": "stdout",
     "output_type": "stream",
     "text": [
      "Step #26800.00 (0ms ?*RT. ?UPS, TraCI: 118ms, vehicles TOT 954 ACT 80 BUF 64)             es TOT 2 ACT 2 BUF 0)                  \n"
     ]
    },
    {
     "name": "stderr",
     "output_type": "stream",
     "text": [
      "\u001b[2m\u001b[36m(RolloutWorker pid=13628)\u001b[0m Warning: Vehicle '149857_417_0' performs emergency braking on lane ':26110729_7_0' with decel=9.00, wished=4.50, severity=1.00, time=27917.00.\n"
     ]
    },
    {
     "name": "stdout",
     "output_type": "stream",
     "text": [
      "Step #27900.00 (0ms ?*RT. ?UPS, TraCI: 87ms, vehicles TOT 1574 ACT 77 BUF 46)             es TOT 1020 ACT 96 BUF 58)             \n",
      "Step #28800.00 (0ms ?*RT. ?UPS, TraCI: 123ms, vehicles TOT 1969 ACT 68 BUF 77)            I: 32ms, vehicles TOT 2 ACT 2 BUF 0)  \n",
      "Step #28800.00 (0ms ?*RT. ?UPS, TraCI: 121ms, vehicles TOT 1974 ACT 71 BUF 72)            CI: 31ms, vehicles TOT 2 ACT 2 BUF 0)  \n",
      "Step #28800.00 (1ms ~= 1000.00*RT, ~71000.00UPS, TraCI: 124ms, vehicles TOT 1974 ACT 71 BUCI: 30ms, vehicles TOT 2 ACT 2 BUF 0)  \n",
      "Step #28800.00 (0ms ?*RT. ?UPS, TraCI: 123ms, vehicles TOT 1974 ACT 68 BUF 72)            CI: 95ms, vehicles TOT 759 ACT 97 BUF \n",
      "Step #28800.00 (0ms ?*RT. ?UPS, TraCI: 127ms, vehicles TOT 1964 ACT 67 BUF 82)            I: 29ms, vehicles TOT 2 ACT 2 BUF 0)  \n",
      "Step #28800.00 (0ms ?*RT. ?UPS, TraCI: 126ms, vehicles TOT 1965 ACT 72 BUF 81)            s TOT 630 ACT 99 BUF 31)              \n",
      "Step #28800.00 (0ms ?*RT. ?UPS, TraCI: 111ms, vehicles TOT 1970 ACT 70 BUF 76)            CI: 31ms, vehicles TOT 2 ACT 2 BUF 0)  \n",
      "Step #28800.00 (0ms ?*RT. ?UPS, TraCI: 110ms, vehicles TOT 1970 ACT 70 BUF 76)            es TOT 1627 ACT 79 BUF 46)             \n",
      "Step #28800.00 (0ms ?*RT. ?UPS, TraCI: 84ms, vehicles TOT 1959 ACT 69 BUF 87)             I: 26ms, vehicles TOT 2 ACT 2 BUF 0)  \n",
      "Step #28800.00 (1ms ~= 1000.00*RT, ~71000.00UPS, TraCI: 81ms, vehicles TOT 1973 ACT 71 BUFes TOT 2 ACT 2 BUF 0)                  \n"
     ]
    },
    {
     "name": "stderr",
     "output_type": "stream",
     "text": [
      "\u001b[2m\u001b[36m(RolloutWorker pid=13628)\u001b[0m Warning: Vehicle '188987_434_0' performs emergency braking on lane ':26110729_5_1' with decel=9.00, wished=4.50, severity=1.00, time=26154.00.\n"
     ]
    },
    {
     "name": "stdout",
     "output_type": "stream",
     "text": [
      "Step #26100.00 (1ms ~= 1000.00*RT, ~90000.00UPS, TraCI: 83ms, vehicles TOT 555 ACT 90 BUF es TOT 2 ACT 2 BUF 0)                  \n",
      "Step #26100.00 (1ms ~= 1000.00*RT, ~89000.00UPS, TraCI: 90ms, vehicles TOT 550 ACT 89 BUF CI: 28ms, vehicles TOT 2 ACT 2 BUF 0)  \n",
      "Step #26100.00 (0ms ?*RT. ?UPS, TraCI: 87ms, vehicles TOT 554 ACT 89 BUF 28)              CI: 28ms, vehicles TOT 2 ACT 2 BUF 0)  \n"
     ]
    },
    {
     "name": "stderr",
     "output_type": "stream",
     "text": [
      "\u001b[2m\u001b[36m(RolloutWorker pid=13580)\u001b[0m Warning: Vehicle '207932_441_0' performs emergency braking on lane ':26110729_16_0' with decel=9.00, wished=4.50, severity=1.00, time=26617.00.\u001b[32m [repeated 3x across cluster]\u001b[0m\n"
     ]
    },
    {
     "name": "stdout",
     "output_type": "stream",
     "text": [
      "Step #26600.00 (1ms ~= 1000.00*RT, ~97000.00UPS, TraCI: 88ms, vehicles TOT 861 ACT 97 BUF es TOT 2 ACT 2 BUF 0)                  \n"
     ]
    },
    {
     "name": "stderr",
     "output_type": "stream",
     "text": [
      "\u001b[2m\u001b[36m(RolloutWorker pid=13580)\u001b[0m Warning: Vehicle '144619_416_0' performs emergency braking on lane ':26110729_7_0' with decel=9.00, wished=4.50, severity=1.00, time=26792.00.\n"
     ]
    },
    {
     "name": "stdout",
     "output_type": "stream",
     "text": [
      "\u001b[2m\u001b[36m(RolloutWorker pid=13580)\u001b[0m Step #26700.00 (0ms ?*RT. ?UPS, TraCI: 145ms, vehicles TOT 905 ACT 78 BUF 74)             \n"
     ]
    },
    {
     "name": "stderr",
     "output_type": "stream",
     "text": [
      "\u001b[2m\u001b[36m(RolloutWorker pid=5640)\u001b[0m Warning: Vehicle '161407_421_0' performs emergency braking on lane ':26110729_5_1' with decel=9.00, wished=4.50, severity=1.00, time=26954.00.\n"
     ]
    },
    {
     "name": "stdout",
     "output_type": "stream",
     "text": [
      "Step #26900.00 (0ms ?*RT. ?UPS, TraCI: 96ms, vehicles TOT 1017 ACT 98 BUF 61)             I: 28ms, vehicles TOT 2 ACT 2 BUF 0)  \n"
     ]
    },
    {
     "name": "stderr",
     "output_type": "stream",
     "text": [
      "\u001b[2m\u001b[36m(RolloutWorker pid=20048)\u001b[0m Warning: Vehicle '143416_415_0' performs emergency braking on lane ':26110729_7_0' with decel=9.00, wished=4.50, severity=1.00, time=28207.00.\n"
     ]
    },
    {
     "name": "stdout",
     "output_type": "stream",
     "text": [
      "Step #28200.00 (0ms ?*RT. ?UPS, TraCI: 150ms, vehicles TOT 1701 ACT 71 BUF 50)            raCI: 144ms, vehicles TOT 628 ACT 104 B\n"
     ]
    },
    {
     "name": "stderr",
     "output_type": "stream",
     "text": [
      "\u001b[2m\u001b[36m(RolloutWorker pid=21792)\u001b[0m Warning: Vehicle '244584_453_0' performs emergency braking on lane ':26110729_5_1' with decel=9.00, wished=4.50, severity=1.00, time=28490.00.\n"
     ]
    },
    {
     "name": "stdout",
     "output_type": "stream",
     "text": [
      "Step #28400.00 (0ms ?*RT. ?UPS, TraCI: 85ms, vehicles TOT 1797 ACT 73 BUF 84)             raCI: 147ms, vehicles TOT 621 ACT 102 B\n",
      "Step #28800.00 (0ms ?*RT. ?UPS, TraCI: 85ms, vehicles TOT 1958 ACT 66 BUF 88)             es TOT 1764 ACT 89 BUF 51)             \n",
      "Step #28800.00 (0ms ?*RT. ?UPS, TraCI: 82ms, vehicles TOT 1955 ACT 69 BUF 91)             es TOT 1841 ACT 71 BUF 92)             \n",
      "Step #28800.00 (0ms ?*RT. ?UPS, TraCI: 78ms, vehicles TOT 1954 ACT 69 BUF 92)             I: 30ms, vehicles TOT 2 ACT 2 BUF 0)  \n",
      "Step #28800.00 (0ms ?*RT. ?UPS, TraCI: 82ms, vehicles TOT 1962 ACT 69 BUF 84)             es TOT 950 ACT 83 BUF 68)              \n",
      "Step #28800.00 (1ms ~= 1000.00*RT, ~72000.00UPS, TraCI: 80ms, vehicles TOT 1969 ACT 72 BUFraCI: 156ms, vehicles TOT 628 ACT 102 B\n",
      "Step #28800.00 (0ms ?*RT. ?UPS, TraCI: 82ms, vehicles TOT 1966 ACT 69 BUF 80)             I: 28ms, vehicles TOT 2 ACT 2 BUF 0)  \n",
      "Step #28800.00 (1ms ~= 1000.00*RT, ~69000.00UPS, TraCI: 84ms, vehicles TOT 1966 ACT 69 BUFs TOT 2 ACT 2 BUF 0)                  \n",
      "Step #28800.00 (0ms ?*RT. ?UPS, TraCI: 85ms, vehicles TOT 1959 ACT 68 BUF 87)             CI: 93ms, vehicles TOT 1083 ACT 95 BUF\n",
      "Step #28800.00 (0ms ?*RT. ?UPS, TraCI: 97ms, vehicles TOT 1962 ACT 70 BUF 84)             CI: 38ms, vehicles TOT 2 ACT 2 BUF 0)  \n",
      "Step #28800.00 (0ms ?*RT. ?UPS, TraCI: 93ms, vehicles TOT 1965 ACT 74 BUF 81)             I: 37ms, vehicles TOT 2 ACT 2 BUF 0)  \n",
      "Step #28800.00 (0ms ?*RT. ?UPS, TraCI: 94ms, vehicles TOT 1958 ACT 71 BUF 88)             es TOT 2 ACT 2 BUF 0)                  \n",
      "Step #28800.00 (0ms ?*RT. ?UPS, TraCI: 97ms, vehicles TOT 1980 ACT 67 BUF 66)             CI: 40ms, vehicles TOT 2 ACT 2 BUF 0)  \n",
      "Step #28800.00 (1ms ~= 1000.00*RT, ~68000.00UPS, TraCI: 91ms, vehicles TOT 1968 ACT 68 BUFs TOT 2 ACT 2 BUF 0)                  \n",
      "Step #28800.00 (0ms ?*RT. ?UPS, TraCI: 93ms, vehicles TOT 1980 ACT 71 BUF 66)             s TOT 2 ACT 2 BUF 0)                  \n",
      "Step #28800.00 (0ms ?*RT. ?UPS, TraCI: 94ms, vehicles TOT 1962 ACT 69 BUF 84)             I: 40ms, vehicles TOT 2 ACT 2 BUF 0)  \n",
      "Step #28800.00 (0ms ?*RT. ?UPS, TraCI: 95ms, vehicles TOT 1970 ACT 75 BUF 76)             I: 40ms, vehicles TOT 2 ACT 2 BUF 0)  \n",
      "Step #28800.00 (1ms ~= 1000.00*RT, ~95000.00UPS, TraCI: 77ms, vehicles TOT 1950 ACT 95 BUFes TOT 2 ACT 2 BUF 0)                  \n",
      "Step #28800.00 (1ms ~= 1000.00*RT, ~103000.00UPS, TraCI: 72ms, vehicles TOT 1952 ACT 103 Bes TOT 2 ACT 2 BUF 0)                  \n",
      "Step #28800.00 (0ms ?*RT. ?UPS, TraCI: 107ms, vehicles TOT 1967 ACT 72 BUF 79)            I: 37ms, vehicles TOT 2 ACT 2 BUF 0)  \n",
      "Step #28800.00 (0ms ?*RT. ?UPS, TraCI: 101ms, vehicles TOT 1971 ACT 70 BUF 75)            CI: 40ms, vehicles TOT 2 ACT 2 BUF 0)  \n"
     ]
    },
    {
     "name": "stderr",
     "output_type": "stream",
     "text": [
      "\u001b[2m\u001b[36m(RolloutWorker pid=5640)\u001b[0m Warning: Vehicle '188987_434_0' performs emergency braking on lane ':26110729_5_1' with decel=9.00, wished=4.50, severity=1.00, time=26154.00.\n"
     ]
    },
    {
     "name": "stdout",
     "output_type": "stream",
     "text": [
      "Step #26100.00 (0ms ?*RT. ?UPS, TraCI: 87ms, vehicles TOT 552 ACT 92 BUF 30)              s TOT 2 ACT 2 BUF 0)                  \n"
     ]
    },
    {
     "name": "stderr",
     "output_type": "stream",
     "text": [
      "\u001b[2m\u001b[36m(RolloutWorker pid=9256)\u001b[0m Warning: Vehicle '203493_439_0' performs emergency braking on lane ':26110729_16_0' with decel=9.00, wished=4.50, severity=1.00, time=26742.00.\n"
     ]
    },
    {
     "name": "stdout",
     "output_type": "stream",
     "text": [
      "Step #26700.00 (0ms ?*RT. ?UPS, TraCI: 81ms, vehicles TOT 907 ACT 77 BUF 72)              I: 33ms, vehicles TOT 2 ACT 2 BUF 0)  \n",
      "Step #26800.00 (1ms ~= 1000.00*RT, ~78000.00UPS, TraCI: 80ms, vehicles TOT 946 ACT 78 BUF s TOT 623 ACT 99 BUF 38)              \n"
     ]
    },
    {
     "name": "stderr",
     "output_type": "stream",
     "text": [
      "\u001b[2m\u001b[36m(RolloutWorker pid=13628)\u001b[0m Warning: Vehicle '149180_417_0' performs emergency braking on lane ':26110729_7_0' with decel=9.00, wished=4.50, severity=1.00, time=27405.00.\u001b[32m [repeated 2x across cluster]\u001b[0m\n"
     ]
    },
    {
     "name": "stdout",
     "output_type": "stream",
     "text": [
      "Step #27400.00 (0ms ?*RT. ?UPS, TraCI: 83ms, vehicles TOT 1341 ACT 72 BUF 28)             CI: 35ms, vehicles TOT 2 ACT 2 BUF 0)  \n"
     ]
    },
    {
     "name": "stderr",
     "output_type": "stream",
     "text": [
      "\u001b[2m\u001b[36m(RolloutWorker pid=1732)\u001b[0m Warning: Vehicle '186121_432_0' performs emergency braking on lane ':26110729_7_0' with decel=9.00, wished=4.50, severity=1.00, time=27712.00.\n"
     ]
    },
    {
     "name": "stdout",
     "output_type": "stream",
     "text": [
      "Step #27700.00 (1ms ~= 1000.00*RT, ~92000.00UPS, TraCI: 96ms, vehicles TOT 1485 ACT 92 BUFI: 33ms, vehicles TOT 2 ACT 2 BUF 0)  \n"
     ]
    },
    {
     "name": "stderr",
     "output_type": "stream",
     "text": [
      "\u001b[2m\u001b[36m(RolloutWorker pid=24144)\u001b[0m Warning: Vehicle '178434_430_0' performs emergency braking on lane ':26110729_5_1' with decel=9.00, wished=4.50, severity=1.00, time=27303.00.\n"
     ]
    },
    {
     "name": "stdout",
     "output_type": "stream",
     "text": [
      "Step #27300.00 (0ms ?*RT. ?UPS, TraCI: 90ms, vehicles TOT 1282 ACT 92 BUF 43)             es TOT 2 ACT 2 BUF 0)                  \n"
     ]
    },
    {
     "name": "stderr",
     "output_type": "stream",
     "text": [
      "\u001b[2m\u001b[36m(RolloutWorker pid=3200)\u001b[0m Warning: Vehicle '238239_451_0' performs emergency braking on lane ':26110729_16_0' with decel=9.00, wished=4.50, severity=1.00, time=27932.00.\n"
     ]
    },
    {
     "name": "stdout",
     "output_type": "stream",
     "text": [
      "Step #27900.00 (0ms ?*RT. ?UPS, TraCI: 97ms, vehicles TOT 1576 ACT 75 BUF 44)             s TOT 2 ACT 2 BUF 0)                  \n",
      "Step #28800.00 (1ms ~= 1000.00*RT, ~72000.00UPS, TraCI: 111ms, vehicles TOT 1966 ACT 72 BUes TOT 2 ACT 2 BUF 0)                  \n",
      "Step #28800.00 (1ms ~= 1000.00*RT, ~71000.00UPS, TraCI: 113ms, vehicles TOT 1967 ACT 71 BUs TOT 2 ACT 2 BUF 0)                  \n",
      "Step #28800.00 (0ms ?*RT. ?UPS, TraCI: 123ms, vehicles TOT 1961 ACT 70 BUF 85)            CI: 35ms, vehicles TOT 2 ACT 2 BUF 0)  \n",
      "Step #28800.00 (1ms ~= 1000.00*RT, ~67000.00UPS, TraCI: 112ms, vehicles TOT 1983 ACT 67 BUles TOT 1387 ACT 77 BUF 27)            \n",
      "Step #28800.00 (1ms ~= 1000.00*RT, ~71000.00UPS, TraCI: 120ms, vehicles TOT 1963 ACT 71 BUs TOT 950 ACT 77 BUF 68)              \n",
      "Step #28800.00 (1ms ~= 1000.00*RT, ~77000.00UPS, TraCI: 105ms, vehicles TOT 1965 ACT 77 BUCI: 35ms, vehicles TOT 2 ACT 2 BUF 0)  \n",
      "Step #28800.00 (0ms ?*RT. ?UPS, TraCI: 108ms, vehicles TOT 1957 ACT 67 BUF 89)            s TOT 1515 ACT 68 BUF 60)             \n",
      "Step #28800.00 (0ms ?*RT. ?UPS, TraCI: 101ms, vehicles TOT 1958 ACT 71 BUF 88)            s TOT 1012 ACT 97 BUF 66)             \n",
      "Step #28800.00 (0ms ?*RT. ?UPS, TraCI: 76ms, vehicles TOT 1981 ACT 69 BUF 65)             CI: 82ms, vehicles TOT 1629 ACT 82 BUF\n",
      "Step #28800.00 (0ms ?*RT. ?UPS, TraCI: 75ms, vehicles TOT 1967 ACT 70 BUF 79)             aCI: 145ms, vehicles TOT 1332 ACT 76 BU\n"
     ]
    },
    {
     "name": "stderr",
     "output_type": "stream",
     "text": [
      "\u001b[2m\u001b[36m(RolloutWorker pid=3060)\u001b[0m Warning: Vehicle '183638_431_0' performs emergency braking on lane ':26110729_5_1' with decel=9.00, wished=4.50, severity=1.00, time=26235.00.\n"
     ]
    },
    {
     "name": "stdout",
     "output_type": "stream",
     "text": [
      "Step #26200.00 (0ms ?*RT. ?UPS, TraCI: 98ms, vehicles TOT 623 ACT 105 BUF 38)             I: 39ms, vehicles TOT 2 ACT 2 BUF 0)  \n"
     ]
    },
    {
     "name": "stderr",
     "output_type": "stream",
     "text": [
      "\u001b[2m\u001b[36m(RolloutWorker pid=3200)\u001b[0m Warning: Vehicle '222415_448_0' performs emergency braking on lane ':26110729_14_1' with decel=9.00, wished=4.50, severity=1.00, time=26803.00.\u001b[32m [repeated 2x across cluster]\u001b[0m\n"
     ]
    },
    {
     "name": "stdout",
     "output_type": "stream",
     "text": [
      "Step #26800.00 (0ms ?*RT. ?UPS, TraCI: 135ms, vehicles TOT 953 ACT 81 BUF 65)             s TOT 2 ACT 2 BUF 0)                  \n",
      "Step #28800.00 (0ms ?*RT. ?UPS, TraCI: 101ms, vehicles TOT 1967 ACT 68 BUF 79)            es TOT 2 ACT 2 BUF 0)                  \n",
      "Step #28800.00 (0ms ?*RT. ?UPS, TraCI: 125ms, vehicles TOT 1960 ACT 68 BUF 86)            CI: 35ms, vehicles TOT 2 ACT 2 BUF 0)  \n",
      "Step #28800.00 (0ms ?*RT. ?UPS, TraCI: 117ms, vehicles TOT 1973 ACT 67 BUF 73)            es TOT 2 ACT 2 BUF 0)                  \n",
      "Step #28800.00 (1ms ~= 1000.00*RT, ~67000.00UPS, TraCI: 127ms, vehicles TOT 1955 ACT 67 BUes TOT 2 ACT 2 BUF 0)                  \n",
      "Step #28800.00 (1ms ~= 1000.00*RT, ~69000.00UPS, TraCI: 122ms, vehicles TOT 1981 ACT 69 BUI: 39ms, vehicles TOT 2 ACT 2 BUF 0)  \n",
      "Step #28800.00 (1ms ~= 1000.00*RT, ~70000.00UPS, TraCI: 123ms, vehicles TOT 1967 ACT 70 BUI: 34ms, vehicles TOT 2 ACT 2 BUF 0)  \n",
      "Step #28800.00 (1ms ~= 1000.00*RT, ~69000.00UPS, TraCI: 118ms, vehicles TOT 1975 ACT 69 BUs TOT 2 ACT 2 BUF 0)                  \n",
      "Step #28800.00 (0ms ?*RT. ?UPS, TraCI: 96ms, vehicles TOT 1971 ACT 70 BUF 75)             aCI: 87ms, vehicles TOT 708 ACT 120 BU\n"
     ]
    },
    {
     "name": "stderr",
     "output_type": "stream",
     "text": [
      "\u001b[2m\u001b[36m(RolloutWorker pid=21792)\u001b[0m Error: tcpip::Socket::accept() Unable to create listening socket: Address already in use\n",
      "\u001b[2m\u001b[36m(RolloutWorker pid=21792)\u001b[0m Quitting (on error).\n",
      "\u001b[2m\u001b[36m(RolloutWorker pid=5640)\u001b[0m 2023-06-06 19:02:06,470\tERROR actor_manager.py:179 -- Worker exception, recreating: unpack requires a buffer of 3 bytes\n",
      "\u001b[2m\u001b[36m(RolloutWorker pid=5640)\u001b[0m Traceback (most recent call last):\n",
      "\u001b[2m\u001b[36m(RolloutWorker pid=5640)\u001b[0m   File \"c:\\Users\\admin\\anaconda3\\envs\\marl\\lib\\site-packages\\ray\\rllib\\utils\\actor_manager.py\", line 176, in apply\n",
      "\u001b[2m\u001b[36m(RolloutWorker pid=5640)\u001b[0m     return func(self, *args, **kwargs)\n",
      "\u001b[2m\u001b[36m(RolloutWorker pid=5640)\u001b[0m   File \"c:\\Users\\admin\\anaconda3\\envs\\marl\\lib\\site-packages\\ray\\rllib\\execution\\rollout_ops.py\", line 86, in <lambda>\n",
      "\u001b[2m\u001b[36m(RolloutWorker pid=5640)\u001b[0m     lambda w: w.sample(), local_worker=False, healthy_only=True\n",
      "\u001b[2m\u001b[36m(RolloutWorker pid=5640)\u001b[0m   File \"c:\\Users\\admin\\anaconda3\\envs\\marl\\lib\\site-packages\\ray\\util\\tracing\\tracing_helper.py\", line 460, in _resume_span\n",
      "\u001b[2m\u001b[36m(RolloutWorker pid=5640)\u001b[0m     return method(self, *_args, **_kwargs)\n",
      "\u001b[2m\u001b[36m(RolloutWorker pid=5640)\u001b[0m   File \"c:\\Users\\admin\\anaconda3\\envs\\marl\\lib\\site-packages\\ray\\rllib\\evaluation\\rollout_worker.py\", line 915, in sample\n",
      "\u001b[2m\u001b[36m(RolloutWorker pid=5640)\u001b[0m     batches = [self.input_reader.next()]\n",
      "\u001b[2m\u001b[36m(RolloutWorker pid=5640)\u001b[0m   File \"c:\\Users\\admin\\anaconda3\\envs\\marl\\lib\\site-packages\\ray\\rllib\\evaluation\\sampler.py\", line 92, in next\n",
      "\u001b[2m\u001b[36m(RolloutWorker pid=5640)\u001b[0m     batches = [self.get_data()]\n",
      "\u001b[2m\u001b[36m(RolloutWorker pid=5640)\u001b[0m   File \"c:\\Users\\admin\\anaconda3\\envs\\marl\\lib\\site-packages\\ray\\rllib\\evaluation\\sampler.py\", line 277, in get_data\n",
      "\u001b[2m\u001b[36m(RolloutWorker pid=5640)\u001b[0m     item = next(self._env_runner)\n",
      "\u001b[2m\u001b[36m(RolloutWorker pid=5640)\u001b[0m   File \"c:\\Users\\admin\\anaconda3\\envs\\marl\\lib\\site-packages\\ray\\rllib\\evaluation\\env_runner_v2.py\", line 323, in run\n",
      "\u001b[2m\u001b[36m(RolloutWorker pid=5640)\u001b[0m     outputs = self.step()\n",
      "\u001b[2m\u001b[36m(RolloutWorker pid=5640)\u001b[0m   File \"c:\\Users\\admin\\anaconda3\\envs\\marl\\lib\\site-packages\\ray\\rllib\\evaluation\\env_runner_v2.py\", line 349, in step\n",
      "\u001b[2m\u001b[36m(RolloutWorker pid=5640)\u001b[0m     active_envs, to_eval, outputs = self._process_observations(\n",
      "\u001b[2m\u001b[36m(RolloutWorker pid=5640)\u001b[0m   File \"c:\\Users\\admin\\anaconda3\\envs\\marl\\lib\\site-packages\\ray\\rllib\\evaluation\\env_runner_v2.py\", line 667, in _process_observations\n",
      "\u001b[2m\u001b[36m(RolloutWorker pid=5640)\u001b[0m     self._handle_done_episode(\n",
      "\u001b[2m\u001b[36m(RolloutWorker pid=5640)\u001b[0m   File \"c:\\Users\\admin\\anaconda3\\envs\\marl\\lib\\site-packages\\ray\\rllib\\evaluation\\env_runner_v2.py\", line 834, in _handle_done_episode\n",
      "\u001b[2m\u001b[36m(RolloutWorker pid=5640)\u001b[0m     resetted_obs, resetted_infos = self._base_env.try_reset(env_id)\n",
      "\u001b[2m\u001b[36m(RolloutWorker pid=5640)\u001b[0m   File \"c:\\Users\\admin\\anaconda3\\envs\\marl\\lib\\site-packages\\ray\\rllib\\env\\multi_agent_env.py\", line 707, in try_reset\n",
      "\u001b[2m\u001b[36m(RolloutWorker pid=5640)\u001b[0m     obs, infos = self.env_states[idx].reset(seed=seed, options=options)\n",
      "\u001b[2m\u001b[36m(RolloutWorker pid=5640)\u001b[0m   File \"c:\\Users\\admin\\anaconda3\\envs\\marl\\lib\\site-packages\\ray\\rllib\\env\\multi_agent_env.py\", line 912, in reset\n",
      "\u001b[2m\u001b[36m(RolloutWorker pid=5640)\u001b[0m     raise e\n",
      "\u001b[2m\u001b[36m(RolloutWorker pid=5640)\u001b[0m   File \"c:\\Users\\admin\\anaconda3\\envs\\marl\\lib\\site-packages\\ray\\rllib\\env\\multi_agent_env.py\", line 906, in reset\n",
      "\u001b[2m\u001b[36m(RolloutWorker pid=5640)\u001b[0m     obs_and_infos = self.env.reset(seed=seed, options=options)\n",
      "\u001b[2m\u001b[36m(RolloutWorker pid=5640)\u001b[0m   File \"c:\\Users\\admin\\anaconda3\\envs\\marl\\lib\\site-packages\\ray\\rllib\\env\\wrappers\\multi_agent_env_compatibility.py\", line 52, in reset\n",
      "\u001b[2m\u001b[36m(RolloutWorker pid=5640)\u001b[0m     obs = self.env.reset()\n",
      "\u001b[2m\u001b[36m(RolloutWorker pid=5640)\u001b[0m   File \"c:\\Users\\admin\\anaconda3\\envs\\marl\\lib\\site-packages\\sumo_rl\\environment\\env.py\", line 253, in reset\n",
      "\u001b[2m\u001b[36m(RolloutWorker pid=5640)\u001b[0m     self._start_simulation()\n",
      "\u001b[2m\u001b[36m(RolloutWorker pid=5640)\u001b[0m   File \"c:\\Users\\admin\\anaconda3\\envs\\marl\\lib\\site-packages\\sumo_rl\\environment\\env.py\", line 235, in _start_simulation\n",
      "\u001b[2m\u001b[36m(RolloutWorker pid=5640)\u001b[0m     traci.start(sumo_cmd, label=self.label)\n",
      "\u001b[2m\u001b[36m(RolloutWorker pid=5640)\u001b[0m   File \"C:\\Program Files (x86)\\Eclipse\\Sumo\\tools\\traci\\main.py\", line 152, in start\n",
      "\u001b[2m\u001b[36m(RolloutWorker pid=5640)\u001b[0m     result = init(sumoPort, numRetries, \"localhost\", label, sumoProcess, doSwitch, traceFile, traceGetters)\n",
      "\u001b[2m\u001b[36m(RolloutWorker pid=5640)\u001b[0m   File \"C:\\Program Files (x86)\\Eclipse\\Sumo\\tools\\traci\\main.py\", line 124, in init\n",
      "\u001b[2m\u001b[36m(RolloutWorker pid=5640)\u001b[0m     return _connections[label].getVersion()\n",
      "\u001b[2m\u001b[36m(RolloutWorker pid=5640)\u001b[0m   File \"C:\\Program Files (x86)\\Eclipse\\Sumo\\tools\\traci\\connection.py\", line 340, in getVersion\n",
      "\u001b[2m\u001b[36m(RolloutWorker pid=5640)\u001b[0m     result = self._sendCmd(command, None, None)\n",
      "\u001b[2m\u001b[36m(RolloutWorker pid=5640)\u001b[0m   File \"C:\\Program Files (x86)\\Eclipse\\Sumo\\tools\\traci\\connection.py\", line 189, in _sendCmd\n",
      "\u001b[2m\u001b[36m(RolloutWorker pid=5640)\u001b[0m     return self._sendExact()\n",
      "\u001b[2m\u001b[36m(RolloutWorker pid=5640)\u001b[0m   File \"C:\\Program Files (x86)\\Eclipse\\Sumo\\tools\\traci\\connection.py\", line 101, in _sendExact\n",
      "\u001b[2m\u001b[36m(RolloutWorker pid=5640)\u001b[0m     prefix = result.read(\"!BBB\")\n",
      "\u001b[2m\u001b[36m(RolloutWorker pid=5640)\u001b[0m   File \"C:\\Program Files (x86)\\Eclipse\\Sumo\\tools\\traci\\storage.py\", line 38, in read\n",
      "\u001b[2m\u001b[36m(RolloutWorker pid=5640)\u001b[0m     return struct.unpack(format, self._content[oldPos:self._pos])\n",
      "\u001b[2m\u001b[36m(RolloutWorker pid=5640)\u001b[0m struct.error: unpack requires a buffer of 3 bytes\n",
      "\u001b[2m\u001b[36m(RolloutWorker pid=21792)\u001b[0m C:\\Program Files (x86)\\Eclipse\\Sumo\\tools\\traci\\main.py:159: UserWarning: Could not connect to TraCI server using port 52084 (TraCI server already finished). Retrying with different port.\n",
      "\u001b[2m\u001b[36m(RolloutWorker pid=21792)\u001b[0m   warnings.warn((\"Could not connect to TraCI server using port %s (%s).\" +\n",
      "2023-06-06 19:03:06,487\tWARNING worker.py:1986 -- A worker died or was killed while executing a task by an unexpected system error. To troubleshoot the problem, check the logs for the dead worker. RayTask ID: ffffffffffffffff7f55edf86aa4e746262a50dc01000000 Worker ID: a54c9854f04cf569592f372258edeb994cd527f7b1a7aebb0c959232 Node ID: 6635f4a58de173ea930d81738e4cb9022bd74437d81c3769c55a9653 Worker IP address: 127.0.0.1 Worker port: 65065 Worker PID: 5640 Worker exit type: SYSTEM_ERROR Worker exit detail: Worker exits unexpectedly. Worker exits with an exit code 1.\n",
      "\u001b[2m\u001b[36m(RolloutWorker pid=5640)\u001b[0m 2023-06-06 19:03:06,481\tERROR worker.py:844 -- Worker exits with an exit code 1.\n",
      "\u001b[2m\u001b[36m(RolloutWorker pid=5640)\u001b[0m Traceback (most recent call last):\n",
      "\u001b[2m\u001b[36m(RolloutWorker pid=5640)\u001b[0m   File \"c:\\Users\\admin\\anaconda3\\envs\\marl\\lib\\site-packages\\ray\\rllib\\utils\\actor_manager.py\", line 176, in apply\n",
      "\u001b[2m\u001b[36m(RolloutWorker pid=5640)\u001b[0m     return func(self, *args, **kwargs)\n",
      "\u001b[2m\u001b[36m(RolloutWorker pid=5640)\u001b[0m   File \"c:\\Users\\admin\\anaconda3\\envs\\marl\\lib\\site-packages\\ray\\rllib\\execution\\rollout_ops.py\", line 86, in <lambda>\n",
      "\u001b[2m\u001b[36m(RolloutWorker pid=5640)\u001b[0m     lambda w: w.sample(), local_worker=False, healthy_only=True\n",
      "\u001b[2m\u001b[36m(RolloutWorker pid=5640)\u001b[0m   File \"c:\\Users\\admin\\anaconda3\\envs\\marl\\lib\\site-packages\\ray\\util\\tracing\\tracing_helper.py\", line 460, in _resume_span\n",
      "\u001b[2m\u001b[36m(RolloutWorker pid=5640)\u001b[0m     return method(self, *_args, **_kwargs)\n",
      "\u001b[2m\u001b[36m(RolloutWorker pid=5640)\u001b[0m   File \"c:\\Users\\admin\\anaconda3\\envs\\marl\\lib\\site-packages\\ray\\rllib\\evaluation\\rollout_worker.py\", line 915, in sample\n",
      "\u001b[2m\u001b[36m(RolloutWorker pid=5640)\u001b[0m     batches = [self.input_reader.next()]\n",
      "\u001b[2m\u001b[36m(RolloutWorker pid=5640)\u001b[0m   File \"c:\\Users\\admin\\anaconda3\\envs\\marl\\lib\\site-packages\\ray\\rllib\\evaluation\\sampler.py\", line 92, in next\n",
      "\u001b[2m\u001b[36m(RolloutWorker pid=5640)\u001b[0m     batches = [self.get_data()]\n",
      "\u001b[2m\u001b[36m(RolloutWorker pid=5640)\u001b[0m   File \"c:\\Users\\admin\\anaconda3\\envs\\marl\\lib\\site-packages\\ray\\rllib\\evaluation\\sampler.py\", line 277, in get_data\n",
      "\u001b[2m\u001b[36m(RolloutWorker pid=5640)\u001b[0m     item = next(self._env_runner)\n",
      "\u001b[2m\u001b[36m(RolloutWorker pid=5640)\u001b[0m   File \"c:\\Users\\admin\\anaconda3\\envs\\marl\\lib\\site-packages\\ray\\rllib\\evaluation\\env_runner_v2.py\", line 323, in run\n",
      "\u001b[2m\u001b[36m(RolloutWorker pid=5640)\u001b[0m     outputs = self.step()\n",
      "\u001b[2m\u001b[36m(RolloutWorker pid=5640)\u001b[0m   File \"c:\\Users\\admin\\anaconda3\\envs\\marl\\lib\\site-packages\\ray\\rllib\\evaluation\\env_runner_v2.py\", line 349, in step\n",
      "\u001b[2m\u001b[36m(RolloutWorker pid=5640)\u001b[0m     active_envs, to_eval, outputs = self._process_observations(\n",
      "\u001b[2m\u001b[36m(RolloutWorker pid=5640)\u001b[0m   File \"c:\\Users\\admin\\anaconda3\\envs\\marl\\lib\\site-packages\\ray\\rllib\\evaluation\\env_runner_v2.py\", line 667, in _process_observations\n",
      "\u001b[2m\u001b[36m(RolloutWorker pid=5640)\u001b[0m     self._handle_done_episode(\n",
      "\u001b[2m\u001b[36m(RolloutWorker pid=5640)\u001b[0m   File \"c:\\Users\\admin\\anaconda3\\envs\\marl\\lib\\site-packages\\ray\\rllib\\evaluation\\env_runner_v2.py\", line 834, in _handle_done_episode\n",
      "\u001b[2m\u001b[36m(RolloutWorker pid=5640)\u001b[0m     resetted_obs, resetted_infos = self._base_env.try_reset(env_id)\n",
      "\u001b[2m\u001b[36m(RolloutWorker pid=5640)\u001b[0m   File \"c:\\Users\\admin\\anaconda3\\envs\\marl\\lib\\site-packages\\ray\\rllib\\env\\multi_agent_env.py\", line 707, in try_reset\n",
      "\u001b[2m\u001b[36m(RolloutWorker pid=5640)\u001b[0m     obs, infos = self.env_states[idx].reset(seed=seed, options=options)\n",
      "\u001b[2m\u001b[36m(RolloutWorker pid=5640)\u001b[0m   File \"c:\\Users\\admin\\anaconda3\\envs\\marl\\lib\\site-packages\\ray\\rllib\\env\\multi_agent_env.py\", line 912, in reset\n",
      "\u001b[2m\u001b[36m(RolloutWorker pid=5640)\u001b[0m     raise e\n",
      "\u001b[2m\u001b[36m(RolloutWorker pid=5640)\u001b[0m   File \"c:\\Users\\admin\\anaconda3\\envs\\marl\\lib\\site-packages\\ray\\rllib\\env\\multi_agent_env.py\", line 906, in reset\n",
      "\u001b[2m\u001b[36m(RolloutWorker pid=5640)\u001b[0m     obs_and_infos = self.env.reset(seed=seed, options=options)\n",
      "\u001b[2m\u001b[36m(RolloutWorker pid=5640)\u001b[0m   File \"c:\\Users\\admin\\anaconda3\\envs\\marl\\lib\\site-packages\\ray\\rllib\\env\\wrappers\\multi_agent_env_compatibility.py\", line 52, in reset\n",
      "\u001b[2m\u001b[36m(RolloutWorker pid=5640)\u001b[0m     obs = self.env.reset()\n",
      "\u001b[2m\u001b[36m(RolloutWorker pid=5640)\u001b[0m   File \"c:\\Users\\admin\\anaconda3\\envs\\marl\\lib\\site-packages\\sumo_rl\\environment\\env.py\", line 253, in reset\n",
      "\u001b[2m\u001b[36m(RolloutWorker pid=5640)\u001b[0m     self._start_simulation()\n",
      "\u001b[2m\u001b[36m(RolloutWorker pid=5640)\u001b[0m   File \"c:\\Users\\admin\\anaconda3\\envs\\marl\\lib\\site-packages\\sumo_rl\\environment\\env.py\", line 235, in _start_simulation\n",
      "\u001b[2m\u001b[36m(RolloutWorker pid=5640)\u001b[0m     traci.start(sumo_cmd, label=self.label)\n",
      "\u001b[2m\u001b[36m(RolloutWorker pid=5640)\u001b[0m   File \"C:\\Program Files (x86)\\Eclipse\\Sumo\\tools\\traci\\main.py\", line 152, in start\n",
      "\u001b[2m\u001b[36m(RolloutWorker pid=5640)\u001b[0m     result = init(sumoPort, numRetries, \"localhost\", label, sumoProcess, doSwitch, traceFile, traceGetters)\n",
      "\u001b[2m\u001b[36m(RolloutWorker pid=5640)\u001b[0m   File \"C:\\Program Files (x86)\\Eclipse\\Sumo\\tools\\traci\\main.py\", line 124, in init\n",
      "\u001b[2m\u001b[36m(RolloutWorker pid=5640)\u001b[0m     return _connections[label].getVersion()\n",
      "\u001b[2m\u001b[36m(RolloutWorker pid=5640)\u001b[0m   File \"C:\\Program Files (x86)\\Eclipse\\Sumo\\tools\\traci\\connection.py\", line 340, in getVersion\n",
      "\u001b[2m\u001b[36m(RolloutWorker pid=5640)\u001b[0m     result = self._sendCmd(command, None, None)\n",
      "\u001b[2m\u001b[36m(RolloutWorker pid=5640)\u001b[0m   File \"C:\\Program Files (x86)\\Eclipse\\Sumo\\tools\\traci\\connection.py\", line 189, in _sendCmd\n",
      "\u001b[2m\u001b[36m(RolloutWorker pid=5640)\u001b[0m     return self._sendExact()\n",
      "\u001b[2m\u001b[36m(RolloutWorker pid=5640)\u001b[0m   File \"C:\\Program Files (x86)\\Eclipse\\Sumo\\tools\\traci\\connection.py\", line 101, in _sendExact\n",
      "\u001b[2m\u001b[36m(RolloutWorker pid=5640)\u001b[0m     prefix = result.read(\"!BBB\")\n",
      "\u001b[2m\u001b[36m(RolloutWorker pid=5640)\u001b[0m   File \"C:\\Program Files (x86)\\Eclipse\\Sumo\\tools\\traci\\storage.py\", line 38, in read\n",
      "\u001b[2m\u001b[36m(RolloutWorker pid=5640)\u001b[0m     return struct.unpack(format, self._content[oldPos:self._pos])\n",
      "\u001b[2m\u001b[36m(RolloutWorker pid=5640)\u001b[0m struct.error: unpack requires a buffer of 3 bytes\n",
      "\u001b[2m\u001b[36m(RolloutWorker pid=5640)\u001b[0m \n",
      "\u001b[2m\u001b[36m(RolloutWorker pid=5640)\u001b[0m During handling of the above exception, another exception occurred:\n",
      "\u001b[2m\u001b[36m(RolloutWorker pid=5640)\u001b[0m \n",
      "\u001b[2m\u001b[36m(RolloutWorker pid=5640)\u001b[0m Traceback (most recent call last):\n",
      "\u001b[2m\u001b[36m(RolloutWorker pid=5640)\u001b[0m   File \"python\\ray\\_raylet.pyx\", line 1197, in ray._raylet.task_execution_handler\n",
      "\u001b[2m\u001b[36m(RolloutWorker pid=5640)\u001b[0m   File \"python\\ray\\_raylet.pyx\", line 1100, in ray._raylet.execute_task_with_cancellation_handler\n",
      "\u001b[2m\u001b[36m(RolloutWorker pid=5640)\u001b[0m   File \"python\\ray\\_raylet.pyx\", line 823, in ray._raylet.execute_task\n",
      "\u001b[2m\u001b[36m(RolloutWorker pid=5640)\u001b[0m   File \"python\\ray\\_raylet.pyx\", line 870, in ray._raylet.execute_task\n",
      "\u001b[2m\u001b[36m(RolloutWorker pid=5640)\u001b[0m   File \"python\\ray\\_raylet.pyx\", line 877, in ray._raylet.execute_task\n",
      "\u001b[2m\u001b[36m(RolloutWorker pid=5640)\u001b[0m   File \"python\\ray\\_raylet.pyx\", line 881, in ray._raylet.execute_task\n",
      "\u001b[2m\u001b[36m(RolloutWorker pid=5640)\u001b[0m   File \"python\\ray\\_raylet.pyx\", line 821, in ray._raylet.execute_task.function_executor\n",
      "\u001b[2m\u001b[36m(RolloutWorker pid=5640)\u001b[0m   File \"c:\\Users\\admin\\anaconda3\\envs\\marl\\lib\\site-packages\\ray\\_private\\function_manager.py\", line 670, in actor_method_executor\n",
      "\u001b[2m\u001b[36m(RolloutWorker pid=5640)\u001b[0m     return method(__ray_actor, *args, **kwargs)\n",
      "\u001b[2m\u001b[36m(RolloutWorker pid=5640)\u001b[0m   File \"c:\\Users\\admin\\anaconda3\\envs\\marl\\lib\\site-packages\\ray\\util\\tracing\\tracing_helper.py\", line 460, in _resume_span\n",
      "\u001b[2m\u001b[36m(RolloutWorker pid=5640)\u001b[0m     return method(self, *_args, **_kwargs)\n",
      "\u001b[2m\u001b[36m(RolloutWorker pid=5640)\u001b[0m   File \"c:\\Users\\admin\\anaconda3\\envs\\marl\\lib\\site-packages\\ray\\rllib\\utils\\actor_manager.py\", line 183, in apply\n",
      "\u001b[2m\u001b[36m(RolloutWorker pid=5640)\u001b[0m     sys.exit(1)\n",
      "\u001b[2m\u001b[36m(RolloutWorker pid=5640)\u001b[0m SystemExit: 1\n",
      "\u001b[2m\u001b[36m(RolloutWorker pid=5640)\u001b[0m SystemExit: 1\n",
      "\u001b[2m\u001b[36m(RolloutWorker pid=5640)\u001b[0m SystemExit: 1\n",
      "2023-06-06 19:03:08,055\tERROR actor_manager.py:507 -- Ray error, taking actor 7 out of service. The actor died unexpectedly before finishing this task.\n"
     ]
    },
    {
     "name": "stdout",
     "output_type": "stream",
     "text": [
      "\u001b[2m\u001b[36m(RolloutWorker pid=19280)\u001b[0m delta_wait_time_reward 0.875\n",
      "\u001b[2m\u001b[36m(RolloutWorker pid=19280)\u001b[0m Step #0.00 (0ms ?*RT. ?UPS, TraCI: 14ms, vehicles TOT 0 ACT 0 BUF 0)                     \n",
      "Step #28800.00 (1ms ~= 1000.00*RT, ~70000.00UPS, TraCI: 82ms, vehicles TOT 1970 ACT 70 BUFCI: 94ms, vehicles TOT 1020 ACT 97 BUF\n",
      "Step #28800.00 (0ms ?*RT. ?UPS, TraCI: 85ms, vehicles TOT 1966 ACT 74 BUF 80)             es TOT 2 ACT 2 BUF 0)                  \n"
     ]
    },
    {
     "name": "stderr",
     "output_type": "stream",
     "text": [
      "\u001b[2m\u001b[36m(RolloutWorker pid=13580)\u001b[0m Warning: Vehicle '188987_434_0' performs emergency braking on lane ':26110729_5_1' with decel=9.00, wished=4.50, severity=1.00, time=26154.00.\n"
     ]
    },
    {
     "name": "stdout",
     "output_type": "stream",
     "text": [
      "Step #26100.00 (1ms ~= 1000.00*RT, ~105000.00UPS, TraCI: 90ms, vehicles TOT 557 ACT 105 BUes TOT 2 ACT 2 BUF 0)                  \n",
      "Step #26200.00 (1ms ~= 1000.00*RT, ~104000.00UPS, TraCI: 99ms, vehicles TOT 625 ACT 104 BUCI: 27ms, vehicles TOT 2 ACT 2 BUF 0)  \n",
      "Step #28800.00 (1ms ~= 1000.00*RT, ~69000.00UPS, TraCI: 130ms, vehicles TOT 1968 ACT 69 BUraCI: 77ms, vehicles TOT 627 ACT 102 BU\n",
      "Step #28800.00 (1ms ~= 1000.00*RT, ~71000.00UPS, TraCI: 125ms, vehicles TOT 1965 ACT 71 BUes TOT 2 ACT 2 BUF 0)                  \n",
      "Step #28800.00 (1ms ~= 1000.00*RT, ~71000.00UPS, TraCI: 118ms, vehicles TOT 1967 ACT 71 BUs TOT 2 ACT 2 BUF 0)                  \n",
      "Step #28800.00 (1ms ~= 1000.00*RT, ~69000.00UPS, TraCI: 123ms, vehicles TOT 1963 ACT 69 BUles TOT 712 ACT 117 BUF 51)            \n",
      "Step #28800.00 (0ms ?*RT. ?UPS, TraCI: 126ms, vehicles TOT 1983 ACT 69 BUF 63)            es TOT 2 ACT 2 BUF 0)                  \n",
      "Step #28800.00 (0ms ?*RT. ?UPS, TraCI: 121ms, vehicles TOT 1966 ACT 73 BUF 80)            I: 33ms, vehicles TOT 2 ACT 2 BUF 0)  \n",
      "Step #28800.00 (0ms ?*RT. ?UPS, TraCI: 126ms, vehicles TOT 1962 ACT 69 BUF 84)            I: 29ms, vehicles TOT 2 ACT 2 BUF 0)  \n",
      "Step #28800.00 (0ms ?*RT. ?UPS, TraCI: 85ms, vehicles TOT 1960 ACT 70 BUF 86)             s TOT 2 ACT 2 BUF 0)                  \n",
      "Step #28800.00 (0ms ?*RT. ?UPS, TraCI: 81ms, vehicles TOT 1992 ACT 67 BUF 54)             es TOT 2 ACT 2 BUF 0)                  \n",
      "Step #28800.00 (0ms ?*RT. ?UPS, TraCI: 90ms, vehicles TOT 1972 ACT 67 BUF 74)             CI: 37ms, vehicles TOT 2 ACT 2 BUF 0)  \n"
     ]
    },
    {
     "name": "stderr",
     "output_type": "stream",
     "text": [
      "\u001b[2m\u001b[36m(RolloutWorker pid=20048)\u001b[0m Warning: Vehicle '150226_418_0' performs emergency braking on lane ':247379907_5_1' with decel=9.00, wished=4.50, severity=1.00, time=25980.00.\u001b[32m [repeated 2x across cluster]\u001b[0m\n"
     ]
    },
    {
     "name": "stdout",
     "output_type": "stream",
     "text": [
      "Step #25900.00 (1ms ~= 1000.00*RT, ~61000.00UPS, TraCI: 66ms, vehicles TOT 395 ACT 61 BUF es TOT 2 ACT 2 BUF 0)                  \n"
     ]
    },
    {
     "name": "stderr",
     "output_type": "stream",
     "text": [
      "\u001b[2m\u001b[36m(RolloutWorker pid=3200)\u001b[0m Warning: Vehicle '188987_434_0' performs emergency braking on lane ':26110729_5_1' with decel=9.00, wished=4.50, severity=1.00, time=26154.00.\n"
     ]
    },
    {
     "name": "stdout",
     "output_type": "stream",
     "text": [
      "Step #26100.00 (1ms ~= 1000.00*RT, ~93000.00UPS, TraCI: 145ms, vehicles TOT 555 ACT 93 BUFI: 39ms, vehicles TOT 2 ACT 2 BUF 0)  \n",
      "Step #28800.00 (0ms ?*RT. ?UPS, TraCI: 83ms, vehicles TOT 1985 ACT 74 BUF 61)             aCI: 87ms, vehicles TOT 474 ACT 90 BUF \n",
      "Step #28800.00 (1ms ~= 1000.00*RT, ~71000.00UPS, TraCI: 87ms, vehicles TOT 1980 ACT 71 BUFCI: 32ms, vehicles TOT 2 ACT 2 BUF 0)  \n",
      "Step #28800.00 (1ms ~= 1000.00*RT, ~69000.00UPS, TraCI: 79ms, vehicles TOT 1983 ACT 69 BUFs TOT 2 ACT 2 BUF 0)                  \n",
      "Step #28800.00 (0ms ?*RT. ?UPS, TraCI: 84ms, vehicles TOT 1992 ACT 66 BUF 54)             es TOT 2 ACT 2 BUF 0)                  \n",
      "Step #28800.00 (1ms ~= 1000.00*RT, ~73000.00UPS, TraCI: 88ms, vehicles TOT 1985 ACT 73 BUFes TOT 2 ACT 2 BUF 0)                  \n",
      "Step #28800.00 (0ms ?*RT. ?UPS, TraCI: 87ms, vehicles TOT 1973 ACT 69 BUF 73)             I: 27ms, vehicles TOT 2 ACT 2 BUF 0)  \n",
      "Step #28800.00 (1ms ~= 1000.00*RT, ~70000.00UPS, TraCI: 86ms, vehicles TOT 1983 ACT 70 BUFs TOT 2 ACT 2 BUF 0)                  \n",
      "Step #28800.00 (0ms ?*RT. ?UPS, TraCI: 93ms, vehicles TOT 1977 ACT 70 BUF 69)             es TOT 627 ACT 100 BUF 34)            \n",
      "Step #28800.00 (1ms ~= 1000.00*RT, ~69000.00UPS, TraCI: 97ms, vehicles TOT 1984 ACT 69 BUFCI: 38ms, vehicles TOT 2 ACT 2 BUF 0)  \n",
      "Step #28800.00 (0ms ?*RT. ?UPS, TraCI: 92ms, vehicles TOT 1978 ACT 69 BUF 68)             CI: 38ms, vehicles TOT 2 ACT 2 BUF 0)  \n"
     ]
    },
    {
     "name": "stderr",
     "output_type": "stream",
     "text": [
      "\u001b[2m\u001b[36m(RolloutWorker pid=13628)\u001b[0m Warning: Vehicle '188987_434_0' performs emergency braking on lane ':26110729_5_1' with decel=9.00, wished=4.50, severity=1.00, time=26154.00.\n"
     ]
    },
    {
     "name": "stdout",
     "output_type": "stream",
     "text": [
      "Step #26100.00 (1ms ~= 1000.00*RT, ~93000.00UPS, TraCI: 147ms, vehicles TOT 558 ACT 93 BUFes TOT 2 ACT 2 BUF 0)                  \n"
     ]
    },
    {
     "name": "stderr",
     "output_type": "stream",
     "text": [
      "\u001b[2m\u001b[36m(RolloutWorker pid=1732)\u001b[0m Warning: Vehicle '207932_441_0' performs emergency braking on lane ':26110729_16_0' with decel=9.00, wished=4.50, severity=1.00, time=26607.00.\n"
     ]
    },
    {
     "name": "stdout",
     "output_type": "stream",
     "text": [
      "Step #26600.00 (1ms ~= 1000.00*RT, ~98000.00UPS, TraCI: 132ms, vehicles TOT 864 ACT 98 BUFI: 37ms, vehicles TOT 2 ACT 2 BUF 0)  \n"
     ]
    },
    {
     "name": "stderr",
     "output_type": "stream",
     "text": [
      "\u001b[2m\u001b[36m(RolloutWorker pid=3060)\u001b[0m Warning: Vehicle '148523_417_0' performs emergency braking on lane ':26110729_7_0' with decel=9.00, wished=4.50, severity=1.00, time=28657.00.\n"
     ]
    },
    {
     "name": "stdout",
     "output_type": "stream",
     "text": [
      "Step #28600.00 (1ms ~= 1000.00*RT, ~72000.00UPS, TraCI: 148ms, vehicles TOT 1896 ACT 72 BUI: 40ms, vehicles TOT 2 ACT 2 BUF 0)  \n",
      "Step #28800.00 (1ms ~= 1000.00*RT, ~72000.00UPS, TraCI: 95ms, vehicles TOT 1967 ACT 72 BUFCI: 37ms, vehicles TOT 2 ACT 2 BUF 0)  \n",
      "Step #28800.00 (0ms ?*RT. ?UPS, TraCI: 97ms, vehicles TOT 1965 ACT 70 BUF 81)             CI: 39ms, vehicles TOT 2 ACT 2 BUF 0)  \n",
      "Step #28800.00 (1ms ~= 1000.00*RT, ~72000.00UPS, TraCI: 95ms, vehicles TOT 1981 ACT 72 BUFCI: 41ms, vehicles TOT 2 ACT 2 BUF 0)  \n",
      "Step #28800.00 (0ms ?*RT. ?UPS, TraCI: 97ms, vehicles TOT 1986 ACT 73 BUF 60)             CI: 82ms, vehicles TOT 906 ACT 77 BUF \n",
      "Step #28800.00 (1ms ~= 1000.00*RT, ~75000.00UPS, TraCI: 98ms, vehicles TOT 1983 ACT 75 BUFs TOT 2 ACT 2 BUF 0)                  \n",
      "Step #28800.00 (1ms ~= 1000.00*RT, ~71000.00UPS, TraCI: 94ms, vehicles TOT 1973 ACT 71 BUFs TOT 1938 ACT 86 BUF 75)             \n",
      "Step #28800.00 (0ms ?*RT. ?UPS, TraCI: 89ms, vehicles TOT 1969 ACT 70 BUF 77)             raCI: 101ms, vehicles TOT 630 ACT 100 B\n",
      "Step #28800.00 (1ms ~= 1000.00*RT, ~71000.00UPS, TraCI: 109ms, vehicles TOT 1981 ACT 71 BUI: 39ms, vehicles TOT 2 ACT 2 BUF 0)  \n",
      "Step #28800.00 (0ms ?*RT. ?UPS, TraCI: 104ms, vehicles TOT 1971 ACT 68 BUF 75)            CI: 42ms, vehicles TOT 2 ACT 2 BUF 0)  \n",
      "Step #28800.00 (1ms ~= 1000.00*RT, ~70000.00UPS, TraCI: 99ms, vehicles TOT 1971 ACT 70 BUFCI: 45ms, vehicles TOT 2 ACT 2 BUF 0)  \n"
     ]
    },
    {
     "name": "stderr",
     "output_type": "stream",
     "text": [
      "\u001b[2m\u001b[36m(RolloutWorker pid=13580)\u001b[0m Warning: Vehicle '183638_431_0' performs emergency braking on lane ':26110729_5_1' with decel=9.00, wished=4.50, severity=1.00, time=26235.00.\n"
     ]
    },
    {
     "name": "stdout",
     "output_type": "stream",
     "text": [
      "Step #26200.00 (1ms ~= 1000.00*RT, ~104000.00UPS, TraCI: 92ms, vehicles TOT 625 ACT 104 BUes TOT 2 ACT 2 BUF 0)                  \n"
     ]
    },
    {
     "name": "stderr",
     "output_type": "stream",
     "text": [
      "\u001b[2m\u001b[36m(RolloutWorker pid=24144)\u001b[0m Warning: Vehicle '149857_417_0' performs emergency braking on lane ':26110729_7_0' with decel=9.00, wished=4.50, severity=1.00, time=27917.00.\n"
     ]
    },
    {
     "name": "stdout",
     "output_type": "stream",
     "text": [
      "Step #27900.00 (1ms ~= 1000.00*RT, ~71000.00UPS, TraCI: 98ms, vehicles TOT 1578 ACT 71 BUFCI: 24ms, vehicles TOT 2 ACT 2 BUF 0)  \n",
      "Step #28800.00 (0ms ?*RT. ?UPS, TraCI: 111ms, vehicles TOT 1974 ACT 68 BUF 72)            es TOT 2 ACT 2 BUF 0)                  \n",
      "Step #28800.00 (0ms ?*RT. ?UPS, TraCI: 106ms, vehicles TOT 1969 ACT 73 BUF 77)            I: 40ms, vehicles TOT 2 ACT 2 BUF 0)  \n",
      "Step #28800.00 (0ms ?*RT. ?UPS, TraCI: 111ms, vehicles TOT 1958 ACT 66 BUF 88)            I: 29ms, vehicles TOT 2 ACT 2 BUF 0)  \n",
      "Step #28800.00 (1ms ~= 1000.00*RT, ~69000.00UPS, TraCI: 104ms, vehicles TOT 1971 ACT 69 BUes TOT 2 ACT 2 BUF 0)                  \n",
      "Step #28800.00 (1ms ~= 1000.00*RT, ~68000.00UPS, TraCI: 105ms, vehicles TOT 1965 ACT 68 BUI: 37ms, vehicles TOT 2 ACT 2 BUF 0)  \n",
      "Step #28800.00 (0ms ?*RT. ?UPS, TraCI: 106ms, vehicles TOT 1965 ACT 73 BUF 81)            es TOT 708 ACT 114 BUF 55)             \n",
      "Step #28800.00 (1ms ~= 1000.00*RT, ~68000.00UPS, TraCI: 110ms, vehicles TOT 1970 ACT 68 BUes TOT 2 ACT 2 BUF 0)                  \n",
      "Step #28800.00 (1ms ~= 1000.00*RT, ~71000.00UPS, TraCI: 78ms, vehicles TOT 1962 ACT 71 BUFs TOT 2 ACT 2 BUF 0)                  \n",
      "Step #28800.00 (0ms ?*RT. ?UPS, TraCI: 77ms, vehicles TOT 1978 ACT 72 BUF 68)             es TOT 1632 ACT 82 BUF 41)             \n",
      "Step #28800.00 (0ms ?*RT. ?UPS, TraCI: 73ms, vehicles TOT 1972 ACT 69 BUF 74)             CI: 24ms, vehicles TOT 2 ACT 2 BUF 0)  \n"
     ]
    },
    {
     "name": "stderr",
     "output_type": "stream",
     "text": [
      "\u001b[2m\u001b[36m(RolloutWorker pid=3060)\u001b[0m Warning: Vehicle '178434_430_0' performs emergency braking on lane ':26110729_5_1' with decel=9.00, wished=4.50, severity=1.00, time=27303.00.\n"
     ]
    },
    {
     "name": "stdout",
     "output_type": "stream",
     "text": [
      "Step #27300.00 (1ms ~= 1000.00*RT, ~90000.00UPS, TraCI: 83ms, vehicles TOT 1287 ACT 90 BUFI: 40ms, vehicles TOT 2 ACT 2 BUF 0)  \n",
      "Step #28800.00 (0ms ?*RT. ?UPS, TraCI: 113ms, vehicles TOT 1987 ACT 73 BUF 59)            es TOT 2 ACT 2 BUF 0)                  \n",
      "Step #28800.00 (1ms ~= 1000.00*RT, ~71000.00UPS, TraCI: 112ms, vehicles TOT 1969 ACT 71 BUCI: 153ms, vehicles TOT 1335 ACT 75 BU\n",
      "Step #28800.00 (0ms ?*RT. ?UPS, TraCI: 117ms, vehicles TOT 1978 ACT 69 BUF 68)            CI: 40ms, vehicles TOT 2 ACT 2 BUF 0)  \n",
      "Step #28800.00 (1ms ~= 1000.00*RT, ~68000.00UPS, TraCI: 115ms, vehicles TOT 1969 ACT 68 BUI: 36ms, vehicles TOT 2 ACT 2 BUF 0)  \n",
      "Step #28800.00 (0ms ?*RT. ?UPS, TraCI: 113ms, vehicles TOT 1974 ACT 72 BUF 72)            CI: 37ms, vehicles TOT 2 ACT 2 BUF 0)  \n",
      "Step #28800.00 (1ms ~= 1000.00*RT, ~71000.00UPS, TraCI: 115ms, vehicles TOT 1971 ACT 71 BUes TOT 2 ACT 2 BUF 0)                  \n",
      "Step #28800.00 (0ms ?*RT. ?UPS, TraCI: 111ms, vehicles TOT 1980 ACT 72 BUF 66)            I: 34ms, vehicles TOT 2 ACT 2 BUF 0)  \n",
      "Step #28800.00 (0ms ?*RT. ?UPS, TraCI: 93ms, vehicles TOT 1978 ACT 69 BUF 68)             s TOT 2 ACT 2 BUF 0)                  \n",
      "Step #28800.00 (1ms ~= 1000.00*RT, ~70000.00UPS, TraCI: 91ms, vehicles TOT 1989 ACT 70 BUFes TOT 2 ACT 2 BUF 0)                  \n",
      "Step #28800.00 (1ms ~= 1000.00*RT, ~71000.00UPS, TraCI: 94ms, vehicles TOT 1975 ACT 71 BUFes TOT 2 ACT 2 BUF 0)                  \n"
     ]
    },
    {
     "name": "stderr",
     "output_type": "stream",
     "text": [
      "\u001b[2m\u001b[36m(RolloutWorker pid=13580)\u001b[0m Warning: Vehicle '178434_430_0' performs emergency braking on lane '186623965#9_1' with decel=9.00, wished=4.50, severity=1.00, time=27303.00.\n"
     ]
    },
    {
     "name": "stdout",
     "output_type": "stream",
     "text": [
      "Step #27300.00 (0ms ?*RT. ?UPS, TraCI: 141ms, vehicles TOT 1288 ACT 92 BUF 37)            es TOT 2 ACT 2 BUF 0)                  \n"
     ]
    },
    {
     "name": "stderr",
     "output_type": "stream",
     "text": [
      "\u001b[2m\u001b[36m(RolloutWorker pid=1732)\u001b[0m Warning: Vehicle '216046_445_0' performs emergency braking on lane ':26110729_16_0' with decel=9.00, wished=4.50, severity=1.00, time=27512.00.\n"
     ]
    },
    {
     "name": "stdout",
     "output_type": "stream",
     "text": [
      "Step #27500.00 (1ms ~= 1000.00*RT, ~74000.00UPS, TraCI: 87ms, vehicles TOT 1386 ACT 74 BUFs TOT 2 ACT 2 BUF 0)                  \n",
      "Step #28800.00 (1ms ~= 1000.00*RT, ~70000.00UPS, TraCI: 135ms, vehicles TOT 1965 ACT 70 BUes TOT 1335 ACT 75 BUF 34)             \n",
      "Step #28800.00 (0ms ?*RT. ?UPS, TraCI: 136ms, vehicles TOT 1981 ACT 68 BUF 65)            es TOT 2 ACT 2 BUF 0)                  \n",
      "Step #28800.00 (0ms ?*RT. ?UPS, TraCI: 133ms, vehicles TOT 1971 ACT 68 BUF 75)            I: 32ms, vehicles TOT 2 ACT 2 BUF 0)  \n",
      "Step #28800.00 (0ms ?*RT. ?UPS, TraCI: 123ms, vehicles TOT 1977 ACT 69 BUF 69)            CI: 29ms, vehicles TOT 2 ACT 2 BUF 0)  \n",
      "Step #28800.00 (0ms ?*RT. ?UPS, TraCI: 131ms, vehicles TOT 1971 ACT 69 BUF 75)            CI: 32ms, vehicles TOT 2 ACT 2 BUF 0)  \n",
      "Step #28800.00 (0ms ?*RT. ?UPS, TraCI: 115ms, vehicles TOT 1978 ACT 72 BUF 68)            I: 27ms, vehicles TOT 2 ACT 2 BUF 0)  \n",
      "Step #28800.00 (0ms ?*RT. ?UPS, TraCI: 126ms, vehicles TOT 1986 ACT 69 BUF 60)            aCI: 111ms, vehicles TOT 1452 ACT 104 \n"
     ]
    },
    {
     "name": "stderr",
     "output_type": "stream",
     "text": [
      "\u001b[2m\u001b[36m(RolloutWorker pid=3200)\u001b[0m Warning: Vehicle '143416_415_0' performs emergency braking on lane ':26110729_7_0' with decel=9.00, wished=4.50, severity=1.00, time=28207.00.\n"
     ]
    },
    {
     "name": "stdout",
     "output_type": "stream",
     "text": [
      "Step #28200.00 (0ms ?*RT. ?UPS, TraCI: 133ms, vehicles TOT 1708 ACT 73 BUF 43)            I: 27ms, vehicles TOT 2 ACT 2 BUF 0)  \n",
      "Step #28800.00 (0ms ?*RT. ?UPS, TraCI: 83ms, vehicles TOT 1978 ACT 71 BUF 68)             s TOT 1771 ACT 87 BUF 44)             \n",
      "Step #28800.00 (0ms ?*RT. ?UPS, TraCI: 82ms, vehicles TOT 1966 ACT 70 BUF 80)             CI: 26ms, vehicles TOT 2 ACT 2 BUF 0)  \n",
      "Step #28800.00 (0ms ?*RT. ?UPS, TraCI: 81ms, vehicles TOT 1971 ACT 69 BUF 75)             es TOT 2 ACT 2 BUF 0)                  \n"
     ]
    },
    {
     "name": "stderr",
     "output_type": "stream",
     "text": [
      "\u001b[2m\u001b[36m(RolloutWorker pid=13580)\u001b[0m Warning: Vehicle '188874_434_0' performs emergency braking on lane ':cluster_1098574052_1098574061_247379905_14_0' with decel=9.00, wished=4.50, severity=1.00, time=26167.00.\n"
     ]
    },
    {
     "name": "stdout",
     "output_type": "stream",
     "text": [
      "Step #26100.00 (1ms ~= 1000.00*RT, ~89000.00UPS, TraCI: 81ms, vehicles TOT 553 ACT 89 BUF CI: 28ms, vehicles TOT 2 ACT 2 BUF 0)  \n"
     ]
    },
    {
     "name": "stderr",
     "output_type": "stream",
     "text": [
      "\u001b[2m\u001b[36m(RolloutWorker pid=24144)\u001b[0m Warning: Vehicle '188987_434_0' performs emergency braking on lane '186623965#9_1' with decel=9.00, wished=4.50, severity=1.00, time=26154.00.\n"
     ]
    },
    {
     "name": "stdout",
     "output_type": "stream",
     "text": [
      "Step #26100.00 (0ms ?*RT. ?UPS, TraCI: 150ms, vehicles TOT 554 ACT 90 BUF 28)             es TOT 2 ACT 2 BUF 0)                  \n"
     ]
    },
    {
     "name": "stderr",
     "output_type": "stream",
     "text": [
      "\u001b[2m\u001b[36m(RolloutWorker pid=13628)\u001b[0m Warning: Vehicle '244584_453_0' performs emergency braking on lane ':26110729_5_1' with decel=9.00, wished=4.50, severity=1.00, time=28489.00.\n"
     ]
    },
    {
     "name": "stdout",
     "output_type": "stream",
     "text": [
      "Step #28400.00 (1ms ~= 1000.00*RT, ~74000.00UPS, TraCI: 86ms, vehicles TOT 1812 ACT 74 BUFes TOT 2 ACT 2 BUF 0)                  \n",
      "Step #28800.00 (1ms ~= 1000.00*RT, ~71000.00UPS, TraCI: 88ms, vehicles TOT 1980 ACT 71 BUFs TOT 2 ACT 2 BUF 0)                  \n",
      "Step #28800.00 (1ms ~= 1000.00*RT, ~70000.00UPS, TraCI: 84ms, vehicles TOT 1979 ACT 70 BUFles TOT 627 ACT 105 BUF 34)            \n",
      "Step #28800.00 (0ms ?*RT. ?UPS, TraCI: 85ms, vehicles TOT 1972 ACT 68 BUF 74)             I: 27ms, vehicles TOT 2 ACT 2 BUF 0)  \n",
      "Step #28800.00 (0ms ?*RT. ?UPS, TraCI: 83ms, vehicles TOT 1981 ACT 67 BUF 65)             s TOT 2 ACT 2 BUF 0)                  \n",
      "Step #28800.00 (1ms ~= 1000.00*RT, ~69000.00UPS, TraCI: 83ms, vehicles TOT 1974 ACT 69 BUFCI: 27ms, vehicles TOT 2 ACT 2 BUF 0)  \n",
      "Step #28800.00 (1ms ~= 1000.00*RT, ~69000.00UPS, TraCI: 79ms, vehicles TOT 1965 ACT 69 BUFes TOT 2 ACT 2 BUF 0)                  \n",
      "Step #28800.00 (0ms ?*RT. ?UPS, TraCI: 69ms, vehicles TOT 1965 ACT 70 BUF 81)             aCI: 86ms, vehicles TOT 1853 ACT 71 BUF\n",
      "Step #28800.00 (0ms ?*RT. ?UPS, TraCI: 94ms, vehicles TOT 1967 ACT 69 BUF 79)             I: 37ms, vehicles TOT 2 ACT 2 BUF 0)  \n",
      "Step #28800.00 (1ms ~= 1000.00*RT, ~69000.00UPS, TraCI: 91ms, vehicles TOT 1972 ACT 69 BUFles TOT 627 ACT 101 BUF 34)            \n",
      "Step #28800.00 (0ms ?*RT. ?UPS, TraCI: 92ms, vehicles TOT 1974 ACT 68 BUF 72)             CI: 40ms, vehicles TOT 2 ACT 2 BUF 0)  \n"
     ]
    },
    {
     "name": "stderr",
     "output_type": "stream",
     "text": [
      "\u001b[2m\u001b[36m(RolloutWorker pid=19280)\u001b[0m Warning: Vehicle '172466_426_0' performs emergency braking on lane ':32319828_6_0' with decel=9.00, wished=4.50, severity=1.00, time=25997.00.\n"
     ]
    },
    {
     "name": "stdout",
     "output_type": "stream",
     "text": [
      "Step #25900.00 (0ms ?*RT. ?UPS, TraCI: 83ms, vehicles TOT 395 ACT 63 BUF 0)               es TOT 2 ACT 2 BUF 0)                  \n"
     ]
    },
    {
     "name": "stderr",
     "output_type": "stream",
     "text": [
      "\u001b[2m\u001b[36m(RolloutWorker pid=19280)\u001b[0m Warning: Vehicle '178434_430_0' performs emergency braking on lane ':26110729_5_1' with decel=9.00, wished=4.50, severity=1.00, time=27303.00.\n"
     ]
    },
    {
     "name": "stdout",
     "output_type": "stream",
     "text": [
      "Step #27300.00 (1ms ~= 1000.00*RT, ~88000.00UPS, TraCI: 86ms, vehicles TOT 1296 ACT 88 BUFles TOT 478 ACT 92 BUF 8)              \n",
      "Step #28800.00 (0ms ?*RT. ?UPS, TraCI: 103ms, vehicles TOT 1965 ACT 72 BUF 81)            es TOT 2 ACT 2 BUF 0)                  \n",
      "Step #28800.00 (0ms ?*RT. ?UPS, TraCI: 92ms, vehicles TOT 1966 ACT 73 BUF 80)             CI: 41ms, vehicles TOT 2 ACT 2 BUF 0)  \n",
      "Step #28800.00 (1ms ~= 1000.00*RT, ~66000.00UPS, TraCI: 92ms, vehicles TOT 1975 ACT 66 BUFCI: 41ms, vehicles TOT 2 ACT 2 BUF 0)  \n",
      "Step #28800.00 (0ms ?*RT. ?UPS, TraCI: 96ms, vehicles TOT 1962 ACT 71 BUF 84)             es TOT 2 ACT 2 BUF 0)                  \n",
      "Step #28800.00 (1ms ~= 1000.00*RT, ~67000.00UPS, TraCI: 93ms, vehicles TOT 1969 ACT 67 BUFI: 39ms, vehicles TOT 2 ACT 2 BUF 0)  \n",
      "Step #28800.00 (0ms ?*RT. ?UPS, TraCI: 94ms, vehicles TOT 1967 ACT 68 BUF 79)             s TOT 2 ACT 2 BUF 0)                  \n",
      "Step #28800.00 (0ms ?*RT. ?UPS, TraCI: 99ms, vehicles TOT 1976 ACT 70 BUF 70)             I: 36ms, vehicles TOT 2 ACT 2 BUF 0)  \n",
      "Step #28800.00 (0ms ?*RT. ?UPS, TraCI: 113ms, vehicles TOT 1976 ACT 68 BUF 70)            s TOT 2 ACT 2 BUF 0)                  \n",
      "Step #28800.00 (0ms ?*RT. ?UPS, TraCI: 106ms, vehicles TOT 1969 ACT 68 BUF 77)            es TOT 2 ACT 2 BUF 0)                  \n",
      "Step #28800.00 (0ms ?*RT. ?UPS, TraCI: 101ms, vehicles TOT 1991 ACT 71 BUF 55)            aCI: 85ms, vehicles TOT 1344 ACT 74 BUF\n"
     ]
    },
    {
     "name": "stderr",
     "output_type": "stream",
     "text": [
      "\u001b[2m\u001b[36m(RolloutWorker pid=9256)\u001b[0m Warning: Vehicle '135514_411_0' performs emergency braking on lane ':32319828_6_0' with decel=9.00, wished=4.50, severity=1.00, time=26642.00.\n"
     ]
    },
    {
     "name": "stdout",
     "output_type": "stream",
     "text": [
      "Step #26600.00 (1ms ~= 1000.00*RT, ~96000.00UPS, TraCI: 92ms, vehicles TOT 865 ACT 96 BUF I: 36ms, vehicles TOT 2 ACT 2 BUF 0)  \n"
     ]
    },
    {
     "name": "stderr",
     "output_type": "stream",
     "text": [
      "\u001b[2m\u001b[36m(RolloutWorker pid=1732)\u001b[0m Warning: Vehicle '167113_425_0' performs emergency braking on lane '186623965#9_1' with decel=9.00, wished=4.50, severity=1.00, time=26904.00.\n"
     ]
    },
    {
     "name": "stdout",
     "output_type": "stream",
     "text": [
      "Step #26900.00 (1ms ~= 1000.00*RT, ~100000.00UPS, TraCI: 97ms, vehicles TOT 1020 ACT 100 Bs TOT 2 ACT 2 BUF 0)                  \n",
      "Step #28800.00 (1ms ~= 1000.00*RT, ~74000.00UPS, TraCI: 104ms, vehicles TOT 1968 ACT 74 BUCI: 36ms, vehicles TOT 2 ACT 2 BUF 0)  \n",
      "Step #28800.00 (1ms ~= 1000.00*RT, ~71000.00UPS, TraCI: 107ms, vehicles TOT 1966 ACT 71 BUs TOT 2 ACT 2 BUF 0)                  \n",
      "Step #28800.00 (0ms ?*RT. ?UPS, TraCI: 104ms, vehicles TOT 1964 ACT 71 BUF 82)            CI: 33ms, vehicles TOT 2 ACT 2 BUF 0)  \n",
      "Step #28800.00 (0ms ?*RT. ?UPS, TraCI: 104ms, vehicles TOT 1981 ACT 71 BUF 65)            CI: 37ms, vehicles TOT 2 ACT 2 BUF 0)  \n",
      "Step #28800.00 (0ms ?*RT. ?UPS, TraCI: 106ms, vehicles TOT 1967 ACT 71 BUF 79)            CI: 152ms, vehicles TOT 1088 ACT 98 BU\n",
      "Step #28800.00 (0ms ?*RT. ?UPS, TraCI: 104ms, vehicles TOT 1966 ACT 69 BUF 80)            CI: 83ms, vehicles TOT 906 ACT 73 BUF \n",
      "Step #28800.00 (0ms ?*RT. ?UPS, TraCI: 99ms, vehicles TOT 1974 ACT 69 BUF 72)             es TOT 2 ACT 2 BUF 0)                  \n",
      "Step #28800.00 (0ms ?*RT. ?UPS, TraCI: 80ms, vehicles TOT 1966 ACT 71 BUF 80)             s TOT 2 ACT 2 BUF 0)                  \n",
      "Step #28800.00 (0ms ?*RT. ?UPS, TraCI: 78ms, vehicles TOT 1966 ACT 72 BUF 80)             CI: 25ms, vehicles TOT 2 ACT 2 BUF 0)  \n",
      "Step #28800.00 (1ms ~= 1000.00*RT, ~67000.00UPS, TraCI: 80ms, vehicles TOT 1975 ACT 67 BUFCI: 26ms, vehicles TOT 2 ACT 2 BUF 0)  \n"
     ]
    },
    {
     "name": "stderr",
     "output_type": "stream",
     "text": [
      "\u001b[2m\u001b[36m(RolloutWorker pid=20048)\u001b[0m Warning: Vehicle '143105_415_0' performs emergency braking on lane ':26110729_5_1' with decel=9.00, wished=4.50, severity=1.00, time=27604.00.\n"
     ]
    },
    {
     "name": "stdout",
     "output_type": "stream",
     "text": [
      "Step #27600.00 (0ms ?*RT. ?UPS, TraCI: 103ms, vehicles TOT 1444 ACT 98 BUF 44)            CI: 38ms, vehicles TOT 2 ACT 2 BUF 0)  \n"
     ]
    },
    {
     "name": "stderr",
     "output_type": "stream",
     "text": [
      "\u001b[2m\u001b[36m(RolloutWorker pid=9256)\u001b[0m Warning: Vehicle '235972_451_0' performs emergency braking on lane ':26110729_5_1' with decel=9.00, wished=4.50, severity=1.00, time=28469.00.\n"
     ]
    },
    {
     "name": "stdout",
     "output_type": "stream",
     "text": [
      "Step #28400.00 (1ms ~= 1000.00*RT, ~76000.00UPS, TraCI: 152ms, vehicles TOT 1815 ACT 76 BUs TOT 2 ACT 2 BUF 0)                  \n",
      "Step #28800.00 (1ms ~= 1000.00*RT, ~72000.00UPS, TraCI: 129ms, vehicles TOT 1972 ACT 72 BUles TOT 1497 ACT 97 BUF 46)            \n",
      "Step #28800.00 (0ms ?*RT. ?UPS, TraCI: 127ms, vehicles TOT 1971 ACT 70 BUF 75)            I: 39ms, vehicles TOT 2 ACT 2 BUF 0)  \n",
      "Step #28800.00 (0ms ?*RT. ?UPS, TraCI: 134ms, vehicles TOT 1974 ACT 68 BUF 72)            es TOT 2 ACT 2 BUF 0)                  \n",
      "Step #28800.00 (1ms ~= 1000.00*RT, ~71000.00UPS, TraCI: 117ms, vehicles TOT 1978 ACT 71 BUCI: 38ms, vehicles TOT 2 ACT 2 BUF 0)  \n",
      "Step #28800.00 (0ms ?*RT. ?UPS, TraCI: 124ms, vehicles TOT 1966 ACT 69 BUF 80)            I: 35ms, vehicles TOT 2 ACT 2 BUF 0)  \n",
      "Step #28800.00 (0ms ?*RT. ?UPS, TraCI: 123ms, vehicles TOT 1969 ACT 68 BUF 77)            s TOT 1854 ACT 72 BUF 79)             \n",
      "Step #28800.00 (1ms ~= 1000.00*RT, ~75000.00UPS, TraCI: 103ms, vehicles TOT 1979 ACT 75 BUCI: 40ms, vehicles TOT 2 ACT 2 BUF 0)  \n",
      "Step #28800.00 (0ms ?*RT. ?UPS, TraCI: 91ms, vehicles TOT 1982 ACT 74 BUF 64)             s TOT 2 ACT 2 BUF 0)                  \n",
      "Step #28800.00 (1ms ~= 1000.00*RT, ~72000.00UPS, TraCI: 86ms, vehicles TOT 1978 ACT 72 BUFes TOT 2 ACT 2 BUF 0)                  \n",
      "Step #28800.00 (0ms ?*RT. ?UPS, TraCI: 89ms, vehicles TOT 1972 ACT 72 BUF 74)             CI: 25ms, vehicles TOT 2 ACT 2 BUF 0)  \n",
      "Step #28800.00 (1ms ~= 1000.00*RT, ~70000.00UPS, TraCI: 126ms, vehicles TOT 1974 ACT 70 BUCI: 30ms, vehicles TOT 2 ACT 2 BUF 0)  \n",
      "Step #28800.00 (0ms ?*RT. ?UPS, TraCI: 131ms, vehicles TOT 1976 ACT 68 BUF 70)            es TOT 2 ACT 2 BUF 0)                  \n",
      "Step #28800.00 (0ms ?*RT. ?UPS, TraCI: 132ms, vehicles TOT 1967 ACT 67 BUF 79)            es TOT 2 ACT 2 BUF 0)                  \n",
      "Step #28800.00 (1ms ~= 1000.00*RT, ~71000.00UPS, TraCI: 127ms, vehicles TOT 1969 ACT 71 BUI: 31ms, vehicles TOT 2 ACT 2 BUF 0)  \n",
      "Step #28800.00 (1ms ~= 1000.00*RT, ~68000.00UPS, TraCI: 127ms, vehicles TOT 1957 ACT 68 BUs TOT 2 ACT 2 BUF 0)                  \n",
      "Step #28800.00 (0ms ?*RT. ?UPS, TraCI: 112ms, vehicles TOT 1975 ACT 70 BUF 71)            CI: 31ms, vehicles TOT 2 ACT 2 BUF 0)  \n",
      "Step #28800.00 (1ms ~= 1000.00*RT, ~69000.00UPS, TraCI: 104ms, vehicles TOT 1962 ACT 69 BUs TOT 2 ACT 2 BUF 0)                  \n",
      "Step #28800.00 (0ms ?*RT. ?UPS, TraCI: 93ms, vehicles TOT 1979 ACT 72 BUF 67)             I: 26ms, vehicles TOT 2 ACT 2 BUF 0)  \n",
      "Step #28800.00 (1ms ~= 1000.00*RT, ~70000.00UPS, TraCI: 87ms, vehicles TOT 1969 ACT 70 BUFCI: 32ms, vehicles TOT 2 ACT 2 BUF 0)  \n",
      "Step #28800.00 (1ms ~= 1000.00*RT, ~69000.00UPS, TraCI: 91ms, vehicles TOT 1976 ACT 69 BUFes TOT 2 ACT 2 BUF 0)                  \n",
      "Step #28800.00 (0ms ?*RT. ?UPS, TraCI: 83ms, vehicles TOT 1965 ACT 73 BUF 81)             CI: 27ms, vehicles TOT 2 ACT 2 BUF 0)  \n",
      "Step #28800.00 (0ms ?*RT. ?UPS, TraCI: 89ms, vehicles TOT 1971 ACT 70 BUF 75)             es TOT 2 ACT 2 BUF 0)                  \n",
      "Step #28800.00 (1ms ~= 1000.00*RT, ~71000.00UPS, TraCI: 83ms, vehicles TOT 1969 ACT 71 BUFI: 26ms, vehicles TOT 2 ACT 2 BUF 0)  \n",
      "Step #28800.00 (0ms ?*RT. ?UPS, TraCI: 82ms, vehicles TOT 1971 ACT 70 BUF 75)             es TOT 2 ACT 2 BUF 0)                  \n",
      "Step #28800.00 (1ms ~= 1000.00*RT, ~70000.00UPS, TraCI: 75ms, vehicles TOT 1974 ACT 70 BUFes TOT 2 ACT 2 BUF 0)                  \n",
      "Step #28800.00 (0ms ?*RT. ?UPS, TraCI: 84ms, vehicles TOT 1971 ACT 68 BUF 75)             s TOT 2 ACT 2 BUF 0)                  \n",
      "Step #28800.00 (1ms ~= 1000.00*RT, ~70000.00UPS, TraCI: 87ms, vehicles TOT 1971 ACT 70 BUFI: 27ms, vehicles TOT 2 ACT 2 BUF 0)  \n",
      "Step #28800.00 (1ms ~= 1000.00*RT, ~78000.00UPS, TraCI: 98ms, vehicles TOT 1979 ACT 78 BUFI: 36ms, vehicles TOT 2 ACT 2 BUF 0)  \n",
      "Step #28800.00 (0ms ?*RT. ?UPS, TraCI: 101ms, vehicles TOT 1972 ACT 67 BUF 74)            CI: 35ms, vehicles TOT 2 ACT 2 BUF 0)  \n",
      "Step #28800.00 (0ms ?*RT. ?UPS, TraCI: 99ms, vehicles TOT 1964 ACT 70 BUF 82)             es TOT 2 ACT 2 BUF 0)                  \n"
     ]
    },
    {
     "name": "stderr",
     "output_type": "stream",
     "text": [
      "\u001b[2m\u001b[36m(RolloutWorker pid=13628)\u001b[0m Warning: Vehicle '188987_434_0' performs emergency braking on lane ':26110729_5_1' with decel=9.00, wished=4.50, severity=1.00, time=26154.00.\n"
     ]
    },
    {
     "name": "stdout",
     "output_type": "stream",
     "text": [
      "Step #26100.00 (0ms ?*RT. ?UPS, TraCI: 147ms, vehicles TOT 556 ACT 91 BUF 26)             es TOT 2 ACT 2 BUF 0)                  \n"
     ]
    },
    {
     "name": "stderr",
     "output_type": "stream",
     "text": [
      "\u001b[2m\u001b[36m(RolloutWorker pid=3200)\u001b[0m Warning: Vehicle '188987_434_0' performs emergency braking on lane '186623965#9_1' with decel=9.00, wished=4.50, severity=1.00, time=26154.00.\n"
     ]
    },
    {
     "name": "stdout",
     "output_type": "stream",
     "text": [
      "Step #26100.00 (1ms ~= 1000.00*RT, ~92000.00UPS, TraCI: 79ms, vehicles TOT 551 ACT 92 BUF s TOT 2 ACT 2 BUF 0)                  \n",
      "Step #28800.00 (0ms ?*RT. ?UPS, TraCI: 96ms, vehicles TOT 1961 ACT 69 BUF 85)             CI: 37ms, vehicles TOT 2 ACT 2 BUF 0)  \n",
      "Step #28800.00 (0ms ?*RT. ?UPS, TraCI: 98ms, vehicles TOT 1964 ACT 70 BUF 82)             es TOT 2 ACT 2 BUF 0)                  \n",
      "Step #28800.00 (1ms ~= 1000.00*RT, ~69000.00UPS, TraCI: 95ms, vehicles TOT 1966 ACT 69 BUFI: 37ms, vehicles TOT 2 ACT 2 BUF 0)  \n",
      "Step #28800.00 (0ms ?*RT. ?UPS, TraCI: 92ms, vehicles TOT 1966 ACT 68 BUF 80)             es TOT 2 ACT 2 BUF 0)                  \n",
      "Step #28800.00 (0ms ?*RT. ?UPS, TraCI: 95ms, vehicles TOT 1958 ACT 69 BUF 88)             raCI: 98ms, vehicles TOT 627 ACT 102 BU\n",
      "Step #28800.00 (1ms ~= 1000.00*RT, ~69000.00UPS, TraCI: 84ms, vehicles TOT 1967 ACT 69 BUFI: 38ms, vehicles TOT 2 ACT 2 BUF 0)  \n",
      "Step #28800.00 (0ms ?*RT. ?UPS, TraCI: 94ms, vehicles TOT 1958 ACT 68 BUF 88)             s TOT 2 ACT 2 BUF 0)                  \n"
     ]
    },
    {
     "name": "stderr",
     "output_type": "stream",
     "text": [
      "\u001b[2m\u001b[36m(RolloutWorker pid=13628)\u001b[0m Warning: Vehicle '162709_422_0' performs emergency braking on lane ':26110729_16_0' with decel=9.00, wished=4.50, severity=1.00, time=25612.00.\n"
     ]
    },
    {
     "name": "stdout",
     "output_type": "stream",
     "text": [
      "Step #25600.00 (0ms ?*RT. ?UPS, TraCI: 59ms, vehicles TOT 206 ACT 52 BUF 0)               es TOT 2 ACT 2 BUF 0)                  \n",
      "Step #28800.00 (0ms ?*RT. ?UPS, TraCI: 115ms, vehicles TOT 1967 ACT 70 BUF 79)            aCI: 101ms, vehicles TOT 625 ACT 104 B\n",
      "Step #28800.00 (1ms ~= 1000.00*RT, ~65000.00UPS, TraCI: 112ms, vehicles TOT 1967 ACT 65 BUCI: 35ms, vehicles TOT 2 ACT 2 BUF 0)  \n",
      "Step #28800.00 (1ms ~= 1000.00*RT, ~66000.00UPS, TraCI: 106ms, vehicles TOT 1974 ACT 66 BUCI: 34ms, vehicles TOT 2 ACT 2 BUF 0)  \n"
     ]
    },
    {
     "name": "stderr",
     "output_type": "stream",
     "text": [
      "\u001b[2m\u001b[36m(RolloutWorker pid=1732)\u001b[0m Warning: Vehicle '188987_434_0' performs emergency braking on lane ':26110729_5_1' with decel=9.00, wished=4.50, severity=1.00, time=26154.00.\n"
     ]
    },
    {
     "name": "stdout",
     "output_type": "stream",
     "text": [
      "Step #26100.00 (1ms ~= 1000.00*RT, ~91000.00UPS, TraCI: 86ms, vehicles TOT 555 ACT 91 BUF I: 37ms, vehicles TOT 2 ACT 2 BUF 0)  \n"
     ]
    },
    {
     "name": "stderr",
     "output_type": "stream",
     "text": [
      "\u001b[2m\u001b[36m(RolloutWorker pid=20048)\u001b[0m Warning: Vehicle '167113_425_0' performs emergency braking on lane ':26110729_5_1' with decel=9.00, wished=4.50, severity=1.00, time=26905.00.\n"
     ]
    },
    {
     "name": "stdout",
     "output_type": "stream",
     "text": [
      "Step #26900.00 (1ms ~= 1000.00*RT, ~101000.00UPS, TraCI: 94ms, vehicles TOT 1017 ACT 101 Bes TOT 2 ACT 2 BUF 0)                  \n"
     ]
    },
    {
     "name": "stderr",
     "output_type": "stream",
     "text": [
      "\u001b[2m\u001b[36m(RolloutWorker pid=21792)\u001b[0m Warning: Vehicle '153961_420_0' performs emergency braking on lane ':26110729_7_0' with decel=9.00, wished=4.50, severity=1.00, time=28432.00.\n"
     ]
    },
    {
     "name": "stdout",
     "output_type": "stream",
     "text": [
      "Step #28400.00 (0ms ?*RT. ?UPS, TraCI: 81ms, vehicles TOT 1811 ACT 78 BUF 70)             es TOT 2 ACT 2 BUF 0)                  \n",
      "Step #28800.00 (1ms ~= 1000.00*RT, ~71000.00UPS, TraCI: 110ms, vehicles TOT 1966 ACT 71 BUaCI: 174ms, vehicles TOT 1083 ACT 95 BU\n",
      "Step #28800.00 (0ms ?*RT. ?UPS, TraCI: 112ms, vehicles TOT 1968 ACT 67 BUF 78)            CI: 35ms, vehicles TOT 2 ACT 2 BUF 0)  \n",
      "Step #28800.00 (0ms ?*RT. ?UPS, TraCI: 107ms, vehicles TOT 1966 ACT 69 BUF 80)            I: 35ms, vehicles TOT 2 ACT 2 BUF 0)  \n",
      "Step #28800.00 (1ms ~= 1000.00*RT, ~72000.00UPS, TraCI: 107ms, vehicles TOT 1963 ACT 72 BUles TOT 1848 ACT 69 BUF 85)            \n",
      "Step #28800.00 (1ms ~= 1000.00*RT, ~71000.00UPS, TraCI: 99ms, vehicles TOT 1969 ACT 71 BUFI: 36ms, vehicles TOT 2 ACT 2 BUF 0)  \n",
      "Step #28800.00 (1ms ~= 1000.00*RT, ~69000.00UPS, TraCI: 112ms, vehicles TOT 1964 ACT 69 BUes TOT 271 ACT 59 BUF 0)               \n",
      "Step #28800.00 (0ms ?*RT. ?UPS, TraCI: 101ms, vehicles TOT 1969 ACT 71 BUF 77)            s TOT 627 ACT 105 BUF 34)             \n",
      "Step #28800.00 (0ms ?*RT. ?UPS, TraCI: 82ms, vehicles TOT 1975 ACT 69 BUF 71)             I: 28ms, vehicles TOT 2 ACT 2 BUF 0)  \n",
      "Step #28800.00 (0ms ?*RT. ?UPS, TraCI: 80ms, vehicles TOT 1969 ACT 72 BUF 77)             CI: 26ms, vehicles TOT 2 ACT 2 BUF 0)  \n",
      "Step #28800.00 (1ms ~= 1000.00*RT, ~70000.00UPS, TraCI: 82ms, vehicles TOT 1978 ACT 70 BUFCI: 28ms, vehicles TOT 2 ACT 2 BUF 0)  \n"
     ]
    },
    {
     "name": "stderr",
     "output_type": "stream",
     "text": [
      "\u001b[2m\u001b[36m(RolloutWorker pid=13580)\u001b[0m Warning: Vehicle '210315_441_0' performs emergency braking on lane ':26110729_5_1' with decel=9.00, wished=4.50, severity=1.00, time=26364.00.\n"
     ]
    },
    {
     "name": "stdout",
     "output_type": "stream",
     "text": [
      "Step #26300.00 (0ms ?*RT. ?UPS, TraCI: 78ms, vehicles TOT 713 ACT 116 BUF 50)             CI: 35ms, vehicles TOT 2 ACT 2 BUF 0)  \n"
     ]
    },
    {
     "name": "stderr",
     "output_type": "stream",
     "text": [
      "\u001b[2m\u001b[36m(RolloutWorker pid=3060)\u001b[0m Warning: Vehicle '156336_420_0' performs emergency braking on lane ':26110729_16_0' with decel=9.00, wished=4.50, severity=1.00, time=27287.00.\n"
     ]
    },
    {
     "name": "stdout",
     "output_type": "stream",
     "text": [
      "Step #27200.00 (1ms ~= 1000.00*RT, ~90000.00UPS, TraCI: 100ms, vehicles TOT 1236 ACT 90 BUI: 36ms, vehicles TOT 2 ACT 2 BUF 0)  \n"
     ]
    },
    {
     "name": "stderr",
     "output_type": "stream",
     "text": [
      "\u001b[2m\u001b[36m(RolloutWorker pid=1732)\u001b[0m Warning: Vehicle '113483_402_0' performs emergency braking on lane ':26110729_7_0' with decel=9.00, wished=4.50, severity=1.00, time=28542.00.\n"
     ]
    },
    {
     "name": "stdout",
     "output_type": "stream",
     "text": [
      "Step #28500.00 (1ms ~= 1000.00*RT, ~73000.00UPS, TraCI: 81ms, vehicles TOT 1860 ACT 73 BUFs TOT 2 ACT 2 BUF 0)                  \n",
      "Step #28600.00 (1ms ~= 1000.00*RT, ~70000.00UPS, TraCI: 93ms, vehicles TOT 1889 ACT 70 BUFes TOT 2 ACT 2 BUF 0)                  \n",
      "Step #28800.00 (0ms ?*RT. ?UPS, TraCI: 119ms, vehicles TOT 1967 ACT 67 BUF 79)            es TOT 2 ACT 2 BUF 0)                  \n",
      "Step #28800.00 (1ms ~= 1000.00*RT, ~70000.00UPS, TraCI: 123ms, vehicles TOT 1968 ACT 70 BUaCI: 91ms, vehicles TOT 1932 ACT 82 BUF\n",
      "Step #28800.00 (1ms ~= 1000.00*RT, ~69000.00UPS, TraCI: 132ms, vehicles TOT 1966 ACT 69 BUCI: 92ms, vehicles TOT 1297 ACT 87 BUF\n",
      "Step #28800.00 (1ms ~= 1000.00*RT, ~68000.00UPS, TraCI: 120ms, vehicles TOT 1958 ACT 68 BUles TOT 761 ACT 94 BUF 62)             \n",
      "Step #28800.00 (1ms ~= 1000.00*RT, ~68000.00UPS, TraCI: 119ms, vehicles TOT 1973 ACT 68 BUCI: 38ms, vehicles TOT 2 ACT 2 BUF 0)  \n",
      "Step #28800.00 (1ms ~= 1000.00*RT, ~70000.00UPS, TraCI: 127ms, vehicles TOT 1962 ACT 70 BUI: 29ms, vehicles TOT 2 ACT 2 BUF 0)  \n",
      "Step #28800.00 (0ms ?*RT. ?UPS, TraCI: 109ms, vehicles TOT 1977 ACT 71 BUF 69)            s TOT 1902 ACT 76 BUF 73)             \n",
      "Step #28800.00 (0ms ?*RT. ?UPS, TraCI: 95ms, vehicles TOT 1963 ACT 71 BUF 83)             CI: 29ms, vehicles TOT 2 ACT 2 BUF 0)  \n",
      "Step #28800.00 (0ms ?*RT. ?UPS, TraCI: 91ms, vehicles TOT 1979 ACT 70 BUF 67)             I: 26ms, vehicles TOT 2 ACT 2 BUF 0)  \n",
      "Step #28800.00 (0ms ?*RT. ?UPS, TraCI: 90ms, vehicles TOT 1967 ACT 73 BUF 79)             CI: 26ms, vehicles TOT 2 ACT 2 BUF 0)  \n"
     ]
    },
    {
     "name": "stderr",
     "output_type": "stream",
     "text": [
      "\u001b[2m\u001b[36m(RolloutWorker pid=19280)\u001b[0m Warning: Vehicle '166947_424_0' performs emergency braking on lane ':26110729_16_0' with decel=9.00, wished=4.50, severity=1.00, time=26157.00.\u001b[32m [repeated 2x across cluster]\u001b[0m\n"
     ]
    },
    {
     "name": "stdout",
     "output_type": "stream",
     "text": [
      "Step #26100.00 (1ms ~= 1000.00*RT, ~90000.00UPS, TraCI: 87ms, vehicles TOT 555 ACT 90 BUF CI: 29ms, vehicles TOT 2 ACT 2 BUF 0)  \n"
     ]
    },
    {
     "name": "stderr",
     "output_type": "stream",
     "text": [
      "\u001b[2m\u001b[36m(RolloutWorker pid=13628)\u001b[0m Warning: Vehicle '178434_430_0' performs emergency braking on lane '186623965#9_1' with decel=9.00, wished=4.50, severity=1.00, time=27303.00.\n"
     ]
    },
    {
     "name": "stdout",
     "output_type": "stream",
     "text": [
      "Step #27300.00 (1ms ~= 1000.00*RT, ~90000.00UPS, TraCI: 150ms, vehicles TOT 1287 ACT 90 BUCI: 33ms, vehicles TOT 2 ACT 2 BUF 0)  \n"
     ]
    },
    {
     "name": "stderr",
     "output_type": "stream",
     "text": [
      "\u001b[2m\u001b[36m(RolloutWorker pid=19280)\u001b[0m Warning: Vehicle '191387_435_0' performs emergency braking on lane ':26110729_16_0' with decel=9.00, wished=4.50, severity=1.00, time=26892.00.\n"
     ]
    },
    {
     "name": "stdout",
     "output_type": "stream",
     "text": [
      "Step #26800.00 (1ms ~= 1000.00*RT, ~81000.00UPS, TraCI: 90ms, vehicles TOT 955 ACT 81 BUF les TOT 628 ACT 100 BUF 33)            \n",
      "Step #28800.00 (0ms ?*RT. ?UPS, TraCI: 132ms, vehicles TOT 1964 ACT 70 BUF 82)            CI: 24ms, vehicles TOT 2 ACT 2 BUF 0)  \n",
      "Step #28800.00 (0ms ?*RT. ?UPS, TraCI: 142ms, vehicles TOT 1970 ACT 71 BUF 76)            I: 32ms, vehicles TOT 2 ACT 2 BUF 0)  \n",
      "Step #28800.00 (0ms ?*RT. ?UPS, TraCI: 125ms, vehicles TOT 1967 ACT 70 BUF 79)            CI: 34ms, vehicles TOT 2 ACT 2 BUF 0)  \n",
      "Step #28800.00 (0ms ?*RT. ?UPS, TraCI: 126ms, vehicles TOT 1968 ACT 72 BUF 78)            I: 33ms, vehicles TOT 2 ACT 2 BUF 0)  \n",
      "Step #28800.00 (0ms ?*RT. ?UPS, TraCI: 135ms, vehicles TOT 1978 ACT 70 BUF 68)            s TOT 2 ACT 2 BUF 0)                  \n",
      "Step #28800.00 (1ms ~= 1000.00*RT, ~68000.00UPS, TraCI: 113ms, vehicles TOT 1975 ACT 68 BUes TOT 2 ACT 2 BUF 0)                  \n",
      "Step #28800.00 (1ms ~= 1000.00*RT, ~76000.00UPS, TraCI: 120ms, vehicles TOT 1966 ACT 76 BUaCI: 90ms, vehicles TOT 1334 ACT 69 BUF\n",
      "Step #28800.00 (0ms ?*RT. ?UPS, TraCI: 88ms, vehicles TOT 1973 ACT 69 BUF 73)             I: 26ms, vehicles TOT 2 ACT 2 BUF 0)  \n",
      "Step #28800.00 (0ms ?*RT. ?UPS, TraCI: 88ms, vehicles TOT 1968 ACT 71 BUF 78)             CI: 26ms, vehicles TOT 2 ACT 2 BUF 0)  \n",
      "Step #28800.00 (0ms ?*RT. ?UPS, TraCI: 84ms, vehicles TOT 1981 ACT 75 BUF 65)             aCI: 91ms, vehicles TOT 1020 ACT 97 BUF\n"
     ]
    },
    {
     "name": "stderr",
     "output_type": "stream",
     "text": [
      "\u001b[2m\u001b[36m(RolloutWorker pid=3200)\u001b[0m Warning: Vehicle '190542_435_0' performs emergency braking on lane ':26110729_16_0' with decel=9.00, wished=4.50, severity=1.00, time=26102.00.\n"
     ]
    },
    {
     "name": "stdout",
     "output_type": "stream",
     "text": [
      "Step #26100.00 (1ms ~= 1000.00*RT, ~88000.00UPS, TraCI: 145ms, vehicles TOT 558 ACT 88 BUFI: 38ms, vehicles TOT 2 ACT 2 BUF 0)  \n"
     ]
    },
    {
     "name": "stderr",
     "output_type": "stream",
     "text": [
      "\u001b[2m\u001b[36m(RolloutWorker pid=1732)\u001b[0m Warning: Vehicle '202846_439_0' performs emergency braking on lane ':26110729_14_1' with decel=9.00, wished=4.50, severity=1.00, time=27623.00.\n"
     ]
    },
    {
     "name": "stdout",
     "output_type": "stream",
     "text": [
      "Step #27600.00 (0ms ?*RT. ?UPS, TraCI: 104ms, vehicles TOT 1452 ACT 96 BUF 36)            I: 28ms, vehicles TOT 2 ACT 2 BUF 0)  \n",
      "Step #28800.00 (0ms ?*RT. ?UPS, TraCI: 83ms, vehicles TOT 1977 ACT 73 BUF 69)             es TOT 2 ACT 2 BUF 0)                  \n",
      "Step #28800.00 (1ms ~= 1000.00*RT, ~72000.00UPS, TraCI: 86ms, vehicles TOT 1962 ACT 72 BUFes TOT 2 ACT 2 BUF 0)                  \n",
      "Step #28800.00 (0ms ?*RT. ?UPS, TraCI: 82ms, vehicles TOT 1974 ACT 69 BUF 72)             I: 31ms, vehicles TOT 2 ACT 2 BUF 0)  \n",
      "Step #28800.00 (1ms ~= 1000.00*RT, ~72000.00UPS, TraCI: 80ms, vehicles TOT 1969 ACT 72 BUFes TOT 2 ACT 2 BUF 0)                  \n",
      "Step #28800.00 (0ms ?*RT. ?UPS, TraCI: 81ms, vehicles TOT 1969 ACT 72 BUF 77)             es TOT 2 ACT 2 BUF 0)                  \n",
      "Step #28800.00 (0ms ?*RT. ?UPS, TraCI: 89ms, vehicles TOT 1976 ACT 70 BUF 70)             CI: 146ms, vehicles TOT 1503 ACT 95 BU\n",
      "Step #28800.00 (1ms ~= 1000.00*RT, ~68000.00UPS, TraCI: 86ms, vehicles TOT 1971 ACT 68 BUFI: 33ms, vehicles TOT 2 ACT 2 BUF 0)  \n",
      "Step #28800.00 (0ms ?*RT. ?UPS, TraCI: 92ms, vehicles TOT 1979 ACT 69 BUF 67)             es TOT 631 ACT 100 BUF 30)            \n",
      "Step #28800.00 (0ms ?*RT. ?UPS, TraCI: 100ms, vehicles TOT 1975 ACT 69 BUF 71)            CI: 36ms, vehicles TOT 2 ACT 2 BUF 0)  \n",
      "Step #28800.00 (1ms ~= 1000.00*RT, ~71000.00UPS, TraCI: 95ms, vehicles TOT 1961 ACT 71 BUFCI: 36ms, vehicles TOT 2 ACT 2 BUF 0)  \n"
     ]
    },
    {
     "name": "stderr",
     "output_type": "stream",
     "text": [
      "\u001b[2m\u001b[36m(RolloutWorker pid=1732)\u001b[0m Warning: Vehicle '132612_410_0' performs emergency braking on lane ':26110729_14_1' with decel=9.00, wished=4.50, severity=1.00, time=27628.00.\n"
     ]
    },
    {
     "name": "stdout",
     "output_type": "stream",
     "text": [
      "Step #27600.00 (0ms ?*RT. ?UPS, TraCI: 170ms, vehicles TOT 1440 ACT 98 BUF 48)            I: 32ms, vehicles TOT 2 ACT 2 BUF 0)  \n"
     ]
    },
    {
     "name": "stderr",
     "output_type": "stream",
     "text": [
      "\u001b[2m\u001b[36m(RolloutWorker pid=13580)\u001b[0m Warning: Vehicle '184516_431_0' performs emergency braking on lane ':26110729_5_1' with decel=9.00, wished=4.50, severity=1.00, time=27649.00.\n"
     ]
    },
    {
     "name": "stdout",
     "output_type": "stream",
     "text": [
      "Step #27600.00 (0ms ?*RT. ?UPS, TraCI: 150ms, vehicles TOT 1440 ACT 103 BUF 48)           CI: 35ms, vehicles TOT 2 ACT 2 BUF 0)  \n"
     ]
    },
    {
     "name": "stderr",
     "output_type": "stream",
     "text": [
      "\u001b[2m\u001b[36m(RolloutWorker pid=24144)\u001b[0m Warning: Vehicle '176268_429_0' performs emergency braking on lane ':cluster_1098574052_1098574061_247379905_14_0' with decel=9.00, wished=4.50, severity=1.00, time=27567.00.\n"
     ]
    },
    {
     "name": "stdout",
     "output_type": "stream",
     "text": [
      "Step #27500.00 (1ms ~= 1000.00*RT, ~80000.00UPS, TraCI: 154ms, vehicles TOT 1388 ACT 80 BUes TOT 2 ACT 2 BUF 0)                  \n"
     ]
    },
    {
     "name": "stderr",
     "output_type": "stream",
     "text": [
      "\u001b[2m\u001b[36m(RolloutWorker pid=13628)\u001b[0m Warning: Vehicle '231835_451_0' performs emergency braking on lane ':26110729_5_1' with decel=9.00, wished=4.50, severity=1.00, time=28494.00.\n"
     ]
    },
    {
     "name": "stdout",
     "output_type": "stream",
     "text": [
      "Step #28400.00 (0ms ?*RT. ?UPS, TraCI: 86ms, vehicles TOT 1816 ACT 73 BUF 65)             es TOT 2 ACT 2 BUF 0)                  \n",
      "Step #28800.00 (0ms ?*RT. ?UPS, TraCI: 103ms, vehicles TOT 1982 ACT 71 BUF 64)            CI: 37ms, vehicles TOT 2 ACT 2 BUF 0)  \n",
      "Step #28800.00 (1ms ~= 1000.00*RT, ~70000.00UPS, TraCI: 94ms, vehicles TOT 1978 ACT 70 BUFCI: 32ms, vehicles TOT 2 ACT 2 BUF 0)  \n",
      "Step #28800.00 (1ms ~= 1000.00*RT, ~67000.00UPS, TraCI: 99ms, vehicles TOT 1968 ACT 67 BUFI: 35ms, vehicles TOT 2 ACT 2 BUF 0)  \n",
      "Step #28800.00 (0ms ?*RT. ?UPS, TraCI: 94ms, vehicles TOT 1967 ACT 68 BUF 79)             les TOT 1490 ACT 122 BUF 53)           \n",
      "Step #28800.00 (0ms ?*RT. ?UPS, TraCI: 97ms, vehicles TOT 1970 ACT 67 BUF 76)             es TOT 1856 ACT 71 BUF 77)             \n",
      "Step #28800.00 (0ms ?*RT. ?UPS, TraCI: 99ms, vehicles TOT 1981 ACT 69 BUF 65)             s TOT 2 ACT 2 BUF 0)                  \n",
      "Step #28800.00 (1ms ~= 1000.00*RT, ~68000.00UPS, TraCI: 82ms, vehicles TOT 1967 ACT 68 BUFCI: 98ms, vehicles TOT 1489 ACT 97 BUF\n",
      "Step #28800.00 (1ms ~= 1000.00*RT, ~68000.00UPS, TraCI: 102ms, vehicles TOT 1971 ACT 68 BUCI: 37ms, vehicles TOT 2 ACT 2 BUF 0)  \n",
      "Step #28800.00 (0ms ?*RT. ?UPS, TraCI: 110ms, vehicles TOT 1975 ACT 67 BUF 71)            s TOT 2 ACT 2 BUF 0)                  \n",
      "Step #28800.00 (0ms ?*RT. ?UPS, TraCI: 104ms, vehicles TOT 1972 ACT 70 BUF 74)            aCI: 103ms, vehicles TOT 1444 ACT 99 BU\n"
     ]
    },
    {
     "name": "stderr",
     "output_type": "stream",
     "text": [
      "\u001b[2m\u001b[36m(RolloutWorker pid=13580)\u001b[0m Warning: Vehicle '188987_434_0' performs emergency braking on lane ':26110729_5_1' with decel=9.00, wished=4.50, severity=1.00, time=26154.00.\n"
     ]
    },
    {
     "name": "stdout",
     "output_type": "stream",
     "text": [
      "Step #26100.00 (1ms ~= 1000.00*RT, ~93000.00UPS, TraCI: 86ms, vehicles TOT 558 ACT 93 BUF CI: 33ms, vehicles TOT 2 ACT 2 BUF 0)  \n"
     ]
    },
    {
     "name": "stderr",
     "output_type": "stream",
     "text": [
      "\u001b[2m\u001b[36m(RolloutWorker pid=13580)\u001b[0m Warning: Vehicle '145955_416_0' performs emergency braking on lane ':26110729_5_1' with decel=9.00, wished=4.50, severity=1.00, time=26385.00.\n"
     ]
    },
    {
     "name": "stdout",
     "output_type": "stream",
     "text": [
      "Step #26300.00 (1ms ~= 1000.00*RT, ~115000.00UPS, TraCI: 97ms, vehicles TOT 714 ACT 115 BUraCI: 99ms, vehicles TOT 629 ACT 101 BU\n"
     ]
    },
    {
     "name": "stderr",
     "output_type": "stream",
     "text": [
      "\u001b[2m\u001b[36m(RolloutWorker pid=19280)\u001b[0m Warning: Vehicle '167113_425_0' performs emergency braking on lane ':26110729_5_1' with decel=9.00, wished=4.50, severity=1.00, time=26904.00.\n"
     ]
    },
    {
     "name": "stdout",
     "output_type": "stream",
     "text": [
      "Step #26900.00 (1ms ~= 1000.00*RT, ~98000.00UPS, TraCI: 119ms, vehicles TOT 1016 ACT 98 BUCI: 25ms, vehicles TOT 2 ACT 2 BUF 0)  \n",
      "Step #28800.00 (1ms ~= 1000.00*RT, ~70000.00UPS, TraCI: 103ms, vehicles TOT 1970 ACT 70 BUCI: 32ms, vehicles TOT 2 ACT 2 BUF 0)  \n",
      "Step #28800.00 (0ms ?*RT. ?UPS, TraCI: 112ms, vehicles TOT 1982 ACT 73 BUF 64)            CI: 34ms, vehicles TOT 2 ACT 2 BUF 0)  \n",
      "Step #28800.00 (1ms ~= 1000.00*RT, ~70000.00UPS, TraCI: 113ms, vehicles TOT 1994 ACT 70 BUI: 33ms, vehicles TOT 2 ACT 2 BUF 0)  \n",
      "Step #28800.00 (1ms ~= 1000.00*RT, ~67000.00UPS, TraCI: 107ms, vehicles TOT 1976 ACT 67 BUCI: 35ms, vehicles TOT 2 ACT 2 BUF 0)  \n",
      "Step #28800.00 (1ms ~= 1000.00*RT, ~71000.00UPS, TraCI: 111ms, vehicles TOT 1978 ACT 71 BUs TOT 2 ACT 2 BUF 0)                  \n",
      "Step #28800.00 (0ms ?*RT. ?UPS, TraCI: 119ms, vehicles TOT 1978 ACT 72 BUF 68)            I: 34ms, vehicles TOT 2 ACT 2 BUF 0)  \n",
      "Step #28800.00 (1ms ~= 1000.00*RT, ~156000.00UPS, TraCI: 121ms, vehicles TOT 1950 ACT 156 aCI: 85ms, vehicles TOT 763 ACT 98 BUF \n",
      "Step #28800.00 (0ms ?*RT. ?UPS, TraCI: 81ms, vehicles TOT 1973 ACT 69 BUF 73)             s TOT 2 ACT 2 BUF 0)                  \n",
      "Step #28800.00 (0ms ?*RT. ?UPS, TraCI: 75ms, vehicles TOT 1976 ACT 73 BUF 70)             es TOT 2 ACT 2 BUF 0)                  \n",
      "Step #28800.00 (0ms ?*RT. ?UPS, TraCI: 79ms, vehicles TOT 1969 ACT 66 BUF 77)             aCI: 88ms, vehicles TOT 1085 ACT 97 BUF\n"
     ]
    },
    {
     "name": "stderr",
     "output_type": "stream",
     "text": [
      "\u001b[2m\u001b[36m(RolloutWorker pid=3200)\u001b[0m Warning: Vehicle '188987_434_0' performs emergency braking on lane '186623965#9_1' with decel=9.00, wished=4.50, severity=1.00, time=26154.00.\n"
     ]
    },
    {
     "name": "stdout",
     "output_type": "stream",
     "text": [
      "Step #26100.00 (0ms ?*RT. ?UPS, TraCI: 85ms, vehicles TOT 555 ACT 96 BUF 27)              I: 27ms, vehicles TOT 2 ACT 2 BUF 0)  \n",
      "Step #28800.00 (0ms ?*RT. ?UPS, TraCI: 124ms, vehicles TOT 1975 ACT 66 BUF 71)            CI: 42ms, vehicles TOT 2 ACT 2 BUF 0)  \n",
      "Step #28800.00 (0ms ?*RT. ?UPS, TraCI: 119ms, vehicles TOT 1965 ACT 68 BUF 81)            CI: 45ms, vehicles TOT 2 ACT 2 BUF 0)  \n",
      "Step #28800.00 (0ms ?*RT. ?UPS, TraCI: 123ms, vehicles TOT 1965 ACT 68 BUF 81)            I: 36ms, vehicles TOT 2 ACT 2 BUF 0)  \n",
      "Step #28800.00 (1ms ~= 1000.00*RT, ~70000.00UPS, TraCI: 126ms, vehicles TOT 1970 ACT 70 BUCI: 39ms, vehicles TOT 2 ACT 2 BUF 0)  \n",
      "Step #28800.00 (0ms ?*RT. ?UPS, TraCI: 117ms, vehicles TOT 1969 ACT 70 BUF 77)            es TOT 2 ACT 2 BUF 0)                  \n",
      "Step #28800.00 (1ms ~= 1000.00*RT, ~70000.00UPS, TraCI: 114ms, vehicles TOT 1970 ACT 70 BUI: 38ms, vehicles TOT 2 ACT 2 BUF 0)  \n",
      "Step #28800.00 (1ms ~= 1000.00*RT, ~68000.00UPS, TraCI: 98ms, vehicles TOT 1971 ACT 68 BUFI: 39ms, vehicles TOT 2 ACT 2 BUF 0)  \n",
      "Step #28800.00 (1ms ~= 1000.00*RT, ~69000.00UPS, TraCI: 85ms, vehicles TOT 1975 ACT 69 BUFaCI: 100ms, vehicles TOT 629 ACT 104 B\n",
      "Step #28800.00 (1ms ~= 1000.00*RT, ~67000.00UPS, TraCI: 85ms, vehicles TOT 1960 ACT 67 BUFCI: 25ms, vehicles TOT 2 ACT 2 BUF 0)  \n",
      "Step #28800.00 (0ms ?*RT. ?UPS, TraCI: 84ms, vehicles TOT 1979 ACT 72 BUF 67)             CI: 25ms, vehicles TOT 2 ACT 2 BUF 0)  \n"
     ]
    },
    {
     "name": "stderr",
     "output_type": "stream",
     "text": [
      "\u001b[2m\u001b[36m(RolloutWorker pid=13580)\u001b[0m Warning: Vehicle '161407_421_0' performs emergency braking on lane ':26110729_5_1' with decel=9.00, wished=4.50, severity=1.00, time=26954.00.\n"
     ]
    },
    {
     "name": "stdout",
     "output_type": "stream",
     "text": [
      "Step #26900.00 (0ms ?*RT. ?UPS, TraCI: 97ms, vehicles TOT 1028 ACT 101 BUF 50)            es TOT 2 ACT 2 BUF 0)                  \n"
     ]
    },
    {
     "name": "stderr",
     "output_type": "stream",
     "text": [
      "\u001b[2m\u001b[36m(RolloutWorker pid=3060)\u001b[0m Warning: Vehicle '178434_430_0' performs emergency braking on lane ':26110729_5_1' with decel=9.00, wished=4.50, severity=1.00, time=27303.00.\n"
     ]
    },
    {
     "name": "stdout",
     "output_type": "stream",
     "text": [
      "Step #27300.00 (1ms ~= 1000.00*RT, ~90000.00UPS, TraCI: 144ms, vehicles TOT 1286 ACT 90 BUs TOT 2 ACT 2 BUF 0)                  \n",
      "Step #28800.00 (1ms ~= 1000.00*RT, ~65000.00UPS, TraCI: 126ms, vehicles TOT 1952 ACT 65 BUCI: 27ms, vehicles TOT 2 ACT 2 BUF 0)  \n",
      "Step #28800.00 (0ms ?*RT. ?UPS, TraCI: 126ms, vehicles TOT 1978 ACT 70 BUF 68)            es TOT 2 ACT 2 BUF 0)                  \n",
      "Step #28800.00 (1ms ~= 1000.00*RT, ~72000.00UPS, TraCI: 117ms, vehicles TOT 1971 ACT 72 BUs TOT 1333 ACT 74 BUF 36)             \n",
      "Step #28800.00 (0ms ?*RT. ?UPS, TraCI: 128ms, vehicles TOT 1981 ACT 72 BUF 65)            es TOT 1094 ACT 96 BUF 45)             \n",
      "Step #28800.00 (0ms ?*RT. ?UPS, TraCI: 129ms, vehicles TOT 1975 ACT 66 BUF 71)            CI: 27ms, vehicles TOT 2 ACT 2 BUF 0)  \n",
      "Step #28800.00 (0ms ?*RT. ?UPS, TraCI: 130ms, vehicles TOT 1978 ACT 69 BUF 68)            I: 31ms, vehicles TOT 2 ACT 2 BUF 0)  \n",
      "Step #28800.00 (0ms ?*RT. ?UPS, TraCI: 126ms, vehicles TOT 1975 ACT 68 BUF 71)            I: 30ms, vehicles TOT 2 ACT 2 BUF 0)  \n",
      "Step #28800.00 (0ms ?*RT. ?UPS, TraCI: 84ms, vehicles TOT 1969 ACT 67 BUF 77)             I: 25ms, vehicles TOT 2 ACT 2 BUF 0)  \n",
      "Step #28800.00 (0ms ?*RT. ?UPS, TraCI: 89ms, vehicles TOT 1979 ACT 70 BUF 67)             es TOT 2 ACT 2 BUF 0)                  \n",
      "Step #28800.00 (0ms ?*RT. ?UPS, TraCI: 82ms, vehicles TOT 1969 ACT 69 BUF 77)             CI: 25ms, vehicles TOT 2 ACT 2 BUF 0)  \n"
     ]
    },
    {
     "name": "stderr",
     "output_type": "stream",
     "text": [
      "\u001b[2m\u001b[36m(RolloutWorker pid=20048)\u001b[0m Warning: Vehicle '166723_424_0' performs emergency braking on lane ':26110729_16_0' with decel=9.00, wished=4.50, severity=1.00, time=26157.00.\n"
     ]
    },
    {
     "name": "stdout",
     "output_type": "stream",
     "text": [
      "Step #26100.00 (0ms ?*RT. ?UPS, TraCI: 88ms, vehicles TOT 554 ACT 90 BUF 28)              CI: 24ms, vehicles TOT 2 ACT 2 BUF 0)  \n"
     ]
    },
    {
     "name": "stderr",
     "output_type": "stream",
     "text": [
      "\u001b[2m\u001b[36m(RolloutWorker pid=19280)\u001b[0m Warning: Vehicle '161407_421_0' performs emergency braking on lane ':26110729_5_1' with decel=9.00, wished=4.50, severity=1.00, time=26954.00.\n"
     ]
    },
    {
     "name": "stdout",
     "output_type": "stream",
     "text": [
      "Step #26900.00 (1ms ~= 1000.00*RT, ~99000.00UPS, TraCI: 99ms, vehicles TOT 1022 ACT 99 BUFCI: 34ms, vehicles TOT 2 ACT 2 BUF 0)  \n",
      "Step #28800.00 (1ms ~= 1000.00*RT, ~69000.00UPS, TraCI: 80ms, vehicles TOT 1974 ACT 69 BUFraCI: 119ms, vehicles TOT 628 ACT 107 B\n",
      "Step #28800.00 (1ms ~= 1000.00*RT, ~69000.00UPS, TraCI: 82ms, vehicles TOT 1966 ACT 69 BUFI: 26ms, vehicles TOT 2 ACT 2 BUF 0)  \n",
      "Step #28800.00 (0ms ?*RT. ?UPS, TraCI: 82ms, vehicles TOT 1960 ACT 69 BUF 86)             es TOT 2 ACT 2 BUF 0)                  \n",
      "Step #28800.00 (0ms ?*RT. ?UPS, TraCI: 81ms, vehicles TOT 1958 ACT 66 BUF 88)             I: 31ms, vehicles TOT 2 ACT 2 BUF 0)  \n",
      "Step #28800.00 (1ms ~= 1000.00*RT, ~70000.00UPS, TraCI: 82ms, vehicles TOT 1977 ACT 70 BUFCI: 29ms, vehicles TOT 2 ACT 2 BUF 0)  \n",
      "Step #28800.00 (1ms ~= 1000.00*RT, ~70000.00UPS, TraCI: 78ms, vehicles TOT 1970 ACT 70 BUFCI: 32ms, vehicles TOT 2 ACT 2 BUF 0)  \n",
      "Step #28800.00 (0ms ?*RT. ?UPS, TraCI: 80ms, vehicles TOT 1955 ACT 70 BUF 91)             s TOT 2 ACT 2 BUF 0)                  \n",
      "Step #28800.00 (0ms ?*RT. ?UPS, TraCI: 93ms, vehicles TOT 1966 ACT 71 BUF 80)             CI: 35ms, vehicles TOT 2 ACT 2 BUF 0)  \n",
      "Step #28800.00 (0ms ?*RT. ?UPS, TraCI: 100ms, vehicles TOT 1979 ACT 71 BUF 67)            aCI: 86ms, vehicles TOT 1092 ACT 95 BUF\n",
      "Step #28800.00 (1ms ~= 1000.00*RT, ~69000.00UPS, TraCI: 94ms, vehicles TOT 1975 ACT 69 BUFI: 34ms, vehicles TOT 2 ACT 2 BUF 0)  \n",
      "Step #28800.00 (0ms ?*RT. ?UPS, TraCI: 95ms, vehicles TOT 1966 ACT 72 BUF 80)             CI: 36ms, vehicles TOT 2 ACT 2 BUF 0)  \n",
      "Step #28800.00 (0ms ?*RT. ?UPS, TraCI: 94ms, vehicles TOT 1963 ACT 71 BUF 83)             I: 36ms, vehicles TOT 2 ACT 2 BUF 0)  \n",
      "Step #28800.00 (1ms ~= 1000.00*RT, ~71000.00UPS, TraCI: 86ms, vehicles TOT 1961 ACT 71 BUFCI: 37ms, vehicles TOT 2 ACT 2 BUF 0)  \n",
      "Step #28800.00 (1ms ~= 1000.00*RT, ~69000.00UPS, TraCI: 95ms, vehicles TOT 1966 ACT 69 BUFCI: 36ms, vehicles TOT 2 ACT 2 BUF 0)  \n",
      "Step #28800.00 (1ms ~= 1000.00*RT, ~71000.00UPS, TraCI: 86ms, vehicles TOT 1962 ACT 71 BUFCI: 37ms, vehicles TOT 2 ACT 2 BUF 0)  \n",
      "Step #28800.00 (0ms ?*RT. ?UPS, TraCI: 90ms, vehicles TOT 1969 ACT 74 BUF 77)             I: 38ms, vehicles TOT 2 ACT 2 BUF 0)  \n",
      "Step #28800.00 (0ms ?*RT. ?UPS, TraCI: 78ms, vehicles TOT 1969 ACT 74 BUF 77)             s TOT 2 ACT 2 BUF 0)                  \n",
      "Step #28800.00 (0ms ?*RT. ?UPS, TraCI: 106ms, vehicles TOT 1958 ACT 68 BUF 88)            I: 35ms, vehicles TOT 2 ACT 2 BUF 0)  \n",
      "Step #28800.00 (1ms ~= 1000.00*RT, ~68000.00UPS, TraCI: 102ms, vehicles TOT 1975 ACT 68 BUes TOT 2 ACT 2 BUF 0)                  \n",
      "Step #28800.00 (0ms ?*RT. ?UPS, TraCI: 107ms, vehicles TOT 1969 ACT 72 BUF 77)            es TOT 2 ACT 2 BUF 0)                  \n"
     ]
    },
    {
     "name": "stderr",
     "output_type": "stream",
     "text": [
      "\u001b[2m\u001b[36m(RolloutWorker pid=20048)\u001b[0m Warning: Vehicle '200402_437_0' performs emergency braking on lane ':26110729_16_0' with decel=9.00, wished=4.50, severity=1.00, time=26827.00.\n"
     ]
    },
    {
     "name": "stdout",
     "output_type": "stream",
     "text": [
      "Step #26800.00 (0ms ?*RT. ?UPS, TraCI: 79ms, vehicles TOT 950 ACT 82 BUF 68)              CI: 33ms, vehicles TOT 2 ACT 2 BUF 0)  \n"
     ]
    },
    {
     "name": "stderr",
     "output_type": "stream",
     "text": [
      "\u001b[2m\u001b[36m(RolloutWorker pid=24144)\u001b[0m Warning: Vehicle '178434_430_0' performs emergency braking on lane '186623965#9_1' with decel=9.00, wished=4.50, severity=1.00, time=27303.00.\n"
     ]
    },
    {
     "name": "stdout",
     "output_type": "stream",
     "text": [
      "Step #27300.00 (0ms ?*RT. ?UPS, TraCI: 80ms, vehicles TOT 1293 ACT 89 BUF 32)             CI: 25ms, vehicles TOT 2 ACT 2 BUF 0)  \n",
      "Step #28800.00 (1ms ~= 1000.00*RT, ~69000.00UPS, TraCI: 110ms, vehicles TOT 1967 ACT 69 BUes TOT 2 ACT 2 BUF 0)                  \n",
      "Step #28800.00 (1ms ~= 1000.00*RT, ~71000.00UPS, TraCI: 103ms, vehicles TOT 1967 ACT 71 BUraCI: 89ms, vehicles TOT 1016 ACT 101 B\n",
      "Step #28800.00 (0ms ?*RT. ?UPS, TraCI: 103ms, vehicles TOT 1969 ACT 66 BUF 77)            I: 40ms, vehicles TOT 2 ACT 2 BUF 0)  \n",
      "Step #28800.00 (0ms ?*RT. ?UPS, TraCI: 98ms, vehicles TOT 1962 ACT 70 BUF 84)             es TOT 2 ACT 2 BUF 0)                  \n",
      "Step #28800.00 (0ms ?*RT. ?UPS, TraCI: 96ms, vehicles TOT 1964 ACT 71 BUF 82)             CI: 35ms, vehicles TOT 2 ACT 2 BUF 0)  \n",
      "Step #28800.00 (1ms ~= 1000.00*RT, ~68000.00UPS, TraCI: 106ms, vehicles TOT 1958 ACT 68 BUs TOT 2 ACT 2 BUF 0)                  \n",
      "Step #28800.00 (1ms ~= 1000.00*RT, ~71000.00UPS, TraCI: 101ms, vehicles TOT 1966 ACT 71 BUI: 26ms, vehicles TOT 2 ACT 2 BUF 0)  \n"
     ]
    },
    {
     "name": "stderr",
     "output_type": "stream",
     "text": [
      "\u001b[2m\u001b[36m(RolloutWorker pid=3200)\u001b[0m Warning: Vehicle '231835_451_0' performs emergency braking on lane ':26110729_5_1' with decel=9.00, wished=4.50, severity=1.00, time=28494.00.\n"
     ]
    },
    {
     "name": "stdout",
     "output_type": "stream",
     "text": [
      "Step #28400.00 (1ms ~= 1000.00*RT, ~77000.00UPS, TraCI: 141ms, vehicles TOT 1814 ACT 77 BUI: 25ms, vehicles TOT 2 ACT 2 BUF 0)  \n",
      "Step #28800.00 (1ms ~= 1000.00*RT, ~69000.00UPS, TraCI: 80ms, vehicles TOT 1965 ACT 69 BUFCI: 80ms, vehicles TOT 1854 ACT 71 BUF\n",
      "Step #28800.00 (0ms ?*RT. ?UPS, TraCI: 83ms, vehicles TOT 1965 ACT 71 BUF 81)             les TOT 1339 ACT 73 BUF 30)            \n",
      "Step #28800.00 (1ms ~= 1000.00*RT, ~71000.00UPS, TraCI: 81ms, vehicles TOT 1963 ACT 71 BUFes TOT 2 ACT 2 BUF 0)                  \n"
     ]
    },
    {
     "name": "stderr",
     "output_type": "stream",
     "text": [
      "\u001b[2m\u001b[36m(RolloutWorker pid=3060)\u001b[0m Warning: Vehicle '188987_434_0' performs emergency braking on lane ':26110729_5_1' with decel=9.00, wished=4.50, severity=1.00, time=26154.00.\n"
     ]
    },
    {
     "name": "stdout",
     "output_type": "stream",
     "text": [
      "Step #26100.00 (1ms ~= 1000.00*RT, ~93000.00UPS, TraCI: 86ms, vehicles TOT 552 ACT 93 BUF I: 40ms, vehicles TOT 2 ACT 2 BUF 0)  \n"
     ]
    },
    {
     "name": "stderr",
     "output_type": "stream",
     "text": [
      "\u001b[2m\u001b[36m(RolloutWorker pid=3060)\u001b[0m Warning: Vehicle '231835_451_0' performs emergency braking on lane ':26110729_5_1' with decel=9.00, wished=4.50, severity=1.00, time=28494.00.\n"
     ]
    },
    {
     "name": "stdout",
     "output_type": "stream",
     "text": [
      "Step #28400.00 (0ms ?*RT. ?UPS, TraCI: 160ms, vehicles TOT 1808 ACT 73 BUF 73)            s TOT 626 ACT 101 BUF 35)             \n",
      "Step #28800.00 (1ms ~= 1000.00*RT, ~67000.00UPS, TraCI: 128ms, vehicles TOT 1959 ACT 67 BUes TOT 2 ACT 2 BUF 0)                  \n",
      "Step #28800.00 (1ms ~= 1000.00*RT, ~72000.00UPS, TraCI: 124ms, vehicles TOT 1959 ACT 72 BUes TOT 2 ACT 2 BUF 0)                  \n",
      "Step #28800.00 (1ms ~= 1000.00*RT, ~70000.00UPS, TraCI: 123ms, vehicles TOT 1967 ACT 70 BUCI: 37ms, vehicles TOT 2 ACT 2 BUF 0)  \n",
      "Step #28800.00 (0ms ?*RT. ?UPS, TraCI: 123ms, vehicles TOT 1970 ACT 68 BUF 76)            I: 27ms, vehicles TOT 2 ACT 2 BUF 0)  \n",
      "Step #28800.00 (1ms ~= 1000.00*RT, ~69000.00UPS, TraCI: 119ms, vehicles TOT 1960 ACT 69 BUI: 38ms, vehicles TOT 2 ACT 2 BUF 0)  \n",
      "Step #28800.00 (0ms ?*RT. ?UPS, TraCI: 102ms, vehicles TOT 1959 ACT 70 BUF 87)            s TOT 1850 ACT 73 BUF 83)             \n",
      "Step #28800.00 (1ms ~= 1000.00*RT, ~70000.00UPS, TraCI: 106ms, vehicles TOT 1975 ACT 70 BUes TOT 2 ACT 2 BUF 0)                  \n"
     ]
    },
    {
     "name": "stderr",
     "output_type": "stream",
     "text": [
      "\u001b[2m\u001b[36m(RolloutWorker pid=19280)\u001b[0m Warning: Vehicle '268146_465_0' performs emergency braking on lane ':26110729_5_1' with decel=9.00, wished=4.50, severity=1.00, time=28445.00.\n"
     ]
    },
    {
     "name": "stdout",
     "output_type": "stream",
     "text": [
      "Step #28400.00 (0ms ?*RT. ?UPS, TraCI: 82ms, vehicles TOT 1810 ACT 76 BUF 71)             es TOT 2 ACT 2 BUF 0)                  \n",
      "Step #28800.00 (0ms ?*RT. ?UPS, TraCI: 93ms, vehicles TOT 1960 ACT 71 BUF 86)             I: 28ms, vehicles TOT 2 ACT 2 BUF 0)  \n",
      "Step #28800.00 (0ms ?*RT. ?UPS, TraCI: 86ms, vehicles TOT 1965 ACT 72 BUF 81)             aCI: 90ms, vehicles TOT 1852 ACT 72 BUF\n",
      "Step #28800.00 (1ms ~= 1000.00*RT, ~210000.00UPS, TraCI: 121ms, vehicles TOT 1942 ACT 210 es TOT 2 ACT 2 BUF 0)                  \n"
     ]
    },
    {
     "name": "stderr",
     "output_type": "stream",
     "text": [
      "\u001b[2m\u001b[36m(RolloutWorker pid=3060)\u001b[0m Warning: Vehicle '188987_434_0' performs emergency braking on lane ':26110729_5_1' with decel=9.00, wished=4.50, severity=1.00, time=26154.00.\n"
     ]
    },
    {
     "name": "stdout",
     "output_type": "stream",
     "text": [
      "Step #26100.00 (0ms ?*RT. ?UPS, TraCI: 89ms, vehicles TOT 553 ACT 95 BUF 29)              I: 33ms, vehicles TOT 2 ACT 2 BUF 0)  \n"
     ]
    },
    {
     "name": "stderr",
     "output_type": "stream",
     "text": [
      "\u001b[2m\u001b[36m(RolloutWorker pid=24144)\u001b[0m Warning: Vehicle '188987_434_0' performs emergency braking on lane '186623965#9_1' with decel=9.00, wished=4.50, severity=1.00, time=26154.00.\n"
     ]
    },
    {
     "name": "stdout",
     "output_type": "stream",
     "text": [
      "Step #26100.00 (1ms ~= 1000.00*RT, ~92000.00UPS, TraCI: 84ms, vehicles TOT 557 ACT 92 BUF es TOT 2 ACT 2 BUF 0)                  \n",
      "Step #28800.00 (0ms ?*RT. ?UPS, TraCI: 136ms, vehicles TOT 1965 ACT 70 BUF 81)            s TOT 624 ACT 101 BUF 37)             \n",
      "Step #28800.00 (0ms ?*RT. ?UPS, TraCI: 129ms, vehicles TOT 1964 ACT 70 BUF 82)            es TOT 2 ACT 2 BUF 0)                  \n",
      "Step #28800.00 (1ms ~= 1000.00*RT, ~69000.00UPS, TraCI: 125ms, vehicles TOT 1962 ACT 69 BUs TOT 2 ACT 2 BUF 0)                  \n",
      "Step #28800.00 (1ms ~= 1000.00*RT, ~69000.00UPS, TraCI: 125ms, vehicles TOT 1973 ACT 69 BUI: 28ms, vehicles TOT 2 ACT 2 BUF 0)  \n",
      "Step #28800.00 (1ms ~= 1000.00*RT, ~72000.00UPS, TraCI: 124ms, vehicles TOT 1962 ACT 72 BUCI: 25ms, vehicles TOT 2 ACT 2 BUF 0)  \n",
      "Step #28800.00 (0ms ?*RT. ?UPS, TraCI: 119ms, vehicles TOT 1969 ACT 68 BUF 77)            CI: 34ms, vehicles TOT 2 ACT 2 BUF 0)  \n",
      "Step #28800.00 (1ms ~= 1000.00*RT, ~94000.00UPS, TraCI: 85ms, vehicles TOT 1950 ACT 94 BUFes TOT 2 ACT 2 BUF 0)                  \n",
      "Step #28800.00 (0ms ?*RT. ?UPS, TraCI: 87ms, vehicles TOT 1968 ACT 71 BUF 78)             I: 27ms, vehicles TOT 2 ACT 2 BUF 0)  \n",
      "Step #28800.00 (0ms ?*RT. ?UPS, TraCI: 88ms, vehicles TOT 1966 ACT 70 BUF 80)             raCI: 158ms, vehicles TOT 630 ACT 103 B\n",
      "Step #28800.00 (1ms ~= 1000.00*RT, ~71000.00UPS, TraCI: 86ms, vehicles TOT 1967 ACT 71 BUFes TOT 2 ACT 2 BUF 0)                  \n"
     ]
    },
    {
     "name": "stderr",
     "output_type": "stream",
     "text": [
      "\u001b[2m\u001b[36m(RolloutWorker pid=24144)\u001b[0m Warning: Vehicle '188987_434_0' performs emergency braking on lane ':26110729_5_1' with decel=9.00, wished=4.50, severity=1.00, time=26154.00.\n",
      "\u001b[2m\u001b[36m(RolloutWorker pid=19280)\u001b[0m Warning: Vehicle '188987_434_0' performs emergency braking on lane ':26110729_5_1' with decel=9.00, wished=4.50, severity=1.00, time=26155.00.\n"
     ]
    },
    {
     "name": "stdout",
     "output_type": "stream",
     "text": [
      "Step #26100.00 (1ms ~= 1000.00*RT, ~88000.00UPS, TraCI: 142ms, vehicles TOT 551 ACT 88 BUFCI: 37ms, vehicles TOT 2 ACT 2 BUF 0)  \n",
      "Step #26100.00 (0ms ?*RT. ?UPS, TraCI: 143ms, vehicles TOT 555 ACT 91 BUF 27)             CI: 37ms, vehicles TOT 2 ACT 2 BUF 0)  \n",
      "Step #26900.00 (1ms ~= 1000.00*RT, ~100000.00UPS, TraCI: 92ms, vehicles TOT 1016 ACT 100 BCI: 25ms, vehicles TOT 2 ACT 2 BUF 0)  \n"
     ]
    },
    {
     "name": "stderr",
     "output_type": "stream",
     "text": [
      "\u001b[2m\u001b[36m(RolloutWorker pid=3060)\u001b[0m Warning: Vehicle '149857_417_0' performs emergency braking on lane ':26110729_7_0' with decel=9.00, wished=4.50, severity=1.00, time=27917.00.\u001b[32m [repeated 2x across cluster]\u001b[0m\n"
     ]
    },
    {
     "name": "stdout",
     "output_type": "stream",
     "text": [
      "Step #27900.00 (1ms ~= 1000.00*RT, ~75000.00UPS, TraCI: 80ms, vehicles TOT 1558 ACT 75 BUFs TOT 2 ACT 2 BUF 0)                  \n",
      "Step #28800.00 (0ms ?*RT. ?UPS, TraCI: 89ms, vehicles TOT 1966 ACT 69 BUF 80)             CI: 27ms, vehicles TOT 2 ACT 2 BUF 0)  \n",
      "Step #28800.00 (1ms ~= 1000.00*RT, ~70000.00UPS, TraCI: 90ms, vehicles TOT 1957 ACT 70 BUFCI: 86ms, vehicles TOT 1613 ACT 82 BUF\n",
      "Step #28800.00 (0ms ?*RT. ?UPS, TraCI: 93ms, vehicles TOT 1963 ACT 70 BUF 83)             aCI: 97ms, vehicles TOT 1083 ACT 98 BUF\n",
      "Step #28800.00 (1ms ~= 1000.00*RT, ~68000.00UPS, TraCI: 90ms, vehicles TOT 1970 ACT 68 BUFI: 27ms, vehicles TOT 2 ACT 2 BUF 0)  \n",
      "Step #28800.00 (1ms ~= 1000.00*RT, ~72000.00UPS, TraCI: 86ms, vehicles TOT 1962 ACT 72 BUFCI: 25ms, vehicles TOT 2 ACT 2 BUF 0)  \n",
      "Step #28800.00 (0ms ?*RT. ?UPS, TraCI: 86ms, vehicles TOT 1967 ACT 69 BUF 79)             es TOT 2 ACT 2 BUF 0)                  \n",
      "Step #28800.00 (1ms ~= 1000.00*RT, ~174000.00UPS, TraCI: 102ms, vehicles TOT 1952 ACT 174 I: 32ms, vehicles TOT 2 ACT 2 BUF 0)  \n",
      "Step #28800.00 (0ms ?*RT. ?UPS, TraCI: 93ms, vehicles TOT 1963 ACT 71 BUF 83)             I: 35ms, vehicles TOT 2 ACT 2 BUF 0)  \n",
      "Step #28800.00 (0ms ?*RT. ?UPS, TraCI: 99ms, vehicles TOT 1958 ACT 67 BUF 88)             raCI: 100ms, vehicles TOT 624 ACT 104 B\n",
      "Step #28800.00 (1ms ~= 1000.00*RT, ~68000.00UPS, TraCI: 92ms, vehicles TOT 1959 ACT 68 BUFraCI: 98ms, vehicles TOT 627 ACT 103 BU\n"
     ]
    },
    {
     "name": "stderr",
     "output_type": "stream",
     "text": [
      "\u001b[2m\u001b[36m(RolloutWorker pid=21792)\u001b[0m Warning: Vehicle '162220_421_0' performs emergency braking on lane ':247379907_5_1' with decel=9.00, wished=4.50, severity=1.00, time=25984.00.\n"
     ]
    },
    {
     "name": "stdout",
     "output_type": "stream",
     "text": [
      "Step #25900.00 (0ms ?*RT. ?UPS, TraCI: 66ms, vehicles TOT 395 ACT 66 BUF 0)               es TOT 2 ACT 2 BUF 0)                  \n",
      "Step #28800.00 (0ms ?*RT. ?UPS, TraCI: 98ms, vehicles TOT 1958 ACT 68 BUF 88)             CI: 32ms, vehicles TOT 2 ACT 2 BUF 0)  \n",
      "Step #28800.00 (0ms ?*RT. ?UPS, TraCI: 96ms, vehicles TOT 1957 ACT 69 BUF 89)             es TOT 472 ACT 97 BUF 14)              \n",
      "Step #28800.00 (0ms ?*RT. ?UPS, TraCI: 98ms, vehicles TOT 1954 ACT 66 BUF 92)             s TOT 2 ACT 2 BUF 0)                  \n",
      "Step #28800.00 (0ms ?*RT. ?UPS, TraCI: 97ms, vehicles TOT 1958 ACT 67 BUF 88)             CI: 37ms, vehicles TOT 2 ACT 2 BUF 0)  \n",
      "Step #28800.00 (1ms ~= 1000.00*RT, ~71000.00UPS, TraCI: 94ms, vehicles TOT 1963 ACT 71 BUFCI: 38ms, vehicles TOT 2 ACT 2 BUF 0)  \n",
      "Step #28800.00 (1ms ~= 1000.00*RT, ~69000.00UPS, TraCI: 98ms, vehicles TOT 1960 ACT 69 BUFI: 38ms, vehicles TOT 2 ACT 2 BUF 0)  \n",
      "Step #28800.00 (0ms ?*RT. ?UPS, TraCI: 100ms, vehicles TOT 1964 ACT 69 BUF 82)            I: 37ms, vehicles TOT 2 ACT 2 BUF 0)  \n",
      "Step #28800.00 (0ms ?*RT. ?UPS, TraCI: 106ms, vehicles TOT 1959 ACT 70 BUF 87)            CI: 36ms, vehicles TOT 2 ACT 2 BUF 0)  \n",
      "Step #28800.00 (0ms ?*RT. ?UPS, TraCI: 100ms, vehicles TOT 1955 ACT 72 BUF 91)            s TOT 2 ACT 2 BUF 0)                  \n",
      "Step #28800.00 (0ms ?*RT. ?UPS, TraCI: 102ms, vehicles TOT 1949 ACT 69 BUF 97)            es TOT 2 ACT 2 BUF 0)                  \n"
     ]
    },
    {
     "name": "stderr",
     "output_type": "stream",
     "text": [
      "\u001b[2m\u001b[36m(RolloutWorker pid=20048)\u001b[0m Warning: Vehicle '163173_422_0' performs emergency braking on lane ':26110729_16_0' with decel=9.00, wished=4.50, severity=1.00, time=26157.00.\n"
     ]
    },
    {
     "name": "stdout",
     "output_type": "stream",
     "text": [
      "Step #26100.00 (1ms ~= 1000.00*RT, ~88000.00UPS, TraCI: 87ms, vehicles TOT 553 ACT 88 BUF es TOT 2 ACT 2 BUF 0)                  \n"
     ]
    },
    {
     "name": "stderr",
     "output_type": "stream",
     "text": [
      "\u001b[2m\u001b[36m(RolloutWorker pid=1732)\u001b[0m Warning: Vehicle '243791_453_0' performs emergency braking on lane '186623965#9_1' with decel=9.00, wished=4.50, severity=1.00, time=27347.00.\n"
     ]
    },
    {
     "name": "stdout",
     "output_type": "stream",
     "text": [
      "Step #27300.00 (1ms ~= 1000.00*RT, ~92000.00UPS, TraCI: 86ms, vehicles TOT 1286 ACT 92 BUFs TOT 2 ACT 2 BUF 0)                  \n"
     ]
    },
    {
     "name": "stderr",
     "output_type": "stream",
     "text": [
      "\u001b[2m\u001b[36m(RolloutWorker pid=1732)\u001b[0m Warning: Vehicle '192406_435_0' performs emergency braking on lane ':cluster_1098574052_1098574061_247379905_14_0' with decel=9.00, wished=4.50, severity=1.00, time=28667.00.\n"
     ]
    },
    {
     "name": "stdout",
     "output_type": "stream",
     "text": [
      "Step #28600.00 (1ms ~= 1000.00*RT, ~71000.00UPS, TraCI: 87ms, vehicles TOT 1887 ACT 71 BUFs TOT 1332 ACT 77 BUF 37)             \n",
      "Step #28800.00 (0ms ?*RT. ?UPS, TraCI: 115ms, vehicles TOT 1954 ACT 67 BUF 92)            raCI: 93ms, vehicles TOT 627 ACT 109 BU\n",
      "Step #28800.00 (0ms ?*RT. ?UPS, TraCI: 109ms, vehicles TOT 1959 ACT 68 BUF 87)            CI: 36ms, vehicles TOT 2 ACT 2 BUF 0)  \n",
      "Step #28800.00 (0ms ?*RT. ?UPS, TraCI: 102ms, vehicles TOT 1952 ACT 68 BUF 94)            I: 35ms, vehicles TOT 2 ACT 2 BUF 0)  \n",
      "Step #28800.00 (0ms ?*RT. ?UPS, TraCI: 107ms, vehicles TOT 1962 ACT 71 BUF 84)            CI: 34ms, vehicles TOT 2 ACT 2 BUF 0)  \n",
      "Step #28800.00 (0ms ?*RT. ?UPS, TraCI: 108ms, vehicles TOT 1958 ACT 67 BUF 88)            CI: 39ms, vehicles TOT 2 ACT 2 BUF 0)  \n",
      "Step #28800.00 (0ms ?*RT. ?UPS, TraCI: 102ms, vehicles TOT 1962 ACT 71 BUF 84)            I: 39ms, vehicles TOT 2 ACT 2 BUF 0)  \n",
      "Step #28800.00 (0ms ?*RT. ?UPS, TraCI: 78ms, vehicles TOT 1962 ACT 72 BUF 84)             s TOT 1926 ACT 83 BUF 87)             \n",
      "Step #28800.00 (0ms ?*RT. ?UPS, TraCI: 84ms, vehicles TOT 1959 ACT 68 BUF 87)             s TOT 2 ACT 2 BUF 0)                  \n",
      "Step #28800.00 (0ms ?*RT. ?UPS, TraCI: 76ms, vehicles TOT 1958 ACT 68 BUF 88)             CI: 25ms, vehicles TOT 2 ACT 2 BUF 0)  \n",
      "Step #28800.00 (0ms ?*RT. ?UPS, TraCI: 80ms, vehicles TOT 1959 ACT 69 BUF 87)             CI: 25ms, vehicles TOT 2 ACT 2 BUF 0)  \n"
     ]
    },
    {
     "name": "stderr",
     "output_type": "stream",
     "text": [
      "\u001b[2m\u001b[36m(RolloutWorker pid=21792)\u001b[0m Warning: Vehicle '188987_434_0' performs emergency braking on lane ':26110729_5_1' with decel=9.00, wished=4.50, severity=1.00, time=26155.00.\n"
     ]
    },
    {
     "name": "stdout",
     "output_type": "stream",
     "text": [
      "Step #26100.00 (1ms ~= 1000.00*RT, ~90000.00UPS, TraCI: 87ms, vehicles TOT 553 ACT 90 BUF CI: 37ms, vehicles TOT 2 ACT 2 BUF 0)  \n"
     ]
    },
    {
     "name": "stderr",
     "output_type": "stream",
     "text": [
      "\u001b[2m\u001b[36m(RolloutWorker pid=20048)\u001b[0m Warning: Vehicle '143416_415_0' performs emergency braking on lane ':26110729_7_0' with decel=9.00, wished=4.50, severity=1.00, time=28207.00.\n"
     ]
    },
    {
     "name": "stdout",
     "output_type": "stream",
     "text": [
      "Step #28200.00 (0ms ?*RT. ?UPS, TraCI: 82ms, vehicles TOT 1699 ACT 70 BUF 52)             es TOT 2 ACT 2 BUF 0)                  \n"
     ]
    },
    {
     "name": "stderr",
     "output_type": "stream",
     "text": [
      "\u001b[2m\u001b[36m(RolloutWorker pid=1732)\u001b[0m Warning: Vehicle '231835_451_0' performs emergency braking on lane ':26110729_5_1' with decel=9.00, wished=4.50, severity=1.00, time=28494.00.\n"
     ]
    },
    {
     "name": "stdout",
     "output_type": "stream",
     "text": [
      "Step #28400.00 (0ms ?*RT. ?UPS, TraCI: 151ms, vehicles TOT 1802 ACT 73 BUF 79)            I: 36ms, vehicles TOT 2 ACT 2 BUF 0)  \n",
      "Step #28800.00 (0ms ?*RT. ?UPS, TraCI: 116ms, vehicles TOT 1952 ACT 68 BUF 94)            I: 36ms, vehicles TOT 2 ACT 2 BUF 0)  \n",
      "Step #28800.00 (0ms ?*RT. ?UPS, TraCI: 116ms, vehicles TOT 1962 ACT 70 BUF 84)            es TOT 2 ACT 2 BUF 0)                  \n",
      "Step #28800.00 (1ms ~= 1000.00*RT, ~70000.00UPS, TraCI: 113ms, vehicles TOT 1966 ACT 70 BUs TOT 2 ACT 2 BUF 0)                  \n",
      "Step #28800.00 (0ms ?*RT. ?UPS, TraCI: 112ms, vehicles TOT 1958 ACT 69 BUF 88)            aCI: 86ms, vehicles TOT 1763 ACT 90 BUF\n",
      "Step #28800.00 (0ms ?*RT. ?UPS, TraCI: 114ms, vehicles TOT 1963 ACT 72 BUF 83)            raCI: 100ms, vehicles TOT 626 ACT 102 B\n",
      "Step #28800.00 (1ms ~= 1000.00*RT, ~70000.00UPS, TraCI: 112ms, vehicles TOT 1959 ACT 70 BUs TOT 1847 ACT 71 BUF 86)             \n",
      "Step #28800.00 (0ms ?*RT. ?UPS, TraCI: 87ms, vehicles TOT 1958 ACT 72 BUF 88)             es TOT 2 ACT 2 BUF 0)                  \n",
      "Step #28200.00 (1ms ~= 1000.00*RT, ~68000.00UPS, TraCI: 67ms, vehicles TOT 1697 ACT 68 BUFes TOT 2 ACT 2 BUF 0)                  \n"
     ]
    },
    {
     "name": "stderr",
     "output_type": "stream",
     "text": [
      "\u001b[2m\u001b[36m(RolloutWorker pid=24144)\u001b[0m Warning: Vehicle '143416_415_0' performs emergency braking on lane ':26110729_7_0' with decel=9.00, wished=4.50, severity=1.00, time=28207.00.\n"
     ]
    },
    {
     "name": "stdout",
     "output_type": "stream",
     "text": [
      "Step #28800.00 (0ms ?*RT. ?UPS, TraCI: 89ms, vehicles TOT 1954 ACT 67 BUF 92)             s TOT 2 ACT 2 BUF 0)                  \n",
      "Step #28800.00 (0ms ?*RT. ?UPS, TraCI: 86ms, vehicles TOT 1962 ACT 69 BUF 84)             aCI: 99ms, vehicles TOT 1763 ACT 91 BUF\n",
      "Step #28800.00 (0ms ?*RT. ?UPS, TraCI: 87ms, vehicles TOT 1954 ACT 68 BUF 92)             CI: 24ms, vehicles TOT 2 ACT 2 BUF 0)  \n"
     ]
    },
    {
     "name": "stderr",
     "output_type": "stream",
     "text": [
      "\u001b[2m\u001b[36m(RolloutWorker pid=3060)\u001b[0m Warning: Vehicle '188987_434_0' performs emergency braking on lane ':26110729_5_1' with decel=9.00, wished=4.50, severity=1.00, time=26155.00.\n"
     ]
    },
    {
     "name": "stdout",
     "output_type": "stream",
     "text": [
      "Step #26100.00 (1ms ~= 1000.00*RT, ~93000.00UPS, TraCI: 84ms, vehicles TOT 551 ACT 93 BUF s TOT 2 ACT 2 BUF 0)                  \n"
     ]
    },
    {
     "name": "stderr",
     "output_type": "stream",
     "text": [
      "\u001b[2m\u001b[36m(RolloutWorker pid=1732)\u001b[0m Warning: Vehicle '135408_411_0' performs emergency braking on lane '-186623965#16_1' with decel=9.00, wished=4.50, severity=1.00, time=26587.00.\n"
     ]
    },
    {
     "name": "stdout",
     "output_type": "stream",
     "text": [
      "Step #26500.00 (0ms ?*RT. ?UPS, TraCI: 94ms, vehicles TOT 805 ACT 96 BUF 75)              s TOT 2 ACT 2 BUF 0)                  \n",
      "Step #26100.00 (1ms ~= 1000.00*RT, ~92000.00UPS, TraCI: 86ms, vehicles TOT 553 ACT 92 BUF es TOT 2 ACT 2 BUF 0)                  \n"
     ]
    },
    {
     "name": "stderr",
     "output_type": "stream",
     "text": [
      "\u001b[2m\u001b[36m(RolloutWorker pid=24144)\u001b[0m Warning: Vehicle '145955_416_0' performs emergency braking on lane ':26110729_5_1' with decel=9.00, wished=4.50, severity=1.00, time=26385.00.\u001b[32m [repeated 2x across cluster]\u001b[0m\n"
     ]
    },
    {
     "name": "stdout",
     "output_type": "stream",
     "text": [
      "Step #26300.00 (1ms ~= 1000.00*RT, ~117000.00UPS, TraCI: 92ms, vehicles TOT 710 ACT 117 BUes TOT 2 ACT 2 BUF 0)                  \n"
     ]
    },
    {
     "name": "stderr",
     "output_type": "stream",
     "text": [
      "\u001b[2m\u001b[36m(RolloutWorker pid=9256)\u001b[0m Warning: Vehicle '200638_437_0' performs emergency braking on lane ':26110729_5_1' with decel=9.00, wished=4.50, severity=1.00, time=28035.00.\n"
     ]
    },
    {
     "name": "stdout",
     "output_type": "stream",
     "text": [
      "Step #28000.00 (0ms ?*RT. ?UPS, TraCI: 88ms, vehicles TOT 1612 ACT 79 BUF 61)             I: 23ms, vehicles TOT 2 ACT 2 BUF 0)  \n",
      "Step #28800.00 (0ms ?*RT. ?UPS, TraCI: 132ms, vehicles TOT 1953 ACT 66 BUF 93)            CI: 29ms, vehicles TOT 2 ACT 2 BUF 0)  \n",
      "Step #28800.00 (0ms ?*RT. ?UPS, TraCI: 131ms, vehicles TOT 1961 ACT 69 BUF 85)            CI: 84ms, vehicles TOT 1654 ACT 71 BUF\n",
      "Step #28800.00 (1ms ~= 1000.00*RT, ~70000.00UPS, TraCI: 131ms, vehicles TOT 1970 ACT 70 BUes TOT 2 ACT 2 BUF 0)                  \n",
      "Step #28800.00 (0ms ?*RT. ?UPS, TraCI: 126ms, vehicles TOT 1955 ACT 65 BUF 91)            aCI: 79ms, vehicles TOT 623 ACT 104 BU\n",
      "Step #28800.00 (1ms ~= 1000.00*RT, ~67000.00UPS, TraCI: 123ms, vehicles TOT 1959 ACT 67 BUCI: 26ms, vehicles TOT 2 ACT 2 BUF 0)  \n",
      "Step #28800.00 (1ms ~= 1000.00*RT, ~69000.00UPS, TraCI: 129ms, vehicles TOT 1958 ACT 69 BUes TOT 2 ACT 2 BUF 0)                  \n",
      "Step #28800.00 (0ms ?*RT. ?UPS, TraCI: 112ms, vehicles TOT 1959 ACT 69 BUF 87)            CI: 96ms, vehicles TOT 863 ACT 97 BUF \n",
      "Step #28800.00 (1ms ~= 1000.00*RT, ~70000.00UPS, TraCI: 82ms, vehicles TOT 1977 ACT 70 BUFI: 24ms, vehicles TOT 2 ACT 2 BUF 0)  \n",
      "Step #28800.00 (0ms ?*RT. ?UPS, TraCI: 83ms, vehicles TOT 1963 ACT 70 BUF 83)             es TOT 758 ACT 97 BUF 65)              \n",
      "Step #28800.00 (0ms ?*RT. ?UPS, TraCI: 83ms, vehicles TOT 1953 ACT 66 BUF 93)             aCI: 147ms, vehicles TOT 624 ACT 99 BUF\n",
      "Step #28800.00 (1ms ~= 1000.00*RT, ~67000.00UPS, TraCI: 93ms, vehicles TOT 1957 ACT 67 BUFCI: 29ms, vehicles TOT 2 ACT 2 BUF 0)  \n",
      "Step #28800.00 (0ms ?*RT. ?UPS, TraCI: 84ms, vehicles TOT 1957 ACT 68 BUF 89)             CI: 30ms, vehicles TOT 2 ACT 2 BUF 0)  \n",
      "Step #28800.00 (1ms ~= 1000.00*RT, ~68000.00UPS, TraCI: 94ms, vehicles TOT 1958 ACT 68 BUFI: 29ms, vehicles TOT 2 ACT 2 BUF 0)  \n",
      "Step #28800.00 (0ms ?*RT. ?UPS, TraCI: 84ms, vehicles TOT 1964 ACT 69 BUF 82)             CI: 29ms, vehicles TOT 2 ACT 2 BUF 0)  \n",
      "Step #28800.00 (1ms ~= 1000.00*RT, ~68000.00UPS, TraCI: 88ms, vehicles TOT 1965 ACT 68 BUFes TOT 2 ACT 2 BUF 0)                  \n",
      "Step #28800.00 (1ms ~= 1000.00*RT, ~70000.00UPS, TraCI: 84ms, vehicles TOT 1961 ACT 70 BUFs TOT 2 ACT 2 BUF 0)                  \n",
      "Step #28800.00 (1ms ~= 1000.00*RT, ~67000.00UPS, TraCI: 86ms, vehicles TOT 1957 ACT 67 BUFI: 31ms, vehicles TOT 2 ACT 2 BUF 0)  \n",
      "Step #28800.00 (0ms ?*RT. ?UPS, TraCI: 95ms, vehicles TOT 1966 ACT 71 BUF 80)             I: 35ms, vehicles TOT 2 ACT 2 BUF 0)  \n",
      "Step #28800.00 (0ms ?*RT. ?UPS, TraCI: 95ms, vehicles TOT 1959 ACT 68 BUF 87)             CI: 36ms, vehicles TOT 2 ACT 2 BUF 0)  \n",
      "Step #28800.00 (0ms ?*RT. ?UPS, TraCI: 96ms, vehicles TOT 1962 ACT 70 BUF 84)             CI: 39ms, vehicles TOT 2 ACT 2 BUF 0)  \n"
     ]
    },
    {
     "name": "stderr",
     "output_type": "stream",
     "text": [
      "\u001b[2m\u001b[36m(RolloutWorker pid=21792)\u001b[0m Warning: Vehicle '188987_434_0' performs emergency braking on lane ':26110729_5_1' with decel=9.00, wished=4.50, severity=1.00, time=26154.00.\n"
     ]
    },
    {
     "name": "stdout",
     "output_type": "stream",
     "text": [
      "Step #26100.00 (1ms ~= 1000.00*RT, ~91000.00UPS, TraCI: 147ms, vehicles TOT 558 ACT 91 BUFes TOT 2 ACT 2 BUF 0)                  \n"
     ]
    },
    {
     "name": "stderr",
     "output_type": "stream",
     "text": [
      "\u001b[2m\u001b[36m(RolloutWorker pid=3200)\u001b[0m Warning: Vehicle '163246_422_0' performs emergency braking on lane ':26110729_16_0' with decel=9.00, wished=4.50, severity=1.00, time=26032.00.\n"
     ]
    },
    {
     "name": "stdout",
     "output_type": "stream",
     "text": [
      "Step #26000.00 (0ms ?*RT. ?UPS, TraCI: 152ms, vehicles TOT 472 ACT 91 BUF 14)             I: 37ms, vehicles TOT 2 ACT 2 BUF 0)  \n"
     ]
    },
    {
     "name": "stderr",
     "output_type": "stream",
     "text": [
      "\u001b[2m\u001b[36m(RolloutWorker pid=13580)\u001b[0m Warning: Vehicle '161407_421_0' performs emergency braking on lane ':26110729_5_1' with decel=9.00, wished=4.50, severity=1.00, time=26954.00.\n"
     ]
    },
    {
     "name": "stdout",
     "output_type": "stream",
     "text": [
      "Step #26900.00 (1ms ~= 1000.00*RT, ~100000.00UPS, TraCI: 89ms, vehicles TOT 1015 ACT 100 Bes TOT 2 ACT 2 BUF 0)                  \n",
      "Step #28800.00 (0ms ?*RT. ?UPS, TraCI: 93ms, vehicles TOT 1968 ACT 72 BUF 78)             CI: 36ms, vehicles TOT 2 ACT 2 BUF 0)  \n",
      "Step #28800.00 (1ms ~= 1000.00*RT, ~67000.00UPS, TraCI: 96ms, vehicles TOT 1959 ACT 67 BUFI: 36ms, vehicles TOT 2 ACT 2 BUF 0)  \n",
      "Step #28800.00 (0ms ?*RT. ?UPS, TraCI: 92ms, vehicles TOT 1955 ACT 67 BUF 91)             aCI: 89ms, vehicles TOT 1082 ACT 98 BUF\n",
      "Step #28800.00 (0ms ?*RT. ?UPS, TraCI: 94ms, vehicles TOT 1957 ACT 68 BUF 89)             I: 36ms, vehicles TOT 2 ACT 2 BUF 0)  \n",
      "Step #28800.00 (1ms ~= 1000.00*RT, ~79000.00UPS, TraCI: 98ms, vehicles TOT 1976 ACT 79 BUFCI: 36ms, vehicles TOT 2 ACT 2 BUF 0)  \n",
      "Step #28800.00 (0ms ?*RT. ?UPS, TraCI: 86ms, vehicles TOT 1966 ACT 71 BUF 80)             I: 36ms, vehicles TOT 2 ACT 2 BUF 0)  \n",
      "Step #28800.00 (0ms ?*RT. ?UPS, TraCI: 66ms, vehicles TOT 1954 ACT 80 BUF 92)             es TOT 630 ACT 102 BUF 31)             \n",
      "Step #28800.00 (0ms ?*RT. ?UPS, TraCI: 107ms, vehicles TOT 1963 ACT 71 BUF 83)            CI: 35ms, vehicles TOT 2 ACT 2 BUF 0)  \n",
      "Step #28800.00 (0ms ?*RT. ?UPS, TraCI: 105ms, vehicles TOT 1969 ACT 71 BUF 77)            s TOT 552 ACT 91 BUF 30)              \n",
      "Step #28800.00 (1ms ~= 1000.00*RT, ~67000.00UPS, TraCI: 98ms, vehicles TOT 1960 ACT 67 BUFCI: 36ms, vehicles TOT 2 ACT 2 BUF 0)  \n"
     ]
    },
    {
     "name": "stderr",
     "output_type": "stream",
     "text": [
      "\u001b[2m\u001b[36m(RolloutWorker pid=19280)\u001b[0m Warning: Vehicle '188987_434_0' performs emergency braking on lane ':26110729_5_1' with decel=9.00, wished=4.50, severity=1.00, time=26154.00.\n"
     ]
    },
    {
     "name": "stdout",
     "output_type": "stream",
     "text": [
      "Step #26100.00 (0ms ?*RT. ?UPS, TraCI: 87ms, vehicles TOT 551 ACT 91 BUF 31)              CI: 33ms, vehicles TOT 2 ACT 2 BUF 0)  \n"
     ]
    },
    {
     "name": "stderr",
     "output_type": "stream",
     "text": [
      "\u001b[2m\u001b[36m(RolloutWorker pid=3200)\u001b[0m Warning: Vehicle '145955_416_0' performs emergency braking on lane ':26110729_5_1' with decel=9.00, wished=4.50, severity=1.00, time=26385.00.\n"
     ]
    },
    {
     "name": "stdout",
     "output_type": "stream",
     "text": [
      "Step #26300.00 (0ms ?*RT. ?UPS, TraCI: 102ms, vehicles TOT 712 ACT 119 BUF 51)            I: 28ms, vehicles TOT 2 ACT 2 BUF 0)  \n"
     ]
    },
    {
     "name": "stderr",
     "output_type": "stream",
     "text": [
      "\u001b[2m\u001b[36m(RolloutWorker pid=19280)\u001b[0m Warning: Vehicle '178434_430_0' performs emergency braking on lane ':26110729_5_1' with decel=9.00, wished=4.50, severity=1.00, time=27304.00.\n"
     ]
    },
    {
     "name": "stdout",
     "output_type": "stream",
     "text": [
      "Step #27300.00 (0ms ?*RT. ?UPS, TraCI: 83ms, vehicles TOT 1285 ACT 86 BUF 40)             raCI: 90ms, vehicles TOT 622 ACT 104 BU\n"
     ]
    },
    {
     "name": "stderr",
     "output_type": "stream",
     "text": [
      "\u001b[2m\u001b[36m(RolloutWorker pid=24144)\u001b[0m Warning: Vehicle '149857_417_0' performs emergency braking on lane ':26110729_7_0' with decel=9.00, wished=4.50, severity=1.00, time=27917.00.\n"
     ]
    },
    {
     "name": "stdout",
     "output_type": "stream",
     "text": [
      "Step #27900.00 (0ms ?*RT. ?UPS, TraCI: 99ms, vehicles TOT 1564 ACT 72 BUF 56)             CI: 27ms, vehicles TOT 2 ACT 2 BUF 0)  \n",
      "Step #28800.00 (0ms ?*RT. ?UPS, TraCI: 106ms, vehicles TOT 1954 ACT 68 BUF 92)            I: 38ms, vehicles TOT 2 ACT 2 BUF 0)  \n",
      "Step #28800.00 (0ms ?*RT. ?UPS, TraCI: 111ms, vehicles TOT 1954 ACT 70 BUF 92)            CI: 32ms, vehicles TOT 2 ACT 2 BUF 0)  \n",
      "Step #28800.00 (1ms ~= 1000.00*RT, ~67000.00UPS, TraCI: 105ms, vehicles TOT 1955 ACT 67 BUCI: 40ms, vehicles TOT 2 ACT 2 BUF 0)  \n",
      "Step #28800.00 (0ms ?*RT. ?UPS, TraCI: 99ms, vehicles TOT 1958 ACT 71 BUF 88)             es TOT 2 ACT 2 BUF 0)                  \n",
      "Step #28800.00 (0ms ?*RT. ?UPS, TraCI: 105ms, vehicles TOT 1962 ACT 69 BUF 84)            CI: 34ms, vehicles TOT 2 ACT 2 BUF 0)  \n",
      "Step #28800.00 (0ms ?*RT. ?UPS, TraCI: 101ms, vehicles TOT 1962 ACT 71 BUF 84)            I: 36ms, vehicles TOT 2 ACT 2 BUF 0)  \n",
      "Step #28800.00 (0ms ?*RT. ?UPS, TraCI: 103ms, vehicles TOT 1953 ACT 69 BUF 93)            I: 34ms, vehicles TOT 2 ACT 2 BUF 0)  \n",
      "Step #28800.00 (1ms ~= 1000.00*RT, ~72000.00UPS, TraCI: 82ms, vehicles TOT 1966 ACT 72 BUFCI: 103ms, vehicles TOT 760 ACT 94 BUF\n",
      "Step #28800.00 (1ms ~= 1000.00*RT, ~69000.00UPS, TraCI: 78ms, vehicles TOT 1955 ACT 69 BUFes TOT 1619 ACT 83 BUF 54)             \n",
      "Step #28800.00 (0ms ?*RT. ?UPS, TraCI: 83ms, vehicles TOT 1959 ACT 69 BUF 87)             aCI: 143ms, vehicles TOT 1334 ACT 70 BU\n"
     ]
    },
    {
     "name": "stderr",
     "output_type": "stream",
     "text": [
      "\u001b[2m\u001b[36m(RolloutWorker pid=9256)\u001b[0m Warning: Vehicle '163173_422_0' performs emergency braking on lane ':26110729_16_0' with decel=9.00, wished=4.50, severity=1.00, time=26157.00.\n"
     ]
    },
    {
     "name": "stdout",
     "output_type": "stream",
     "text": [
      "Step #26100.00 (1ms ~= 1000.00*RT, ~91000.00UPS, TraCI: 87ms, vehicles TOT 552 ACT 91 BUF s TOT 2 ACT 2 BUF 0)                  \n",
      "Step #28800.00 (0ms ?*RT. ?UPS, TraCI: 123ms, vehicles TOT 1959 ACT 67 BUF 87)            CI: 35ms, vehicles TOT 2 ACT 2 BUF 0)  \n",
      "Step #28800.00 (1ms ~= 1000.00*RT, ~70000.00UPS, TraCI: 125ms, vehicles TOT 1968 ACT 70 BUCI: 35ms, vehicles TOT 2 ACT 2 BUF 0)  \n",
      "Step #28800.00 (1ms ~= 1000.00*RT, ~66000.00UPS, TraCI: 119ms, vehicles TOT 1954 ACT 66 BUI: 25ms, vehicles TOT 2 ACT 2 BUF 0)  \n",
      "Step #28800.00 (0ms ?*RT. ?UPS, TraCI: 117ms, vehicles TOT 1965 ACT 71 BUF 81)            es TOT 2 ACT 2 BUF 0)                  \n",
      "Step #28800.00 (0ms ?*RT. ?UPS, TraCI: 109ms, vehicles TOT 1955 ACT 68 BUF 91)            es TOT 2 ACT 2 BUF 0)                  \n",
      "Step #28800.00 (0ms ?*RT. ?UPS, TraCI: 120ms, vehicles TOT 1970 ACT 68 BUF 76)            aCI: 91ms, vehicles TOT 626 ACT 103 BU\n",
      "Step #28800.00 (1ms ~= 1000.00*RT, ~69000.00UPS, TraCI: 100ms, vehicles TOT 1969 ACT 69 BUI: 39ms, vehicles TOT 2 ACT 2 BUF 0)  \n",
      "Step #28800.00 (0ms ?*RT. ?UPS, TraCI: 89ms, vehicles TOT 1966 ACT 69 BUF 80)             es TOT 2 ACT 2 BUF 0)                  \n",
      "Step #28800.00 (0ms ?*RT. ?UPS, TraCI: 89ms, vehicles TOT 1969 ACT 71 BUF 77)             CI: 30ms, vehicles TOT 2 ACT 2 BUF 0)  \n",
      "Step #28800.00 (0ms ?*RT. ?UPS, TraCI: 87ms, vehicles TOT 1960 ACT 71 BUF 86)             I: 27ms, vehicles TOT 2 ACT 2 BUF 0)  \n"
     ]
    },
    {
     "name": "stderr",
     "output_type": "stream",
     "text": [
      "\u001b[2m\u001b[36m(RolloutWorker pid=1732)\u001b[0m Warning: Vehicle '213409_443_0' performs emergency braking on lane ':26110729_5_1' with decel=9.00, wished=4.50, severity=1.00, time=27288.00.\n"
     ]
    },
    {
     "name": "stdout",
     "output_type": "stream",
     "text": [
      "Step #27200.00 (1ms ~= 1000.00*RT, ~92000.00UPS, TraCI: 98ms, vehicles TOT 1217 ACT 92 BUFI: 32ms, vehicles TOT 2 ACT 2 BUF 0)  \n",
      "Step #28800.00 (0ms ?*RT. ?UPS, TraCI: 140ms, vehicles TOT 1959 ACT 71 BUF 87)            CI: 26ms, vehicles TOT 2 ACT 2 BUF 0)  \n",
      "Step #28800.00 (0ms ?*RT. ?UPS, TraCI: 131ms, vehicles TOT 1955 ACT 67 BUF 91)            CI: 27ms, vehicles TOT 2 ACT 2 BUF 0)  \n",
      "Step #28800.00 (1ms ~= 1000.00*RT, ~67000.00UPS, TraCI: 135ms, vehicles TOT 1969 ACT 67 BUes TOT 2 ACT 2 BUF 0)                  \n",
      "Step #28800.00 (0ms ?*RT. ?UPS, TraCI: 124ms, vehicles TOT 1962 ACT 69 BUF 84)            s TOT 2 ACT 2 BUF 0)                  \n",
      "Step #28800.00 (0ms ?*RT. ?UPS, TraCI: 124ms, vehicles TOT 1969 ACT 74 BUF 77)            es TOT 1285 ACT 93 BUF 40)            \n",
      "Step #28800.00 (0ms ?*RT. ?UPS, TraCI: 125ms, vehicles TOT 1966 ACT 74 BUF 80)            I: 26ms, vehicles TOT 2 ACT 2 BUF 0)  \n",
      "Step #28800.00 (1ms ~= 1000.00*RT, ~94000.00UPS, TraCI: 87ms, vehicles TOT 1949 ACT 94 BUFes TOT 2 ACT 2 BUF 0)                  \n"
     ]
    },
    {
     "name": "stderr",
     "output_type": "stream",
     "text": [
      "\u001b[2m\u001b[36m(RolloutWorker pid=3200)\u001b[0m Warning: Vehicle '231835_451_0' performs emergency braking on lane ':26110729_5_1' with decel=9.00, wished=4.50, severity=1.00, time=28494.00.\n"
     ]
    },
    {
     "name": "stdout",
     "output_type": "stream",
     "text": [
      "Step #28400.00 (0ms ?*RT. ?UPS, TraCI: 89ms, vehicles TOT 1813 ACT 74 BUF 68)             I: 26ms, vehicles TOT 2 ACT 2 BUF 0)  \n",
      "Step #28800.00 (1ms ~= 1000.00*RT, ~71000.00UPS, TraCI: 83ms, vehicles TOT 1968 ACT 71 BUFCI: 78ms, vehicles TOT 1854 ACT 73 BUF\n",
      "Step #28800.00 (0ms ?*RT. ?UPS, TraCI: 83ms, vehicles TOT 1958 ACT 70 BUF 88)             es TOT 2 ACT 2 BUF 0)                  \n",
      "Step #28800.00 (1ms ~= 1000.00*RT, ~68000.00UPS, TraCI: 81ms, vehicles TOT 1966 ACT 68 BUFes TOT 2 ACT 2 BUF 0)                  \n"
     ]
    },
    {
     "name": "stderr",
     "output_type": "stream",
     "text": [
      "\u001b[2m\u001b[36m(RolloutWorker pid=20048)\u001b[0m Warning: Vehicle '188987_434_0' performs emergency braking on lane ':26110729_5_1' with decel=9.00, wished=4.50, severity=1.00, time=26154.00.\n"
     ]
    },
    {
     "name": "stdout",
     "output_type": "stream",
     "text": [
      "Step #26100.00 (1ms ~= 1000.00*RT, ~93000.00UPS, TraCI: 86ms, vehicles TOT 553 ACT 93 BUF es TOT 2 ACT 2 BUF 0)                  \n",
      "Step #28800.00 (0ms ?*RT. ?UPS, TraCI: 80ms, vehicles TOT 1971 ACT 70 BUF 75)             les TOT 624 ACT 99 BUF 37)             \n",
      "Step #28800.00 (0ms ?*RT. ?UPS, TraCI: 87ms, vehicles TOT 1961 ACT 71 BUF 85)             I: 27ms, vehicles TOT 2 ACT 2 BUF 0)  \n",
      "Step #28800.00 (1ms ~= 1000.00*RT, ~66000.00UPS, TraCI: 87ms, vehicles TOT 1963 ACT 66 BUFs TOT 2 ACT 2 BUF 0)                  \n",
      "Step #28800.00 (1ms ~= 1000.00*RT, ~69000.00UPS, TraCI: 88ms, vehicles TOT 1967 ACT 69 BUFCI: 26ms, vehicles TOT 2 ACT 2 BUF 0)  \n",
      "Step #28800.00 (1ms ~= 1000.00*RT, ~70000.00UPS, TraCI: 82ms, vehicles TOT 1960 ACT 70 BUFCI: 27ms, vehicles TOT 2 ACT 2 BUF 0)  \n",
      "Step #28800.00 (1ms ~= 1000.00*RT, ~71000.00UPS, TraCI: 80ms, vehicles TOT 1987 ACT 71 BUFI: 32ms, vehicles TOT 2 ACT 2 BUF 0)  \n",
      "Step #28800.00 (0ms ?*RT. ?UPS, TraCI: 85ms, vehicles TOT 1966 ACT 71 BUF 80)             es TOT 2 ACT 2 BUF 0)                  \n",
      "Step #28800.00 (0ms ?*RT. ?UPS, TraCI: 99ms, vehicles TOT 1983 ACT 81 BUF 63)             CI: 35ms, vehicles TOT 2 ACT 2 BUF 0)  \n",
      "Step #28800.00 (0ms ?*RT. ?UPS, TraCI: 94ms, vehicles TOT 1969 ACT 71 BUF 77)             I: 35ms, vehicles TOT 2 ACT 2 BUF 0)  \n",
      "Step #28800.00 (0ms ?*RT. ?UPS, TraCI: 93ms, vehicles TOT 1967 ACT 69 BUF 79)             es TOT 2 ACT 2 BUF 0)                  \n",
      "Step #28800.00 (0ms ?*RT. ?UPS, TraCI: 95ms, vehicles TOT 1966 ACT 70 BUF 80)             es TOT 2 ACT 2 BUF 0)                  \n",
      "Step #28800.00 (1ms ~= 1000.00*RT, ~69000.00UPS, TraCI: 98ms, vehicles TOT 1959 ACT 69 BUFI: 37ms, vehicles TOT 2 ACT 2 BUF 0)  \n",
      "Step #28800.00 (1ms ~= 1000.00*RT, ~68000.00UPS, TraCI: 98ms, vehicles TOT 1959 ACT 68 BUFCI: 37ms, vehicles TOT 2 ACT 2 BUF 0)  \n",
      "Step #28800.00 (1ms ~= 1000.00*RT, ~71000.00UPS, TraCI: 91ms, vehicles TOT 1963 ACT 71 BUFCI: 37ms, vehicles TOT 2 ACT 2 BUF 0)  \n",
      "Step #28800.00 (0ms ?*RT. ?UPS, TraCI: 92ms, vehicles TOT 1971 ACT 70 BUF 75)             CI: 40ms, vehicles TOT 2 ACT 2 BUF 0)  \n",
      "Step #28800.00 (0ms ?*RT. ?UPS, TraCI: 94ms, vehicles TOT 1978 ACT 68 BUF 68)             I: 38ms, vehicles TOT 2 ACT 2 BUF 0)  \n",
      "Step #28800.00 (0ms ?*RT. ?UPS, TraCI: 91ms, vehicles TOT 1964 ACT 71 BUF 82)             I: 38ms, vehicles TOT 2 ACT 2 BUF 0)  \n",
      "Step #28800.00 (1ms ~= 1000.00*RT, ~69000.00UPS, TraCI: 104ms, vehicles TOT 1962 ACT 69 BUCI: 41ms, vehicles TOT 2 ACT 2 BUF 0)  \n",
      "Step #28800.00 (0ms ?*RT. ?UPS, TraCI: 100ms, vehicles TOT 1969 ACT 71 BUF 77)            CI: 36ms, vehicles TOT 2 ACT 2 BUF 0)  \n",
      "Step #28800.00 (1ms ~= 1000.00*RT, ~225000.00UPS, TraCI: 110ms, vehicles TOT 1950 ACT 225 I: 41ms, vehicles TOT 2 ACT 2 BUF 0)  \n"
     ]
    },
    {
     "name": "stderr",
     "output_type": "stream",
     "text": [
      "\u001b[2m\u001b[36m(RolloutWorker pid=13580)\u001b[0m Warning: Vehicle '139203_413_0' performs emergency braking on lane ':26110729_5_1' with decel=9.00, wished=4.50, severity=1.00, time=28298.00.\n"
     ]
    },
    {
     "name": "stdout",
     "output_type": "stream",
     "text": [
      "Step #28200.00 (0ms ?*RT. ?UPS, TraCI: 84ms, vehicles TOT 1705 ACT 73 BUF 46)             CI: 36ms, vehicles TOT 2 ACT 2 BUF 0)  \n"
     ]
    },
    {
     "name": "stderr",
     "output_type": "stream",
     "text": [
      "\u001b[2m\u001b[36m(RolloutWorker pid=19280)\u001b[0m Warning: Vehicle '149857_417_0' performs emergency braking on lane ':26110729_7_0' with decel=9.00, wished=4.50, severity=1.00, time=27917.00.\n"
     ]
    },
    {
     "name": "stdout",
     "output_type": "stream",
     "text": [
      "Step #27900.00 (1ms ~= 1000.00*RT, ~74000.00UPS, TraCI: 101ms, vehicles TOT 1568 ACT 74 BUes TOT 2 ACT 2 BUF 0)                  \n",
      "Step #28800.00 (1ms ~= 1000.00*RT, ~66000.00UPS, TraCI: 107ms, vehicles TOT 1957 ACT 66 BUCI: 35ms, vehicles TOT 2 ACT 2 BUF 0)  \n",
      "Step #28800.00 (0ms ?*RT. ?UPS, TraCI: 120ms, vehicles TOT 1958 ACT 68 BUF 88)            CI: 39ms, vehicles TOT 2 ACT 2 BUF 0)  \n",
      "Step #28800.00 (0ms ?*RT. ?UPS, TraCI: 107ms, vehicles TOT 1959 ACT 68 BUF 87)            I: 37ms, vehicles TOT 2 ACT 2 BUF 0)  \n",
      "Step #28800.00 (1ms ~= 1000.00*RT, ~71000.00UPS, TraCI: 103ms, vehicles TOT 1966 ACT 71 BUaCI: 83ms, vehicles TOT 1769 ACT 93 BUF\n",
      "Step #28800.00 (0ms ?*RT. ?UPS, TraCI: 103ms, vehicles TOT 1966 ACT 72 BUF 80)            CI: 40ms, vehicles TOT 2 ACT 2 BUF 0)  \n",
      "Step #28800.00 (1ms ~= 1000.00*RT, ~71000.00UPS, TraCI: 107ms, vehicles TOT 1964 ACT 71 BUs TOT 2 ACT 2 BUF 0)                  \n",
      "Step #28800.00 (1ms ~= 1000.00*RT, ~70000.00UPS, TraCI: 99ms, vehicles TOT 1958 ACT 70 BUFI: 42ms, vehicles TOT 2 ACT 2 BUF 0)  \n",
      "Step #28800.00 (0ms ?*RT. ?UPS, TraCI: 77ms, vehicles TOT 1958 ACT 68 BUF 88)             s TOT 2 ACT 2 BUF 0)                  \n",
      "Step #28800.00 (0ms ?*RT. ?UPS, TraCI: 86ms, vehicles TOT 1966 ACT 73 BUF 80)             es TOT 2 ACT 2 BUF 0)                  \n",
      "Step #28800.00 (0ms ?*RT. ?UPS, TraCI: 85ms, vehicles TOT 1966 ACT 69 BUF 80)             es TOT 1621 ACT 82 BUF 52)             \n"
     ]
    },
    {
     "name": "stderr",
     "output_type": "stream",
     "text": [
      "\u001b[2m\u001b[36m(RolloutWorker pid=24144)\u001b[0m Warning: Vehicle '166723_424_0' performs emergency braking on lane ':26110729_16_0' with decel=9.00, wished=4.50, severity=1.00, time=26157.00.\n"
     ]
    },
    {
     "name": "stdout",
     "output_type": "stream",
     "text": [
      "Step #26100.00 (1ms ~= 1000.00*RT, ~90000.00UPS, TraCI: 92ms, vehicles TOT 552 ACT 90 BUF CI: 25ms, vehicles TOT 2 ACT 2 BUF 0)  \n"
     ]
    },
    {
     "name": "stderr",
     "output_type": "stream",
     "text": [
      "\u001b[2m\u001b[36m(RolloutWorker pid=3200)\u001b[0m Warning: Vehicle '171303_426_0' performs emergency braking on lane ':252017285_20_0' with decel=9.00, wished=4.50, severity=1.00, time=26566.00.\n"
     ]
    },
    {
     "name": "stdout",
     "output_type": "stream",
     "text": [
      "Step #26500.00 (1ms ~= 1000.00*RT, ~104000.00UPS, TraCI: 98ms, vehicles TOT 805 ACT 104 BUI: 23ms, vehicles TOT 2 ACT 2 BUF 0)  \n",
      "Step #27300.00 (1ms ~= 1000.00*RT, ~89000.00UPS, TraCI: 86ms, vehicles TOT 1289 ACT 89 BUFCI: 40ms, vehicles TOT 2 ACT 2 BUF 0)  \n"
     ]
    },
    {
     "name": "stderr",
     "output_type": "stream",
     "text": [
      "\u001b[2m\u001b[36m(RolloutWorker pid=13580)\u001b[0m Warning: Vehicle '166740_424_0' performs emergency braking on lane ':cluster_1098574052_1098574061_247379905_14_0' with decel=9.00, wished=4.50, severity=1.00, time=27992.00.\u001b[32m [repeated 2x across cluster]\u001b[0m\n"
     ]
    },
    {
     "name": "stdout",
     "output_type": "stream",
     "text": [
      "Step #27900.00 (1ms ~= 1000.00*RT, ~101000.00UPS, TraCI: 97ms, vehicles TOT 1565 ACT 101 BCI: 38ms, vehicles TOT 2 ACT 2 BUF 0)  \n",
      "Step #28800.00 (1ms ~= 1000.00*RT, ~67000.00UPS, TraCI: 116ms, vehicles TOT 1958 ACT 67 BUs TOT 2 ACT 2 BUF 0)                  \n",
      "Step #28800.00 (0ms ?*RT. ?UPS, TraCI: 121ms, vehicles TOT 1966 ACT 72 BUF 80)            les TOT 1334 ACT 76 BUF 35)            \n",
      "Step #28800.00 (1ms ~= 1000.00*RT, ~75000.00UPS, TraCI: 121ms, vehicles TOT 1965 ACT 75 BUI: 39ms, vehicles TOT 2 ACT 2 BUF 0)  \n",
      "Step #28800.00 (0ms ?*RT. ?UPS, TraCI: 118ms, vehicles TOT 1958 ACT 67 BUF 88)            CI: 38ms, vehicles TOT 2 ACT 2 BUF 0)  \n",
      "Step #28800.00 (1ms ~= 1000.00*RT, ~71000.00UPS, TraCI: 104ms, vehicles TOT 1961 ACT 71 BUes TOT 2 ACT 2 BUF 0)                  \n",
      "Step #28800.00 (0ms ?*RT. ?UPS, TraCI: 110ms, vehicles TOT 1963 ACT 73 BUF 83)            aCI: 91ms, vehicles TOT 1615 ACT 96 BUF\n",
      "Step #28800.00 (0ms ?*RT. ?UPS, TraCI: 104ms, vehicles TOT 1954 ACT 67 BUF 92)            I: 35ms, vehicles TOT 2 ACT 2 BUF 0)  \n",
      "Step #28200.00 (1ms ~= 1000.00*RT, ~71000.00UPS, TraCI: 72ms, vehicles TOT 1696 ACT 71 BUFaCI: 94ms, vehicles TOT 865 ACT 104 BU\n"
     ]
    },
    {
     "name": "stderr",
     "output_type": "stream",
     "text": [
      "\u001b[2m\u001b[36m(RolloutWorker pid=3200)\u001b[0m Warning: Vehicle '143416_415_0' performs emergency braking on lane ':26110729_7_0' with decel=9.00, wished=4.50, severity=1.00, time=28207.00.\n"
     ]
    },
    {
     "name": "stdout",
     "output_type": "stream",
     "text": [
      "Step #28800.00 (0ms ?*RT. ?UPS, TraCI: 85ms, vehicles TOT 1958 ACT 69 BUF 88)             CI: 100ms, vehicles TOT 1759 ACT 88 BU\n",
      "Step #28800.00 (1ms ~= 1000.00*RT, ~67000.00UPS, TraCI: 83ms, vehicles TOT 1958 ACT 67 BUFraCI: 101ms, vehicles TOT 628 ACT 105 B\n",
      "Step #28800.00 (1ms ~= 1000.00*RT, ~67000.00UPS, TraCI: 84ms, vehicles TOT 1954 ACT 67 BUFCI: 25ms, vehicles TOT 2 ACT 2 BUF 0)  \n"
     ]
    },
    {
     "name": "stderr",
     "output_type": "stream",
     "text": [
      "\u001b[2m\u001b[36m(RolloutWorker pid=1732)\u001b[0m Warning: Vehicle '167113_425_0' performs emergency braking on lane ':26110729_5_1' with decel=9.00, wished=4.50, severity=1.00, time=26904.00.\n"
     ]
    },
    {
     "name": "stdout",
     "output_type": "stream",
     "text": [
      "Step #26900.00 (0ms ?*RT. ?UPS, TraCI: 90ms, vehicles TOT 1018 ACT 99 BUF 60)             s TOT 2 ACT 2 BUF 0)                  \n"
     ]
    },
    {
     "name": "stderr",
     "output_type": "stream",
     "text": [
      "\u001b[2m\u001b[36m(RolloutWorker pid=20048)\u001b[0m Warning: Vehicle '144900_416_0' performs emergency braking on lane ':26110729_14_1' with decel=9.00, wished=4.50, severity=1.00, time=27263.00.\n"
     ]
    },
    {
     "name": "stdout",
     "output_type": "stream",
     "text": [
      "Step #27200.00 (1ms ~= 1000.00*RT, ~93000.00UPS, TraCI: 99ms, vehicles TOT 1221 ACT 93 BUFes TOT 2 ACT 2 BUF 0)                  \n"
     ]
    },
    {
     "name": "stderr",
     "output_type": "stream",
     "text": [
      "\u001b[2m\u001b[36m(RolloutWorker pid=24144)\u001b[0m Warning: Vehicle '184516_431_0' performs emergency braking on lane '186623965#9_1' with decel=9.00, wished=4.50, severity=1.00, time=27649.00.\n"
     ]
    },
    {
     "name": "stdout",
     "output_type": "stream",
     "text": [
      "Step #27600.00 (1ms ~= 1000.00*RT, ~104000.00UPS, TraCI: 104ms, vehicles TOT 1438 ACT 104 CI: 24ms, vehicles TOT 2 ACT 2 BUF 0)  \n"
     ]
    },
    {
     "name": "stderr",
     "output_type": "stream",
     "text": [
      "\u001b[2m\u001b[36m(RolloutWorker pid=3200)\u001b[0m Warning: Vehicle '149857_417_0' performs emergency braking on lane ':26110729_7_0' with decel=9.00, wished=4.50, severity=1.00, time=27917.00.\n"
     ]
    },
    {
     "name": "stdout",
     "output_type": "stream",
     "text": [
      "Step #27900.00 (0ms ?*RT. ?UPS, TraCI: 82ms, vehicles TOT 1570 ACT 78 BUF 50)             I: 23ms, vehicles TOT 2 ACT 2 BUF 0)  \n",
      "Step #28800.00 (0ms ?*RT. ?UPS, TraCI: 125ms, vehicles TOT 1958 ACT 69 BUF 88)            CI: 29ms, vehicles TOT 2 ACT 2 BUF 0)  \n",
      "Step #28800.00 (0ms ?*RT. ?UPS, TraCI: 136ms, vehicles TOT 1974 ACT 67 BUF 72)            es TOT 2 ACT 2 BUF 0)                  \n",
      "Step #28800.00 (1ms ~= 1000.00*RT, ~72000.00UPS, TraCI: 132ms, vehicles TOT 1965 ACT 72 BUI: 25ms, vehicles TOT 2 ACT 2 BUF 0)  \n",
      "Step #28800.00 (1ms ~= 1000.00*RT, ~68000.00UPS, TraCI: 125ms, vehicles TOT 1966 ACT 68 BUes TOT 2 ACT 2 BUF 0)                  \n",
      "Step #28800.00 (0ms ?*RT. ?UPS, TraCI: 122ms, vehicles TOT 1968 ACT 71 BUF 78)            CI: 89ms, vehicles TOT 1084 ACT 95 BUF\n",
      "Step #28800.00 (1ms ~= 1000.00*RT, ~69000.00UPS, TraCI: 131ms, vehicles TOT 1958 ACT 69 BUI: 30ms, vehicles TOT 2 ACT 2 BUF 0)  \n",
      "Step #28800.00 (0ms ?*RT. ?UPS, TraCI: 99ms, vehicles TOT 1961 ACT 85 BUF 85)             aCI: 142ms, vehicles TOT 1280 ACT 88 BU\n",
      "Step #28800.00 (0ms ?*RT. ?UPS, TraCI: 85ms, vehicles TOT 1966 ACT 74 BUF 80)             s TOT 1622 ACT 82 BUF 51)             \n",
      "Step #28800.00 (0ms ?*RT. ?UPS, TraCI: 83ms, vehicles TOT 1957 ACT 66 BUF 89)             aCI: 126ms, vehicles TOT 1486 ACT 97 BU\n",
      "Step #28800.00 (0ms ?*RT. ?UPS, TraCI: 82ms, vehicles TOT 1971 ACT 70 BUF 75)             es TOT 2 ACT 2 BUF 0)                  \n"
     ]
    },
    {
     "name": "stderr",
     "output_type": "stream",
     "text": [
      "\u001b[2m\u001b[36m(RolloutWorker pid=20048)\u001b[0m Warning: Vehicle '143416_415_0' performs emergency braking on lane ':26110729_7_0' with decel=9.00, wished=4.50, severity=1.00, time=28207.00.\n"
     ]
    },
    {
     "name": "stdout",
     "output_type": "stream",
     "text": [
      "Step #28200.00 (0ms ?*RT. ?UPS, TraCI: 147ms, vehicles TOT 1712 ACT 70 BUF 39)            CI: 22ms, vehicles TOT 2 ACT 2 BUF 0)  \n",
      "Step #28800.00 (1ms ~= 1000.00*RT, ~67000.00UPS, TraCI: 82ms, vehicles TOT 1969 ACT 67 BUFaCI: 83ms, vehicles TOT 1776 ACT 92 BUF\n",
      "Step #28800.00 (1ms ~= 1000.00*RT, ~69000.00UPS, TraCI: 82ms, vehicles TOT 1958 ACT 69 BUFes TOT 2 ACT 2 BUF 0)                  \n",
      "Step #28800.00 (1ms ~= 1000.00*RT, ~69000.00UPS, TraCI: 81ms, vehicles TOT 1968 ACT 69 BUFI: 30ms, vehicles TOT 2 ACT 2 BUF 0)  \n",
      "Step #28800.00 (0ms ?*RT. ?UPS, TraCI: 86ms, vehicles TOT 1970 ACT 71 BUF 76)             es TOT 2 ACT 2 BUF 0)                  \n",
      "Step #28800.00 (1ms ~= 1000.00*RT, ~71000.00UPS, TraCI: 79ms, vehicles TOT 1942 ACT 71 BUFCI: 32ms, vehicles TOT 2 ACT 2 BUF 0)  \n",
      "Step #28800.00 (1ms ~= 1000.00*RT, ~67000.00UPS, TraCI: 83ms, vehicles TOT 1952 ACT 67 BUFI: 27ms, vehicles TOT 2 ACT 2 BUF 0)  \n",
      "Step #28800.00 (1ms ~= 1000.00*RT, ~71000.00UPS, TraCI: 81ms, vehicles TOT 1965 ACT 71 BUFs TOT 2 ACT 2 BUF 0)                  \n",
      "Step #28800.00 (1ms ~= 1000.00*RT, ~65000.00UPS, TraCI: 98ms, vehicles TOT 1950 ACT 65 BUFs TOT 2 ACT 2 BUF 0)                  \n",
      "Step #28800.00 (0ms ?*RT. ?UPS, TraCI: 95ms, vehicles TOT 1962 ACT 70 BUF 84)             es TOT 2 ACT 2 BUF 0)                  \n",
      "Step #28800.00 (1ms ~= 1000.00*RT, ~69000.00UPS, TraCI: 96ms, vehicles TOT 1957 ACT 69 BUFes TOT 2 ACT 2 BUF 0)                  \n"
     ]
    },
    {
     "name": "stderr",
     "output_type": "stream",
     "text": [
      "\u001b[2m\u001b[36m(RolloutWorker pid=13628)\u001b[0m Warning: Vehicle '190542_435_0' performs emergency braking on lane ':26110729_16_0' with decel=9.00, wished=4.50, severity=1.00, time=26097.00.\n"
     ]
    },
    {
     "name": "stdout",
     "output_type": "stream",
     "text": [
      "Step #26000.00 (0ms ?*RT. ?UPS, TraCI: 87ms, vehicles TOT 473 ACT 90 BUF 13)              CI: 35ms, vehicles TOT 2 ACT 2 BUF 0)  \n"
     ]
    },
    {
     "name": "stderr",
     "output_type": "stream",
     "text": [
      "\u001b[2m\u001b[36m(RolloutWorker pid=21792)\u001b[0m Warning: Vehicle '190010_434_0' performs emergency braking on lane ':26110729_16_0' with decel=9.00, wished=4.50, severity=1.00, time=26177.00.\n"
     ]
    },
    {
     "name": "stdout",
     "output_type": "stream",
     "text": [
      "Step #26100.00 (0ms ?*RT. ?UPS, TraCI: 149ms, vehicles TOT 558 ACT 91 BUF 24)             es TOT 2 ACT 2 BUF 0)                  \n"
     ]
    },
    {
     "name": "stderr",
     "output_type": "stream",
     "text": [
      "\u001b[2m\u001b[36m(RolloutWorker pid=21792)\u001b[0m Warning: Vehicle '178434_430_0' performs emergency braking on lane ':26110729_5_1' with decel=9.00, wished=4.50, severity=1.00, time=27303.00.\n"
     ]
    },
    {
     "name": "stdout",
     "output_type": "stream",
     "text": [
      "Step #27300.00 (1ms ~= 1000.00*RT, ~91000.00UPS, TraCI: 83ms, vehicles TOT 1297 ACT 91 BUFraCI: 94ms, vehicles TOT 633 ACT 104 BU\n"
     ]
    },
    {
     "name": "stderr",
     "output_type": "stream",
     "text": [
      "\u001b[2m\u001b[36m(RolloutWorker pid=1732)\u001b[0m Warning: Vehicle '149857_417_0' performs emergency braking on lane ':26110729_7_0' with decel=9.00, wished=4.50, severity=1.00, time=27917.00.\n"
     ]
    },
    {
     "name": "stdout",
     "output_type": "stream",
     "text": [
      "Step #27900.00 (1ms ~= 1000.00*RT, ~74000.00UPS, TraCI: 84ms, vehicles TOT 1564 ACT 74 BUFs TOT 2 ACT 2 BUF 0)                  \n"
     ]
    },
    {
     "name": "stderr",
     "output_type": "stream",
     "text": [
      "\u001b[2m\u001b[36m(RolloutWorker pid=20048)\u001b[0m Warning: Vehicle '143416_415_0' performs emergency braking on lane ':26110729_7_0' with decel=9.00, wished=4.50, severity=1.00, time=28207.00.\n"
     ]
    },
    {
     "name": "stdout",
     "output_type": "stream",
     "text": [
      "Step #28200.00 (1ms ~= 1000.00*RT, ~70000.00UPS, TraCI: 81ms, vehicles TOT 1699 ACT 70 BUFes TOT 2 ACT 2 BUF 0)                  \n",
      "Step #28800.00 (0ms ?*RT. ?UPS, TraCI: 99ms, vehicles TOT 1967 ACT 73 BUF 79)             aCI: 83ms, vehicles TOT 1763 ACT 90 BUF\n",
      "Step #28800.00 (1ms ~= 1000.00*RT, ~71000.00UPS, TraCI: 97ms, vehicles TOT 1960 ACT 71 BUFCI: 30ms, vehicles TOT 2 ACT 2 BUF 0)  \n",
      "Step #28800.00 (0ms ?*RT. ?UPS, TraCI: 95ms, vehicles TOT 1965 ACT 71 BUF 81)             CI: 83ms, vehicles TOT 1618 ACT 83 BUF\n",
      "Step #28800.00 (1ms ~= 1000.00*RT, ~68000.00UPS, TraCI: 97ms, vehicles TOT 1969 ACT 68 BUFI: 37ms, vehicles TOT 2 ACT 2 BUF 0)  \n",
      "Step #28800.00 (1ms ~= 1000.00*RT, ~67000.00UPS, TraCI: 94ms, vehicles TOT 1975 ACT 67 BUFes TOT 1341 ACT 76 BUF 28)             \n",
      "Step #28800.00 (0ms ?*RT. ?UPS, TraCI: 96ms, vehicles TOT 1961 ACT 72 BUF 85)             I: 36ms, vehicles TOT 2 ACT 2 BUF 0)  \n",
      "Step #28800.00 (0ms ?*RT. ?UPS, TraCI: 88ms, vehicles TOT 1955 ACT 70 BUF 91)             aCI: 139ms, vehicles TOT 554 ACT 90 BUF\n",
      "Step #28800.00 (0ms ?*RT. ?UPS, TraCI: 106ms, vehicles TOT 1963 ACT 70 BUF 83)            CI: 42ms, vehicles TOT 2 ACT 2 BUF 0)  \n",
      "Step #28800.00 (1ms ~= 1000.00*RT, ~67000.00UPS, TraCI: 106ms, vehicles TOT 1957 ACT 67 BUCI: 37ms, vehicles TOT 2 ACT 2 BUF 0)  \n",
      "Step #28800.00 (0ms ?*RT. ?UPS, TraCI: 99ms, vehicles TOT 1967 ACT 69 BUF 79)             I: 40ms, vehicles TOT 2 ACT 2 BUF 0)  \n"
     ]
    },
    {
     "name": "stderr",
     "output_type": "stream",
     "text": [
      "\u001b[2m\u001b[36m(RolloutWorker pid=20048)\u001b[0m Warning: Vehicle '188987_434_0' performs emergency braking on lane '186623965#9_1' with decel=9.00, wished=4.50, severity=1.00, time=26154.00.\n"
     ]
    },
    {
     "name": "stdout",
     "output_type": "stream",
     "text": [
      "Step #26100.00 (1ms ~= 1000.00*RT, ~91000.00UPS, TraCI: 86ms, vehicles TOT 555 ACT 91 BUF CI: 31ms, vehicles TOT 2 ACT 2 BUF 0)  \n"
     ]
    },
    {
     "name": "stderr",
     "output_type": "stream",
     "text": [
      "\u001b[2m\u001b[36m(RolloutWorker pid=9256)\u001b[0m Warning: Vehicle '155045_420_0' performs emergency braking on lane '186623965#9_1' with decel=9.00, wished=4.50, severity=1.00, time=26411.00.\n"
     ]
    },
    {
     "name": "stdout",
     "output_type": "stream",
     "text": [
      "Step #26400.00 (0ms ?*RT. ?UPS, TraCI: 83ms, vehicles TOT 758 ACT 101 BUF 65)             I: 39ms, vehicles TOT 2 ACT 2 BUF 0)  \n"
     ]
    },
    {
     "name": "stderr",
     "output_type": "stream",
     "text": [
      "\u001b[2m\u001b[36m(RolloutWorker pid=3060)\u001b[0m Warning: Vehicle '156336_420_0' performs emergency braking on lane ':26110729_16_0' with decel=9.00, wished=4.50, severity=1.00, time=27277.00.\n"
     ]
    },
    {
     "name": "stdout",
     "output_type": "stream",
     "text": [
      "Step #27200.00 (0ms ?*RT. ?UPS, TraCI: 91ms, vehicles TOT 1226 ACT 89 BUF 41)             I: 38ms, vehicles TOT 2 ACT 2 BUF 0)  \n"
     ]
    },
    {
     "name": "stderr",
     "output_type": "stream",
     "text": [
      "\u001b[2m\u001b[36m(RolloutWorker pid=1732)\u001b[0m Warning: Vehicle '186121_432_0' performs emergency braking on lane ':26110729_7_0' with decel=9.00, wished=4.50, severity=1.00, time=27712.00.\n"
     ]
    },
    {
     "name": "stdout",
     "output_type": "stream",
     "text": [
      "Step #27700.00 (1ms ~= 1000.00*RT, ~95000.00UPS, TraCI: 92ms, vehicles TOT 1482 ACT 95 BUFI: 36ms, vehicles TOT 2 ACT 2 BUF 0)  \n",
      "Step #28800.00 (1ms ~= 1000.00*RT, ~74000.00UPS, TraCI: 106ms, vehicles TOT 1969 ACT 74 BUaCI: 88ms, vehicles TOT 627 ACT 99 BUF \n",
      "Step #28800.00 (0ms ?*RT. ?UPS, TraCI: 106ms, vehicles TOT 1962 ACT 69 BUF 84)            es TOT 2 ACT 2 BUF 0)                  \n",
      "Step #28800.00 (1ms ~= 1000.00*RT, ~64000.00UPS, TraCI: 108ms, vehicles TOT 1952 ACT 64 BUes TOT 801 ACT 91 BUF 79)             \n",
      "Step #28800.00 (0ms ?*RT. ?UPS, TraCI: 91ms, vehicles TOT 1966 ACT 72 BUF 80)             es TOT 2 ACT 2 BUF 0)                  \n",
      "Step #28800.00 (0ms ?*RT. ?UPS, TraCI: 99ms, vehicles TOT 1970 ACT 69 BUF 76)             CI: 86ms, vehicles TOT 1291 ACT 92 BUF\n",
      "Step #28800.00 (0ms ?*RT. ?UPS, TraCI: 92ms, vehicles TOT 1962 ACT 70 BUF 84)             es TOT 2 ACT 2 BUF 0)                  \n",
      "Step #28800.00 (0ms ?*RT. ?UPS, TraCI: 101ms, vehicles TOT 1954 ACT 68 BUF 92)            s TOT 1510 ACT 69 BUF 65)             \n",
      "Step #28800.00 (0ms ?*RT. ?UPS, TraCI: 80ms, vehicles TOT 1958 ACT 67 BUF 88)             I: 26ms, vehicles TOT 2 ACT 2 BUF 0)  \n",
      "Step #28800.00 (1ms ~= 1000.00*RT, ~67000.00UPS, TraCI: 80ms, vehicles TOT 1958 ACT 67 BUFCI: 24ms, vehicles TOT 2 ACT 2 BUF 0)  \n",
      "Step #28800.00 (0ms ?*RT. ?UPS, TraCI: 78ms, vehicles TOT 1959 ACT 70 BUF 87)             CI: 25ms, vehicles TOT 2 ACT 2 BUF 0)  \n"
     ]
    },
    {
     "name": "stderr",
     "output_type": "stream",
     "text": [
      "\u001b[2m\u001b[36m(RolloutWorker pid=9256)\u001b[0m Warning: Vehicle '188987_434_0' performs emergency braking on lane ':26110729_5_1' with decel=9.00, wished=4.50, severity=1.00, time=26154.00.\n"
     ]
    },
    {
     "name": "stdout",
     "output_type": "stream",
     "text": [
      "Step #26100.00 (1ms ~= 1000.00*RT, ~93000.00UPS, TraCI: 84ms, vehicles TOT 553 ACT 93 BUF I: 30ms, vehicles TOT 2 ACT 2 BUF 0)  \n"
     ]
    },
    {
     "name": "stderr",
     "output_type": "stream",
     "text": [
      "\u001b[2m\u001b[36m(RolloutWorker pid=3060)\u001b[0m Warning: Vehicle '166451_424_0' performs emergency braking on lane '-28675510#11_0' with decel=9.00, wished=4.50, severity=1.00, time=26352.00.\n"
     ]
    },
    {
     "name": "stdout",
     "output_type": "stream",
     "text": [
      "Step #26300.00 (1ms ~= 1000.00*RT, ~120000.00UPS, TraCI: 77ms, vehicles TOT 709 ACT 120 BUI: 42ms, vehicles TOT 2 ACT 2 BUF 0)  \n"
     ]
    },
    {
     "name": "stderr",
     "output_type": "stream",
     "text": [
      "\u001b[2m\u001b[36m(RolloutWorker pid=21792)\u001b[0m Warning: Vehicle '176560_429_0' performs emergency braking on lane ':cluster_1098574052_1098574061_247379905_14_0' with decel=9.00, wished=4.50, severity=1.00, time=27642.00.\n"
     ]
    },
    {
     "name": "stdout",
     "output_type": "stream",
     "text": [
      "Step #27600.00 (1ms ~= 1000.00*RT, ~103000.00UPS, TraCI: 101ms, vehicles TOT 1439 ACT 103 CI: 43ms, vehicles TOT 2 ACT 2 BUF 0)  \n",
      "Step #28800.00 (1ms ~= 1000.00*RT, ~72000.00UPS, TraCI: 112ms, vehicles TOT 1967 ACT 72 BUaCI: 132ms, vehicles TOT 756 ACT 102 B\n",
      "Step #28800.00 (1ms ~= 1000.00*RT, ~66000.00UPS, TraCI: 111ms, vehicles TOT 1954 ACT 66 BUCI: 30ms, vehicles TOT 2 ACT 2 BUF 0)  \n",
      "Step #28800.00 (0ms ?*RT. ?UPS, TraCI: 116ms, vehicles TOT 1965 ACT 69 BUF 81)            es TOT 1487 ACT 100 BUF 56)            \n",
      "Step #28800.00 (0ms ?*RT. ?UPS, TraCI: 112ms, vehicles TOT 1959 ACT 70 BUF 87)            CI: 30ms, vehicles TOT 2 ACT 2 BUF 0)  \n",
      "Step #28800.00 (1ms ~= 1000.00*RT, ~73000.00UPS, TraCI: 116ms, vehicles TOT 1963 ACT 73 BUes TOT 2 ACT 2 BUF 0)                  \n",
      "Step #28800.00 (0ms ?*RT. ?UPS, TraCI: 116ms, vehicles TOT 1966 ACT 70 BUF 80)            aCI: 96ms, vehicles TOT 625 ACT 103 BU\n",
      "Step #28800.00 (1ms ~= 1000.00*RT, ~73000.00UPS, TraCI: 93ms, vehicles TOT 1967 ACT 73 BUFI: 41ms, vehicles TOT 2 ACT 2 BUF 0)  \n",
      "Step #28800.00 (0ms ?*RT. ?UPS, TraCI: 89ms, vehicles TOT 1964 ACT 73 BUF 82)             I: 31ms, vehicles TOT 2 ACT 2 BUF 0)  \n",
      "Step #28800.00 (0ms ?*RT. ?UPS, TraCI: 87ms, vehicles TOT 1966 ACT 75 BUF 80)             CI: 33ms, vehicles TOT 2 ACT 2 BUF 0)  \n",
      "Step #28800.00 (0ms ?*RT. ?UPS, TraCI: 85ms, vehicles TOT 1958 ACT 70 BUF 88)             CI: 27ms, vehicles TOT 2 ACT 2 BUF 0)  \n"
     ]
    },
    {
     "name": "stderr",
     "output_type": "stream",
     "text": [
      "\u001b[2m\u001b[36m(RolloutWorker pid=13580)\u001b[0m Warning: Vehicle '188987_434_0' performs emergency braking on lane ':26110729_5_1' with decel=9.00, wished=4.50, severity=1.00, time=26154.00.\n"
     ]
    },
    {
     "name": "stdout",
     "output_type": "stream",
     "text": [
      "Step #26100.00 (1ms ~= 1000.00*RT, ~89000.00UPS, TraCI: 90ms, vehicles TOT 552 ACT 89 BUF es TOT 2 ACT 2 BUF 0)                  \n"
     ]
    },
    {
     "name": "stderr",
     "output_type": "stream",
     "text": [
      "\u001b[2m\u001b[36m(RolloutWorker pid=3060)\u001b[0m Warning: Vehicle '186121_432_0' performs emergency braking on lane ':26110729_7_0' with decel=9.00, wished=4.50, severity=1.00, time=27712.00.\n",
      "\u001b[2m\u001b[36m(RolloutWorker pid=3060)\u001b[0m Warning: Vehicle '251019_457_0' performs emergency braking on lane ':26110729_14_1' with decel=9.00, wished=4.50, severity=1.00, time=27713.00.\n"
     ]
    },
    {
     "name": "stdout",
     "output_type": "stream",
     "text": [
      "Step #27700.00 (0ms ?*RT. ?UPS, TraCI: 97ms, vehicles TOT 1491 ACT 93 BUF 52)             s TOT 2 ACT 2 BUF 0)                  \n",
      "Step #28800.00 (0ms ?*RT. ?UPS, TraCI: 129ms, vehicles TOT 1958 ACT 69 BUF 88)            CI: 30ms, vehicles TOT 2 ACT 2 BUF 0)  \n",
      "Step #28800.00 (0ms ?*RT. ?UPS, TraCI: 123ms, vehicles TOT 1963 ACT 70 BUF 83)            es TOT 2 ACT 2 BUF 0)                  \n",
      "Step #28800.00 (1ms ~= 1000.00*RT, ~69000.00UPS, TraCI: 120ms, vehicles TOT 1959 ACT 69 BUs TOT 2 ACT 2 BUF 0)                  \n",
      "Step #28800.00 (1ms ~= 1000.00*RT, ~67000.00UPS, TraCI: 127ms, vehicles TOT 1952 ACT 67 BUI: 29ms, vehicles TOT 2 ACT 2 BUF 0)  \n",
      "Step #28800.00 (1ms ~= 1000.00*RT, ~69000.00UPS, TraCI: 118ms, vehicles TOT 1969 ACT 69 BUCI: 113ms, vehicles TOT 1518 ACT 69 BU\n",
      "Step #28800.00 (1ms ~= 1000.00*RT, ~70000.00UPS, TraCI: 119ms, vehicles TOT 1979 ACT 70 BUaCI: 79ms, vehicles TOT 624 ACT 99 BUF \n",
      "Step #28800.00 (0ms ?*RT. ?UPS, TraCI: 117ms, vehicles TOT 1966 ACT 71 BUF 80)            CI: 29ms, vehicles TOT 2 ACT 2 BUF 0)  \n",
      "Step #28800.00 (0ms ?*RT. ?UPS, TraCI: 87ms, vehicles TOT 1964 ACT 70 BUF 82)             I: 24ms, vehicles TOT 2 ACT 2 BUF 0)  \n",
      "Step #28800.00 (0ms ?*RT. ?UPS, TraCI: 95ms, vehicles TOT 1974 ACT 72 BUF 72)             CI: 27ms, vehicles TOT 2 ACT 2 BUF 0)  \n",
      "Step #28800.00 (0ms ?*RT. ?UPS, TraCI: 88ms, vehicles TOT 1964 ACT 71 BUF 82)             CI: 28ms, vehicles TOT 2 ACT 2 BUF 0)  \n"
     ]
    },
    {
     "name": "stderr",
     "output_type": "stream",
     "text": [
      "\u001b[2m\u001b[36m(RolloutWorker pid=19280)\u001b[0m Warning: Vehicle '201329_438_0' performs emergency braking on lane ':cluster_1098574052_1098574061_247379905_14_0' with decel=9.00, wished=4.50, severity=1.00, time=26282.00.\n"
     ]
    },
    {
     "name": "stdout",
     "output_type": "stream",
     "text": [
      "Step #26200.00 (0ms ?*RT. ?UPS, TraCI: 90ms, vehicles TOT 622 ACT 101 BUF 39)             es TOT 2 ACT 2 BUF 0)                  \n"
     ]
    },
    {
     "name": "stderr",
     "output_type": "stream",
     "text": [
      "\u001b[2m\u001b[36m(RolloutWorker pid=3200)\u001b[0m Warning: Vehicle '144619_416_0' performs emergency braking on lane ':26110729_7_0' with decel=9.00, wished=4.50, severity=1.00, time=26792.00.\n"
     ]
    },
    {
     "name": "stdout",
     "output_type": "stream",
     "text": [
      "Step #26700.00 (0ms ?*RT. ?UPS, TraCI: 84ms, vehicles TOT 902 ACT 77 BUF 77)              I: 33ms, vehicles TOT 2 ACT 2 BUF 0)  \n",
      "Step #28800.00 (1ms ~= 1000.00*RT, ~72000.00UPS, TraCI: 82ms, vehicles TOT 1963 ACT 72 BUFs TOT 2 ACT 2 BUF 0)                  \n",
      "Step #28800.00 (0ms ?*RT. ?UPS, TraCI: 83ms, vehicles TOT 1952 ACT 66 BUF 94)             es TOT 2 ACT 2 BUF 0)                  \n",
      "Step #28800.00 (0ms ?*RT. ?UPS, TraCI: 86ms, vehicles TOT 1961 ACT 70 BUF 85)             CI: 28ms, vehicles TOT 2 ACT 2 BUF 0)  \n",
      "Step #28800.00 (0ms ?*RT. ?UPS, TraCI: 83ms, vehicles TOT 1967 ACT 70 BUF 79)             CI: 27ms, vehicles TOT 2 ACT 2 BUF 0)  \n",
      "Step #28800.00 (1ms ~= 1000.00*RT, ~73000.00UPS, TraCI: 84ms, vehicles TOT 1966 ACT 73 BUFs TOT 2 ACT 2 BUF 0)                  \n",
      "Step #28800.00 (1ms ~= 1000.00*RT, ~80000.00UPS, TraCI: 73ms, vehicles TOT 1964 ACT 80 BUFI: 24ms, vehicles TOT 2 ACT 2 BUF 0)  \n",
      "Step #28800.00 (1ms ~= 1000.00*RT, ~86000.00UPS, TraCI: 66ms, vehicles TOT 1958 ACT 86 BUFes TOT 2 ACT 2 BUF 0)                  \n",
      "Step #28800.00 (0ms ?*RT. ?UPS, TraCI: 95ms, vehicles TOT 1962 ACT 69 BUF 84)             CI: 78ms, vehicles TOT 944 ACT 80 BUF \n",
      "Step #28800.00 (0ms ?*RT. ?UPS, TraCI: 96ms, vehicles TOT 1972 ACT 68 BUF 74)             CI: 36ms, vehicles TOT 2 ACT 2 BUF 0)  \n",
      "Step #28800.00 (1ms ~= 1000.00*RT, ~65000.00UPS, TraCI: 94ms, vehicles TOT 1955 ACT 65 BUFraCI: 98ms, vehicles TOT 706 ACT 121 BU\n"
     ]
    },
    {
     "name": "stderr",
     "output_type": "stream",
     "text": [
      "\u001b[2m\u001b[36m(RolloutWorker pid=21792)\u001b[0m Warning: Vehicle '188987_434_0' performs emergency braking on lane '186623965#9_1' with decel=9.00, wished=4.50, severity=1.00, time=26154.00.\n",
      "\u001b[2m\u001b[36m(RolloutWorker pid=13628)\u001b[0m Warning: Vehicle '166723_424_0' performs emergency braking on lane ':26110729_16_0' with decel=9.00, wished=4.50, severity=1.00, time=26157.00.\n"
     ]
    },
    {
     "name": "stdout",
     "output_type": "stream",
     "text": [
      "Step #26100.00 (1ms ~= 1000.00*RT, ~90000.00UPS, TraCI: 145ms, vehicles TOT 553 ACT 90 BUFCI: 35ms, vehicles TOT 2 ACT 2 BUF 0)  \n",
      "Step #26100.00 (1ms ~= 1000.00*RT, ~91000.00UPS, TraCI: 148ms, vehicles TOT 552 ACT 91 BUFCI: 38ms, vehicles TOT 2 ACT 2 BUF 0)  \n",
      "Step #26100.00 (1ms ~= 1000.00*RT, ~97000.00UPS, TraCI: 145ms, vehicles TOT 556 ACT 97 BUFCI: 36ms, vehicles TOT 2 ACT 2 BUF 0)  \n"
     ]
    },
    {
     "name": "stderr",
     "output_type": "stream",
     "text": [
      "\u001b[2m\u001b[36m(RolloutWorker pid=1732)\u001b[0m Warning: Vehicle '148523_417_0' performs emergency braking on lane ':26110729_7_0' with decel=9.00, wished=4.50, severity=1.00, time=28657.00.\u001b[32m [repeated 2x across cluster]\u001b[0m\n"
     ]
    },
    {
     "name": "stdout",
     "output_type": "stream",
     "text": [
      "Step #28600.00 (1ms ~= 1000.00*RT, ~70000.00UPS, TraCI: 150ms, vehicles TOT 1889 ACT 70 BUI: 37ms, vehicles TOT 2 ACT 2 BUF 0)  \n",
      "Step #28800.00 (0ms ?*RT. ?UPS, TraCI: 96ms, vehicles TOT 1978 ACT 70 BUF 68)             raCI: 96ms, vehicles TOT 627 ACT 108 BU\n",
      "Step #28800.00 (1ms ~= 1000.00*RT, ~72000.00UPS, TraCI: 107ms, vehicles TOT 1969 ACT 72 BUCI: 35ms, vehicles TOT 2 ACT 2 BUF 0)  \n",
      "Step #28800.00 (0ms ?*RT. ?UPS, TraCI: 95ms, vehicles TOT 1965 ACT 70 BUF 81)             les TOT 623 ACT 103 BUF 38)            \n",
      "Step #28800.00 (0ms ?*RT. ?UPS, TraCI: 97ms, vehicles TOT 1969 ACT 74 BUF 77)             CI: 80ms, vehicles TOT 1933 ACT 84 BUF\n",
      "Step #28800.00 (1ms ~= 1000.00*RT, ~69000.00UPS, TraCI: 98ms, vehicles TOT 1970 ACT 69 BUFI: 32ms, vehicles TOT 2 ACT 2 BUF 0)  \n",
      "Step #28800.00 (1ms ~= 1000.00*RT, ~68000.00UPS, TraCI: 87ms, vehicles TOT 1975 ACT 68 BUFles TOT 626 ACT 101 BUF 35)            \n",
      "Step #28800.00 (1ms ~= 1000.00*RT, ~69000.00UPS, TraCI: 91ms, vehicles TOT 1963 ACT 69 BUFI: 36ms, vehicles TOT 2 ACT 2 BUF 0)  \n",
      "Step #28800.00 (1ms ~= 1000.00*RT, ~69000.00UPS, TraCI: 105ms, vehicles TOT 1966 ACT 69 BUCI: 38ms, vehicles TOT 2 ACT 2 BUF 0)  \n",
      "Step #28800.00 (1ms ~= 1000.00*RT, ~83000.00UPS, TraCI: 106ms, vehicles TOT 1974 ACT 83 BUI: 37ms, vehicles TOT 2 ACT 2 BUF 0)  \n",
      "Step #28800.00 (0ms ?*RT. ?UPS, TraCI: 113ms, vehicles TOT 1950 ACT 95 BUF 96)            CI: 35ms, vehicles TOT 2 ACT 2 BUF 0)  \n"
     ]
    },
    {
     "name": "stderr",
     "output_type": "stream",
     "text": [
      "\u001b[2m\u001b[36m(RolloutWorker pid=3200)\u001b[0m Warning: Vehicle '188987_434_0' performs emergency braking on lane '186623965#9_1' with decel=9.00, wished=4.50, severity=1.00, time=26154.00.\n"
     ]
    },
    {
     "name": "stdout",
     "output_type": "stream",
     "text": [
      "Step #26100.00 (0ms ?*RT. ?UPS, TraCI: 91ms, vehicles TOT 552 ACT 94 BUF 30)              I: 25ms, vehicles TOT 2 ACT 2 BUF 0)  \n"
     ]
    },
    {
     "name": "stderr",
     "output_type": "stream",
     "text": [
      "\u001b[2m\u001b[36m(RolloutWorker pid=9256)\u001b[0m Warning: Vehicle '161407_421_0' performs emergency braking on lane ':26110729_5_1' with decel=9.00, wished=4.50, severity=1.00, time=26954.00.\n"
     ]
    },
    {
     "name": "stdout",
     "output_type": "stream",
     "text": [
      "Step #26900.00 (1ms ~= 1000.00*RT, ~99000.00UPS, TraCI: 89ms, vehicles TOT 1017 ACT 99 BUFI: 35ms, vehicles TOT 2 ACT 2 BUF 0)  \n"
     ]
    },
    {
     "name": "stderr",
     "output_type": "stream",
     "text": [
      "\u001b[2m\u001b[36m(RolloutWorker pid=13580)\u001b[0m Warning: Vehicle '216046_445_0' performs emergency braking on lane ':26110729_16_0' with decel=9.00, wished=4.50, severity=1.00, time=27517.00.\n"
     ]
    },
    {
     "name": "stdout",
     "output_type": "stream",
     "text": [
      "Step #27500.00 (1ms ~= 1000.00*RT, ~79000.00UPS, TraCI: 147ms, vehicles TOT 1371 ACT 79 BUCI: 30ms, vehicles TOT 2 ACT 2 BUF 0)  \n",
      "Step #28800.00 (0ms ?*RT. ?UPS, TraCI: 104ms, vehicles TOT 1961 ACT 71 BUF 85)            I: 31ms, vehicles TOT 2 ACT 2 BUF 0)  \n",
      "Step #28800.00 (1ms ~= 1000.00*RT, ~71000.00UPS, TraCI: 105ms, vehicles TOT 1950 ACT 71 BUes TOT 2 ACT 2 BUF 0)                  \n",
      "Step #28800.00 (1ms ~= 1000.00*RT, ~67000.00UPS, TraCI: 105ms, vehicles TOT 1954 ACT 67 BUCI: 34ms, vehicles TOT 2 ACT 2 BUF 0)  \n",
      "Step #28800.00 (1ms ~= 1000.00*RT, ~72000.00UPS, TraCI: 107ms, vehicles TOT 1965 ACT 72 BUI: 34ms, vehicles TOT 2 ACT 2 BUF 0)  \n",
      "Step #28800.00 (1ms ~= 1000.00*RT, ~70000.00UPS, TraCI: 103ms, vehicles TOT 1947 ACT 70 BUraCI: 103ms, vehicles TOT 1430 ACT 102 \n",
      "Step #28800.00 (1ms ~= 1000.00*RT, ~67000.00UPS, TraCI: 103ms, vehicles TOT 1959 ACT 67 BUCI: 34ms, vehicles TOT 2 ACT 2 BUF 0)  \n",
      "Step #28800.00 (0ms ?*RT. ?UPS, TraCI: 111ms, vehicles TOT 1952 ACT 71 BUF 94)            CI: 166ms, vehicles TOT 1082 ACT 98 BU\n",
      "Step #28800.00 (0ms ?*RT. ?UPS, TraCI: 83ms, vehicles TOT 1952 ACT 68 BUF 94)             s TOT 624 ACT 99 BUF 37)              \n",
      "Step #28800.00 (0ms ?*RT. ?UPS, TraCI: 76ms, vehicles TOT 1964 ACT 72 BUF 82)             es TOT 2 ACT 2 BUF 0)                  \n",
      "Step #28800.00 (0ms ?*RT. ?UPS, TraCI: 71ms, vehicles TOT 1966 ACT 71 BUF 80)             es TOT 2 ACT 2 BUF 0)                  \n"
     ]
    },
    {
     "name": "stderr",
     "output_type": "stream",
     "text": [
      "\u001b[2m\u001b[36m(RolloutWorker pid=13580)\u001b[0m Warning: Vehicle '208394_441_0' performs emergency braking on lane ':26110729_16_0' with decel=9.00, wished=4.50, severity=1.00, time=26577.00.\n"
     ]
    },
    {
     "name": "stdout",
     "output_type": "stream",
     "text": [
      "Step #26500.00 (1ms ~= 1000.00*RT, ~92000.00UPS, TraCI: 86ms, vehicles TOT 809 ACT 92 BUF es TOT 2 ACT 2 BUF 0)                  \n"
     ]
    },
    {
     "name": "stderr",
     "output_type": "stream",
     "text": [
      "\u001b[2m\u001b[36m(RolloutWorker pid=20048)\u001b[0m Warning: Vehicle '144900_416_0' performs emergency braking on lane ':26110729_14_1' with decel=9.00, wished=4.50, severity=1.00, time=27271.00.\n"
     ]
    },
    {
     "name": "stdout",
     "output_type": "stream",
     "text": [
      "Step #27200.00 (1ms ~= 1000.00*RT, ~96000.00UPS, TraCI: 96ms, vehicles TOT 1224 ACT 96 BUFes TOT 2 ACT 2 BUF 0)                  \n"
     ]
    },
    {
     "name": "stderr",
     "output_type": "stream",
     "text": [
      "\u001b[2m\u001b[36m(RolloutWorker pid=13628)\u001b[0m Warning: Vehicle '222622_448_0' performs emergency braking on lane '-186623965#16_1' with decel=9.00, wished=4.50, severity=1.00, time=27522.00.\n"
     ]
    },
    {
     "name": "stdout",
     "output_type": "stream",
     "text": [
      "Step #27500.00 (1ms ~= 1000.00*RT, ~77000.00UPS, TraCI: 87ms, vehicles TOT 1380 ACT 77 BUFes TOT 2 ACT 2 BUF 0)                  \n"
     ]
    },
    {
     "name": "stderr",
     "output_type": "stream",
     "text": [
      "\u001b[2m\u001b[36m(RolloutWorker pid=24144)\u001b[0m Warning: Vehicle '149857_417_0' performs emergency braking on lane ':26110729_7_0' with decel=9.00, wished=4.50, severity=1.00, time=27917.00.\n"
     ]
    },
    {
     "name": "stdout",
     "output_type": "stream",
     "text": [
      "Step #27900.00 (1ms ~= 1000.00*RT, ~77000.00UPS, TraCI: 83ms, vehicles TOT 1562 ACT 77 BUFes TOT 2 ACT 2 BUF 0)                  \n",
      "Step #28800.00 (0ms ?*RT. ?UPS, TraCI: 113ms, vehicles TOT 1954 ACT 69 BUF 92)            CI: 32ms, vehicles TOT 2 ACT 2 BUF 0)  \n",
      "Step #28800.00 (1ms ~= 1000.00*RT, ~67000.00UPS, TraCI: 115ms, vehicles TOT 1954 ACT 67 BUaCI: 88ms, vehicles TOT 867 ACT 94 BUF \n",
      "Step #28800.00 (0ms ?*RT. ?UPS, TraCI: 107ms, vehicles TOT 1958 ACT 71 BUF 88)            aCI: 79ms, vehicles TOT 1285 ACT 89 BUF\n",
      "Step #28800.00 (1ms ~= 1000.00*RT, ~66000.00UPS, TraCI: 113ms, vehicles TOT 1952 ACT 66 BUs TOT 2 ACT 2 BUF 0)                  \n",
      "Step #28800.00 (0ms ?*RT. ?UPS, TraCI: 105ms, vehicles TOT 1964 ACT 72 BUF 82)            I: 27ms, vehicles TOT 2 ACT 2 BUF 0)  \n",
      "Step #28800.00 (0ms ?*RT. ?UPS, TraCI: 105ms, vehicles TOT 1954 ACT 67 BUF 92)            s TOT 2 ACT 2 BUF 0)                  \n",
      "Step #28800.00 (0ms ?*RT. ?UPS, TraCI: 99ms, vehicles TOT 1962 ACT 70 BUF 84)             les TOT 1439 ACT 103 BUF 49)           \n",
      "Step #28800.00 (0ms ?*RT. ?UPS, TraCI: 86ms, vehicles TOT 1944 ACT 67 BUF 102)            s TOT 2 ACT 2 BUF 0)                  \n",
      "Step #28800.00 (0ms ?*RT. ?UPS, TraCI: 85ms, vehicles TOT 1957 ACT 68 BUF 89)             es TOT 1614 ACT 83 BUF 59)             \n",
      "Step #28800.00 (0ms ?*RT. ?UPS, TraCI: 85ms, vehicles TOT 1951 ACT 66 BUF 95)             CI: 31ms, vehicles TOT 2 ACT 2 BUF 0)  \n"
     ]
    },
    {
     "name": "stderr",
     "output_type": "stream",
     "text": [
      "\u001b[2m\u001b[36m(RolloutWorker pid=13628)\u001b[0m Warning: Vehicle '178434_430_0' performs emergency braking on lane ':26110729_5_1' with decel=9.00, wished=4.50, severity=1.00, time=27303.00.\n"
     ]
    },
    {
     "name": "stdout",
     "output_type": "stream",
     "text": [
      "Step #27300.00 (1ms ~= 1000.00*RT, ~91000.00UPS, TraCI: 160ms, vehicles TOT 1288 ACT 91 BUCI: 34ms, vehicles TOT 2 ACT 2 BUF 0)  \n"
     ]
    },
    {
     "name": "stderr",
     "output_type": "stream",
     "text": [
      "\u001b[2m\u001b[36m(RolloutWorker pid=20048)\u001b[0m Warning: Vehicle '148523_417_0' performs emergency braking on lane ':26110729_7_0' with decel=9.00, wished=4.50, severity=1.00, time=28657.00.\n"
     ]
    },
    {
     "name": "stdout",
     "output_type": "stream",
     "text": [
      "Step #28600.00 (0ms ?*RT. ?UPS, TraCI: 84ms, vehicles TOT 1876 ACT 68 BUF 99)             CI: 31ms, vehicles TOT 2 ACT 2 BUF 0)  \n",
      "Step #28800.00 (0ms ?*RT. ?UPS, TraCI: 129ms, vehicles TOT 1949 ACT 67 BUF 97)            CI: 25ms, vehicles TOT 2 ACT 2 BUF 0)  \n",
      "Step #28800.00 (0ms ?*RT. ?UPS, TraCI: 128ms, vehicles TOT 1960 ACT 68 BUF 86)            s TOT 2 ACT 2 BUF 0)                  \n",
      "Step #28800.00 (1ms ~= 1000.00*RT, ~67000.00UPS, TraCI: 128ms, vehicles TOT 1952 ACT 67 BUes TOT 1919 ACT 83 BUF 94)             \n",
      "Step #28800.00 (1ms ~= 1000.00*RT, ~72000.00UPS, TraCI: 130ms, vehicles TOT 1966 ACT 72 BUCI: 25ms, vehicles TOT 2 ACT 2 BUF 0)  \n",
      "Step #28800.00 (1ms ~= 1000.00*RT, ~67000.00UPS, TraCI: 131ms, vehicles TOT 1954 ACT 67 BUI: 30ms, vehicles TOT 2 ACT 2 BUF 0)  \n",
      "Step #28800.00 (1ms ~= 1000.00*RT, ~73000.00UPS, TraCI: 117ms, vehicles TOT 1959 ACT 73 BUI: 29ms, vehicles TOT 2 ACT 2 BUF 0)  \n",
      "Step #28800.00 (1ms ~= 1000.00*RT, ~73000.00UPS, TraCI: 109ms, vehicles TOT 1962 ACT 73 BUaCI: 82ms, vehicles TOT 1334 ACT 71 BUF\n",
      "Step #28800.00 (0ms ?*RT. ?UPS, TraCI: 82ms, vehicles TOT 1950 ACT 69 BUF 96)             I: 24ms, vehicles TOT 2 ACT 2 BUF 0)  \n",
      "Step #28800.00 (1ms ~= 1000.00*RT, ~70000.00UPS, TraCI: 80ms, vehicles TOT 1953 ACT 70 BUFCI: 28ms, vehicles TOT 2 ACT 2 BUF 0)  \n",
      "Step #28800.00 (0ms ?*RT. ?UPS, TraCI: 81ms, vehicles TOT 1966 ACT 70 BUF 80)             es TOT 2 ACT 2 BUF 0)                  \n"
     ]
    },
    {
     "name": "stderr",
     "output_type": "stream",
     "text": [
      "\u001b[2m\u001b[36m(RolloutWorker pid=9256)\u001b[0m Warning: Vehicle '220160_447_0' performs emergency braking on lane ':26110729_14_1' with decel=9.00, wished=4.50, severity=1.00, time=27093.00.\n"
     ]
    },
    {
     "name": "stdout",
     "output_type": "stream",
     "text": [
      "Step #27000.00 (1ms ~= 1000.00*RT, ~97000.00UPS, TraCI: 88ms, vehicles TOT 1079 ACT 97 BUFI: 24ms, vehicles TOT 2 ACT 2 BUF 0)  \n"
     ]
    },
    {
     "name": "stderr",
     "output_type": "stream",
     "text": [
      "\u001b[2m\u001b[36m(RolloutWorker pid=3200)\u001b[0m Warning: Vehicle '216002_445_0' performs emergency braking on lane ':26110729_16_0' with decel=9.00, wished=4.50, severity=1.00, time=26822.00.\n"
     ]
    },
    {
     "name": "stdout",
     "output_type": "stream",
     "text": [
      "Step #26800.00 (0ms ?*RT. ?UPS, TraCI: 83ms, vehicles TOT 950 ACT 80 BUF 68)              I: 41ms, vehicles TOT 2 ACT 2 BUF 0)  \n"
     ]
    },
    {
     "name": "stderr",
     "output_type": "stream",
     "text": [
      "\u001b[2m\u001b[36m(RolloutWorker pid=19280)\u001b[0m Warning: Vehicle '191387_435_0' performs emergency braking on lane ':26110729_16_0' with decel=9.00, wished=4.50, severity=1.00, time=26892.00.\n"
     ]
    },
    {
     "name": "stdout",
     "output_type": "stream",
     "text": [
      "Step #26800.00 (1ms ~= 1000.00*RT, ~82000.00UPS, TraCI: 82ms, vehicles TOT 951 ACT 82 BUF CI: 37ms, vehicles TOT 2 ACT 2 BUF 0)  \n",
      "Step #28800.00 (0ms ?*RT. ?UPS, TraCI: 82ms, vehicles TOT 1963 ACT 71 BUF 83)             CI: 29ms, vehicles TOT 2 ACT 2 BUF 0)  \n",
      "Step #28800.00 (0ms ?*RT. ?UPS, TraCI: 78ms, vehicles TOT 1962 ACT 69 BUF 84)             CI: 27ms, vehicles TOT 2 ACT 2 BUF 0)  \n",
      "Step #28800.00 (0ms ?*RT. ?UPS, TraCI: 84ms, vehicles TOT 1959 ACT 71 BUF 87)             I: 24ms, vehicles TOT 2 ACT 2 BUF 0)  \n",
      "Step #28800.00 (1ms ~= 1000.00*RT, ~74000.00UPS, TraCI: 81ms, vehicles TOT 1968 ACT 74 BUFes TOT 2 ACT 2 BUF 0)                  \n",
      "Step #28800.00 (0ms ?*RT. ?UPS, TraCI: 82ms, vehicles TOT 1951 ACT 67 BUF 95)             I: 28ms, vehicles TOT 2 ACT 2 BUF 0)  \n",
      "Step #28800.00 (0ms ?*RT. ?UPS, TraCI: 80ms, vehicles TOT 1953 ACT 67 BUF 93)             s TOT 1156 ACT 104 BUF 63)            \n",
      "Step #28800.00 (0ms ?*RT. ?UPS, TraCI: 82ms, vehicles TOT 1952 ACT 65 BUF 94)             CI: 27ms, vehicles TOT 2 ACT 2 BUF 0)  \n",
      "Step #28800.00 (1ms ~= 1000.00*RT, ~70000.00UPS, TraCI: 94ms, vehicles TOT 1959 ACT 70 BUFCI: 37ms, vehicles TOT 2 ACT 2 BUF 0)  \n",
      "Step #28800.00 (0ms ?*RT. ?UPS, TraCI: 95ms, vehicles TOT 1967 ACT 71 BUF 79)             es TOT 1018 ACT 98 BUF 60)             \n",
      "Step #28800.00 (0ms ?*RT. ?UPS, TraCI: 91ms, vehicles TOT 1961 ACT 71 BUF 85)             s TOT 1014 ACT 100 BUF 64)            \n"
     ]
    },
    {
     "name": "stderr",
     "output_type": "stream",
     "text": [
      "\u001b[2m\u001b[36m(RolloutWorker pid=13628)\u001b[0m Warning: Vehicle '188987_434_0' performs emergency braking on lane ':26110729_5_1' with decel=9.00, wished=4.50, severity=1.00, time=26154.00.\n"
     ]
    },
    {
     "name": "stdout",
     "output_type": "stream",
     "text": [
      "Step #26100.00 (1ms ~= 1000.00*RT, ~93000.00UPS, TraCI: 135ms, vehicles TOT 555 ACT 93 BUFes TOT 2 ACT 2 BUF 0)                  \n"
     ]
    },
    {
     "name": "stderr",
     "output_type": "stream",
     "text": [
      "\u001b[2m\u001b[36m(RolloutWorker pid=3060)\u001b[0m Warning: Vehicle '201329_438_0' performs emergency braking on lane ':cluster_1098574052_1098574061_247379905_14_0' with decel=9.00, wished=4.50, severity=1.00, time=26282.00.\n"
     ]
    },
    {
     "name": "stdout",
     "output_type": "stream",
     "text": [
      "Step #26200.00 (1ms ~= 1000.00*RT, ~102000.00UPS, TraCI: 99ms, vehicles TOT 627 ACT 102 BUs TOT 2 ACT 2 BUF 0)                  \n"
     ]
    },
    {
     "name": "stderr",
     "output_type": "stream",
     "text": [
      "\u001b[2m\u001b[36m(RolloutWorker pid=21792)\u001b[0m Warning: Vehicle '241789_452_0' performs emergency braking on lane ':26110729_14_1' with decel=9.00, wished=4.50, severity=1.00, time=28409.00.\n"
     ]
    },
    {
     "name": "stdout",
     "output_type": "stream",
     "text": [
      "Step #28400.00 (1ms ~= 1000.00*RT, ~76000.00UPS, TraCI: 75ms, vehicles TOT 1816 ACT 76 BUFes TOT 2 ACT 2 BUF 0)                  \n",
      "Step #28800.00 (0ms ?*RT. ?UPS, TraCI: 95ms, vehicles TOT 1966 ACT 68 BUF 80)             CI: 37ms, vehicles TOT 2 ACT 2 BUF 0)  \n",
      "Step #28800.00 (1ms ~= 1000.00*RT, ~73000.00UPS, TraCI: 93ms, vehicles TOT 1969 ACT 73 BUFes TOT 1856 ACT 69 BUF 77)             \n",
      "Step #28800.00 (1ms ~= 1000.00*RT, ~73000.00UPS, TraCI: 80ms, vehicles TOT 1960 ACT 73 BUFaCI: 93ms, vehicles TOT 713 ACT 117 BU\n",
      "Step #28800.00 (0ms ?*RT. ?UPS, TraCI: 92ms, vehicles TOT 1971 ACT 73 BUF 75)             CI: 39ms, vehicles TOT 2 ACT 2 BUF 0)  \n",
      "Step #28800.00 (1ms ~= 1000.00*RT, ~70000.00UPS, TraCI: 91ms, vehicles TOT 1965 ACT 70 BUFes TOT 626 ACT 103 BUF 35)             \n",
      "Step #28800.00 (1ms ~= 1000.00*RT, ~70000.00UPS, TraCI: 91ms, vehicles TOT 1961 ACT 70 BUFI: 38ms, vehicles TOT 2 ACT 2 BUF 0)  \n",
      "Step #28800.00 (0ms ?*RT. ?UPS, TraCI: 92ms, vehicles TOT 1947 ACT 67 BUF 99)             I: 39ms, vehicles TOT 2 ACT 2 BUF 0)  \n",
      "Step #28800.00 (1ms ~= 1000.00*RT, ~68000.00UPS, TraCI: 103ms, vehicles TOT 1977 ACT 68 BUI: 36ms, vehicles TOT 2 ACT 2 BUF 0)  \n",
      "Step #28800.00 (1ms ~= 1000.00*RT, ~68000.00UPS, TraCI: 101ms, vehicles TOT 1958 ACT 68 BUes TOT 2 ACT 2 BUF 0)                  \n",
      "Step #28800.00 (1ms ~= 1000.00*RT, ~73000.00UPS, TraCI: 102ms, vehicles TOT 1965 ACT 73 BUCI: 35ms, vehicles TOT 2 ACT 2 BUF 0)  \n"
     ]
    },
    {
     "name": "stderr",
     "output_type": "stream",
     "text": [
      "\u001b[2m\u001b[36m(RolloutWorker pid=13580)\u001b[0m Warning: Vehicle '151856_419_0' performs emergency braking on lane ':26110729_7_0' with decel=9.00, wished=4.50, severity=1.00, time=26862.00.\n"
     ]
    },
    {
     "name": "stdout",
     "output_type": "stream",
     "text": [
      "Step #26800.00 (0ms ?*RT. ?UPS, TraCI: 79ms, vehicles TOT 955 ACT 77 BUF 63)              es TOT 2 ACT 2 BUF 0)                  \n"
     ]
    },
    {
     "name": "stderr",
     "output_type": "stream",
     "text": [
      "\u001b[2m\u001b[36m(RolloutWorker pid=13580)\u001b[0m Warning: Vehicle '146441_416_0' performs emergency braking on lane ':cluster_1098574052_1098574061_247379905_14_0' with decel=9.00, wished=4.50, severity=1.00, time=27402.00.\n"
     ]
    },
    {
     "name": "stdout",
     "output_type": "stream",
     "text": [
      "Step #27400.00 (1ms ~= 1000.00*RT, ~75000.00UPS, TraCI: 82ms, vehicles TOT 1337 ACT 75 BUFaCI: 84ms, vehicles TOT 1022 ACT 99 BUF\n",
      "Step #28800.00 (0ms ?*RT. ?UPS, TraCI: 106ms, vehicles TOT 1967 ACT 66 BUF 79)            CI: 39ms, vehicles TOT 2 ACT 2 BUF 0)  \n",
      "Step #28800.00 (1ms ~= 1000.00*RT, ~70000.00UPS, TraCI: 104ms, vehicles TOT 1966 ACT 70 BUI: 35ms, vehicles TOT 2 ACT 2 BUF 0)  \n",
      "Step #28800.00 (0ms ?*RT. ?UPS, TraCI: 107ms, vehicles TOT 1967 ACT 69 BUF 79)            aCI: 155ms, vehicles TOT 1383 ACT 80 BU\n",
      "Step #28800.00 (1ms ~= 1000.00*RT, ~71000.00UPS, TraCI: 98ms, vehicles TOT 1962 ACT 71 BUFCI: 32ms, vehicles TOT 2 ACT 2 BUF 0)  \n",
      "Step #28800.00 (0ms ?*RT. ?UPS, TraCI: 103ms, vehicles TOT 1950 ACT 69 BUF 96)            s TOT 2 ACT 2 BUF 0)                  \n",
      "Step #28800.00 (1ms ~= 1000.00*RT, ~69000.00UPS, TraCI: 100ms, vehicles TOT 1967 ACT 69 BUs TOT 2 ACT 2 BUF 0)                  \n",
      "Step #28800.00 (1ms ~= 1000.00*RT, ~70000.00UPS, TraCI: 89ms, vehicles TOT 1960 ACT 70 BUFCI: 41ms, vehicles TOT 2 ACT 2 BUF 0)  \n",
      "Step #28800.00 (1ms ~= 1000.00*RT, ~70000.00UPS, TraCI: 83ms, vehicles TOT 1962 ACT 70 BUFs TOT 2 ACT 2 BUF 0)                  \n",
      "Step #28800.00 (0ms ?*RT. ?UPS, TraCI: 72ms, vehicles TOT 1959 ACT 73 BUF 87)             CI: 26ms, vehicles TOT 2 ACT 2 BUF 0)  \n",
      "Step #28800.00 (0ms ?*RT. ?UPS, TraCI: 77ms, vehicles TOT 1966 ACT 72 BUF 80)             CI: 25ms, vehicles TOT 2 ACT 2 BUF 0)  \n"
     ]
    },
    {
     "name": "stderr",
     "output_type": "stream",
     "text": [
      "\u001b[2m\u001b[36m(RolloutWorker pid=21792)\u001b[0m Warning: Vehicle '188987_434_0' performs emergency braking on lane ':26110729_5_1' with decel=9.00, wished=4.50, severity=1.00, time=26154.00.\n"
     ]
    },
    {
     "name": "stdout",
     "output_type": "stream",
     "text": [
      "Step #26100.00 (1ms ~= 1000.00*RT, ~92000.00UPS, TraCI: 86ms, vehicles TOT 557 ACT 92 BUF es TOT 2 ACT 2 BUF 0)                  \n",
      "Step #26100.00 (1ms ~= 1000.00*RT, ~93000.00UPS, TraCI: 83ms, vehicles TOT 558 ACT 93 BUF I: 25ms, vehicles TOT 2 ACT 2 BUF 0)  \n"
     ]
    },
    {
     "name": "stderr",
     "output_type": "stream",
     "text": [
      "\u001b[2m\u001b[36m(RolloutWorker pid=19280)\u001b[0m Warning: Vehicle '189988_434_0' performs emergency braking on lane ':26110729_7_0' with decel=9.00, wished=4.50, severity=1.00, time=26802.00.\u001b[32m [repeated 2x across cluster]\u001b[0m\n"
     ]
    },
    {
     "name": "stdout",
     "output_type": "stream",
     "text": [
      "Step #26800.00 (0ms ?*RT. ?UPS, TraCI: 137ms, vehicles TOT 951 ACT 75 BUF 67)             CI: 23ms, vehicles TOT 2 ACT 2 BUF 0)  \n",
      "Step #28800.00 (0ms ?*RT. ?UPS, TraCI: 150ms, vehicles TOT 1967 ACT 71 BUF 79)            CI: 31ms, vehicles TOT 2 ACT 2 BUF 0)  \n",
      "Step #28800.00 (0ms ?*RT. ?UPS, TraCI: 142ms, vehicles TOT 1964 ACT 70 BUF 82)            es TOT 2 ACT 2 BUF 0)                  \n",
      "Step #28800.00 (0ms ?*RT. ?UPS, TraCI: 144ms, vehicles TOT 1965 ACT 72 BUF 81)            I: 37ms, vehicles TOT 2 ACT 2 BUF 0)  \n",
      "Step #28800.00 (1ms ~= 1000.00*RT, ~73000.00UPS, TraCI: 157ms, vehicles TOT 1962 ACT 73 BUI: 38ms, vehicles TOT 2 ACT 2 BUF 0)  \n",
      "Step #28800.00 (0ms ?*RT. ?UPS, TraCI: 121ms, vehicles TOT 1963 ACT 72 BUF 83)            raCI: 95ms, vehicles TOT 630 ACT 101 BU\n",
      "Step #28800.00 (1ms ~= 1000.00*RT, ~71000.00UPS, TraCI: 130ms, vehicles TOT 1963 ACT 71 BUs TOT 630 ACT 102 BUF 31)             \n",
      "Step #28800.00 (1ms ~= 1000.00*RT, ~71000.00UPS, TraCI: 132ms, vehicles TOT 1962 ACT 71 BUCI: 36ms, vehicles TOT 2 ACT 2 BUF 0)  \n",
      "Step #28800.00 (0ms ?*RT. ?UPS, TraCI: 98ms, vehicles TOT 1962 ACT 70 BUF 84)             s TOT 2 ACT 2 BUF 0)                  \n",
      "Step #28800.00 (0ms ?*RT. ?UPS, TraCI: 90ms, vehicles TOT 1958 ACT 69 BUF 88)             CI: 27ms, vehicles TOT 2 ACT 2 BUF 0)  \n",
      "Step #28800.00 (0ms ?*RT. ?UPS, TraCI: 96ms, vehicles TOT 1963 ACT 72 BUF 83)             es TOT 1018 ACT 99 BUF 60)             \n"
     ]
    },
    {
     "name": "stderr",
     "output_type": "stream",
     "text": [
      "\u001b[2m\u001b[36m(RolloutWorker pid=9256)\u001b[0m Warning: Vehicle '188987_434_0' performs emergency braking on lane ':26110729_5_1' with decel=9.00, wished=4.50, severity=1.00, time=26154.00.\n"
     ]
    },
    {
     "name": "stdout",
     "output_type": "stream",
     "text": [
      "Step #26100.00 (1ms ~= 1000.00*RT, ~93000.00UPS, TraCI: 93ms, vehicles TOT 555 ACT 93 BUF I: 33ms, vehicles TOT 2 ACT 2 BUF 0)  \n"
     ]
    },
    {
     "name": "stderr",
     "output_type": "stream",
     "text": [
      "\u001b[2m\u001b[36m(RolloutWorker pid=13580)\u001b[0m Warning: Vehicle '207932_441_0' performs emergency braking on lane ':26110729_16_0' with decel=9.00, wished=4.50, severity=1.00, time=26607.00.\n"
     ]
    },
    {
     "name": "stdout",
     "output_type": "stream",
     "text": [
      "Step #26600.00 (1ms ~= 1000.00*RT, ~96000.00UPS, TraCI: 91ms, vehicles TOT 867 ACT 96 BUF CI: 31ms, vehicles TOT 2 ACT 2 BUF 0)  \n"
     ]
    },
    {
     "name": "stderr",
     "output_type": "stream",
     "text": [
      "\u001b[2m\u001b[36m(RolloutWorker pid=1732)\u001b[0m Warning: Vehicle '211390_442_0' performs emergency braking on lane ':26110729_16_0' with decel=9.00, wished=4.50, severity=1.00, time=26887.00.\n",
      "\u001b[2m\u001b[36m(RolloutWorker pid=21792)\u001b[0m Warning: Vehicle '191387_435_0' performs emergency braking on lane ':26110729_16_0' with decel=9.00, wished=4.50, severity=1.00, time=26892.00.\n"
     ]
    },
    {
     "name": "stdout",
     "output_type": "stream",
     "text": [
      "Step #26800.00 (0ms ?*RT. ?UPS, TraCI: 125ms, vehicles TOT 954 ACT 79 BUF 64)             s TOT 2 ACT 2 BUF 0)                  \n",
      "Step #26800.00 (0ms ?*RT. ?UPS, TraCI: 126ms, vehicles TOT 951 ACT 80 BUF 67)             es TOT 2 ACT 2 BUF 0)                  \n",
      "Step #28800.00 (0ms ?*RT. ?UPS, TraCI: 123ms, vehicles TOT 1956 ACT 69 BUF 90)            es TOT 2 ACT 2 BUF 0)                  \n",
      "Step #28800.00 (0ms ?*RT. ?UPS, TraCI: 130ms, vehicles TOT 1964 ACT 70 BUF 82)            aCI: 83ms, vehicles TOT 908 ACT 75 BUF \n",
      "Step #28800.00 (0ms ?*RT. ?UPS, TraCI: 128ms, vehicles TOT 1966 ACT 72 BUF 80)            CI: 85ms, vehicles TOT 1018 ACT 98 BUF\n",
      "Step #28800.00 (0ms ?*RT. ?UPS, TraCI: 127ms, vehicles TOT 1967 ACT 70 BUF 79)            aCI: 88ms, vehicles TOT 626 ACT 103 BU\n",
      "Step #28800.00 (0ms ?*RT. ?UPS, TraCI: 110ms, vehicles TOT 1959 ACT 68 BUF 87)            I: 34ms, vehicles TOT 2 ACT 2 BUF 0)  \n",
      "Step #28800.00 (1ms ~= 1000.00*RT, ~68000.00UPS, TraCI: 114ms, vehicles TOT 1963 ACT 68 BUes TOT 2 ACT 2 BUF 0)                  \n",
      "Step #28800.00 (1ms ~= 1000.00*RT, ~209000.00UPS, TraCI: 125ms, vehicles TOT 1946 ACT 209 es TOT 1015 ACT 98 BUF 63)             \n",
      "Step #28800.00 (0ms ?*RT. ?UPS, TraCI: 85ms, vehicles TOT 1951 ACT 67 BUF 95)             s TOT 2 ACT 2 BUF 0)                  \n",
      "Step #28800.00 (1ms ~= 1000.00*RT, ~69000.00UPS, TraCI: 82ms, vehicles TOT 1958 ACT 69 BUFCI: 26ms, vehicles TOT 2 ACT 2 BUF 0)  \n",
      "Step #28800.00 (0ms ?*RT. ?UPS, TraCI: 85ms, vehicles TOT 1971 ACT 68 BUF 75)             CI: 25ms, vehicles TOT 2 ACT 2 BUF 0)  \n"
     ]
    },
    {
     "name": "stderr",
     "output_type": "stream",
     "text": [
      "\u001b[2m\u001b[36m(RolloutWorker pid=20048)\u001b[0m Warning: Vehicle '200971_437_0' performs emergency braking on lane ':26110729_16_0' with decel=9.00, wished=4.50, severity=1.00, time=26172.00.\n"
     ]
    },
    {
     "name": "stdout",
     "output_type": "stream",
     "text": [
      "Step #26100.00 (0ms ?*RT. ?UPS, TraCI: 87ms, vehicles TOT 559 ACT 89 BUF 23)              CI: 26ms, vehicles TOT 2 ACT 2 BUF 0)  \n"
     ]
    },
    {
     "name": "stderr",
     "output_type": "stream",
     "text": [
      "\u001b[2m\u001b[36m(RolloutWorker pid=21792)\u001b[0m Warning: Vehicle '241789_452_0' performs emergency braking on lane ':26110729_14_1' with decel=9.00, wished=4.50, severity=1.00, time=28409.00.\n"
     ]
    },
    {
     "name": "stdout",
     "output_type": "stream",
     "text": [
      "Step #28400.00 (1ms ~= 1000.00*RT, ~73000.00UPS, TraCI: 82ms, vehicles TOT 1806 ACT 73 BUFes TOT 2 ACT 2 BUF 0)                  \n",
      "Step #27900.00 (0ms ?*RT. ?UPS, TraCI: 87ms, vehicles TOT 1565 ACT 73 BUF 55)             es TOT 2 ACT 2 BUF 0)                  \n",
      "Step #27900.00 (1ms ~= 1000.00*RT, ~72000.00UPS, TraCI: 81ms, vehicles TOT 1561 ACT 72 BUFI: 35ms, vehicles TOT 2 ACT 2 BUF 0)  \n"
     ]
    },
    {
     "name": "stderr",
     "output_type": "stream",
     "text": [
      "\u001b[2m\u001b[36m(RolloutWorker pid=24144)\u001b[0m Warning: Vehicle '200638_437_0' performs emergency braking on lane ':26110729_5_1' with decel=9.00, wished=4.50, severity=1.00, time=28035.00.\u001b[32m [repeated 3x across cluster]\u001b[0m\n"
     ]
    },
    {
     "name": "stdout",
     "output_type": "stream",
     "text": [
      "Step #28000.00 (0ms ?*RT. ?UPS, TraCI: 86ms, vehicles TOT 1616 ACT 82 BUF 57)             CI: 36ms, vehicles TOT 2 ACT 2 BUF 0)  \n",
      "Step #28800.00 (0ms ?*RT. ?UPS, TraCI: 85ms, vehicles TOT 1959 ACT 67 BUF 87)             raCI: 137ms, vehicles TOT 631 ACT 100 B\n",
      "Step #28800.00 (0ms ?*RT. ?UPS, TraCI: 87ms, vehicles TOT 1959 ACT 69 BUF 87)             aCI: 78ms, vehicles TOT 1848 ACT 72 BUF\n",
      "Step #28800.00 (1ms ~= 1000.00*RT, ~67000.00UPS, TraCI: 89ms, vehicles TOT 1958 ACT 67 BUFs TOT 2 ACT 2 BUF 0)                  \n",
      "Step #28800.00 (0ms ?*RT. ?UPS, TraCI: 87ms, vehicles TOT 1964 ACT 74 BUF 82)             CI: 26ms, vehicles TOT 2 ACT 2 BUF 0)  \n",
      "Step #28800.00 (1ms ~= 1000.00*RT, ~68000.00UPS, TraCI: 85ms, vehicles TOT 1963 ACT 68 BUFCI: 27ms, vehicles TOT 2 ACT 2 BUF 0)  \n",
      "Step #28800.00 (0ms ?*RT. ?UPS, TraCI: 78ms, vehicles TOT 1957 ACT 69 BUF 89)             s TOT 2 ACT 2 BUF 0)                  \n",
      "Step #28800.00 (1ms ~= 1000.00*RT, ~73000.00UPS, TraCI: 72ms, vehicles TOT 1966 ACT 73 BUFI: 27ms, vehicles TOT 2 ACT 2 BUF 0)  \n",
      "Step #28800.00 (1ms ~= 1000.00*RT, ~74000.00UPS, TraCI: 101ms, vehicles TOT 1965 ACT 74 BUCI: 83ms, vehicles TOT 1613 ACT 81 BUF\n",
      "Step #28800.00 (1ms ~= 1000.00*RT, ~72000.00UPS, TraCI: 92ms, vehicles TOT 1962 ACT 72 BUFles TOT 1655 ACT 74 BUF 56)            \n",
      "Step #28800.00 (1ms ~= 1000.00*RT, ~70000.00UPS, TraCI: 90ms, vehicles TOT 1961 ACT 70 BUFaCI: 82ms, vehicles TOT 1618 ACT 85 BUF\n"
     ]
    },
    {
     "name": "stderr",
     "output_type": "stream",
     "text": [
      "\u001b[2m\u001b[36m(RolloutWorker pid=13628)\u001b[0m Warning: Vehicle '163173_422_0' performs emergency braking on lane ':26110729_16_0' with decel=9.00, wished=4.50, severity=1.00, time=26157.00.\n"
     ]
    },
    {
     "name": "stdout",
     "output_type": "stream",
     "text": [
      "Step #26100.00 (1ms ~= 1000.00*RT, ~92000.00UPS, TraCI: 143ms, vehicles TOT 557 ACT 92 BUFCI: 34ms, vehicles TOT 2 ACT 2 BUF 0)  \n"
     ]
    },
    {
     "name": "stderr",
     "output_type": "stream",
     "text": [
      "\u001b[2m\u001b[36m(RolloutWorker pid=9256)\u001b[0m Warning: Vehicle '148523_417_0' performs emergency braking on lane ':26110729_7_0' with decel=9.00, wished=4.50, severity=1.00, time=28657.00.\n"
     ]
    },
    {
     "name": "stdout",
     "output_type": "stream",
     "text": [
      "Step #28600.00 (1ms ~= 1000.00*RT, ~79000.00UPS, TraCI: 151ms, vehicles TOT 1900 ACT 79 BUI: 36ms, vehicles TOT 2 ACT 2 BUF 0)  \n"
     ]
    },
    {
     "name": "stderr",
     "output_type": "stream",
     "text": [
      "\u001b[2m\u001b[36m(RolloutWorker pid=9256)\u001b[0m Warning: Vehicle '217444_446_0' performs emergency braking on lane '-23686088#0_0' with decel=9.00, wished=4.50, severity=1.00, time=28682.00.\n"
     ]
    },
    {
     "name": "stdout",
     "output_type": "stream",
     "text": [
      "Step #28800.00 (0ms ?*RT. ?UPS, TraCI: 90ms, vehicles TOT 1967 ACT 71 BUF 79)             CI: 35ms, vehicles TOT 2 ACT 2 BUF 0)  \n",
      "Step #28800.00 (0ms ?*RT. ?UPS, TraCI: 94ms, vehicles TOT 1971 ACT 70 BUF 75)             es TOT 2 ACT 2 BUF 0)                  \n",
      "Step #28800.00 (0ms ?*RT. ?UPS, TraCI: 101ms, vehicles TOT 1970 ACT 69 BUF 76)            I: 35ms, vehicles TOT 2 ACT 2 BUF 0)  \n",
      "Step #28800.00 (0ms ?*RT. ?UPS, TraCI: 99ms, vehicles TOT 1969 ACT 74 BUF 77)             CI: 36ms, vehicles TOT 2 ACT 2 BUF 0)  \n",
      "Step #28800.00 (1ms ~= 1000.00*RT, ~70000.00UPS, TraCI: 94ms, vehicles TOT 1973 ACT 70 BUFCI: 82ms, vehicles TOT 1938 ACT 84 BUF\n"
     ]
    },
    {
     "name": "stderr",
     "output_type": "stream",
     "text": [
      "\u001b[2m\u001b[36m(RolloutWorker pid=19280)\u001b[0m Warning: Vehicle '139203_413_0' performs emergency braking on lane ':26110729_5_1' with decel=9.00, wished=4.50, severity=1.00, time=28298.00.\n"
     ]
    },
    {
     "name": "stdout",
     "output_type": "stream",
     "text": [
      "Step #28200.00 (1ms ~= 1000.00*RT, ~76000.00UPS, TraCI: 80ms, vehicles TOT 1712 ACT 76 BUFes TOT 2 ACT 2 BUF 0)                  \n",
      "Step #28800.00 (1ms ~= 1000.00*RT, ~201000.00UPS, TraCI: 182ms, vehicles TOT 1956 ACT 201 I: 35ms, vehicles TOT 2 ACT 2 BUF 0)  \n",
      "Step #28800.00 (1ms ~= 1000.00*RT, ~327000.00UPS, TraCI: 210ms, vehicles TOT 1869 ACT 327 les TOT 631 ACT 110 BUF 30)            \n",
      "Step #28800.00 (0ms ?*RT. ?UPS, TraCI: 102ms, vehicles TOT 1959 ACT 70 BUF 87)            s TOT 2 ACT 2 BUF 0)                  \n",
      "Step #28800.00 (1ms ~= 1000.00*RT, ~71000.00UPS, TraCI: 107ms, vehicles TOT 1965 ACT 71 BUCI: 36ms, vehicles TOT 2 ACT 2 BUF 0)  \n",
      "Step #28800.00 (0ms ?*RT. ?UPS, TraCI: 96ms, vehicles TOT 1981 ACT 70 BUF 65)             aCI: 58ms, vehicles TOT 1775 ACT 93 BUF\n"
     ]
    },
    {
     "name": "stderr",
     "output_type": "stream",
     "text": [
      "\u001b[2m\u001b[36m(RolloutWorker pid=24144)\u001b[0m Warning: Vehicle '149180_417_0' performs emergency braking on lane ':26110729_7_0' with decel=9.00, wished=4.50, severity=1.00, time=27405.00.\n"
     ]
    },
    {
     "name": "stdout",
     "output_type": "stream",
     "text": [
      "Step #27400.00 (0ms ?*RT. ?UPS, TraCI: 145ms, vehicles TOT 1340 ACT 77 BUF 29)            CI: 28ms, vehicles TOT 2 ACT 2 BUF 0)  \n"
     ]
    },
    {
     "name": "stderr",
     "output_type": "stream",
     "text": [
      "\u001b[2m\u001b[36m(RolloutWorker pid=3060)\u001b[0m Warning: Vehicle '143416_415_0' performs emergency braking on lane ':26110729_7_0' with decel=9.00, wished=4.50, severity=1.00, time=28207.00.\n"
     ]
    },
    {
     "name": "stdout",
     "output_type": "stream",
     "text": [
      "Step #28200.00 (0ms ?*RT. ?UPS, TraCI: 82ms, vehicles TOT 1705 ACT 70 BUF 46)             s TOT 2 ACT 2 BUF 0)                  \n"
     ]
    },
    {
     "name": "stderr",
     "output_type": "stream",
     "text": [
      "\u001b[2m\u001b[36m(RolloutWorker pid=21792)\u001b[0m Warning: Vehicle '244584_453_0' performs emergency braking on lane ':26110729_5_1' with decel=9.00, wished=4.50, severity=1.00, time=28490.00.\n"
     ]
    },
    {
     "name": "stdout",
     "output_type": "stream",
     "text": [
      "Step #28400.00 (1ms ~= 1000.00*RT, ~77000.00UPS, TraCI: 94ms, vehicles TOT 1810 ACT 77 BUFCI: 29ms, vehicles TOT 2 ACT 2 BUF 0)  \n",
      "Step #28800.00 (0ms ?*RT. ?UPS, TraCI: 111ms, vehicles TOT 1969 ACT 67 BUF 77)            es TOT 2 ACT 2 BUF 0)                  \n",
      "Step #28800.00 (1ms ~= 1000.00*RT, ~71000.00UPS, TraCI: 108ms, vehicles TOT 1962 ACT 71 BUles TOT 1850 ACT 73 BUF 83)            \n",
      "Step #28800.00 (0ms ?*RT. ?UPS, TraCI: 111ms, vehicles TOT 1961 ACT 70 BUF 85)            CI: 36ms, vehicles TOT 2 ACT 2 BUF 0)  \n",
      "Step #28800.00 (0ms ?*RT. ?UPS, TraCI: 118ms, vehicles TOT 1976 ACT 73 BUF 70)            CI: 26ms, vehicles TOT 2 ACT 2 BUF 0)  \n",
      "Step #28800.00 (0ms ?*RT. ?UPS, TraCI: 113ms, vehicles TOT 1959 ACT 70 BUF 87)            I: 37ms, vehicles TOT 2 ACT 2 BUF 0)  \n",
      "Step #28800.00 (1ms ~= 1000.00*RT, ~69000.00UPS, TraCI: 102ms, vehicles TOT 1971 ACT 69 BUCI: 82ms, vehicles TOT 1770 ACT 94 BUF\n",
      "Step #28800.00 (1ms ~= 1000.00*RT, ~70000.00UPS, TraCI: 102ms, vehicles TOT 1970 ACT 70 BUI: 36ms, vehicles TOT 2 ACT 2 BUF 0)  \n",
      "Step #28800.00 (0ms ?*RT. ?UPS, TraCI: 78ms, vehicles TOT 1963 ACT 69 BUF 83)             s TOT 2 ACT 2 BUF 0)                  \n",
      "Step #28800.00 (0ms ?*RT. ?UPS, TraCI: 80ms, vehicles TOT 1959 ACT 68 BUF 87)             aCI: 87ms, vehicles TOT 1386 ACT 79 BUF\n",
      "Step #28800.00 (1ms ~= 1000.00*RT, ~70000.00UPS, TraCI: 73ms, vehicles TOT 1962 ACT 70 BUFCI: 26ms, vehicles TOT 2 ACT 2 BUF 0)  \n"
     ]
    },
    {
     "name": "stderr",
     "output_type": "stream",
     "text": [
      "\u001b[2m\u001b[36m(RolloutWorker pid=20048)\u001b[0m Warning: Vehicle '163173_422_0' performs emergency braking on lane ':26110729_16_0' with decel=9.00, wished=4.50, severity=1.00, time=26157.00.\n"
     ]
    },
    {
     "name": "stdout",
     "output_type": "stream",
     "text": [
      "Step #26100.00 (1ms ~= 1000.00*RT, ~101000.00UPS, TraCI: 89ms, vehicles TOT 562 ACT 101 BUCI: 37ms, vehicles TOT 2 ACT 2 BUF 0)  \n",
      "Step #28800.00 (0ms ?*RT. ?UPS, TraCI: 114ms, vehicles TOT 1957 ACT 69 BUF 89)            I: 38ms, vehicles TOT 2 ACT 2 BUF 0)  \n",
      "Step #28800.00 (0ms ?*RT. ?UPS, TraCI: 118ms, vehicles TOT 1967 ACT 70 BUF 79)            es TOT 2 ACT 2 BUF 0)                  \n",
      "Step #28800.00 (1ms ~= 1000.00*RT, ~68000.00UPS, TraCI: 120ms, vehicles TOT 1962 ACT 68 BUI: 42ms, vehicles TOT 2 ACT 2 BUF 0)  \n",
      "Step #28800.00 (1ms ~= 1000.00*RT, ~70000.00UPS, TraCI: 118ms, vehicles TOT 1960 ACT 70 BUCI: 32ms, vehicles TOT 2 ACT 2 BUF 0)  \n",
      "Step #28800.00 (1ms ~= 1000.00*RT, ~73000.00UPS, TraCI: 106ms, vehicles TOT 1974 ACT 73 BUI: 39ms, vehicles TOT 2 ACT 2 BUF 0)  \n",
      "Step #28800.00 (1ms ~= 1000.00*RT, ~91000.00UPS, TraCI: 99ms, vehicles TOT 1966 ACT 91 BUFes TOT 2 ACT 2 BUF 0)                  \n",
      "Step #28800.00 (1ms ~= 1000.00*RT, ~189000.00UPS, TraCI: 104ms, vehicles TOT 1956 ACT 189 raCI: 97ms, vehicles TOT 636 ACT 107 BU\n",
      "Step #28800.00 (1ms ~= 1000.00*RT, ~68000.00UPS, TraCI: 99ms, vehicles TOT 1954 ACT 68 BUFs TOT 2 ACT 2 BUF 0)                  \n",
      "Step #28800.00 (0ms ?*RT. ?UPS, TraCI: 97ms, vehicles TOT 1958 ACT 69 BUF 88)             CI: 25ms, vehicles TOT 2 ACT 2 BUF 0)  \n",
      "Step #28800.00 (0ms ?*RT. ?UPS, TraCI: 84ms, vehicles TOT 1970 ACT 71 BUF 76)             es TOT 2 ACT 2 BUF 0)                  \n"
     ]
    },
    {
     "name": "stderr",
     "output_type": "stream",
     "text": [
      "\u001b[2m\u001b[36m(RolloutWorker pid=20048)\u001b[0m Warning: Vehicle '188987_434_0' performs emergency braking on lane ':26110729_5_1' with decel=9.00, wished=4.50, severity=1.00, time=26154.00.\n"
     ]
    },
    {
     "name": "stdout",
     "output_type": "stream",
     "text": [
      "Step #26100.00 (1ms ~= 1000.00*RT, ~91000.00UPS, TraCI: 90ms, vehicles TOT 555 ACT 91 BUF es TOT 2 ACT 2 BUF 0)                  \n"
     ]
    },
    {
     "name": "stderr",
     "output_type": "stream",
     "text": [
      "\u001b[2m\u001b[36m(RolloutWorker pid=9256)\u001b[0m Warning: Vehicle '178434_430_0' performs emergency braking on lane '186623965#9_1' with decel=9.00, wished=4.50, severity=1.00, time=27303.00.\n"
     ]
    },
    {
     "name": "stdout",
     "output_type": "stream",
     "text": [
      "Step #27300.00 (1ms ~= 1000.00*RT, ~93000.00UPS, TraCI: 149ms, vehicles TOT 1292 ACT 93 BUs TOT 2 ACT 2 BUF 0)                  \n"
     ]
    },
    {
     "name": "stderr",
     "output_type": "stream",
     "text": [
      "\u001b[2m\u001b[36m(RolloutWorker pid=13628)\u001b[0m Warning: Vehicle '224598_449_0' performs emergency braking on lane ':26110729_5_1' with decel=9.00, wished=4.50, severity=1.00, time=27403.00.\n"
     ]
    },
    {
     "name": "stdout",
     "output_type": "stream",
     "text": [
      "Step #27400.00 (0ms ?*RT. ?UPS, TraCI: 84ms, vehicles TOT 1332 ACT 76 BUF 37)             es TOT 2 ACT 2 BUF 0)                  \n",
      "Step #26900.00 (1ms ~= 1000.00*RT, ~101000.00UPS, TraCI: 88ms, vehicles TOT 1024 ACT 101 BCI: 29ms, vehicles TOT 2 ACT 2 BUF 0)  \n",
      "Step #28800.00 (1ms ~= 1000.00*RT, ~65000.00UPS, TraCI: 136ms, vehicles TOT 1958 ACT 65 BUes TOT 1379 ACT 80 BUF 35)             \n",
      "Step #28800.00 (1ms ~= 1000.00*RT, ~72000.00UPS, TraCI: 126ms, vehicles TOT 1956 ACT 72 BUes TOT 628 ACT 103 BUF 33)             \n",
      "Step #28800.00 (0ms ?*RT. ?UPS, TraCI: 132ms, vehicles TOT 1959 ACT 68 BUF 87)            es TOT 2 ACT 2 BUF 0)                  \n",
      "Step #28800.00 (1ms ~= 1000.00*RT, ~70000.00UPS, TraCI: 127ms, vehicles TOT 1957 ACT 70 BUI: 26ms, vehicles TOT 2 ACT 2 BUF 0)  \n",
      "Step #28800.00 (0ms ?*RT. ?UPS, TraCI: 114ms, vehicles TOT 1974 ACT 69 BUF 72)            s TOT 2 ACT 2 BUF 0)                  \n",
      "Step #28800.00 (0ms ?*RT. ?UPS, TraCI: 119ms, vehicles TOT 1970 ACT 72 BUF 76)            CI: 84ms, vehicles TOT 1340 ACT 75 BUF\n",
      "Step #28800.00 (0ms ?*RT. ?UPS, TraCI: 99ms, vehicles TOT 1964 ACT 85 BUF 82)             CI: 27ms, vehicles TOT 2 ACT 2 BUF 0)  \n",
      "Step #28800.00 (0ms ?*RT. ?UPS, TraCI: 88ms, vehicles TOT 1948 ACT 67 BUF 98)             s TOT 2 ACT 2 BUF 0)                  \n",
      "Step #28800.00 (0ms ?*RT. ?UPS, TraCI: 88ms, vehicles TOT 1965 ACT 70 BUF 81)             es TOT 1092 ACT 96 BUF 47)             \n",
      "Step #28800.00 (0ms ?*RT. ?UPS, TraCI: 93ms, vehicles TOT 1970 ACT 70 BUF 76)             es TOT 2 ACT 2 BUF 0)                  \n"
     ]
    },
    {
     "name": "stderr",
     "output_type": "stream",
     "text": [
      "\u001b[2m\u001b[36m(RolloutWorker pid=21792)\u001b[0m Warning: Vehicle '188987_434_0' performs emergency braking on lane ':26110729_5_1' with decel=9.00, wished=4.50, severity=1.00, time=26154.00.\u001b[32m [repeated 2x across cluster]\u001b[0m\n"
     ]
    },
    {
     "name": "stdout",
     "output_type": "stream",
     "text": [
      "Step #26100.00 (0ms ?*RT. ?UPS, TraCI: 86ms, vehicles TOT 557 ACT 93 BUF 25)              es TOT 2 ACT 2 BUF 0)                  \n",
      "Step #26100.00 (1ms ~= 1000.00*RT, ~95000.00UPS, TraCI: 91ms, vehicles TOT 556 ACT 95 BUF es TOT 2 ACT 2 BUF 0)                  \n"
     ]
    },
    {
     "name": "stderr",
     "output_type": "stream",
     "text": [
      "\u001b[2m\u001b[36m(RolloutWorker pid=19280)\u001b[0m Warning: Vehicle '188987_434_0' performs emergency braking on lane ':26110729_5_1' with decel=9.00, wished=4.50, severity=1.00, time=26154.00.\u001b[32m [repeated 2x across cluster]\u001b[0m\n"
     ]
    },
    {
     "name": "stdout",
     "output_type": "stream",
     "text": [
      "Step #26100.00 (1ms ~= 1000.00*RT, ~90000.00UPS, TraCI: 147ms, vehicles TOT 560 ACT 90 BUFCI: 35ms, vehicles TOT 2 ACT 2 BUF 0)  \n",
      "Step #26800.00 (0ms ?*RT. ?UPS, TraCI: 77ms, vehicles TOT 951 ACT 80 BUF 67)              es TOT 2 ACT 2 BUF 0)                  \n"
     ]
    },
    {
     "name": "stderr",
     "output_type": "stream",
     "text": [
      "\u001b[2m\u001b[36m(RolloutWorker pid=24144)\u001b[0m Warning: Vehicle '155045_420_0' performs emergency braking on lane '186623965#9_1' with decel=9.00, wished=4.50, severity=1.00, time=26411.00.\u001b[32m [repeated 2x across cluster]\u001b[0m\n"
     ]
    },
    {
     "name": "stdout",
     "output_type": "stream",
     "text": [
      "Step #26400.00 (1ms ~= 1000.00*RT, ~108000.00UPS, TraCI: 96ms, vehicles TOT 764 ACT 108 BUCI: 35ms, vehicles TOT 2 ACT 2 BUF 0)  \n"
     ]
    },
    {
     "name": "stderr",
     "output_type": "stream",
     "text": [
      "\u001b[2m\u001b[36m(RolloutWorker pid=24144)\u001b[0m Warning: Vehicle '203493_439_0' performs emergency braking on lane ':26110729_16_0' with decel=9.00, wished=4.50, severity=1.00, time=26747.00.\n"
     ]
    },
    {
     "name": "stdout",
     "output_type": "stream",
     "text": [
      "Step #26700.00 (0ms ?*RT. ?UPS, TraCI: 84ms, vehicles TOT 912 ACT 74 BUF 67)              es TOT 810 ACT 97 BUF 70)              \n",
      "Step #28800.00 (1ms ~= 1000.00*RT, ~69000.00UPS, TraCI: 86ms, vehicles TOT 1960 ACT 69 BUFraCI: 154ms, vehicles TOT 628 ACT 100 B\n",
      "Step #28800.00 (0ms ?*RT. ?UPS, TraCI: 84ms, vehicles TOT 1958 ACT 69 BUF 88)             s TOT 2 ACT 2 BUF 0)                  \n",
      "Step #28800.00 (1ms ~= 1000.00*RT, ~71000.00UPS, TraCI: 85ms, vehicles TOT 1969 ACT 71 BUFCI: 26ms, vehicles TOT 2 ACT 2 BUF 0)  \n",
      "Step #28800.00 (1ms ~= 1000.00*RT, ~67000.00UPS, TraCI: 84ms, vehicles TOT 1954 ACT 67 BUFles TOT 627 ACT 109 BUF 34)            \n",
      "Step #28800.00 (0ms ?*RT. ?UPS, TraCI: 88ms, vehicles TOT 1959 ACT 67 BUF 87)             I: 26ms, vehicles TOT 2 ACT 2 BUF 0)  \n",
      "Step #28800.00 (1ms ~= 1000.00*RT, ~69000.00UPS, TraCI: 84ms, vehicles TOT 1962 ACT 69 BUFs TOT 2 ACT 2 BUF 0)                  \n",
      "Step #28800.00 (0ms ?*RT. ?UPS, TraCI: 62ms, vehicles TOT 1956 ACT 74 BUF 90)             es TOT 1018 ACT 100 BUF 60)            \n",
      "Step #28800.00 (1ms ~= 1000.00*RT, ~71000.00UPS, TraCI: 91ms, vehicles TOT 1962 ACT 71 BUFs TOT 2 ACT 2 BUF 0)                  \n",
      "Step #28800.00 (1ms ~= 1000.00*RT, ~66000.00UPS, TraCI: 91ms, vehicles TOT 1976 ACT 66 BUFraCI: 95ms, vehicles TOT 633 ACT 104 BU\n",
      "Step #28800.00 (0ms ?*RT. ?UPS, TraCI: 92ms, vehicles TOT 1982 ACT 76 BUF 64)             es TOT 957 ACT 78 BUF 61)              \n"
     ]
    },
    {
     "name": "stderr",
     "output_type": "stream",
     "text": [
      "\u001b[2m\u001b[36m(RolloutWorker pid=3060)\u001b[0m Warning: Vehicle '216002_445_0' performs emergency braking on lane ':26110729_16_0' with decel=9.00, wished=4.50, severity=1.00, time=26822.00.\n"
     ]
    },
    {
     "name": "stdout",
     "output_type": "stream",
     "text": [
      "Step #26800.00 (1ms ~= 1000.00*RT, ~81000.00UPS, TraCI: 77ms, vehicles TOT 954 ACT 81 BUF I: 35ms, vehicles TOT 2 ACT 2 BUF 0)  \n"
     ]
    },
    {
     "name": "stderr",
     "output_type": "stream",
     "text": [
      "\u001b[2m\u001b[36m(RolloutWorker pid=3200)\u001b[0m Warning: Vehicle '218408_446_0' performs emergency braking on lane ':cluster_1098574052_1098574061_247379905_15_0' with decel=9.00, wished=4.50, severity=1.00, time=27567.00.\n"
     ]
    },
    {
     "name": "stdout",
     "output_type": "stream",
     "text": [
      "Step #27500.00 (0ms ?*RT. ?UPS, TraCI: 146ms, vehicles TOT 1385 ACT 79 BUF 29)            s TOT 2 ACT 2 BUF 0)                  \n"
     ]
    },
    {
     "name": "stderr",
     "output_type": "stream",
     "text": [
      "\u001b[2m\u001b[36m(RolloutWorker pid=24144)\u001b[0m Warning: Vehicle '184516_431_0' performs emergency braking on lane ':26110729_5_1' with decel=9.00, wished=4.50, severity=1.00, time=27650.00.\n"
     ]
    },
    {
     "name": "stdout",
     "output_type": "stream",
     "text": [
      "Step #27600.00 (0ms ?*RT. ?UPS, TraCI: 106ms, vehicles TOT 1436 ACT 99 BUF 52)            CI: 40ms, vehicles TOT 2 ACT 2 BUF 0)  \n",
      "Step #28400.00 (0ms ?*RT. ?UPS, TraCI: 83ms, vehicles TOT 1808 ACT 78 BUF 73)             CI: 37ms, vehicles TOT 2 ACT 2 BUF 0)  \n",
      "Step #28800.00 (1ms ~= 1000.00*RT, ~68000.00UPS, TraCI: 91ms, vehicles TOT 1962 ACT 68 BUFes TOT 1848 ACT 69 BUF 85)             \n",
      "Step #28800.00 (0ms ?*RT. ?UPS, TraCI: 94ms, vehicles TOT 1947 ACT 65 BUF 99)             CI: 34ms, vehicles TOT 2 ACT 2 BUF 0)  \n",
      "Step #28800.00 (0ms ?*RT. ?UPS, TraCI: 91ms, vehicles TOT 1962 ACT 69 BUF 84)             s TOT 1024 ACT 101 BUF 54)            \n",
      "Step #28800.00 (1ms ~= 1000.00*RT, ~69000.00UPS, TraCI: 91ms, vehicles TOT 1962 ACT 69 BUFCI: 37ms, vehicles TOT 2 ACT 2 BUF 0)  \n",
      "Step #28800.00 (1ms ~= 1000.00*RT, ~68000.00UPS, TraCI: 91ms, vehicles TOT 1954 ACT 68 BUFes TOT 2 ACT 2 BUF 0)                  \n",
      "Step #28800.00 (1ms ~= 1000.00*RT, ~73000.00UPS, TraCI: 96ms, vehicles TOT 1962 ACT 73 BUFI: 35ms, vehicles TOT 2 ACT 2 BUF 0)  \n",
      "Step #28800.00 (1ms ~= 1000.00*RT, ~65000.00UPS, TraCI: 100ms, vehicles TOT 1952 ACT 65 BUI: 34ms, vehicles TOT 2 ACT 2 BUF 0)  \n",
      "Step #28800.00 (0ms ?*RT. ?UPS, TraCI: 105ms, vehicles TOT 1969 ACT 71 BUF 77)            aCI: 103ms, vehicles TOT 1444 ACT 101 \n",
      "Step #28800.00 (1ms ~= 1000.00*RT, ~70000.00UPS, TraCI: 104ms, vehicles TOT 1959 ACT 70 BUes TOT 1485 ACT 95 BUF 58)             \n",
      "Step #28800.00 (0ms ?*RT. ?UPS, TraCI: 99ms, vehicles TOT 1959 ACT 71 BUF 87)             CI: 33ms, vehicles TOT 2 ACT 2 BUF 0)  \n",
      "Step #28800.00 (0ms ?*RT. ?UPS, TraCI: 109ms, vehicles TOT 1959 ACT 70 BUF 87)            es TOT 2 ACT 2 BUF 0)                  \n",
      "Step #28800.00 (0ms ?*RT. ?UPS, TraCI: 108ms, vehicles TOT 1954 ACT 67 BUF 92)            CI: 39ms, vehicles TOT 2 ACT 2 BUF 0)  \n",
      "Step #28800.00 (0ms ?*RT. ?UPS, TraCI: 105ms, vehicles TOT 1951 ACT 68 BUF 95)            I: 35ms, vehicles TOT 2 ACT 2 BUF 0)  \n",
      "Step #28800.00 (1ms ~= 1000.00*RT, ~68000.00UPS, TraCI: 111ms, vehicles TOT 1955 ACT 68 BUCI: 41ms, vehicles TOT 2 ACT 2 BUF 0)  \n",
      "Step #28800.00 (0ms ?*RT. ?UPS, TraCI: 108ms, vehicles TOT 1942 ACT 67 BUF 104)           es TOT 2 ACT 2 BUF 0)                  \n",
      "Step #28800.00 (1ms ~= 1000.00*RT, ~69000.00UPS, TraCI: 103ms, vehicles TOT 1958 ACT 69 BUs TOT 2 ACT 2 BUF 0)                  \n",
      "Step #28800.00 (1ms ~= 1000.00*RT, ~71000.00UPS, TraCI: 78ms, vehicles TOT 1958 ACT 71 BUFI: 38ms, vehicles TOT 2 ACT 2 BUF 0)  \n",
      "Step #28800.00 (0ms ?*RT. ?UPS, TraCI: 81ms, vehicles TOT 1954 ACT 68 BUF 92)             I: 26ms, vehicles TOT 2 ACT 2 BUF 0)  \n",
      "Step #28800.00 (1ms ~= 1000.00*RT, ~72000.00UPS, TraCI: 77ms, vehicles TOT 1966 ACT 72 BUFes TOT 2 ACT 2 BUF 0)                  \n",
      "Step #28800.00 (0ms ?*RT. ?UPS, TraCI: 78ms, vehicles TOT 1954 ACT 69 BUF 92)             CI: 25ms, vehicles TOT 2 ACT 2 BUF 0)  \n",
      "Step #28800.00 (0ms ?*RT. ?UPS, TraCI: 121ms, vehicles TOT 1959 ACT 69 BUF 87)            CI: 33ms, vehicles TOT 2 ACT 2 BUF 0)  \n",
      "Step #28800.00 (0ms ?*RT. ?UPS, TraCI: 124ms, vehicles TOT 1955 ACT 68 BUF 91)            CI: 35ms, vehicles TOT 2 ACT 2 BUF 0)  \n",
      "Step #28800.00 (1ms ~= 1000.00*RT, ~69000.00UPS, TraCI: 98ms, vehicles TOT 1963 ACT 69 BUFCI: 34ms, vehicles TOT 2 ACT 2 BUF 0)  \n",
      "Step #28800.00 (1ms ~= 1000.00*RT, ~68000.00UPS, TraCI: 110ms, vehicles TOT 1955 ACT 68 BUs TOT 2 ACT 2 BUF 0)                  \n",
      "Step #28800.00 (1ms ~= 1000.00*RT, ~67000.00UPS, TraCI: 118ms, vehicles TOT 1955 ACT 67 BUCI: 33ms, vehicles TOT 2 ACT 2 BUF 0)  \n",
      "Step #28800.00 (0ms ?*RT. ?UPS, TraCI: 112ms, vehicles TOT 1952 ACT 67 BUF 94)            s TOT 2 ACT 2 BUF 0)                  \n",
      "Step #28800.00 (1ms ~= 1000.00*RT, ~67000.00UPS, TraCI: 112ms, vehicles TOT 1952 ACT 67 BUs TOT 2 ACT 2 BUF 0)                  \n",
      "Step #28800.00 (0ms ?*RT. ?UPS, TraCI: 84ms, vehicles TOT 1954 ACT 72 BUF 92)             I: 24ms, vehicles TOT 2 ACT 2 BUF 0)  \n",
      "Step #28800.00 (0ms ?*RT. ?UPS, TraCI: 86ms, vehicles TOT 1957 ACT 68 BUF 89)             CI: 25ms, vehicles TOT 2 ACT 2 BUF 0)  \n",
      "Step #28800.00 (0ms ?*RT. ?UPS, TraCI: 86ms, vehicles TOT 1964 ACT 71 BUF 82)             CI: 25ms, vehicles TOT 2 ACT 2 BUF 0)  \n"
     ]
    },
    {
     "name": "stderr",
     "output_type": "stream",
     "text": [
      "\u001b[2m\u001b[36m(RolloutWorker pid=9256)\u001b[0m Warning: Vehicle '188987_434_0' performs emergency braking on lane ':26110729_5_1' with decel=9.00, wished=4.50, severity=1.00, time=26154.00.\u001b[32m [repeated 2x across cluster]\u001b[0m\n"
     ]
    },
    {
     "name": "stdout",
     "output_type": "stream",
     "text": [
      "Step #26100.00 (0ms ?*RT. ?UPS, TraCI: 88ms, vehicles TOT 554 ACT 94 BUF 28)              I: 28ms, vehicles TOT 2 ACT 2 BUF 0)  \n",
      "Step #26100.00 (1ms ~= 1000.00*RT, ~97000.00UPS, TraCI: 86ms, vehicles TOT 552 ACT 97 BUF s TOT 2 ACT 2 BUF 0)                  \n"
     ]
    },
    {
     "name": "stderr",
     "output_type": "stream",
     "text": [
      "\u001b[2m\u001b[36m(RolloutWorker pid=9256)\u001b[0m Warning: Vehicle '145955_416_0' performs emergency braking on lane ':26110729_5_1' with decel=9.00, wished=4.50, severity=1.00, time=26385.00.\u001b[32m [repeated 2x across cluster]\u001b[0m\n"
     ]
    },
    {
     "name": "stdout",
     "output_type": "stream",
     "text": [
      "Step #26300.00 (0ms ?*RT. ?UPS, TraCI: 124ms, vehicles TOT 713 ACT 113 BUF 50)            aCI: 77ms, vehicles TOT 627 ACT 100 BU\n"
     ]
    },
    {
     "name": "stderr",
     "output_type": "stream",
     "text": [
      "\u001b[2m\u001b[36m(RolloutWorker pid=21792)\u001b[0m Warning: Vehicle '243791_453_0' performs emergency braking on lane '186623965#9_1' with decel=9.00, wished=4.50, severity=1.00, time=27347.00.\n"
     ]
    },
    {
     "name": "stdout",
     "output_type": "stream",
     "text": [
      "Step #27300.00 (0ms ?*RT. ?UPS, TraCI: 141ms, vehicles TOT 1286 ACT 90 BUF 39)            CI: 32ms, vehicles TOT 2 ACT 2 BUF 0)  \n"
     ]
    },
    {
     "name": "stderr",
     "output_type": "stream",
     "text": [
      "\u001b[2m\u001b[36m(RolloutWorker pid=3200)\u001b[0m Warning: Vehicle '156336_420_0' performs emergency braking on lane ':26110729_16_0' with decel=9.00, wished=4.50, severity=1.00, time=27277.00.\n"
     ]
    },
    {
     "name": "stdout",
     "output_type": "stream",
     "text": [
      "Step #27200.00 (1ms ~= 1000.00*RT, ~92000.00UPS, TraCI: 154ms, vehicles TOT 1223 ACT 92 BUI: 28ms, vehicles TOT 2 ACT 2 BUF 0)  \n",
      "Step #28800.00 (1ms ~= 1000.00*RT, ~68000.00UPS, TraCI: 120ms, vehicles TOT 1966 ACT 68 BUes TOT 2 ACT 2 BUF 0)                  \n",
      "Step #28800.00 (1ms ~= 1000.00*RT, ~71000.00UPS, TraCI: 137ms, vehicles TOT 1963 ACT 71 BUes TOT 1332 ACT 73 BUF 37)             \n",
      "Step #28800.00 (0ms ?*RT. ?UPS, TraCI: 124ms, vehicles TOT 1955 ACT 67 BUF 91)            s TOT 624 ACT 104 BUF 37)             \n",
      "Step #28800.00 (0ms ?*RT. ?UPS, TraCI: 128ms, vehicles TOT 1953 ACT 68 BUF 93)            CI: 26ms, vehicles TOT 2 ACT 2 BUF 0)  \n",
      "Step #28800.00 (0ms ?*RT. ?UPS, TraCI: 136ms, vehicles TOT 1954 ACT 69 BUF 92)            s TOT 761 ACT 100 BUF 62)             \n",
      "Step #28800.00 (0ms ?*RT. ?UPS, TraCI: 120ms, vehicles TOT 1955 ACT 69 BUF 91)            CI: 23ms, vehicles TOT 2 ACT 2 BUF 0)  \n",
      "Step #28800.00 (1ms ~= 1000.00*RT, ~69000.00UPS, TraCI: 117ms, vehicles TOT 1957 ACT 69 BUs TOT 2 ACT 2 BUF 0)                  \n",
      "Step #28800.00 (0ms ?*RT. ?UPS, TraCI: 90ms, vehicles TOT 1954 ACT 68 BUF 92)             CI: 84ms, vehicles TOT 1284 ACT 86 BUF\n",
      "Step #28800.00 (0ms ?*RT. ?UPS, TraCI: 85ms, vehicles TOT 1958 ACT 68 BUF 88)             es TOT 2 ACT 2 BUF 0)                  \n",
      "Step #28800.00 (0ms ?*RT. ?UPS, TraCI: 85ms, vehicles TOT 1958 ACT 72 BUF 88)             CI: 28ms, vehicles TOT 2 ACT 2 BUF 0)  \n"
     ]
    },
    {
     "name": "stderr",
     "output_type": "stream",
     "text": [
      "\u001b[2m\u001b[36m(RolloutWorker pid=1732)\u001b[0m Warning: Vehicle '188987_434_0' performs emergency braking on lane ':26110729_5_1' with decel=9.00, wished=4.50, severity=1.00, time=26154.00.\n"
     ]
    },
    {
     "name": "stdout",
     "output_type": "stream",
     "text": [
      "Step #26100.00 (1ms ~= 1000.00*RT, ~93000.00UPS, TraCI: 85ms, vehicles TOT 555 ACT 93 BUF I: 26ms, vehicles TOT 2 ACT 2 BUF 0)  \n"
     ]
    },
    {
     "name": "stderr",
     "output_type": "stream",
     "text": [
      "\u001b[2m\u001b[36m(RolloutWorker pid=13580)\u001b[0m Warning: Vehicle '191387_435_0' performs emergency braking on lane ':26110729_16_0' with decel=9.00, wished=4.50, severity=1.00, time=26892.00.\n"
     ]
    },
    {
     "name": "stdout",
     "output_type": "stream",
     "text": [
      "Step #26800.00 (1ms ~= 1000.00*RT, ~81000.00UPS, TraCI: 80ms, vehicles TOT 949 ACT 81 BUF CI: 27ms, vehicles TOT 2 ACT 2 BUF 0)  \n"
     ]
    },
    {
     "name": "stderr",
     "output_type": "stream",
     "text": [
      "\u001b[2m\u001b[36m(RolloutWorker pid=20048)\u001b[0m Warning: Vehicle '149857_417_0' performs emergency braking on lane ':26110729_7_0' with decel=9.00, wished=4.50, severity=1.00, time=27917.00.\n"
     ]
    },
    {
     "name": "stdout",
     "output_type": "stream",
     "text": [
      "Step #27900.00 (0ms ?*RT. ?UPS, TraCI: 84ms, vehicles TOT 1556 ACT 74 BUF 64)             CI: 25ms, vehicles TOT 2 ACT 2 BUF 0)  \n",
      "Step #28800.00 (0ms ?*RT. ?UPS, TraCI: 84ms, vehicles TOT 1958 ACT 69 BUF 88)             aCI: 89ms, vehicles TOT 1012 ACT 96 BUF\n",
      "Step #28800.00 (0ms ?*RT. ?UPS, TraCI: 82ms, vehicles TOT 1953 ACT 66 BUF 93)             es TOT 1608 ACT 84 BUF 65)             \n",
      "Step #28800.00 (1ms ~= 1000.00*RT, ~69000.00UPS, TraCI: 77ms, vehicles TOT 1961 ACT 69 BUFCI: 28ms, vehicles TOT 2 ACT 2 BUF 0)  \n",
      "Step #28800.00 (0ms ?*RT. ?UPS, TraCI: 85ms, vehicles TOT 1954 ACT 65 BUF 92)             s TOT 2 ACT 2 BUF 0)                  \n",
      "Step #28800.00 (0ms ?*RT. ?UPS, TraCI: 85ms, vehicles TOT 1958 ACT 68 BUF 88)             CI: 25ms, vehicles TOT 2 ACT 2 BUF 0)  \n",
      "Step #28800.00 (0ms ?*RT. ?UPS, TraCI: 79ms, vehicles TOT 1958 ACT 73 BUF 88)             es TOT 627 ACT 100 BUF 34)            \n",
      "Step #28800.00 (0ms ?*RT. ?UPS, TraCI: 84ms, vehicles TOT 1957 ACT 68 BUF 89)             s TOT 2 ACT 2 BUF 0)                  \n",
      "Step #28800.00 (0ms ?*RT. ?UPS, TraCI: 100ms, vehicles TOT 1952 ACT 65 BUF 94)            I: 36ms, vehicles TOT 2 ACT 2 BUF 0)  \n",
      "Step #28800.00 (1ms ~= 1000.00*RT, ~72000.00UPS, TraCI: 94ms, vehicles TOT 1966 ACT 72 BUFCI: 38ms, vehicles TOT 2 ACT 2 BUF 0)  \n",
      "Step #28800.00 (1ms ~= 1000.00*RT, ~76000.00UPS, TraCI: 93ms, vehicles TOT 1965 ACT 76 BUFCI: 36ms, vehicles TOT 2 ACT 2 BUF 0)  \n"
     ]
    },
    {
     "name": "stderr",
     "output_type": "stream",
     "text": [
      "\u001b[2m\u001b[36m(RolloutWorker pid=3200)\u001b[0m Warning: Vehicle '188987_434_0' performs emergency braking on lane ':26110729_5_1' with decel=9.00, wished=4.50, severity=1.00, time=26154.00.\n"
     ]
    },
    {
     "name": "stdout",
     "output_type": "stream",
     "text": [
      "Step #26100.00 (1ms ~= 1000.00*RT, ~96000.00UPS, TraCI: 100ms, vehicles TOT 553 ACT 96 BUFI: 34ms, vehicles TOT 2 ACT 2 BUF 0)  \n",
      "Step #28800.00 (0ms ?*RT. ?UPS, TraCI: 92ms, vehicles TOT 1955 ACT 69 BUF 91)             CI: 33ms, vehicles TOT 2 ACT 2 BUF 0)  \n",
      "Step #28800.00 (0ms ?*RT. ?UPS, TraCI: 96ms, vehicles TOT 1960 ACT 71 BUF 86)             CI: 32ms, vehicles TOT 2 ACT 2 BUF 0)  \n",
      "Step #28800.00 (0ms ?*RT. ?UPS, TraCI: 98ms, vehicles TOT 1962 ACT 70 BUF 84)             I: 32ms, vehicles TOT 2 ACT 2 BUF 0)  \n",
      "Step #28800.00 (0ms ?*RT. ?UPS, TraCI: 97ms, vehicles TOT 1950 ACT 66 BUF 96)             es TOT 2 ACT 2 BUF 0)                  \n",
      "Step #28800.00 (0ms ?*RT. ?UPS, TraCI: 96ms, vehicles TOT 1955 ACT 70 BUF 91)             CI: 36ms, vehicles TOT 2 ACT 2 BUF 0)  \n",
      "Step #28800.00 (0ms ?*RT. ?UPS, TraCI: 96ms, vehicles TOT 1948 ACT 71 BUF 98)             s TOT 2 ACT 2 BUF 0)                  \n",
      "Step #28800.00 (0ms ?*RT. ?UPS, TraCI: 95ms, vehicles TOT 1947 ACT 68 BUF 99)             s TOT 2 ACT 2 BUF 0)                  \n"
     ]
    },
    {
     "name": "stderr",
     "output_type": "stream",
     "text": [
      "\u001b[2m\u001b[36m(RolloutWorker pid=19280)\u001b[0m Warning: Vehicle '231835_451_0' performs emergency braking on lane ':26110729_5_1' with decel=9.00, wished=4.50, severity=1.00, time=28494.00.\n"
     ]
    },
    {
     "name": "stdout",
     "output_type": "stream",
     "text": [
      "Step #28400.00 (1ms ~= 1000.00*RT, ~76000.00UPS, TraCI: 85ms, vehicles TOT 1803 ACT 76 BUFCI: 36ms, vehicles TOT 2 ACT 2 BUF 0)  \n",
      "Step #28800.00 (0ms ?*RT. ?UPS, TraCI: 111ms, vehicles TOT 1958 ACT 68 BUF 88)            es TOT 624 ACT 104 BUF 37)            \n",
      "Step #28800.00 (0ms ?*RT. ?UPS, TraCI: 104ms, vehicles TOT 1953 ACT 67 BUF 93)            les TOT 1844 ACT 73 BUF 89)            \n",
      "Step #28800.00 (0ms ?*RT. ?UPS, TraCI: 102ms, vehicles TOT 1965 ACT 73 BUF 81)            es TOT 2 ACT 2 BUF 0)                  \n"
     ]
    },
    {
     "name": "stderr",
     "output_type": "stream",
     "text": [
      "\u001b[2m\u001b[36m(RolloutWorker pid=13580)\u001b[0m Warning: Vehicle '191387_435_0' performs emergency braking on lane ':26110729_16_0' with decel=9.00, wished=4.50, severity=1.00, time=26892.00.\n"
     ]
    },
    {
     "name": "stdout",
     "output_type": "stream",
     "text": [
      "Step #26800.00 (1ms ~= 1000.00*RT, ~80000.00UPS, TraCI: 79ms, vehicles TOT 944 ACT 80 BUF es TOT 2 ACT 2 BUF 0)                  \n"
     ]
    },
    {
     "name": "stderr",
     "output_type": "stream",
     "text": [
      "\u001b[2m\u001b[36m(RolloutWorker pid=1732)\u001b[0m Warning: Vehicle '156336_420_0' performs emergency braking on lane ':26110729_16_0' with decel=9.00, wished=4.50, severity=1.00, time=27282.00.\n"
     ]
    },
    {
     "name": "stdout",
     "output_type": "stream",
     "text": [
      "Step #27200.00 (0ms ?*RT. ?UPS, TraCI: 100ms, vehicles TOT 1222 ACT 91 BUF 45)            I: 36ms, vehicles TOT 2 ACT 2 BUF 0)  \n",
      "Step #28800.00 (1ms ~= 1000.00*RT, ~69000.00UPS, TraCI: 104ms, vehicles TOT 1962 ACT 69 BUCI: 35ms, vehicles TOT 2 ACT 2 BUF 0)  \n",
      "Step #28800.00 (1ms ~= 1000.00*RT, ~69000.00UPS, TraCI: 106ms, vehicles TOT 1958 ACT 69 BUI: 39ms, vehicles TOT 2 ACT 2 BUF 0)  \n",
      "Step #28800.00 (0ms ?*RT. ?UPS, TraCI: 109ms, vehicles TOT 1954 ACT 68 BUF 92)            es TOT 2 ACT 2 BUF 0)                  \n",
      "Step #28800.00 (0ms ?*RT. ?UPS, TraCI: 108ms, vehicles TOT 1948 ACT 70 BUF 98)            es TOT 1009 ACT 97 BUF 69)             \n",
      "Step #28800.00 (0ms ?*RT. ?UPS, TraCI: 118ms, vehicles TOT 1946 ACT 66 BUF 100)           CI: 36ms, vehicles TOT 2 ACT 2 BUF 0)  \n",
      "Step #28800.00 (0ms ?*RT. ?UPS, TraCI: 103ms, vehicles TOT 1965 ACT 73 BUF 81)            s TOT 1282 ACT 90 BUF 43)             \n",
      "Step #28800.00 (0ms ?*RT. ?UPS, TraCI: 107ms, vehicles TOT 1959 ACT 68 BUF 87)            I: 32ms, vehicles TOT 2 ACT 2 BUF 0)  \n"
     ]
    },
    {
     "name": "stderr",
     "output_type": "stream",
     "text": [
      "\u001b[2m\u001b[36m(RolloutWorker pid=3200)\u001b[0m Warning: Vehicle '235972_451_0' performs emergency braking on lane ':26110729_5_1' with decel=9.00, wished=4.50, severity=1.00, time=28469.00.\n"
     ]
    },
    {
     "name": "stdout",
     "output_type": "stream",
     "text": [
      "Step #28400.00 (0ms ?*RT. ?UPS, TraCI: 150ms, vehicles TOT 1803 ACT 78 BUF 78)            s TOT 2 ACT 2 BUF 0)                  \n",
      "Step #28800.00 (0ms ?*RT. ?UPS, TraCI: 87ms, vehicles TOT 1952 ACT 70 BUF 94)             CI: 83ms, vehicles TOT 1842 ACT 71 BUF\n",
      "Step #28800.00 (0ms ?*RT. ?UPS, TraCI: 79ms, vehicles TOT 1959 ACT 67 BUF 87)             es TOT 2 ACT 2 BUF 0)                  \n",
      "Step #28800.00 (0ms ?*RT. ?UPS, TraCI: 71ms, vehicles TOT 1960 ACT 71 BUF 86)             CI: 27ms, vehicles TOT 2 ACT 2 BUF 0)  \n"
     ]
    },
    {
     "name": "stderr",
     "output_type": "stream",
     "text": [
      "\u001b[2m\u001b[36m(RolloutWorker pid=9256)\u001b[0m Warning: Vehicle '188987_434_0' performs emergency braking on lane ':26110729_5_1' with decel=9.00, wished=4.50, severity=1.00, time=26154.00.\n"
     ]
    },
    {
     "name": "stdout",
     "output_type": "stream",
     "text": [
      "Step #26100.00 (1ms ~= 1000.00*RT, ~89000.00UPS, TraCI: 88ms, vehicles TOT 552 ACT 89 BUF s TOT 2 ACT 2 BUF 0)                  \n"
     ]
    },
    {
     "name": "stderr",
     "output_type": "stream",
     "text": [
      "\u001b[2m\u001b[36m(RolloutWorker pid=20048)\u001b[0m Warning: Vehicle '191387_435_0' performs emergency braking on lane ':26110729_16_0' with decel=9.00, wished=4.50, severity=1.00, time=26892.00.\n"
     ]
    },
    {
     "name": "stdout",
     "output_type": "stream",
     "text": [
      "Step #26800.00 (0ms ?*RT. ?UPS, TraCI: 82ms, vehicles TOT 942 ACT 78 BUF 76)              CI: 34ms, vehicles TOT 2 ACT 2 BUF 0)  \n"
     ]
    },
    {
     "name": "stderr",
     "output_type": "stream",
     "text": [
      "\u001b[2m\u001b[36m(RolloutWorker pid=13628)\u001b[0m Warning: Vehicle '156336_420_0' performs emergency braking on lane ':26110729_16_0' with decel=9.00, wished=4.50, severity=1.00, time=27287.00.\n"
     ]
    },
    {
     "name": "stdout",
     "output_type": "stream",
     "text": [
      "Step #27200.00 (0ms ?*RT. ?UPS, TraCI: 98ms, vehicles TOT 1219 ACT 91 BUF 48)             CI: 36ms, vehicles TOT 2 ACT 2 BUF 0)  \n",
      "Step #28800.00 (0ms ?*RT. ?UPS, TraCI: 123ms, vehicles TOT 1942 ACT 66 BUF 104)           aCI: 143ms, vehicles TOT 1008 ACT 98 BU\n",
      "Step #28800.00 (0ms ?*RT. ?UPS, TraCI: 120ms, vehicles TOT 1949 ACT 69 BUF 97)            I: 35ms, vehicles TOT 2 ACT 2 BUF 0)  \n",
      "Step #28800.00 (0ms ?*RT. ?UPS, TraCI: 119ms, vehicles TOT 1948 ACT 65 BUF 98)            CI: 36ms, vehicles TOT 2 ACT 2 BUF 0)  \n",
      "Step #28800.00 (1ms ~= 1000.00*RT, ~65000.00UPS, TraCI: 117ms, vehicles TOT 1951 ACT 65 BUI: 35ms, vehicles TOT 2 ACT 2 BUF 0)  \n",
      "Step #28800.00 (0ms ?*RT. ?UPS, TraCI: 114ms, vehicles TOT 1947 ACT 66 BUF 99)            CI: 95ms, vehicles TOT 625 ACT 99 BUF \n",
      "Step #28800.00 (1ms ~= 1000.00*RT, ~67000.00UPS, TraCI: 99ms, vehicles TOT 1955 ACT 67 BUFCI: 35ms, vehicles TOT 2 ACT 2 BUF 0)  \n",
      "Step #28800.00 (1ms ~= 1000.00*RT, ~69000.00UPS, TraCI: 96ms, vehicles TOT 1958 ACT 69 BUFes TOT 1282 ACT 93 BUF 43)             \n",
      "Step #28800.00 (0ms ?*RT. ?UPS, TraCI: 85ms, vehicles TOT 1954 ACT 71 BUF 92)             s TOT 2 ACT 2 BUF 0)                  \n",
      "Step #28800.00 (0ms ?*RT. ?UPS, TraCI: 86ms, vehicles TOT 1957 ACT 69 BUF 89)             es TOT 2 ACT 2 BUF 0)                  \n",
      "Step #28800.00 (0ms ?*RT. ?UPS, TraCI: 82ms, vehicles TOT 1952 ACT 71 BUF 94)             CI: 26ms, vehicles TOT 2 ACT 2 BUF 0)  \n"
     ]
    },
    {
     "name": "stderr",
     "output_type": "stream",
     "text": [
      "\u001b[2m\u001b[36m(RolloutWorker pid=3060)\u001b[0m Warning: Vehicle '188987_434_0' performs emergency braking on lane ':26110729_5_1' with decel=9.00, wished=4.50, severity=1.00, time=26154.00.\n"
     ]
    },
    {
     "name": "stdout",
     "output_type": "stream",
     "text": [
      "Step #26100.00 (1ms ~= 1000.00*RT, ~95000.00UPS, TraCI: 92ms, vehicles TOT 557 ACT 95 BUF I: 27ms, vehicles TOT 2 ACT 2 BUF 0)  \n"
     ]
    },
    {
     "name": "stderr",
     "output_type": "stream",
     "text": [
      "\u001b[2m\u001b[36m(RolloutWorker pid=1732)\u001b[0m Warning: Vehicle '161407_421_0' performs emergency braking on lane ':26110729_5_1' with decel=9.00, wished=4.50, severity=1.00, time=26954.00.\n"
     ]
    },
    {
     "name": "stdout",
     "output_type": "stream",
     "text": [
      "Step #26900.00 (0ms ?*RT. ?UPS, TraCI: 99ms, vehicles TOT 1012 ACT 103 BUF 66)            s TOT 2 ACT 2 BUF 0)                  \n",
      "Step #28800.00 (0ms ?*RT. ?UPS, TraCI: 142ms, vehicles TOT 1944 ACT 72 BUF 102)           es TOT 2 ACT 2 BUF 0)                  \n",
      "Step #28800.00 (1ms ~= 1000.00*RT, ~69000.00UPS, TraCI: 138ms, vehicles TOT 1953 ACT 69 BUes TOT 2 ACT 2 BUF 0)                  \n",
      "Step #28800.00 (0ms ?*RT. ?UPS, TraCI: 137ms, vehicles TOT 1956 ACT 68 BUF 90)            s TOT 627 ACT 105 BUF 34)             \n",
      "Step #28800.00 (0ms ?*RT. ?UPS, TraCI: 142ms, vehicles TOT 1948 ACT 66 BUF 98)            CI: 91ms, vehicles TOT 1077 ACT 97 BUF\n",
      "Step #28800.00 (0ms ?*RT. ?UPS, TraCI: 140ms, vehicles TOT 1958 ACT 67 BUF 88)            s TOT 2 ACT 2 BUF 0)                  \n",
      "Step #28800.00 (0ms ?*RT. ?UPS, TraCI: 135ms, vehicles TOT 1965 ACT 70 BUF 81)            es TOT 2 ACT 2 BUF 0)                  \n",
      "Step #28800.00 (0ms ?*RT. ?UPS, TraCI: 128ms, vehicles TOT 1950 ACT 70 BUF 96)            es TOT 2 ACT 2 BUF 0)                  \n",
      "Step #28800.00 (1ms ~= 1000.00*RT, ~69000.00UPS, TraCI: 81ms, vehicles TOT 1958 ACT 69 BUFI: 27ms, vehicles TOT 2 ACT 2 BUF 0)  \n",
      "Step #28800.00 (0ms ?*RT. ?UPS, TraCI: 84ms, vehicles TOT 1947 ACT 67 BUF 99)             CI: 23ms, vehicles TOT 2 ACT 2 BUF 0)  \n",
      "Step #28800.00 (1ms ~= 1000.00*RT, ~67000.00UPS, TraCI: 85ms, vehicles TOT 1952 ACT 67 BUFes TOT 2 ACT 2 BUF 0)                  \n",
      "Step #28800.00 (1ms ~= 1000.00*RT, ~71000.00UPS, TraCI: 84ms, vehicles TOT 1954 ACT 71 BUFCI: 29ms, vehicles TOT 2 ACT 2 BUF 0)  \n",
      "Step #28800.00 (1ms ~= 1000.00*RT, ~68000.00UPS, TraCI: 87ms, vehicles TOT 1958 ACT 68 BUFCI: 30ms, vehicles TOT 2 ACT 2 BUF 0)  \n",
      "Step #28800.00 (0ms ?*RT. ?UPS, TraCI: 83ms, vehicles TOT 1958 ACT 70 BUF 88)             s TOT 2 ACT 2 BUF 0)                  \n",
      "Step #28800.00 (0ms ?*RT. ?UPS, TraCI: 88ms, vehicles TOT 1946 ACT 66 BUF 100)            es TOT 2 ACT 2 BUF 0)                  \n",
      "Step #28800.00 (1ms ~= 1000.00*RT, ~67000.00UPS, TraCI: 80ms, vehicles TOT 1939 ACT 67 BUFCI: 32ms, vehicles TOT 2 ACT 2 BUF 0)  \n",
      "Step #28800.00 (0ms ?*RT. ?UPS, TraCI: 86ms, vehicles TOT 1958 ACT 73 BUF 88)             I: 29ms, vehicles TOT 2 ACT 2 BUF 0)  \n",
      "Step #28800.00 (1ms ~= 1000.00*RT, ~69000.00UPS, TraCI: 88ms, vehicles TOT 1954 ACT 69 BUFI: 35ms, vehicles TOT 2 ACT 2 BUF 0)  \n",
      "Step #28800.00 (1ms ~= 1000.00*RT, ~67000.00UPS, TraCI: 91ms, vehicles TOT 1946 ACT 67 BUFes TOT 2 ACT 2 BUF 0)                  \n",
      "Step #28800.00 (0ms ?*RT. ?UPS, TraCI: 91ms, vehicles TOT 1951 ACT 68 BUF 95)             I: 37ms, vehicles TOT 2 ACT 2 BUF 0)  \n",
      "Step #28800.00 (0ms ?*RT. ?UPS, TraCI: 92ms, vehicles TOT 1954 ACT 70 BUF 92)             CI: 35ms, vehicles TOT 2 ACT 2 BUF 0)  \n"
     ]
    },
    {
     "name": "stderr",
     "output_type": "stream",
     "text": [
      "\u001b[2m\u001b[36m(RolloutWorker pid=1732)\u001b[0m Warning: Vehicle '188987_434_0' performs emergency braking on lane '186623965#9_1' with decel=9.00, wished=4.50, severity=1.00, time=26154.00.\n"
     ]
    },
    {
     "name": "stdout",
     "output_type": "stream",
     "text": [
      "Step #26100.00 (0ms ?*RT. ?UPS, TraCI: 136ms, vehicles TOT 554 ACT 92 BUF 28)             I: 38ms, vehicles TOT 2 ACT 2 BUF 0)  \n"
     ]
    },
    {
     "name": "stderr",
     "output_type": "stream",
     "text": [
      "\u001b[2m\u001b[36m(RolloutWorker pid=3200)\u001b[0m Warning: Vehicle '200971_437_0' performs emergency braking on lane ':26110729_16_0' with decel=9.00, wished=4.50, severity=1.00, time=26167.00.\n"
     ]
    },
    {
     "name": "stdout",
     "output_type": "stream",
     "text": [
      "Step #26100.00 (1ms ~= 1000.00*RT, ~92000.00UPS, TraCI: 90ms, vehicles TOT 554 ACT 92 BUF s TOT 2 ACT 2 BUF 0)                  \n"
     ]
    },
    {
     "name": "stderr",
     "output_type": "stream",
     "text": [
      "\u001b[2m\u001b[36m(RolloutWorker pid=13580)\u001b[0m Warning: Vehicle '156336_420_0' performs emergency braking on lane ':26110729_16_0' with decel=9.00, wished=4.50, severity=1.00, time=27287.00.\n"
     ]
    },
    {
     "name": "stdout",
     "output_type": "stream",
     "text": [
      "Step #27200.00 (1ms ~= 1000.00*RT, ~94000.00UPS, TraCI: 97ms, vehicles TOT 1217 ACT 94 BUFes TOT 2 ACT 2 BUF 0)                  \n",
      "Step #28800.00 (1ms ~= 1000.00*RT, ~68000.00UPS, TraCI: 95ms, vehicles TOT 1959 ACT 68 BUFes TOT 2 ACT 2 BUF 0)                  \n",
      "Step #28800.00 (0ms ?*RT. ?UPS, TraCI: 93ms, vehicles TOT 1958 ACT 65 BUF 88)             s TOT 2 ACT 2 BUF 0)                  \n",
      "Step #28800.00 (1ms ~= 1000.00*RT, ~66000.00UPS, TraCI: 95ms, vehicles TOT 1950 ACT 66 BUFaCI: 88ms, vehicles TOT 1278 ACT 91 BUF\n",
      "Step #28800.00 (1ms ~= 1000.00*RT, ~67000.00UPS, TraCI: 90ms, vehicles TOT 1950 ACT 67 BUFCI: 37ms, vehicles TOT 2 ACT 2 BUF 0)  \n",
      "Step #28800.00 (0ms ?*RT. ?UPS, TraCI: 91ms, vehicles TOT 1955 ACT 68 BUF 91)             CI: 42ms, vehicles TOT 2 ACT 2 BUF 0)  \n",
      "Step #28800.00 (0ms ?*RT. ?UPS, TraCI: 77ms, vehicles TOT 1949 ACT 69 BUF 97)             aCI: 91ms, vehicles TOT 625 ACT 100 BU\n",
      "Step #28800.00 (1ms ~= 1000.00*RT, ~69000.00UPS, TraCI: 93ms, vehicles TOT 1954 ACT 69 BUFI: 40ms, vehicles TOT 2 ACT 2 BUF 0)  \n",
      "Step #28800.00 (0ms ?*RT. ?UPS, TraCI: 110ms, vehicles TOT 1968 ACT 72 BUF 78)            s TOT 627 ACT 105 BUF 34)             \n",
      "Step #28800.00 (0ms ?*RT. ?UPS, TraCI: 105ms, vehicles TOT 1960 ACT 69 BUF 86)            es TOT 2 ACT 2 BUF 0)                  \n",
      "Step #28800.00 (0ms ?*RT. ?UPS, TraCI: 101ms, vehicles TOT 1955 ACT 72 BUF 91)            CI: 38ms, vehicles TOT 2 ACT 2 BUF 0)  \n"
     ]
    },
    {
     "name": "stderr",
     "output_type": "stream",
     "text": [
      "\u001b[2m\u001b[36m(RolloutWorker pid=20048)\u001b[0m Warning: Vehicle '163246_422_0' performs emergency braking on lane ':26110729_16_0' with decel=9.00, wished=4.50, severity=1.00, time=26032.00.\n"
     ]
    },
    {
     "name": "stdout",
     "output_type": "stream",
     "text": [
      "Step #26000.00 (0ms ?*RT. ?UPS, TraCI: 155ms, vehicles TOT 476 ACT 89 BUF 10)             CI: 29ms, vehicles TOT 2 ACT 2 BUF 0)  \n"
     ]
    },
    {
     "name": "stderr",
     "output_type": "stream",
     "text": [
      "\u001b[2m\u001b[36m(RolloutWorker pid=9256)\u001b[0m Warning: Vehicle '189334_434_0' performs emergency braking on lane ':247379907_5_1' with decel=9.00, wished=4.50, severity=1.00, time=26211.00.\n"
     ]
    },
    {
     "name": "stdout",
     "output_type": "stream",
     "text": [
      "Step #26200.00 (0ms ?*RT. ?UPS, TraCI: 94ms, vehicles TOT 628 ACT 102 BUF 33)             s TOT 2 ACT 2 BUF 0)                  \n"
     ]
    },
    {
     "name": "stderr",
     "output_type": "stream",
     "text": [
      "\u001b[2m\u001b[36m(RolloutWorker pid=24144)\u001b[0m Warning: Vehicle '167113_425_0' performs emergency braking on lane '186623965#9_1' with decel=9.00, wished=4.50, severity=1.00, time=26905.00.\n"
     ]
    },
    {
     "name": "stdout",
     "output_type": "stream",
     "text": [
      "Step #26900.00 (0ms ?*RT. ?UPS, TraCI: 122ms, vehicles TOT 1019 ACT 101 BUF 59)           es TOT 2 ACT 2 BUF 0)                  \n"
     ]
    },
    {
     "name": "stderr",
     "output_type": "stream",
     "text": [
      "\u001b[2m\u001b[36m(RolloutWorker pid=21792)\u001b[0m Warning: Vehicle '244584_453_0' performs emergency braking on lane ':26110729_5_1' with decel=9.00, wished=4.50, severity=1.00, time=28489.00.\n"
     ]
    },
    {
     "name": "stdout",
     "output_type": "stream",
     "text": [
      "Step #28400.00 (1ms ~= 1000.00*RT, ~78000.00UPS, TraCI: 85ms, vehicles TOT 1803 ACT 78 BUFes TOT 2 ACT 2 BUF 0)                  \n",
      "Step #28800.00 (0ms ?*RT. ?UPS, TraCI: 111ms, vehicles TOT 1957 ACT 68 BUF 89)            aCI: 146ms, vehicles TOT 1843 ACT 68 BU\n",
      "Step #28800.00 (1ms ~= 1000.00*RT, ~71000.00UPS, TraCI: 102ms, vehicles TOT 1954 ACT 71 BUaCI: 88ms, vehicles TOT 555 ACT 90 BUF \n",
      "Step #28800.00 (0ms ?*RT. ?UPS, TraCI: 104ms, vehicles TOT 1959 ACT 72 BUF 87)            s TOT 2 ACT 2 BUF 0)                  \n",
      "Step #28800.00 (1ms ~= 1000.00*RT, ~68000.00UPS, TraCI: 106ms, vehicles TOT 1954 ACT 68 BUCI: 31ms, vehicles TOT 2 ACT 2 BUF 0)  \n",
      "Step #28800.00 (1ms ~= 1000.00*RT, ~72000.00UPS, TraCI: 106ms, vehicles TOT 1958 ACT 72 BUCI: 35ms, vehicles TOT 2 ACT 2 BUF 0)  \n",
      "Step #28800.00 (1ms ~= 1000.00*RT, ~67000.00UPS, TraCI: 101ms, vehicles TOT 1947 ACT 67 BUI: 43ms, vehicles TOT 2 ACT 2 BUF 0)  \n",
      "Step #28800.00 (0ms ?*RT. ?UPS, TraCI: 112ms, vehicles TOT 1959 ACT 68 BUF 87)            aCI: 101ms, vehicles TOT 713 ACT 118 B\n",
      "Step #28800.00 (1ms ~= 1000.00*RT, ~69000.00UPS, TraCI: 83ms, vehicles TOT 1949 ACT 69 BUFI: 24ms, vehicles TOT 2 ACT 2 BUF 0)  \n",
      "Step #28800.00 (0ms ?*RT. ?UPS, TraCI: 80ms, vehicles TOT 1954 ACT 67 BUF 92)             aCI: 87ms, vehicles TOT 1084 ACT 97 BUF\n",
      "Step #28800.00 (0ms ?*RT. ?UPS, TraCI: 81ms, vehicles TOT 1955 ACT 69 BUF 91)             CI: 28ms, vehicles TOT 2 ACT 2 BUF 0)  \n"
     ]
    },
    {
     "name": "stderr",
     "output_type": "stream",
     "text": [
      "\u001b[2m\u001b[36m(RolloutWorker pid=3060)\u001b[0m Warning: Vehicle '163173_422_0' performs emergency braking on lane ':26110729_16_0' with decel=9.00, wished=4.50, severity=1.00, time=26157.00.\n"
     ]
    },
    {
     "name": "stdout",
     "output_type": "stream",
     "text": [
      "Step #26100.00 (0ms ?*RT. ?UPS, TraCI: 95ms, vehicles TOT 556 ACT 96 BUF 26)              I: 35ms, vehicles TOT 2 ACT 2 BUF 0)  \n"
     ]
    },
    {
     "name": "stderr",
     "output_type": "stream",
     "text": [
      "\u001b[2m\u001b[36m(RolloutWorker pid=19280)\u001b[0m Warning: Vehicle '190542_435_0' performs emergency braking on lane ':26110729_16_0' with decel=9.00, wished=4.50, severity=1.00, time=26102.00.\n"
     ]
    },
    {
     "name": "stdout",
     "output_type": "stream",
     "text": [
      "Step #26100.00 (1ms ~= 1000.00*RT, ~91000.00UPS, TraCI: 88ms, vehicles TOT 558 ACT 91 BUF es TOT 2 ACT 2 BUF 0)                  \n"
     ]
    },
    {
     "name": "stderr",
     "output_type": "stream",
     "text": [
      "\u001b[2m\u001b[36m(RolloutWorker pid=1732)\u001b[0m Warning: Vehicle '161407_421_0' performs emergency braking on lane ':26110729_5_1' with decel=9.00, wished=4.50, severity=1.00, time=26954.00.\n"
     ]
    },
    {
     "name": "stdout",
     "output_type": "stream",
     "text": [
      "Step #26900.00 (1ms ~= 1000.00*RT, ~103000.00UPS, TraCI: 148ms, vehicles TOT 1013 ACT 103 s TOT 2 ACT 2 BUF 0)                  \n",
      "Step #28800.00 (0ms ?*RT. ?UPS, TraCI: 114ms, vehicles TOT 1954 ACT 67 BUF 92)            CI: 39ms, vehicles TOT 2 ACT 2 BUF 0)  \n",
      "Step #28800.00 (1ms ~= 1000.00*RT, ~72000.00UPS, TraCI: 120ms, vehicles TOT 1957 ACT 72 BUes TOT 2 ACT 2 BUF 0)                  \n",
      "Step #28800.00 (1ms ~= 1000.00*RT, ~70000.00UPS, TraCI: 115ms, vehicles TOT 1960 ACT 70 BUaCI: 100ms, vehicles TOT 626 ACT 109 B\n",
      "Step #28800.00 (0ms ?*RT. ?UPS, TraCI: 121ms, vehicles TOT 1947 ACT 66 BUF 99)            CI: 36ms, vehicles TOT 2 ACT 2 BUF 0)  \n",
      "Step #28800.00 (0ms ?*RT. ?UPS, TraCI: 115ms, vehicles TOT 1953 ACT 67 BUF 93)            s TOT 1080 ACT 97 BUF 59)             \n",
      "Step #28800.00 (0ms ?*RT. ?UPS, TraCI: 130ms, vehicles TOT 1955 ACT 69 BUF 91)            s TOT 2 ACT 2 BUF 0)                  \n",
      "Step #28800.00 (1ms ~= 1000.00*RT, ~72000.00UPS, TraCI: 114ms, vehicles TOT 1946 ACT 72 BUCI: 40ms, vehicles TOT 2 ACT 2 BUF 0)  \n",
      "Step #28800.00 (1ms ~= 1000.00*RT, ~68000.00UPS, TraCI: 89ms, vehicles TOT 1955 ACT 68 BUFs TOT 2 ACT 2 BUF 0)                  \n",
      "Step #28800.00 (0ms ?*RT. ?UPS, TraCI: 89ms, vehicles TOT 1965 ACT 71 BUF 81)             es TOT 631 ACT 100 BUF 30)             \n",
      "Step #28800.00 (0ms ?*RT. ?UPS, TraCI: 84ms, vehicles TOT 1959 ACT 70 BUF 87)             es TOT 2 ACT 2 BUF 0)                  \n"
     ]
    },
    {
     "name": "stderr",
     "output_type": "stream",
     "text": [
      "\u001b[2m\u001b[36m(RolloutWorker pid=13628)\u001b[0m Warning: Vehicle '174583_427_0' performs emergency braking on lane '28675510#4_0' with decel=9.00, wished=4.50, severity=1.00, time=26128.00.\n"
     ]
    },
    {
     "name": "stdout",
     "output_type": "stream",
     "text": [
      "Step #26100.00 (0ms ?*RT. ?UPS, TraCI: 87ms, vehicles TOT 554 ACT 90 BUF 28)              es TOT 2 ACT 2 BUF 0)                  \n"
     ]
    },
    {
     "name": "stderr",
     "output_type": "stream",
     "text": [
      "\u001b[2m\u001b[36m(RolloutWorker pid=3200)\u001b[0m Warning: Vehicle '188987_434_0' performs emergency braking on lane '186623965#9_1' with decel=9.00, wished=4.50, severity=1.00, time=26154.00.\n",
      "\u001b[2m\u001b[36m(RolloutWorker pid=24144)\u001b[0m Warning: Vehicle '188987_434_0' performs emergency braking on lane ':26110729_5_1' with decel=9.00, wished=4.50, severity=1.00, time=26155.00.\n"
     ]
    },
    {
     "name": "stdout",
     "output_type": "stream",
     "text": [
      "Step #26100.00 (1ms ~= 1000.00*RT, ~96000.00UPS, TraCI: 87ms, vehicles TOT 556 ACT 96 BUF I: 27ms, vehicles TOT 2 ACT 2 BUF 0)  \n",
      "Step #26100.00 (1ms ~= 1000.00*RT, ~97000.00UPS, TraCI: 86ms, vehicles TOT 555 ACT 97 BUF CI: 26ms, vehicles TOT 2 ACT 2 BUF 0)  \n"
     ]
    },
    {
     "name": "stderr",
     "output_type": "stream",
     "text": [
      "\u001b[2m\u001b[36m(RolloutWorker pid=20048)\u001b[0m Warning: Vehicle '178434_430_0' performs emergency braking on lane ':26110729_5_1' with decel=9.00, wished=4.50, severity=1.00, time=27304.00.\n"
     ]
    },
    {
     "name": "stdout",
     "output_type": "stream",
     "text": [
      "Step #27300.00 (1ms ~= 1000.00*RT, ~92000.00UPS, TraCI: 139ms, vehicles TOT 1279 ACT 92 BUCI: 29ms, vehicles TOT 2 ACT 2 BUF 0)  \n"
     ]
    },
    {
     "name": "stderr",
     "output_type": "stream",
     "text": [
      "\u001b[2m\u001b[36m(RolloutWorker pid=19280)\u001b[0m Warning: Vehicle '238239_451_0' performs emergency braking on lane ':26110729_16_0' with decel=9.00, wished=4.50, severity=1.00, time=27932.00.\n"
     ]
    },
    {
     "name": "stdout",
     "output_type": "stream",
     "text": [
      "Step #27900.00 (0ms ?*RT. ?UPS, TraCI: 84ms, vehicles TOT 1565 ACT 74 BUF 55)             CI: 27ms, vehicles TOT 2 ACT 2 BUF 0)  \n",
      "Step #28800.00 (0ms ?*RT. ?UPS, TraCI: 124ms, vehicles TOT 1958 ACT 66 BUF 88)            CI: 30ms, vehicles TOT 2 ACT 2 BUF 0)  \n",
      "Step #28800.00 (1ms ~= 1000.00*RT, ~67000.00UPS, TraCI: 127ms, vehicles TOT 1945 ACT 67 BUes TOT 2 ACT 2 BUF 0)                  \n",
      "Step #28800.00 (1ms ~= 1000.00*RT, ~66000.00UPS, TraCI: 124ms, vehicles TOT 1947 ACT 66 BUI: 30ms, vehicles TOT 2 ACT 2 BUF 0)  \n",
      "Step #28800.00 (0ms ?*RT. ?UPS, TraCI: 121ms, vehicles TOT 1952 ACT 68 BUF 94)            I: 33ms, vehicles TOT 2 ACT 2 BUF 0)  \n",
      "Step #28800.00 (0ms ?*RT. ?UPS, TraCI: 133ms, vehicles TOT 1955 ACT 69 BUF 91)            es TOT 1328 ACT 76 BUF 41)             \n",
      "Step #28800.00 (0ms ?*RT. ?UPS, TraCI: 107ms, vehicles TOT 1950 ACT 72 BUF 96)            I: 34ms, vehicles TOT 2 ACT 2 BUF 0)  \n",
      "Step #28800.00 (1ms ~= 1000.00*RT, ~72000.00UPS, TraCI: 98ms, vehicles TOT 1963 ACT 72 BUFraCI: 79ms, vehicles TOT 628 ACT 102 BU\n",
      "Step #28800.00 (1ms ~= 1000.00*RT, ~70000.00UPS, TraCI: 82ms, vehicles TOT 1960 ACT 70 BUFes TOT 628 ACT 100 BUF 33)            \n",
      "Step #28800.00 (1ms ~= 1000.00*RT, ~72000.00UPS, TraCI: 80ms, vehicles TOT 1965 ACT 72 BUFraCI: 152ms, vehicles TOT 628 ACT 106 B\n",
      "Step #28800.00 (1ms ~= 1000.00*RT, ~69000.00UPS, TraCI: 79ms, vehicles TOT 1957 ACT 69 BUFes TOT 1617 ACT 83 BUF 56)             \n"
     ]
    },
    {
     "name": "stderr",
     "output_type": "stream",
     "text": [
      "\u001b[2m\u001b[36m(RolloutWorker pid=3200)\u001b[0m Warning: Vehicle '191387_435_0' performs emergency braking on lane ':26110729_16_0' with decel=9.00, wished=4.50, severity=1.00, time=26892.00.\n"
     ]
    },
    {
     "name": "stdout",
     "output_type": "stream",
     "text": [
      "Step #26800.00 (1ms ~= 1000.00*RT, ~80000.00UPS, TraCI: 82ms, vehicles TOT 949 ACT 80 BUF I: 36ms, vehicles TOT 2 ACT 2 BUF 0)  \n",
      "Step #28800.00 (0ms ?*RT. ?UPS, TraCI: 73ms, vehicles TOT 1971 ACT 74 BUF 75)             es TOT 2 ACT 2 BUF 0)                  \n",
      "Step #28800.00 (0ms ?*RT. ?UPS, TraCI: 84ms, vehicles TOT 1959 ACT 69 BUF 87)             es TOT 2 ACT 2 BUF 0)                  \n",
      "Step #28800.00 (1ms ~= 1000.00*RT, ~70000.00UPS, TraCI: 85ms, vehicles TOT 1961 ACT 70 BUFs TOT 2 ACT 2 BUF 0)                  \n",
      "Step #28800.00 (0ms ?*RT. ?UPS, TraCI: 85ms, vehicles TOT 1957 ACT 68 BUF 89)             es TOT 2 ACT 2 BUF 0)                  \n",
      "Step #28800.00 (1ms ~= 1000.00*RT, ~67000.00UPS, TraCI: 82ms, vehicles TOT 1955 ACT 67 BUFes TOT 2 ACT 2 BUF 0)                  \n",
      "Step #28800.00 (0ms ?*RT. ?UPS, TraCI: 83ms, vehicles TOT 1961 ACT 70 BUF 85)             I: 29ms, vehicles TOT 2 ACT 2 BUF 0)  \n",
      "Step #28800.00 (0ms ?*RT. ?UPS, TraCI: 84ms, vehicles TOT 1966 ACT 71 BUF 80)             s TOT 2 ACT 2 BUF 0)                  \n",
      "Step #28800.00 (1ms ~= 1000.00*RT, ~71000.00UPS, TraCI: 95ms, vehicles TOT 1962 ACT 71 BUFs TOT 1015 ACT 97 BUF 63)             \n",
      "Step #28800.00 (1ms ~= 1000.00*RT, ~69000.00UPS, TraCI: 102ms, vehicles TOT 1976 ACT 69 BUes TOT 2 ACT 2 BUF 0)                  \n",
      "Step #28800.00 (0ms ?*RT. ?UPS, TraCI: 104ms, vehicles TOT 1961 ACT 70 BUF 85)            es TOT 2 ACT 2 BUF 0)                  \n"
     ]
    },
    {
     "name": "stderr",
     "output_type": "stream",
     "text": [
      "\u001b[2m\u001b[36m(RolloutWorker pid=21792)\u001b[0m Warning: Vehicle '183638_431_0' performs emergency braking on lane ':26110729_5_1' with decel=9.00, wished=4.50, severity=1.00, time=26235.00.\n"
     ]
    },
    {
     "name": "stdout",
     "output_type": "stream",
     "text": [
      "Step #26200.00 (0ms ?*RT. ?UPS, TraCI: 100ms, vehicles TOT 624 ACT 107 BUF 37)            CI: 36ms, vehicles TOT 2 ACT 2 BUF 0)  \n"
     ]
    },
    {
     "name": "stderr",
     "output_type": "stream",
     "text": [
      "\u001b[2m\u001b[36m(RolloutWorker pid=1732)\u001b[0m Warning: Vehicle '191387_435_0' performs emergency braking on lane ':26110729_16_0' with decel=9.00, wished=4.50, severity=1.00, time=26892.00.\n"
     ]
    },
    {
     "name": "stdout",
     "output_type": "stream",
     "text": [
      "Step #26800.00 (1ms ~= 1000.00*RT, ~78000.00UPS, TraCI: 77ms, vehicles TOT 948 ACT 78 BUF s TOT 2 ACT 2 BUF 0)                  \n",
      "Step #28800.00 (0ms ?*RT. ?UPS, TraCI: 93ms, vehicles TOT 1960 ACT 69 BUF 86)             es TOT 2 ACT 2 BUF 0)                  \n",
      "Step #28800.00 (0ms ?*RT. ?UPS, TraCI: 94ms, vehicles TOT 1962 ACT 67 BUF 84)             I: 37ms, vehicles TOT 2 ACT 2 BUF 0)  \n",
      "Step #28800.00 (0ms ?*RT. ?UPS, TraCI: 91ms, vehicles TOT 1960 ACT 69 BUF 86)             CI: 36ms, vehicles TOT 2 ACT 2 BUF 0)  \n",
      "Step #28800.00 (0ms ?*RT. ?UPS, TraCI: 97ms, vehicles TOT 1953 ACT 69 BUF 93)             CI: 89ms, vehicles TOT 1014 ACT 96 BUF\n",
      "Step #28800.00 (1ms ~= 1000.00*RT, ~66000.00UPS, TraCI: 96ms, vehicles TOT 1966 ACT 66 BUFI: 39ms, vehicles TOT 2 ACT 2 BUF 0)  \n",
      "Step #28800.00 (1ms ~= 1000.00*RT, ~73000.00UPS, TraCI: 89ms, vehicles TOT 1959 ACT 73 BUFCI: 36ms, vehicles TOT 2 ACT 2 BUF 0)  \n",
      "Step #28800.00 (0ms ?*RT. ?UPS, TraCI: 69ms, vehicles TOT 1967 ACT 89 BUF 79)             raCI: 103ms, vehicles TOT 712 ACT 117 B\n",
      "Step #28800.00 (1ms ~= 1000.00*RT, ~72000.00UPS, TraCI: 103ms, vehicles TOT 1969 ACT 72 BUs TOT 2 ACT 2 BUF 0)                  \n",
      "Step #28800.00 (1ms ~= 1000.00*RT, ~66000.00UPS, TraCI: 106ms, vehicles TOT 1952 ACT 66 BUes TOT 2 ACT 2 BUF 0)                  \n",
      "Step #28800.00 (0ms ?*RT. ?UPS, TraCI: 109ms, vehicles TOT 1953 ACT 67 BUF 93)            CI: 36ms, vehicles TOT 2 ACT 2 BUF 0)  \n"
     ]
    },
    {
     "name": "stderr",
     "output_type": "stream",
     "text": [
      "\u001b[2m\u001b[36m(RolloutWorker pid=1732)\u001b[0m Warning: Vehicle '188987_434_0' performs emergency braking on lane ':26110729_5_1' with decel=9.00, wished=4.50, severity=1.00, time=26154.00.\n"
     ]
    },
    {
     "name": "stdout",
     "output_type": "stream",
     "text": [
      "Step #26100.00 (0ms ?*RT. ?UPS, TraCI: 85ms, vehicles TOT 555 ACT 91 BUF 27)              s TOT 2 ACT 2 BUF 0)                  \n"
     ]
    },
    {
     "name": "stderr",
     "output_type": "stream",
     "text": [
      "\u001b[2m\u001b[36m(RolloutWorker pid=9256)\u001b[0m Warning: Vehicle '144900_416_0' performs emergency braking on lane ':26110729_14_1' with decel=9.00, wished=4.50, severity=1.00, time=27263.00.\n"
     ]
    },
    {
     "name": "stdout",
     "output_type": "stream",
     "text": [
      "Step #27200.00 (1ms ~= 1000.00*RT, ~93000.00UPS, TraCI: 97ms, vehicles TOT 1225 ACT 93 BUFs TOT 2 ACT 2 BUF 0)                  \n"
     ]
    },
    {
     "name": "stderr",
     "output_type": "stream",
     "text": [
      "\u001b[2m\u001b[36m(RolloutWorker pid=1732)\u001b[0m Warning: Vehicle '178434_430_0' performs emergency braking on lane ':26110729_5_1' with decel=9.00, wished=4.50, severity=1.00, time=27303.00.\n"
     ]
    },
    {
     "name": "stdout",
     "output_type": "stream",
     "text": [
      "Step #27300.00 (1ms ~= 1000.00*RT, ~92000.00UPS, TraCI: 82ms, vehicles TOT 1288 ACT 92 BUFs TOT 628 ACT 100 BUF 33)             \n",
      "Step #26800.00 (1ms ~= 1000.00*RT, ~81000.00UPS, TraCI: 84ms, vehicles TOT 954 ACT 81 BUF CI: 27ms, vehicles TOT 2 ACT 2 BUF 0)  \n"
     ]
    },
    {
     "name": "stderr",
     "output_type": "stream",
     "text": [
      "\u001b[2m\u001b[36m(RolloutWorker pid=21792)\u001b[0m Warning: Vehicle '202846_439_0' performs emergency braking on lane ':26110729_14_1' with decel=9.00, wished=4.50, severity=1.00, time=27623.00.\u001b[32m [repeated 2x across cluster]\u001b[0m\n"
     ]
    },
    {
     "name": "stdout",
     "output_type": "stream",
     "text": [
      "Step #27600.00 (1ms ~= 1000.00*RT, ~97000.00UPS, TraCI: 106ms, vehicles TOT 1439 ACT 97 BUCI: 36ms, vehicles TOT 2 ACT 2 BUF 0)  \n"
     ]
    },
    {
     "name": "stderr",
     "output_type": "stream",
     "text": [
      "\u001b[2m\u001b[36m(RolloutWorker pid=24144)\u001b[0m Warning: Vehicle '146441_416_0' performs emergency braking on lane ':26110729_16_0' with decel=9.00, wished=4.50, severity=1.00, time=27522.00.\n"
     ]
    },
    {
     "name": "stdout",
     "output_type": "stream",
     "text": [
      "Step #27500.00 (0ms ?*RT. ?UPS, TraCI: 88ms, vehicles TOT 1381 ACT 78 BUF 33)             CI: 24ms, vehicles TOT 2 ACT 2 BUF 0)  \n",
      "Step #28800.00 (0ms ?*RT. ?UPS, TraCI: 109ms, vehicles TOT 1958 ACT 67 BUF 88)            aCI: 102ms, vehicles TOT 1489 ACT 99 BU\n",
      "Step #28800.00 (1ms ~= 1000.00*RT, ~70000.00UPS, TraCI: 108ms, vehicles TOT 1974 ACT 70 BUes TOT 2 ACT 2 BUF 0)                  \n",
      "Step #28800.00 (1ms ~= 1000.00*RT, ~70000.00UPS, TraCI: 100ms, vehicles TOT 1966 ACT 70 BUs TOT 1287 ACT 89 BUF 38)             \n",
      "Step #28800.00 (0ms ?*RT. ?UPS, TraCI: 104ms, vehicles TOT 1965 ACT 74 BUF 81)            CI: 32ms, vehicles TOT 2 ACT 2 BUF 0)  \n",
      "Step #28800.00 (0ms ?*RT. ?UPS, TraCI: 103ms, vehicles TOT 1965 ACT 68 BUF 81)            I: 32ms, vehicles TOT 2 ACT 2 BUF 0)  \n",
      "Step #28800.00 (1ms ~= 1000.00*RT, ~70000.00UPS, TraCI: 90ms, vehicles TOT 1960 ACT 70 BUFCI: 35ms, vehicles TOT 2 ACT 2 BUF 0)  \n",
      "Step #28800.00 (0ms ?*RT. ?UPS, TraCI: 78ms, vehicles TOT 1965 ACT 83 BUF 81)             CI: 88ms, vehicles TOT 1333 ACT 73 BUF\n",
      "Step #28800.00 (0ms ?*RT. ?UPS, TraCI: 80ms, vehicles TOT 1966 ACT 69 BUF 80)             s TOT 2 ACT 2 BUF 0)                  \n",
      "Step #28800.00 (0ms ?*RT. ?UPS, TraCI: 80ms, vehicles TOT 1962 ACT 70 BUF 84)             raCI: 109ms, vehicles TOT 1441 ACT 101 \n",
      "Step #28800.00 (0ms ?*RT. ?UPS, TraCI: 83ms, vehicles TOT 1966 ACT 70 BUF 80)             aCI: 149ms, vehicles TOT 1018 ACT 99 BU\n"
     ]
    },
    {
     "name": "stderr",
     "output_type": "stream",
     "text": [
      "\u001b[2m\u001b[36m(RolloutWorker pid=21792)\u001b[0m Warning: Vehicle '188987_434_0' performs emergency braking on lane ':26110729_5_1' with decel=9.00, wished=4.50, severity=1.00, time=26154.00.\n"
     ]
    },
    {
     "name": "stdout",
     "output_type": "stream",
     "text": [
      "Step #26100.00 (0ms ?*RT. ?UPS, TraCI: 86ms, vehicles TOT 554 ACT 93 BUF 28)              CI: 35ms, vehicles TOT 2 ACT 2 BUF 0)  \n"
     ]
    },
    {
     "name": "stderr",
     "output_type": "stream",
     "text": [
      "\u001b[2m\u001b[36m(RolloutWorker pid=9256)\u001b[0m Warning: Vehicle '241789_452_0' performs emergency braking on lane ':26110729_14_1' with decel=9.00, wished=4.50, severity=1.00, time=28409.00.\n"
     ]
    },
    {
     "name": "stdout",
     "output_type": "stream",
     "text": [
      "Step #28400.00 (1ms ~= 1000.00*RT, ~75000.00UPS, TraCI: 144ms, vehicles TOT 1807 ACT 75 BUI: 30ms, vehicles TOT 2 ACT 2 BUF 0)  \n",
      "Step #28800.00 (0ms ?*RT. ?UPS, TraCI: 118ms, vehicles TOT 1966 ACT 72 BUF 80)            CI: 34ms, vehicles TOT 2 ACT 2 BUF 0)  \n",
      "Step #28800.00 (0ms ?*RT. ?UPS, TraCI: 114ms, vehicles TOT 1974 ACT 67 BUF 72)            les TOT 625 ACT 99 BUF 36)             \n",
      "Step #28800.00 (0ms ?*RT. ?UPS, TraCI: 119ms, vehicles TOT 1959 ACT 70 BUF 87)            I: 34ms, vehicles TOT 2 ACT 2 BUF 0)  \n",
      "Step #28800.00 (0ms ?*RT. ?UPS, TraCI: 118ms, vehicles TOT 1960 ACT 69 BUF 86)            CI: 34ms, vehicles TOT 2 ACT 2 BUF 0)  \n",
      "Step #28800.00 (0ms ?*RT. ?UPS, TraCI: 125ms, vehicles TOT 1960 ACT 69 BUF 86)            s TOT 1847 ACT 70 BUF 86)             \n",
      "Step #28800.00 (1ms ~= 1000.00*RT, ~70000.00UPS, TraCI: 106ms, vehicles TOT 1960 ACT 70 BUes TOT 2 ACT 2 BUF 0)                  \n",
      "Step #28800.00 (0ms ?*RT. ?UPS, TraCI: 116ms, vehicles TOT 1960 ACT 69 BUF 86)            I: 36ms, vehicles TOT 2 ACT 2 BUF 0)  \n",
      "Step #28800.00 (1ms ~= 1000.00*RT, ~73000.00UPS, TraCI: 84ms, vehicles TOT 1971 ACT 73 BUFI: 28ms, vehicles TOT 2 ACT 2 BUF 0)  \n",
      "Step #28800.00 (0ms ?*RT. ?UPS, TraCI: 87ms, vehicles TOT 1967 ACT 69 BUF 79)             es TOT 2 ACT 2 BUF 0)                  \n",
      "Step #28800.00 (1ms ~= 1000.00*RT, ~69000.00UPS, TraCI: 89ms, vehicles TOT 1957 ACT 69 BUFCI: 26ms, vehicles TOT 2 ACT 2 BUF 0)  \n"
     ]
    },
    {
     "name": "stderr",
     "output_type": "stream",
     "text": [
      "\u001b[2m\u001b[36m(RolloutWorker pid=1732)\u001b[0m Warning: Vehicle '189988_434_0' performs emergency braking on lane '186623965#9_1' with decel=9.00, wished=4.50, severity=1.00, time=26802.00.\n"
     ]
    },
    {
     "name": "stdout",
     "output_type": "stream",
     "text": [
      "Step #26800.00 (1ms ~= 1000.00*RT, ~77000.00UPS, TraCI: 105ms, vehicles TOT 947 ACT 77 BUFs TOT 2 ACT 2 BUF 0)                  \n"
     ]
    },
    {
     "name": "stderr",
     "output_type": "stream",
     "text": [
      "\u001b[2m\u001b[36m(RolloutWorker pid=1732)\u001b[0m Warning: Vehicle '191387_435_0' performs emergency braking on lane ':26110729_16_0' with decel=9.00, wished=4.50, severity=1.00, time=26892.00.\n",
      "\u001b[2m\u001b[36m(RolloutWorker pid=19280)\u001b[0m Warning: Vehicle '216002_445_0' performs emergency braking on lane ':26110729_16_0' with decel=9.00, wished=4.50, severity=1.00, time=26822.00.\n"
     ]
    },
    {
     "name": "stdout",
     "output_type": "stream",
     "text": [
      "Step #26800.00 (0ms ?*RT. ?UPS, TraCI: 81ms, vehicles TOT 946 ACT 77 BUF 72)              es TOT 2 ACT 2 BUF 0)                  \n",
      "Step #28800.00 (0ms ?*RT. ?UPS, TraCI: 134ms, vehicles TOT 1959 ACT 71 BUF 87)            CI: 34ms, vehicles TOT 2 ACT 2 BUF 0)  \n",
      "Step #28800.00 (0ms ?*RT. ?UPS, TraCI: 126ms, vehicles TOT 1958 ACT 66 BUF 88)            CI: 32ms, vehicles TOT 2 ACT 2 BUF 0)  \n",
      "Step #28800.00 (1ms ~= 1000.00*RT, ~70000.00UPS, TraCI: 123ms, vehicles TOT 1981 ACT 70 BUs TOT 2 ACT 2 BUF 0)                  \n",
      "Step #28800.00 (1ms ~= 1000.00*RT, ~70000.00UPS, TraCI: 124ms, vehicles TOT 1974 ACT 70 BUCI: 30ms, vehicles TOT 2 ACT 2 BUF 0)  \n",
      "Step #28800.00 (1ms ~= 1000.00*RT, ~71000.00UPS, TraCI: 127ms, vehicles TOT 1965 ACT 71 BUCI: 29ms, vehicles TOT 2 ACT 2 BUF 0)  \n",
      "Step #28800.00 (1ms ~= 1000.00*RT, ~71000.00UPS, TraCI: 129ms, vehicles TOT 1966 ACT 71 BUI: 30ms, vehicles TOT 2 ACT 2 BUF 0)  \n",
      "Step #28800.00 (0ms ?*RT. ?UPS, TraCI: 114ms, vehicles TOT 1968 ACT 71 BUF 78)            CI: 88ms, vehicles TOT 1015 ACT 94 BUF\n"
     ]
    },
    {
     "name": "stderr",
     "output_type": "stream",
     "text": [
      "\u001b[2m\u001b[36m(RolloutWorker pid=19280)\u001b[0m Warning: Vehicle '148523_417_0' performs emergency braking on lane ':26110729_7_0' with decel=9.00, wished=4.50, severity=1.00, time=28657.00.\n"
     ]
    },
    {
     "name": "stdout",
     "output_type": "stream",
     "text": [
      "Step #28600.00 (0ms ?*RT. ?UPS, TraCI: 52ms, vehicles TOT 1891 ACT 74 BUF 84)             es TOT 1015 ACT 97 BUF 63)             \n",
      "Step #28800.00 (0ms ?*RT. ?UPS, TraCI: 88ms, vehicles TOT 1966 ACT 68 BUF 80)             I: 26ms, vehicles TOT 2 ACT 2 BUF 0)  \n",
      "Step #28800.00 (0ms ?*RT. ?UPS, TraCI: 89ms, vehicles TOT 1965 ACT 70 BUF 81)             es TOT 2 ACT 2 BUF 0)                  \n",
      "Step #28800.00 (1ms ~= 1000.00*RT, ~71000.00UPS, TraCI: 86ms, vehicles TOT 1965 ACT 71 BUFles TOT 1929 ACT 81 BUF 84)            \n"
     ]
    },
    {
     "name": "stderr",
     "output_type": "stream",
     "text": [
      "\u001b[2m\u001b[36m(RolloutWorker pid=3060)\u001b[0m Warning: Vehicle '188987_434_0' performs emergency braking on lane ':26110729_5_1' with decel=9.00, wished=4.50, severity=1.00, time=26154.00.\n"
     ]
    },
    {
     "name": "stdout",
     "output_type": "stream",
     "text": [
      "Step #26100.00 (0ms ?*RT. ?UPS, TraCI: 87ms, vehicles TOT 553 ACT 90 BUF 29)              I: 28ms, vehicles TOT 2 ACT 2 BUF 0)  \n"
     ]
    },
    {
     "name": "stderr",
     "output_type": "stream",
     "text": [
      "\u001b[2m\u001b[36m(RolloutWorker pid=24144)\u001b[0m Warning: Vehicle '216002_445_0' performs emergency braking on lane ':26110729_16_0' with decel=9.00, wished=4.50, severity=1.00, time=26822.00.\n"
     ]
    },
    {
     "name": "stdout",
     "output_type": "stream",
     "text": [
      "Step #26800.00 (0ms ?*RT. ?UPS, TraCI: 83ms, vehicles TOT 956 ACT 81 BUF 62)              es TOT 2 ACT 2 BUF 0)                  \n",
      "Step #28800.00 (1ms ~= 1000.00*RT, ~70000.00UPS, TraCI: 89ms, vehicles TOT 1971 ACT 70 BUFes TOT 2 ACT 2 BUF 0)                  \n",
      "Step #28800.00 (0ms ?*RT. ?UPS, TraCI: 86ms, vehicles TOT 1975 ACT 71 BUF 71)             CI: 127ms, vehicles TOT 626 ACT 99 BUF\n",
      "Step #28800.00 (0ms ?*RT. ?UPS, TraCI: 83ms, vehicles TOT 1968 ACT 71 BUF 78)             CI: 26ms, vehicles TOT 2 ACT 2 BUF 0)  \n",
      "Step #28800.00 (0ms ?*RT. ?UPS, TraCI: 88ms, vehicles TOT 1960 ACT 68 BUF 86)             es TOT 2 ACT 2 BUF 0)                  \n",
      "Step #28800.00 (0ms ?*RT. ?UPS, TraCI: 92ms, vehicles TOT 1967 ACT 69 BUF 79)             es TOT 2 ACT 2 BUF 0)                  \n",
      "Step #28800.00 (1ms ~= 1000.00*RT, ~70000.00UPS, TraCI: 88ms, vehicles TOT 1976 ACT 70 BUFI: 26ms, vehicles TOT 2 ACT 2 BUF 0)  \n",
      "Step #28800.00 (0ms ?*RT. ?UPS, TraCI: 89ms, vehicles TOT 1969 ACT 73 BUF 77)             I: 29ms, vehicles TOT 2 ACT 2 BUF 0)  \n",
      "Step #28800.00 (0ms ?*RT. ?UPS, TraCI: 95ms, vehicles TOT 1958 ACT 70 BUF 88)             I: 36ms, vehicles TOT 2 ACT 2 BUF 0)  \n",
      "Step #28800.00 (1ms ~= 1000.00*RT, ~72000.00UPS, TraCI: 94ms, vehicles TOT 1969 ACT 72 BUFCI: 37ms, vehicles TOT 2 ACT 2 BUF 0)  \n",
      "Step #28800.00 (0ms ?*RT. ?UPS, TraCI: 87ms, vehicles TOT 1968 ACT 78 BUF 78)             raCI: 95ms, vehicles TOT 1022 ACT 100 B\n"
     ]
    },
    {
     "name": "stderr",
     "output_type": "stream",
     "text": [
      "\u001b[2m\u001b[36m(RolloutWorker pid=13628)\u001b[0m Warning: Vehicle '135004_411_0' performs emergency braking on lane ':252017285_20_0' with decel=9.00, wished=4.50, severity=1.00, time=26421.00.\n"
     ]
    },
    {
     "name": "stdout",
     "output_type": "stream",
     "text": [
      "Step #26400.00 (0ms ?*RT. ?UPS, TraCI: 99ms, vehicles TOT 767 ACT 99 BUF 56)              CI: 44ms, vehicles TOT 2 ACT 2 BUF 0)  \n"
     ]
    },
    {
     "name": "stderr",
     "output_type": "stream",
     "text": [
      "\u001b[2m\u001b[36m(RolloutWorker pid=13580)\u001b[0m Warning: Vehicle '178434_430_0' performs emergency braking on lane ':26110729_5_1' with decel=9.00, wished=4.50, severity=1.00, time=27304.00.\n"
     ]
    },
    {
     "name": "stdout",
     "output_type": "stream",
     "text": [
      "Step #27300.00 (1ms ~= 1000.00*RT, ~93000.00UPS, TraCI: 87ms, vehicles TOT 1291 ACT 93 BUFes TOT 2 ACT 2 BUF 0)                  \n"
     ]
    },
    {
     "name": "stderr",
     "output_type": "stream",
     "text": [
      "\u001b[2m\u001b[36m(RolloutWorker pid=24144)\u001b[0m Warning: Vehicle '178434_430_0' performs emergency braking on lane ':26110729_5_1' with decel=9.00, wished=4.50, severity=1.00, time=27303.00.\n"
     ]
    },
    {
     "name": "stdout",
     "output_type": "stream",
     "text": [
      "Step #27300.00 (1ms ~= 1000.00*RT, ~88000.00UPS, TraCI: 90ms, vehicles TOT 1292 ACT 88 BUFCI: 37ms, vehicles TOT 2 ACT 2 BUF 0)  \n",
      "Step #27900.00 (0ms ?*RT. ?UPS, TraCI: 89ms, vehicles TOT 1561 ACT 77 BUF 59)             es TOT 2 ACT 2 BUF 0)                  \n",
      "Step #28800.00 (0ms ?*RT. ?UPS, TraCI: 97ms, vehicles TOT 1978 ACT 69 BUF 68)             es TOT 2 ACT 2 BUF 0)                  \n",
      "Step #28800.00 (1ms ~= 1000.00*RT, ~71000.00UPS, TraCI: 97ms, vehicles TOT 1967 ACT 71 BUFes TOT 1612 ACT 81 BUF 61)             \n",
      "Step #28800.00 (1ms ~= 1000.00*RT, ~73000.00UPS, TraCI: 94ms, vehicles TOT 1965 ACT 73 BUFI: 37ms, vehicles TOT 2 ACT 2 BUF 0)  \n",
      "Step #28800.00 (0ms ?*RT. ?UPS, TraCI: 94ms, vehicles TOT 1969 ACT 72 BUF 77)             es TOT 1336 ACT 75 BUF 33)             \n",
      "Step #28800.00 (1ms ~= 1000.00*RT, ~70000.00UPS, TraCI: 95ms, vehicles TOT 1968 ACT 70 BUFes TOT 812 ACT 92 BUF 68)              \n",
      "Step #28800.00 (0ms ?*RT. ?UPS, TraCI: 95ms, vehicles TOT 1971 ACT 71 BUF 75)             s TOT 2 ACT 2 BUF 0)                  \n",
      "Step #28800.00 (0ms ?*RT. ?UPS, TraCI: 94ms, vehicles TOT 1961 ACT 69 BUF 85)             s TOT 2 ACT 2 BUF 0)                  \n"
     ]
    },
    {
     "name": "stderr",
     "output_type": "stream",
     "text": [
      "\u001b[2m\u001b[36m(RolloutWorker pid=3200)\u001b[0m Warning: Vehicle '244584_453_0' performs emergency braking on lane ':26110729_5_1' with decel=9.00, wished=4.50, severity=1.00, time=28489.00.\u001b[32m [repeated 2x across cluster]\u001b[0m\n"
     ]
    },
    {
     "name": "stdout",
     "output_type": "stream",
     "text": [
      "Step #28400.00 (1ms ~= 1000.00*RT, ~76000.00UPS, TraCI: 92ms, vehicles TOT 1814 ACT 76 BUFI: 36ms, vehicles TOT 2 ACT 2 BUF 0)  \n",
      "Step #28800.00 (0ms ?*RT. ?UPS, TraCI: 105ms, vehicles TOT 1976 ACT 68 BUF 70)            es TOT 1854 ACT 68 BUF 79)            \n",
      "Step #28800.00 (1ms ~= 1000.00*RT, ~70000.00UPS, TraCI: 111ms, vehicles TOT 1974 ACT 70 BUes TOT 2 ACT 2 BUF 0)                  \n",
      "Step #28800.00 (1ms ~= 1000.00*RT, ~83000.00UPS, TraCI: 106ms, vehicles TOT 1950 ACT 83 BUaCI: 85ms, vehicles TOT 1340 ACT 77 BUF\n"
     ]
    },
    {
     "name": "stderr",
     "output_type": "stream",
     "text": [
      "\u001b[2m\u001b[36m(RolloutWorker pid=13628)\u001b[0m Warning: Vehicle '188987_434_0' performs emergency braking on lane ':26110729_5_1' with decel=9.00, wished=4.50, severity=1.00, time=26154.00.\n"
     ]
    },
    {
     "name": "stdout",
     "output_type": "stream",
     "text": [
      "Step #26100.00 (0ms ?*RT. ?UPS, TraCI: 83ms, vehicles TOT 554 ACT 93 BUF 28)              CI: 36ms, vehicles TOT 2 ACT 2 BUF 0)  \n"
     ]
    },
    {
     "name": "stderr",
     "output_type": "stream",
     "text": [
      "\u001b[2m\u001b[36m(RolloutWorker pid=9256)\u001b[0m Warning: Vehicle '188874_434_0' performs emergency braking on lane ':cluster_1098574052_1098574061_247379905_14_0' with decel=9.00, wished=4.50, severity=1.00, time=26167.00.\n",
      "\u001b[2m\u001b[36m(RolloutWorker pid=9256)\u001b[0m Warning: Vehicle '198190_436_0' performs emergency braking on lane ':cluster_1098574052_1098574061_247379905_5_0' with decel=9.00, wished=4.50, severity=1.00, time=26169.00.\n"
     ]
    },
    {
     "name": "stdout",
     "output_type": "stream",
     "text": [
      "Step #26100.00 (1ms ~= 1000.00*RT, ~94000.00UPS, TraCI: 86ms, vehicles TOT 558 ACT 94 BUF I: 39ms, vehicles TOT 2 ACT 2 BUF 0)  \n"
     ]
    },
    {
     "name": "stderr",
     "output_type": "stream",
     "text": [
      "\u001b[2m\u001b[36m(RolloutWorker pid=13580)\u001b[0m Warning: Vehicle '167113_425_0' performs emergency braking on lane ':26110729_5_1' with decel=9.00, wished=4.50, severity=1.00, time=26904.00.\n"
     ]
    },
    {
     "name": "stdout",
     "output_type": "stream",
     "text": [
      "Step #26900.00 (1ms ~= 1000.00*RT, ~102000.00UPS, TraCI: 94ms, vehicles TOT 1019 ACT 102 Bes TOT 2 ACT 2 BUF 0)                  \n"
     ]
    },
    {
     "name": "stderr",
     "output_type": "stream",
     "text": [
      "\u001b[2m\u001b[36m(RolloutWorker pid=13580)\u001b[0m Warning: Vehicle '148523_417_0' performs emergency braking on lane ':26110729_7_0' with decel=9.00, wished=4.50, severity=1.00, time=28657.00.\n"
     ]
    },
    {
     "name": "stdout",
     "output_type": "stream",
     "text": [
      "Step #28600.00 (1ms ~= 1000.00*RT, ~74000.00UPS, TraCI: 85ms, vehicles TOT 1886 ACT 74 BUFaCI: 151ms, vehicles TOT 1086 ACT 98 BU\n",
      "Step #28800.00 (0ms ?*RT. ?UPS, TraCI: 110ms, vehicles TOT 1959 ACT 68 BUF 87)            es TOT 2 ACT 2 BUF 0)                  \n",
      "Step #28800.00 (1ms ~= 1000.00*RT, ~73000.00UPS, TraCI: 120ms, vehicles TOT 1963 ACT 73 BUs TOT 2 ACT 2 BUF 0)                  \n",
      "Step #28800.00 (1ms ~= 1000.00*RT, ~70000.00UPS, TraCI: 111ms, vehicles TOT 1960 ACT 70 BUes TOT 1924 ACT 81 BUF 89)             \n",
      "Step #28800.00 (1ms ~= 1000.00*RT, ~71000.00UPS, TraCI: 108ms, vehicles TOT 1975 ACT 71 BUraCI: 96ms, vehicles TOT 626 ACT 100 BU\n",
      "Step #28800.00 (0ms ?*RT. ?UPS, TraCI: 112ms, vehicles TOT 1968 ACT 72 BUF 78)            I: 33ms, vehicles TOT 2 ACT 2 BUF 0)  \n",
      "Step #28800.00 (1ms ~= 1000.00*RT, ~70000.00UPS, TraCI: 110ms, vehicles TOT 1969 ACT 70 BUaCI: 88ms, vehicles TOT 629 ACT 101 BU\n",
      "Step #28800.00 (1ms ~= 1000.00*RT, ~71000.00UPS, TraCI: 91ms, vehicles TOT 1966 ACT 71 BUFes TOT 2 ACT 2 BUF 0)                  \n",
      "Step #28800.00 (1ms ~= 1000.00*RT, ~69000.00UPS, TraCI: 77ms, vehicles TOT 1959 ACT 69 BUFI: 22ms, vehicles TOT 2 ACT 2 BUF 0)  \n",
      "Step #28800.00 (0ms ?*RT. ?UPS, TraCI: 76ms, vehicles TOT 1960 ACT 69 BUF 86)             CI: 25ms, vehicles TOT 2 ACT 2 BUF 0)  \n",
      "Step #28800.00 (1ms ~= 1000.00*RT, ~71000.00UPS, TraCI: 74ms, vehicles TOT 1965 ACT 71 BUFCI: 25ms, vehicles TOT 2 ACT 2 BUF 0)  \n"
     ]
    },
    {
     "name": "stderr",
     "output_type": "stream",
     "text": [
      "\u001b[2m\u001b[36m(RolloutWorker pid=20048)\u001b[0m Warning: Vehicle '188987_434_0' performs emergency braking on lane ':26110729_5_1' with decel=9.00, wished=4.50, severity=1.00, time=26154.00.\n"
     ]
    },
    {
     "name": "stdout",
     "output_type": "stream",
     "text": [
      "Step #26100.00 (0ms ?*RT. ?UPS, TraCI: 85ms, vehicles TOT 554 ACT 95 BUF 28)              es TOT 2 ACT 2 BUF 0)                  \n"
     ]
    },
    {
     "name": "stderr",
     "output_type": "stream",
     "text": [
      "\u001b[2m\u001b[36m(RolloutWorker pid=20048)\u001b[0m Warning: Vehicle '163289_422_0' performs emergency braking on lane ':cluster_1098574052_1098574061_247379905_0_0' with decel=9.00, wished=4.50, severity=1.00, time=26275.00.\n"
     ]
    },
    {
     "name": "stdout",
     "output_type": "stream",
     "text": [
      "\u001b[2m\u001b[36m(RolloutWorker pid=20048)\u001b[0m Step #26200.00 (0ms ?*RT. ?UPS, TraCI: 101ms, vehicles TOT 628 ACT 98 BUF 33)             \n"
     ]
    },
    {
     "name": "stderr",
     "output_type": "stream",
     "text": [
      "\u001b[2m\u001b[36m(RolloutWorker pid=20048)\u001b[0m Warning: Vehicle '205391_440_0' performs emergency braking on lane ':26110729_16_0' with decel=9.00, wished=4.50, severity=1.00, time=26832.00.\n"
     ]
    },
    {
     "name": "stdout",
     "output_type": "stream",
     "text": [
      "Step #26800.00 (1ms ~= 1000.00*RT, ~81000.00UPS, TraCI: 82ms, vehicles TOT 950 ACT 81 BUF es TOT 712 ACT 113 BUF 51)             \n"
     ]
    },
    {
     "name": "stderr",
     "output_type": "stream",
     "text": [
      "\u001b[2m\u001b[36m(RolloutWorker pid=9256)\u001b[0m Warning: Vehicle '184516_431_0' performs emergency braking on lane ':26110729_5_1' with decel=9.00, wished=4.50, severity=1.00, time=27650.00.\n"
     ]
    },
    {
     "name": "stdout",
     "output_type": "stream",
     "text": [
      "Step #27600.00 (0ms ?*RT. ?UPS, TraCI: 98ms, vehicles TOT 1439 ACT 102 BUF 49)            s TOT 2 ACT 2 BUF 0)                  \n"
     ]
    },
    {
     "name": "stderr",
     "output_type": "stream",
     "text": [
      "\u001b[2m\u001b[36m(RolloutWorker pid=13628)\u001b[0m Warning: Vehicle '148523_417_0' performs emergency braking on lane ':26110729_7_0' with decel=9.00, wished=4.50, severity=1.00, time=28657.00.\n"
     ]
    },
    {
     "name": "stdout",
     "output_type": "stream",
     "text": [
      "Step #28600.00 (0ms ?*RT. ?UPS, TraCI: 84ms, vehicles TOT 1887 ACT 72 BUF 88)             CI: 34ms, vehicles TOT 2 ACT 2 BUF 0)  \n",
      "Step #28800.00 (0ms ?*RT. ?UPS, TraCI: 114ms, vehicles TOT 1957 ACT 68 BUF 89)            aCI: 98ms, vehicles TOT 1487 ACT 109 B\n",
      "Step #28800.00 (1ms ~= 1000.00*RT, ~68000.00UPS, TraCI: 116ms, vehicles TOT 1981 ACT 68 BUles TOT 1017 ACT 96 BUF 61)            \n",
      "Step #28800.00 (0ms ?*RT. ?UPS, TraCI: 115ms, vehicles TOT 1975 ACT 69 BUF 71)            CI: 33ms, vehicles TOT 2 ACT 2 BUF 0)  \n",
      "Step #28800.00 (0ms ?*RT. ?UPS, TraCI: 119ms, vehicles TOT 1961 ACT 73 BUF 85)            s TOT 2 ACT 2 BUF 0)                  \n",
      "Step #28800.00 (0ms ?*RT. ?UPS, TraCI: 113ms, vehicles TOT 1964 ACT 69 BUF 82)            CI: 35ms, vehicles TOT 2 ACT 2 BUF 0)  \n",
      "Step #28800.00 (0ms ?*RT. ?UPS, TraCI: 123ms, vehicles TOT 1963 ACT 73 BUF 83)            aCI: 83ms, vehicles TOT 1928 ACT 80 BUF\n",
      "Step #28800.00 (1ms ~= 1000.00*RT, ~69000.00UPS, TraCI: 113ms, vehicles TOT 1974 ACT 69 BUs TOT 2 ACT 2 BUF 0)                  \n",
      "Step #28800.00 (0ms ?*RT. ?UPS, TraCI: 89ms, vehicles TOT 1976 ACT 71 BUF 70)             s TOT 2 ACT 2 BUF 0)                  \n",
      "Step #28800.00 (0ms ?*RT. ?UPS, TraCI: 91ms, vehicles TOT 1969 ACT 70 BUF 77)             es TOT 2 ACT 2 BUF 0)                  \n",
      "Step #28800.00 (0ms ?*RT. ?UPS, TraCI: 80ms, vehicles TOT 1970 ACT 69 BUF 76)             CI: 25ms, vehicles TOT 2 ACT 2 BUF 0)  \n"
     ]
    },
    {
     "name": "stderr",
     "output_type": "stream",
     "text": [
      "\u001b[2m\u001b[36m(RolloutWorker pid=20048)\u001b[0m Warning: Vehicle '148162_417_0' performs emergency braking on lane ':26110729_7_0' with decel=9.00, wished=4.50, severity=1.00, time=26082.00.\n"
     ]
    },
    {
     "name": "stdout",
     "output_type": "stream",
     "text": [
      "Step #26000.00 (0ms ?*RT. ?UPS, TraCI: 89ms, vehicles TOT 472 ACT 88 BUF 14)              CI: 27ms, vehicles TOT 2 ACT 2 BUF 0)  \n",
      "Step #26100.00 (1ms ~= 1000.00*RT, ~90000.00UPS, TraCI: 93ms, vehicles TOT 556 ACT 90 BUF I: 32ms, vehicles TOT 2 ACT 2 BUF 0)  \n"
     ]
    },
    {
     "name": "stderr",
     "output_type": "stream",
     "text": [
      "\u001b[2m\u001b[36m(RolloutWorker pid=13580)\u001b[0m Warning: Vehicle '149857_417_0' performs emergency braking on lane ':26110729_7_0' with decel=9.00, wished=4.50, severity=1.00, time=27917.00.\u001b[32m [repeated 2x across cluster]\u001b[0m\n"
     ]
    },
    {
     "name": "stdout",
     "output_type": "stream",
     "text": [
      "Step #27900.00 (0ms ?*RT. ?UPS, TraCI: 90ms, vehicles TOT 1569 ACT 74 BUF 51)             CI: 27ms, vehicles TOT 2 ACT 2 BUF 0)  \n"
     ]
    },
    {
     "name": "stderr",
     "output_type": "stream",
     "text": [
      "\u001b[2m\u001b[36m(RolloutWorker pid=3200)\u001b[0m Warning: Vehicle '149857_417_0' performs emergency braking on lane ':26110729_7_0' with decel=9.00, wished=4.50, severity=1.00, time=27917.00.\n"
     ]
    },
    {
     "name": "stdout",
     "output_type": "stream",
     "text": [
      "Step #27900.00 (0ms ?*RT. ?UPS, TraCI: 81ms, vehicles TOT 1567 ACT 72 BUF 53)             I: 25ms, vehicles TOT 2 ACT 2 BUF 0)  \n",
      "Step #28800.00 (0ms ?*RT. ?UPS, TraCI: 124ms, vehicles TOT 1967 ACT 72 BUF 79)            CI: 30ms, vehicles TOT 2 ACT 2 BUF 0)  \n",
      "Step #28800.00 (0ms ?*RT. ?UPS, TraCI: 130ms, vehicles TOT 1974 ACT 69 BUF 72)            I: 31ms, vehicles TOT 2 ACT 2 BUF 0)  \n",
      "Step #28800.00 (1ms ~= 1000.00*RT, ~70000.00UPS, TraCI: 126ms, vehicles TOT 1965 ACT 70 BUs TOT 2 ACT 2 BUF 0)                  \n",
      "Step #28800.00 (1ms ~= 1000.00*RT, ~68000.00UPS, TraCI: 122ms, vehicles TOT 1955 ACT 68 BUes TOT 556 ACT 97 BUF 26)              \n",
      "Step #28800.00 (1ms ~= 1000.00*RT, ~67000.00UPS, TraCI: 116ms, vehicles TOT 1952 ACT 67 BUCI: 30ms, vehicles TOT 2 ACT 2 BUF 0)  \n",
      "Step #28800.00 (1ms ~= 1000.00*RT, ~71000.00UPS, TraCI: 116ms, vehicles TOT 1967 ACT 71 BUs TOT 630 ACT 104 BUF 31)             \n",
      "Step #28800.00 (1ms ~= 1000.00*RT, ~73000.00UPS, TraCI: 94ms, vehicles TOT 1968 ACT 73 BUFes TOT 1624 ACT 84 BUF 49)             \n"
     ]
    },
    {
     "name": "stderr",
     "output_type": "stream",
     "text": [
      "\u001b[2m\u001b[36m(RolloutWorker pid=3200)\u001b[0m Warning: Vehicle '231835_451_0' performs emergency braking on lane ':26110729_5_1' with decel=9.00, wished=4.50, severity=1.00, time=28494.00.\n"
     ]
    },
    {
     "name": "stdout",
     "output_type": "stream",
     "text": [
      "Step #28400.00 (1ms ~= 1000.00*RT, ~77000.00UPS, TraCI: 87ms, vehicles TOT 1811 ACT 77 BUFs TOT 1621 ACT 82 BUF 52)             \n",
      "Step #28800.00 (1ms ~= 1000.00*RT, ~67000.00UPS, TraCI: 83ms, vehicles TOT 1958 ACT 67 BUFes TOT 2 ACT 2 BUF 0)                  \n",
      "Step #28800.00 (1ms ~= 1000.00*RT, ~69000.00UPS, TraCI: 81ms, vehicles TOT 1961 ACT 69 BUFCI: 79ms, vehicles TOT 1851 ACT 69 BUF\n",
      "Step #28800.00 (0ms ?*RT. ?UPS, TraCI: 82ms, vehicles TOT 1958 ACT 69 BUF 88)             CI: 23ms, vehicles TOT 2 ACT 2 BUF 0)  \n"
     ]
    },
    {
     "name": "stderr",
     "output_type": "stream",
     "text": [
      "\u001b[2m\u001b[36m(RolloutWorker pid=24144)\u001b[0m Warning: Vehicle '148162_417_0' performs emergency braking on lane ':26110729_7_0' with decel=9.00, wished=4.50, severity=1.00, time=26082.00.\n"
     ]
    },
    {
     "name": "stdout",
     "output_type": "stream",
     "text": [
      "Step #26000.00 (0ms ?*RT. ?UPS, TraCI: 89ms, vehicles TOT 474 ACT 90 BUF 12)              CI: 34ms, vehicles TOT 2 ACT 2 BUF 0)  \n"
     ]
    },
    {
     "name": "stderr",
     "output_type": "stream",
     "text": [
      "\u001b[2m\u001b[36m(RolloutWorker pid=13628)\u001b[0m Warning: Vehicle '178434_430_0' performs emergency braking on lane ':26110729_5_1' with decel=9.00, wished=4.50, severity=1.00, time=27304.00.\n"
     ]
    },
    {
     "name": "stdout",
     "output_type": "stream",
     "text": [
      "Step #27300.00 (1ms ~= 1000.00*RT, ~93000.00UPS, TraCI: 83ms, vehicles TOT 1288 ACT 93 BUFes TOT 2 ACT 2 BUF 0)                  \n",
      "Step #26800.00 (1ms ~= 1000.00*RT, ~81000.00UPS, TraCI: 91ms, vehicles TOT 958 ACT 81 BUF CI: 34ms, vehicles TOT 2 ACT 2 BUF 0)  \n"
     ]
    },
    {
     "name": "stderr",
     "output_type": "stream",
     "text": [
      "\u001b[2m\u001b[36m(RolloutWorker pid=20048)\u001b[0m Warning: Vehicle '149857_417_0' performs emergency braking on lane '186623965#9_1' with decel=9.00, wished=4.50, severity=1.00, time=27917.00.\u001b[32m [repeated 2x across cluster]\u001b[0m\n"
     ]
    },
    {
     "name": "stdout",
     "output_type": "stream",
     "text": [
      "Step #27900.00 (1ms ~= 1000.00*RT, ~77000.00UPS, TraCI: 94ms, vehicles TOT 1569 ACT 77 BUFes TOT 2 ACT 2 BUF 0)                  \n"
     ]
    },
    {
     "name": "stderr",
     "output_type": "stream",
     "text": [
      "\u001b[2m\u001b[36m(RolloutWorker pid=24144)\u001b[0m Warning: Vehicle '231050_450_0' performs emergency braking on lane '-186623965#16_0' with decel=9.00, wished=4.50, severity=1.00, time=27639.00.\n"
     ]
    },
    {
     "name": "stdout",
     "output_type": "stream",
     "text": [
      "Step #27600.00 (0ms ?*RT. ?UPS, TraCI: 123ms, vehicles TOT 1440 ACT 98 BUF 48)            les TOT 552 ACT 91 BUF 30)             \n",
      "Step #28800.00 (0ms ?*RT. ?UPS, TraCI: 81ms, vehicles TOT 1964 ACT 72 BUF 82)             es TOT 2 ACT 2 BUF 0)                  \n",
      "Step #28800.00 (0ms ?*RT. ?UPS, TraCI: 82ms, vehicles TOT 1958 ACT 71 BUF 88)             s TOT 2 ACT 2 BUF 0)                  \n",
      "Step #28800.00 (0ms ?*RT. ?UPS, TraCI: 80ms, vehicles TOT 1957 ACT 70 BUF 89)             es TOT 2 ACT 2 BUF 0)                  \n",
      "Step #28800.00 (0ms ?*RT. ?UPS, TraCI: 82ms, vehicles TOT 1963 ACT 73 BUF 83)             aCI: 90ms, vehicles TOT 1333 ACT 73 BUF\n",
      "Step #28800.00 (0ms ?*RT. ?UPS, TraCI: 83ms, vehicles TOT 1959 ACT 68 BUF 87)             s TOT 2 ACT 2 BUF 0)                  \n",
      "Step #28800.00 (0ms ?*RT. ?UPS, TraCI: 83ms, vehicles TOT 1963 ACT 68 BUF 83)             s TOT 2 ACT 2 BUF 0)                  \n",
      "Step #28800.00 (1ms ~= 1000.00*RT, ~70000.00UPS, TraCI: 84ms, vehicles TOT 1965 ACT 70 BUFes TOT 1621 ACT 81 BUF 52)             \n",
      "Step #28800.00 (0ms ?*RT. ?UPS, TraCI: 104ms, vehicles TOT 1958 ACT 67 BUF 88)            I: 35ms, vehicles TOT 2 ACT 2 BUF 0)  \n",
      "Step #28800.00 (0ms ?*RT. ?UPS, TraCI: 90ms, vehicles TOT 1955 ACT 69 BUF 91)             les TOT 1488 ACT 100 BUF 55)           \n",
      "Step #28800.00 (0ms ?*RT. ?UPS, TraCI: 94ms, vehicles TOT 1971 ACT 72 BUF 75)             es TOT 1022 ACT 99 BUF 56)             \n",
      "Step #28800.00 (0ms ?*RT. ?UPS, TraCI: 104ms, vehicles TOT 1961 ACT 70 BUF 85)            es TOT 2 ACT 2 BUF 0)                  \n",
      "Step #28800.00 (1ms ~= 1000.00*RT, ~69000.00UPS, TraCI: 94ms, vehicles TOT 1969 ACT 69 BUFCI: 38ms, vehicles TOT 2 ACT 2 BUF 0)  \n",
      "Step #28800.00 (1ms ~= 1000.00*RT, ~71000.00UPS, TraCI: 98ms, vehicles TOT 1961 ACT 71 BUFI: 39ms, vehicles TOT 2 ACT 2 BUF 0)  \n",
      "Step #28800.00 (0ms ?*RT. ?UPS, TraCI: 97ms, vehicles TOT 1959 ACT 68 BUF 87)             es TOT 2 ACT 2 BUF 0)                  \n",
      "Step #28800.00 (1ms ~= 1000.00*RT, ~69000.00UPS, TraCI: 104ms, vehicles TOT 1958 ACT 69 BUCI: 38ms, vehicles TOT 2 ACT 2 BUF 0)  \n",
      "Step #28800.00 (1ms ~= 1000.00*RT, ~70000.00UPS, TraCI: 95ms, vehicles TOT 1958 ACT 70 BUFI: 38ms, vehicles TOT 2 ACT 2 BUF 0)  \n",
      "Step #28800.00 (1ms ~= 1000.00*RT, ~71000.00UPS, TraCI: 95ms, vehicles TOT 1960 ACT 71 BUFI: 36ms, vehicles TOT 2 ACT 2 BUF 0)  \n",
      "Step #28800.00 (1ms ~= 1000.00*RT, ~71000.00UPS, TraCI: 105ms, vehicles TOT 1960 ACT 71 BUI: 35ms, vehicles TOT 2 ACT 2 BUF 0)  \n",
      "Step #28800.00 (0ms ?*RT. ?UPS, TraCI: 105ms, vehicles TOT 1964 ACT 72 BUF 82)            CI: 36ms, vehicles TOT 2 ACT 2 BUF 0)  \n",
      "Step #28800.00 (0ms ?*RT. ?UPS, TraCI: 110ms, vehicles TOT 1958 ACT 70 BUF 88)            es TOT 2 ACT 2 BUF 0)                  \n"
     ]
    },
    {
     "name": "stderr",
     "output_type": "stream",
     "text": [
      "\u001b[2m\u001b[36m(RolloutWorker pid=20048)\u001b[0m Warning: Vehicle '188987_434_0' performs emergency braking on lane ':26110729_5_1' with decel=9.00, wished=4.50, severity=1.00, time=26155.00.\n"
     ]
    },
    {
     "name": "stdout",
     "output_type": "stream",
     "text": [
      "Step #26100.00 (0ms ?*RT. ?UPS, TraCI: 91ms, vehicles TOT 553 ACT 92 BUF 29)              CI: 31ms, vehicles TOT 2 ACT 2 BUF 0)  \n"
     ]
    },
    {
     "name": "stderr",
     "output_type": "stream",
     "text": [
      "\u001b[2m\u001b[36m(RolloutWorker pid=19280)\u001b[0m Warning: Vehicle '149857_417_0' performs emergency braking on lane '186623965#9_1' with decel=9.00, wished=4.50, severity=1.00, time=27917.00.\n"
     ]
    },
    {
     "name": "stdout",
     "output_type": "stream",
     "text": [
      "Step #27900.00 (0ms ?*RT. ?UPS, TraCI: 101ms, vehicles TOT 1565 ACT 76 BUF 55)            CI: 26ms, vehicles TOT 2 ACT 2 BUF 0)  \n",
      "Step #28800.00 (0ms ?*RT. ?UPS, TraCI: 104ms, vehicles TOT 1960 ACT 70 BUF 86)            s TOT 2 ACT 2 BUF 0)                  \n",
      "Step #28800.00 (0ms ?*RT. ?UPS, TraCI: 104ms, vehicles TOT 1954 ACT 68 BUF 92)            I: 36ms, vehicles TOT 2 ACT 2 BUF 0)  \n",
      "Step #28800.00 (1ms ~= 1000.00*RT, ~71000.00UPS, TraCI: 105ms, vehicles TOT 1960 ACT 71 BUraCI: 97ms, vehicles TOT 626 ACT 101 BU\n",
      "Step #28800.00 (0ms ?*RT. ?UPS, TraCI: 103ms, vehicles TOT 1959 ACT 68 BUF 87)            CI: 36ms, vehicles TOT 2 ACT 2 BUF 0)  \n",
      "Step #28800.00 (0ms ?*RT. ?UPS, TraCI: 98ms, vehicles TOT 1949 ACT 69 BUF 97)             I: 36ms, vehicles TOT 2 ACT 2 BUF 0)  \n",
      "Step #28800.00 (0ms ?*RT. ?UPS, TraCI: 102ms, vehicles TOT 1962 ACT 73 BUF 84)            CI: 40ms, vehicles TOT 2 ACT 2 BUF 0)  \n",
      "Step #28800.00 (1ms ~= 1000.00*RT, ~70000.00UPS, TraCI: 101ms, vehicles TOT 1961 ACT 70 BUes TOT 2 ACT 2 BUF 0)                  \n",
      "Step #28800.00 (1ms ~= 1000.00*RT, ~69000.00UPS, TraCI: 75ms, vehicles TOT 1966 ACT 69 BUFs TOT 2 ACT 2 BUF 0)                  \n",
      "Step #28800.00 (1ms ~= 1000.00*RT, ~68000.00UPS, TraCI: 76ms, vehicles TOT 1959 ACT 68 BUFes TOT 2 ACT 2 BUF 0)                  \n",
      "Step #28800.00 (1ms ~= 1000.00*RT, ~71000.00UPS, TraCI: 82ms, vehicles TOT 1960 ACT 71 BUFes TOT 1617 ACT 77 BUF 56)             \n"
     ]
    },
    {
     "name": "stderr",
     "output_type": "stream",
     "text": [
      "\u001b[2m\u001b[36m(RolloutWorker pid=13580)\u001b[0m Warning: Vehicle '135514_411_0' performs emergency braking on lane ':32319828_6_0' with decel=9.00, wished=4.50, severity=1.00, time=26642.00.\n"
     ]
    },
    {
     "name": "stdout",
     "output_type": "stream",
     "text": [
      "Step #26600.00 (1ms ~= 1000.00*RT, ~99000.00UPS, TraCI: 86ms, vehicles TOT 862 ACT 99 BUF CI: 45ms, vehicles TOT 2 ACT 2 BUF 0)  \n",
      "Step #28800.00 (0ms ?*RT. ?UPS, TraCI: 114ms, vehicles TOT 1958 ACT 67 BUF 88)            CI: 41ms, vehicles TOT 2 ACT 2 BUF 0)  \n",
      "Step #28800.00 (1ms ~= 1000.00*RT, ~69000.00UPS, TraCI: 116ms, vehicles TOT 1958 ACT 69 BUaCI: 83ms, vehicles TOT 904 ACT 79 BUF \n",
      "Step #28800.00 (1ms ~= 1000.00*RT, ~69000.00UPS, TraCI: 113ms, vehicles TOT 1963 ACT 69 BUCI: 44ms, vehicles TOT 2 ACT 2 BUF 0)  \n",
      "Step #28800.00 (1ms ~= 1000.00*RT, ~69000.00UPS, TraCI: 116ms, vehicles TOT 1958 ACT 69 BUs TOT 2 ACT 2 BUF 0)                  \n",
      "Step #28800.00 (0ms ?*RT. ?UPS, TraCI: 106ms, vehicles TOT 1962 ACT 68 BUF 84)            s TOT 2 ACT 2 BUF 0)                  \n",
      "Step #28800.00 (0ms ?*RT. ?UPS, TraCI: 99ms, vehicles TOT 1954 ACT 69 BUF 92)             CI: 46ms, vehicles TOT 2 ACT 2 BUF 0)  \n",
      "Step #28800.00 (1ms ~= 1000.00*RT, ~68000.00UPS, TraCI: 106ms, vehicles TOT 1959 ACT 68 BUs TOT 2 ACT 2 BUF 0)                  \n",
      "Step #28800.00 (0ms ?*RT. ?UPS, TraCI: 91ms, vehicles TOT 1954 ACT 67 BUF 92)             I: 24ms, vehicles TOT 2 ACT 2 BUF 0)  \n",
      "Step #28800.00 (1ms ~= 1000.00*RT, ~69000.00UPS, TraCI: 83ms, vehicles TOT 1958 ACT 69 BUFCI: 25ms, vehicles TOT 2 ACT 2 BUF 0)  \n",
      "Step #28800.00 (1ms ~= 1000.00*RT, ~72000.00UPS, TraCI: 88ms, vehicles TOT 1968 ACT 72 BUFes TOT 2 ACT 2 BUF 0)                  \n"
     ]
    },
    {
     "name": "stderr",
     "output_type": "stream",
     "text": [
      "\u001b[2m\u001b[36m(RolloutWorker pid=3060)\u001b[0m Warning: Vehicle '243791_453_0' performs emergency braking on lane ':26110729_7_0' with decel=9.00, wished=4.50, severity=1.00, time=27347.00.\n"
     ]
    },
    {
     "name": "stdout",
     "output_type": "stream",
     "text": [
      "Step #27300.00 (1ms ~= 1000.00*RT, ~91000.00UPS, TraCI: 143ms, vehicles TOT 1280 ACT 91 BUI: 32ms, vehicles TOT 2 ACT 2 BUF 0)  \n",
      "Step #28800.00 (0ms ?*RT. ?UPS, TraCI: 128ms, vehicles TOT 1974 ACT 69 BUF 72)            CI: 27ms, vehicles TOT 2 ACT 2 BUF 0)  \n",
      "Step #28800.00 (0ms ?*RT. ?UPS, TraCI: 140ms, vehicles TOT 1966 ACT 72 BUF 80)            CI: 30ms, vehicles TOT 2 ACT 2 BUF 0)  \n",
      "Step #28800.00 (0ms ?*RT. ?UPS, TraCI: 127ms, vehicles TOT 1954 ACT 68 BUF 92)            CI: 89ms, vehicles TOT 1330 ACT 78 BUF\n",
      "Step #28800.00 (0ms ?*RT. ?UPS, TraCI: 129ms, vehicles TOT 1962 ACT 70 BUF 84)            es TOT 2 ACT 2 BUF 0)                  \n",
      "Step #28800.00 (1ms ~= 1000.00*RT, ~68000.00UPS, TraCI: 122ms, vehicles TOT 1971 ACT 68 BUI: 33ms, vehicles TOT 2 ACT 2 BUF 0)  \n",
      "Step #28800.00 (0ms ?*RT. ?UPS, TraCI: 121ms, vehicles TOT 1960 ACT 70 BUF 86)            CI: 25ms, vehicles TOT 2 ACT 2 BUF 0)  \n",
      "Step #28800.00 (1ms ~= 1000.00*RT, ~71000.00UPS, TraCI: 125ms, vehicles TOT 1963 ACT 71 BUs TOT 2 ACT 2 BUF 0)                  \n",
      "Step #28800.00 (1ms ~= 1000.00*RT, ~70000.00UPS, TraCI: 89ms, vehicles TOT 1959 ACT 70 BUFI: 26ms, vehicles TOT 2 ACT 2 BUF 0)  \n",
      "Step #28800.00 (0ms ?*RT. ?UPS, TraCI: 91ms, vehicles TOT 1958 ACT 69 BUF 88)             CI: 26ms, vehicles TOT 2 ACT 2 BUF 0)  \n",
      "Step #28800.00 (0ms ?*RT. ?UPS, TraCI: 86ms, vehicles TOT 1969 ACT 74 BUF 77)             CI: 25ms, vehicles TOT 2 ACT 2 BUF 0)  \n"
     ]
    },
    {
     "name": "stderr",
     "output_type": "stream",
     "text": [
      "\u001b[2m\u001b[36m(RolloutWorker pid=13580)\u001b[0m Warning: Vehicle '188987_434_0' performs emergency braking on lane ':26110729_5_1' with decel=9.00, wished=4.50, severity=1.00, time=26154.00.\n"
     ]
    },
    {
     "name": "stdout",
     "output_type": "stream",
     "text": [
      "Step #26100.00 (1ms ~= 1000.00*RT, ~92000.00UPS, TraCI: 92ms, vehicles TOT 554 ACT 92 BUF CI: 33ms, vehicles TOT 2 ACT 2 BUF 0)  \n",
      "Step #28800.00 (1ms ~= 1000.00*RT, ~68000.00UPS, TraCI: 84ms, vehicles TOT 1957 ACT 68 BUFCI: 28ms, vehicles TOT 2 ACT 2 BUF 0)  \n",
      "Step #28800.00 (0ms ?*RT. ?UPS, TraCI: 83ms, vehicles TOT 1966 ACT 68 BUF 80)             CI: 32ms, vehicles TOT 2 ACT 2 BUF 0)  \n",
      "Step #28800.00 (0ms ?*RT. ?UPS, TraCI: 83ms, vehicles TOT 1966 ACT 70 BUF 80)             I: 33ms, vehicles TOT 2 ACT 2 BUF 0)  \n",
      "Step #28800.00 (1ms ~= 1000.00*RT, ~71000.00UPS, TraCI: 86ms, vehicles TOT 1965 ACT 71 BUFaCI: 152ms, vehicles TOT 626 ACT 99 BUF\n",
      "Step #28800.00 (0ms ?*RT. ?UPS, TraCI: 84ms, vehicles TOT 1976 ACT 69 BUF 70)             es TOT 2 ACT 2 BUF 0)                  \n",
      "Step #28800.00 (0ms ?*RT. ?UPS, TraCI: 84ms, vehicles TOT 1966 ACT 74 BUF 80)             I: 33ms, vehicles TOT 2 ACT 2 BUF 0)  \n",
      "Step #28800.00 (1ms ~= 1000.00*RT, ~68000.00UPS, TraCI: 83ms, vehicles TOT 1967 ACT 68 BUFI: 37ms, vehicles TOT 2 ACT 2 BUF 0)  \n",
      "Step #28800.00 (0ms ?*RT. ?UPS, TraCI: 91ms, vehicles TOT 1958 ACT 66 BUF 88)             I: 36ms, vehicles TOT 2 ACT 2 BUF 0)  \n",
      "Step #28800.00 (0ms ?*RT. ?UPS, TraCI: 92ms, vehicles TOT 1980 ACT 71 BUF 66)             CI: 36ms, vehicles TOT 2 ACT 2 BUF 0)  \n",
      "Step #28800.00 (1ms ~= 1000.00*RT, ~71000.00UPS, TraCI: 92ms, vehicles TOT 1972 ACT 71 BUFCI: 37ms, vehicles TOT 2 ACT 2 BUF 0)  \n"
     ]
    },
    {
     "name": "stderr",
     "output_type": "stream",
     "text": [
      "\u001b[2m\u001b[36m(RolloutWorker pid=20048)\u001b[0m Warning: Vehicle '104130_397_0' performs emergency braking on lane ':252017285_20_0' with decel=9.00, wished=4.50, severity=1.00, time=26581.00.\n"
     ]
    },
    {
     "name": "stdout",
     "output_type": "stream",
     "text": [
      "Step #26500.00 (1ms ~= 1000.00*RT, ~92000.00UPS, TraCI: 74ms, vehicles TOT 806 ACT 92 BUF es TOT 2 ACT 2 BUF 0)                  \n"
     ]
    },
    {
     "name": "stderr",
     "output_type": "stream",
     "text": [
      "\u001b[2m\u001b[36m(RolloutWorker pid=24144)\u001b[0m Warning: Vehicle '151856_419_0' performs emergency braking on lane ':26110729_7_0' with decel=9.00, wished=4.50, severity=1.00, time=26862.00.\n"
     ]
    },
    {
     "name": "stdout",
     "output_type": "stream",
     "text": [
      "Step #26800.00 (0ms ?*RT. ?UPS, TraCI: 83ms, vehicles TOT 948 ACT 78 BUF 70)              CI: 37ms, vehicles TOT 2 ACT 2 BUF 0)  \n",
      "Step #28800.00 (1ms ~= 1000.00*RT, ~69000.00UPS, TraCI: 96ms, vehicles TOT 1967 ACT 69 BUFles TOT 866 ACT 98 BUF 73)             \n",
      "Step #28800.00 (0ms ?*RT. ?UPS, TraCI: 93ms, vehicles TOT 1967 ACT 70 BUF 79)             CI: 43ms, vehicles TOT 2 ACT 2 BUF 0)  \n",
      "Step #28800.00 (1ms ~= 1000.00*RT, ~69000.00UPS, TraCI: 101ms, vehicles TOT 1960 ACT 69 BUI: 38ms, vehicles TOT 2 ACT 2 BUF 0)  \n",
      "Step #28800.00 (0ms ?*RT. ?UPS, TraCI: 101ms, vehicles TOT 1960 ACT 70 BUF 86)            es TOT 2 ACT 2 BUF 0)                  \n",
      "Step #28800.00 (0ms ?*RT. ?UPS, TraCI: 93ms, vehicles TOT 1974 ACT 68 BUF 72)             I: 37ms, vehicles TOT 2 ACT 2 BUF 0)  \n",
      "Step #28800.00 (0ms ?*RT. ?UPS, TraCI: 100ms, vehicles TOT 1960 ACT 70 BUF 86)            I: 43ms, vehicles TOT 2 ACT 2 BUF 0)  \n",
      "Step #28800.00 (1ms ~= 1000.00*RT, ~73000.00UPS, TraCI: 69ms, vehicles TOT 1958 ACT 73 BUFCI: 38ms, vehicles TOT 2 ACT 2 BUF 0)  \n",
      "Step #28800.00 (0ms ?*RT. ?UPS, TraCI: 112ms, vehicles TOT 1962 ACT 69 BUF 84)            aCI: 97ms, vehicles TOT 1015 ACT 97 BUF\n",
      "Step #28800.00 (1ms ~= 1000.00*RT, ~68000.00UPS, TraCI: 106ms, vehicles TOT 1973 ACT 68 BUI: 34ms, vehicles TOT 2 ACT 2 BUF 0)  \n",
      "Step #28800.00 (0ms ?*RT. ?UPS, TraCI: 109ms, vehicles TOT 1958 ACT 68 BUF 88)            CI: 33ms, vehicles TOT 2 ACT 2 BUF 0)  \n"
     ]
    },
    {
     "name": "stderr",
     "output_type": "stream",
     "text": [
      "\u001b[2m\u001b[36m(RolloutWorker pid=21792)\u001b[0m Warning: Vehicle '216002_445_0' performs emergency braking on lane ':26110729_16_0' with decel=9.00, wished=4.50, severity=1.00, time=26822.00.\n"
     ]
    },
    {
     "name": "stdout",
     "output_type": "stream",
     "text": [
      "Step #26800.00 (0ms ?*RT. ?UPS, TraCI: 82ms, vehicles TOT 950 ACT 79 BUF 68)              CI: 38ms, vehicles TOT 2 ACT 2 BUF 0)  \n"
     ]
    },
    {
     "name": "stderr",
     "output_type": "stream",
     "text": [
      "\u001b[2m\u001b[36m(RolloutWorker pid=20048)\u001b[0m Warning: Vehicle '178434_430_0' performs emergency braking on lane ':26110729_5_1' with decel=9.00, wished=4.50, severity=1.00, time=27303.00.\n"
     ]
    },
    {
     "name": "stdout",
     "output_type": "stream",
     "text": [
      "Step #27300.00 (1ms ~= 1000.00*RT, ~89000.00UPS, TraCI: 81ms, vehicles TOT 1282 ACT 89 BUFCI: 39ms, vehicles TOT 2 ACT 2 BUF 0)  \n"
     ]
    },
    {
     "name": "stderr",
     "output_type": "stream",
     "text": [
      "\u001b[2m\u001b[36m(RolloutWorker pid=13628)\u001b[0m Warning: Vehicle '186121_432_0' performs emergency braking on lane ':26110729_7_0' with decel=9.00, wished=4.50, severity=1.00, time=27712.00.\n"
     ]
    },
    {
     "name": "stdout",
     "output_type": "stream",
     "text": [
      "Step #27700.00 (0ms ?*RT. ?UPS, TraCI: 94ms, vehicles TOT 1490 ACT 103 BUF 53)            CI: 36ms, vehicles TOT 2 ACT 2 BUF 0)  \n"
     ]
    },
    {
     "name": "stderr",
     "output_type": "stream",
     "text": [
      "\u001b[2m\u001b[36m(RolloutWorker pid=3200)\u001b[0m Warning: Vehicle '235059_451_0' performs emergency braking on lane ':cluster_1098574052_1098574061_247379905_14_0' with decel=9.00, wished=4.50, severity=1.00, time=27577.00.\n"
     ]
    },
    {
     "name": "stdout",
     "output_type": "stream",
     "text": [
      "Step #27500.00 (1ms ~= 1000.00*RT, ~80000.00UPS, TraCI: 88ms, vehicles TOT 1384 ACT 80 BUFs TOT 2 ACT 2 BUF 0)                  \n",
      "Step #28800.00 (0ms ?*RT. ?UPS, TraCI: 107ms, vehicles TOT 1959 ACT 69 BUF 87)            CI: 39ms, vehicles TOT 2 ACT 2 BUF 0)  \n",
      "Step #28800.00 (0ms ?*RT. ?UPS, TraCI: 106ms, vehicles TOT 1961 ACT 68 BUF 85)            I: 34ms, vehicles TOT 2 ACT 2 BUF 0)  \n",
      "Step #28800.00 (0ms ?*RT. ?UPS, TraCI: 107ms, vehicles TOT 1958 ACT 67 BUF 88)            I: 36ms, vehicles TOT 2 ACT 2 BUF 0)  \n",
      "Step #28800.00 (0ms ?*RT. ?UPS, TraCI: 105ms, vehicles TOT 1962 ACT 72 BUF 84)            aCI: 84ms, vehicles TOT 1330 ACT 75 BUF\n",
      "Step #28800.00 (0ms ?*RT. ?UPS, TraCI: 109ms, vehicles TOT 1954 ACT 69 BUF 92)            es TOT 1016 ACT 100 BUF 62)            \n",
      "Step #28800.00 (0ms ?*RT. ?UPS, TraCI: 108ms, vehicles TOT 1960 ACT 68 BUF 86)            I: 38ms, vehicles TOT 2 ACT 2 BUF 0)  \n",
      "Step #28800.00 (0ms ?*RT. ?UPS, TraCI: 107ms, vehicles TOT 1958 ACT 70 BUF 88)            es TOT 1519 ACT 72 BUF 56)             \n",
      "Step #28800.00 (0ms ?*RT. ?UPS, TraCI: 81ms, vehicles TOT 1963 ACT 70 BUF 83)             es TOT 1443 ACT 101 BUF 45)           \n",
      "Step #28800.00 (0ms ?*RT. ?UPS, TraCI: 81ms, vehicles TOT 1975 ACT 68 BUF 71)             CI: 27ms, vehicles TOT 2 ACT 2 BUF 0)  \n",
      "Step #28800.00 (0ms ?*RT. ?UPS, TraCI: 75ms, vehicles TOT 1957 ACT 67 BUF 89)             es TOT 2 ACT 2 BUF 0)                  \n"
     ]
    },
    {
     "name": "stderr",
     "output_type": "stream",
     "text": [
      "\u001b[2m\u001b[36m(RolloutWorker pid=13628)\u001b[0m Warning: Vehicle '200971_437_0' performs emergency braking on lane ':26110729_16_0' with decel=9.00, wished=4.50, severity=1.00, time=26187.00.\n"
     ]
    },
    {
     "name": "stdout",
     "output_type": "stream",
     "text": [
      "Step #26100.00 (1ms ~= 1000.00*RT, ~91000.00UPS, TraCI: 91ms, vehicles TOT 556 ACT 91 BUF CI: 37ms, vehicles TOT 2 ACT 2 BUF 0)  \n"
     ]
    },
    {
     "name": "stderr",
     "output_type": "stream",
     "text": [
      "\u001b[2m\u001b[36m(RolloutWorker pid=24144)\u001b[0m Warning: Vehicle '156101_420_0' performs emergency braking on lane ':26110729_14_1' with decel=9.00, wished=4.50, severity=1.00, time=27294.00.\n"
     ]
    },
    {
     "name": "stdout",
     "output_type": "stream",
     "text": [
      "Step #27200.00 (1ms ~= 1000.00*RT, ~89000.00UPS, TraCI: 92ms, vehicles TOT 1222 ACT 89 BUFes TOT 2 ACT 2 BUF 0)                  \n",
      "Step #28800.00 (1ms ~= 1000.00*RT, ~69000.00UPS, TraCI: 113ms, vehicles TOT 1963 ACT 69 BUCI: 35ms, vehicles TOT 2 ACT 2 BUF 0)  \n",
      "Step #28800.00 (1ms ~= 1000.00*RT, ~69000.00UPS, TraCI: 116ms, vehicles TOT 1954 ACT 69 BUes TOT 2 ACT 2 BUF 0)                  \n",
      "Step #28800.00 (1ms ~= 1000.00*RT, ~70000.00UPS, TraCI: 113ms, vehicles TOT 1968 ACT 70 BUI: 33ms, vehicles TOT 2 ACT 2 BUF 0)  \n",
      "Step #28800.00 (0ms ?*RT. ?UPS, TraCI: 113ms, vehicles TOT 1965 ACT 71 BUF 81)            CI: 35ms, vehicles TOT 2 ACT 2 BUF 0)  \n",
      "Step #28800.00 (1ms ~= 1000.00*RT, ~70000.00UPS, TraCI: 112ms, vehicles TOT 1963 ACT 70 BUs TOT 2 ACT 2 BUF 0)                  \n",
      "Step #28800.00 (0ms ?*RT. ?UPS, TraCI: 104ms, vehicles TOT 1958 ACT 67 BUF 88)            I: 40ms, vehicles TOT 2 ACT 2 BUF 0)  \n",
      "Step #28800.00 (1ms ~= 1000.00*RT, ~91000.00UPS, TraCI: 94ms, vehicles TOT 1968 ACT 91 BUFes TOT 628 ACT 108 BUF 33)             \n",
      "Step #28800.00 (0ms ?*RT. ?UPS, TraCI: 87ms, vehicles TOT 1966 ACT 68 BUF 80)             I: 27ms, vehicles TOT 2 ACT 2 BUF 0)  \n",
      "Step #28800.00 (1ms ~= 1000.00*RT, ~69000.00UPS, TraCI: 85ms, vehicles TOT 1966 ACT 69 BUFCI: 24ms, vehicles TOT 2 ACT 2 BUF 0)  \n",
      "Step #28800.00 (1ms ~= 1000.00*RT, ~73000.00UPS, TraCI: 80ms, vehicles TOT 1965 ACT 73 BUFaCI: 139ms, vehicles TOT 1287 ACT 90 BU\n",
      "Step #28800.00 (1ms ~= 1000.00*RT, ~69000.00UPS, TraCI: 126ms, vehicles TOT 1959 ACT 69 BUCI: 31ms, vehicles TOT 2 ACT 2 BUF 0)  \n",
      "Step #28800.00 (0ms ?*RT. ?UPS, TraCI: 126ms, vehicles TOT 1960 ACT 70 BUF 86)            I: 32ms, vehicles TOT 2 ACT 2 BUF 0)  \n",
      "Step #28800.00 (1ms ~= 1000.00*RT, ~74000.00UPS, TraCI: 123ms, vehicles TOT 1969 ACT 74 BUCI: 25ms, vehicles TOT 2 ACT 2 BUF 0)  \n",
      "Step #28800.00 (0ms ?*RT. ?UPS, TraCI: 122ms, vehicles TOT 1959 ACT 69 BUF 87)            s TOT 2 ACT 2 BUF 0)                  \n",
      "Step #28800.00 (1ms ~= 1000.00*RT, ~72000.00UPS, TraCI: 113ms, vehicles TOT 1965 ACT 72 BUCI: 25ms, vehicles TOT 2 ACT 2 BUF 0)  \n",
      "Step #28800.00 (0ms ?*RT. ?UPS, TraCI: 129ms, vehicles TOT 1962 ACT 70 BUF 84)            CI: 32ms, vehicles TOT 2 ACT 2 BUF 0)  \n",
      "Step #28800.00 (0ms ?*RT. ?UPS, TraCI: 106ms, vehicles TOT 1960 ACT 71 BUF 86)            I: 30ms, vehicles TOT 2 ACT 2 BUF 0)  \n"
     ]
    },
    {
     "name": "stderr",
     "output_type": "stream",
     "text": [
      "\u001b[2m\u001b[36m(RolloutWorker pid=1732)\u001b[0m Warning: Vehicle '109384_401_0' performs emergency braking on lane ':280120513_1_0' with decel=9.00, wished=4.50, severity=1.00, time=25457.00.\n"
     ]
    },
    {
     "name": "stdout",
     "output_type": "stream",
     "text": [
      "Step #25400.00 (1ms ~= 1000.00*RT, ~32000.00UPS, TraCI: 59ms, vehicles TOT 104 ACT 32 BUF s TOT 2 ACT 2 BUF 0)                  \n",
      "Step #28800.00 (1ms ~= 1000.00*RT, ~70000.00UPS, TraCI: 89ms, vehicles TOT 1966 ACT 70 BUFCI: 25ms, vehicles TOT 2 ACT 2 BUF 0)  \n",
      "Step #28800.00 (0ms ?*RT. ?UPS, TraCI: 85ms, vehicles TOT 1973 ACT 70 BUF 73)             es TOT 2 ACT 2 BUF 0)                  \n",
      "Step #28800.00 (1ms ~= 1000.00*RT, ~77000.00UPS, TraCI: 81ms, vehicles TOT 1969 ACT 77 BUFs TOT 2 ACT 2 BUF 0)                  \n"
     ]
    },
    {
     "name": "stderr",
     "output_type": "stream",
     "text": [
      "\u001b[2m\u001b[36m(RolloutWorker pid=13580)\u001b[0m Warning: Vehicle '188987_434_0' performs emergency braking on lane ':26110729_5_1' with decel=9.00, wished=4.50, severity=1.00, time=26154.00.\n"
     ]
    },
    {
     "name": "stdout",
     "output_type": "stream",
     "text": [
      "Step #26100.00 (1ms ~= 1000.00*RT, ~94000.00UPS, TraCI: 89ms, vehicles TOT 555 ACT 94 BUF CI: 30ms, vehicles TOT 2 ACT 2 BUF 0)  \n"
     ]
    },
    {
     "name": "stderr",
     "output_type": "stream",
     "text": [
      "\u001b[2m\u001b[36m(RolloutWorker pid=3200)\u001b[0m Warning: Vehicle '146441_416_0' performs emergency braking on lane ':cluster_1098574052_1098574061_247379905_14_0' with decel=9.00, wished=4.50, severity=1.00, time=27402.00.\n"
     ]
    },
    {
     "name": "stdout",
     "output_type": "stream",
     "text": [
      "Step #27400.00 (0ms ?*RT. ?UPS, TraCI: 90ms, vehicles TOT 1335 ACT 74 BUF 34)             I: 40ms, vehicles TOT 2 ACT 2 BUF 0)  \n",
      "Step #28800.00 (1ms ~= 1000.00*RT, ~75000.00UPS, TraCI: 93ms, vehicles TOT 1966 ACT 75 BUFCI: 28ms, vehicles TOT 2 ACT 2 BUF 0)  \n",
      "Step #28800.00 (0ms ?*RT. ?UPS, TraCI: 91ms, vehicles TOT 1966 ACT 74 BUF 80)             s TOT 2 ACT 2 BUF 0)                  \n",
      "Step #28800.00 (1ms ~= 1000.00*RT, ~67000.00UPS, TraCI: 88ms, vehicles TOT 1959 ACT 67 BUFles TOT 627 ACT 99 BUF 34)             \n",
      "Step #28800.00 (1ms ~= 1000.00*RT, ~69000.00UPS, TraCI: 87ms, vehicles TOT 1950 ACT 69 BUFCI: 50ms, vehicles TOT 147 ACT 26 BUF \n",
      "Step #28800.00 (1ms ~= 1000.00*RT, ~77000.00UPS, TraCI: 65ms, vehicles TOT 1967 ACT 77 BUFes TOT 2 ACT 2 BUF 0)                  \n",
      "Step #28800.00 (1ms ~= 1000.00*RT, ~83000.00UPS, TraCI: 72ms, vehicles TOT 1968 ACT 83 BUFs TOT 2 ACT 2 BUF 0)                  \n",
      "Step #28800.00 (1ms ~= 1000.00*RT, ~75000.00UPS, TraCI: 68ms, vehicles TOT 1965 ACT 75 BUFCI: 23ms, vehicles TOT 2 ACT 2 BUF 0)  \n",
      "Step #28800.00 (0ms ?*RT. ?UPS, TraCI: 94ms, vehicles TOT 1962 ACT 71 BUF 84)             s TOT 1380 ACT 79 BUF 34)             \n",
      "Step #28800.00 (0ms ?*RT. ?UPS, TraCI: 100ms, vehicles TOT 1954 ACT 68 BUF 92)            es TOT 2 ACT 2 BUF 0)                  \n",
      "Step #28800.00 (0ms ?*RT. ?UPS, TraCI: 99ms, vehicles TOT 1963 ACT 73 BUF 83)             es TOT 2 ACT 2 BUF 0)                  \n"
     ]
    },
    {
     "name": "stderr",
     "output_type": "stream",
     "text": [
      "\u001b[2m\u001b[36m(RolloutWorker pid=21792)\u001b[0m Warning: Vehicle '188874_434_0' performs emergency braking on lane ':cluster_1098574052_1098574061_247379905_14_0' with decel=9.00, wished=4.50, severity=1.00, time=26172.00.\n"
     ]
    },
    {
     "name": "stdout",
     "output_type": "stream",
     "text": [
      "Step #26100.00 (1ms ~= 1000.00*RT, ~95000.00UPS, TraCI: 143ms, vehicles TOT 551 ACT 95 BUFCI: 28ms, vehicles TOT 2 ACT 2 BUF 0)  \n"
     ]
    },
    {
     "name": "stderr",
     "output_type": "stream",
     "text": [
      "\u001b[2m\u001b[36m(RolloutWorker pid=1732)\u001b[0m Warning: Vehicle '186121_432_0' performs emergency braking on lane ':26110729_7_0' with decel=9.00, wished=4.50, severity=1.00, time=27712.00.\n"
     ]
    },
    {
     "name": "stdout",
     "output_type": "stream",
     "text": [
      "Step #27700.00 (1ms ~= 1000.00*RT, ~98000.00UPS, TraCI: 93ms, vehicles TOT 1487 ACT 98 BUFI: 32ms, vehicles TOT 2 ACT 2 BUF 0)  \n"
     ]
    },
    {
     "name": "stderr",
     "output_type": "stream",
     "text": [
      "\u001b[2m\u001b[36m(RolloutWorker pid=3060)\u001b[0m Warning: Vehicle '143416_415_0' performs emergency braking on lane ':26110729_7_0' with decel=9.00, wished=4.50, severity=1.00, time=28207.00.\n"
     ]
    },
    {
     "name": "stdout",
     "output_type": "stream",
     "text": [
      "Step #28200.00 (1ms ~= 1000.00*RT, ~66000.00UPS, TraCI: 79ms, vehicles TOT 1697 ACT 66 BUFI: 26ms, vehicles TOT 2 ACT 2 BUF 0)  \n",
      "Step #28800.00 (0ms ?*RT. ?UPS, TraCI: 99ms, vehicles TOT 1965 ACT 73 BUF 81)             CI: 36ms, vehicles TOT 2 ACT 2 BUF 0)  \n",
      "Step #28800.00 (1ms ~= 1000.00*RT, ~71000.00UPS, TraCI: 96ms, vehicles TOT 1960 ACT 71 BUFraCI: 90ms, vehicles TOT 623 ACT 106 BU\n",
      "Step #28800.00 (0ms ?*RT. ?UPS, TraCI: 93ms, vehicles TOT 1965 ACT 71 BUF 81)             CI: 32ms, vehicles TOT 2 ACT 2 BUF 0)  \n",
      "Step #28800.00 (0ms ?*RT. ?UPS, TraCI: 96ms, vehicles TOT 1960 ACT 68 BUF 86)             es TOT 2 ACT 2 BUF 0)                  \n",
      "Step #28800.00 (1ms ~= 1000.00*RT, ~68000.00UPS, TraCI: 93ms, vehicles TOT 1958 ACT 68 BUFs TOT 1515 ACT 67 BUF 60)             \n",
      "Step #28800.00 (1ms ~= 1000.00*RT, ~70000.00UPS, TraCI: 98ms, vehicles TOT 1967 ACT 70 BUFs TOT 2 ACT 2 BUF 0)                  \n",
      "Step #28800.00 (0ms ?*RT. ?UPS, TraCI: 75ms, vehicles TOT 1965 ACT 88 BUF 81)             s TOT 1766 ACT 90 BUF 49)             \n",
      "Step #28800.00 (0ms ?*RT. ?UPS, TraCI: 103ms, vehicles TOT 1962 ACT 70 BUF 84)            I: 38ms, vehicles TOT 2 ACT 2 BUF 0)  \n",
      "Step #28800.00 (1ms ~= 1000.00*RT, ~68000.00UPS, TraCI: 105ms, vehicles TOT 1958 ACT 68 BUCI: 35ms, vehicles TOT 2 ACT 2 BUF 0)  \n",
      "Step #28800.00 (1ms ~= 1000.00*RT, ~73000.00UPS, TraCI: 104ms, vehicles TOT 1963 ACT 73 BUes TOT 2 ACT 2 BUF 0)                  \n"
     ]
    },
    {
     "name": "stderr",
     "output_type": "stream",
     "text": [
      "\u001b[2m\u001b[36m(RolloutWorker pid=9256)\u001b[0m Warning: Vehicle '184524_431_0' performs emergency braking on lane '-186623965#16_0' with decel=9.00, wished=4.50, severity=1.00, time=26359.00.\n"
     ]
    },
    {
     "name": "stdout",
     "output_type": "stream",
     "text": [
      "Step #26300.00 (1ms ~= 1000.00*RT, ~118000.00UPS, TraCI: 94ms, vehicles TOT 715 ACT 118 BUs TOT 2 ACT 2 BUF 0)                  \n"
     ]
    },
    {
     "name": "stderr",
     "output_type": "stream",
     "text": [
      "\u001b[2m\u001b[36m(RolloutWorker pid=13628)\u001b[0m Warning: Vehicle '161407_421_0' performs emergency braking on lane ':26110729_5_1' with decel=9.00, wished=4.50, severity=1.00, time=26954.00.\n"
     ]
    },
    {
     "name": "stdout",
     "output_type": "stream",
     "text": [
      "Step #26900.00 (1ms ~= 1000.00*RT, ~98000.00UPS, TraCI: 93ms, vehicles TOT 1013 ACT 98 BUFes TOT 2 ACT 2 BUF 0)                  \n"
     ]
    },
    {
     "name": "stderr",
     "output_type": "stream",
     "text": [
      "\u001b[2m\u001b[36m(RolloutWorker pid=3060)\u001b[0m Warning: Vehicle '176268_429_0' performs emergency braking on lane ':cluster_1098574052_1098574061_247379905_14_0' with decel=9.00, wished=4.50, severity=1.00, time=27557.00.\n"
     ]
    },
    {
     "name": "stdout",
     "output_type": "stream",
     "text": [
      "Step #27500.00 (0ms ?*RT. ?UPS, TraCI: 168ms, vehicles TOT 1382 ACT 79 BUF 32)            s TOT 2 ACT 2 BUF 0)                  \n"
     ]
    },
    {
     "name": "stderr",
     "output_type": "stream",
     "text": [
      "\u001b[2m\u001b[36m(RolloutWorker pid=3200)\u001b[0m Warning: Vehicle '184516_431_0' performs emergency braking on lane ':26110729_5_1' with decel=9.00, wished=4.50, severity=1.00, time=27649.00.\n"
     ]
    },
    {
     "name": "stdout",
     "output_type": "stream",
     "text": [
      "Step #27600.00 (1ms ~= 1000.00*RT, ~102000.00UPS, TraCI: 104ms, vehicles TOT 1430 ACT 102 s TOT 2 ACT 2 BUF 0)                  \n",
      "Step #28800.00 (0ms ?*RT. ?UPS, TraCI: 108ms, vehicles TOT 1958 ACT 68 BUF 88)            s TOT 2 ACT 2 BUF 0)                  \n",
      "Step #28800.00 (0ms ?*RT. ?UPS, TraCI: 108ms, vehicles TOT 1956 ACT 68 BUF 90)            es TOT 2 ACT 2 BUF 0)                  \n",
      "Step #28800.00 (0ms ?*RT. ?UPS, TraCI: 110ms, vehicles TOT 1971 ACT 70 BUF 75)            es TOT 1443 ACT 104 BUF 45)           \n",
      "Step #28800.00 (1ms ~= 1000.00*RT, ~71000.00UPS, TraCI: 108ms, vehicles TOT 1963 ACT 71 BUCI: 36ms, vehicles TOT 2 ACT 2 BUF 0)  \n",
      "Step #28800.00 (0ms ?*RT. ?UPS, TraCI: 111ms, vehicles TOT 1952 ACT 68 BUF 94)            aCI: 152ms, vehicles TOT 1080 ACT 97 BU\n",
      "Step #28800.00 (0ms ?*RT. ?UPS, TraCI: 108ms, vehicles TOT 1958 ACT 70 BUF 88)            s TOT 763 ACT 101 BUF 60)             \n",
      "Step #28800.00 (0ms ?*RT. ?UPS, TraCI: 81ms, vehicles TOT 1955 ACT 70 BUF 91)             CI: 34ms, vehicles TOT 2 ACT 2 BUF 0)  \n",
      "Step #28800.00 (0ms ?*RT. ?UPS, TraCI: 78ms, vehicles TOT 1956 ACT 68 BUF 90)             es TOT 1480 ACT 106 BUF 63)           \n",
      "Step #28800.00 (1ms ~= 1000.00*RT, ~71000.00UPS, TraCI: 79ms, vehicles TOT 1959 ACT 71 BUFes TOT 2 ACT 2 BUF 0)                  \n",
      "Step #28800.00 (1ms ~= 1000.00*RT, ~83000.00UPS, TraCI: 77ms, vehicles TOT 1948 ACT 83 BUFes TOT 2 ACT 2 BUF 0)                  \n"
     ]
    },
    {
     "name": "stderr",
     "output_type": "stream",
     "text": [
      "\u001b[2m\u001b[36m(RolloutWorker pid=13628)\u001b[0m Warning: Vehicle '252066_457_0' performs emergency braking on lane ':252017285_20_0' with decel=9.00, wished=4.50, severity=1.00, time=27396.00.\n"
     ]
    },
    {
     "name": "stdout",
     "output_type": "stream",
     "text": [
      "Step #27300.00 (1ms ~= 1000.00*RT, ~87000.00UPS, TraCI: 81ms, vehicles TOT 1280 ACT 87 BUFes TOT 2 ACT 2 BUF 0)                  \n",
      "Step #28800.00 (0ms ?*RT. ?UPS, TraCI: 128ms, vehicles TOT 1964 ACT 72 BUF 82)            es TOT 2 ACT 2 BUF 0)                  \n",
      "Step #28800.00 (0ms ?*RT. ?UPS, TraCI: 109ms, vehicles TOT 1967 ACT 71 BUF 79)            CI: 36ms, vehicles TOT 2 ACT 2 BUF 0)  \n",
      "Step #28800.00 (0ms ?*RT. ?UPS, TraCI: 111ms, vehicles TOT 1958 ACT 69 BUF 88)            I: 34ms, vehicles TOT 2 ACT 2 BUF 0)  \n",
      "Step #28800.00 (0ms ?*RT. ?UPS, TraCI: 121ms, vehicles TOT 1962 ACT 70 BUF 84)            es TOT 2 ACT 2 BUF 0)                  \n",
      "Step #28800.00 (0ms ?*RT. ?UPS, TraCI: 116ms, vehicles TOT 1960 ACT 69 BUF 86)            I: 36ms, vehicles TOT 2 ACT 2 BUF 0)  \n",
      "Step #28800.00 (0ms ?*RT. ?UPS, TraCI: 96ms, vehicles TOT 1953 ACT 70 BUF 93)             les TOT 1328 ACT 76 BUF 41)            \n",
      "Step #28800.00 (0ms ?*RT. ?UPS, TraCI: 92ms, vehicles TOT 1959 ACT 73 BUF 87)             I: 31ms, vehicles TOT 2 ACT 2 BUF 0)  \n",
      "Step #28800.00 (0ms ?*RT. ?UPS, TraCI: 91ms, vehicles TOT 1962 ACT 70 BUF 84)             s TOT 2 ACT 2 BUF 0)                  \n",
      "Step #28800.00 (0ms ?*RT. ?UPS, TraCI: 87ms, vehicles TOT 1962 ACT 73 BUF 84)             CI: 25ms, vehicles TOT 2 ACT 2 BUF 0)  \n",
      "Step #28800.00 (1ms ~= 1000.00*RT, ~183000.00UPS, TraCI: 117ms, vehicles TOT 1933 ACT 183 CI: 24ms, vehicles TOT 2 ACT 2 BUF 0)  \n"
     ]
    },
    {
     "name": "stderr",
     "output_type": "stream",
     "text": [
      "\u001b[2m\u001b[36m(RolloutWorker pid=20048)\u001b[0m Warning: Vehicle '207932_441_0' performs emergency braking on lane ':26110729_16_0' with decel=9.00, wished=4.50, severity=1.00, time=26612.00.\n"
     ]
    },
    {
     "name": "stdout",
     "output_type": "stream",
     "text": [
      "Step #26600.00 (1ms ~= 1000.00*RT, ~95000.00UPS, TraCI: 83ms, vehicles TOT 870 ACT 95 BUF CI: 25ms, vehicles TOT 2 ACT 2 BUF 0)  \n"
     ]
    },
    {
     "name": "stderr",
     "output_type": "stream",
     "text": [
      "\u001b[2m\u001b[36m(RolloutWorker pid=1732)\u001b[0m Warning: Vehicle '161407_421_0' performs emergency braking on lane ':26110729_5_1' with decel=9.00, wished=4.50, severity=1.00, time=26954.00.\n"
     ]
    },
    {
     "name": "stdout",
     "output_type": "stream",
     "text": [
      "Step #26900.00 (0ms ?*RT. ?UPS, TraCI: 97ms, vehicles TOT 1013 ACT 99 BUF 65)             s TOT 2 ACT 2 BUF 0)                  \n",
      "Step #28800.00 (0ms ?*RT. ?UPS, TraCI: 141ms, vehicles TOT 1951 ACT 66 BUF 95)            CI: 31ms, vehicles TOT 2 ACT 2 BUF 0)  \n",
      "Step #28800.00 (0ms ?*RT. ?UPS, TraCI: 130ms, vehicles TOT 1958 ACT 67 BUF 88)            es TOT 2 ACT 2 BUF 0)                  \n",
      "Step #28800.00 (1ms ~= 1000.00*RT, ~67000.00UPS, TraCI: 125ms, vehicles TOT 1955 ACT 67 BUs TOT 1080 ACT 98 BUF 59)             \n",
      "Step #28800.00 (1ms ~= 1000.00*RT, ~69000.00UPS, TraCI: 128ms, vehicles TOT 1957 ACT 69 BUI: 34ms, vehicles TOT 2 ACT 2 BUF 0)  \n",
      "Step #28800.00 (0ms ?*RT. ?UPS, TraCI: 134ms, vehicles TOT 1957 ACT 69 BUF 89)            CI: 33ms, vehicles TOT 2 ACT 2 BUF 0)  \n",
      "Step #28800.00 (0ms ?*RT. ?UPS, TraCI: 129ms, vehicles TOT 1952 ACT 69 BUF 94)            s TOT 2 ACT 2 BUF 0)                  \n",
      "Step #28800.00 (1ms ~= 1000.00*RT, ~88000.00UPS, TraCI: 95ms, vehicles TOT 1966 ACT 88 BUFes TOT 914 ACT 77 BUF 65)              \n",
      "Step #28800.00 (1ms ~= 1000.00*RT, ~70000.00UPS, TraCI: 86ms, vehicles TOT 1958 ACT 70 BUFI: 24ms, vehicles TOT 2 ACT 2 BUF 0)  \n",
      "Step #28800.00 (0ms ?*RT. ?UPS, TraCI: 83ms, vehicles TOT 1958 ACT 69 BUF 88)             CI: 23ms, vehicles TOT 2 ACT 2 BUF 0)  \n",
      "Step #28800.00 (1ms ~= 1000.00*RT, ~86000.00UPS, TraCI: 84ms, vehicles TOT 1954 ACT 86 BUFes TOT 2 ACT 2 BUF 0)                  \n"
     ]
    },
    {
     "name": "stderr",
     "output_type": "stream",
     "text": [
      "\u001b[2m\u001b[36m(RolloutWorker pid=21792)\u001b[0m Warning: Vehicle '188987_434_0' performs emergency braking on lane ':26110729_5_1' with decel=9.00, wished=4.50, severity=1.00, time=26154.00.\n"
     ]
    },
    {
     "name": "stdout",
     "output_type": "stream",
     "text": [
      "Step #26100.00 (1ms ~= 1000.00*RT, ~94000.00UPS, TraCI: 89ms, vehicles TOT 553 ACT 94 BUF es TOT 2 ACT 2 BUF 0)                  \n"
     ]
    },
    {
     "name": "stderr",
     "output_type": "stream",
     "text": [
      "\u001b[2m\u001b[36m(RolloutWorker pid=13628)\u001b[0m Warning: Vehicle '135408_411_0' performs emergency braking on lane ':26110729_16_0' with decel=9.00, wished=4.50, severity=1.00, time=26617.00.\n"
     ]
    },
    {
     "name": "stdout",
     "output_type": "stream",
     "text": [
      "Step #26600.00 (0ms ?*RT. ?UPS, TraCI: 89ms, vehicles TOT 865 ACT 100 BUF 74)             es TOT 2 ACT 2 BUF 0)                  \n"
     ]
    },
    {
     "name": "stderr",
     "output_type": "stream",
     "text": [
      "\u001b[2m\u001b[36m(RolloutWorker pid=21792)\u001b[0m Warning: Vehicle '167113_425_0' performs emergency braking on lane ':26110729_5_1' with decel=9.00, wished=4.50, severity=1.00, time=26905.00.\n"
     ]
    },
    {
     "name": "stdout",
     "output_type": "stream",
     "text": [
      "Step #26900.00 (1ms ~= 1000.00*RT, ~99000.00UPS, TraCI: 89ms, vehicles TOT 1016 ACT 99 BUFraCI: 140ms, vehicles TOT 623 ACT 100 B\n"
     ]
    },
    {
     "name": "stderr",
     "output_type": "stream",
     "text": [
      "\u001b[2m\u001b[36m(RolloutWorker pid=9256)\u001b[0m Warning: Vehicle '231835_451_0' performs emergency braking on lane ':26110729_5_1' with decel=9.00, wished=4.50, severity=1.00, time=28494.00.\n"
     ]
    },
    {
     "name": "stdout",
     "output_type": "stream",
     "text": [
      "Step #28400.00 (0ms ?*RT. ?UPS, TraCI: 81ms, vehicles TOT 1805 ACT 78 BUF 76)             I: 29ms, vehicles TOT 2 ACT 2 BUF 0)  \n",
      "Step #28800.00 (1ms ~= 1000.00*RT, ~71000.00UPS, TraCI: 82ms, vehicles TOT 1963 ACT 71 BUFCI: 23ms, vehicles TOT 2 ACT 2 BUF 0)  \n",
      "Step #28800.00 (0ms ?*RT. ?UPS, TraCI: 88ms, vehicles TOT 1955 ACT 67 BUF 91)             es TOT 1082 ACT 100 BUF 57)            \n",
      "Step #28800.00 (0ms ?*RT. ?UPS, TraCI: 80ms, vehicles TOT 1957 ACT 70 BUF 89)             I: 33ms, vehicles TOT 2 ACT 2 BUF 0)  \n",
      "Step #28800.00 (0ms ?*RT. ?UPS, TraCI: 77ms, vehicles TOT 1950 ACT 65 BUF 96)             CI: 38ms, vehicles TOT 2 ACT 2 BUF 0)  \n",
      "Step #28800.00 (0ms ?*RT. ?UPS, TraCI: 85ms, vehicles TOT 1958 ACT 67 BUF 88)             les TOT 905 ACT 77 BUF 74)             \n",
      "Step #28800.00 (1ms ~= 1000.00*RT, ~68000.00UPS, TraCI: 81ms, vehicles TOT 1953 ACT 68 BUFs TOT 2 ACT 2 BUF 0)                  \n",
      "Step #28800.00 (0ms ?*RT. ?UPS, TraCI: 82ms, vehicles TOT 1962 ACT 73 BUF 84)             CI: 76ms, vehicles TOT 1849 ACT 74 BUF\n"
     ]
    },
    {
     "name": "stderr",
     "output_type": "stream",
     "text": [
      "\u001b[2m\u001b[36m(RolloutWorker pid=3200)\u001b[0m Warning: Vehicle '153961_420_0' performs emergency braking on lane ':26110729_7_0' with decel=9.00, wished=4.50, severity=1.00, time=28432.00.\n"
     ]
    },
    {
     "name": "stdout",
     "output_type": "stream",
     "text": [
      "Step #28400.00 (0ms ?*RT. ?UPS, TraCI: 84ms, vehicles TOT 1811 ACT 76 BUF 70)             s TOT 2 ACT 2 BUF 0)                  \n",
      "Step #28800.00 (0ms ?*RT. ?UPS, TraCI: 101ms, vehicles TOT 1966 ACT 71 BUF 80)            s TOT 1851 ACT 70 BUF 82)             \n",
      "Step #28800.00 (1ms ~= 1000.00*RT, ~72000.00UPS, TraCI: 95ms, vehicles TOT 1965 ACT 72 BUFCI: 35ms, vehicles TOT 2 ACT 2 BUF 0)  \n",
      "Step #28800.00 (1ms ~= 1000.00*RT, ~68000.00UPS, TraCI: 95ms, vehicles TOT 1958 ACT 68 BUFCI: 40ms, vehicles TOT 2 ACT 2 BUF 0)  \n"
     ]
    },
    {
     "name": "stderr",
     "output_type": "stream",
     "text": [
      "\u001b[2m\u001b[36m(RolloutWorker pid=3200)\u001b[0m Warning: Vehicle '178434_430_0' performs emergency braking on lane ':26110729_5_1' with decel=9.00, wished=4.50, severity=1.00, time=27303.00.\n"
     ]
    },
    {
     "name": "stdout",
     "output_type": "stream",
     "text": [
      "Step #27300.00 (0ms ?*RT. ?UPS, TraCI: 81ms, vehicles TOT 1278 ACT 91 BUF 47)             I: 41ms, vehicles TOT 2 ACT 2 BUF 0)  \n"
     ]
    },
    {
     "name": "stderr",
     "output_type": "stream",
     "text": [
      "\u001b[2m\u001b[36m(RolloutWorker pid=1732)\u001b[0m Warning: Vehicle '235972_451_0' performs emergency braking on lane ':26110729_5_1' with decel=9.00, wished=4.50, severity=1.00, time=28469.00.\n"
     ]
    },
    {
     "name": "stdout",
     "output_type": "stream",
     "text": [
      "Step #28400.00 (1ms ~= 1000.00*RT, ~78000.00UPS, TraCI: 84ms, vehicles TOT 1802 ACT 78 BUFI: 43ms, vehicles TOT 2 ACT 2 BUF 0)  \n",
      "Step #28800.00 (0ms ?*RT. ?UPS, TraCI: 94ms, vehicles TOT 1958 ACT 70 BUF 88)             CI: 41ms, vehicles TOT 2 ACT 2 BUF 0)  \n",
      "Step #28800.00 (1ms ~= 1000.00*RT, ~68000.00UPS, TraCI: 95ms, vehicles TOT 1955 ACT 68 BUFCI: 38ms, vehicles TOT 2 ACT 2 BUF 0)  \n",
      "Step #28800.00 (0ms ?*RT. ?UPS, TraCI: 93ms, vehicles TOT 1959 ACT 72 BUF 87)             s TOT 2 ACT 2 BUF 0)                  \n",
      "Step #28800.00 (1ms ~= 1000.00*RT, ~69000.00UPS, TraCI: 96ms, vehicles TOT 1958 ACT 69 BUFes TOT 2 ACT 2 BUF 0)                  \n",
      "Step #28800.00 (1ms ~= 1000.00*RT, ~66000.00UPS, TraCI: 95ms, vehicles TOT 1954 ACT 66 BUFCI: 81ms, vehicles TOT 1843 ACT 68 BUF\n",
      "Step #28800.00 (0ms ?*RT. ?UPS, TraCI: 97ms, vehicles TOT 1966 ACT 73 BUF 80)             I: 39ms, vehicles TOT 2 ACT 2 BUF 0)  \n",
      "Step #28800.00 (0ms ?*RT. ?UPS, TraCI: 90ms, vehicles TOT 1953 ACT 70 BUF 93)             CI: 39ms, vehicles TOT 2 ACT 2 BUF 0)  \n",
      "Step #28800.00 (1ms ~= 1000.00*RT, ~68000.00UPS, TraCI: 108ms, vehicles TOT 1953 ACT 68 BUCI: 84ms, vehicles TOT 1328 ACT 72 BUF\n",
      "Step #28800.00 (0ms ?*RT. ?UPS, TraCI: 116ms, vehicles TOT 1954 ACT 68 BUF 92)            es TOT 2 ACT 2 BUF 0)                  \n",
      "Step #28800.00 (0ms ?*RT. ?UPS, TraCI: 111ms, vehicles TOT 1962 ACT 70 BUF 84)            CI: 43ms, vehicles TOT 2 ACT 2 BUF 0)  \n"
     ]
    },
    {
     "name": "stderr",
     "output_type": "stream",
     "text": [
      "\u001b[2m\u001b[36m(RolloutWorker pid=9256)\u001b[0m Warning: Vehicle '209636_441_0' performs emergency braking on lane ':26110729_16_0' with decel=9.00, wished=4.50, severity=1.00, time=26427.00.\n"
     ]
    },
    {
     "name": "stdout",
     "output_type": "stream",
     "text": [
      "Step #26400.00 (1ms ~= 1000.00*RT, ~92000.00UPS, TraCI: 71ms, vehicles TOT 755 ACT 92 BUF I: 31ms, vehicles TOT 2 ACT 2 BUF 0)  \n"
     ]
    },
    {
     "name": "stderr",
     "output_type": "stream",
     "text": [
      "\u001b[2m\u001b[36m(RolloutWorker pid=24144)\u001b[0m Warning: Vehicle '190010_434_0' performs emergency braking on lane ':26110729_16_0' with decel=9.00, wished=4.50, severity=1.00, time=26162.00.\n"
     ]
    },
    {
     "name": "stdout",
     "output_type": "stream",
     "text": [
      "Step #26100.00 (0ms ?*RT. ?UPS, TraCI: 91ms, vehicles TOT 552 ACT 89 BUF 30)              es TOT 2 ACT 2 BUF 0)                  \n"
     ]
    },
    {
     "name": "stderr",
     "output_type": "stream",
     "text": [
      "\u001b[2m\u001b[36m(RolloutWorker pid=24144)\u001b[0m Warning: Vehicle '216046_445_0' performs emergency braking on lane ':26110729_16_0' with decel=9.00, wished=4.50, severity=1.00, time=27507.00.\n"
     ]
    },
    {
     "name": "stdout",
     "output_type": "stream",
     "text": [
      "Step #27500.00 (1ms ~= 1000.00*RT, ~78000.00UPS, TraCI: 88ms, vehicles TOT 1375 ACT 78 BUFraCI: 94ms, vehicles TOT 626 ACT 101 BU\n"
     ]
    },
    {
     "name": "stderr",
     "output_type": "stream",
     "text": [
      "\u001b[2m\u001b[36m(RolloutWorker pid=3060)\u001b[0m Warning: Vehicle '235972_451_0' performs emergency braking on lane ':26110729_5_1' with decel=9.00, wished=4.50, severity=1.00, time=28469.00.\n"
     ]
    },
    {
     "name": "stdout",
     "output_type": "stream",
     "text": [
      "Step #28400.00 (0ms ?*RT. ?UPS, TraCI: 84ms, vehicles TOT 1801 ACT 73 BUF 80)             I: 34ms, vehicles TOT 2 ACT 2 BUF 0)  \n",
      "Step #28800.00 (1ms ~= 1000.00*RT, ~66000.00UPS, TraCI: 106ms, vehicles TOT 1948 ACT 66 BUes TOT 799 ACT 94 BUF 81)             \n",
      "Step #28800.00 (1ms ~= 1000.00*RT, ~71000.00UPS, TraCI: 105ms, vehicles TOT 1960 ACT 71 BUCI: 43ms, vehicles TOT 2 ACT 2 BUF 0)  \n",
      "Step #28800.00 (0ms ?*RT. ?UPS, TraCI: 107ms, vehicles TOT 1959 ACT 69 BUF 87)            CI: 36ms, vehicles TOT 2 ACT 2 BUF 0)  \n",
      "Step #28800.00 (1ms ~= 1000.00*RT, ~70000.00UPS, TraCI: 105ms, vehicles TOT 1954 ACT 70 BUes TOT 1842 ACT 70 BUF 91)            \n",
      "Step #28800.00 (1ms ~= 1000.00*RT, ~66000.00UPS, TraCI: 112ms, vehicles TOT 1959 ACT 66 BUCI: 35ms, vehicles TOT 2 ACT 2 BUF 0)  \n",
      "Step #28800.00 (0ms ?*RT. ?UPS, TraCI: 89ms, vehicles TOT 1951 ACT 70 BUF 95)             CI: 37ms, vehicles TOT 2 ACT 2 BUF 0)  \n",
      "Step #28800.00 (1ms ~= 1000.00*RT, ~68000.00UPS, TraCI: 98ms, vehicles TOT 1955 ACT 68 BUFI: 32ms, vehicles TOT 2 ACT 2 BUF 0)  \n",
      "Step #28800.00 (0ms ?*RT. ?UPS, TraCI: 79ms, vehicles TOT 1954 ACT 70 BUF 92)             I: 26ms, vehicles TOT 2 ACT 2 BUF 0)  \n",
      "Step #28800.00 (1ms ~= 1000.00*RT, ~67000.00UPS, TraCI: 78ms, vehicles TOT 1954 ACT 67 BUFles TOT 1435 ACT 99 BUF 53)            \n",
      "Step #28800.00 (0ms ?*RT. ?UPS, TraCI: 76ms, vehicles TOT 1961 ACT 71 BUF 85)             CI: 25ms, vehicles TOT 2 ACT 2 BUF 0)  \n"
     ]
    },
    {
     "name": "stderr",
     "output_type": "stream",
     "text": [
      "\u001b[2m\u001b[36m(RolloutWorker pid=13628)\u001b[0m Warning: Vehicle '184516_431_0' performs emergency braking on lane ':26110729_5_1' with decel=9.00, wished=4.50, severity=1.00, time=27649.00.\n"
     ]
    },
    {
     "name": "stdout",
     "output_type": "stream",
     "text": [
      "Step #27600.00 (1ms ~= 1000.00*RT, ~101000.00UPS, TraCI: 109ms, vehicles TOT 1435 ACT 101 es TOT 2 ACT 2 BUF 0)                  \n",
      "Step #28800.00 (0ms ?*RT. ?UPS, TraCI: 119ms, vehicles TOT 1958 ACT 70 BUF 88)            I: 27ms, vehicles TOT 2 ACT 2 BUF 0)  \n",
      "Step #28800.00 (0ms ?*RT. ?UPS, TraCI: 118ms, vehicles TOT 1953 ACT 66 BUF 93)            I: 35ms, vehicles TOT 2 ACT 2 BUF 0)  \n",
      "Step #28800.00 (1ms ~= 1000.00*RT, ~71000.00UPS, TraCI: 115ms, vehicles TOT 1954 ACT 71 BUCI: 33ms, vehicles TOT 2 ACT 2 BUF 0)  \n",
      "Step #28800.00 (1ms ~= 1000.00*RT, ~71000.00UPS, TraCI: 115ms, vehicles TOT 1959 ACT 71 BUCI: 35ms, vehicles TOT 2 ACT 2 BUF 0)  \n",
      "Step #28800.00 (0ms ?*RT. ?UPS, TraCI: 111ms, vehicles TOT 1955 ACT 69 BUF 91)            aCI: 95ms, vehicles TOT 1484 ACT 96 BUF\n",
      "Step #28800.00 (1ms ~= 1000.00*RT, ~70000.00UPS, TraCI: 103ms, vehicles TOT 1958 ACT 70 BUCI: 30ms, vehicles TOT 2 ACT 2 BUF 0)  \n",
      "Step #28800.00 (0ms ?*RT. ?UPS, TraCI: 102ms, vehicles TOT 1954 ACT 68 BUF 92)            I: 33ms, vehicles TOT 2 ACT 2 BUF 0)  \n",
      "Step #28800.00 (1ms ~= 1000.00*RT, ~70000.00UPS, TraCI: 86ms, vehicles TOT 1948 ACT 70 BUFI: 27ms, vehicles TOT 2 ACT 2 BUF 0)  \n",
      "Step #28800.00 (1ms ~= 1000.00*RT, ~68000.00UPS, TraCI: 83ms, vehicles TOT 1947 ACT 68 BUFCI: 28ms, vehicles TOT 2 ACT 2 BUF 0)  \n",
      "Step #28800.00 (0ms ?*RT. ?UPS, TraCI: 86ms, vehicles TOT 1947 ACT 66 BUF 99)             CI: 26ms, vehicles TOT 2 ACT 2 BUF 0)  \n"
     ]
    },
    {
     "name": "stderr",
     "output_type": "stream",
     "text": [
      "\u001b[2m\u001b[36m(RolloutWorker pid=24144)\u001b[0m Warning: Vehicle '186623_432_0' performs emergency braking on lane ':cluster_1098574052_1098574061_247379905_14_0' with decel=9.00, wished=4.50, severity=1.00, time=27632.00.\n"
     ]
    },
    {
     "name": "stdout",
     "output_type": "stream",
     "text": [
      "Step #27600.00 (0ms ?*RT. ?UPS, TraCI: 104ms, vehicles TOT 1433 ACT 103 BUF 55)           es TOT 2 ACT 2 BUF 0)                  \n",
      "Step #27600.00 (0ms ?*RT. ?UPS, TraCI: 106ms, vehicles TOT 1435 ACT 100 BUF 53)           es TOT 2 ACT 2 BUF 0)                  \n",
      "Step #28800.00 (0ms ?*RT. ?UPS, TraCI: 152ms, vehicles TOT 1954 ACT 67 BUF 92)            CI: 25ms, vehicles TOT 2 ACT 2 BUF 0)  \n",
      "Step #28800.00 (1ms ~= 1000.00*RT, ~65000.00UPS, TraCI: 143ms, vehicles TOT 1950 ACT 65 BUes TOT 2 ACT 2 BUF 0)                  \n",
      "Step #28800.00 (0ms ?*RT. ?UPS, TraCI: 144ms, vehicles TOT 1954 ACT 70 BUF 92)            es TOT 2 ACT 2 BUF 0)                  \n",
      "Step #28800.00 (0ms ?*RT. ?UPS, TraCI: 140ms, vehicles TOT 1955 ACT 67 BUF 91)            I: 26ms, vehicles TOT 2 ACT 2 BUF 0)  \n",
      "Step #28800.00 (0ms ?*RT. ?UPS, TraCI: 126ms, vehicles TOT 1962 ACT 71 BUF 84)            CI: 29ms, vehicles TOT 2 ACT 2 BUF 0)  \n",
      "Step #28800.00 (0ms ?*RT. ?UPS, TraCI: 121ms, vehicles TOT 1958 ACT 69 BUF 88)            s TOT 2 ACT 2 BUF 0)                  \n",
      "Step #28800.00 (0ms ?*RT. ?UPS, TraCI: 94ms, vehicles TOT 1953 ACT 83 BUF 93)             I: 31ms, vehicles TOT 2 ACT 2 BUF 0)  \n",
      "Step #28800.00 (1ms ~= 1000.00*RT, ~70000.00UPS, TraCI: 85ms, vehicles TOT 1955 ACT 70 BUFs TOT 2 ACT 2 BUF 0)                  \n",
      "Step #28800.00 (0ms ?*RT. ?UPS, TraCI: 83ms, vehicles TOT 1948 ACT 66 BUF 98)             aCI: 115ms, vehicles TOT 1480 ACT 93 BU\n",
      "Step #28800.00 (1ms ~= 1000.00*RT, ~69000.00UPS, TraCI: 84ms, vehicles TOT 1957 ACT 69 BUFraCI: 103ms, vehicles TOT 1485 ACT 105 \n"
     ]
    },
    {
     "name": "stderr",
     "output_type": "stream",
     "text": [
      "\u001b[2m\u001b[36m(RolloutWorker pid=21792)\u001b[0m Warning: Vehicle '188987_434_0' performs emergency braking on lane ':26110729_5_1' with decel=9.00, wished=4.50, severity=1.00, time=26154.00.\u001b[32m [repeated 2x across cluster]\u001b[0m\n"
     ]
    },
    {
     "name": "stdout",
     "output_type": "stream",
     "text": [
      "Step #26100.00 (1ms ~= 1000.00*RT, ~91000.00UPS, TraCI: 84ms, vehicles TOT 552 ACT 91 BUF CI: 30ms, vehicles TOT 2 ACT 2 BUF 0)  \n"
     ]
    },
    {
     "name": "stderr",
     "output_type": "stream",
     "text": [
      "\u001b[2m\u001b[36m(RolloutWorker pid=3060)\u001b[0m Warning: Vehicle '178434_430_0' performs emergency braking on lane ':26110729_5_1' with decel=9.00, wished=4.50, severity=1.00, time=27303.00.\n"
     ]
    },
    {
     "name": "stdout",
     "output_type": "stream",
     "text": [
      "Step #27300.00 (0ms ?*RT. ?UPS, TraCI: 85ms, vehicles TOT 1278 ACT 90 BUF 47)             s TOT 2 ACT 2 BUF 0)                  \n",
      "Step #28800.00 (0ms ?*RT. ?UPS, TraCI: 84ms, vehicles TOT 1952 ACT 70 BUF 94)             CI: 26ms, vehicles TOT 2 ACT 2 BUF 0)  \n",
      "Step #28800.00 (0ms ?*RT. ?UPS, TraCI: 81ms, vehicles TOT 1958 ACT 69 BUF 88)             raCI: 144ms, vehicles TOT 623 ACT 103 B\n",
      "Step #28800.00 (0ms ?*RT. ?UPS, TraCI: 82ms, vehicles TOT 1958 ACT 67 BUF 88)             CI: 27ms, vehicles TOT 2 ACT 2 BUF 0)  \n",
      "Step #28800.00 (1ms ~= 1000.00*RT, ~66000.00UPS, TraCI: 83ms, vehicles TOT 1953 ACT 66 BUFs TOT 2 ACT 2 BUF 0)                  \n",
      "Step #28800.00 (0ms ?*RT. ?UPS, TraCI: 81ms, vehicles TOT 1960 ACT 70 BUF 86)             CI: 84ms, vehicles TOT 1328 ACT 77 BUF\n",
      "Step #28800.00 (1ms ~= 1000.00*RT, ~69000.00UPS, TraCI: 80ms, vehicles TOT 1952 ACT 69 BUFes TOT 2 ACT 2 BUF 0)                  \n",
      "Step #28800.00 (0ms ?*RT. ?UPS, TraCI: 74ms, vehicles TOT 1957 ACT 76 BUF 89)             I: 28ms, vehicles TOT 2 ACT 2 BUF 0)  \n",
      "Step #28800.00 (0ms ?*RT. ?UPS, TraCI: 102ms, vehicles TOT 1959 ACT 68 BUF 87)            CI: 35ms, vehicles TOT 2 ACT 2 BUF 0)  \n",
      "Step #28800.00 (0ms ?*RT. ?UPS, TraCI: 93ms, vehicles TOT 1954 ACT 70 BUF 92)             I: 35ms, vehicles TOT 2 ACT 2 BUF 0)  \n",
      "Step #28800.00 (0ms ?*RT. ?UPS, TraCI: 89ms, vehicles TOT 1953 ACT 70 BUF 93)             CI: 35ms, vehicles TOT 2 ACT 2 BUF 0)  \n"
     ]
    },
    {
     "name": "stderr",
     "output_type": "stream",
     "text": [
      "\u001b[2m\u001b[36m(RolloutWorker pid=21792)\u001b[0m Warning: Vehicle '188987_434_0' performs emergency braking on lane ':26110729_5_1' with decel=9.00, wished=4.50, severity=1.00, time=26154.00.\n"
     ]
    },
    {
     "name": "stdout",
     "output_type": "stream",
     "text": [
      "Step #26100.00 (1ms ~= 1000.00*RT, ~90000.00UPS, TraCI: 141ms, vehicles TOT 554 ACT 90 BUFCI: 37ms, vehicles TOT 2 ACT 2 BUF 0)  \n",
      "Step #26100.00 (1ms ~= 1000.00*RT, ~92000.00UPS, TraCI: 150ms, vehicles TOT 551 ACT 92 BUFes TOT 2 ACT 2 BUF 0)                  \n",
      "Step #26300.00 (1ms ~= 1000.00*RT, ~118000.00UPS, TraCI: 87ms, vehicles TOT 708 ACT 118 BUes TOT 625 ACT 101 BUF 36)             \n",
      "Step #28800.00 (1ms ~= 1000.00*RT, ~72000.00UPS, TraCI: 100ms, vehicles TOT 1966 ACT 72 BUaCI: 93ms, vehicles TOT 755 ACT 99 BUF \n",
      "Step #28800.00 (1ms ~= 1000.00*RT, ~68000.00UPS, TraCI: 92ms, vehicles TOT 1957 ACT 68 BUFaCI: 89ms, vehicles TOT 627 ACT 98 BUF \n",
      "Step #28800.00 (0ms ?*RT. ?UPS, TraCI: 92ms, vehicles TOT 1954 ACT 68 BUF 92)             I: 35ms, vehicles TOT 2 ACT 2 BUF 0)  \n",
      "Step #28800.00 (1ms ~= 1000.00*RT, ~69000.00UPS, TraCI: 91ms, vehicles TOT 1958 ACT 69 BUFCI: 29ms, vehicles TOT 2 ACT 2 BUF 0)  \n",
      "Step #28800.00 (0ms ?*RT. ?UPS, TraCI: 97ms, vehicles TOT 1966 ACT 69 BUF 80)             es TOT 2 ACT 2 BUF 0)                  \n",
      "Step #28800.00 (0ms ?*RT. ?UPS, TraCI: 95ms, vehicles TOT 1966 ACT 72 BUF 80)             I: 36ms, vehicles TOT 2 ACT 2 BUF 0)  \n",
      "Step #28800.00 (0ms ?*RT. ?UPS, TraCI: 67ms, vehicles TOT 1959 ACT 73 BUF 87)             I: 36ms, vehicles TOT 2 ACT 2 BUF 0)  \n",
      "Step #28800.00 (1ms ~= 1000.00*RT, ~68000.00UPS, TraCI: 112ms, vehicles TOT 1949 ACT 68 BUs TOT 2 ACT 2 BUF 0)                  \n",
      "Step #28800.00 (1ms ~= 1000.00*RT, ~65000.00UPS, TraCI: 103ms, vehicles TOT 1953 ACT 65 BUCI: 34ms, vehicles TOT 2 ACT 2 BUF 0)  \n",
      "Step #28800.00 (0ms ?*RT. ?UPS, TraCI: 97ms, vehicles TOT 1958 ACT 78 BUF 88)             CI: 40ms, vehicles TOT 2 ACT 2 BUF 0)  \n"
     ]
    },
    {
     "name": "stderr",
     "output_type": "stream",
     "text": [
      "\u001b[2m\u001b[36m(RolloutWorker pid=3200)\u001b[0m Warning: Vehicle '188987_434_0' performs emergency braking on lane ':26110729_5_1' with decel=9.00, wished=4.50, severity=1.00, time=26154.00.\u001b[32m [repeated 3x across cluster]\u001b[0m\n"
     ]
    },
    {
     "name": "stdout",
     "output_type": "stream",
     "text": [
      "Step #26100.00 (1ms ~= 1000.00*RT, ~98000.00UPS, TraCI: 92ms, vehicles TOT 556 ACT 98 BUF I: 28ms, vehicles TOT 2 ACT 2 BUF 0)  \n"
     ]
    },
    {
     "name": "stderr",
     "output_type": "stream",
     "text": [
      "\u001b[2m\u001b[36m(RolloutWorker pid=24144)\u001b[0m Warning: Vehicle '211390_442_0' performs emergency braking on lane ':26110729_16_0' with decel=9.00, wished=4.50, severity=1.00, time=26887.00.\n"
     ]
    },
    {
     "name": "stdout",
     "output_type": "stream",
     "text": [
      "Step #26800.00 (0ms ?*RT. ?UPS, TraCI: 82ms, vehicles TOT 953 ACT 81 BUF 65)              CI: 26ms, vehicles TOT 2 ACT 2 BUF 0)  \n"
     ]
    },
    {
     "name": "stderr",
     "output_type": "stream",
     "text": [
      "\u001b[2m\u001b[36m(RolloutWorker pid=3060)\u001b[0m Warning: Vehicle '176268_429_0' performs emergency braking on lane ':cluster_1098574052_1098574061_247379905_14_0' with decel=9.00, wished=4.50, severity=1.00, time=27557.00.\n"
     ]
    },
    {
     "name": "stdout",
     "output_type": "stream",
     "text": [
      "Step #27500.00 (0ms ?*RT. ?UPS, TraCI: 157ms, vehicles TOT 1375 ACT 78 BUF 39)            s TOT 2 ACT 2 BUF 0)                  \n",
      "Step #27700.00 (0ms ?*RT. ?UPS, TraCI: 95ms, vehicles TOT 1490 ACT 94 BUF 53)             CI: 34ms, vehicles TOT 2 ACT 2 BUF 0)  \n"
     ]
    },
    {
     "name": "stderr",
     "output_type": "stream",
     "text": [
      "\u001b[2m\u001b[36m(RolloutWorker pid=13580)\u001b[0m Warning: Vehicle '232296_451_0' performs emergency braking on lane ':26110729_5_1' with decel=9.00, wished=4.50, severity=1.00, time=28451.00.\u001b[32m [repeated 2x across cluster]\u001b[0m\n"
     ]
    },
    {
     "name": "stdout",
     "output_type": "stream",
     "text": [
      "Step #28400.00 (0ms ?*RT. ?UPS, TraCI: 83ms, vehicles TOT 1815 ACT 73 BUF 66)             CI: 36ms, vehicles TOT 2 ACT 2 BUF 0)  \n",
      "Step #28800.00 (0ms ?*RT. ?UPS, TraCI: 108ms, vehicles TOT 1954 ACT 67 BUF 92)            CI: 27ms, vehicles TOT 2 ACT 2 BUF 0)  \n",
      "Step #28800.00 (1ms ~= 1000.00*RT, ~70000.00UPS, TraCI: 103ms, vehicles TOT 1960 ACT 70 BUI: 43ms, vehicles TOT 2 ACT 2 BUF 0)  \n",
      "Step #28800.00 (1ms ~= 1000.00*RT, ~69000.00UPS, TraCI: 96ms, vehicles TOT 1958 ACT 69 BUFCI: 35ms, vehicles TOT 2 ACT 2 BUF 0)  \n",
      "Step #28800.00 (1ms ~= 1000.00*RT, ~69000.00UPS, TraCI: 117ms, vehicles TOT 1960 ACT 69 BUes TOT 1433 ACT 98 BUF 55)            \n",
      "Step #28800.00 (1ms ~= 1000.00*RT, ~68000.00UPS, TraCI: 110ms, vehicles TOT 1974 ACT 68 BUles TOT 1856 ACT 70 BUF 77)            \n",
      "Step #28800.00 (0ms ?*RT. ?UPS, TraCI: 100ms, vehicles TOT 1974 ACT 69 BUF 72)            aCI: 78ms, vehicles TOT 1521 ACT 68 BUF\n",
      "Step #28800.00 (0ms ?*RT. ?UPS, TraCI: 115ms, vehicles TOT 1967 ACT 70 BUF 79)            I: 27ms, vehicles TOT 2 ACT 2 BUF 0)  \n",
      "Step #28800.00 (0ms ?*RT. ?UPS, TraCI: 80ms, vehicles TOT 1959 ACT 69 BUF 87)             es TOT 2 ACT 2 BUF 0)                  \n",
      "Step #28800.00 (0ms ?*RT. ?UPS, TraCI: 74ms, vehicles TOT 1962 ACT 70 BUF 84)             aCI: 102ms, vehicles TOT 627 ACT 106 B\n",
      "Step #28800.00 (1ms ~= 1000.00*RT, ~69000.00UPS, TraCI: 77ms, vehicles TOT 1958 ACT 69 BUFles TOT 1019 ACT 101 BUF 59)           \n"
     ]
    },
    {
     "name": "stderr",
     "output_type": "stream",
     "text": [
      "\u001b[2m\u001b[36m(RolloutWorker pid=20048)\u001b[0m Warning: Vehicle '178434_430_0' performs emergency braking on lane ':26110729_5_1' with decel=9.00, wished=4.50, severity=1.00, time=27304.00.\n"
     ]
    },
    {
     "name": "stdout",
     "output_type": "stream",
     "text": [
      "Step #27300.00 (0ms ?*RT. ?UPS, TraCI: 80ms, vehicles TOT 1280 ACT 91 BUF 45)             CI: 27ms, vehicles TOT 2 ACT 2 BUF 0)  \n",
      "Step #28800.00 (1ms ~= 1000.00*RT, ~70000.00UPS, TraCI: 130ms, vehicles TOT 1959 ACT 70 BUI: 42ms, vehicles TOT 2 ACT 2 BUF 0)  \n",
      "Step #28800.00 (0ms ?*RT. ?UPS, TraCI: 135ms, vehicles TOT 1954 ACT 69 BUF 92)            les TOT 1329 ACT 76 BUF 40)            \n",
      "Step #28800.00 (0ms ?*RT. ?UPS, TraCI: 113ms, vehicles TOT 1969 ACT 71 BUF 77)            I: 39ms, vehicles TOT 2 ACT 2 BUF 0)  \n",
      "Step #28800.00 (1ms ~= 1000.00*RT, ~71000.00UPS, TraCI: 127ms, vehicles TOT 1966 ACT 71 BUCI: 40ms, vehicles TOT 2 ACT 2 BUF 0)  \n",
      "Step #28800.00 (0ms ?*RT. ?UPS, TraCI: 115ms, vehicles TOT 1950 ACT 68 BUF 96)            CI: 39ms, vehicles TOT 2 ACT 2 BUF 0)  \n",
      "Step #28800.00 (1ms ~= 1000.00*RT, ~69000.00UPS, TraCI: 121ms, vehicles TOT 1952 ACT 69 BUI: 35ms, vehicles TOT 2 ACT 2 BUF 0)  \n",
      "Step #28800.00 (0ms ?*RT. ?UPS, TraCI: 90ms, vehicles TOT 1966 ACT 69 BUF 80)             es TOT 2 ACT 2 BUF 0)                  \n"
     ]
    },
    {
     "name": "stderr",
     "output_type": "stream",
     "text": [
      "\u001b[2m\u001b[36m(RolloutWorker pid=3200)\u001b[0m Warning: Vehicle '148523_417_0' performs emergency braking on lane ':26110729_7_0' with decel=9.00, wished=4.50, severity=1.00, time=28657.00.\n"
     ]
    },
    {
     "name": "stdout",
     "output_type": "stream",
     "text": [
      "Step #28600.00 (1ms ~= 1000.00*RT, ~73000.00UPS, TraCI: 91ms, vehicles TOT 1887 ACT 73 BUFI: 24ms, vehicles TOT 2 ACT 2 BUF 0)  \n",
      "Step #28800.00 (0ms ?*RT. ?UPS, TraCI: 86ms, vehicles TOT 1962 ACT 71 BUF 84)             s TOT 1926 ACT 78 BUF 87)             \n",
      "Step #28800.00 (0ms ?*RT. ?UPS, TraCI: 84ms, vehicles TOT 1955 ACT 69 BUF 91)             es TOT 2 ACT 2 BUF 0)                  \n",
      "Step #28800.00 (0ms ?*RT. ?UPS, TraCI: 84ms, vehicles TOT 1973 ACT 71 BUF 73)             es TOT 2 ACT 2 BUF 0)                  \n"
     ]
    },
    {
     "name": "stderr",
     "output_type": "stream",
     "text": [
      "\u001b[2m\u001b[36m(RolloutWorker pid=21792)\u001b[0m Warning: Vehicle '188874_434_0' performs emergency braking on lane ':cluster_1098574052_1098574061_247379905_14_0' with decel=9.00, wished=4.50, severity=1.00, time=26167.00.\n"
     ]
    },
    {
     "name": "stdout",
     "output_type": "stream",
     "text": [
      "Step #26100.00 (1ms ~= 1000.00*RT, ~90000.00UPS, TraCI: 83ms, vehicles TOT 551 ACT 90 BUF es TOT 2 ACT 2 BUF 0)                  \n",
      "Step #28800.00 (0ms ?*RT. ?UPS, TraCI: 141ms, vehicles TOT 1958 ACT 69 BUF 88)            s TOT 2 ACT 2 BUF 0)                  \n",
      "Step #28800.00 (1ms ~= 1000.00*RT, ~70000.00UPS, TraCI: 130ms, vehicles TOT 1962 ACT 70 BUCI: 29ms, vehicles TOT 2 ACT 2 BUF 0)  \n",
      "Step #28800.00 (0ms ?*RT. ?UPS, TraCI: 129ms, vehicles TOT 1959 ACT 70 BUF 87)            I: 29ms, vehicles TOT 2 ACT 2 BUF 0)  \n",
      "Step #28800.00 (1ms ~= 1000.00*RT, ~68000.00UPS, TraCI: 132ms, vehicles TOT 1965 ACT 68 BUes TOT 2 ACT 2 BUF 0)                  \n",
      "Step #28800.00 (0ms ?*RT. ?UPS, TraCI: 111ms, vehicles TOT 1966 ACT 68 BUF 80)            CI: 28ms, vehicles TOT 2 ACT 2 BUF 0)  \n",
      "Step #28800.00 (1ms ~= 1000.00*RT, ~69000.00UPS, TraCI: 109ms, vehicles TOT 1966 ACT 69 BUI: 25ms, vehicles TOT 2 ACT 2 BUF 0)  \n",
      "Step #28800.00 (1ms ~= 1000.00*RT, ~73000.00UPS, TraCI: 111ms, vehicles TOT 1961 ACT 73 BUes TOT 625 ACT 106 BUF 36)             \n"
     ]
    },
    {
     "name": "stderr",
     "output_type": "stream",
     "text": [
      "\u001b[2m\u001b[36m(RolloutWorker pid=19280)\u001b[0m Warning: Vehicle '235972_451_0' performs emergency braking on lane ':26110729_5_1' with decel=9.00, wished=4.50, severity=1.00, time=28469.00.\n"
     ]
    },
    {
     "name": "stdout",
     "output_type": "stream",
     "text": [
      "Step #28400.00 (1ms ~= 1000.00*RT, ~76000.00UPS, TraCI: 82ms, vehicles TOT 1809 ACT 76 BUFes TOT 2 ACT 2 BUF 0)                  \n",
      "Step #28800.00 (1ms ~= 1000.00*RT, ~66000.00UPS, TraCI: 83ms, vehicles TOT 1951 ACT 66 BUFs TOT 2 ACT 2 BUF 0)                  \n",
      "Step #28800.00 (1ms ~= 1000.00*RT, ~68000.00UPS, TraCI: 83ms, vehicles TOT 1958 ACT 68 BUFCI: 27ms, vehicles TOT 2 ACT 2 BUF 0)  \n",
      "Step #28800.00 (0ms ?*RT. ?UPS, TraCI: 84ms, vehicles TOT 1960 ACT 71 BUF 86)             es TOT 1850 ACT 70 BUF 83)             \n"
     ]
    },
    {
     "name": "stderr",
     "output_type": "stream",
     "text": [
      "\u001b[2m\u001b[36m(RolloutWorker pid=13580)\u001b[0m Warning: Vehicle '188987_434_0' performs emergency braking on lane ':26110729_5_1' with decel=9.00, wished=4.50, severity=1.00, time=26154.00.\n"
     ]
    },
    {
     "name": "stdout",
     "output_type": "stream",
     "text": [
      "Step #26100.00 (1ms ~= 1000.00*RT, ~93000.00UPS, TraCI: 83ms, vehicles TOT 554 ACT 93 BUF es TOT 2 ACT 2 BUF 0)                  \n"
     ]
    },
    {
     "name": "stderr",
     "output_type": "stream",
     "text": [
      "\u001b[2m\u001b[36m(RolloutWorker pid=3060)\u001b[0m Warning: Vehicle '200971_437_0' performs emergency braking on lane ':26110729_16_0' with decel=9.00, wished=4.50, severity=1.00, time=26167.00.\n"
     ]
    },
    {
     "name": "stdout",
     "output_type": "stream",
     "text": [
      "Step #26100.00 (1ms ~= 1000.00*RT, ~89000.00UPS, TraCI: 86ms, vehicles TOT 553 ACT 89 BUF s TOT 2 ACT 2 BUF 0)                  \n",
      "Step #28800.00 (0ms ?*RT. ?UPS, TraCI: 83ms, vehicles TOT 1956 ACT 68 BUF 90)             CI: 27ms, vehicles TOT 2 ACT 2 BUF 0)  \n",
      "Step #28800.00 (0ms ?*RT. ?UPS, TraCI: 83ms, vehicles TOT 1964 ACT 72 BUF 82)             CI: 25ms, vehicles TOT 2 ACT 2 BUF 0)  \n",
      "Step #28800.00 (0ms ?*RT. ?UPS, TraCI: 81ms, vehicles TOT 1959 ACT 70 BUF 87)             es TOT 626 ACT 102 BUF 35)            \n",
      "Step #28800.00 (1ms ~= 1000.00*RT, ~71000.00UPS, TraCI: 81ms, vehicles TOT 1966 ACT 71 BUFraCI: 130ms, vehicles TOT 625 ACT 104 B\n",
      "Step #28800.00 (0ms ?*RT. ?UPS, TraCI: 84ms, vehicles TOT 1958 ACT 69 BUF 88)             CI: 31ms, vehicles TOT 2 ACT 2 BUF 0)  \n",
      "Step #28800.00 (0ms ?*RT. ?UPS, TraCI: 83ms, vehicles TOT 1960 ACT 69 BUF 86)             I: 23ms, vehicles TOT 2 ACT 2 BUF 0)  \n",
      "Step #28800.00 (0ms ?*RT. ?UPS, TraCI: 79ms, vehicles TOT 1960 ACT 71 BUF 86)             I: 28ms, vehicles TOT 2 ACT 2 BUF 0)  \n"
     ]
    },
    {
     "name": "stderr",
     "output_type": "stream",
     "text": [
      "\u001b[2m\u001b[36m(RolloutWorker pid=19280)\u001b[0m Warning: Vehicle '280572_471_0' performs emergency braking on lane ':26110729_16_0' with decel=9.00, wished=4.50, severity=1.00, time=28487.00.\n"
     ]
    },
    {
     "name": "stdout",
     "output_type": "stream",
     "text": [
      "Step #28400.00 (0ms ?*RT. ?UPS, TraCI: 85ms, vehicles TOT 1807 ACT 78 BUF 74)             CI: 37ms, vehicles TOT 2 ACT 2 BUF 0)  \n",
      "Step #28800.00 (1ms ~= 1000.00*RT, ~70000.00UPS, TraCI: 95ms, vehicles TOT 1959 ACT 70 BUFI: 35ms, vehicles TOT 2 ACT 2 BUF 0)  \n",
      "Step #28800.00 (1ms ~= 1000.00*RT, ~70000.00UPS, TraCI: 92ms, vehicles TOT 1959 ACT 70 BUFCI: 36ms, vehicles TOT 2 ACT 2 BUF 0)  \n",
      "Step #28800.00 (0ms ?*RT. ?UPS, TraCI: 92ms, vehicles TOT 1958 ACT 73 BUF 88)             es TOT 1844 ACT 68 BUF 89)             \n"
     ]
    },
    {
     "name": "stderr",
     "output_type": "stream",
     "text": [
      "\u001b[2m\u001b[36m(RolloutWorker pid=24144)\u001b[0m Warning: Vehicle '145955_416_0' performs emergency braking on lane ':26110729_5_1' with decel=9.00, wished=4.50, severity=1.00, time=26385.00.\n"
     ]
    },
    {
     "name": "stdout",
     "output_type": "stream",
     "text": [
      "Step #26300.00 (1ms ~= 1000.00*RT, ~119000.00UPS, TraCI: 94ms, vehicles TOT 710 ACT 119 BUCI: 38ms, vehicles TOT 2 ACT 2 BUF 0)  \n",
      "Step #28800.00 (0ms ?*RT. ?UPS, TraCI: 95ms, vehicles TOT 1953 ACT 67 BUF 93)             es TOT 2 ACT 2 BUF 0)                  \n",
      "Step #28800.00 (1ms ~= 1000.00*RT, ~68000.00UPS, TraCI: 95ms, vehicles TOT 1958 ACT 68 BUFes TOT 2 ACT 2 BUF 0)                  \n",
      "Step #28800.00 (0ms ?*RT. ?UPS, TraCI: 91ms, vehicles TOT 1958 ACT 70 BUF 88)             I: 45ms, vehicles TOT 2 ACT 2 BUF 0)  \n",
      "Step #28800.00 (0ms ?*RT. ?UPS, TraCI: 91ms, vehicles TOT 1954 ACT 72 BUF 92)             CI: 43ms, vehicles TOT 2 ACT 2 BUF 0)  \n",
      "Step #28800.00 (1ms ~= 1000.00*RT, ~68000.00UPS, TraCI: 91ms, vehicles TOT 1958 ACT 68 BUFI: 42ms, vehicles TOT 2 ACT 2 BUF 0)  \n",
      "Step #28800.00 (0ms ?*RT. ?UPS, TraCI: 91ms, vehicles TOT 1966 ACT 72 BUF 80)             CI: 40ms, vehicles TOT 2 ACT 2 BUF 0)  \n",
      "Step #28800.00 (1ms ~= 1000.00*RT, ~73000.00UPS, TraCI: 94ms, vehicles TOT 1962 ACT 73 BUFI: 45ms, vehicles TOT 2 ACT 2 BUF 0)  \n",
      "Step #28800.00 (0ms ?*RT. ?UPS, TraCI: 103ms, vehicles TOT 1959 ACT 66 BUF 87)            I: 34ms, vehicles TOT 2 ACT 2 BUF 0)  \n",
      "Step #28800.00 (0ms ?*RT. ?UPS, TraCI: 107ms, vehicles TOT 1960 ACT 71 BUF 86)            aCI: 91ms, vehicles TOT 761 ACT 97 BUF \n",
      "Step #28800.00 (0ms ?*RT. ?UPS, TraCI: 100ms, vehicles TOT 1960 ACT 69 BUF 86)            es TOT 2 ACT 2 BUF 0)                  \n",
      "Step #28800.00 (0ms ?*RT. ?UPS, TraCI: 107ms, vehicles TOT 1969 ACT 65 BUF 77)            es TOT 2 ACT 2 BUF 0)                  \n",
      "Step #28800.00 (1ms ~= 1000.00*RT, ~69000.00UPS, TraCI: 109ms, vehicles TOT 1958 ACT 69 BUs TOT 2 ACT 2 BUF 0)                  \n",
      "Step #28800.00 (0ms ?*RT. ?UPS, TraCI: 106ms, vehicles TOT 1965 ACT 71 BUF 81)            CI: 42ms, vehicles TOT 2 ACT 2 BUF 0)  \n",
      "Step #28800.00 (1ms ~= 1000.00*RT, ~70000.00UPS, TraCI: 103ms, vehicles TOT 1963 ACT 70 BUCI: 25ms, vehicles TOT 2 ACT 2 BUF 0)  \n",
      "Step #28800.00 (0ms ?*RT. ?UPS, TraCI: 102ms, vehicles TOT 1953 ACT 68 BUF 93)            I: 41ms, vehicles TOT 2 ACT 2 BUF 0)  \n",
      "Step #28800.00 (0ms ?*RT. ?UPS, TraCI: 106ms, vehicles TOT 1958 ACT 67 BUF 88)            es TOT 2 ACT 2 BUF 0)                  \n",
      "Step #28800.00 (0ms ?*RT. ?UPS, TraCI: 108ms, vehicles TOT 1961 ACT 70 BUF 85)            I: 41ms, vehicles TOT 2 ACT 2 BUF 0)  \n",
      "Step #28800.00 (1ms ~= 1000.00*RT, ~71000.00UPS, TraCI: 77ms, vehicles TOT 1959 ACT 71 BUFs TOT 2 ACT 2 BUF 0)                  \n",
      "Step #28800.00 (0ms ?*RT. ?UPS, TraCI: 79ms, vehicles TOT 1951 ACT 67 BUF 95)             es TOT 2 ACT 2 BUF 0)                  \n",
      "Step #28800.00 (1ms ~= 1000.00*RT, ~68000.00UPS, TraCI: 79ms, vehicles TOT 1954 ACT 68 BUFes TOT 2 ACT 2 BUF 0)                  \n"
     ]
    },
    {
     "name": "stderr",
     "output_type": "stream",
     "text": [
      "\u001b[2m\u001b[36m(RolloutWorker pid=3200)\u001b[0m Warning: Vehicle '149857_417_0' performs emergency braking on lane ':26110729_7_0' with decel=9.00, wished=4.50, severity=1.00, time=27917.00.\n"
     ]
    },
    {
     "name": "stdout",
     "output_type": "stream",
     "text": [
      "Step #27900.00 (0ms ?*RT. ?UPS, TraCI: 85ms, vehicles TOT 1566 ACT 81 BUF 54)             s TOT 2 ACT 2 BUF 0)                  \n",
      "Step #28800.00 (0ms ?*RT. ?UPS, TraCI: 119ms, vehicles TOT 1958 ACT 66 BUF 88)            CI: 34ms, vehicles TOT 2 ACT 2 BUF 0)  \n",
      "Step #28800.00 (1ms ~= 1000.00*RT, ~66000.00UPS, TraCI: 119ms, vehicles TOT 1953 ACT 66 BUCI: 37ms, vehicles TOT 2 ACT 2 BUF 0)  \n",
      "Step #28800.00 (1ms ~= 1000.00*RT, ~67000.00UPS, TraCI: 120ms, vehicles TOT 1957 ACT 67 BUCI: 39ms, vehicles TOT 2 ACT 2 BUF 0)  \n",
      "Step #28800.00 (1ms ~= 1000.00*RT, ~70000.00UPS, TraCI: 116ms, vehicles TOT 1955 ACT 70 BUI: 34ms, vehicles TOT 2 ACT 2 BUF 0)  \n",
      "Step #28800.00 (1ms ~= 1000.00*RT, ~72000.00UPS, TraCI: 104ms, vehicles TOT 1969 ACT 72 BUes TOT 2 ACT 2 BUF 0)                  \n",
      "Step #28800.00 (1ms ~= 1000.00*RT, ~70000.00UPS, TraCI: 118ms, vehicles TOT 1965 ACT 70 BUI: 37ms, vehicles TOT 2 ACT 2 BUF 0)  \n",
      "Step #28800.00 (0ms ?*RT. ?UPS, TraCI: 113ms, vehicles TOT 1955 ACT 68 BUF 91)            I: 33ms, vehicles TOT 2 ACT 2 BUF 0)  \n",
      "Step #28800.00 (0ms ?*RT. ?UPS, TraCI: 89ms, vehicles TOT 1954 ACT 68 BUF 92)             CI: 93ms, vehicles TOT 1619 ACT 83 BUF\n",
      "Step #28800.00 (0ms ?*RT. ?UPS, TraCI: 87ms, vehicles TOT 1958 ACT 67 BUF 88)             CI: 26ms, vehicles TOT 2 ACT 2 BUF 0)  \n",
      "Step #28800.00 (0ms ?*RT. ?UPS, TraCI: 86ms, vehicles TOT 1958 ACT 68 BUF 88)             es TOT 2 ACT 2 BUF 0)                  \n"
     ]
    },
    {
     "name": "stderr",
     "output_type": "stream",
     "text": [
      "\u001b[2m\u001b[36m(RolloutWorker pid=20048)\u001b[0m Warning: Vehicle '248031_455_0' performs emergency braking on lane ':cluster_1098574052_1098574061_247379905_14_0' with decel=9.00, wished=4.50, severity=1.00, time=27637.00.\n"
     ]
    },
    {
     "name": "stdout",
     "output_type": "stream",
     "text": [
      "Step #27600.00 (1ms ~= 1000.00*RT, ~100000.00UPS, TraCI: 102ms, vehicles TOT 1428 ACT 100 CI: 31ms, vehicles TOT 2 ACT 2 BUF 0)  \n"
     ]
    }
   ],
   "source": [
    "from datetime import datetime\n",
    "\n",
    "TRAIN_EPS = 1400  # 720 * 1400 == 1_008_000 total timesteps\n",
    "CHECKPOINT_FREQ = 100\n",
    "assert TRAIN_EPS % CHECKPOINT_FREQ == 0\n",
    "\n",
    "tic = datetime.now()\n",
    "\n",
    "for i in range(TRAIN_EPS):\n",
    "    results = algo.train()\n",
    "\n",
    "    if (i+1) % CHECKPOINT_FREQ == 0:\n",
    "        algo.save(os.path.join(\"ray_checkpoints\",ENV_NAME,f\"test_{TEST_NUM}\"))\n",
    "\n",
    "toc = datetime.now()"
   ]
  },
  {
   "cell_type": "code",
   "execution_count": 14,
   "metadata": {},
   "outputs": [
    {
     "data": {
      "text/plain": [
       "'7:27:00.987601'"
      ]
     },
     "execution_count": 14,
     "metadata": {},
     "output_type": "execute_result"
    }
   ],
   "source": [
    "str(toc - tic)"
   ]
  },
  {
   "cell_type": "code",
   "execution_count": 15,
   "metadata": {},
   "outputs": [],
   "source": [
    "ray.shutdown()"
   ]
  },
  {
   "attachments": {},
   "cell_type": "markdown",
   "metadata": {},
   "source": [
    "## Play Trained Agent"
   ]
  },
  {
   "cell_type": "code",
   "execution_count": 16,
   "metadata": {},
   "outputs": [],
   "source": [
    "csv_path = os.path.join(csv_dir, \"trained.csv\")\n",
    "tb_log_dir = os.path.join(\"logs\", ENV_NAME, f\"PPO_{TEST_NUM}\", \"eval_trained\")\n",
    "\n",
    "with open(csv_path, \"a\", newline=\"\") as f:\n",
    "    csv_writer = csv.writer(f)\n",
    "    csv_writer.writerow([\"sim_time\", \"arrived_num\", \"sys_tyre_pm\", \"sys_stopped\",\n",
    "                         \"sys_total_wait\", \"sys_avg_wait\", \"sys_avg_speed\",\n",
    "                         \"agents_tyre_pm\", \"agents_stopped\", \"agents_total_wait\",\n",
    "                         \"agents_avg_speed\", \"agents_total_pressure\"])"
   ]
  },
  {
   "cell_type": "code",
   "execution_count": 17,
   "metadata": {},
   "outputs": [],
   "source": [
    "register_env(ENV_NAME, lambda config: MultiAgentEnvCompatibility(eval_env_creator(csv_path, tb_log_dir)))"
   ]
  },
  {
   "cell_type": "code",
   "execution_count": 18,
   "metadata": {},
   "outputs": [
    {
     "name": "stderr",
     "output_type": "stream",
     "text": [
      "2023-06-06 23:28:55,391\tINFO worker.py:1625 -- Started a local Ray instance.\n"
     ]
    },
    {
     "data": {
      "text/html": [
       "<div>\n",
       "    <div style=\"margin-left: 50px;display: flex;flex-direction: row;align-items: center\">\n",
       "        <h3 style=\"color: var(--jp-ui-font-color0)\">Ray</h3>\n",
       "        <svg version=\"1.1\" id=\"ray\" width=\"3em\" viewBox=\"0 0 144.5 144.6\" style=\"margin-left: 3em;margin-right: 3em\">\n",
       "            <g id=\"layer-1\">\n",
       "                <path fill=\"#00a2e9\" class=\"st0\" d=\"M97.3,77.2c-3.8-1.1-6.2,0.9-8.3,5.1c-3.5,6.8-9.9,9.9-17.4,9.6S58,88.1,54.8,81.2c-1.4-3-3-4-6.3-4.1\n",
       "                    c-5.6-0.1-9.9,0.1-13.1,6.4c-3.8,7.6-13.6,10.2-21.8,7.6C5.2,88.4-0.4,80.5,0,71.7c0.1-8.4,5.7-15.8,13.8-18.2\n",
       "                    c8.4-2.6,17.5,0.7,22.3,8c1.3,1.9,1.3,5.2,3.6,5.6c3.9,0.6,8,0.2,12,0.2c1.8,0,1.9-1.6,2.4-2.8c3.5-7.8,9.7-11.8,18-11.9\n",
       "                    c8.2-0.1,14.4,3.9,17.8,11.4c1.3,2.8,2.9,3.6,5.7,3.3c1-0.1,2,0.1,3,0c2.8-0.5,6.4,1.7,8.1-2.7s-2.3-5.5-4.1-7.5\n",
       "                    c-5.1-5.7-10.9-10.8-16.1-16.3C84,38,81.9,37.1,78,38.3C66.7,42,56.2,35.7,53,24.1C50.3,14,57.3,2.8,67.7,0.5\n",
       "                    C78.4-2,89,4.7,91.5,15.3c0.1,0.3,0.1,0.5,0.2,0.8c0.7,3.4,0.7,6.9-0.8,9.8c-1.7,3.2-0.8,5,1.5,7.2c6.7,6.5,13.3,13,19.8,19.7\n",
       "                    c1.8,1.8,3,2.1,5.5,1.2c9.1-3.4,17.9-0.6,23.4,7c4.8,6.9,4.6,16.1-0.4,22.9c-5.4,7.2-14.2,9.9-23.1,6.5c-2.3-0.9-3.5-0.6-5.1,1.1\n",
       "                    c-6.7,6.9-13.6,13.7-20.5,20.4c-1.8,1.8-2.5,3.2-1.4,5.9c3.5,8.7,0.3,18.6-7.7,23.6c-7.9,5-18.2,3.8-24.8-2.9\n",
       "                    c-6.4-6.4-7.4-16.2-2.5-24.3c4.9-7.8,14.5-11,23.1-7.8c3,1.1,4.7,0.5,6.9-1.7C91.7,98.4,98,92.3,104.2,86c1.6-1.6,4.1-2.7,2.6-6.2\n",
       "                    c-1.4-3.3-3.8-2.5-6.2-2.6C99.8,77.2,98.9,77.2,97.3,77.2z M72.1,29.7c5.5,0.1,9.9-4.3,10-9.8c0-0.1,0-0.2,0-0.3\n",
       "                    C81.8,14,77,9.8,71.5,10.2c-5,0.3-9,4.2-9.3,9.2c-0.2,5.5,4,10.1,9.5,10.3C71.8,29.7,72,29.7,72.1,29.7z M72.3,62.3\n",
       "                    c-5.4-0.1-9.9,4.2-10.1,9.7c0,0.2,0,0.3,0,0.5c0.2,5.4,4.5,9.7,9.9,10c5.1,0.1,9.9-4.7,10.1-9.8c0.2-5.5-4-10-9.5-10.3\n",
       "                    C72.6,62.3,72.4,62.3,72.3,62.3z M115,72.5c0.1,5.4,4.5,9.7,9.8,9.9c5.6-0.2,10-4.8,10-10.4c-0.2-5.4-4.6-9.7-10-9.7\n",
       "                    c-5.3-0.1-9.8,4.2-9.9,9.5C115,72.1,115,72.3,115,72.5z M19.5,62.3c-5.4,0.1-9.8,4.4-10,9.8c-0.1,5.1,5.2,10.4,10.2,10.3\n",
       "                    c5.6-0.2,10-4.9,9.8-10.5c-0.1-5.4-4.5-9.7-9.9-9.6C19.6,62.3,19.5,62.3,19.5,62.3z M71.8,134.6c5.9,0.2,10.3-3.9,10.4-9.6\n",
       "                    c0.5-5.5-3.6-10.4-9.1-10.8c-5.5-0.5-10.4,3.6-10.8,9.1c0,0.5,0,0.9,0,1.4c-0.2,5.3,4,9.8,9.3,10\n",
       "                    C71.6,134.6,71.7,134.6,71.8,134.6z\"/>\n",
       "            </g>\n",
       "        </svg>\n",
       "        <table>\n",
       "            <tr>\n",
       "                <td style=\"text-align: left\"><b>Python version:</b></td>\n",
       "                <td style=\"text-align: left\"><b>3.8.16</b></td>\n",
       "            </tr>\n",
       "            <tr>\n",
       "                <td style=\"text-align: left\"><b>Ray version:</b></td>\n",
       "                <td style=\"text-align: left\"><b> 2.4.0</b></td>\n",
       "            </tr>\n",
       "            \n",
       "        </table>\n",
       "    </div>\n",
       "</div>\n"
      ],
      "text/plain": [
       "RayContext(dashboard_url='', python_version='3.8.16', ray_version='2.4.0', ray_commit='4479f66d4db967d3c9dd0af2572061276ba926ba', address_info={'node_ip_address': '127.0.0.1', 'raylet_ip_address': '127.0.0.1', 'redis_address': None, 'object_store_address': 'tcp://127.0.0.1:61443', 'raylet_socket_name': 'tcp://127.0.0.1:65468', 'webui_url': '', 'session_dir': 'C:\\\\Users\\\\admin\\\\AppData\\\\Local\\\\Temp\\\\ray\\\\session_2023-06-06_23-28-52_114499_24292', 'metrics_export_port': 60727, 'gcs_address': '127.0.0.1:55603', 'address': '127.0.0.1:55603', 'dashboard_agent_listen_port': 52365, 'node_id': '5c46d30752889c8b714aa6a2ab7c02a8ee29095de8eeab0cd69cac3b'})"
      ]
     },
     "execution_count": 18,
     "metadata": {},
     "output_type": "execute_result"
    }
   ],
   "source": [
    "ray.init()"
   ]
  },
  {
   "cell_type": "code",
   "execution_count": 19,
   "metadata": {},
   "outputs": [
    {
     "name": "stderr",
     "output_type": "stream",
     "text": [
      "2023-06-06 23:28:58,928\tWARNING checkpoints.py:109 -- No `rllib_checkpoint.json` file found in checkpoint directory c:\\Users\\admin\\masters-proj\\ray_checkpoints\\cologne8\\test_1\\checkpoint_001400! Trying to extract checkpoint info from other files found in that dir.\n",
      "2023-06-06 23:28:58,964\tWARNING algorithm_config.py:784 -- You have specified 1 evaluation workers, but your `evaluation_interval` is None! Therefore, evaluation will not occur automatically with each call to `Algorithm.train()`. Instead, you will have to call `Algorithm.evaluate()` manually in order to trigger an evaluation run.\n"
     ]
    },
    {
     "name": "stdout",
     "output_type": "stream",
     "text": [
      "c:\\Users\\admin\\masters-proj\\ray_checkpoints\\cologne8\\test_1\\checkpoint_001400\n",
      "\u001b[2m\u001b[36m(RolloutWorker pid=7800)\u001b[0m delta_wait_time_reward 0.875\n",
      "\u001b[2m\u001b[36m(RolloutWorker pid=7800)\u001b[0m Step #0.00 (0ms ?*RT. ?UPS, TraCI: 14ms, vehicles TOT 0 ACT 0 BUF 0)                     \n"
     ]
    },
    {
     "name": "stderr",
     "output_type": "stream",
     "text": [
      "\u001b[2m\u001b[36m(RolloutWorker pid=14640)\u001b[0m 2023-06-06 23:29:06,689\tWARNING env.py:285 -- Your MultiAgentEnv <MultiAgentEnvCompatibility instance> does not have some or all of the needed base-class attributes! Make sure you call `super().__init__()` from within your MutiAgentEnv's constructor. This will raise an error in the future.\n",
      "2023-06-06 23:29:07,045\tWARNING algorithm_config.py:784 -- You have specified 1 evaluation workers, but your `evaluation_interval` is None! Therefore, evaluation will not occur automatically with each call to `Algorithm.train()`. Instead, you will have to call `Algorithm.evaluate()` manually in order to trigger an evaluation run.\n",
      "2023-06-06 23:29:11,173\tINFO trainable.py:172 -- Trainable.setup took 12.205 seconds. If your trainable is slow to initialize, consider setting reuse_actors=True to reduce actor creation overheads.\n"
     ]
    }
   ],
   "source": [
    "from ray.rllib.algorithms.ppo import PPO\n",
    "\n",
    "checkpoint_path = os.path.join(\"ray_checkpoints\",ENV_NAME,f\"test_{TEST_NUM}\",f\"checkpoint_{TRAIN_EPS:06}\")\n",
    "checkpoint_path = os.path.abspath(checkpoint_path)\n",
    "print(checkpoint_path)\n",
    "\n",
    "ppo_agent = PPO.from_checkpoint(checkpoint_path)"
   ]
  },
  {
   "cell_type": "code",
   "execution_count": 20,
   "metadata": {},
   "outputs": [
    {
     "name": "stderr",
     "output_type": "stream",
     "text": [
      "\u001b[2m\u001b[36m(RolloutWorker pid=2156)\u001b[0m Warning: Vehicle '188987_434_0' performs emergency braking on lane '186623965#9_1' with decel=9.00, wished=4.50, severity=1.00, time=26154.00.\n",
      "\u001b[2m\u001b[36m(RolloutWorker pid=2156)\u001b[0m Warning: Vehicle '188987_434_0' performs emergency braking on lane '186623965#9_1' with decel=9.00, wished=4.50, severity=1.00, time=26154.00.\n"
     ]
    },
    {
     "name": "stdout",
     "output_type": "stream",
     "text": [
      "Step #26100.00 (1ms ~= 1000.00*RT, ~92000.00UPS, TraCI: 67ms, vehicles TOT 553 ACT 92 BUF I: 24ms, vehicles TOT 2 ACT 2 BUF 0)  \n",
      "\u001b[2m\u001b[36m(RolloutWorker pid=2156)\u001b[0m delta_wait_time_reward 0.875\u001b[32m [repeated 10x across cluster]\u001b[0m\n",
      "\u001b[2m\u001b[36m(RolloutWorker pid=2156)\u001b[0m Step #0.00 (0ms ?*RT. ?UPS, TraCI: 10ms, vehicles TOT 0 ACT 0 BUF 0)                     \u001b[32m [repeated 10x across cluster]\u001b[0m\n"
     ]
    },
    {
     "name": "stderr",
     "output_type": "stream",
     "text": [
      "\u001b[2m\u001b[36m(RolloutWorker pid=2156)\u001b[0m 2023-06-06 23:31:32,631\tWARNING env_runner_v2.py:154 -- More than 5760 observations in 720 env steps for episode 522901342373682868 are buffered in the sampler. If this is more than you expected, check that that you set a horizon on your environment correctly and that it terminates at some point. Note: In multi-agent environments, `rollout_fragment_length` sets the batch size based on (across-agents) environment steps, not the steps of individual agents, which can result in unexpectedly large batches.Also, you may be waiting for your Env to terminate (batch_mode=`complete_episodes`). Make sure it does at some point.\n"
     ]
    },
    {
     "name": "stdout",
     "output_type": "stream",
     "text": [
      "Step #28800.00 (0ms ?*RT. ?UPS, TraCI: 277ms, vehicles TOT 1963 ACT 71 BUF 83)            s TOT 625 ACT 105 BUF 36)             \n"
     ]
    },
    {
     "data": {
      "text/plain": [
       "{'evaluation': {'episode_reward_max': -81932.39211473051,\n",
       "  'episode_reward_min': -81932.39211473051,\n",
       "  'episode_reward_mean': -81932.39211473051,\n",
       "  'episode_len_mean': 720.0,\n",
       "  'episode_media': {},\n",
       "  'episodes_this_iter': 1,\n",
       "  'policy_reward_min': {'247379907': -17761.701438447875,\n",
       "   '252017285': -4692.316757143753,\n",
       "   '256201389': -120.30639819466441,\n",
       "   '26110729': -42791.40501786032,\n",
       "   '280120513': -1826.5475681450803,\n",
       "   '32319828': -1486.911637067086,\n",
       "   '62426694': -1796.6097063459954,\n",
       "   'cluster_1098574052_1098574061_247379905': -11456.593591525916},\n",
       "  'policy_reward_max': {'247379907': -17761.701438447875,\n",
       "   '252017285': -4692.316757143753,\n",
       "   '256201389': -120.30639819466441,\n",
       "   '26110729': -42791.40501786032,\n",
       "   '280120513': -1826.5475681450803,\n",
       "   '32319828': -1486.911637067086,\n",
       "   '62426694': -1796.6097063459954,\n",
       "   'cluster_1098574052_1098574061_247379905': -11456.593591525916},\n",
       "  'policy_reward_mean': {'247379907': -17761.701438447875,\n",
       "   '252017285': -4692.316757143753,\n",
       "   '256201389': -120.30639819466441,\n",
       "   '26110729': -42791.40501786032,\n",
       "   '280120513': -1826.5475681450803,\n",
       "   '32319828': -1486.911637067086,\n",
       "   '62426694': -1796.6097063459954,\n",
       "   'cluster_1098574052_1098574061_247379905': -11456.593591525916},\n",
       "  'custom_metrics': {},\n",
       "  'hist_stats': {'episode_reward': [-81932.39211473051],\n",
       "   'episode_lengths': [720],\n",
       "   'policy_247379907_reward': [-17761.701438447875],\n",
       "   'policy_252017285_reward': [-4692.316757143753],\n",
       "   'policy_256201389_reward': [-120.30639819466441],\n",
       "   'policy_26110729_reward': [-42791.40501786032],\n",
       "   'policy_280120513_reward': [-1826.5475681450803],\n",
       "   'policy_32319828_reward': [-1486.911637067086],\n",
       "   'policy_62426694_reward': [-1796.6097063459954],\n",
       "   'policy_cluster_1098574052_1098574061_247379905_reward': [-11456.593591525916]},\n",
       "  'sampler_perf': {'mean_raw_obs_processing_ms': 4.780947583392986,\n",
       "   'mean_inference_ms': 4.687837688006905,\n",
       "   'mean_action_processing_ms': 0.4057166645827803,\n",
       "   'mean_env_wait_ms': 189.66685088762134,\n",
       "   'mean_env_render_ms': 0.0},\n",
       "  'num_faulty_episodes': 0,\n",
       "  'connector_metrics': {'ObsPreprocessorConnector_ms': 0.0,\n",
       "   'StateBufferConnector_ms': 0.0,\n",
       "   'ViewRequirementAgentConnector_ms': 0.024843215942382812},\n",
       "  'num_agent_steps_sampled_this_iter': 5760,\n",
       "  'num_env_steps_sampled_this_iter': 720,\n",
       "  'timesteps_this_iter': 720}}"
      ]
     },
     "execution_count": 20,
     "metadata": {},
     "output_type": "execute_result"
    }
   ],
   "source": [
    "ppo_agent.evaluate()"
   ]
  },
  {
   "cell_type": "code",
   "execution_count": 21,
   "metadata": {},
   "outputs": [],
   "source": [
    "ray.shutdown()"
   ]
  }
 ],
 "metadata": {
  "kernelspec": {
   "display_name": "marl",
   "language": "python",
   "name": "python3"
  },
  "language_info": {
   "codemirror_mode": {
    "name": "ipython",
    "version": 3
   },
   "file_extension": ".py",
   "mimetype": "text/x-python",
   "name": "python",
   "nbconvert_exporter": "python",
   "pygments_lexer": "ipython3",
   "version": "3.8.16"
  },
  "orig_nbformat": 4
 },
 "nbformat": 4,
 "nbformat_minor": 2
}
