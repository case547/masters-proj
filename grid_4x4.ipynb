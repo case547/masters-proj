{
 "cells": [
  {
   "attachments": {},
   "cell_type": "markdown",
   "metadata": {},
   "source": [
    "#  Grid4x4"
   ]
  },
  {
   "cell_type": "code",
   "execution_count": 13,
   "metadata": {},
   "outputs": [],
   "source": [
    "import os\n",
    "\n",
    "from stable_baselines3 import PPO\n",
    "from stable_baselines3.common.env_checker import check_env\n",
    "from stable_baselines3.common.vec_env import VecMonitor\n",
    "from sumo_rl import parallel_env\n",
    "import supersuit as ss\n",
    "\n",
    "from evaluate import evaluate"
   ]
  },
  {
   "cell_type": "code",
   "execution_count": 14,
   "metadata": {},
   "outputs": [],
   "source": [
    "TEST_NUM = 1"
   ]
  },
  {
   "attachments": {},
   "cell_type": "markdown",
   "metadata": {},
   "source": [
    "## Create Environment and Instantiate Agent"
   ]
  },
  {
   "cell_type": "code",
   "execution_count": 15,
   "metadata": {},
   "outputs": [],
   "source": [
    "from pettingzoo.test import parallel_api_test\n",
    "from reward_functions import diff_wait_time\n",
    "\n",
    "env_params = {\n",
    "    \"net_file\": os.path.join(\"nets\",\"RESCO\",\"grid4x4\",\"grid4x4.net.xml\"),\n",
    "    \"route_file\": os.path.join(\"nets\",\"RESCO\",\"grid4x4\",\"grid4x4_1.rou.xml\"),\n",
    "    \"num_seconds\": 3600,\n",
    "    \"reward_fn\": diff_wait_time,\n",
    "    \"sumo_seed\": 42,\n",
    "}\n",
    "env = parallel_env(**env_params)\n",
    "\n",
    "parallel_api_test(env, num_cycles=10)\n",
    "\n",
    "# Maybe add frame-stacking here\n",
    "env = ss.pettingzoo_env_to_vec_env_v1(env)\n",
    "env = ss.concat_vec_envs_v1(env, 8, num_cpus=1, base_class=\"stable_baselines3\")\n",
    "env = VecMonitor(env)"
   ]
  },
  {
   "cell_type": "code",
   "execution_count": 16,
   "metadata": {},
   "outputs": [
    {
     "name": "stdout",
     "output_type": "stream",
     "text": [
      "Using cuda device\n"
     ]
    }
   ],
   "source": [
    "# Using hyperparams from RESCO supplement/appendix Table 5\n",
    "# https://datasets-benchmarks-proceedings.neurips.cc/paper/2021/hash/f0935e4cd5920aa6c7c996a5ee53a70f-Abstract-round1.html\n",
    "\n",
    "model = PPO(\n",
    "    \"MlpPolicy\",\n",
    "    env,\n",
    "    learning_rate=2.5e-4,\n",
    "    n_steps=1024,\n",
    "    batch_size=256,\n",
    "    n_epochs=4,\n",
    "    gamma=0.99,\n",
    "    gae_lambda=0.95,\n",
    "    clip_range=0.1,\n",
    "    ent_coef=1e-3,\n",
    "    max_grad_norm=0.5,\n",
    "    tensorboard_log=os.path.join(\"logs\",\"grid4x4\"),\n",
    "    verbose=1\n",
    ")"
   ]
  },
  {
   "cell_type": "code",
   "execution_count": 5,
   "metadata": {},
   "outputs": [
    {
     "name": "stdout",
     "output_type": "stream",
     "text": [
      "-107404.0\n",
      "0.0\n"
     ]
    }
   ],
   "source": [
    "# Evaluate untrained random agent\n",
    "csv_dir = os.path.join(\"outputs\",\"grid4x4\",f\"test_{TEST_NUM}\")\n",
    "if not os.path.exists(csv_dir):\n",
    "    os.makedirs(csv_dir)\n",
    "\n",
    "csv_path = os.path.join(csv_dir, \"untrained.csv\")\n",
    "tb_log_dir = os.path.join(\"logs\",\"grid4x4\",\"eval_untrained\")\n",
    "\n",
    "mean_untrained_reward, std_untrained_reward = evaluate(model, env, csv_path, tb_log_dir, n_eval_episodes=1)\n",
    "\n",
    "# Change made to SB3 > common > vec_env > vec_monitor.py > VecMonitor\n",
    "# Line 76 - added extra item to self.venv.step_wait() return\n",
    "# obs, rewards, dones, infos --> obs, rewards, dones, _, infos\n",
    "\n",
    "print(mean_untrained_reward)\n",
    "print(std_untrained_reward)"
   ]
  },
  {
   "attachments": {},
   "cell_type": "markdown",
   "metadata": {},
   "source": [
    "## Train and Evaluate Agent"
   ]
  },
  {
   "cell_type": "code",
   "execution_count": null,
   "metadata": {},
   "outputs": [],
   "source": [
    "model.learn(total_timesteps=1e5)"
   ]
  },
  {
   "cell_type": "code",
   "execution_count": null,
   "metadata": {},
   "outputs": [],
   "source": [
    "# Evaluate trained agent\n",
    "csv_path = os.path.join(csv_dir, \"trained.csv\")\n",
    "tb_log_dir = os.path.join(\"logs\",\"grid4x4\",f\"PPO_{TEST_NUM}\",\"eval_trained\")\n",
    "\n",
    "mean_reward_trained, std_reward_trained = evaluate(model, env, csv_path, tb_log_dir, n_eval_episodes=1)\n",
    "\n",
    "print(mean_reward_trained)\n",
    "print(std_reward_trained)"
   ]
  },
  {
   "cell_type": "code",
   "execution_count": null,
   "metadata": {},
   "outputs": [],
   "source": [
    "# Move untrained.csv into numbered directory\n",
    "import shutil\n",
    "\n",
    "original = os.path.join(\"logs\",\"grid4x4\",\"eval_untrained\")\n",
    "target = os.path.join(\"logs\",\"grid4x4\",f\"PPO_{TEST_NUM}\",\"eval_untrained\")\n",
    "\n",
    "shutil.move(original, target)"
   ]
  },
  {
   "attachments": {},
   "cell_type": "markdown",
   "metadata": {},
   "source": [
    "### Record Results"
   ]
  },
  {
   "cell_type": "code",
   "execution_count": null,
   "metadata": {},
   "outputs": [],
   "source": [
    "import csv\n",
    "\n",
    "data = [env_params[\"net_file\"], TEST_NUM, env.reward_fn.__name__, mean_reward_untrained, mean_reward_trained]\n",
    "\n",
    "with open(\"test_results.csv\", \"a\", encoding=\"UTF8\", newline=\"\") as f:\n",
    "    writer = csv.writer(f)\n",
    "    writer.writerow(data)"
   ]
  },
  {
   "attachments": {},
   "cell_type": "markdown",
   "metadata": {},
   "source": [
    "### Save Model"
   ]
  },
  {
   "cell_type": "code",
   "execution_count": null,
   "metadata": {},
   "outputs": [],
   "source": [
    "model.save(os.path.join(\"saved_models\",f\"PPO_grid4x4_{TEST_NUM}\"))"
   ]
  },
  {
   "attachments": {},
   "cell_type": "markdown",
   "metadata": {},
   "source": [
    "## Render Video"
   ]
  },
  {
   "cell_type": "code",
   "execution_count": null,
   "metadata": {},
   "outputs": [],
   "source": [
    "env_params.update({\"use_gui\": True})\n",
    "render_env = parallel_env(**env_params)\n",
    "\n",
    "check_env(render_env)\n",
    "\n",
    "# Maybe add frame-stacking here\n",
    "render_env = ss.pettingzoo_env_to_vec_env_v1(render_env)\n",
    "render_env = ss.concat_vec_envs_v1(env, 2, num_cpus=1, base_class=\"stable_baselines3\")\n",
    "render_env = VecMonitor(render_env)"
   ]
  },
  {
   "cell_type": "code",
   "execution_count": null,
   "metadata": {},
   "outputs": [],
   "source": [
    "import pyautogui\n",
    "\n",
    "obs, info = render_env.reset()\n",
    "\n",
    "folder_path = os.path.join(\"renders\",\"grid4x4\",f\"test_{TEST_NUM}\")\n",
    "if not os.path.exists(folder_path):\n",
    "    os.mkdir(folder_path)\n",
    "\n",
    "max_time = env.unwrapped.env.sim_max_time\n",
    "delta_time = env.unwrapped.env.delta_time\n",
    "vid_length = round(max_time/delta_time)\n",
    "\n",
    "for i in range(vid_length):\n",
    "    actions, _ = model.predict(obs)\n",
    "    obs, reward, terminated, truncated, info = render_env.step(actions)\n",
    "    env.render()\n",
    "\n",
    "    im = pyautogui.screenshot(\n",
    "        os.path.join(folder_path,f\"img{i}.jpg\"),\n",
    "        region=(0, 0, 2560, 1542)\n",
    "    )\n",
    "\n",
    "render_env.close()  # clean up"
   ]
  },
  {
   "cell_type": "code",
   "execution_count": null,
   "metadata": {},
   "outputs": [],
   "source": [
    "subprocess.run([\n",
    "    \"ffmpeg\", \"-y\", \"-r\", \"5\", \"-i\",\n",
    "    f\"renders\\\\grid4x4\\\\test_{TEST_NUM}\\\\img%d.jpg\",\n",
    "    f\"videos\\\\grid4x4_{TEST_NUM}.mp4\"\n",
    "])"
   ]
  },
  {
   "attachments": {},
   "cell_type": "markdown",
   "metadata": {},
   "source": [
    "## Clean-up"
   ]
  },
  {
   "cell_type": "code",
   "execution_count": null,
   "metadata": {},
   "outputs": [],
   "source": [
    "env.close()\n",
    "render_env.close()"
   ]
  }
 ],
 "metadata": {
  "kernelspec": {
   "display_name": "rl",
   "language": "python",
   "name": "python3"
  },
  "language_info": {
   "codemirror_mode": {
    "name": "ipython",
    "version": 3
   },
   "file_extension": ".py",
   "mimetype": "text/x-python",
   "name": "python",
   "nbconvert_exporter": "python",
   "pygments_lexer": "ipython3",
   "version": "3.9.16"
  },
  "orig_nbformat": 4,
  "vscode": {
   "interpreter": {
    "hash": "732c5edff638c91026cc37889b73c340773ecf599b6624077a4552d06a9ec22c"
   }
  }
 },
 "nbformat": 4,
 "nbformat_minor": 2
}
