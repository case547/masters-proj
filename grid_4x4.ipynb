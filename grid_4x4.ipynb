{
 "cells": [
  {
   "cell_type": "code",
   "execution_count": 1,
   "metadata": {},
   "outputs": [
    {
     "name": "stderr",
     "output_type": "stream",
     "text": [
      "c:\\Users\\Justin Mak\\anaconda3\\envs\\rl\\lib\\site-packages\\gymnasium\\envs\\registration.py:693: UserWarning: \u001b[33mWARN: Overriding environment GymV26Environment-v0 already in registry.\u001b[0m\n",
      "  logger.warn(f\"Overriding environment {new_spec.id} already in registry.\")\n"
     ]
    }
   ],
   "source": [
    "import os\n",
    "\n",
    "from stable_baselines3.common.evaluation import evaluate_policy\n",
    "from stable_baselines3.common.vec_env import VecMonitor\n",
    "from stable_baselines3 import PPO\n",
    "from sumo_rl import parallel_env\n",
    "import supersuit as ss\n",
    "\n",
    "from tyre_pm_reward import tyre_pm_reward"
   ]
  },
  {
   "cell_type": "code",
   "execution_count": 2,
   "metadata": {},
   "outputs": [],
   "source": [
    "# Create environment\n",
    "env = parallel_env(\n",
    "    net_file=os.path.join(\"nets\",\"RESCO\",\"grid4x4\",\"grid4x4.net.xml\"),\n",
    "    route_file=os.path.join(\"nets\",\"RESCO\",\"grid4x4\",\"grid4x4_1.rou.xml\"),\n",
    "    num_seconds=3600,\n",
    "    out_csv_name=os.path.join(\"outputs\",\"grid4x4\",\"ppo\"),\n",
    "    reward_fn=tyre_pm_reward\n",
    ")\n",
    "env = ss.pettingzoo_env_to_vec_env_v1(env)\n",
    "env = ss.concat_vec_envs_v1(env, 2, num_cpus=1, base_class=\"stable_baselines3\")\n",
    "env = VecMonitor(env)"
   ]
  },
  {
   "cell_type": "code",
   "execution_count": 3,
   "metadata": {},
   "outputs": [
    {
     "name": "stdout",
     "output_type": "stream",
     "text": [
      "Using cuda device\n"
     ]
    }
   ],
   "source": [
    "model = PPO(\n",
    "    \"MlpPolicy\",\n",
    "    env,\n",
    "    learning_rate=5e-4,\n",
    "    n_steps=256,\n",
    "    batch_size=256,\n",
    "    n_epochs=5,\n",
    "    gamma=0.95,\n",
    "    gae_lambda=0.99,\n",
    "    clip_range=0.3,\n",
    "    ent_coef=0.09,\n",
    "    vf_coef=0.05,\n",
    "    max_grad_norm=0.9,\n",
    "    tensorboard_log=os.path.join(\"logs\",\"grid4x4\",\"ppo_test\"),\n",
    "    verbose=1,\n",
    ")"
   ]
  },
  {
   "cell_type": "code",
   "execution_count": 4,
   "metadata": {},
   "outputs": [
    {
     "ename": "KeyboardInterrupt",
     "evalue": "",
     "output_type": "error",
     "traceback": [
      "\u001b[1;31m---------------------------------------------------------------------------\u001b[0m",
      "\u001b[1;31mKeyboardInterrupt\u001b[0m                         Traceback (most recent call last)",
      "\u001b[1;32mc:\\Users\\Justin Mak\\masters-proj\\grid_4x4.ipynb Cell 4\u001b[0m in \u001b[0;36m<cell line: 2>\u001b[1;34m()\u001b[0m\n\u001b[0;32m      <a href='vscode-notebook-cell:/c%3A/Users/Justin%20Mak/masters-proj/grid_4x4.ipynb#W2sZmlsZQ%3D%3D?line=0'>1</a>\u001b[0m \u001b[39m# Evaluate untrained random agent\u001b[39;00m\n\u001b[1;32m----> <a href='vscode-notebook-cell:/c%3A/Users/Justin%20Mak/masters-proj/grid_4x4.ipynb#W2sZmlsZQ%3D%3D?line=1'>2</a>\u001b[0m mean_reward, std_reward \u001b[39m=\u001b[39m evaluate_policy(model, env, n_eval_episodes\u001b[39m=\u001b[39;49m\u001b[39m1\u001b[39;49m)\n\u001b[0;32m      <a href='vscode-notebook-cell:/c%3A/Users/Justin%20Mak/masters-proj/grid_4x4.ipynb#W2sZmlsZQ%3D%3D?line=3'>4</a>\u001b[0m \u001b[39mprint\u001b[39m(mean_reward)\n\u001b[0;32m      <a href='vscode-notebook-cell:/c%3A/Users/Justin%20Mak/masters-proj/grid_4x4.ipynb#W2sZmlsZQ%3D%3D?line=4'>5</a>\u001b[0m \u001b[39mprint\u001b[39m(std_reward)\n",
      "File \u001b[1;32mc:\\Users\\Justin Mak\\anaconda3\\envs\\rl\\lib\\site-packages\\stable_baselines3\\common\\evaluation.py:94\u001b[0m, in \u001b[0;36mevaluate_policy\u001b[1;34m(model, env, n_eval_episodes, deterministic, render, callback, reward_threshold, return_episode_rewards, warn)\u001b[0m\n\u001b[0;32m     87\u001b[0m \u001b[39mwhile\u001b[39;00m (episode_counts \u001b[39m<\u001b[39m episode_count_targets)\u001b[39m.\u001b[39many():\n\u001b[0;32m     88\u001b[0m     actions, states \u001b[39m=\u001b[39m model\u001b[39m.\u001b[39mpredict(\n\u001b[0;32m     89\u001b[0m         observations,  \u001b[39m# type: ignore[arg-type]\u001b[39;00m\n\u001b[0;32m     90\u001b[0m         state\u001b[39m=\u001b[39mstates,\n\u001b[0;32m     91\u001b[0m         episode_start\u001b[39m=\u001b[39mepisode_starts,\n\u001b[0;32m     92\u001b[0m         deterministic\u001b[39m=\u001b[39mdeterministic,\n\u001b[0;32m     93\u001b[0m     )\n\u001b[1;32m---> 94\u001b[0m     observations, rewards, dones, infos \u001b[39m=\u001b[39m env\u001b[39m.\u001b[39;49mstep(actions)\n\u001b[0;32m     95\u001b[0m     current_rewards \u001b[39m+\u001b[39m\u001b[39m=\u001b[39m rewards\n\u001b[0;32m     96\u001b[0m     current_lengths \u001b[39m+\u001b[39m\u001b[39m=\u001b[39m \u001b[39m1\u001b[39m\n",
      "File \u001b[1;32mc:\\Users\\Justin Mak\\anaconda3\\envs\\rl\\lib\\site-packages\\stable_baselines3\\common\\vec_env\\base_vec_env.py:171\u001b[0m, in \u001b[0;36mVecEnv.step\u001b[1;34m(self, actions)\u001b[0m\n\u001b[0;32m    164\u001b[0m \u001b[39m\u001b[39m\u001b[39m\"\"\"\u001b[39;00m\n\u001b[0;32m    165\u001b[0m \u001b[39mStep the environments with the given action\u001b[39;00m\n\u001b[0;32m    166\u001b[0m \n\u001b[0;32m    167\u001b[0m \u001b[39m:param actions: the action\u001b[39;00m\n\u001b[0;32m    168\u001b[0m \u001b[39m:return: observation, reward, done, information\u001b[39;00m\n\u001b[0;32m    169\u001b[0m \u001b[39m\"\"\"\u001b[39;00m\n\u001b[0;32m    170\u001b[0m \u001b[39mself\u001b[39m\u001b[39m.\u001b[39mstep_async(actions)\n\u001b[1;32m--> 171\u001b[0m \u001b[39mreturn\u001b[39;00m \u001b[39mself\u001b[39;49m\u001b[39m.\u001b[39;49mstep_wait()\n",
      "File \u001b[1;32mc:\\Users\\Justin Mak\\anaconda3\\envs\\rl\\lib\\site-packages\\stable_baselines3\\common\\vec_env\\vec_monitor.py:76\u001b[0m, in \u001b[0;36mVecMonitor.step_wait\u001b[1;34m(self)\u001b[0m\n\u001b[0;32m     75\u001b[0m \u001b[39mdef\u001b[39;00m \u001b[39mstep_wait\u001b[39m(\u001b[39mself\u001b[39m) \u001b[39m-\u001b[39m\u001b[39m>\u001b[39m VecEnvStepReturn:\n\u001b[1;32m---> 76\u001b[0m     obs, rewards, dones, _, infos \u001b[39m=\u001b[39m \u001b[39mself\u001b[39;49m\u001b[39m.\u001b[39;49mvenv\u001b[39m.\u001b[39;49mstep_wait()\n\u001b[0;32m     77\u001b[0m     \u001b[39mself\u001b[39m\u001b[39m.\u001b[39mepisode_returns \u001b[39m+\u001b[39m\u001b[39m=\u001b[39m rewards\n\u001b[0;32m     78\u001b[0m     \u001b[39mself\u001b[39m\u001b[39m.\u001b[39mepisode_lengths \u001b[39m+\u001b[39m\u001b[39m=\u001b[39m \u001b[39m1\u001b[39m\n",
      "File \u001b[1;32mc:\\Users\\Justin Mak\\anaconda3\\envs\\rl\\lib\\site-packages\\supersuit\\vector\\sb3_vector_wrapper.py:17\u001b[0m, in \u001b[0;36mSB3VecEnvWrapper.step_wait\u001b[1;34m(self)\u001b[0m\n\u001b[0;32m     16\u001b[0m \u001b[39mdef\u001b[39;00m \u001b[39mstep_wait\u001b[39m(\u001b[39mself\u001b[39m):\n\u001b[1;32m---> 17\u001b[0m     \u001b[39mreturn\u001b[39;00m \u001b[39mself\u001b[39;49m\u001b[39m.\u001b[39;49mvenv\u001b[39m.\u001b[39;49mstep_wait()\n",
      "File \u001b[1;32mc:\\Users\\Justin Mak\\anaconda3\\envs\\rl\\lib\\site-packages\\supersuit\\vector\\concat_vec_env.py:89\u001b[0m, in \u001b[0;36mConcatVecEnv.step_wait\u001b[1;34m(self)\u001b[0m\n\u001b[0;32m     88\u001b[0m \u001b[39mdef\u001b[39;00m \u001b[39mstep_wait\u001b[39m(\u001b[39mself\u001b[39m):\n\u001b[1;32m---> 89\u001b[0m     \u001b[39mreturn\u001b[39;00m \u001b[39mself\u001b[39;49m\u001b[39m.\u001b[39;49mstep(\u001b[39mself\u001b[39;49m\u001b[39m.\u001b[39;49m_saved_actions)\n",
      "File \u001b[1;32mc:\\Users\\Justin Mak\\anaconda3\\envs\\rl\\lib\\site-packages\\supersuit\\vector\\concat_vec_env.py:97\u001b[0m, in \u001b[0;36mConcatVecEnv.step\u001b[1;34m(self, actions)\u001b[0m\n\u001b[0;32m     94\u001b[0m actions \u001b[39m=\u001b[39m \u001b[39mlist\u001b[39m(iterate(\u001b[39mself\u001b[39m\u001b[39m.\u001b[39maction_space, actions))\n\u001b[0;32m     95\u001b[0m \u001b[39mfor\u001b[39;00m venv \u001b[39min\u001b[39;00m \u001b[39mself\u001b[39m\u001b[39m.\u001b[39mvec_envs:\n\u001b[0;32m     96\u001b[0m     data\u001b[39m.\u001b[39mappend(\n\u001b[1;32m---> 97\u001b[0m         venv\u001b[39m.\u001b[39;49mstep(\n\u001b[0;32m     98\u001b[0m             \u001b[39mself\u001b[39;49m\u001b[39m.\u001b[39;49mconcatenate_actions(\n\u001b[0;32m     99\u001b[0m                 actions[idx : idx \u001b[39m+\u001b[39;49m venv\u001b[39m.\u001b[39;49mnum_envs], venv\u001b[39m.\u001b[39;49mnum_envs\n\u001b[0;32m    100\u001b[0m             )\n\u001b[0;32m    101\u001b[0m         )\n\u001b[0;32m    102\u001b[0m     )\n\u001b[0;32m    103\u001b[0m     idx \u001b[39m+\u001b[39m\u001b[39m=\u001b[39m venv\u001b[39m.\u001b[39mnum_envs\n\u001b[0;32m    104\u001b[0m observations, rewards, terminations, truncations, infos \u001b[39m=\u001b[39m transpose(data)\n",
      "File \u001b[1;32mc:\\Users\\Justin Mak\\anaconda3\\envs\\rl\\lib\\site-packages\\supersuit\\vector\\markov_vector_wrapper.py:75\u001b[0m, in \u001b[0;36mMarkovVectorEnv.step\u001b[1;34m(self, actions)\u001b[0m\n\u001b[0;32m     69\u001b[0m agent_set \u001b[39m=\u001b[39m \u001b[39mset\u001b[39m(\u001b[39mself\u001b[39m\u001b[39m.\u001b[39mpar_env\u001b[39m.\u001b[39magents)\n\u001b[0;32m     70\u001b[0m act_dict \u001b[39m=\u001b[39m {\n\u001b[0;32m     71\u001b[0m     agent: actions[i]\n\u001b[0;32m     72\u001b[0m     \u001b[39mfor\u001b[39;00m i, agent \u001b[39min\u001b[39;00m \u001b[39menumerate\u001b[39m(\u001b[39mself\u001b[39m\u001b[39m.\u001b[39mpar_env\u001b[39m.\u001b[39mpossible_agents)\n\u001b[0;32m     73\u001b[0m     \u001b[39mif\u001b[39;00m agent \u001b[39min\u001b[39;00m agent_set\n\u001b[0;32m     74\u001b[0m }\n\u001b[1;32m---> 75\u001b[0m observations, rewards, terms, truncs, infos \u001b[39m=\u001b[39m \u001b[39mself\u001b[39;49m\u001b[39m.\u001b[39;49mpar_env\u001b[39m.\u001b[39;49mstep(act_dict)\n\u001b[0;32m     77\u001b[0m \u001b[39m# adds last observation to info where user can get it\u001b[39;00m\n\u001b[0;32m     78\u001b[0m terminations \u001b[39m=\u001b[39m np\u001b[39m.\u001b[39mfromiter(terms\u001b[39m.\u001b[39mvalues(), dtype\u001b[39m=\u001b[39m\u001b[39mbool\u001b[39m)\n",
      "File \u001b[1;32mc:\\Users\\Justin Mak\\anaconda3\\envs\\rl\\lib\\site-packages\\pettingzoo\\utils\\conversions.py:157\u001b[0m, in \u001b[0;36maec_to_parallel_wrapper.step\u001b[1;34m(self, actions)\u001b[0m\n\u001b[0;32m    153\u001b[0m         \u001b[39mraise\u001b[39;00m \u001b[39mAssertionError\u001b[39;00m(\n\u001b[0;32m    154\u001b[0m             \u001b[39mf\u001b[39m\u001b[39m\"\u001b[39m\u001b[39mexpected agent \u001b[39m\u001b[39m{\u001b[39;00magent\u001b[39m}\u001b[39;00m\u001b[39m got agent \u001b[39m\u001b[39m{\u001b[39;00m\u001b[39mself\u001b[39m\u001b[39m.\u001b[39maec_env\u001b[39m.\u001b[39magent_selection\u001b[39m}\u001b[39;00m\u001b[39m, Parallel environment wrapper expects agents to step in a cycle.\u001b[39m\u001b[39m\"\u001b[39m\n\u001b[0;32m    155\u001b[0m         )\n\u001b[0;32m    156\u001b[0m obs, rew, termination, truncation, info \u001b[39m=\u001b[39m \u001b[39mself\u001b[39m\u001b[39m.\u001b[39maec_env\u001b[39m.\u001b[39mlast()\n\u001b[1;32m--> 157\u001b[0m \u001b[39mself\u001b[39;49m\u001b[39m.\u001b[39;49maec_env\u001b[39m.\u001b[39;49mstep(actions[agent])\n\u001b[0;32m    158\u001b[0m \u001b[39mfor\u001b[39;00m agent \u001b[39min\u001b[39;00m \u001b[39mself\u001b[39m\u001b[39m.\u001b[39maec_env\u001b[39m.\u001b[39magents:\n\u001b[0;32m    159\u001b[0m     rewards[agent] \u001b[39m+\u001b[39m\u001b[39m=\u001b[39m \u001b[39mself\u001b[39m\u001b[39m.\u001b[39maec_env\u001b[39m.\u001b[39mrewards[agent]\n",
      "File \u001b[1;32mc:\\Users\\Justin Mak\\anaconda3\\envs\\rl\\lib\\site-packages\\pettingzoo\\utils\\wrappers\\order_enforcing.py:75\u001b[0m, in \u001b[0;36mOrderEnforcingWrapper.step\u001b[1;34m(self, action)\u001b[0m\n\u001b[0;32m     73\u001b[0m \u001b[39melse\u001b[39;00m:\n\u001b[0;32m     74\u001b[0m     \u001b[39mself\u001b[39m\u001b[39m.\u001b[39m_has_updated \u001b[39m=\u001b[39m \u001b[39mTrue\u001b[39;00m\n\u001b[1;32m---> 75\u001b[0m     \u001b[39msuper\u001b[39;49m()\u001b[39m.\u001b[39;49mstep(action)\n",
      "File \u001b[1;32mc:\\Users\\Justin Mak\\anaconda3\\envs\\rl\\lib\\site-packages\\pettingzoo\\utils\\wrappers\\base.py:108\u001b[0m, in \u001b[0;36mBaseWrapper.step\u001b[1;34m(self, action)\u001b[0m\n\u001b[0;32m    107\u001b[0m \u001b[39mdef\u001b[39;00m \u001b[39mstep\u001b[39m(\u001b[39mself\u001b[39m, action):\n\u001b[1;32m--> 108\u001b[0m     \u001b[39mself\u001b[39;49m\u001b[39m.\u001b[39;49menv\u001b[39m.\u001b[39;49mstep(action)\n\u001b[0;32m    110\u001b[0m     \u001b[39mself\u001b[39m\u001b[39m.\u001b[39magent_selection \u001b[39m=\u001b[39m \u001b[39mself\u001b[39m\u001b[39m.\u001b[39menv\u001b[39m.\u001b[39magent_selection\n\u001b[0;32m    111\u001b[0m     \u001b[39mself\u001b[39m\u001b[39m.\u001b[39mrewards \u001b[39m=\u001b[39m \u001b[39mself\u001b[39m\u001b[39m.\u001b[39menv\u001b[39m.\u001b[39mrewards\n",
      "File \u001b[1;32mc:\\Users\\Justin Mak\\anaconda3\\envs\\rl\\lib\\site-packages\\pettingzoo\\utils\\wrappers\\assert_out_of_bounds.py:26\u001b[0m, in \u001b[0;36mAssertOutOfBoundsWrapper.step\u001b[1;34m(self, action)\u001b[0m\n\u001b[0;32m     16\u001b[0m \u001b[39mdef\u001b[39;00m \u001b[39mstep\u001b[39m(\u001b[39mself\u001b[39m, action):\n\u001b[0;32m     17\u001b[0m     \u001b[39massert\u001b[39;00m (\n\u001b[0;32m     18\u001b[0m         action \u001b[39mis\u001b[39;00m \u001b[39mNone\u001b[39;00m\n\u001b[0;32m     19\u001b[0m         \u001b[39mand\u001b[39;00m (\n\u001b[1;32m   (...)\u001b[0m\n\u001b[0;32m     24\u001b[0m         action\n\u001b[0;32m     25\u001b[0m     ), \u001b[39m\"\u001b[39m\u001b[39maction is not in action space\u001b[39m\u001b[39m\"\u001b[39m\n\u001b[1;32m---> 26\u001b[0m     \u001b[39msuper\u001b[39;49m()\u001b[39m.\u001b[39;49mstep(action)\n",
      "File \u001b[1;32mc:\\Users\\Justin Mak\\anaconda3\\envs\\rl\\lib\\site-packages\\pettingzoo\\utils\\wrappers\\base.py:108\u001b[0m, in \u001b[0;36mBaseWrapper.step\u001b[1;34m(self, action)\u001b[0m\n\u001b[0;32m    107\u001b[0m \u001b[39mdef\u001b[39;00m \u001b[39mstep\u001b[39m(\u001b[39mself\u001b[39m, action):\n\u001b[1;32m--> 108\u001b[0m     \u001b[39mself\u001b[39;49m\u001b[39m.\u001b[39;49menv\u001b[39m.\u001b[39;49mstep(action)\n\u001b[0;32m    110\u001b[0m     \u001b[39mself\u001b[39m\u001b[39m.\u001b[39magent_selection \u001b[39m=\u001b[39m \u001b[39mself\u001b[39m\u001b[39m.\u001b[39menv\u001b[39m.\u001b[39magent_selection\n\u001b[0;32m    111\u001b[0m     \u001b[39mself\u001b[39m\u001b[39m.\u001b[39mrewards \u001b[39m=\u001b[39m \u001b[39mself\u001b[39m\u001b[39m.\u001b[39menv\u001b[39m.\u001b[39mrewards\n",
      "File \u001b[1;32mc:\\Users\\Justin Mak\\anaconda3\\envs\\rl\\lib\\site-packages\\sumo_rl\\environment\\env.py:578\u001b[0m, in \u001b[0;36mSumoEnvironmentPZ.step\u001b[1;34m(self, action)\u001b[0m\n\u001b[0;32m    576\u001b[0m     \u001b[39mself\u001b[39m\u001b[39m.\u001b[39menv\u001b[39m.\u001b[39m_compute_observations()\n\u001b[0;32m    577\u001b[0m     \u001b[39mself\u001b[39m\u001b[39m.\u001b[39mrewards \u001b[39m=\u001b[39m \u001b[39mself\u001b[39m\u001b[39m.\u001b[39menv\u001b[39m.\u001b[39m_compute_rewards()\n\u001b[1;32m--> 578\u001b[0m     \u001b[39mself\u001b[39;49m\u001b[39m.\u001b[39;49menv\u001b[39m.\u001b[39;49m_compute_info()\n\u001b[0;32m    579\u001b[0m \u001b[39melse\u001b[39;00m:\n\u001b[0;32m    580\u001b[0m     \u001b[39mself\u001b[39m\u001b[39m.\u001b[39m_clear_rewards()\n",
      "File \u001b[1;32mc:\\Users\\Justin Mak\\anaconda3\\envs\\rl\\lib\\site-packages\\sumo_rl\\environment\\env.py:359\u001b[0m, in \u001b[0;36mSumoEnvironment._compute_info\u001b[1;34m(self)\u001b[0m\n\u001b[0;32m    357\u001b[0m     info\u001b[39m.\u001b[39mupdate(\u001b[39mself\u001b[39m\u001b[39m.\u001b[39m_get_system_info())\n\u001b[0;32m    358\u001b[0m \u001b[39mif\u001b[39;00m \u001b[39mself\u001b[39m\u001b[39m.\u001b[39madd_per_agent_info:\n\u001b[1;32m--> 359\u001b[0m     info\u001b[39m.\u001b[39mupdate(\u001b[39mself\u001b[39;49m\u001b[39m.\u001b[39;49m_get_per_agent_info())\n\u001b[0;32m    360\u001b[0m \u001b[39mself\u001b[39m\u001b[39m.\u001b[39mmetrics\u001b[39m.\u001b[39mappend(info)\n\u001b[0;32m    361\u001b[0m \u001b[39mreturn\u001b[39;00m info\n",
      "File \u001b[1;32mc:\\Users\\Justin Mak\\anaconda3\\envs\\rl\\lib\\site-packages\\sumo_rl\\environment\\env.py:419\u001b[0m, in \u001b[0;36mSumoEnvironment._get_per_agent_info\u001b[1;34m(self)\u001b[0m\n\u001b[0;32m    415\u001b[0m stopped \u001b[39m=\u001b[39m [\u001b[39mself\u001b[39m\u001b[39m.\u001b[39mtraffic_signals[ts]\u001b[39m.\u001b[39mget_total_queued() \u001b[39mfor\u001b[39;00m ts \u001b[39min\u001b[39;00m \u001b[39mself\u001b[39m\u001b[39m.\u001b[39mts_ids]\n\u001b[0;32m    416\u001b[0m accumulated_waiting_time \u001b[39m=\u001b[39m [\n\u001b[0;32m    417\u001b[0m     \u001b[39msum\u001b[39m(\u001b[39mself\u001b[39m\u001b[39m.\u001b[39mtraffic_signals[ts]\u001b[39m.\u001b[39mget_accumulated_waiting_time_per_lane()) \u001b[39mfor\u001b[39;00m ts \u001b[39min\u001b[39;00m \u001b[39mself\u001b[39m\u001b[39m.\u001b[39mts_ids\n\u001b[0;32m    418\u001b[0m ]\n\u001b[1;32m--> 419\u001b[0m average_speed \u001b[39m=\u001b[39m [\u001b[39mself\u001b[39m\u001b[39m.\u001b[39mtraffic_signals[ts]\u001b[39m.\u001b[39mget_average_speed() \u001b[39mfor\u001b[39;00m ts \u001b[39min\u001b[39;00m \u001b[39mself\u001b[39m\u001b[39m.\u001b[39mts_ids]\n\u001b[0;32m    420\u001b[0m info \u001b[39m=\u001b[39m {}\n\u001b[0;32m    421\u001b[0m \u001b[39mfor\u001b[39;00m i, ts \u001b[39min\u001b[39;00m \u001b[39menumerate\u001b[39m(\u001b[39mself\u001b[39m\u001b[39m.\u001b[39mts_ids):\n",
      "File \u001b[1;32mc:\\Users\\Justin Mak\\anaconda3\\envs\\rl\\lib\\site-packages\\sumo_rl\\environment\\env.py:419\u001b[0m, in \u001b[0;36m<listcomp>\u001b[1;34m(.0)\u001b[0m\n\u001b[0;32m    415\u001b[0m stopped \u001b[39m=\u001b[39m [\u001b[39mself\u001b[39m\u001b[39m.\u001b[39mtraffic_signals[ts]\u001b[39m.\u001b[39mget_total_queued() \u001b[39mfor\u001b[39;00m ts \u001b[39min\u001b[39;00m \u001b[39mself\u001b[39m\u001b[39m.\u001b[39mts_ids]\n\u001b[0;32m    416\u001b[0m accumulated_waiting_time \u001b[39m=\u001b[39m [\n\u001b[0;32m    417\u001b[0m     \u001b[39msum\u001b[39m(\u001b[39mself\u001b[39m\u001b[39m.\u001b[39mtraffic_signals[ts]\u001b[39m.\u001b[39mget_accumulated_waiting_time_per_lane()) \u001b[39mfor\u001b[39;00m ts \u001b[39min\u001b[39;00m \u001b[39mself\u001b[39m\u001b[39m.\u001b[39mts_ids\n\u001b[0;32m    418\u001b[0m ]\n\u001b[1;32m--> 419\u001b[0m average_speed \u001b[39m=\u001b[39m [\u001b[39mself\u001b[39;49m\u001b[39m.\u001b[39;49mtraffic_signals[ts]\u001b[39m.\u001b[39;49mget_average_speed() \u001b[39mfor\u001b[39;00m ts \u001b[39min\u001b[39;00m \u001b[39mself\u001b[39m\u001b[39m.\u001b[39mts_ids]\n\u001b[0;32m    420\u001b[0m info \u001b[39m=\u001b[39m {}\n\u001b[0;32m    421\u001b[0m \u001b[39mfor\u001b[39;00m i, ts \u001b[39min\u001b[39;00m \u001b[39menumerate\u001b[39m(\u001b[39mself\u001b[39m\u001b[39m.\u001b[39mts_ids):\n",
      "File \u001b[1;32mc:\\Users\\Justin Mak\\anaconda3\\envs\\rl\\lib\\site-packages\\sumo_rl\\environment\\traffic_signal.py:244\u001b[0m, in \u001b[0;36mTrafficSignal.get_average_speed\u001b[1;34m(self)\u001b[0m\n\u001b[0;32m    242\u001b[0m     \u001b[39mreturn\u001b[39;00m \u001b[39m1.0\u001b[39m\n\u001b[0;32m    243\u001b[0m \u001b[39mfor\u001b[39;00m v \u001b[39min\u001b[39;00m vehs:\n\u001b[1;32m--> 244\u001b[0m     avg_speed \u001b[39m+\u001b[39m\u001b[39m=\u001b[39m \u001b[39mself\u001b[39m\u001b[39m.\u001b[39msumo\u001b[39m.\u001b[39mvehicle\u001b[39m.\u001b[39mgetSpeed(v) \u001b[39m/\u001b[39m \u001b[39mself\u001b[39;49m\u001b[39m.\u001b[39;49msumo\u001b[39m.\u001b[39;49mvehicle\u001b[39m.\u001b[39;49mgetAllowedSpeed(v)\n\u001b[0;32m    245\u001b[0m \u001b[39mreturn\u001b[39;00m avg_speed \u001b[39m/\u001b[39m \u001b[39mlen\u001b[39m(vehs)\n",
      "File \u001b[1;32mC:\\Program Files (x86)\\Eclipse\\Sumo\\tools\\traci\\_vehicle.py:474\u001b[0m, in \u001b[0;36mVehicleDomain.getAllowedSpeed\u001b[1;34m(self, vehID)\u001b[0m\n\u001b[0;32m    469\u001b[0m \u001b[39mdef\u001b[39;00m \u001b[39mgetAllowedSpeed\u001b[39m(\u001b[39mself\u001b[39m, vehID):\n\u001b[0;32m    470\u001b[0m \u001b[39m    \u001b[39m\u001b[39m\"\"\"getAllowedSpeed(string) -> double\u001b[39;00m\n\u001b[0;32m    471\u001b[0m \n\u001b[0;32m    472\u001b[0m \u001b[39m    Returns the maximum allowed speed on the current lane regarding speed factor in m/s for this vehicle.\u001b[39;00m\n\u001b[0;32m    473\u001b[0m \u001b[39m    \"\"\"\u001b[39;00m\n\u001b[1;32m--> 474\u001b[0m     \u001b[39mreturn\u001b[39;00m \u001b[39mself\u001b[39;49m\u001b[39m.\u001b[39;49m_getUniversal(tc\u001b[39m.\u001b[39;49mVAR_ALLOWED_SPEED, vehID)\n",
      "File \u001b[1;32mC:\\Program Files (x86)\\Eclipse\\Sumo\\tools\\traci\\domain.py:147\u001b[0m, in \u001b[0;36mDomain._getUniversal\u001b[1;34m(self, varID, objectID, format, *values)\u001b[0m\n\u001b[0;32m    145\u001b[0m \u001b[39mif\u001b[39;00m \u001b[39mself\u001b[39m\u001b[39m.\u001b[39m_deprecatedFor:\n\u001b[0;32m    146\u001b[0m     warnings\u001b[39m.\u001b[39mwarn(\u001b[39m\"\u001b[39m\u001b[39mThe domain \u001b[39m\u001b[39m%s\u001b[39;00m\u001b[39m is deprecated, use \u001b[39m\u001b[39m%s\u001b[39;00m\u001b[39m instead.\u001b[39m\u001b[39m\"\u001b[39m \u001b[39m%\u001b[39m (\u001b[39mself\u001b[39m\u001b[39m.\u001b[39m_name, \u001b[39mself\u001b[39m\u001b[39m.\u001b[39m_deprecatedFor))\n\u001b[1;32m--> 147\u001b[0m \u001b[39mreturn\u001b[39;00m _parse(\u001b[39mself\u001b[39m\u001b[39m.\u001b[39m_retValFunc, varID, \u001b[39mself\u001b[39;49m\u001b[39m.\u001b[39;49m_getCmd(varID, objectID, \u001b[39mformat\u001b[39;49m, \u001b[39m*\u001b[39;49mvalues))\n",
      "File \u001b[1;32mC:\\Program Files (x86)\\Eclipse\\Sumo\\tools\\traci\\domain.py:152\u001b[0m, in \u001b[0;36mDomain._getCmd\u001b[1;34m(self, varID, objID, format, *values)\u001b[0m\n\u001b[0;32m    150\u001b[0m \u001b[39mif\u001b[39;00m \u001b[39mself\u001b[39m\u001b[39m.\u001b[39m_connection \u001b[39mis\u001b[39;00m \u001b[39mNone\u001b[39;00m:\n\u001b[0;32m    151\u001b[0m     \u001b[39mraise\u001b[39;00m FatalTraCIError(\u001b[39m\"\u001b[39m\u001b[39mNot connected.\u001b[39m\u001b[39m\"\u001b[39m)\n\u001b[1;32m--> 152\u001b[0m r \u001b[39m=\u001b[39m \u001b[39mself\u001b[39;49m\u001b[39m.\u001b[39;49m_connection\u001b[39m.\u001b[39;49m_sendCmd(\u001b[39mself\u001b[39;49m\u001b[39m.\u001b[39;49m_cmdGetID, varID, objID, \u001b[39mformat\u001b[39;49m, \u001b[39m*\u001b[39;49mvalues)\n\u001b[0;32m    153\u001b[0m r\u001b[39m.\u001b[39mreadLength()\n\u001b[0;32m    154\u001b[0m response, retVarID \u001b[39m=\u001b[39m r\u001b[39m.\u001b[39mread(\u001b[39m\"\u001b[39m\u001b[39m!BB\u001b[39m\u001b[39m\"\u001b[39m)\n",
      "File \u001b[1;32mC:\\Program Files (x86)\\Eclipse\\Sumo\\tools\\traci\\connection.py:189\u001b[0m, in \u001b[0;36mConnection._sendCmd\u001b[1;34m(self, cmdID, varID, objID, format, *values)\u001b[0m\n\u001b[0;32m    187\u001b[0m     \u001b[39mself\u001b[39m\u001b[39m.\u001b[39m_string \u001b[39m+\u001b[39m\u001b[39m=\u001b[39m struct\u001b[39m.\u001b[39mpack(\u001b[39m\"\u001b[39m\u001b[39m!i\u001b[39m\u001b[39m\"\u001b[39m, \u001b[39mlen\u001b[39m(objID)) \u001b[39m+\u001b[39m objID\u001b[39m.\u001b[39mencode(\u001b[39m\"\u001b[39m\u001b[39mlatin1\u001b[39m\u001b[39m\"\u001b[39m)\n\u001b[0;32m    188\u001b[0m \u001b[39mself\u001b[39m\u001b[39m.\u001b[39m_string \u001b[39m+\u001b[39m\u001b[39m=\u001b[39m packed\n\u001b[1;32m--> 189\u001b[0m \u001b[39mreturn\u001b[39;00m \u001b[39mself\u001b[39;49m\u001b[39m.\u001b[39;49m_sendExact()\n",
      "File \u001b[1;32mC:\\Program Files (x86)\\Eclipse\\Sumo\\tools\\traci\\connection.py:93\u001b[0m, in \u001b[0;36mConnection._sendExact\u001b[1;34m(self)\u001b[0m\n\u001b[0;32m     91\u001b[0m     \u001b[39mprint\u001b[39m(\u001b[39m\"\u001b[39m\u001b[39msending\u001b[39m\u001b[39m\"\u001b[39m, Storage(length \u001b[39m+\u001b[39m \u001b[39mself\u001b[39m\u001b[39m.\u001b[39m_string)\u001b[39m.\u001b[39mgetDebugString())\n\u001b[0;32m     92\u001b[0m \u001b[39mself\u001b[39m\u001b[39m.\u001b[39m_socket\u001b[39m.\u001b[39msend(length \u001b[39m+\u001b[39m \u001b[39mself\u001b[39m\u001b[39m.\u001b[39m_string)\n\u001b[1;32m---> 93\u001b[0m result \u001b[39m=\u001b[39m \u001b[39mself\u001b[39;49m\u001b[39m.\u001b[39;49m_recvExact()\n\u001b[0;32m     94\u001b[0m \u001b[39mif\u001b[39;00m _DEBUG:\n\u001b[0;32m     95\u001b[0m     \u001b[39mprint\u001b[39m(\u001b[39m\"\u001b[39m\u001b[39mreceiving\u001b[39m\u001b[39m\"\u001b[39m, result\u001b[39m.\u001b[39mgetDebugString())\n",
      "File \u001b[1;32mC:\\Program Files (x86)\\Eclipse\\Sumo\\tools\\traci\\connection.py:71\u001b[0m, in \u001b[0;36mConnection._recvExact\u001b[1;34m(self)\u001b[0m\n\u001b[0;32m     69\u001b[0m result \u001b[39m=\u001b[39m \u001b[39mbytes\u001b[39m()\n\u001b[0;32m     70\u001b[0m \u001b[39mwhile\u001b[39;00m \u001b[39mlen\u001b[39m(result) \u001b[39m<\u001b[39m \u001b[39m4\u001b[39m:\n\u001b[1;32m---> 71\u001b[0m     t \u001b[39m=\u001b[39m \u001b[39mself\u001b[39;49m\u001b[39m.\u001b[39;49m_socket\u001b[39m.\u001b[39;49mrecv(\u001b[39m4\u001b[39;49m \u001b[39m-\u001b[39;49m \u001b[39mlen\u001b[39;49m(result))\n\u001b[0;32m     72\u001b[0m     \u001b[39mif\u001b[39;00m \u001b[39mnot\u001b[39;00m t:\n\u001b[0;32m     73\u001b[0m         \u001b[39mreturn\u001b[39;00m \u001b[39mNone\u001b[39;00m\n",
      "\u001b[1;31mKeyboardInterrupt\u001b[0m: "
     ]
    }
   ],
   "source": [
    "# Evaluate untrained random agent\n",
    "mean_reward, std_reward = evaluate_policy(model, env, n_eval_episodes=1)\n",
    "\n",
    "print(mean_reward)\n",
    "print(std_reward)"
   ]
  },
  {
   "cell_type": "code",
   "execution_count": null,
   "metadata": {},
   "outputs": [],
   "source": [
    "model.learn(total_timesteps=5e4)"
   ]
  },
  {
   "cell_type": "code",
   "execution_count": null,
   "metadata": {},
   "outputs": [],
   "source": [
    "# Evaluate trained agent\n",
    "mean_reward, std_reward = evaluate_policy(model, env, n_eval_episodes=1)\n",
    "\n",
    "print(mean_reward)\n",
    "print(std_reward)"
   ]
  }
 ],
 "metadata": {
  "kernelspec": {
   "display_name": "rl",
   "language": "python",
   "name": "python3"
  },
  "language_info": {
   "codemirror_mode": {
    "name": "ipython",
    "version": 3
   },
   "file_extension": ".py",
   "mimetype": "text/x-python",
   "name": "python",
   "nbconvert_exporter": "python",
   "pygments_lexer": "ipython3",
   "version": "3.9.15"
  },
  "orig_nbformat": 4,
  "vscode": {
   "interpreter": {
    "hash": "732c5edff638c91026cc37889b73c340773ecf599b6624077a4552d06a9ec22c"
   }
  }
 },
 "nbformat": 4,
 "nbformat_minor": 2
}
