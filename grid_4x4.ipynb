{
 "cells": [
  {
   "attachments": {},
   "cell_type": "markdown",
   "metadata": {},
   "source": [
    "#  Grid4x4"
   ]
  },
  {
   "cell_type": "code",
   "execution_count": 13,
   "metadata": {},
   "outputs": [],
   "source": [
    "import os\n",
    "\n",
    "from stable_baselines3 import PPO\n",
    "from stable_baselines3.common.env_checker import check_env\n",
    "from stable_baselines3.common.vec_env import VecMonitor\n",
    "from sumo_rl import parallel_env\n",
    "import supersuit as ss\n",
    "\n",
    "from evaluate import evaluate"
   ]
  },
  {
   "cell_type": "code",
   "execution_count": 14,
   "metadata": {},
   "outputs": [],
   "source": [
    "TEST_NUM = 1"
   ]
  },
  {
   "attachments": {},
   "cell_type": "markdown",
   "metadata": {},
   "source": [
    "## Create Environment and Instantiate Agent"
   ]
  },
  {
   "cell_type": "code",
   "execution_count": 15,
   "metadata": {},
   "outputs": [],
   "source": [
    "from pettingzoo.test import parallel_api_test\n",
    "from reward_functions import diff_wait_time\n",
    "\n",
    "env_params = {\n",
    "    \"net_file\": os.path.join(\"nets\",\"RESCO\",\"grid4x4\",\"grid4x4.net.xml\"),\n",
    "    \"route_file\": os.path.join(\"nets\",\"RESCO\",\"grid4x4\",\"grid4x4_1.rou.xml\"),\n",
    "    \"num_seconds\": 3600,\n",
    "    \"reward_fn\": diff_wait_time,\n",
    "    \"sumo_seed\": 42,\n",
    "}\n",
    "env = parallel_env(**env_params)\n",
    "\n",
    "parallel_api_test(env, num_cycles=10)\n",
    "\n",
    "# Maybe add frame-stacking here\n",
    "env = ss.pettingzoo_env_to_vec_env_v1(env)\n",
    "env = ss.concat_vec_envs_v1(env, 8, num_cpus=1, base_class=\"stable_baselines3\")\n",
    "env = VecMonitor(env)"
   ]
  },
  {
   "cell_type": "code",
   "execution_count": 16,
   "metadata": {},
   "outputs": [
    {
     "name": "stdout",
     "output_type": "stream",
     "text": [
      "Using cuda device\n"
     ]
    }
   ],
   "source": [
    "# Using hyperparams from RESCO supplement/appendix Table 5\n",
    "# https://datasets-benchmarks-proceedings.neurips.cc/paper/2021/hash/f0935e4cd5920aa6c7c996a5ee53a70f-Abstract-round1.html\n",
    "\n",
    "model = PPO(\n",
    "    \"MlpPolicy\",\n",
    "    env,\n",
    "    learning_rate=2.5e-4,\n",
    "    n_steps=1024,\n",
    "    batch_size=256,\n",
    "    n_epochs=4,\n",
    "    gamma=0.99,\n",
    "    gae_lambda=0.95,\n",
    "    clip_range=0.1,\n",
    "    ent_coef=1e-3,\n",
    "    max_grad_norm=0.5,\n",
    "    tensorboard_log=os.path.join(\"logs\",\"grid4x4\"),\n",
    "    verbose=1\n",
    ")"
   ]
  },
  {
   "cell_type": "code",
   "execution_count": 5,
   "metadata": {},
   "outputs": [
    {
     "name": "stdout",
     "output_type": "stream",
     "text": [
      "-107404.0\n",
      "0.0\n"
     ]
    }
   ],
   "source": [
    "# Evaluate untrained random agent\n",
    "csv_dir = os.path.join(\"outputs\",\"grid4x4\",f\"test_{TEST_NUM}\")\n",
    "if not os.path.exists(csv_dir):\n",
    "    os.makedirs(csv_dir)\n",
    "\n",
    "csv_path = os.path.join(csv_dir, \"untrained.csv\")\n",
    "tb_log_dir = os.path.join(\"logs\",\"grid4x4\",\"eval_untrained\")\n",
    "\n",
    "mean_untrained_reward, std_untrained_reward = evaluate(model, env, csv_path, tb_log_dir, n_eval_episodes=1)\n",
    "\n",
    "# Change made to SB3 > common > vec_env > vec_monitor.py > VecMonitor\n",
    "# Line 76 - added extra item to self.venv.step_wait() return\n",
    "# obs, rewards, dones, infos --> obs, rewards, dones, _, infos\n",
    "\n",
    "print(mean_untrained_reward)\n",
    "print(std_untrained_reward)"
   ]
  },
  {
   "attachments": {},
   "cell_type": "markdown",
   "metadata": {},
   "source": [
    "## Train and Evaluate Agent"
   ]
  },
  {
   "cell_type": "code",
   "execution_count": 18,
   "metadata": {},
   "outputs": [
    {
     "ename": "KeyboardInterrupt",
     "evalue": "",
     "output_type": "error",
     "traceback": [
      "\u001b[1;31m---------------------------------------------------------------------------\u001b[0m",
      "\u001b[1;31mKeyboardInterrupt\u001b[0m                         Traceback (most recent call last)",
      "Cell \u001b[1;32mIn[18], line 1\u001b[0m\n\u001b[1;32m----> 1\u001b[0m model\u001b[39m.\u001b[39;49mlearn(total_timesteps\u001b[39m=\u001b[39;49m\u001b[39m3600\u001b[39;49m)\n",
      "File \u001b[1;32mc:\\Users\\Justin Mak\\anaconda3\\envs\\rl\\lib\\site-packages\\stable_baselines3\\ppo\\ppo.py:308\u001b[0m, in \u001b[0;36mPPO.learn\u001b[1;34m(self, total_timesteps, callback, log_interval, tb_log_name, reset_num_timesteps, progress_bar)\u001b[0m\n\u001b[0;32m    299\u001b[0m \u001b[39mdef\u001b[39;00m \u001b[39mlearn\u001b[39m(\n\u001b[0;32m    300\u001b[0m     \u001b[39mself\u001b[39m: SelfPPO,\n\u001b[0;32m    301\u001b[0m     total_timesteps: \u001b[39mint\u001b[39m,\n\u001b[1;32m   (...)\u001b[0m\n\u001b[0;32m    306\u001b[0m     progress_bar: \u001b[39mbool\u001b[39m \u001b[39m=\u001b[39m \u001b[39mFalse\u001b[39;00m,\n\u001b[0;32m    307\u001b[0m ) \u001b[39m-\u001b[39m\u001b[39m>\u001b[39m SelfPPO:\n\u001b[1;32m--> 308\u001b[0m     \u001b[39mreturn\u001b[39;00m \u001b[39msuper\u001b[39;49m()\u001b[39m.\u001b[39;49mlearn(\n\u001b[0;32m    309\u001b[0m         total_timesteps\u001b[39m=\u001b[39;49mtotal_timesteps,\n\u001b[0;32m    310\u001b[0m         callback\u001b[39m=\u001b[39;49mcallback,\n\u001b[0;32m    311\u001b[0m         log_interval\u001b[39m=\u001b[39;49mlog_interval,\n\u001b[0;32m    312\u001b[0m         tb_log_name\u001b[39m=\u001b[39;49mtb_log_name,\n\u001b[0;32m    313\u001b[0m         reset_num_timesteps\u001b[39m=\u001b[39;49mreset_num_timesteps,\n\u001b[0;32m    314\u001b[0m         progress_bar\u001b[39m=\u001b[39;49mprogress_bar,\n\u001b[0;32m    315\u001b[0m     )\n",
      "File \u001b[1;32mc:\\Users\\Justin Mak\\anaconda3\\envs\\rl\\lib\\site-packages\\stable_baselines3\\common\\on_policy_algorithm.py:246\u001b[0m, in \u001b[0;36mOnPolicyAlgorithm.learn\u001b[1;34m(self, total_timesteps, callback, log_interval, tb_log_name, reset_num_timesteps, progress_bar)\u001b[0m\n\u001b[0;32m    235\u001b[0m \u001b[39mdef\u001b[39;00m \u001b[39mlearn\u001b[39m(\n\u001b[0;32m    236\u001b[0m     \u001b[39mself\u001b[39m: SelfOnPolicyAlgorithm,\n\u001b[0;32m    237\u001b[0m     total_timesteps: \u001b[39mint\u001b[39m,\n\u001b[1;32m   (...)\u001b[0m\n\u001b[0;32m    242\u001b[0m     progress_bar: \u001b[39mbool\u001b[39m \u001b[39m=\u001b[39m \u001b[39mFalse\u001b[39;00m,\n\u001b[0;32m    243\u001b[0m ) \u001b[39m-\u001b[39m\u001b[39m>\u001b[39m SelfOnPolicyAlgorithm:\n\u001b[0;32m    244\u001b[0m     iteration \u001b[39m=\u001b[39m \u001b[39m0\u001b[39m\n\u001b[1;32m--> 246\u001b[0m     total_timesteps, callback \u001b[39m=\u001b[39m \u001b[39mself\u001b[39;49m\u001b[39m.\u001b[39;49m_setup_learn(\n\u001b[0;32m    247\u001b[0m         total_timesteps,\n\u001b[0;32m    248\u001b[0m         callback,\n\u001b[0;32m    249\u001b[0m         reset_num_timesteps,\n\u001b[0;32m    250\u001b[0m         tb_log_name,\n\u001b[0;32m    251\u001b[0m         progress_bar,\n\u001b[0;32m    252\u001b[0m     )\n\u001b[0;32m    254\u001b[0m     callback\u001b[39m.\u001b[39mon_training_start(\u001b[39mlocals\u001b[39m(), \u001b[39mglobals\u001b[39m())\n\u001b[0;32m    256\u001b[0m     \u001b[39massert\u001b[39;00m \u001b[39mself\u001b[39m\u001b[39m.\u001b[39menv \u001b[39mis\u001b[39;00m \u001b[39mnot\u001b[39;00m \u001b[39mNone\u001b[39;00m\n",
      "File \u001b[1;32mc:\\Users\\Justin Mak\\anaconda3\\envs\\rl\\lib\\site-packages\\stable_baselines3\\common\\base_class.py:424\u001b[0m, in \u001b[0;36mBaseAlgorithm._setup_learn\u001b[1;34m(self, total_timesteps, callback, reset_num_timesteps, tb_log_name, progress_bar)\u001b[0m\n\u001b[0;32m    422\u001b[0m \u001b[39massert\u001b[39;00m \u001b[39mself\u001b[39m\u001b[39m.\u001b[39menv \u001b[39mis\u001b[39;00m \u001b[39mnot\u001b[39;00m \u001b[39mNone\u001b[39;00m\n\u001b[0;32m    423\u001b[0m \u001b[39m# pytype: disable=annotation-type-mismatch\u001b[39;00m\n\u001b[1;32m--> 424\u001b[0m \u001b[39mself\u001b[39m\u001b[39m.\u001b[39m_last_obs \u001b[39m=\u001b[39m \u001b[39mself\u001b[39;49m\u001b[39m.\u001b[39;49menv\u001b[39m.\u001b[39;49mreset()  \u001b[39m# type: ignore[assignment]\u001b[39;00m\n\u001b[0;32m    425\u001b[0m \u001b[39m# pytype: enable=annotation-type-mismatch\u001b[39;00m\n\u001b[0;32m    426\u001b[0m \u001b[39mself\u001b[39m\u001b[39m.\u001b[39m_last_episode_starts \u001b[39m=\u001b[39m np\u001b[39m.\u001b[39mones((\u001b[39mself\u001b[39m\u001b[39m.\u001b[39menv\u001b[39m.\u001b[39mnum_envs,), dtype\u001b[39m=\u001b[39m\u001b[39mbool\u001b[39m)\n",
      "File \u001b[1;32mc:\\Users\\Justin Mak\\anaconda3\\envs\\rl\\lib\\site-packages\\stable_baselines3\\common\\vec_env\\vec_monitor.py:70\u001b[0m, in \u001b[0;36mVecMonitor.reset\u001b[1;34m(self)\u001b[0m\n\u001b[0;32m     69\u001b[0m \u001b[39mdef\u001b[39;00m \u001b[39mreset\u001b[39m(\u001b[39mself\u001b[39m) \u001b[39m-\u001b[39m\u001b[39m>\u001b[39m VecEnvObs:\n\u001b[1;32m---> 70\u001b[0m     obs \u001b[39m=\u001b[39m \u001b[39mself\u001b[39;49m\u001b[39m.\u001b[39;49mvenv\u001b[39m.\u001b[39;49mreset()\n\u001b[0;32m     71\u001b[0m     \u001b[39mself\u001b[39m\u001b[39m.\u001b[39mepisode_returns \u001b[39m=\u001b[39m np\u001b[39m.\u001b[39mzeros(\u001b[39mself\u001b[39m\u001b[39m.\u001b[39mnum_envs, dtype\u001b[39m=\u001b[39mnp\u001b[39m.\u001b[39mfloat32)\n\u001b[0;32m     72\u001b[0m     \u001b[39mself\u001b[39m\u001b[39m.\u001b[39mepisode_lengths \u001b[39m=\u001b[39m np\u001b[39m.\u001b[39mzeros(\u001b[39mself\u001b[39m\u001b[39m.\u001b[39mnum_envs, dtype\u001b[39m=\u001b[39mnp\u001b[39m.\u001b[39mint32)\n",
      "File \u001b[1;32mc:\\Users\\Justin Mak\\anaconda3\\envs\\rl\\lib\\site-packages\\supersuit\\vector\\sb3_vector_wrapper.py:14\u001b[0m, in \u001b[0;36mSB3VecEnvWrapper.reset\u001b[1;34m(self, seed, options)\u001b[0m\n\u001b[0;32m     12\u001b[0m \u001b[39mif\u001b[39;00m seed \u001b[39mis\u001b[39;00m \u001b[39mnot\u001b[39;00m \u001b[39mNone\u001b[39;00m:\n\u001b[0;32m     13\u001b[0m     \u001b[39mself\u001b[39m\u001b[39m.\u001b[39mseed(seed\u001b[39m=\u001b[39mseed)\n\u001b[1;32m---> 14\u001b[0m \u001b[39mreturn\u001b[39;00m \u001b[39mself\u001b[39;49m\u001b[39m.\u001b[39;49mvenv\u001b[39m.\u001b[39;49mreset()\n",
      "File \u001b[1;32mc:\\Users\\Justin Mak\\anaconda3\\envs\\rl\\lib\\site-packages\\supersuit\\vector\\concat_vec_env.py:41\u001b[0m, in \u001b[0;36mConcatVecEnv.reset\u001b[1;34m(self, seed, options)\u001b[0m\n\u001b[0;32m     39\u001b[0m         _res_obs\u001b[39m.\u001b[39mappend(_obs)\n\u001b[0;32m     40\u001b[0m \u001b[39melse\u001b[39;00m:\n\u001b[1;32m---> 41\u001b[0m     _res_obs \u001b[39m=\u001b[39m [\n\u001b[0;32m     42\u001b[0m         vec_env\u001b[39m.\u001b[39mreset(seed\u001b[39m=\u001b[39m\u001b[39mNone\u001b[39;00m, options\u001b[39m=\u001b[39moptions) \u001b[39mfor\u001b[39;00m vec_env \u001b[39min\u001b[39;00m \u001b[39mself\u001b[39m\u001b[39m.\u001b[39mvec_envs\n\u001b[0;32m     43\u001b[0m     ]\n\u001b[0;32m     45\u001b[0m \u001b[39mreturn\u001b[39;00m \u001b[39mself\u001b[39m\u001b[39m.\u001b[39mconcat_obs(_res_obs)\n",
      "File \u001b[1;32mc:\\Users\\Justin Mak\\anaconda3\\envs\\rl\\lib\\site-packages\\supersuit\\vector\\concat_vec_env.py:42\u001b[0m, in \u001b[0;36m<listcomp>\u001b[1;34m(.0)\u001b[0m\n\u001b[0;32m     39\u001b[0m         _res_obs\u001b[39m.\u001b[39mappend(_obs)\n\u001b[0;32m     40\u001b[0m \u001b[39melse\u001b[39;00m:\n\u001b[0;32m     41\u001b[0m     _res_obs \u001b[39m=\u001b[39m [\n\u001b[1;32m---> 42\u001b[0m         vec_env\u001b[39m.\u001b[39;49mreset(seed\u001b[39m=\u001b[39;49m\u001b[39mNone\u001b[39;49;00m, options\u001b[39m=\u001b[39;49moptions) \u001b[39mfor\u001b[39;00m vec_env \u001b[39min\u001b[39;00m \u001b[39mself\u001b[39m\u001b[39m.\u001b[39mvec_envs\n\u001b[0;32m     43\u001b[0m     ]\n\u001b[0;32m     45\u001b[0m \u001b[39mreturn\u001b[39;00m \u001b[39mself\u001b[39m\u001b[39m.\u001b[39mconcat_obs(_res_obs)\n",
      "File \u001b[1;32mc:\\Users\\Justin Mak\\anaconda3\\envs\\rl\\lib\\site-packages\\supersuit\\vector\\markov_vector_wrapper.py:55\u001b[0m, in \u001b[0;36mMarkovVectorEnv.reset\u001b[1;34m(self, seed, options)\u001b[0m\n\u001b[0;32m     54\u001b[0m \u001b[39mdef\u001b[39;00m \u001b[39mreset\u001b[39m(\u001b[39mself\u001b[39m, seed\u001b[39m=\u001b[39m\u001b[39mNone\u001b[39;00m, options\u001b[39m=\u001b[39m\u001b[39mNone\u001b[39;00m):\n\u001b[1;32m---> 55\u001b[0m     _observations \u001b[39m=\u001b[39m \u001b[39mself\u001b[39;49m\u001b[39m.\u001b[39;49mpar_env\u001b[39m.\u001b[39;49mreset(seed\u001b[39m=\u001b[39;49mseed, options\u001b[39m=\u001b[39;49moptions)\n\u001b[0;32m     56\u001b[0m     observations \u001b[39m=\u001b[39m \u001b[39mself\u001b[39m\u001b[39m.\u001b[39mconcat_obs(_observations)\n\u001b[0;32m     57\u001b[0m     \u001b[39mreturn\u001b[39;00m observations\n",
      "File \u001b[1;32mc:\\Users\\Justin Mak\\anaconda3\\envs\\rl\\lib\\site-packages\\pettingzoo\\utils\\conversions.py:126\u001b[0m, in \u001b[0;36maec_to_parallel_wrapper.reset\u001b[1;34m(self, seed, return_info, options)\u001b[0m\n\u001b[0;32m    125\u001b[0m \u001b[39mdef\u001b[39;00m \u001b[39mreset\u001b[39m(\u001b[39mself\u001b[39m, seed\u001b[39m=\u001b[39m\u001b[39mNone\u001b[39;00m, return_info\u001b[39m=\u001b[39m\u001b[39mFalse\u001b[39;00m, options\u001b[39m=\u001b[39m\u001b[39mNone\u001b[39;00m):\n\u001b[1;32m--> 126\u001b[0m     \u001b[39mself\u001b[39;49m\u001b[39m.\u001b[39;49maec_env\u001b[39m.\u001b[39;49mreset(seed\u001b[39m=\u001b[39;49mseed, return_info\u001b[39m=\u001b[39;49mreturn_info, options\u001b[39m=\u001b[39;49moptions)\n\u001b[0;32m    127\u001b[0m     \u001b[39mself\u001b[39m\u001b[39m.\u001b[39magents \u001b[39m=\u001b[39m \u001b[39mself\u001b[39m\u001b[39m.\u001b[39maec_env\u001b[39m.\u001b[39magents[:]\n\u001b[0;32m    128\u001b[0m     observations \u001b[39m=\u001b[39m {\n\u001b[0;32m    129\u001b[0m         agent: \u001b[39mself\u001b[39m\u001b[39m.\u001b[39maec_env\u001b[39m.\u001b[39mobserve(agent)\n\u001b[0;32m    130\u001b[0m         \u001b[39mfor\u001b[39;00m agent \u001b[39min\u001b[39;00m \u001b[39mself\u001b[39m\u001b[39m.\u001b[39maec_env\u001b[39m.\u001b[39magents\n\u001b[0;32m    131\u001b[0m         \u001b[39mif\u001b[39;00m \u001b[39mnot\u001b[39;00m (\u001b[39mself\u001b[39m\u001b[39m.\u001b[39maec_env\u001b[39m.\u001b[39mterminations[agent] \u001b[39mor\u001b[39;00m \u001b[39mself\u001b[39m\u001b[39m.\u001b[39maec_env\u001b[39m.\u001b[39mtruncations[agent])\n\u001b[0;32m    132\u001b[0m     }\n",
      "File \u001b[1;32mc:\\Users\\Justin Mak\\anaconda3\\envs\\rl\\lib\\site-packages\\pettingzoo\\utils\\wrappers\\order_enforcing.py:95\u001b[0m, in \u001b[0;36mOrderEnforcingWrapper.reset\u001b[1;34m(self, seed, return_info, options)\u001b[0m\n\u001b[0;32m     93\u001b[0m \u001b[39mself\u001b[39m\u001b[39m.\u001b[39m_has_reset \u001b[39m=\u001b[39m \u001b[39mTrue\u001b[39;00m\n\u001b[0;32m     94\u001b[0m \u001b[39mself\u001b[39m\u001b[39m.\u001b[39m_has_updated \u001b[39m=\u001b[39m \u001b[39mTrue\u001b[39;00m\n\u001b[1;32m---> 95\u001b[0m \u001b[39msuper\u001b[39;49m()\u001b[39m.\u001b[39;49mreset(seed\u001b[39m=\u001b[39;49mseed, options\u001b[39m=\u001b[39;49moptions)\n",
      "File \u001b[1;32mc:\\Users\\Justin Mak\\anaconda3\\envs\\rl\\lib\\site-packages\\pettingzoo\\utils\\wrappers\\base.py:91\u001b[0m, in \u001b[0;36mBaseWrapper.reset\u001b[1;34m(self, seed, return_info, options)\u001b[0m\n\u001b[0;32m     90\u001b[0m \u001b[39mdef\u001b[39;00m \u001b[39mreset\u001b[39m(\u001b[39mself\u001b[39m, seed\u001b[39m=\u001b[39m\u001b[39mNone\u001b[39;00m, return_info\u001b[39m=\u001b[39m\u001b[39mFalse\u001b[39;00m, options\u001b[39m=\u001b[39m\u001b[39mNone\u001b[39;00m):\n\u001b[1;32m---> 91\u001b[0m     \u001b[39mself\u001b[39;49m\u001b[39m.\u001b[39;49menv\u001b[39m.\u001b[39;49mreset(seed\u001b[39m=\u001b[39;49mseed, options\u001b[39m=\u001b[39;49moptions)\n\u001b[0;32m     93\u001b[0m     \u001b[39mself\u001b[39m\u001b[39m.\u001b[39magent_selection \u001b[39m=\u001b[39m \u001b[39mself\u001b[39m\u001b[39m.\u001b[39menv\u001b[39m.\u001b[39magent_selection\n\u001b[0;32m     94\u001b[0m     \u001b[39mself\u001b[39m\u001b[39m.\u001b[39mrewards \u001b[39m=\u001b[39m \u001b[39mself\u001b[39m\u001b[39m.\u001b[39menv\u001b[39m.\u001b[39mrewards\n",
      "File \u001b[1;32mc:\\Users\\Justin Mak\\anaconda3\\envs\\rl\\lib\\site-packages\\pettingzoo\\utils\\wrappers\\base.py:91\u001b[0m, in \u001b[0;36mBaseWrapper.reset\u001b[1;34m(self, seed, return_info, options)\u001b[0m\n\u001b[0;32m     90\u001b[0m \u001b[39mdef\u001b[39;00m \u001b[39mreset\u001b[39m(\u001b[39mself\u001b[39m, seed\u001b[39m=\u001b[39m\u001b[39mNone\u001b[39;00m, return_info\u001b[39m=\u001b[39m\u001b[39mFalse\u001b[39;00m, options\u001b[39m=\u001b[39m\u001b[39mNone\u001b[39;00m):\n\u001b[1;32m---> 91\u001b[0m     \u001b[39mself\u001b[39;49m\u001b[39m.\u001b[39;49menv\u001b[39m.\u001b[39;49mreset(seed\u001b[39m=\u001b[39;49mseed, options\u001b[39m=\u001b[39;49moptions)\n\u001b[0;32m     93\u001b[0m     \u001b[39mself\u001b[39m\u001b[39m.\u001b[39magent_selection \u001b[39m=\u001b[39m \u001b[39mself\u001b[39m\u001b[39m.\u001b[39menv\u001b[39m.\u001b[39magent_selection\n\u001b[0;32m     94\u001b[0m     \u001b[39mself\u001b[39m\u001b[39m.\u001b[39mrewards \u001b[39m=\u001b[39m \u001b[39mself\u001b[39m\u001b[39m.\u001b[39menv\u001b[39m.\u001b[39mrewards\n",
      "File \u001b[1;32mc:\\Users\\Justin Mak\\anaconda3\\envs\\rl\\lib\\site-packages\\sumo_rl\\environment\\env.py:527\u001b[0m, in \u001b[0;36mSumoEnvironmentPZ.reset\u001b[1;34m(self, seed, options)\u001b[0m\n\u001b[0;32m    525\u001b[0m \u001b[39mdef\u001b[39;00m \u001b[39mreset\u001b[39m(\u001b[39mself\u001b[39m, seed: Optional[\u001b[39mint\u001b[39m] \u001b[39m=\u001b[39m \u001b[39mNone\u001b[39;00m, options: Optional[\u001b[39mdict\u001b[39m] \u001b[39m=\u001b[39m \u001b[39mNone\u001b[39;00m):\n\u001b[0;32m    526\u001b[0m \u001b[39m    \u001b[39m\u001b[39m\"\"\"Reset the environment.\"\"\"\u001b[39;00m\n\u001b[1;32m--> 527\u001b[0m     \u001b[39mself\u001b[39;49m\u001b[39m.\u001b[39;49menv\u001b[39m.\u001b[39;49mreset(seed\u001b[39m=\u001b[39;49mseed, options\u001b[39m=\u001b[39;49moptions)\n\u001b[0;32m    528\u001b[0m     \u001b[39mself\u001b[39m\u001b[39m.\u001b[39magents \u001b[39m=\u001b[39m \u001b[39mself\u001b[39m\u001b[39m.\u001b[39mpossible_agents[:]\n\u001b[0;32m    529\u001b[0m     \u001b[39mself\u001b[39m\u001b[39m.\u001b[39magent_selection \u001b[39m=\u001b[39m \u001b[39mself\u001b[39m\u001b[39m.\u001b[39m_agent_selector\u001b[39m.\u001b[39mreset()\n",
      "File \u001b[1;32mc:\\Users\\Justin Mak\\anaconda3\\envs\\rl\\lib\\site-packages\\sumo_rl\\environment\\env.py:253\u001b[0m, in \u001b[0;36mSumoEnvironment.reset\u001b[1;34m(self, seed, **kwargs)\u001b[0m\n\u001b[0;32m    251\u001b[0m \u001b[39mif\u001b[39;00m seed \u001b[39mis\u001b[39;00m \u001b[39mnot\u001b[39;00m \u001b[39mNone\u001b[39;00m:\n\u001b[0;32m    252\u001b[0m     \u001b[39mself\u001b[39m\u001b[39m.\u001b[39msumo_seed \u001b[39m=\u001b[39m seed\n\u001b[1;32m--> 253\u001b[0m \u001b[39mself\u001b[39;49m\u001b[39m.\u001b[39;49m_start_simulation()\n\u001b[0;32m    255\u001b[0m \u001b[39mif\u001b[39;00m \u001b[39misinstance\u001b[39m(\u001b[39mself\u001b[39m\u001b[39m.\u001b[39mreward_fn, \u001b[39mdict\u001b[39m):\n\u001b[0;32m    256\u001b[0m     \u001b[39mself\u001b[39m\u001b[39m.\u001b[39mtraffic_signals \u001b[39m=\u001b[39m {\n\u001b[0;32m    257\u001b[0m         ts: TrafficSignal(\n\u001b[0;32m    258\u001b[0m             \u001b[39mself\u001b[39m,\n\u001b[1;32m   (...)\u001b[0m\n\u001b[0;32m    268\u001b[0m         \u001b[39mfor\u001b[39;00m ts \u001b[39min\u001b[39;00m \u001b[39mself\u001b[39m\u001b[39m.\u001b[39mreward_fn\u001b[39m.\u001b[39mkeys()\n\u001b[0;32m    269\u001b[0m     }\n",
      "File \u001b[1;32mc:\\Users\\Justin Mak\\anaconda3\\envs\\rl\\lib\\site-packages\\sumo_rl\\environment\\env.py:235\u001b[0m, in \u001b[0;36mSumoEnvironment._start_simulation\u001b[1;34m(self)\u001b[0m\n\u001b[0;32m    233\u001b[0m     \u001b[39mself\u001b[39m\u001b[39m.\u001b[39msumo \u001b[39m=\u001b[39m traci\n\u001b[0;32m    234\u001b[0m \u001b[39melse\u001b[39;00m:\n\u001b[1;32m--> 235\u001b[0m     traci\u001b[39m.\u001b[39;49mstart(sumo_cmd, label\u001b[39m=\u001b[39;49m\u001b[39mself\u001b[39;49m\u001b[39m.\u001b[39;49mlabel)\n\u001b[0;32m    236\u001b[0m     \u001b[39mself\u001b[39m\u001b[39m.\u001b[39msumo \u001b[39m=\u001b[39m traci\u001b[39m.\u001b[39mgetConnection(\u001b[39mself\u001b[39m\u001b[39m.\u001b[39mlabel)\n\u001b[0;32m    238\u001b[0m \u001b[39mif\u001b[39;00m \u001b[39mself\u001b[39m\u001b[39m.\u001b[39muse_gui \u001b[39mor\u001b[39;00m \u001b[39mself\u001b[39m\u001b[39m.\u001b[39mrender_mode \u001b[39mis\u001b[39;00m \u001b[39mnot\u001b[39;00m \u001b[39mNone\u001b[39;00m:\n",
      "File \u001b[1;32mC:\\Program Files (x86)\\Eclipse\\Sumo\\tools\\traci\\main.py:152\u001b[0m, in \u001b[0;36mstart\u001b[1;34m(cmd, port, numRetries, label, verbose, traceFile, traceGetters, stdout, doSwitch)\u001b[0m\n\u001b[0;32m    150\u001b[0m sumoProcess \u001b[39m=\u001b[39m subprocess\u001b[39m.\u001b[39mPopen(cmd2, stdout\u001b[39m=\u001b[39mstdout)\n\u001b[0;32m    151\u001b[0m \u001b[39mtry\u001b[39;00m:\n\u001b[1;32m--> 152\u001b[0m     result \u001b[39m=\u001b[39m init(sumoPort, numRetries, \u001b[39m\"\u001b[39;49m\u001b[39mlocalhost\u001b[39;49m\u001b[39m\"\u001b[39;49m, label, sumoProcess, doSwitch, traceFile, traceGetters)\n\u001b[0;32m    153\u001b[0m     \u001b[39mif\u001b[39;00m traceFile \u001b[39mis\u001b[39;00m \u001b[39mnot\u001b[39;00m \u001b[39mNone\u001b[39;00m:\n\u001b[0;32m    154\u001b[0m         _connections[label]\u001b[39m.\u001b[39mwrite(\u001b[39m\"\u001b[39m\u001b[39mstart\u001b[39m\u001b[39m\"\u001b[39m, \u001b[39m\"\u001b[39m\u001b[39m%s\u001b[39;00m\u001b[39m, port=\u001b[39m\u001b[39m%s\u001b[39;00m\u001b[39m, label=\u001b[39m\u001b[39m%s\u001b[39;00m\u001b[39m\"\u001b[39m \u001b[39m%\u001b[39m (\u001b[39mrepr\u001b[39m(cmd), \u001b[39mrepr\u001b[39m(port), \u001b[39mrepr\u001b[39m(label)))\n",
      "File \u001b[1;32mC:\\Program Files (x86)\\Eclipse\\Sumo\\tools\\traci\\main.py:124\u001b[0m, in \u001b[0;36minit\u001b[1;34m(port, numRetries, host, label, proc, doSwitch, traceFile, traceGetters)\u001b[0m\n\u001b[0;32m    122\u001b[0m \u001b[39mif\u001b[39;00m doSwitch:\n\u001b[0;32m    123\u001b[0m     switch(label)\n\u001b[1;32m--> 124\u001b[0m \u001b[39mreturn\u001b[39;00m _connections[label]\u001b[39m.\u001b[39;49mgetVersion()\n",
      "File \u001b[1;32mC:\\Program Files (x86)\\Eclipse\\Sumo\\tools\\traci\\connection.py:340\u001b[0m, in \u001b[0;36mConnection.getVersion\u001b[1;34m(self)\u001b[0m\n\u001b[0;32m    338\u001b[0m \u001b[39mdef\u001b[39;00m \u001b[39mgetVersion\u001b[39m(\u001b[39mself\u001b[39m):\n\u001b[0;32m    339\u001b[0m     command \u001b[39m=\u001b[39m tc\u001b[39m.\u001b[39mCMD_GETVERSION\n\u001b[1;32m--> 340\u001b[0m     result \u001b[39m=\u001b[39m \u001b[39mself\u001b[39;49m\u001b[39m.\u001b[39;49m_sendCmd(command, \u001b[39mNone\u001b[39;49;00m, \u001b[39mNone\u001b[39;49;00m)\n\u001b[0;32m    341\u001b[0m     result\u001b[39m.\u001b[39mreadLength()\n\u001b[0;32m    342\u001b[0m     response \u001b[39m=\u001b[39m result\u001b[39m.\u001b[39mread(\u001b[39m\"\u001b[39m\u001b[39m!B\u001b[39m\u001b[39m\"\u001b[39m)[\u001b[39m0\u001b[39m]\n",
      "File \u001b[1;32mC:\\Program Files (x86)\\Eclipse\\Sumo\\tools\\traci\\connection.py:189\u001b[0m, in \u001b[0;36mConnection._sendCmd\u001b[1;34m(self, cmdID, varID, objID, format, *values)\u001b[0m\n\u001b[0;32m    187\u001b[0m     \u001b[39mself\u001b[39m\u001b[39m.\u001b[39m_string \u001b[39m+\u001b[39m\u001b[39m=\u001b[39m struct\u001b[39m.\u001b[39mpack(\u001b[39m\"\u001b[39m\u001b[39m!i\u001b[39m\u001b[39m\"\u001b[39m, \u001b[39mlen\u001b[39m(objID)) \u001b[39m+\u001b[39m objID\u001b[39m.\u001b[39mencode(\u001b[39m\"\u001b[39m\u001b[39mlatin1\u001b[39m\u001b[39m\"\u001b[39m)\n\u001b[0;32m    188\u001b[0m \u001b[39mself\u001b[39m\u001b[39m.\u001b[39m_string \u001b[39m+\u001b[39m\u001b[39m=\u001b[39m packed\n\u001b[1;32m--> 189\u001b[0m \u001b[39mreturn\u001b[39;00m \u001b[39mself\u001b[39;49m\u001b[39m.\u001b[39;49m_sendExact()\n",
      "File \u001b[1;32mC:\\Program Files (x86)\\Eclipse\\Sumo\\tools\\traci\\connection.py:93\u001b[0m, in \u001b[0;36mConnection._sendExact\u001b[1;34m(self)\u001b[0m\n\u001b[0;32m     91\u001b[0m     \u001b[39mprint\u001b[39m(\u001b[39m\"\u001b[39m\u001b[39msending\u001b[39m\u001b[39m\"\u001b[39m, Storage(length \u001b[39m+\u001b[39m \u001b[39mself\u001b[39m\u001b[39m.\u001b[39m_string)\u001b[39m.\u001b[39mgetDebugString())\n\u001b[0;32m     92\u001b[0m \u001b[39mself\u001b[39m\u001b[39m.\u001b[39m_socket\u001b[39m.\u001b[39msend(length \u001b[39m+\u001b[39m \u001b[39mself\u001b[39m\u001b[39m.\u001b[39m_string)\n\u001b[1;32m---> 93\u001b[0m result \u001b[39m=\u001b[39m \u001b[39mself\u001b[39;49m\u001b[39m.\u001b[39;49m_recvExact()\n\u001b[0;32m     94\u001b[0m \u001b[39mif\u001b[39;00m _DEBUG:\n\u001b[0;32m     95\u001b[0m     \u001b[39mprint\u001b[39m(\u001b[39m\"\u001b[39m\u001b[39mreceiving\u001b[39m\u001b[39m\"\u001b[39m, result\u001b[39m.\u001b[39mgetDebugString())\n",
      "File \u001b[1;32mC:\\Program Files (x86)\\Eclipse\\Sumo\\tools\\traci\\connection.py:71\u001b[0m, in \u001b[0;36mConnection._recvExact\u001b[1;34m(self)\u001b[0m\n\u001b[0;32m     69\u001b[0m result \u001b[39m=\u001b[39m \u001b[39mbytes\u001b[39m()\n\u001b[0;32m     70\u001b[0m \u001b[39mwhile\u001b[39;00m \u001b[39mlen\u001b[39m(result) \u001b[39m<\u001b[39m \u001b[39m4\u001b[39m:\n\u001b[1;32m---> 71\u001b[0m     t \u001b[39m=\u001b[39m \u001b[39mself\u001b[39;49m\u001b[39m.\u001b[39;49m_socket\u001b[39m.\u001b[39;49mrecv(\u001b[39m4\u001b[39;49m \u001b[39m-\u001b[39;49m \u001b[39mlen\u001b[39;49m(result))\n\u001b[0;32m     72\u001b[0m     \u001b[39mif\u001b[39;00m \u001b[39mnot\u001b[39;00m t:\n\u001b[0;32m     73\u001b[0m         \u001b[39mreturn\u001b[39;00m \u001b[39mNone\u001b[39;00m\n",
      "\u001b[1;31mKeyboardInterrupt\u001b[0m: "
     ]
    }
   ],
   "source": [
    "model.learn(total_timesteps=3600)"
   ]
  },
  {
   "cell_type": "code",
   "execution_count": null,
   "metadata": {},
   "outputs": [],
   "source": [
    "# Evaluate trained agent\n",
    "mean_trained_reward, std_trained_reward = evaluate_policy(model, env, n_eval_episodes=1)\n",
    "\n",
    "print(mean_trained_reward)\n",
    "print(std_trained_reward)"
   ]
  },
  {
   "attachments": {},
   "cell_type": "markdown",
   "metadata": {},
   "source": [
    "### Record Results"
   ]
  },
  {
   "cell_type": "code",
   "execution_count": null,
   "metadata": {},
   "outputs": [],
   "source": [
    "data = [env_params['net_file'], TEST_NUM, env.reward_fn, mean_untrained_reward, mean_trained_reward]\n",
    "\n",
    "with open(\"test_results.csv\", \"a\", encoding=\"UTF8\", newline=\"\") as f:\n",
    "    writer = csv.writer(f)\n",
    "    writer.writerow(data)"
   ]
  },
  {
   "attachments": {},
   "cell_type": "markdown",
   "metadata": {},
   "source": [
    "### Save Model"
   ]
  },
  {
   "cell_type": "code",
   "execution_count": null,
   "metadata": {},
   "outputs": [],
   "source": [
    "model.save(os.path.join(\"saved_models\",f\"PPO_grid4x4_{TEST_NUM}\"))"
   ]
  },
  {
   "attachments": {},
   "cell_type": "markdown",
   "metadata": {},
   "source": [
    "## Render Video"
   ]
  },
  {
   "cell_type": "code",
   "execution_count": null,
   "metadata": {},
   "outputs": [],
   "source": [
    "env_params.update({\"use_gui\": True})\n",
    "render_env = parallel_env(**env_params)\n",
    "\n",
    "check_env(render_env)\n",
    "\n",
    "# Maybe add frame-stacking here\n",
    "render_env = ss.pettingzoo_env_to_vec_env_v1(render_env)\n",
    "render_env = ss.concat_vec_envs_v1(env, 2, num_cpus=1, base_class=\"stable_baselines3\")\n",
    "render_env = VecMonitor(render_env)"
   ]
  },
  {
   "cell_type": "code",
   "execution_count": null,
   "metadata": {},
   "outputs": [],
   "source": [
    "obs, info = render_env.reset()\n",
    "\n",
    "folder_path = os.path.join(\"renders\",\"grid4x4\",f\"test_{TEST_NUM}\")\n",
    "if not os.path.exists(folder_path):\n",
    "    os.mkdir(folder_path)\n",
    "\n",
    "max_time = env.unwrapped.env.sim_max_time\n",
    "delta_time = env.unwrapped.env.delta_time\n",
    "vid_length = round(max_time/delta_time)\n",
    "\n",
    "for i in range(vid_length):\n",
    "    actions, _ = model.predict(obs)\n",
    "    obs, reward, terminated, truncated, info = render_env.step(actions)\n",
    "    env.render()\n",
    "\n",
    "    im = pyautogui.screenshot(\n",
    "        os.path.join(folder_path,f\"img{i}.jpg\"),\n",
    "        region=(0, 0, 2560, 1542)\n",
    "    )\n",
    "\n",
    "render_env.close()  # clean up"
   ]
  },
  {
   "cell_type": "code",
   "execution_count": null,
   "metadata": {},
   "outputs": [],
   "source": [
    "subprocess.run([\n",
    "    \"ffmpeg\", \"-y\", \"-r\", \"5\", \"-i\",\n",
    "    f\"renders\\\\grid4x4\\\\test_{TEST_NUM}\\\\img%d.jpg\",\n",
    "    f\"videos\\\\grid4x4_{TEST_NUM}.mp4\"\n",
    "])"
   ]
  },
  {
   "attachments": {},
   "cell_type": "markdown",
   "metadata": {},
   "source": [
    "## Clean-up"
   ]
  },
  {
   "cell_type": "code",
   "execution_count": null,
   "metadata": {},
   "outputs": [],
   "source": [
    "env.close()\n",
    "render_env.close()"
   ]
  }
 ],
 "metadata": {
  "kernelspec": {
   "display_name": "rl",
   "language": "python",
   "name": "python3"
  },
  "language_info": {
   "codemirror_mode": {
    "name": "ipython",
    "version": 3
   },
   "file_extension": ".py",
   "mimetype": "text/x-python",
   "name": "python",
   "nbconvert_exporter": "python",
   "pygments_lexer": "ipython3",
   "version": "3.9.16"
  },
  "orig_nbformat": 4,
  "vscode": {
   "interpreter": {
    "hash": "732c5edff638c91026cc37889b73c340773ecf599b6624077a4552d06a9ec22c"
   }
  }
 },
 "nbformat": 4,
 "nbformat_minor": 2
}
