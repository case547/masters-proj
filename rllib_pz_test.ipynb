{
 "cells": [
  {
   "attachments": {},
   "cell_type": "markdown",
   "metadata": {},
   "source": [
    "# Grid4x4 - PettingZoo + RLlib"
   ]
  },
  {
   "cell_type": "code",
   "execution_count": 1,
   "metadata": {},
   "outputs": [],
   "source": [
    "import os\n",
    "import ray"
   ]
  },
  {
   "cell_type": "code",
   "execution_count": 2,
   "metadata": {},
   "outputs": [
    {
     "data": {
      "text/plain": [
       "<torch._C.Generator at 0x1be27298ed0>"
      ]
     },
     "execution_count": 2,
     "metadata": {},
     "output_type": "execute_result"
    }
   ],
   "source": [
    "import random\n",
    "import numpy as np\n",
    "import torch\n",
    "\n",
    "SEED = 23423  # default SUMO seed no.\n",
    "random.seed(SEED)\n",
    "np.random.seed(SEED)\n",
    "torch.manual_seed(SEED)"
   ]
  },
  {
   "attachments": {},
   "cell_type": "markdown",
   "metadata": {},
   "source": [
    "## Environment Setup"
   ]
  },
  {
   "cell_type": "code",
   "execution_count": 3,
   "metadata": {},
   "outputs": [],
   "source": [
    "import supersuit as ss\n",
    "\n",
    "from helper_functions import make_parallel_env\n",
    "from observation import Grid4x4ObservationFunction\n",
    "from reward_functions import combined_reward\n",
    "\n",
    "def env_creator(args):\n",
    "    env_params = {\n",
    "        \"net_file\": os.path.join(\"nets\",\"grid4x4\",\"grid4x4.net.xml\"),\n",
    "        \"route_file\": os.path.join(\"nets\",\"grid4x4\",\"grid4x4_1.rou.xml\"),\n",
    "        \"num_seconds\": 3600,\n",
    "        \"reward_fn\": combined_reward,\n",
    "        \"sumo_seed\": SEED,\n",
    "        # \"observation_class\": Grid4x4ObservationFunction\n",
    "    }\n",
    "    env = make_parallel_env(**env_params)\n",
    "    env = ss.frame_stack_v1(env, 3)\n",
    "    return env"
   ]
  },
  {
   "attachments": {},
   "cell_type": "markdown",
   "metadata": {},
   "source": [
    "## Training the RL Agent"
   ]
  },
  {
   "cell_type": "code",
   "execution_count": 4,
   "metadata": {},
   "outputs": [
    {
     "name": "stderr",
     "output_type": "stream",
     "text": [
      "2023-05-29 12:14:59,049\tINFO worker.py:1625 -- Started a local Ray instance.\n"
     ]
    }
   ],
   "source": [
    "from ray.rllib.env.wrappers.pettingzoo_env import ParallelPettingZooEnv  # RLlib-PZ interface\n",
    "from ray.tune.registry import register_env\n",
    "\n",
    "ray.init()\n",
    "\n",
    "env_name = \"grid4x4\"\n",
    "register_env(env_name, lambda config: ParallelPettingZooEnv(env_creator(config)))"
   ]
  },
  {
   "cell_type": "code",
   "execution_count": 5,
   "metadata": {},
   "outputs": [],
   "source": [
    "from ray.rllib.algorithms.ppo import PPOConfig\n",
    "\n",
    "# From https://github.com/ray-project/ray/blob/master/rllib/tuned_examples/ppo/atari-ppo.yaml\n",
    "\n",
    "config = (\n",
    "    PPOConfig()\n",
    "    .environment(env=env_name)\n",
    "    .framework(framework=\"torch\")\n",
    "    .rollouts(\n",
    "        num_rollout_workers=4, rollout_fragment_length=128,\n",
    "        # num_envs_per_worker=5,\n",
    "        # batch_mode=\"truncate_episodes\",\n",
    "    )\n",
    "    .training(\n",
    "        train_batch_size=512,\n",
    "        lr=2e-5,\n",
    "        gamma=0.99,\n",
    "        lambda_=0.9,\n",
    "        use_gae=True,\n",
    "        clip_param=0.4,\n",
    "        grad_clip=None,\n",
    "        entropy_coeff=0.1,\n",
    "        vf_loss_coeff=0.25,\n",
    "        sgd_minibatch_size=64,\n",
    "        num_sgd_iter=10,\n",
    "        # lambda_=0.95,\n",
    "        # kl_coeff=0.5,\n",
    "        # clip_param=0.1,\n",
    "        # vf_clip_param=10.0,\n",
    "        # entropy_coeff=0.01,\n",
    "        # train_batch_size=5000,\n",
    "        # sgd_minibatch_size=500,\n",
    "        # num_sgd_iter=10,\n",
    "    )\n",
    "    # .evaluation(\n",
    "    #     evaluation_duration=3600,\n",
    "    #     evaluation_duration_unit=\"timesteps\",\n",
    "    #     evaluation_num_workers=1,\n",
    "    # )\n",
    "    .debugging(log_level=\"WARN\", seed=SEED)\n",
    "    .resources(num_gpus=int(os.environ.get(\"RLLIB_NUM_GPUS\", \"0\")))\n",
    ")"
   ]
  },
  {
   "cell_type": "code",
   "execution_count": 6,
   "metadata": {},
   "outputs": [
    {
     "name": "stderr",
     "output_type": "stream",
     "text": [
      "c:\\Users\\admin\\anaconda3\\envs\\marl\\lib\\site-packages\\ray\\tune\\experiment\\experiment.py:170: UserWarning: The `local_dir` argument of `Experiment is deprecated. Use `storage_path` or set the `TUNE_RESULT_DIR` environment variable instead.\n",
      "  warnings.warn(\n"
     ]
    },
    {
     "data": {
      "text/html": [
       "<div class=\"tuneStatus\">\n",
       "  <div style=\"display: flex;flex-direction: row\">\n",
       "    <div style=\"display: flex;flex-direction: column;\">\n",
       "      <h3>Tune Status</h3>\n",
       "      <table>\n",
       "<tbody>\n",
       "<tr><td>Current time:</td><td>2023-05-29 12:37:09</td></tr>\n",
       "<tr><td>Running for: </td><td>00:22:05.97        </td></tr>\n",
       "<tr><td>Memory:      </td><td>13.3/31.7 GiB      </td></tr>\n",
       "</tbody>\n",
       "</table>\n",
       "    </div>\n",
       "    <div class=\"vDivider\"></div>\n",
       "    <div class=\"systemInfo\">\n",
       "      <h3>System Info</h3>\n",
       "      Using FIFO scheduling algorithm.<br>Logical resource usage: 5.0/20 CPUs, 0/1 GPUs (0.0/1.0 accelerator_type:G)\n",
       "    </div>\n",
       "    \n",
       "  </div>\n",
       "  <div class=\"hDivider\"></div>\n",
       "  <div class=\"trialStatus\">\n",
       "    <h3>Trial Status</h3>\n",
       "    <table>\n",
       "<thead>\n",
       "<tr><th>Trial name             </th><th>status  </th><th>loc            </th><th style=\"text-align: right;\">  iter</th><th style=\"text-align: right;\">  total time (s)</th><th style=\"text-align: right;\">   ts</th><th style=\"text-align: right;\">  reward</th><th style=\"text-align: right;\">  episode_reward_max</th><th style=\"text-align: right;\">  episode_reward_min</th><th style=\"text-align: right;\">  episode_len_mean</th></tr>\n",
       "</thead>\n",
       "<tbody>\n",
       "<tr><td>PPO_grid4x4_0eff4_00000</td><td>RUNNING </td><td>127.0.0.1:19016</td><td style=\"text-align: right;\">    34</td><td style=\"text-align: right;\">         1286.96</td><td style=\"text-align: right;\">17408</td><td style=\"text-align: right;\"> -157617</td><td style=\"text-align: right;\">             -155535</td><td style=\"text-align: right;\">             -160523</td><td style=\"text-align: right;\">               720</td></tr>\n",
       "</tbody>\n",
       "</table>\n",
       "  </div>\n",
       "</div>\n",
       "<style>\n",
       ".tuneStatus {\n",
       "  color: var(--jp-ui-font-color1);\n",
       "}\n",
       ".tuneStatus .systemInfo {\n",
       "  display: flex;\n",
       "  flex-direction: column;\n",
       "}\n",
       ".tuneStatus td {\n",
       "  white-space: nowrap;\n",
       "}\n",
       ".tuneStatus .trialStatus {\n",
       "  display: flex;\n",
       "  flex-direction: column;\n",
       "}\n",
       ".tuneStatus h3 {\n",
       "  font-weight: bold;\n",
       "}\n",
       ".tuneStatus .hDivider {\n",
       "  border-bottom-width: var(--jp-border-width);\n",
       "  border-bottom-color: var(--jp-border-color0);\n",
       "  border-bottom-style: solid;\n",
       "}\n",
       ".tuneStatus .vDivider {\n",
       "  border-left-width: var(--jp-border-width);\n",
       "  border-left-color: var(--jp-border-color0);\n",
       "  border-left-style: solid;\n",
       "  margin: 0.5em 1em 0.5em 1em;\n",
       "}\n",
       "</style>\n"
      ],
      "text/plain": [
       "<IPython.core.display.HTML object>"
      ]
     },
     "metadata": {},
     "output_type": "display_data"
    },
    {
     "name": "stderr",
     "output_type": "stream",
     "text": [
      "\u001b[2m\u001b[36m(PPO pid=19016)\u001b[0m 2023-05-29 12:15:08,021\tWARNING algorithm_config.py:635 -- Cannot create PPOConfig from given `config_dict`! Property __stdout_file__ not supported.\n",
      "\u001b[2m\u001b[36m(PPO pid=19016)\u001b[0m 2023-05-29 12:15:08,491\tINFO algorithm.py:527 -- Current log_level is WARN. For more information, set 'log_level': 'INFO' / 'DEBUG' or use the -v and -vv flags.\n"
     ]
    },
    {
     "name": "stdout",
     "output_type": "stream",
     "text": [
      "\u001b[2m\u001b[36m(RolloutWorker pid=23028)\u001b[0m Step #0.00 (0ms ?*RT. ?UPS, TraCI: 66ms, vehicles TOT 0 ACT 0 BUF 0)                     \n"
     ]
    },
    {
     "name": "stderr",
     "output_type": "stream",
     "text": [
      "\u001b[2m\u001b[36m(RolloutWorker pid=7864)\u001b[0m 2023-05-29 12:15:15,244\tWARNING env.py:285 -- Your MultiAgentEnv <ParallelPettingZooEnv instance> does not have some or all of the needed base-class attributes! Make sure you call `super().__init__()` from within your MutiAgentEnv's constructor. This will raise an error in the future.\n",
      "\u001b[2m\u001b[36m(RolloutWorker pid=7864)\u001b[0m Warning: Vehicle '0' performs emergency braking on lane ':D3_45_0' with decel=9.00, wished=4.50, severity=1.00, time=142.00.\n"
     ]
    },
    {
     "name": "stdout",
     "output_type": "stream",
     "text": [
      "Step #100.00 (0ms ?*RT. ?UPS, TraCI: 110ms, vehicles TOT 21 ACT 21 BUF 0)                 OT 1 ACT 1 BUF 0)                     \n",
      "\u001b[2m\u001b[36m(RolloutWorker pid=7864)\u001b[0m Step #0.00 (0ms ?*RT. ?UPS, TraCI: 191ms, vehicles TOT 0 ACT 0 BUF 0)                    \u001b[32m [repeated 11x across cluster] (Ray deduplicates logs by default. Set RAY_DEDUP_LOGS=0 to disable log deduplication, or see https://docs.ray.io/en/master/ray-observability/ray-logging.html#log-deduplication for more options.)\u001b[0m\n"
     ]
    },
    {
     "name": "stderr",
     "output_type": "stream",
     "text": [
      "\u001b[2m\u001b[36m(RolloutWorker pid=7864)\u001b[0m 2023-05-29 12:15:44,919\tWARNING env_runner_v2.py:154 -- More than 2048 observations in 128 env steps for episode 330665021975472663 are buffered in the sampler. If this is more than you expected, check that that you set a horizon on your environment correctly and that it terminates at some point. Note: In multi-agent environments, `rollout_fragment_length` sets the batch size based on (across-agents) environment steps, not the steps of individual agents, which can result in unexpectedly large batches.\n"
     ]
    },
    {
     "data": {
      "text/html": [
       "<div class=\"trialProgress\">\n",
       "  <h3>Trial Progress</h3>\n",
       "  <table>\n",
       "<thead>\n",
       "<tr><th>Trial name             </th><th style=\"text-align: right;\">  agent_timesteps_total</th><th>connector_metrics  </th><th>counters                                                                                                                      </th><th>custom_metrics  </th><th>date               </th><th>done  </th><th style=\"text-align: right;\">  episode_len_mean</th><th>episode_media  </th><th style=\"text-align: right;\">  episode_reward_max</th><th style=\"text-align: right;\">  episode_reward_mean</th><th style=\"text-align: right;\">  episode_reward_min</th><th style=\"text-align: right;\">  episodes_this_iter</th><th style=\"text-align: right;\">  episodes_total</th><th>hostname  </th><th>info                                                                                                                                                                                                                                                                                                                                                                                                                                                                                                                                                                                                                                                                                                              </th><th style=\"text-align: right;\">  iterations_since_restore</th><th>node_ip  </th><th style=\"text-align: right;\">  num_agent_steps_sampled</th><th style=\"text-align: right;\">  num_agent_steps_trained</th><th style=\"text-align: right;\">  num_env_steps_sampled</th><th style=\"text-align: right;\">  num_env_steps_sampled_this_iter</th><th style=\"text-align: right;\">  num_env_steps_trained</th><th style=\"text-align: right;\">  num_env_steps_trained_this_iter</th><th style=\"text-align: right;\">  num_faulty_episodes</th><th style=\"text-align: right;\">  num_healthy_workers</th><th style=\"text-align: right;\">  num_in_flight_async_reqs</th><th style=\"text-align: right;\">  num_remote_worker_restarts</th><th style=\"text-align: right;\">  num_steps_trained_this_iter</th><th>perf                                                                                                                                              </th><th style=\"text-align: right;\">  pid</th><th>policy_reward_max  </th><th>policy_reward_mean  </th><th>policy_reward_min  </th><th>sampler_perf  </th><th>sampler_results                                                                                                                                                                                                                                                                                                                                                                                </th><th style=\"text-align: right;\">  time_since_restore</th><th style=\"text-align: right;\">  time_this_iter_s</th><th style=\"text-align: right;\">  time_total_s</th><th>timers                                                                                                                                                                                                    </th><th style=\"text-align: right;\">  timestamp</th><th style=\"text-align: right;\">  timesteps_total</th><th style=\"text-align: right;\">  training_iteration</th><th>trial_id   </th></tr>\n",
       "</thead>\n",
       "<tbody>\n",
       "<tr><td>PPO_grid4x4_0eff4_00000</td><td style=\"text-align: right;\">                   8192</td><td>{}                 </td><td>{&#x27;num_env_steps_sampled&#x27;: 512, &#x27;num_env_steps_trained&#x27;: 512, &#x27;num_agent_steps_sampled&#x27;: 8192, &#x27;num_agent_steps_trained&#x27;: 8192}</td><td>{}              </td><td>2023-05-29_12-15-50</td><td>False </td><td style=\"text-align: right;\">               nan</td><td>{}             </td><td style=\"text-align: right;\">                 nan</td><td style=\"text-align: right;\">                  nan</td><td style=\"text-align: right;\">                 nan</td><td style=\"text-align: right;\">                   0</td><td style=\"text-align: right;\">               0</td><td>JM-M16    </td><td>{&#x27;learner&#x27;: {&#x27;default_policy&#x27;: {&#x27;learner_stats&#x27;: {&#x27;allreduce_latency&#x27;: 0.0, &#x27;grad_gnorm&#x27;: 0.36689417099696586, &#x27;cur_kl_coeff&#x27;: 0.19999999999999998, &#x27;cur_lr&#x27;: 2e-05, &#x27;total_loss&#x27;: 2.270295824483037, &#x27;policy_loss&#x27;: -0.0013563843014708255, &#x27;vf_loss&#x27;: 9.91817272901535, &#x27;vf_explained_var&#x27;: -4.936009645462036e-09, &#x27;kl&#x27;: 0.0001798126565526914, &#x27;entropy&#x27;: 2.0792693788185717, &#x27;entropy_coeff&#x27;: 0.09999999999999999}, &#x27;model&#x27;: {}, &#x27;custom_metrics&#x27;: {}, &#x27;num_agent_steps_trained&#x27;: 64.0, &#x27;num_grad_updates_lifetime&#x27;: 640.5, &#x27;diff_num_grad_updates_vs_sampler_policy&#x27;: 639.5}}, &#x27;num_env_steps_sampled&#x27;: 512, &#x27;num_env_steps_trained&#x27;: 512, &#x27;num_agent_steps_sampled&#x27;: 8192, &#x27;num_agent_steps_trained&#x27;: 8192}</td><td style=\"text-align: right;\">                         1</td><td>127.0.0.1</td><td style=\"text-align: right;\">                     8192</td><td style=\"text-align: right;\">                     8192</td><td style=\"text-align: right;\">                    512</td><td style=\"text-align: right;\">                              512</td><td style=\"text-align: right;\">                    512</td><td style=\"text-align: right;\">                              512</td><td style=\"text-align: right;\">                    0</td><td style=\"text-align: right;\">                    4</td><td style=\"text-align: right;\">                         0</td><td style=\"text-align: right;\">                           0</td><td style=\"text-align: right;\">                          512</td><td>{&#x27;cpu_util_percent&#x27;: 2.3711111111111114, &#x27;ram_util_percent&#x27;: 43.9377777777778, &#x27;gpu_util_percent0&#x27;: 0.352, &#x27;vram_util_percent0&#x27;: 0.00567626953125}</td><td style=\"text-align: right;\">19016</td><td>{}                 </td><td>{}                  </td><td>{}                 </td><td>{}            </td><td>{&#x27;episode_reward_max&#x27;: nan, &#x27;episode_reward_min&#x27;: nan, &#x27;episode_reward_mean&#x27;: nan, &#x27;episode_len_mean&#x27;: nan, &#x27;episode_media&#x27;: {}, &#x27;episodes_this_iter&#x27;: 0, &#x27;policy_reward_min&#x27;: {}, &#x27;policy_reward_max&#x27;: {}, &#x27;policy_reward_mean&#x27;: {}, &#x27;custom_metrics&#x27;: {}, &#x27;hist_stats&#x27;: {&#x27;episode_reward&#x27;: [], &#x27;episode_lengths&#x27;: []}, &#x27;sampler_perf&#x27;: {}, &#x27;num_faulty_episodes&#x27;: 0, &#x27;connector_metrics&#x27;: {}}</td><td style=\"text-align: right;\">             34.4827</td><td style=\"text-align: right;\">           34.4827</td><td style=\"text-align: right;\">       34.4827</td><td>{&#x27;training_iteration_time_ms&#x27;: 34476.684, &#x27;sample_time_ms&#x27;: 29336.455, &#x27;load_time_ms&#x27;: 0.0, &#x27;load_throughput&#x27;: 0.0, &#x27;learn_time_ms&#x27;: 5136.341, &#x27;learn_throughput&#x27;: 99.682, &#x27;synch_weights_time_ms&#x27;: 3.887}</td><td style=\"text-align: right;\"> 1685358950</td><td style=\"text-align: right;\">              512</td><td style=\"text-align: right;\">                   1</td><td>0eff4_00000</td></tr>\n",
       "</tbody>\n",
       "</table>\n",
       "</div>\n",
       "<style>\n",
       ".trialProgress {\n",
       "  display: flex;\n",
       "  flex-direction: column;\n",
       "  color: var(--jp-ui-font-color1);\n",
       "}\n",
       ".trialProgress h3 {\n",
       "  font-weight: bold;\n",
       "}\n",
       ".trialProgress td {\n",
       "  white-space: nowrap;\n",
       "}\n",
       "</style>\n"
      ],
      "text/plain": [
       "<IPython.core.display.HTML object>"
      ]
     },
     "metadata": {},
     "output_type": "display_data"
    },
    {
     "name": "stderr",
     "output_type": "stream",
     "text": [
      "\u001b[2m\u001b[36m(RolloutWorker pid=23028)\u001b[0m Warning: Vehicle '665' performs emergency braking on lane ':A3_42_0' with decel=9.00, wished=4.50, severity=1.00, time=1931.00.\n"
     ]
    },
    {
     "name": "stdout",
     "output_type": "stream",
     "text": [
      "Step #1900.00 (1ms ~= 1000.00*RT, ~209000.00UPS, TraCI: 181ms, vehicles TOT 824 ACT 209 BU108ms, vehicles TOT 1 ACT 1 BUF 0)     \n"
     ]
    },
    {
     "name": "stderr",
     "output_type": "stream",
     "text": [
      "\u001b[2m\u001b[36m(RolloutWorker pid=23028)\u001b[0m Warning: Vehicle '934' performs emergency braking on lane ':D3_40_0' with decel=9.00, wished=4.50, severity=1.00, time=2070.00.\n"
     ]
    },
    {
     "name": "stdout",
     "output_type": "stream",
     "text": [
      "\u001b[2m\u001b[36m(RolloutWorker pid=23028)\u001b[0m Step #2000.00 (1ms ~= 1000.00*RT, ~192000.00UPS, TraCI: 180ms, vehicles TOT 907 ACT 192 BU\n",
      "Step #3600.00 (0ms ?*RT. ?UPS, TraCI: 233ms, vehicles TOT 1473 ACT 34 BUF 0)              I: 173ms, vehicles TOT 983 ACT 196 BUF \n",
      "Step #3600.00 (1ms ~= 1000.00*RT, ~35000.00UPS, TraCI: 235ms, vehicles TOT 1473 ACT 35 BUF: 118ms, vehicles TOT 45 ACT 38 BUF 0)\n",
      "Step #3600.00 (1ms ~= 1000.00*RT, ~34000.00UPS, TraCI: 222ms, vehicles TOT 1473 ACT 34 BUF08ms, vehicles TOT 1 ACT 1 BUF 0)     \n",
      "Step #3600.00 (0ms ?*RT. ?UPS, TraCI: 208ms, vehicles TOT 1473 ACT 34 BUF 0)              07ms, vehicles TOT 1 ACT 1 BUF 0)     \n"
     ]
    },
    {
     "name": "stderr",
     "output_type": "stream",
     "text": [
      "\u001b[2m\u001b[36m(RolloutWorker pid=6700)\u001b[0m Warning: Vehicle '872' performs emergency braking on lane ':B1_42_0' with decel=9.00, wished=4.50, severity=1.00, time=2029.00.\n"
     ]
    },
    {
     "name": "stdout",
     "output_type": "stream",
     "text": [
      "Step #2000.00 (1ms ~= 1000.00*RT, ~216000.00UPS, TraCI: 225ms, vehicles TOT 907 ACT 216 BUOT 1 ACT 1 BUF 0)                     \n"
     ]
    },
    {
     "name": "stderr",
     "output_type": "stream",
     "text": [
      "\u001b[2m\u001b[36m(RolloutWorker pid=6700)\u001b[0m Warning: Vehicle '990' performs emergency braking on lane ':C1_24_0' with decel=9.00, wished=4.50, severity=1.00, time=2170.00.\n"
     ]
    },
    {
     "name": "stdout",
     "output_type": "stream",
     "text": [
      "\u001b[2m\u001b[36m(RolloutWorker pid=6700)\u001b[0m Step #2100.00 (1ms ~= 1000.00*RT, ~194000.00UPS, TraCI: 231ms, vehicles TOT 983 ACT 194 BU\n"
     ]
    },
    {
     "name": "stderr",
     "output_type": "stream",
     "text": [
      "\u001b[2m\u001b[36m(RolloutWorker pid=23028)\u001b[0m Warning: Vehicle '1140' performs emergency braking on lane ':A3_37_0' with decel=9.00, wished=4.50, severity=1.00, time=2445.00.\n"
     ]
    },
    {
     "name": "stdout",
     "output_type": "stream",
     "text": [
      "Step #2400.00 (1ms ~= 1000.00*RT, ~118000.00UPS, TraCI: 220ms, vehicles TOT 1136 ACT 118 BTOT 1 ACT 1 BUF 0)                     \n",
      "Step #3600.00 (0ms ?*RT. ?UPS, TraCI: 137ms, vehicles TOT 1473 ACT 38 BUF 0)              CI: 206ms, vehicles TOT 1175 ACT 95 BUF\n",
      "Step #3600.00 (0ms ?*RT. ?UPS, TraCI: 137ms, vehicles TOT 1473 ACT 32 BUF 0)              CI: 189ms, vehicles TOT 1042 ACT 153 B\n",
      "Step #3600.00 (0ms ?*RT. ?UPS, TraCI: 138ms, vehicles TOT 1473 ACT 32 BUF 0)              OT 1 ACT 1 BUF 0)                     \n",
      "Step #3600.00 (0ms ?*RT. ?UPS, TraCI: 130ms, vehicles TOT 1473 ACT 38 BUF 0)              OT 1 ACT 1 BUF 0)                     \n"
     ]
    },
    {
     "name": "stderr",
     "output_type": "stream",
     "text": [
      "\u001b[2m\u001b[36m(RolloutWorker pid=23028)\u001b[0m Warning: Vehicle '115' performs emergency braking on lane ':C3_15_1' with decel=9.00, wished=4.50, severity=1.00, time=612.00.\n"
     ]
    },
    {
     "name": "stdout",
     "output_type": "stream",
     "text": [
      "Step #600.00 (1ms ~= 1000.00*RT, ~54000.00UPS, TraCI: 121ms, vehicles TOT 141 ACT 54 BUF 0OT 1 ACT 1 BUF 0)                      \n"
     ]
    },
    {
     "name": "stderr",
     "output_type": "stream",
     "text": [
      "\u001b[2m\u001b[36m(RolloutWorker pid=6700)\u001b[0m Warning: Vehicle '469' performs emergency braking on lane ':C0_39_0' with decel=9.00, wished=4.50, severity=1.00, time=1645.00.\n"
     ]
    },
    {
     "name": "stdout",
     "output_type": "stream",
     "text": [
      "Step #1600.00 (1ms ~= 1000.00*RT, ~130000.00UPS, TraCI: 152ms, vehicles TOT 551 ACT 130 BUT 1 ACT 1 BUF 0)                      \n"
     ]
    },
    {
     "name": "stderr",
     "output_type": "stream",
     "text": [
      "\u001b[2m\u001b[36m(RolloutWorker pid=3380)\u001b[0m Warning: Vehicle '478' performs emergency braking on lane ':D1_36_0' with decel=9.00, wished=4.50, severity=1.00, time=1855.00.\n"
     ]
    },
    {
     "name": "stdout",
     "output_type": "stream",
     "text": [
      "Step #1800.00 (1ms ~= 1000.00*RT, ~177000.00UPS, TraCI: 157ms, vehicles TOT 708 ACT 177 BUOT 1 ACT 1 BUF 0)                     \n",
      "Step #3600.00 (0ms ?*RT. ?UPS, TraCI: 199ms, vehicles TOT 1473 ACT 34 BUF 0)              T 1 ACT 1 BUF 0)                      \n",
      "Step #3600.00 (1ms ~= 1000.00*RT, ~35000.00UPS, TraCI: 197ms, vehicles TOT 1473 ACT 35 BUFs TOT 164 ACT 56 BUF 0)                \n",
      "Step #3600.00 (0ms ?*RT. ?UPS, TraCI: 189ms, vehicles TOT 1473 ACT 35 BUF 0)              I: 359ms, vehicles TOT 824 ACT 216 BUF\n",
      "Step #3600.00 (0ms ?*RT. ?UPS, TraCI: 185ms, vehicles TOT 1473 ACT 34 BUF 0)              CI: 151ms, vehicles TOT 623 ACT 138 BU\n"
     ]
    },
    {
     "name": "stderr",
     "output_type": "stream",
     "text": [
      "\u001b[2m\u001b[36m(RolloutWorker pid=23028)\u001b[0m Warning: Vehicle '325' performs emergency braking on lane ':D2_36_0' with decel=9.00, wished=4.50, severity=1.00, time=1374.00.\n"
     ]
    },
    {
     "name": "stdout",
     "output_type": "stream",
     "text": [
      "Step #1300.00 (0ms ?*RT. ?UPS, TraCI: 123ms, vehicles TOT 386 ACT 94 BUF 0)               OT 1 ACT 1 BUF 0)                      \n"
     ]
    },
    {
     "name": "stderr",
     "output_type": "stream",
     "text": [
      "\u001b[2m\u001b[36m(RolloutWorker pid=7864)\u001b[0m Warning: Vehicle '524' performs emergency braking on lane ':D3_45_0' with decel=9.00, wished=4.50, severity=1.00, time=1931.00.\n"
     ]
    },
    {
     "name": "stdout",
     "output_type": "stream",
     "text": [
      "Step #1900.00 (1ms ~= 1000.00*RT, ~229000.00UPS, TraCI: 164ms, vehicles TOT 824 ACT 229 BUT 1 ACT 1 BUF 0)                      \n"
     ]
    },
    {
     "name": "stderr",
     "output_type": "stream",
     "text": [
      "\u001b[2m\u001b[36m(RolloutWorker pid=3380)\u001b[0m Warning: Vehicle '1398' performs emergency braking on lane ':D0_24_1' with decel=9.00, wished=4.50, severity=1.00, time=3220.00.\n"
     ]
    },
    {
     "name": "stdout",
     "output_type": "stream",
     "text": [
      "Step #3200.00 (0ms ?*RT. ?UPS, TraCI: 107ms, vehicles TOT 1401 ACT 51 BUF 0)              T 1 ACT 1 BUF 0)                      \n",
      "Step #3600.00 (0ms ?*RT. ?UPS, TraCI: 162ms, vehicles TOT 1473 ACT 35 BUF 0)              CI: 130ms, vehicles TOT 432 ACT 99 BUF \n",
      "Step #3600.00 (0ms ?*RT. ?UPS, TraCI: 163ms, vehicles TOT 1473 ACT 38 BUF 0)              CI: 273ms, vehicles TOT 907 ACT 217 BU\n",
      "Step #3600.00 (0ms ?*RT. ?UPS, TraCI: 156ms, vehicles TOT 1473 ACT 36 BUF 0)              s TOT 1419 ACT 40 BUF 0)              \n",
      "Step #3600.00 (1ms ~= 1000.00*RT, ~38000.00UPS, TraCI: 148ms, vehicles TOT 1473 ACT 38 BUFT 1 ACT 1 BUF 0)                      \n"
     ]
    },
    {
     "name": "stdout",
     "output_type": "stream",
     "text": [
      "Step #1700.00 (2ms ~= 500.00*RT, ~76000.00UPS, TraCI: 141ms, vehicles TOT 623 ACT 152 BUF T 1 ACT 1 BUF 0)                      \n"
     ]
    },
    {
     "name": "stderr",
     "output_type": "stream",
     "text": [
      "\u001b[2m\u001b[36m(RolloutWorker pid=6700)\u001b[0m Warning: Vehicle '1199' performs emergency braking on lane ':A3_42_0' with decel=9.00, wished=4.50, severity=1.00, time=2665.00.\n"
     ]
    },
    {
     "name": "stdout",
     "output_type": "stream",
     "text": [
      "Step #2600.00 (1ms ~= 1000.00*RT, ~92000.00UPS, TraCI: 122ms, vehicles TOT 1220 ACT 92 BUFI: 116ms, vehicles TOT 299 ACT 74 BUF \n"
     ]
    },
    {
     "name": "stderr",
     "output_type": "stream",
     "text": [
      "\u001b[2m\u001b[36m(RolloutWorker pid=23028)\u001b[0m Warning: Vehicle '1276' performs emergency braking on lane ':A0_42_0' with decel=9.00, wished=4.50, severity=1.00, time=2764.00.\n"
     ]
    },
    {
     "name": "stdout",
     "output_type": "stream",
     "text": [
      "Step #2700.00 (0ms ?*RT. ?UPS, TraCI: 129ms, vehicles TOT 1264 ACT 102 BUF 0)             OT 1 ACT 1 BUF 0)                      \n"
     ]
    },
    {
     "name": "stderr",
     "output_type": "stream",
     "text": [
      "\u001b[2m\u001b[36m(RolloutWorker pid=7864)\u001b[0m Warning: Vehicle '1380' performs emergency braking on lane ':A0_39_0' with decel=9.00, wished=4.50, severity=1.00, time=3229.00.\n"
     ]
    },
    {
     "name": "stdout",
     "output_type": "stream",
     "text": [
      "Step #3200.00 (0ms ?*RT. ?UPS, TraCI: 106ms, vehicles TOT 1401 ACT 52 BUF 0)              CI: 145ms, vehicles TOT 708 ACT 169 BU\n",
      "Step #3600.00 (0ms ?*RT. ?UPS, TraCI: 118ms, vehicles TOT 1473 ACT 43 BUF 0)              es TOT 1297 ACT 76 BUF 0)              \n",
      "Step #3600.00 (0ms ?*RT. ?UPS, TraCI: 119ms, vehicles TOT 1473 ACT 34 BUF 0)              T 1 ACT 1 BUF 0)                      \n",
      "Step #3600.00 (0ms ?*RT. ?UPS, TraCI: 120ms, vehicles TOT 1473 ACT 33 BUF 0)              s TOT 1264 ACT 90 BUF 0)              \n",
      "Step #3600.00 (0ms ?*RT. ?UPS, TraCI: 122ms, vehicles TOT 1473 ACT 34 BUF 0)              I: 109ms, vehicles TOT 1419 ACT 44 BUF\n"
     ]
    },
    {
     "name": "stderr",
     "output_type": "stream",
     "text": [
      "\u001b[2m\u001b[36m(RolloutWorker pid=3380)\u001b[0m Warning: Vehicle '575' performs emergency braking on lane ':B1_46_0' with decel=9.00, wished=4.50, severity=1.00, time=1775.00.\n"
     ]
    },
    {
     "name": "stdout",
     "output_type": "stream",
     "text": [
      "Step #1700.00 (2ms ~= 500.00*RT, ~73500.00UPS, TraCI: 145ms, vehicles TOT 623 ACT 147 BUF T 1 ACT 1 BUF 0)                      \n"
     ]
    },
    {
     "name": "stderr",
     "output_type": "stream",
     "text": [
      "\u001b[2m\u001b[36m(RolloutWorker pid=23028)\u001b[0m Warning: Vehicle '1032' performs emergency braking on lane ':A1_46_0' with decel=9.00, wished=4.50, severity=1.00, time=2208.00.\n"
     ]
    },
    {
     "name": "stdout",
     "output_type": "stream",
     "text": [
      "Step #2200.00 (1ms ~= 1000.00*RT, ~167000.00UPS, TraCI: 151ms, vehicles TOT 1042 ACT 167 BOT 1 ACT 1 BUF 0)                      \n"
     ]
    },
    {
     "name": "stderr",
     "output_type": "stream",
     "text": [
      "\u001b[2m\u001b[36m(RolloutWorker pid=7864)\u001b[0m Warning: Vehicle '913' performs emergency braking on lane ':D0_6_0' with decel=9.00, wished=4.50, severity=1.00, time=2322.00.\n",
      "\u001b[2m\u001b[36m(RolloutWorker pid=7864)\u001b[0m Warning: Vehicle '1084' performs emergency braking on lane ':D0_21_1' with decel=9.00, wished=4.50, severity=1.00, time=2323.00.\n"
     ]
    },
    {
     "name": "stdout",
     "output_type": "stream",
     "text": [
      "Step #2300.00 (1ms ~= 1000.00*RT, ~134000.00UPS, TraCI: 139ms, vehicles TOT 1086 ACT 134 BT 1 ACT 1 BUF 0)                      \n",
      "Step #3600.00 (0ms ?*RT. ?UPS, TraCI: 192ms, vehicles TOT 1473 ACT 40 BUF 0)              aCI: 138ms, vehicles TOT 1086 ACT 133 B\n",
      "Step #3600.00 (0ms ?*RT. ?UPS, TraCI: 192ms, vehicles TOT 1473 ACT 40 BUF 0)              CI: 156ms, vehicles TOT 708 ACT 180 BU\n",
      "Step #3600.00 (1ms ~= 1000.00*RT, ~34000.00UPS, TraCI: 191ms, vehicles TOT 1473 ACT 34 BUFCI: 134ms, vehicles TOT 1136 ACT 115 B\n",
      "Step #3600.00 (1ms ~= 1000.00*RT, ~35000.00UPS, TraCI: 176ms, vehicles TOT 1473 ACT 35 BUFT 1 ACT 1 BUF 0)                      \n"
     ]
    },
    {
     "name": "stderr",
     "output_type": "stream",
     "text": [
      "\u001b[2m\u001b[36m(RolloutWorker pid=3380)\u001b[0m Warning: Vehicle '401' performs emergency braking on lane ':A3_42_0' with decel=9.00, wished=4.50, severity=1.00, time=1504.00.\n"
     ]
    },
    {
     "name": "stdout",
     "output_type": "stream",
     "text": [
      "Step #1500.00 (1ms ~= 1000.00*RT, ~114000.00UPS, TraCI: 129ms, vehicles TOT 483 ACT 114 BUT 1 ACT 1 BUF 0)                      \n"
     ]
    },
    {
     "name": "stderr",
     "output_type": "stream",
     "text": [
      "\u001b[2m\u001b[36m(RolloutWorker pid=6700)\u001b[0m Warning: Vehicle '665' performs emergency braking on lane ':A0_46_0' with decel=9.00, wished=4.50, severity=1.00, time=1980.00.\n"
     ]
    },
    {
     "name": "stdout",
     "output_type": "stream",
     "text": [
      "Step #1900.00 (1ms ~= 1000.00*RT, ~230000.00UPS, TraCI: 170ms, vehicles TOT 824 ACT 230 BUT 1 ACT 1 BUF 0)                      \n"
     ]
    },
    {
     "name": "stderr",
     "output_type": "stream",
     "text": [
      "\u001b[2m\u001b[36m(RolloutWorker pid=3380)\u001b[0m Warning: Vehicle '1116' performs emergency braking on lane ':C0_39_0' with decel=9.00, wished=4.50, severity=1.00, time=2414.00.\n"
     ]
    },
    {
     "name": "stdout",
     "output_type": "stream",
     "text": [
      "Step #2400.00 (0ms ?*RT. ?UPS, TraCI: 130ms, vehicles TOT 1136 ACT 118 BUF 0)             CI: 134ms, vehicles TOT 551 ACT 133 BU\n",
      "Step #3600.00 (0ms ?*RT. ?UPS, TraCI: 149ms, vehicles TOT 1473 ACT 36 BUF 0)              OT 1 ACT 1 BUF 0)                      \n",
      "Step #3600.00 (0ms ?*RT. ?UPS, TraCI: 153ms, vehicles TOT 1473 ACT 36 BUF 0)              T 1 ACT 1 BUF 0)                      \n",
      "Step #3600.00 (1ms ~= 1000.00*RT, ~35000.00UPS, TraCI: 141ms, vehicles TOT 1473 ACT 35 BUFCI: 126ms, vehicles TOT 1175 ACT 101 B\n",
      "Step #3600.00 (1ms ~= 1000.00*RT, ~39000.00UPS, TraCI: 138ms, vehicles TOT 1473 ACT 39 BUFI: 163ms, vehicles TOT 907 ACT 216 BUF\n"
     ]
    },
    {
     "name": "stderr",
     "output_type": "stream",
     "text": [
      "2023-05-29 12:40:05,537\tINFO tune.py:945 -- Total run time: 1502.44 seconds (1501.42 seconds for the tuning loop).\n"
     ]
    },
    {
     "name": "stdout",
     "output_type": "stream",
     "text": [
      "Step #405.00 (1ms ~= 1000.00*RT, ~44000.00UPS, TraCI: 5887ms, vehicles TOT 85 ACT 44 BUF 0OT 1 ACT 1 BUF 0)                      \n",
      "Step #405.00 (0ms ?*RT. ?UPS, TraCI: 5768ms, vehicles TOT 85 ACT 40 BUF 0)                T 1 ACT 1 BUF 0)                      \n",
      "Step #405.00 (0ms ?*RT. ?UPS, TraCI: 5748ms, vehicles TOT 85 ACT 38 BUF 0)                T 1 ACT 1 BUF 0)                      \n",
      "Step #405.00 (0ms ?*RT. ?UPS, TraCI: 5897ms, vehicles TOT 85 ACT 45 BUF 0)                T 1 ACT 1 BUF 0)                      \n"
     ]
    },
    {
     "data": {
      "text/plain": [
       "<ray.tune.analysis.experiment_analysis.ExperimentAnalysis at 0x1be35983c10>"
      ]
     },
     "execution_count": 6,
     "metadata": {},
     "output_type": "execute_result"
    }
   ],
   "source": [
    "from time import time\n",
    "from ray import tune\n",
    "\n",
    "current_time = int(time())\n",
    " \n",
    "tune.run(\n",
    "    \"PPO\",\n",
    "    name=\"PPO\",\n",
    "    stop={\"timesteps_total\": 2e4},\n",
    "    checkpoint_freq=10,\n",
    "    local_dir=os.path.join(\"ray_results\", env_name, str(current_time)),\n",
    "    config=config.to_dict(),\n",
    ")"
   ]
  },
  {
   "cell_type": "code",
   "execution_count": 7,
   "metadata": {},
   "outputs": [],
   "source": [
    "ray.shutdown()"
   ]
  },
  {
   "attachments": {},
   "cell_type": "markdown",
   "metadata": {},
   "source": [
    "## Watching the Trained Agent"
   ]
  },
  {
   "attachments": {},
   "cell_type": "markdown",
   "metadata": {},
   "source": [
    "## RLlib Docs"
   ]
  },
  {
   "cell_type": "code",
   "execution_count": null,
   "metadata": {},
   "outputs": [],
   "source": [
    "algo = config.build()"
   ]
  },
  {
   "cell_type": "code",
   "execution_count": null,
   "metadata": {},
   "outputs": [],
   "source": [
    "# Changes made in ParallelPettingZooEnv's reset() method: see line 202-206 in\n",
    "# C:\\Users\\admin\\anaconda3\\envs\\marl\\lib\\site-packages\\ray\\rllib\\env\\wrappers\\pettingzoo_env.py\n",
    "\n",
    "algo.evaluate()"
   ]
  },
  {
   "cell_type": "code",
   "execution_count": null,
   "metadata": {},
   "outputs": [],
   "source": [
    "from ray.tune.logger import pretty_print\n",
    "\n",
    "result = algo.train()\n",
    "print(pretty_print(result))"
   ]
  },
  {
   "cell_type": "code",
   "execution_count": null,
   "metadata": {},
   "outputs": [],
   "source": [
    "algo.evaluate()"
   ]
  }
 ],
 "metadata": {
  "kernelspec": {
   "display_name": "marl",
   "language": "python",
   "name": "python3"
  },
  "language_info": {
   "codemirror_mode": {
    "name": "ipython",
    "version": 3
   },
   "file_extension": ".py",
   "mimetype": "text/x-python",
   "name": "python",
   "nbconvert_exporter": "python",
   "pygments_lexer": "ipython3",
   "version": "3.8.16"
  },
  "orig_nbformat": 4
 },
 "nbformat": 4,
 "nbformat_minor": 2
}
