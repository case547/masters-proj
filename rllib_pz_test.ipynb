{
 "cells": [
  {
   "cell_type": "code",
   "execution_count": 4,
   "metadata": {},
   "outputs": [
    {
     "name": "stderr",
     "output_type": "stream",
     "text": [
      "c:\\Users\\Justin Mak\\anaconda3\\envs\\marl\\lib\\site-packages\\paramiko\\transport.py:219: CryptographyDeprecationWarning: Blowfish has been deprecated\n",
      "  \"class\": algorithms.Blowfish,\n"
     ]
    }
   ],
   "source": [
    "import os\n",
    "\n",
    "import ray\n",
    "import supersuit as ss\n",
    "from ray import tune\n",
    "from ray.rllib.algorithms.ppo import PPOConfig\n",
    "from ray.rllib.env.wrappers.pettingzoo_env import ParallelPettingZooEnv  # RLlib-PZ interface\n",
    "from ray.rllib.models import ModelCatalog\n",
    "from ray.rllib.models.torch.torch_modelv2 import TorchModelV2\n",
    "from ray.tune.registry import register_env\n",
    "from torch import nn\n",
    "\n",
    "from pettingzoo.butterfly import pistonball_v6  # PZ env"
   ]
  },
  {
   "cell_type": "code",
   "execution_count": 5,
   "metadata": {},
   "outputs": [],
   "source": [
    "class CNNModelV2(TorchModelV2, nn.Module):\n",
    "    def __init__(self, obs_space, act_space, num_outputs, *args, **kwargs):\n",
    "        TorchModelV2.__init__(self, obs_space, act_space, num_outputs, *args, **kwargs)\n",
    "        nn.Module.__init__(self)\n",
    "        self.model = nn.Sequential(\n",
    "            nn.Conv2d(3, 32, [8, 8], stride=(4, 4)),\n",
    "            nn.ReLU(),\n",
    "            nn.Conv2d(32, 64, [4, 4], stride=(2, 2)),\n",
    "            nn.ReLU(),\n",
    "            nn.Conv2d(64, 64, [3, 3], stride=(1, 1)),\n",
    "            nn.ReLU(),\n",
    "            nn.Flatten(),\n",
    "            (nn.Linear(3136, 512)),\n",
    "            nn.ReLU(),\n",
    "        )\n",
    "        self.policy_fn = nn.Linear(512, num_outputs)\n",
    "        self.value_fn = nn.Linear(512, 1)\n",
    "\n",
    "    def forward(self, input_dict, state, seq_lens):\n",
    "        model_out = self.model(input_dict[\"obs\"].permute(0, 3, 1, 2))\n",
    "        self._value_out = self.value_fn(model_out)\n",
    "        return self.policy_fn(model_out), state\n",
    "\n",
    "    def value_function(self):\n",
    "        return self._value_out.flatten()"
   ]
  },
  {
   "cell_type": "code",
   "execution_count": 6,
   "metadata": {},
   "outputs": [],
   "source": [
    "def env_creator(args):\n",
    "    env = pistonball_v6.parallel_env(\n",
    "        n_pistons=20,\n",
    "        time_penalty=-0.1,\n",
    "        continuous=True,\n",
    "        random_drop=True,\n",
    "        random_rotate=True,\n",
    "        ball_mass=0.75,\n",
    "        ball_friction=0.3,\n",
    "        ball_elasticity=1.5,\n",
    "        max_cycles=125,\n",
    "    )\n",
    "    env = ss.color_reduction_v0(env, mode=\"B\")\n",
    "    env = ss.dtype_v0(env, \"float32\")\n",
    "    env = ss.resize_v1(env, x_size=84, y_size=84)\n",
    "    env = ss.normalize_obs_v0(env, env_min=0, env_max=1)\n",
    "    env = ss.frame_stack_v1(env, 3)\n",
    "    return env"
   ]
  },
  {
   "cell_type": "code",
   "execution_count": 7,
   "metadata": {},
   "outputs": [
    {
     "name": "stderr",
     "output_type": "stream",
     "text": [
      "2023-05-01 20:57:46,578\tINFO worker.py:1625 -- Started a local Ray instance.\n"
     ]
    }
   ],
   "source": [
    "ray.init()\n",
    "\n",
    "env_name = \"pistonball_v6\"\n",
    "\n",
    "register_env(env_name, lambda config: ParallelPettingZooEnv(env_creator(config)))\n",
    "ModelCatalog.register_custom_model(\"CNNModelV2\", CNNModelV2)"
   ]
  },
  {
   "cell_type": "code",
   "execution_count": 8,
   "metadata": {},
   "outputs": [],
   "source": [
    "config = (\n",
    "    PPOConfig()\n",
    "    .environment(env=env_name, clip_actions=True)\n",
    "    .rollouts(num_rollout_workers=4, rollout_fragment_length=128)\n",
    "    .training(\n",
    "        train_batch_size=512,\n",
    "        lr=2e-5,\n",
    "        gamma=0.99,\n",
    "        lambda_=0.9,\n",
    "        use_gae=True,\n",
    "        clip_param=0.4,\n",
    "        grad_clip=None,\n",
    "        entropy_coeff=0.1,\n",
    "        vf_loss_coeff=0.25,\n",
    "        sgd_minibatch_size=64,\n",
    "        num_sgd_iter=10,\n",
    "    )\n",
    "    .debugging(log_level=\"ERROR\")\n",
    "    .framework(framework=\"torch\")\n",
    "    .resources(num_gpus=int(os.environ.get(\"RLLIB_NUM_GPUS\", \"0\")))\n",
    ")"
   ]
  },
  {
   "cell_type": "code",
   "execution_count": 10,
   "metadata": {},
   "outputs": [
    {
     "name": "stderr",
     "output_type": "stream",
     "text": [
      "c:\\Users\\Justin Mak\\anaconda3\\envs\\marl\\lib\\site-packages\\ray\\tune\\experiment\\experiment.py:170: UserWarning: The `local_dir` argument of `Experiment is deprecated. Use `storage_path` or set the `TUNE_RESULT_DIR` environment variable instead.\n",
      "  warnings.warn(\n"
     ]
    },
    {
     "data": {
      "text/html": [],
      "text/plain": [
       "<IPython.core.display.HTML object>"
      ]
     },
     "metadata": {},
     "output_type": "display_data"
    },
    {
     "name": "stderr",
     "output_type": "stream",
     "text": [
      "\u001b[2m\u001b[33m(raylet)\u001b[0m c:\\Users\\Justin Mak\\anaconda3\\envs\\marl\\python.exe: can't open file 'c:\\\\Users\\\\Justin\\\\ Mak\\\\anaconda3\\\\envs\\\\marl\\\\lib\\\\site-packages\\\\ray\\\\_private\\\\workers\\\\default_worker.py': [Errno 2] No such file or directory\n",
      "2023-05-01 20:58:33,933\tWARNING tune.py:184 -- Stop signal received (e.g. via SIGINT/Ctrl+C), ending Ray Tune run. This will try to checkpoint the experiment state one last time. Press CTRL+C (or send SIGINT/SIGKILL/SIGTERM) to skip. \n"
     ]
    }
   ],
   "source": [
    "tune.run(\n",
    "    \"PPO\",\n",
    "    name=\"PPO\",\n",
    "    stop={\"timesteps_total\": 500},\n",
    "    checkpoint_freq=10,\n",
    "    local_dir=\"~/ray_results/\" + env_name,\n",
    "    config=config.to_dict(),\n",
    "    chdir_to_trial_dir=False,\n",
    ")"
   ]
  },
  {
   "cell_type": "code",
   "execution_count": null,
   "metadata": {},
   "outputs": [],
   "source": [
    "ray.shutdown()"
   ]
  }
 ],
 "metadata": {
  "kernelspec": {
   "display_name": "marl",
   "language": "python",
   "name": "python3"
  },
  "language_info": {
   "codemirror_mode": {
    "name": "ipython",
    "version": 3
   },
   "file_extension": ".py",
   "mimetype": "text/x-python",
   "name": "python",
   "nbconvert_exporter": "python",
   "pygments_lexer": "ipython3",
   "version": "3.10.11"
  },
  "orig_nbformat": 4
 },
 "nbformat": 4,
 "nbformat_minor": 2
}
