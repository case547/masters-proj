{
 "cells": [
  {
   "attachments": {},
   "cell_type": "markdown",
   "metadata": {},
   "source": [
    "# Grid4x4 - PettingZoo + RLlib"
   ]
  },
  {
   "cell_type": "code",
   "execution_count": 1,
   "metadata": {},
   "outputs": [],
   "source": [
    "import os\n",
    "\n",
    "import ray\n",
    "from ray.tune.registry import register_env"
   ]
  },
  {
   "cell_type": "code",
   "execution_count": 2,
   "metadata": {},
   "outputs": [
    {
     "data": {
      "text/plain": [
       "<torch._C.Generator at 0x1613cd27d30>"
      ]
     },
     "execution_count": 2,
     "metadata": {},
     "output_type": "execute_result"
    }
   ],
   "source": [
    "import random\n",
    "import numpy as np\n",
    "import torch\n",
    "\n",
    "SEED = 23423  # default SUMO seed no.\n",
    "random.seed(SEED)\n",
    "np.random.seed(SEED)\n",
    "torch.manual_seed(SEED)"
   ]
  },
  {
   "attachments": {},
   "cell_type": "markdown",
   "metadata": {},
   "source": [
    "## Environment Setup"
   ]
  },
  {
   "cell_type": "code",
   "execution_count": 3,
   "metadata": {},
   "outputs": [],
   "source": [
    "import supersuit as ss\n",
    "from reward_functions import combined_reward\n",
    "\n",
    "env_name = \"grid2x2\""
   ]
  },
  {
   "attachments": {},
   "cell_type": "markdown",
   "metadata": {},
   "source": [
    "## Training the RL Agent"
   ]
  },
  {
   "cell_type": "code",
   "execution_count": 4,
   "metadata": {},
   "outputs": [
    {
     "ename": "KeyError",
     "evalue": "'A0'",
     "output_type": "error",
     "traceback": [
      "\u001b[1;31m---------------------------------------------------------------------------\u001b[0m",
      "\u001b[1;31mKeyError\u001b[0m                                  Traceback (most recent call last)",
      "Cell \u001b[1;32mIn[4], line 12\u001b[0m\n\u001b[0;32m      2\u001b[0m \u001b[39mfrom\u001b[39;00m \u001b[39mobservation\u001b[39;00m \u001b[39mimport\u001b[39;00m Grid2x2ObservationFunction\n\u001b[0;32m      4\u001b[0m env_params \u001b[39m=\u001b[39m {\n\u001b[0;32m      5\u001b[0m     \u001b[39m\"\u001b[39m\u001b[39mnet_file\u001b[39m\u001b[39m\"\u001b[39m: os\u001b[39m.\u001b[39mpath\u001b[39m.\u001b[39mjoin(\u001b[39m\"\u001b[39m\u001b[39mnets\u001b[39m\u001b[39m\"\u001b[39m,\u001b[39m\"\u001b[39m\u001b[39mgrid4x4\u001b[39m\u001b[39m\"\u001b[39m,\u001b[39m\"\u001b[39m\u001b[39mgrid4x4.net.xml\u001b[39m\u001b[39m\"\u001b[39m),\n\u001b[0;32m      6\u001b[0m     \u001b[39m\"\u001b[39m\u001b[39mroute_file\u001b[39m\u001b[39m\"\u001b[39m: os\u001b[39m.\u001b[39mpath\u001b[39m.\u001b[39mjoin(\u001b[39m\"\u001b[39m\u001b[39mnets\u001b[39m\u001b[39m\"\u001b[39m,\u001b[39m\"\u001b[39m\u001b[39mgrid4x4\u001b[39m\u001b[39m\"\u001b[39m,\u001b[39m\"\u001b[39m\u001b[39mgrid4x4_1.rou.xml\u001b[39m\u001b[39m\"\u001b[39m),\n\u001b[1;32m   (...)\u001b[0m\n\u001b[0;32m     10\u001b[0m     \u001b[39m\"\u001b[39m\u001b[39mobservation_class\u001b[39m\u001b[39m\"\u001b[39m: Grid2x2ObservationFunction\n\u001b[0;32m     11\u001b[0m }\n\u001b[1;32m---> 12\u001b[0m env \u001b[39m=\u001b[39m CountAllRewardsEnv(\u001b[39m*\u001b[39m\u001b[39m*\u001b[39menv_params)\n\u001b[0;32m     13\u001b[0m env \u001b[39m=\u001b[39m ss\u001b[39m.\u001b[39mframe_stack_v1(env, \u001b[39m3\u001b[39m)\n",
      "File \u001b[1;32mc:\\Users\\Justin Mak\\masters-proj\\envs.py:18\u001b[0m, in \u001b[0;36mCountAllRewardsEnv.__init__\u001b[1;34m(self, **kwargs)\u001b[0m\n\u001b[0;32m     16\u001b[0m \u001b[39mdef\u001b[39;00m \u001b[39m__init__\u001b[39m(\u001b[39mself\u001b[39m, \u001b[39m*\u001b[39m\u001b[39m*\u001b[39mkwargs):\n\u001b[0;32m     17\u001b[0m     \u001b[39m# Call the parent constructor\u001b[39;00m\n\u001b[1;32m---> 18\u001b[0m     \u001b[39msuper\u001b[39m()\u001b[39m.\u001b[39m\u001b[39m__init__\u001b[39m(\u001b[39m*\u001b[39m\u001b[39m*\u001b[39mkwargs)\n",
      "File \u001b[1;32mc:\\Users\\Justin Mak\\anaconda3\\envs\\marl\\lib\\site-packages\\sumo_rl\\environment\\env.py:171\u001b[0m, in \u001b[0;36mSumoEnvironment.__init__\u001b[1;34m(self, net_file, route_file, out_csv_name, use_gui, virtual_display, begin_time, num_seconds, max_depart_delay, waiting_time_memory, time_to_teleport, delta_time, yellow_time, min_green, max_green, single_agent, reward_fn, observation_class, add_system_info, add_per_agent_info, sumo_seed, fixed_ts, sumo_warnings, additional_sumo_cmd, render_mode)\u001b[0m\n\u001b[0;32m    156\u001b[0m     \u001b[39mself\u001b[39m\u001b[39m.\u001b[39mtraffic_signals \u001b[39m=\u001b[39m {\n\u001b[0;32m    157\u001b[0m         ts: TrafficSignal(\n\u001b[0;32m    158\u001b[0m             \u001b[39mself\u001b[39m,\n\u001b[1;32m   (...)\u001b[0m\n\u001b[0;32m    168\u001b[0m         \u001b[39mfor\u001b[39;00m ts \u001b[39min\u001b[39;00m \u001b[39mself\u001b[39m\u001b[39m.\u001b[39mreward_fn\u001b[39m.\u001b[39mkeys()\n\u001b[0;32m    169\u001b[0m     }\n\u001b[0;32m    170\u001b[0m \u001b[39melse\u001b[39;00m:\n\u001b[1;32m--> 171\u001b[0m     \u001b[39mself\u001b[39m\u001b[39m.\u001b[39mtraffic_signals \u001b[39m=\u001b[39m {\n\u001b[0;32m    172\u001b[0m         ts: TrafficSignal(\n\u001b[0;32m    173\u001b[0m             \u001b[39mself\u001b[39m,\n\u001b[0;32m    174\u001b[0m             ts,\n\u001b[0;32m    175\u001b[0m             \u001b[39mself\u001b[39m\u001b[39m.\u001b[39mdelta_time,\n\u001b[0;32m    176\u001b[0m             \u001b[39mself\u001b[39m\u001b[39m.\u001b[39myellow_time,\n\u001b[0;32m    177\u001b[0m             \u001b[39mself\u001b[39m\u001b[39m.\u001b[39mmin_green,\n\u001b[0;32m    178\u001b[0m             \u001b[39mself\u001b[39m\u001b[39m.\u001b[39mmax_green,\n\u001b[0;32m    179\u001b[0m             \u001b[39mself\u001b[39m\u001b[39m.\u001b[39mbegin_time,\n\u001b[0;32m    180\u001b[0m             \u001b[39mself\u001b[39m\u001b[39m.\u001b[39mreward_fn,\n\u001b[0;32m    181\u001b[0m             conn,\n\u001b[0;32m    182\u001b[0m         )\n\u001b[0;32m    183\u001b[0m         \u001b[39mfor\u001b[39;00m ts \u001b[39min\u001b[39;00m \u001b[39mself\u001b[39m\u001b[39m.\u001b[39mts_ids\n\u001b[0;32m    184\u001b[0m     }\n\u001b[0;32m    186\u001b[0m conn\u001b[39m.\u001b[39mclose()\n\u001b[0;32m    188\u001b[0m \u001b[39mself\u001b[39m\u001b[39m.\u001b[39mvehicles \u001b[39m=\u001b[39m \u001b[39mdict\u001b[39m()\n",
      "File \u001b[1;32mc:\\Users\\Justin Mak\\anaconda3\\envs\\marl\\lib\\site-packages\\sumo_rl\\environment\\env.py:172\u001b[0m, in \u001b[0;36m<dictcomp>\u001b[1;34m(.0)\u001b[0m\n\u001b[0;32m    156\u001b[0m     \u001b[39mself\u001b[39m\u001b[39m.\u001b[39mtraffic_signals \u001b[39m=\u001b[39m {\n\u001b[0;32m    157\u001b[0m         ts: TrafficSignal(\n\u001b[0;32m    158\u001b[0m             \u001b[39mself\u001b[39m,\n\u001b[1;32m   (...)\u001b[0m\n\u001b[0;32m    168\u001b[0m         \u001b[39mfor\u001b[39;00m ts \u001b[39min\u001b[39;00m \u001b[39mself\u001b[39m\u001b[39m.\u001b[39mreward_fn\u001b[39m.\u001b[39mkeys()\n\u001b[0;32m    169\u001b[0m     }\n\u001b[0;32m    170\u001b[0m \u001b[39melse\u001b[39;00m:\n\u001b[0;32m    171\u001b[0m     \u001b[39mself\u001b[39m\u001b[39m.\u001b[39mtraffic_signals \u001b[39m=\u001b[39m {\n\u001b[1;32m--> 172\u001b[0m         ts: TrafficSignal(\n\u001b[0;32m    173\u001b[0m             \u001b[39mself\u001b[39;49m,\n\u001b[0;32m    174\u001b[0m             ts,\n\u001b[0;32m    175\u001b[0m             \u001b[39mself\u001b[39;49m\u001b[39m.\u001b[39;49mdelta_time,\n\u001b[0;32m    176\u001b[0m             \u001b[39mself\u001b[39;49m\u001b[39m.\u001b[39;49myellow_time,\n\u001b[0;32m    177\u001b[0m             \u001b[39mself\u001b[39;49m\u001b[39m.\u001b[39;49mmin_green,\n\u001b[0;32m    178\u001b[0m             \u001b[39mself\u001b[39;49m\u001b[39m.\u001b[39;49mmax_green,\n\u001b[0;32m    179\u001b[0m             \u001b[39mself\u001b[39;49m\u001b[39m.\u001b[39;49mbegin_time,\n\u001b[0;32m    180\u001b[0m             \u001b[39mself\u001b[39;49m\u001b[39m.\u001b[39;49mreward_fn,\n\u001b[0;32m    181\u001b[0m             conn,\n\u001b[0;32m    182\u001b[0m         )\n\u001b[0;32m    183\u001b[0m         \u001b[39mfor\u001b[39;00m ts \u001b[39min\u001b[39;00m \u001b[39mself\u001b[39m\u001b[39m.\u001b[39mts_ids\n\u001b[0;32m    184\u001b[0m     }\n\u001b[0;32m    186\u001b[0m conn\u001b[39m.\u001b[39mclose()\n\u001b[0;32m    188\u001b[0m \u001b[39mself\u001b[39m\u001b[39m.\u001b[39mvehicles \u001b[39m=\u001b[39m \u001b[39mdict\u001b[39m()\n",
      "File \u001b[1;32mc:\\Users\\Justin Mak\\anaconda3\\envs\\marl\\lib\\site-packages\\sumo_rl\\environment\\traffic_signal.py:93\u001b[0m, in \u001b[0;36mTrafficSignal.__init__\u001b[1;34m(self, env, ts_id, delta_time, yellow_time, min_green, max_green, begin_time, reward_fn, sumo)\u001b[0m\n\u001b[0;32m     90\u001b[0m     \u001b[39melse\u001b[39;00m:\n\u001b[0;32m     91\u001b[0m         \u001b[39mraise\u001b[39;00m \u001b[39mNotImplementedError\u001b[39;00m(\u001b[39mf\u001b[39m\u001b[39m\"\u001b[39m\u001b[39mReward function \u001b[39m\u001b[39m{\u001b[39;00m\u001b[39mself\u001b[39m\u001b[39m.\u001b[39mreward_fn\u001b[39m}\u001b[39;00m\u001b[39m not implemented\u001b[39m\u001b[39m\"\u001b[39m)\n\u001b[1;32m---> 93\u001b[0m \u001b[39mself\u001b[39m\u001b[39m.\u001b[39mobservation_fn \u001b[39m=\u001b[39m \u001b[39mself\u001b[39;49m\u001b[39m.\u001b[39;49menv\u001b[39m.\u001b[39;49mobservation_class(\u001b[39mself\u001b[39;49m)\n\u001b[0;32m     95\u001b[0m \u001b[39mself\u001b[39m\u001b[39m.\u001b[39m_build_phases()\n\u001b[0;32m     97\u001b[0m \u001b[39mself\u001b[39m\u001b[39m.\u001b[39mlanes \u001b[39m=\u001b[39m \u001b[39mlist\u001b[39m(\n\u001b[0;32m     98\u001b[0m     \u001b[39mdict\u001b[39m\u001b[39m.\u001b[39mfromkeys(\u001b[39mself\u001b[39m\u001b[39m.\u001b[39msumo\u001b[39m.\u001b[39mtrafficlight\u001b[39m.\u001b[39mgetControlledLanes(\u001b[39mself\u001b[39m\u001b[39m.\u001b[39mid))\n\u001b[0;32m     99\u001b[0m )  \u001b[39m# Remove duplicates and keep order\u001b[39;00m\n",
      "File \u001b[1;32mc:\\Users\\Justin Mak\\masters-proj\\observation.py:87\u001b[0m, in \u001b[0;36mGrid2x2ObservationFunction.__init__\u001b[1;34m(self, ts)\u001b[0m\n\u001b[0;32m     86\u001b[0m \u001b[39mdef\u001b[39;00m \u001b[39m__init__\u001b[39m(\u001b[39mself\u001b[39m, ts: TrafficSignal):\n\u001b[1;32m---> 87\u001b[0m     \u001b[39msuper\u001b[39;49m()\u001b[39m.\u001b[39;49m\u001b[39m__init__\u001b[39;49m(ts, grid2x2_neighbours)\n",
      "File \u001b[1;32mc:\\Users\\Justin Mak\\masters-proj\\observation.py:48\u001b[0m, in \u001b[0;36mSharedObservationFunction.__init__\u001b[1;34m(self, ts, neighbour_dict)\u001b[0m\n\u001b[0;32m     46\u001b[0m \u001b[39msuper\u001b[39m()\u001b[39m.\u001b[39m\u001b[39m__init__\u001b[39m(ts)\n\u001b[0;32m     47\u001b[0m \u001b[39mself\u001b[39m\u001b[39m.\u001b[39mneighbour_dict \u001b[39m=\u001b[39m neighbour_dict\n\u001b[1;32m---> 48\u001b[0m \u001b[39mself\u001b[39m\u001b[39m.\u001b[39mnum_neighbours \u001b[39m=\u001b[39m \u001b[39mlen\u001b[39m(neighbour_dict[\u001b[39mself\u001b[39;49m\u001b[39m.\u001b[39;49mts\u001b[39m.\u001b[39;49mid])\n",
      "\u001b[1;31mKeyError\u001b[0m: 'A0'"
     ]
    }
   ],
   "source": [
    "from envs import CountAllRewardsEnv\n",
    "from observation import Grid2x2ObservationFunction\n",
    "\n",
    "env_params = {\n",
    "    \"net_file\": os.path.join(\"nets\",\"grid4x4\",\"grid4x4.net.xml\"),\n",
    "    \"route_file\": os.path.join(\"nets\",\"grid4x4\",\"grid4x4_1.rou.xml\"),\n",
    "    \"num_seconds\": 3600,\n",
    "    \"reward_fn\": combined_reward,\n",
    "    \"sumo_seed\": SEED,\n",
    "    \"observation_class\": Grid2x2ObservationFunction\n",
    "}\n",
    "env = CountAllRewardsEnv(**env_params)\n",
    "env = ss.frame_stack_v1(env, 3)"
   ]
  },
  {
   "cell_type": "code",
   "execution_count": 5,
   "metadata": {},
   "outputs": [
    {
     "name": "stderr",
     "output_type": "stream",
     "text": [
      "2023-05-29 15:42:45,258\tINFO worker.py:1625 -- Started a local Ray instance.\n"
     ]
    }
   ],
   "source": [
    "from ray.rllib.env.wrappers.pettingzoo_env import ParallelPettingZooEnv\n",
    "\n",
    "ray.init()\n",
    "\n",
    "register_env(env_name, lambda config: ParallelPettingZooEnv(env_creator(config)))"
   ]
  },
  {
   "cell_type": "code",
   "execution_count": 6,
   "metadata": {},
   "outputs": [],
   "source": [
    "from ray.rllib.algorithms.ppo import PPOConfig\n",
    "\n",
    "# From https://github.com/ray-project/ray/blob/master/rllib/tuned_examples/ppo/atari-ppo.yaml\n",
    "\n",
    "config = (\n",
    "    PPOConfig()\n",
    "    .environment(env=env_name)\n",
    "    .framework(framework=\"torch\")\n",
    "    .rollouts(\n",
    "        num_rollout_workers=4, rollout_fragment_length=128,\n",
    "        # num_envs_per_worker=5,\n",
    "        # batch_mode=\"truncate_episodes\",\n",
    "    )\n",
    "    .training(\n",
    "        train_batch_size=512,\n",
    "        lr=2e-5,\n",
    "        gamma=0.99,\n",
    "        lambda_=0.9,\n",
    "        use_gae=True,\n",
    "        clip_param=0.4,\n",
    "        grad_clip=None,\n",
    "        entropy_coeff=0.1,\n",
    "        vf_loss_coeff=0.25,\n",
    "        sgd_minibatch_size=64,\n",
    "        num_sgd_iter=10,\n",
    "        # lambda_=0.95,\n",
    "        # kl_coeff=0.5,\n",
    "        # clip_param=0.1,\n",
    "        # vf_clip_param=10.0,\n",
    "        # entropy_coeff=0.01,\n",
    "        # train_batch_size=5000,\n",
    "        # sgd_minibatch_size=500,\n",
    "        # num_sgd_iter=10,\n",
    "    )\n",
    "    # .evaluation(\n",
    "    #     evaluation_duration=3600,\n",
    "    #     evaluation_duration_unit=\"timesteps\",\n",
    "    #     evaluation_num_workers=1,\n",
    "    # )\n",
    "    .debugging(log_level=\"WARN\", seed=SEED)\n",
    "    .resources(num_gpus=int(os.environ.get(\"RLLIB_NUM_GPUS\", \"0\")))\n",
    ")"
   ]
  },
  {
   "cell_type": "code",
   "execution_count": 7,
   "metadata": {},
   "outputs": [
    {
     "name": "stderr",
     "output_type": "stream",
     "text": [
      "c:\\Users\\admin\\anaconda3\\envs\\marl\\lib\\site-packages\\ray\\tune\\experiment\\experiment.py:170: UserWarning: The `local_dir` argument of `Experiment is deprecated. Use `storage_path` or set the `TUNE_RESULT_DIR` environment variable instead.\n",
      "  warnings.warn(\n"
     ]
    },
    {
     "data": {
      "text/html": [
       "<div class=\"tuneStatus\">\n",
       "  <div style=\"display: flex;flex-direction: row\">\n",
       "    <div style=\"display: flex;flex-direction: column;\">\n",
       "      <h3>Tune Status</h3>\n",
       "      <table>\n",
       "<tbody>\n",
       "<tr><td>Current time:</td><td>2023-05-29 20:08:40</td></tr>\n",
       "<tr><td>Running for: </td><td>04:25:50.29        </td></tr>\n",
       "<tr><td>Memory:      </td><td>12.1/31.7 GiB      </td></tr>\n",
       "</tbody>\n",
       "</table>\n",
       "    </div>\n",
       "    <div class=\"vDivider\"></div>\n",
       "    <div class=\"systemInfo\">\n",
       "      <h3>System Info</h3>\n",
       "      Using FIFO scheduling algorithm.<br>Logical resource usage: 5.0/20 CPUs, 0/1 GPUs (0.0/1.0 accelerator_type:G)\n",
       "    </div>\n",
       "    \n",
       "  </div>\n",
       "  <div class=\"hDivider\"></div>\n",
       "  <div class=\"trialStatus\">\n",
       "    <h3>Trial Status</h3>\n",
       "    <table>\n",
       "<thead>\n",
       "<tr><th>Trial name             </th><th>status  </th><th>loc            </th><th style=\"text-align: right;\">  iter</th><th style=\"text-align: right;\">  total time (s)</th><th style=\"text-align: right;\">    ts</th><th style=\"text-align: right;\">  reward</th><th style=\"text-align: right;\">  episode_reward_max</th><th style=\"text-align: right;\">  episode_reward_min</th><th style=\"text-align: right;\">  episode_len_mean</th></tr>\n",
       "</thead>\n",
       "<tbody>\n",
       "<tr><td>PPO_grid4x4_1593c_00000</td><td>RUNNING </td><td>127.0.0.1:15072</td><td style=\"text-align: right;\">   313</td><td style=\"text-align: right;\">         15882.9</td><td style=\"text-align: right;\">160256</td><td style=\"text-align: right;\"> -156781</td><td style=\"text-align: right;\">             -154218</td><td style=\"text-align: right;\">             -160095</td><td style=\"text-align: right;\">               720</td></tr>\n",
       "</tbody>\n",
       "</table>\n",
       "  </div>\n",
       "</div>\n",
       "<style>\n",
       ".tuneStatus {\n",
       "  color: var(--jp-ui-font-color1);\n",
       "}\n",
       ".tuneStatus .systemInfo {\n",
       "  display: flex;\n",
       "  flex-direction: column;\n",
       "}\n",
       ".tuneStatus td {\n",
       "  white-space: nowrap;\n",
       "}\n",
       ".tuneStatus .trialStatus {\n",
       "  display: flex;\n",
       "  flex-direction: column;\n",
       "}\n",
       ".tuneStatus h3 {\n",
       "  font-weight: bold;\n",
       "}\n",
       ".tuneStatus .hDivider {\n",
       "  border-bottom-width: var(--jp-border-width);\n",
       "  border-bottom-color: var(--jp-border-color0);\n",
       "  border-bottom-style: solid;\n",
       "}\n",
       ".tuneStatus .vDivider {\n",
       "  border-left-width: var(--jp-border-width);\n",
       "  border-left-color: var(--jp-border-color0);\n",
       "  border-left-style: solid;\n",
       "  margin: 0.5em 1em 0.5em 1em;\n",
       "}\n",
       "</style>\n"
      ],
      "text/plain": [
       "<IPython.core.display.HTML object>"
      ]
     },
     "metadata": {},
     "output_type": "display_data"
    },
    {
     "name": "stderr",
     "output_type": "stream",
     "text": [
      "\u001b[2m\u001b[36m(PPO pid=15072)\u001b[0m 2023-05-29 15:42:54,646\tWARNING algorithm_config.py:635 -- Cannot create PPOConfig from given `config_dict`! Property __stdout_file__ not supported.\n",
      "\u001b[2m\u001b[36m(PPO pid=15072)\u001b[0m 2023-05-29 15:42:55,116\tINFO algorithm.py:527 -- Current log_level is WARN. For more information, set 'log_level': 'INFO' / 'DEBUG' or use the -v and -vv flags.\n"
     ]
    },
    {
     "name": "stdout",
     "output_type": "stream",
     "text": [
      "\u001b[2m\u001b[36m(RolloutWorker pid=7016)\u001b[0m Step #0.00 (0ms ?*RT. ?UPS, TraCI: 59ms, vehicles TOT 0 ACT 0 BUF 0)                     \n"
     ]
    },
    {
     "name": "stderr",
     "output_type": "stream",
     "text": [
      "\u001b[2m\u001b[36m(RolloutWorker pid=19248)\u001b[0m 2023-05-29 15:43:03,369\tWARNING env.py:285 -- Your MultiAgentEnv <ParallelPettingZooEnv instance> does not have some or all of the needed base-class attributes! Make sure you call `super().__init__()` from within your MutiAgentEnv's constructor. This will raise an error in the future.\n",
      "\u001b[2m\u001b[36m(RolloutWorker pid=19248)\u001b[0m 2023-05-29 15:43:55,783\tWARNING env_runner_v2.py:154 -- More than 2048 observations in 128 env steps for episode 330665021975472663 are buffered in the sampler. If this is more than you expected, check that that you set a horizon on your environment correctly and that it terminates at some point. Note: In multi-agent environments, `rollout_fragment_length` sets the batch size based on (across-agents) environment steps, not the steps of individual agents, which can result in unexpectedly large batches.\n"
     ]
    },
    {
     "data": {
      "text/html": [
       "<div class=\"trialProgress\">\n",
       "  <h3>Trial Progress</h3>\n",
       "  <table>\n",
       "<thead>\n",
       "<tr><th>Trial name             </th><th style=\"text-align: right;\">  agent_timesteps_total</th><th>connector_metrics                                                                                                                                             </th><th>counters                                                                                                                                  </th><th>custom_metrics  </th><th>date               </th><th>done  </th><th style=\"text-align: right;\">  episode_len_mean</th><th>episode_media  </th><th style=\"text-align: right;\">  episode_reward_max</th><th style=\"text-align: right;\">  episode_reward_mean</th><th style=\"text-align: right;\">  episode_reward_min</th><th style=\"text-align: right;\">  episodes_this_iter</th><th style=\"text-align: right;\">  episodes_total</th><th>hostname  </th><th>info                                                                                                                                                                                                                                                                                                                                                                                                                                                                                                                                                                                                                                                                                                                          </th><th style=\"text-align: right;\">  iterations_since_restore</th><th>node_ip  </th><th style=\"text-align: right;\">  num_agent_steps_sampled</th><th style=\"text-align: right;\">  num_agent_steps_trained</th><th style=\"text-align: right;\">  num_env_steps_sampled</th><th style=\"text-align: right;\">  num_env_steps_sampled_this_iter</th><th style=\"text-align: right;\">  num_env_steps_trained</th><th style=\"text-align: right;\">  num_env_steps_trained_this_iter</th><th style=\"text-align: right;\">  num_faulty_episodes</th><th style=\"text-align: right;\">  num_healthy_workers</th><th style=\"text-align: right;\">  num_in_flight_async_reqs</th><th style=\"text-align: right;\">  num_remote_worker_restarts</th><th style=\"text-align: right;\">  num_steps_trained_this_iter</th><th>perf                                                                                                                                </th><th style=\"text-align: right;\">  pid</th><th>policy_reward_max  </th><th>policy_reward_mean  </th><th>policy_reward_min  </th><th>sampler_perf                                                                                                                                                                                                   </th><th>sampler_results                                                                                                                                                                                                                                                                                                                                                                                                                                                                                                                                                                                                                                                                                                                                                                                                                                                                                                                                                                                                                                                                                                                                                                                                                                                                                                                                                                                                                                                                                                                                                                                                                                                                                                                                                                                                                                                                                                                                                                                                                                                                                                                                                                                                                                                                                                                                                                                                                                                                                                                                                                                                                                                                                                                                                                                                                                                                                                                                                                                                                                                                                                                                                                                                                                                                                                                                                                                                                                                                         </th><th style=\"text-align: right;\">  time_since_restore</th><th style=\"text-align: right;\">  time_this_iter_s</th><th style=\"text-align: right;\">  time_total_s</th><th>timers                                                                                                                                                                                                            </th><th style=\"text-align: right;\">  timestamp</th><th style=\"text-align: right;\">  timesteps_total</th><th style=\"text-align: right;\">  training_iteration</th><th>trial_id   </th></tr>\n",
       "</thead>\n",
       "<tbody>\n",
       "<tr><td>PPO_grid4x4_1593c_00000</td><td style=\"text-align: right;\">                1671168</td><td>{&#x27;ObsPreprocessorConnector_ms&#x27;: 0.015610933303833008, &#x27;StateBufferConnector_ms&#x27;: 0.011094808578491211, &#x27;ViewRequirementAgentConnector_ms&#x27;: 0.7719197273254395}</td><td>{&#x27;num_env_steps_sampled&#x27;: 104448, &#x27;num_env_steps_trained&#x27;: 104448, &#x27;num_agent_steps_sampled&#x27;: 1671168, &#x27;num_agent_steps_trained&#x27;: 1671168}</td><td>{}              </td><td>2023-05-29_18-35-33</td><td>False </td><td style=\"text-align: right;\">               720</td><td>{}             </td><td style=\"text-align: right;\">             -154707</td><td style=\"text-align: right;\">              -157111</td><td style=\"text-align: right;\">             -159724</td><td style=\"text-align: right;\">                   0</td><td style=\"text-align: right;\">             144</td><td>JM-M16    </td><td>{&#x27;learner&#x27;: {&#x27;default_policy&#x27;: {&#x27;learner_stats&#x27;: {&#x27;allreduce_latency&#x27;: 0.0, &#x27;grad_gnorm&#x27;: 0.5467941053502727, &#x27;cur_kl_coeff&#x27;: 0.22500000000000003, &#x27;cur_lr&#x27;: 2e-05, &#x27;total_loss&#x27;: 2.271271016728133, &#x27;policy_loss&#x27;: -0.00677550317850546, &#x27;vf_loss&#x27;: 9.911993718147277, &#x27;vf_explained_var&#x27;: -5.774199962615967e-09, &#x27;kl&#x27;: 0.014711259533578413, &#x27;entropy&#x27;: 2.0326193901710212, &#x27;entropy_coeff&#x27;: 0.09999999999999999}, &#x27;model&#x27;: {}, &#x27;custom_metrics&#x27;: {}, &#x27;num_agent_steps_trained&#x27;: 64.0, &#x27;num_grad_updates_lifetime&#x27;: 260480.5, &#x27;diff_num_grad_updates_vs_sampler_policy&#x27;: 639.5}}, &#x27;num_env_steps_sampled&#x27;: 104448, &#x27;num_env_steps_trained&#x27;: 104448, &#x27;num_agent_steps_sampled&#x27;: 1671168, &#x27;num_agent_steps_trained&#x27;: 1671168}</td><td style=\"text-align: right;\">                       204</td><td>127.0.0.1</td><td style=\"text-align: right;\">                  1671168</td><td style=\"text-align: right;\">                  1671168</td><td style=\"text-align: right;\">                 104448</td><td style=\"text-align: right;\">                              512</td><td style=\"text-align: right;\">                 104448</td><td style=\"text-align: right;\">                              512</td><td style=\"text-align: right;\">                    0</td><td style=\"text-align: right;\">                    4</td><td style=\"text-align: right;\">                         0</td><td style=\"text-align: right;\">                           0</td><td style=\"text-align: right;\">                          512</td><td>{&#x27;cpu_util_percent&#x27;: 4.682812500000001, &#x27;ram_util_percent&#x27;: 38.501562500000006, &#x27;gpu_util_percent0&#x27;: 0.0, &#x27;vram_util_percent0&#x27;: 0.0}</td><td style=\"text-align: right;\">15072</td><td>{}                 </td><td>{}                  </td><td>{}                 </td><td>{&#x27;mean_raw_obs_processing_ms&#x27;: 3.3925715709297357, &#x27;mean_inference_ms&#x27;: 1.2238536786896537, &#x27;mean_action_processing_ms&#x27;: 0.7824720522790197, &#x27;mean_env_wait_ms&#x27;: 326.81172288139265, &#x27;mean_env_render_ms&#x27;: 0.0}</td><td>{&#x27;episode_reward_max&#x27;: -154706.97841973815, &#x27;episode_reward_min&#x27;: -159723.637988752, &#x27;episode_reward_mean&#x27;: -157110.57859392036, &#x27;episode_len_mean&#x27;: 720.0, &#x27;episode_media&#x27;: {}, &#x27;episodes_this_iter&#x27;: 0, &#x27;policy_reward_min&#x27;: {}, &#x27;policy_reward_max&#x27;: {}, &#x27;policy_reward_mean&#x27;: {}, &#x27;custom_metrics&#x27;: {}, &#x27;hist_stats&#x27;: {&#x27;episode_reward&#x27;: [-156582.14678673557, -157198.4151821003, -155266.64931842024, -157562.31699350945, -158646.59697224485, -156584.57590543566, -157906.60368303556, -157550.3169386479, -158795.29412694369, -157736.34551755476, -158284.59793015, -155022.58485800453, -158237.44848742546, -156072.7689951435, -156927.2167503601, -157328.76031556696, -158646.61330687243, -157099.0150906293, -158343.61798867316, -156116.63008901308, -158834.19776869853, -158000.38794745668, -157749.3749630917, -157967.93793685327, -155883.98208064033, -156194.13638523186, -158451.89176412555, -157225.3889675915, -155129.76026229662, -156748.02823330992, -156437.4035916598, -157636.66956022236, -156891.44181064182, -157154.41970573246, -157060.93500676707, -157221.43022781124, -157640.40654965295, -156872.9239083637, -156117.48843430847, -158447.69377881466, -157443.10882636916, -156493.37546931833, -158117.70727285303, -157065.27318233918, -158352.59157821818, -158042.73055714308, -157065.0815222455, -157013.15238599948, -157640.2658089524, -157245.06581649132, -157186.335800258, -158242.71371198285, -158406.2407901952, -156317.36413301123, -156982.02570204702, -156636.09340061317, -157337.19757264957, -157438.51259468345, -156714.5871859038, -158082.24596345902, -156673.190164252, -158049.49496476477, -155423.55627864855, -156775.13722888127, -157893.0027143028, -158174.88928725032, -156857.15939443713, -156806.54778440364, -157186.41415431164, -155433.17384089873, -156075.31513604004, -156259.84072422472, -157315.40822803992, -156553.6525663925, -158231.94161434847, -156993.1302141097, -155893.10673065452, -156623.3516691931, -157462.02773569518, -157264.20174358366, -157047.0022645632, -155567.37138362398, -155904.3079713333, -157508.41160376547, -156929.5633049291, -156439.65245984582, -156137.2217388, -156128.25838608432, -158203.87036902996, -157450.35111020601, -159723.637988752, -157367.5681800962, -156550.30777004224, -154912.80886384446, -154706.97841973815, -156891.9376391224, -158379.15941639268, -156391.91462790116, -157646.5910667266, -155830.31925833595], &#x27;episode_lengths&#x27;: [720, 720, 720, 720, 720, 720, 720, 720, 720, 720, 720, 720, 720, 720, 720, 720, 720, 720, 720, 720, 720, 720, 720, 720, 720, 720, 720, 720, 720, 720, 720, 720, 720, 720, 720, 720, 720, 720, 720, 720, 720, 720, 720, 720, 720, 720, 720, 720, 720, 720, 720, 720, 720, 720, 720, 720, 720, 720, 720, 720, 720, 720, 720, 720, 720, 720, 720, 720, 720, 720, 720, 720, 720, 720, 720, 720, 720, 720, 720, 720, 720, 720, 720, 720, 720, 720, 720, 720, 720, 720, 720, 720, 720, 720, 720, 720, 720, 720, 720, 720]}, &#x27;sampler_perf&#x27;: {&#x27;mean_raw_obs_processing_ms&#x27;: 3.3925715709297357, &#x27;mean_inference_ms&#x27;: 1.2238536786896537, &#x27;mean_action_processing_ms&#x27;: 0.7824720522790197, &#x27;mean_env_wait_ms&#x27;: 326.81172288139265, &#x27;mean_env_render_ms&#x27;: 0.0}, &#x27;num_faulty_episodes&#x27;: 0, &#x27;connector_metrics&#x27;: {&#x27;ObsPreprocessorConnector_ms&#x27;: 0.015610933303833008, &#x27;StateBufferConnector_ms&#x27;: 0.011094808578491211, &#x27;ViewRequirementAgentConnector_ms&#x27;: 0.7719197273254395}}</td><td style=\"text-align: right;\">             10344.7</td><td style=\"text-align: right;\">            47.987</td><td style=\"text-align: right;\">       10344.7</td><td>{&#x27;training_iteration_time_ms&#x27;: 50853.443, &#x27;sample_time_ms&#x27;: 43008.797, &#x27;load_time_ms&#x27;: 0.79, &#x27;load_throughput&#x27;: 647983.962, &#x27;learn_time_ms&#x27;: 7839.661, &#x27;learn_throughput&#x27;: 65.309, &#x27;synch_weights_time_ms&#x27;: 3.997}</td><td style=\"text-align: right;\"> 1685381733</td><td style=\"text-align: right;\">           104448</td><td style=\"text-align: right;\">                 204</td><td>1593c_00000</td></tr>\n",
       "</tbody>\n",
       "</table>\n",
       "</div>\n",
       "<style>\n",
       ".trialProgress {\n",
       "  display: flex;\n",
       "  flex-direction: column;\n",
       "  color: var(--jp-ui-font-color1);\n",
       "}\n",
       ".trialProgress h3 {\n",
       "  font-weight: bold;\n",
       "}\n",
       ".trialProgress td {\n",
       "  white-space: nowrap;\n",
       "}\n",
       "</style>\n"
      ],
      "text/plain": [
       "<IPython.core.display.HTML object>"
      ]
     },
     "metadata": {},
     "output_type": "display_data"
    },
    {
     "name": "stdout",
     "output_type": "stream",
     "text": [
      "Step #3600.00 (0ms ?*RT. ?UPS, TraCI: 284ms, vehicles TOT 1473 ACT 33 BUF 0)              OT 1 ACT 1 BUF 0)                     \n",
      "\u001b[2m\u001b[36m(RolloutWorker pid=19248)\u001b[0m Step #0.00 (0ms ?*RT. ?UPS, TraCI: 277ms, vehicles TOT 0 ACT 0 BUF 0)                    \u001b[32m [repeated 11x across cluster] (Ray deduplicates logs by default. Set RAY_DEDUP_LOGS=0 to disable log deduplication, or see https://docs.ray.io/en/master/ray-observability/ray-logging.html#log-deduplication for more options.)\u001b[0m\n",
      "Step #3600.00 (0ms ?*RT. ?UPS, TraCI: 284ms, vehicles TOT 1473 ACT 35 BUF 0)              TOT 1 ACT 1 BUF 0)                     \n",
      "Step #3600.00 (0ms ?*RT. ?UPS, TraCI: 283ms, vehicles TOT 1473 ACT 36 BUF 0)              57ms, vehicles TOT 1 ACT 1 BUF 0)     \n",
      "Step #3600.00 (0ms ?*RT. ?UPS, TraCI: 254ms, vehicles TOT 1473 ACT 33 BUF 0)              TOT 1 ACT 1 BUF 0)                     \n"
     ]
    },
    {
     "name": "stderr",
     "output_type": "stream",
     "text": [
      "\u001b[2m\u001b[36m(RolloutWorker pid=19248)\u001b[0m Warning: Vehicle '317' performs emergency braking on lane ':C0_39_0' with decel=9.00, wished=4.50, severity=1.00, time=1412.00.\n"
     ]
    },
    {
     "name": "stdout",
     "output_type": "stream",
     "text": [
      "Step #1400.00 (0ms ?*RT. ?UPS, TraCI: 233ms, vehicles TOT 432 ACT 94 BUF 0)               TOT 1 ACT 1 BUF 0)                     \n"
     ]
    },
    {
     "name": "stderr",
     "output_type": "stream",
     "text": [
      "\u001b[2m\u001b[36m(RolloutWorker pid=7016)\u001b[0m Warning: Vehicle '436' performs emergency braking on lane ':A3_24_0' with decel=9.00, wished=4.50, severity=1.00, time=1835.00.\n"
     ]
    },
    {
     "name": "stdout",
     "output_type": "stream",
     "text": [
      "Step #1800.00 (2ms ~= 500.00*RT, ~91500.00UPS, TraCI: 261ms, vehicles TOT 708 ACT 183 BUF OT 1 ACT 1 BUF 0)                     \n"
     ]
    },
    {
     "name": "stderr",
     "output_type": "stream",
     "text": [
      "\u001b[2m\u001b[36m(RolloutWorker pid=7016)\u001b[0m Warning: Vehicle '855' performs emergency braking on lane ':D1_36_0' with decel=9.00, wished=4.50, severity=1.00, time=2081.00.\n"
     ]
    },
    {
     "name": "stdout",
     "output_type": "stream",
     "text": [
      "Step #2000.00 (1ms ~= 1000.00*RT, ~216000.00UPS, TraCI: 300ms, vehicles TOT 907 ACT 216 BUI: 286ms, vehicles TOT 824 ACT 235 BUF\n",
      "Step #2000.00 (2ms ~= 500.00*RT, ~112500.00UPS, TraCI: 304ms, vehicles TOT 907 ACT 225 BUFTOT 1 ACT 1 BUF 0)                     \n"
     ]
    },
    {
     "name": "stderr",
     "output_type": "stream",
     "text": [
      "\u001b[2m\u001b[36m(RolloutWorker pid=6944)\u001b[0m Warning: Vehicle '1339' performs emergency braking on lane ':C0_6_1' with decel=9.00, wished=4.50, severity=1.00, time=3015.00.\u001b[32m [repeated 2x across cluster]\u001b[0m\n"
     ]
    },
    {
     "name": "stdout",
     "output_type": "stream",
     "text": [
      "Step #3000.00 (0ms ?*RT. ?UPS, TraCI: 230ms, vehicles TOT 1357 ACT 66 BUF 0)              OT 1 ACT 1 BUF 0)                     \n",
      "Step #3600.00 (0ms ?*RT. ?UPS, TraCI: 240ms, vehicles TOT 1473 ACT 27 BUF 0)              aCI: 239ms, vehicles TOT 483 ACT 105 BU\n",
      "Step #3600.00 (0ms ?*RT. ?UPS, TraCI: 239ms, vehicles TOT 1473 ACT 34 BUF 0)              CI: 280ms, vehicles TOT 983 ACT 185 BU\n",
      "Step #3600.00 (0ms ?*RT. ?UPS, TraCI: 228ms, vehicles TOT 1473 ACT 33 BUF 0)              aCI: 283ms, vehicles TOT 983 ACT 193 BU\n",
      "Step #3600.00 (0ms ?*RT. ?UPS, TraCI: 240ms, vehicles TOT 1473 ACT 35 BUF 0)              s TOT 1375 ACT 49 BUF 0)              \n"
     ]
    },
    {
     "name": "stderr",
     "output_type": "stream",
     "text": [
      "\u001b[2m\u001b[36m(RolloutWorker pid=18968)\u001b[0m Warning: Vehicle '718' performs emergency braking on lane ':D3_36_0' with decel=9.00, wished=4.50, severity=1.00, time=1876.00.\n"
     ]
    },
    {
     "name": "stdout",
     "output_type": "stream",
     "text": [
      "Step #1800.00 (2ms ~= 500.00*RT, ~90500.00UPS, TraCI: 278ms, vehicles TOT 708 ACT 181 BUF TOT 1 ACT 1 BUF 0)                     \n",
      "Step #3600.00 (0ms ?*RT. ?UPS, TraCI: 312ms, vehicles TOT 1473 ACT 32 BUF 0)              TOT 1 ACT 1 BUF 0)                     \n",
      "Step #3600.00 (0ms ?*RT. ?UPS, TraCI: 302ms, vehicles TOT 1473 ACT 38 BUF 0)              OT 1 ACT 1 BUF 0)                     \n",
      "Step #3600.00 (1ms ~= 1000.00*RT, ~35000.00UPS, TraCI: 299ms, vehicles TOT 1473 ACT 35 BUFOT 1 ACT 1 BUF 0)                     \n",
      "Step #3600.00 (1ms ~= 1000.00*RT, ~34000.00UPS, TraCI: 278ms, vehicles TOT 1473 ACT 34 BUFaCI: 267ms, vehicles TOT 824 ACT 211 BU\n"
     ]
    },
    {
     "name": "stderr",
     "output_type": "stream",
     "text": [
      "\u001b[2m\u001b[36m(RolloutWorker pid=18968)\u001b[0m Warning: Vehicle '512' performs emergency braking on lane ':B1_15_1' with decel=9.00, wished=4.50, severity=1.00, time=1632.00.\n"
     ]
    },
    {
     "name": "stdout",
     "output_type": "stream",
     "text": [
      "Step #1600.00 (1ms ~= 1000.00*RT, ~129000.00UPS, TraCI: 258ms, vehicles TOT 551 ACT 129 BUTOT 1 ACT 1 BUF 0)                     \n",
      "Step #3600.00 (1ms ~= 1000.00*RT, ~33000.00UPS, TraCI: 270ms, vehicles TOT 1473 ACT 33 BUFOT 1 ACT 1 BUF 0)                     \n",
      "Step #3600.00 (0ms ?*RT. ?UPS, TraCI: 269ms, vehicles TOT 1473 ACT 37 BUF 0)              TOT 1 ACT 1 BUF 0)                     \n",
      "Step #3600.00 (0ms ?*RT. ?UPS, TraCI: 249ms, vehicles TOT 1473 ACT 39 BUF 0)              aCI: 252ms, vehicles TOT 623 ACT 145 BU\n",
      "Step #3600.00 (0ms ?*RT. ?UPS, TraCI: 259ms, vehicles TOT 1473 ACT 36 BUF 0)              OT 1 ACT 1 BUF 0)                     \n"
     ]
    },
    {
     "name": "stderr",
     "output_type": "stream",
     "text": [
      "\u001b[2m\u001b[36m(RolloutWorker pid=18968)\u001b[0m Warning: Vehicle '648' performs emergency braking on lane ':A2_37_0' with decel=9.00, wished=4.50, severity=1.00, time=1780.00.\n"
     ]
    },
    {
     "name": "stdout",
     "output_type": "stream",
     "text": [
      "Step #1700.00 (1ms ~= 1000.00*RT, ~146000.00UPS, TraCI: 252ms, vehicles TOT 623 ACT 146 BUTOT 1 ACT 1 BUF 0)                     \n"
     ]
    },
    {
     "name": "stderr",
     "output_type": "stream",
     "text": [
      "\u001b[2m\u001b[36m(RolloutWorker pid=6944)\u001b[0m Warning: Vehicle '808' performs emergency braking on lane ':C2_40_0' with decel=9.00, wished=4.50, severity=1.00, time=1950.00.\n"
     ]
    },
    {
     "name": "stdout",
     "output_type": "stream",
     "text": [
      "Step #1900.00 (2ms ~= 500.00*RT, ~111000.00UPS, TraCI: 276ms, vehicles TOT 824 ACT 222 BUFOT 1 ACT 1 BUF 0)                     \n"
     ]
    },
    {
     "name": "stderr",
     "output_type": "stream",
     "text": [
      "\u001b[2m\u001b[36m(RolloutWorker pid=6944)\u001b[0m Warning: Vehicle '800' performs emergency braking on lane ':A2_24_0' with decel=9.00, wished=4.50, severity=1.00, time=2095.00.\n"
     ]
    },
    {
     "name": "stdout",
     "output_type": "stream",
     "text": [
      "\u001b[2m\u001b[36m(RolloutWorker pid=6944)\u001b[0m Step #2000.00 (2ms ~= 500.00*RT, ~109500.00UPS, TraCI: 280ms, vehicles TOT 907 ACT 219 BUF\n"
     ]
    },
    {
     "name": "stderr",
     "output_type": "stream",
     "text": [
      "\u001b[2m\u001b[36m(RolloutWorker pid=7016)\u001b[0m Warning: Vehicle '1428' performs emergency braking on lane ':A1_33_1' with decel=9.00, wished=4.50, severity=1.00, time=3350.00.\n"
     ]
    },
    {
     "name": "stdout",
     "output_type": "stream",
     "text": [
      "Step #3300.00 (0ms ?*RT. ?UPS, TraCI: 217ms, vehicles TOT 1419 ACT 46 BUF 0)              OT 1 ACT 1 BUF 0)                     \n",
      "Step #3600.00 (1ms ~= 1000.00*RT, ~38000.00UPS, TraCI: 232ms, vehicles TOT 1473 ACT 38 BUFs TOT 1441 ACT 46 BUF 0)              \n",
      "Step #3600.00 (0ms ?*RT. ?UPS, TraCI: 226ms, vehicles TOT 1473 ACT 37 BUF 0)              aCI: 265ms, vehicles TOT 708 ACT 170 BU\n",
      "Step #3600.00 (0ms ?*RT. ?UPS, TraCI: 228ms, vehicles TOT 1473 ACT 35 BUF 0)              CI: 268ms, vehicles TOT 983 ACT 206 BU\n",
      "Step #3600.00 (1ms ~= 1000.00*RT, ~36000.00UPS, TraCI: 230ms, vehicles TOT 1473 ACT 36 BUFTOT 1 ACT 1 BUF 0)                     \n"
     ]
    },
    {
     "name": "stderr",
     "output_type": "stream",
     "text": [
      "\u001b[2m\u001b[36m(RolloutWorker pid=18968)\u001b[0m Warning: Vehicle '55' performs emergency braking on lane ':C3_45_0' with decel=9.00, wished=4.50, severity=1.00, time=340.00.\n"
     ]
    },
    {
     "name": "stdout",
     "output_type": "stream",
     "text": [
      "Step #300.00 (0ms ?*RT. ?UPS, TraCI: 220ms, vehicles TOT 67 ACT 44 BUF 0)                 TOT 1 ACT 1 BUF 0)                     \n"
     ]
    },
    {
     "name": "stderr",
     "output_type": "stream",
     "text": [
      "\u001b[2m\u001b[36m(RolloutWorker pid=6944)\u001b[0m Warning: Vehicle '401' performs emergency braking on lane ':A3_24_0' with decel=9.00, wished=4.50, severity=1.00, time=1440.00.\n"
     ]
    },
    {
     "name": "stdout",
     "output_type": "stream",
     "text": [
      "Step #1400.00 (1ms ~= 1000.00*RT, ~100000.00UPS, TraCI: 239ms, vehicles TOT 432 ACT 100 BUOT 1 ACT 1 BUF 0)                     \n"
     ]
    },
    {
     "name": "stderr",
     "output_type": "stream",
     "text": [
      "\u001b[2m\u001b[36m(RolloutWorker pid=7016)\u001b[0m Warning: Vehicle '527' performs emergency braking on lane ':A0_33_2' with decel=9.00, wished=4.50, severity=1.00, time=1590.00.\n"
     ]
    },
    {
     "name": "stdout",
     "output_type": "stream",
     "text": [
      "Step #1500.00 (1ms ~= 1000.00*RT, ~108000.00UPS, TraCI: 238ms, vehicles TOT 483 ACT 108 BUOT 1 ACT 1 BUF 0)                     \n",
      "Step #3600.00 (0ms ?*RT. ?UPS, TraCI: 296ms, vehicles TOT 1473 ACT 38 BUF 0)              TOT 1 ACT 1 BUF 0)                     \n",
      "Step #3600.00 (1ms ~= 1000.00*RT, ~34000.00UPS, TraCI: 288ms, vehicles TOT 1473 ACT 34 BUFCI: 245ms, vehicles TOT 551 ACT 129 BU\n",
      "Step #3600.00 (0ms ?*RT. ?UPS, TraCI: 292ms, vehicles TOT 1473 ACT 39 BUF 0)              CI: 237ms, vehicles TOT 483 ACT 105 BU\n",
      "Step #3600.00 (0ms ?*RT. ?UPS, TraCI: 263ms, vehicles TOT 1473 ACT 37 BUF 0)              s TOT 84 ACT 37 BUF 0)                 \n"
     ]
    },
    {
     "name": "stderr",
     "output_type": "stream",
     "text": [
      "\u001b[2m\u001b[36m(RolloutWorker pid=6944)\u001b[0m Warning: Vehicle '515' performs emergency braking on lane ':D2_40_0' with decel=9.00, wished=4.50, severity=1.00, time=1575.00.\n"
     ]
    },
    {
     "name": "stdout",
     "output_type": "stream",
     "text": [
      "Step #1500.00 (1ms ~= 1000.00*RT, ~99000.00UPS, TraCI: 228ms, vehicles TOT 483 ACT 99 BUF OT 1 ACT 1 BUF 0)                     \n"
     ]
    },
    {
     "name": "stderr",
     "output_type": "stream",
     "text": [
      "\u001b[2m\u001b[36m(RolloutWorker pid=18968)\u001b[0m Warning: Vehicle '794' performs emergency braking on lane ':C0_46_0' with decel=9.00, wished=4.50, severity=1.00, time=1930.00.\n"
     ]
    },
    {
     "name": "stdout",
     "output_type": "stream",
     "text": [
      "Step #1900.00 (1ms ~= 1000.00*RT, ~209000.00UPS, TraCI: 278ms, vehicles TOT 824 ACT 209 BUTOT 1 ACT 1 BUF 0)                     \n"
     ]
    },
    {
     "name": "stderr",
     "output_type": "stream",
     "text": [
      "\u001b[2m\u001b[36m(RolloutWorker pid=18968)\u001b[0m Warning: Vehicle '1269' performs emergency braking on lane ':D1_43_0' with decel=9.00, wished=4.50, severity=1.00, time=2773.00.\n"
     ]
    },
    {
     "name": "stdout",
     "output_type": "stream",
     "text": [
      "Step #2700.00 (1ms ~= 1000.00*RT, ~97000.00UPS, TraCI: 243ms, vehicles TOT 1264 ACT 97 BUFaCI: 273ms, vehicles TOT 907 ACT 195 BU\n",
      "Step #3600.00 (0ms ?*RT. ?UPS, TraCI: 259ms, vehicles TOT 1473 ACT 31 BUF 0)              OT 1 ACT 1 BUF 0)                     \n",
      "Step #3600.00 (0ms ?*RT. ?UPS, TraCI: 259ms, vehicles TOT 1473 ACT 37 BUF 0)              TOT 1 ACT 1 BUF 0)                     \n",
      "Step #3600.00 (0ms ?*RT. ?UPS, TraCI: 247ms, vehicles TOT 1473 ACT 34 BUF 0)              CI: 250ms, vehicles TOT 551 ACT 120 BU\n",
      "Step #3600.00 (0ms ?*RT. ?UPS, TraCI: 230ms, vehicles TOT 1473 ACT 32 BUF 0)              CI: 236ms, vehicles TOT 1297 ACT 83 BUF\n"
     ]
    },
    {
     "name": "stderr",
     "output_type": "stream",
     "text": [
      "\u001b[2m\u001b[36m(RolloutWorker pid=18968)\u001b[0m Warning: Vehicle '527' performs emergency braking on lane ':A1_42_0' with decel=9.00, wished=4.50, severity=1.00, time=1625.00.\n"
     ]
    },
    {
     "name": "stdout",
     "output_type": "stream",
     "text": [
      "Step #1600.00 (1ms ~= 1000.00*RT, ~126000.00UPS, TraCI: 238ms, vehicles TOT 551 ACT 126 BUTOT 1 ACT 1 BUF 0)                     \n"
     ]
    },
    {
     "name": "stderr",
     "output_type": "stream",
     "text": [
      "\u001b[2m\u001b[36m(RolloutWorker pid=19248)\u001b[0m Warning: Vehicle '640' performs emergency braking on lane ':A3_6_0' with decel=9.00, wished=4.50, severity=1.00, time=1770.00.\n"
     ]
    },
    {
     "name": "stdout",
     "output_type": "stream",
     "text": [
      "Step #1700.00 (1ms ~= 1000.00*RT, ~158000.00UPS, TraCI: 289ms, vehicles TOT 623 ACT 158 BUTOT 1 ACT 1 BUF 0)                     \n"
     ]
    },
    {
     "name": "stderr",
     "output_type": "stream",
     "text": [
      "\u001b[2m\u001b[36m(RolloutWorker pid=6944)\u001b[0m Warning: Vehicle '815' performs emergency braking on lane ':A2_42_0' with decel=9.00, wished=4.50, severity=1.00, time=2038.00.\n"
     ]
    },
    {
     "name": "stdout",
     "output_type": "stream",
     "text": [
      "Step #2000.00 (1ms ~= 1000.00*RT, ~213000.00UPS, TraCI: 271ms, vehicles TOT 907 ACT 213 BUOT 1 ACT 1 BUF 0)                     \n",
      "Step #3600.00 (1ms ~= 1000.00*RT, ~36000.00UPS, TraCI: 333ms, vehicles TOT 1473 ACT 36 BUFaCI: 261ms, vehicles TOT 708 ACT 178 BU\n",
      "Step #3600.00 (0ms ?*RT. ?UPS, TraCI: 314ms, vehicles TOT 1473 ACT 36 BUF 0)              OT 1 ACT 1 BUF 0)                     \n",
      "Step #3600.00 (0ms ?*RT. ?UPS, TraCI: 326ms, vehicles TOT 1473 ACT 35 BUF 0)              : 260ms, vehicles TOT 983 ACT 192 BUF \n",
      "Step #3600.00 (0ms ?*RT. ?UPS, TraCI: 295ms, vehicles TOT 1473 ACT 32 BUF 0)              aCI: 290ms, vehicles TOT 623 ACT 159 BU\n"
     ]
    },
    {
     "name": "stderr",
     "output_type": "stream",
     "text": [
      "\u001b[2m\u001b[36m(RolloutWorker pid=6944)\u001b[0m Warning: Vehicle '1008' performs emergency braking on lane ':D1_24_1' with decel=9.00, wished=4.50, severity=1.00, time=2195.00.\n"
     ]
    },
    {
     "name": "stdout",
     "output_type": "stream",
     "text": [
      "Step #2100.00 (1ms ~= 1000.00*RT, ~198000.00UPS, TraCI: 260ms, vehicles TOT 984 ACT 198 BUOT 1 ACT 1 BUF 0)                     \n"
     ]
    },
    {
     "name": "stderr",
     "output_type": "stream",
     "text": [
      "\u001b[2m\u001b[36m(RolloutWorker pid=6944)\u001b[0m Warning: Vehicle '1029' performs emergency braking on lane ':A3_15_1' with decel=9.00, wished=4.50, severity=1.00, time=2350.00.\n"
     ]
    },
    {
     "name": "stdout",
     "output_type": "stream",
     "text": [
      "Step #2300.00 (1ms ~= 1000.00*RT, ~142000.00UPS, TraCI: 249ms, vehicles TOT 1086 ACT 142 BCI: 254ms, vehicles TOT 1042 ACT 168 B\n",
      "Step #3600.00 (0ms ?*RT. ?UPS, TraCI: 284ms, vehicles TOT 1473 ACT 28 BUF 0)              TOT 1 ACT 1 BUF 0)                     \n",
      "Step #3600.00 (0ms ?*RT. ?UPS, TraCI: 294ms, vehicles TOT 1473 ACT 31 BUF 0)              s TOT 1136 ACT 111 BUF 0)             \n",
      "Step #3600.00 (0ms ?*RT. ?UPS, TraCI: 285ms, vehicles TOT 1473 ACT 32 BUF 0)              OT 1 ACT 1 BUF 0)                     \n",
      "Step #3600.00 (0ms ?*RT. ?UPS, TraCI: 248ms, vehicles TOT 1473 ACT 32 BUF 0)              TOT 1 ACT 1 BUF 0)                     \n"
     ]
    },
    {
     "name": "stderr",
     "output_type": "stream",
     "text": [
      "\u001b[2m\u001b[36m(RolloutWorker pid=6944)\u001b[0m Warning: Vehicle '575' performs emergency braking on lane ':B1_46_0' with decel=9.00, wished=4.50, severity=1.00, time=1735.00.\n"
     ]
    },
    {
     "name": "stdout",
     "output_type": "stream",
     "text": [
      "Step #1700.00 (1ms ~= 1000.00*RT, ~149000.00UPS, TraCI: 253ms, vehicles TOT 623 ACT 149 BUOT 1 ACT 1 BUF 0)                     \n"
     ]
    },
    {
     "name": "stderr",
     "output_type": "stream",
     "text": [
      "\u001b[2m\u001b[36m(RolloutWorker pid=19248)\u001b[0m Warning: Vehicle '667' performs emergency braking on lane ':D1_6_0' with decel=9.00, wished=4.50, severity=1.00, time=1845.00.\n"
     ]
    },
    {
     "name": "stdout",
     "output_type": "stream",
     "text": [
      "Step #1800.00 (1ms ~= 1000.00*RT, ~168000.00UPS, TraCI: 252ms, vehicles TOT 708 ACT 168 BUTOT 1 ACT 1 BUF 0)                     \n"
     ]
    },
    {
     "name": "stderr",
     "output_type": "stream",
     "text": [
      "\u001b[2m\u001b[36m(RolloutWorker pid=6944)\u001b[0m Warning: Vehicle '478' performs emergency braking on lane ':D1_36_0' with decel=9.00, wished=4.50, severity=1.00, time=1850.00.\n"
     ]
    },
    {
     "name": "stdout",
     "output_type": "stream",
     "text": [
      "\u001b[2m\u001b[36m(RolloutWorker pid=6944)\u001b[0m Step #1800.00 (2ms ~= 500.00*RT, ~91000.00UPS, TraCI: 261ms, vehicles TOT 708 ACT 182 BUF \n",
      "Step #1800.00 (1ms ~= 1000.00*RT, ~183000.00UPS, TraCI: 258ms, vehicles TOT 708 ACT 183 BUTOT 1 ACT 1 BUF 0)                     \n"
     ]
    },
    {
     "name": "stderr",
     "output_type": "stream",
     "text": [
      "\u001b[2m\u001b[36m(RolloutWorker pid=18968)\u001b[0m Warning: Vehicle '934' performs emergency braking on lane ':D3_40_0' with decel=9.00, wished=4.50, severity=1.00, time=2115.00.\u001b[32m [repeated 2x across cluster]\u001b[0m\n"
     ]
    },
    {
     "name": "stdout",
     "output_type": "stream",
     "text": [
      "Step #2100.00 (1ms ~= 1000.00*RT, ~198000.00UPS, TraCI: 272ms, vehicles TOT 983 ACT 198 BUCI: 272ms, vehicles TOT 824 ACT 224 BUF\n"
     ]
    },
    {
     "name": "stderr",
     "output_type": "stream",
     "text": [
      "\u001b[2m\u001b[36m(RolloutWorker pid=7016)\u001b[0m Warning: Vehicle '1198' performs emergency braking on lane ':A1_42_0' with decel=9.00, wished=4.50, severity=1.00, time=2609.00.\n"
     ]
    },
    {
     "name": "stdout",
     "output_type": "stream",
     "text": [
      "Step #2600.00 (1ms ~= 1000.00*RT, ~99000.00UPS, TraCI: 230ms, vehicles TOT 1220 ACT 99 BUFOT 1 ACT 1 BUF 0)                     \n",
      "Step #3600.00 (0ms ?*RT. ?UPS, TraCI: 242ms, vehicles TOT 1473 ACT 34 BUF 0)              CI: 268ms, vehicles TOT 824 ACT 220 BUF\n",
      "Step #3600.00 (0ms ?*RT. ?UPS, TraCI: 248ms, vehicles TOT 1473 ACT 38 BUF 0)              I: 275ms, vehicles TOT 824 ACT 230 BUF\n",
      "Step #3600.00 (0ms ?*RT. ?UPS, TraCI: 231ms, vehicles TOT 1473 ACT 39 BUF 0)              s TOT 1264 ACT 93 BUF 0)              \n",
      "Step #3600.00 (1ms ~= 1000.00*RT, ~43000.00UPS, TraCI: 236ms, vehicles TOT 1473 ACT 43 BUFaCI: 261ms, vehicles TOT 1042 ACT 158 B\n"
     ]
    },
    {
     "name": "stderr",
     "output_type": "stream",
     "text": [
      "\u001b[2m\u001b[36m(RolloutWorker pid=18968)\u001b[0m Warning: Vehicle '1072' performs emergency braking on lane ':D2_36_0' with decel=9.00, wished=4.50, severity=1.00, time=2339.00.\n"
     ]
    },
    {
     "name": "stdout",
     "output_type": "stream",
     "text": [
      "Step #2300.00 (1ms ~= 1000.00*RT, ~134000.00UPS, TraCI: 238ms, vehicles TOT 1086 ACT 134 BTOT 1 ACT 1 BUF 0)                     \n",
      "Step #3600.00 (0ms ?*RT. ?UPS, TraCI: 314ms, vehicles TOT 1473 ACT 41 BUF 0)              OT 1 ACT 1 BUF 0)                     \n",
      "Step #3600.00 (0ms ?*RT. ?UPS, TraCI: 311ms, vehicles TOT 1473 ACT 32 BUF 0)              TOT 1 ACT 1 BUF 0)                     \n",
      "Step #3600.00 (0ms ?*RT. ?UPS, TraCI: 289ms, vehicles TOT 1473 ACT 40 BUF 0)              OT 1 ACT 1 BUF 0)                     \n",
      "Step #3600.00 (0ms ?*RT. ?UPS, TraCI: 274ms, vehicles TOT 1473 ACT 31 BUF 0)              aCI: 358ms, vehicles TOT 1136 ACT 102 B\n"
     ]
    },
    {
     "name": "stdout",
     "output_type": "stream",
     "text": [
      "Step #2400.00 (1ms ~= 1000.00*RT, ~117000.00UPS, TraCI: 236ms, vehicles TOT 1136 ACT 117 B91ms, vehicles TOT 1 ACT 1 BUF 0)     \n",
      "Step #3600.00 (1ms ~= 1000.00*RT, ~33000.00UPS, TraCI: 263ms, vehicles TOT 1473 ACT 33 BUFTOT 1 ACT 1 BUF 0)                     \n",
      "Step #3600.00 (0ms ?*RT. ?UPS, TraCI: 263ms, vehicles TOT 1473 ACT 34 BUF 0)              CI: 400ms, vehicles TOT 907 ACT 218 BUF\n",
      "Step #3600.00 (0ms ?*RT. ?UPS, TraCI: 256ms, vehicles TOT 1473 ACT 35 BUF 0)              OT 1 ACT 1 BUF 0)                     \n",
      "Step #3600.00 (0ms ?*RT. ?UPS, TraCI: 263ms, vehicles TOT 1473 ACT 33 BUF 0)              CI: 245ms, vehicles TOT 1175 ACT 102 B\n"
     ]
    },
    {
     "name": "stderr",
     "output_type": "stream",
     "text": [
      "\u001b[2m\u001b[36m(RolloutWorker pid=7016)\u001b[0m Warning: Vehicle '567' performs emergency braking on lane ':D3_33_0' with decel=9.00, wished=4.50, severity=1.00, time=1925.00.\n"
     ]
    },
    {
     "name": "stdout",
     "output_type": "stream",
     "text": [
      "Step #1900.00 (1ms ~= 1000.00*RT, ~219000.00UPS, TraCI: 276ms, vehicles TOT 824 ACT 219 BUOT 1 ACT 1 BUF 0)                     \n"
     ]
    },
    {
     "name": "stderr",
     "output_type": "stream",
     "text": [
      "\u001b[2m\u001b[36m(RolloutWorker pid=19248)\u001b[0m Warning: Vehicle '871' performs emergency braking on lane ':D2_36_0' with decel=9.00, wished=4.50, severity=1.00, time=2109.00.\n"
     ]
    },
    {
     "name": "stdout",
     "output_type": "stream",
     "text": [
      "Step #2100.00 (1ms ~= 1000.00*RT, ~200000.00UPS, TraCI: 268ms, vehicles TOT 983 ACT 200 BUTOT 1 ACT 1 BUF 0)                     \n",
      "Step #3600.00 (0ms ?*RT. ?UPS, TraCI: 227ms, vehicles TOT 1473 ACT 36 BUF 0)              aCI: 257ms, vehicles TOT 1042 ACT 166 B\n",
      "Step #3600.00 (0ms ?*RT. ?UPS, TraCI: 225ms, vehicles TOT 1473 ACT 40 BUF 0)              CI: 266ms, vehicles TOT 907 ACT 210 BU\n",
      "Step #3600.00 (0ms ?*RT. ?UPS, TraCI: 230ms, vehicles TOT 1473 ACT 32 BUF 0)              TOT 1 ACT 1 BUF 0)                     \n",
      "Step #3600.00 (0ms ?*RT. ?UPS, TraCI: 226ms, vehicles TOT 1473 ACT 38 BUF 0)              OT 1 ACT 1 BUF 0)                     \n",
      "Step #3600.00 (0ms ?*RT. ?UPS, TraCI: 294ms, vehicles TOT 1473 ACT 32 BUF 0)              TOT 1 ACT 1 BUF 0)                     \n",
      "Step #3600.00 (0ms ?*RT. ?UPS, TraCI: 295ms, vehicles TOT 1473 ACT 36 BUF 0)              OT 1 ACT 1 BUF 0)                     \n",
      "Step #3600.00 (0ms ?*RT. ?UPS, TraCI: 294ms, vehicles TOT 1473 ACT 36 BUF 0)              OT 1 ACT 1 BUF 0)                     \n",
      "Step #3600.00 (0ms ?*RT. ?UPS, TraCI: 276ms, vehicles TOT 1473 ACT 39 BUF 0)              TOT 1 ACT 1 BUF 0)                     \n"
     ]
    },
    {
     "name": "stderr",
     "output_type": "stream",
     "text": [
      "\u001b[2m\u001b[36m(RolloutWorker pid=7016)\u001b[0m Warning: Vehicle '134' performs emergency braking on lane ':B0_15_0' with decel=9.00, wished=4.50, severity=1.00, time=625.00.\n"
     ]
    },
    {
     "name": "stdout",
     "output_type": "stream",
     "text": [
      "Step #600.00 (0ms ?*RT. ?UPS, TraCI: 221ms, vehicles TOT 141 ACT 51 BUF 0)                OT 1 ACT 1 BUF 0)                     \n"
     ]
    },
    {
     "name": "stderr",
     "output_type": "stream",
     "text": [
      "\u001b[2m\u001b[36m(RolloutWorker pid=19248)\u001b[0m Warning: Vehicle '839' performs emergency braking on lane ':B3_45_0' with decel=9.00, wished=4.50, severity=1.00, time=2164.00.\n"
     ]
    },
    {
     "name": "stdout",
     "output_type": "stream",
     "text": [
      "Step #2100.00 (2ms ~= 500.00*RT, ~102000.00UPS, TraCI: 262ms, vehicles TOT 983 ACT 204 BUFTOT 1 ACT 1 BUF 0)                     \n",
      "Step #3600.00 (0ms ?*RT. ?UPS, TraCI: 252ms, vehicles TOT 1473 ACT 33 BUF 0)              aCI: 252ms, vehicles TOT 1042 ACT 163 B\n",
      "Step #3600.00 (0ms ?*RT. ?UPS, TraCI: 249ms, vehicles TOT 1473 ACT 35 BUF 0)              : 216ms, vehicles TOT 164 ACT 47 BUF 0\n",
      "Step #3600.00 (0ms ?*RT. ?UPS, TraCI: 252ms, vehicles TOT 1473 ACT 34 BUF 0)              OT 1 ACT 1 BUF 0)                     \n",
      "Step #3600.00 (1ms ~= 1000.00*RT, ~32000.00UPS, TraCI: 222ms, vehicles TOT 1473 ACT 32 BUFTOT 1 ACT 1 BUF 0)                     \n"
     ]
    },
    {
     "name": "stderr",
     "output_type": "stream",
     "text": [
      "\u001b[2m\u001b[36m(RolloutWorker pid=7016)\u001b[0m Warning: Vehicle '330' performs emergency braking on lane ':B0_39_0' with decel=9.00, wished=4.50, severity=1.00, time=1409.00.\n"
     ]
    },
    {
     "name": "stdout",
     "output_type": "stream",
     "text": [
      "Step #1400.00 (1ms ~= 1000.00*RT, ~107000.00UPS, TraCI: 245ms, vehicles TOT 432 ACT 107 BUOT 1 ACT 1 BUF 0)                     \n"
     ]
    },
    {
     "name": "stderr",
     "output_type": "stream",
     "text": [
      "\u001b[2m\u001b[36m(RolloutWorker pid=19248)\u001b[0m Warning: Vehicle '1302' performs emergency braking on lane ':A1_42_0' with decel=9.00, wished=4.50, severity=1.00, time=2982.00.\n"
     ]
    },
    {
     "name": "stdout",
     "output_type": "stream",
     "text": [
      "Step #2900.00 (1ms ~= 1000.00*RT, ~68000.00UPS, TraCI: 225ms, vehicles TOT 1327 ACT 68 BUFTOT 1 ACT 1 BUF 0)                     \n",
      "Step #3600.00 (1ms ~= 1000.00*RT, ~34000.00UPS, TraCI: 322ms, vehicles TOT 1473 ACT 34 BUFOT 1 ACT 1 BUF 0)                     \n",
      "Step #3600.00 (1ms ~= 1000.00*RT, ~34000.00UPS, TraCI: 319ms, vehicles TOT 1473 ACT 34 BUFCI: 233ms, vehicles TOT 1357 ACT 69 BUF\n",
      "Step #3600.00 (1ms ~= 1000.00*RT, ~35000.00UPS, TraCI: 326ms, vehicles TOT 1473 ACT 35 BUFI: 232ms, vehicles TOT 483 ACT 96 BUF \n",
      "Step #3600.00 (1ms ~= 1000.00*RT, ~35000.00UPS, TraCI: 297ms, vehicles TOT 1473 ACT 35 BUFTOT 1 ACT 1 BUF 0)                     \n"
     ]
    },
    {
     "name": "stderr",
     "output_type": "stream",
     "text": [
      "\u001b[2m\u001b[36m(RolloutWorker pid=19248)\u001b[0m Warning: Vehicle '541' performs emergency braking on lane ':A3_42_0' with decel=9.00, wished=4.50, severity=1.00, time=1934.00.\n"
     ]
    },
    {
     "name": "stdout",
     "output_type": "stream",
     "text": [
      "Step #1900.00 (1ms ~= 1000.00*RT, ~215000.00UPS, TraCI: 278ms, vehicles TOT 824 ACT 215 BUTOT 1 ACT 1 BUF 0)                     \n",
      "Step #3600.00 (1ms ~= 1000.00*RT, ~37000.00UPS, TraCI: 286ms, vehicles TOT 1473 ACT 37 BUFCI: 273ms, vehicles TOT 907 ACT 210 BUF\n",
      "Step #3600.00 (0ms ?*RT. ?UPS, TraCI: 274ms, vehicles TOT 1473 ACT 36 BUF 0)              OT 1 ACT 1 BUF 0)                     \n",
      "Step #3600.00 (0ms ?*RT. ?UPS, TraCI: 275ms, vehicles TOT 1473 ACT 33 BUF 0)              OT 1 ACT 1 BUF 0)                     \n",
      "Step #3600.00 (0ms ?*RT. ?UPS, TraCI: 257ms, vehicles TOT 1473 ACT 33 BUF 0)              TOT 1 ACT 1 BUF 0)                     \n"
     ]
    },
    {
     "name": "stderr",
     "output_type": "stream",
     "text": [
      "\u001b[2m\u001b[36m(RolloutWorker pid=7016)\u001b[0m Warning: Vehicle '837' performs emergency braking on lane ':D2_36_0' with decel=9.00, wished=4.50, severity=1.00, time=2074.00.\n"
     ]
    },
    {
     "name": "stdout",
     "output_type": "stream",
     "text": [
      "Step #2000.00 (1ms ~= 1000.00*RT, ~213000.00UPS, TraCI: 271ms, vehicles TOT 907 ACT 213 BUOT 1 ACT 1 BUF 0)                     \n",
      "Step #3600.00 (0ms ?*RT. ?UPS, TraCI: 246ms, vehicles TOT 1473 ACT 28 BUF 0)              189ms, vehicles TOT 1 ACT 1 BUF 0)     \n",
      "Step #3600.00 (0ms ?*RT. ?UPS, TraCI: 242ms, vehicles TOT 1473 ACT 37 BUF 0)              CI: 258ms, vehicles TOT 983 ACT 201 BU\n",
      "Step #3600.00 (0ms ?*RT. ?UPS, TraCI: 239ms, vehicles TOT 1473 ACT 34 BUF 0)              OT 1 ACT 1 BUF 0)                     \n",
      "Step #3600.00 (0ms ?*RT. ?UPS, TraCI: 234ms, vehicles TOT 1473 ACT 36 BUF 0)              TOT 1 ACT 1 BUF 0)                     \n"
     ]
    },
    {
     "name": "stderr",
     "output_type": "stream",
     "text": [
      "\u001b[2m\u001b[36m(RolloutWorker pid=18968)\u001b[0m Warning: Vehicle '235' performs emergency braking on lane ':C2_40_0' with decel=9.00, wished=4.50, severity=1.00, time=981.00.\n"
     ]
    },
    {
     "name": "stdout",
     "output_type": "stream",
     "text": [
      "Step #900.00 (1ms ~= 1000.00*RT, ~59000.00UPS, TraCI: 234ms, vehicles TOT 224 ACT 59 BUF 0TOT 1 ACT 1 BUF 0)                     \n"
     ]
    },
    {
     "name": "stderr",
     "output_type": "stream",
     "text": [
      "\u001b[2m\u001b[36m(RolloutWorker pid=6944)\u001b[0m Warning: Vehicle '478' performs emergency braking on lane ':D1_6_0' with decel=9.00, wished=4.50, severity=1.00, time=1800.00.\n"
     ]
    },
    {
     "name": "stdout",
     "output_type": "stream",
     "text": [
      "Step #1800.00 (1ms ~= 1000.00*RT, ~156000.00UPS, TraCI: 256ms, vehicles TOT 623 ACT 156 BU99ms, vehicles TOT 1 ACT 1 BUF 0)     \n"
     ]
    },
    {
     "name": "stderr",
     "output_type": "stream",
     "text": [
      "\u001b[2m\u001b[36m(RolloutWorker pid=19248)\u001b[0m Warning: Vehicle '759' performs emergency braking on lane ':D3_45_0' with decel=9.00, wished=4.50, severity=1.00, time=1910.00.\n"
     ]
    },
    {
     "name": "stdout",
     "output_type": "stream",
     "text": [
      "Step #1900.00 (2ms ~= 500.00*RT, ~106500.00UPS, TraCI: 290ms, vehicles TOT 824 ACT 213 BUFTOT 1 ACT 1 BUF 0)                     \n"
     ]
    },
    {
     "name": "stderr",
     "output_type": "stream",
     "text": [
      "\u001b[2m\u001b[36m(RolloutWorker pid=6944)\u001b[0m Warning: Vehicle '853' performs emergency braking on lane ':A2_6_1' with decel=9.00, wished=4.50, severity=1.00, time=1982.00.\n"
     ]
    },
    {
     "name": "stdout",
     "output_type": "stream",
     "text": [
      "Step #1900.00 (1ms ~= 1000.00*RT, ~217000.00UPS, TraCI: 286ms, vehicles TOT 824 ACT 217 BUhicles TOT 708 ACT 171 BU\n"
     ]
    },
    {
     "name": "stderr",
     "output_type": "stream",
     "text": [
      "\u001b[2m\u001b[36m(RolloutWorker pid=6944)\u001b[0m Warning: Vehicle '1069' performs emergency braking on lane ':C0_39_0' with decel=9.00, wished=4.50, severity=1.00, time=2322.00.\n"
     ]
    },
    {
     "name": "stdout",
     "output_type": "stream",
     "text": [
      "Step #2300.00 (1ms ~= 1000.00*RT, ~131000.00UPS, TraCI: 254ms, vehicles TOT 1086 ACT 131 BCI: 275ms, vehicles TOT 907 ACT 202 BU\n",
      "Step #3600.00 (0ms ?*RT. ?UPS, TraCI: 307ms, vehicles TOT 1473 ACT 35 BUF 0)              aCI: 274ms, vehicles TOT 907 ACT 210 BU\n",
      "Step #3600.00 (0ms ?*RT. ?UPS, TraCI: 305ms, vehicles TOT 1473 ACT 35 BUF 0)              CI: 336ms, vehicles TOT 1136 ACT 124 B\n",
      "Step #3600.00 (0ms ?*RT. ?UPS, TraCI: 292ms, vehicles TOT 1473 ACT 32 BUF 0)              OT 1 ACT 1 BUF 0)                     \n",
      "Step #3600.00 (0ms ?*RT. ?UPS, TraCI: 260ms, vehicles TOT 1473 ACT 34 BUF 0)              es TOT 258 ACT 68 BUF 0)               \n"
     ]
    },
    {
     "name": "stderr",
     "output_type": "stream",
     "text": [
      "\u001b[2m\u001b[36m(RolloutWorker pid=6944)\u001b[0m Warning: Vehicle '341' performs emergency braking on lane ':D2_40_0' with decel=9.00, wished=4.50, severity=1.00, time=1233.00.\n"
     ]
    },
    {
     "name": "stdout",
     "output_type": "stream",
     "text": [
      "Step #1200.00 (1ms ~= 1000.00*RT, ~72000.00UPS, TraCI: 223ms, vehicles TOT 339 ACT 72 BUF OT 1 ACT 1 BUF 0)                     \n",
      "Step #2100.00 (2ms ~= 500.00*RT, ~93500.00UPS, TraCI: 261ms, vehicles TOT 983 ACT 187 BUF I: 254ms, vehicles TOT 386 ACT 87 BUF \n"
     ]
    },
    {
     "name": "stderr",
     "output_type": "stream",
     "text": [
      "\u001b[2m\u001b[36m(RolloutWorker pid=6944)\u001b[0m Warning: Vehicle '919' performs emergency braking on lane ':D2_36_0' with decel=9.00, wished=4.50, severity=1.00, time=2115.00.\n",
      "\u001b[2m\u001b[36m(RolloutWorker pid=6944)\u001b[0m Warning: Vehicle '1007' performs emergency braking on lane ':A3_45_0' with decel=9.00, wished=4.50, severity=1.00, time=2182.00.\n"
     ]
    },
    {
     "name": "stdout",
     "output_type": "stream",
     "text": [
      "Step #3600.00 (0ms ?*RT. ?UPS, TraCI: 273ms, vehicles TOT 1473 ACT 29 BUF 0)              TOT 1 ACT 1 BUF 0)                     \n",
      "Step #3600.00 (0ms ?*RT. ?UPS, TraCI: 256ms, vehicles TOT 1473 ACT 35 BUF 0)              OT 1 ACT 1 BUF 0)                     \n",
      "Step #3600.00 (0ms ?*RT. ?UPS, TraCI: 259ms, vehicles TOT 1473 ACT 34 BUF 0)              CI: 259ms, vehicles TOT 1042 ACT 160 B\n",
      "Step #3600.00 (1ms ~= 1000.00*RT, ~35000.00UPS, TraCI: 241ms, vehicles TOT 1473 ACT 35 BUFTOT 1 ACT 1 BUF 0)                     \n"
     ]
    },
    {
     "name": "stderr",
     "output_type": "stream",
     "text": [
      "\u001b[2m\u001b[36m(RolloutWorker pid=6944)\u001b[0m Warning: Vehicle '480' performs emergency braking on lane ':A1_33_1' with decel=9.00, wished=4.50, severity=1.00, time=1525.00.\n"
     ]
    },
    {
     "name": "stdout",
     "output_type": "stream",
     "text": [
      "Step #1500.00 (0ms ?*RT. ?UPS, TraCI: 237ms, vehicles TOT 483 ACT 110 BUF 1)              OT 1 ACT 1 BUF 0)                     \n"
     ]
    },
    {
     "name": "stderr",
     "output_type": "stream",
     "text": [
      "\u001b[2m\u001b[36m(RolloutWorker pid=19248)\u001b[0m Warning: Vehicle '575' performs emergency braking on lane ':B1_46_0' with decel=9.00, wished=4.50, severity=1.00, time=1740.00.\n"
     ]
    },
    {
     "name": "stdout",
     "output_type": "stream",
     "text": [
      "Step #1700.00 (1ms ~= 1000.00*RT, ~150000.00UPS, TraCI: 255ms, vehicles TOT 623 ACT 150 BU155ms, vehicles TOT 1 ACT 1 BUF 0)     \n"
     ]
    },
    {
     "name": "stderr",
     "output_type": "stream",
     "text": [
      "\u001b[2m\u001b[36m(RolloutWorker pid=7016)\u001b[0m Warning: Vehicle '703' performs emergency braking on lane ':A2_42_0' with decel=9.00, wished=4.50, severity=1.00, time=2050.00.\n"
     ]
    },
    {
     "name": "stdout",
     "output_type": "stream",
     "text": [
      "Step #2000.00 (2ms ~= 500.00*RT, ~105000.00UPS, TraCI: 270ms, vehicles TOT 907 ACT 210 BUFOT 1 ACT 1 BUF 0)                     \n"
     ]
    },
    {
     "name": "stderr",
     "output_type": "stream",
     "text": [
      "\u001b[2m\u001b[36m(RolloutWorker pid=18968)\u001b[0m Warning: Vehicle '1338' performs emergency braking on lane ':D0_6_0' with decel=9.00, wished=4.50, severity=1.00, time=2997.00.\n"
     ]
    },
    {
     "name": "stdout",
     "output_type": "stream",
     "text": [
      "Step #2900.00 (0ms ?*RT. ?UPS, TraCI: 229ms, vehicles TOT 1327 ACT 67 BUF 0)              TOT 1 ACT 1 BUF 0)                     \n",
      "Step #3600.00 (0ms ?*RT. ?UPS, TraCI: 227ms, vehicles TOT 1473 ACT 34 BUF 0)              CI: 261ms, vehicles TOT 984 ACT 185 BU\n",
      "Step #3600.00 (0ms ?*RT. ?UPS, TraCI: 226ms, vehicles TOT 1473 ACT 30 BUF 0)              es TOT 1357 ACT 61 BUF 0)              \n",
      "Step #3600.00 (0ms ?*RT. ?UPS, TraCI: 224ms, vehicles TOT 1473 ACT 37 BUF 0)              CI: 373ms, vehicles TOT 551 ACT 134 BU\n",
      "Step #3600.00 (0ms ?*RT. ?UPS, TraCI: 227ms, vehicles TOT 1473 ACT 35 BUF 0)              I: 257ms, vehicles TOT 708 ACT 185 BUF \n"
     ]
    },
    {
     "name": "stderr",
     "output_type": "stream",
     "text": [
      "\u001b[2m\u001b[36m(RolloutWorker pid=6944)\u001b[0m Warning: Vehicle '216' performs emergency braking on lane 'D0D1_0' with decel=9.00, wished=4.50, severity=1.00, time=922.00.\n"
     ]
    },
    {
     "name": "stdout",
     "output_type": "stream",
     "text": [
      "Step #900.00 (0ms ?*RT. ?UPS, TraCI: 223ms, vehicles TOT 224 ACT 58 BUF 0)                OT 1 ACT 1 BUF 0)                     \n"
     ]
    },
    {
     "name": "stderr",
     "output_type": "stream",
     "text": [
      "\u001b[2m\u001b[36m(RolloutWorker pid=6944)\u001b[0m Warning: Vehicle '739' performs emergency braking on lane ':C2_37_0' with decel=9.00, wished=4.50, severity=1.00, time=1931.00.\n"
     ]
    },
    {
     "name": "stdout",
     "output_type": "stream",
     "text": [
      "Step #1900.00 (1ms ~= 1000.00*RT, ~211000.00UPS, TraCI: 270ms, vehicles TOT 824 ACT 211 BUI: 218ms, vehicles TOT 258 ACT 63 BUF \n"
     ]
    },
    {
     "name": "stderr",
     "output_type": "stream",
     "text": [
      "\u001b[2m\u001b[36m(RolloutWorker pid=6944)\u001b[0m Warning: Vehicle '913' performs emergency braking on lane ':D0_6_0' with decel=9.00, wished=4.50, severity=1.00, time=2480.00.\n"
     ]
    },
    {
     "name": "stdout",
     "output_type": "stream",
     "text": [
      "Step #2400.00 (1ms ~= 1000.00*RT, ~129000.00UPS, TraCI: 273ms, vehicles TOT 1136 ACT 129 BCI: 271ms, vehicles TOT 907 ACT 204 BU\n",
      "Step #3600.00 (1ms ~= 1000.00*RT, ~30000.00UPS, TraCI: 301ms, vehicles TOT 1473 ACT 30 BUFTOT 1 ACT 1 BUF 0)                     \n",
      "Step #3600.00 (1ms ~= 1000.00*RT, ~32000.00UPS, TraCI: 307ms, vehicles TOT 1473 ACT 32 BUFOT 1 ACT 1 BUF 0)                     \n",
      "Step #3600.00 (1ms ~= 1000.00*RT, ~38000.00UPS, TraCI: 275ms, vehicles TOT 1473 ACT 38 BUFCI: 238ms, vehicles TOT 1175 ACT 105 B\n",
      "Step #3600.00 (1ms ~= 1000.00*RT, ~38000.00UPS, TraCI: 253ms, vehicles TOT 1473 ACT 38 BUFTOT 1 ACT 1 BUF 0)                     \n"
     ]
    },
    {
     "name": "stderr",
     "output_type": "stream",
     "text": [
      "\u001b[2m\u001b[36m(RolloutWorker pid=6944)\u001b[0m Warning: Vehicle '960' performs emergency braking on lane ':A1_40_0' with decel=9.00, wished=4.50, severity=1.00, time=2239.00.\n"
     ]
    },
    {
     "name": "stdout",
     "output_type": "stream",
     "text": [
      "Step #2200.00 (1ms ~= 1000.00*RT, ~153000.00UPS, TraCI: 256ms, vehicles TOT 1042 ACT 153 BOT 1 ACT 1 BUF 0)                     \n"
     ]
    },
    {
     "name": "stderr",
     "output_type": "stream",
     "text": [
      "\u001b[2m\u001b[36m(RolloutWorker pid=19248)\u001b[0m Warning: Vehicle '1193' performs emergency braking on lane ':D1_36_0' with decel=9.00, wished=4.50, severity=1.00, time=2825.00.\n"
     ]
    },
    {
     "name": "stdout",
     "output_type": "stream",
     "text": [
      "Step #2800.00 (1ms ~= 1000.00*RT, ~84000.00UPS, TraCI: 228ms, vehicles TOT 1297 ACT 84 BUFTOT 1 ACT 1 BUF 0)                     \n",
      "Step #3600.00 (0ms ?*RT. ?UPS, TraCI: 257ms, vehicles TOT 1473 ACT 34 BUF 0)              es TOT 1327 ACT 73 BUF 0)              \n",
      "Step #3600.00 (1ms ~= 1000.00*RT, ~35000.00UPS, TraCI: 243ms, vehicles TOT 1473 ACT 35 BUFOT 1 ACT 1 BUF 0)                     \n",
      "Step #3600.00 (0ms ?*RT. ?UPS, TraCI: 250ms, vehicles TOT 1473 ACT 36 BUF 0)              CI: 244ms, vehicles TOT 1086 ACT 120 B\n",
      "Step #3600.00 (1ms ~= 1000.00*RT, ~37000.00UPS, TraCI: 235ms, vehicles TOT 1473 ACT 37 BUFTOT 1 ACT 1 BUF 0)                     \n"
     ]
    },
    {
     "name": "stderr",
     "output_type": "stream",
     "text": [
      "\u001b[2m\u001b[36m(RolloutWorker pid=19248)\u001b[0m Warning: Vehicle '933' performs emergency braking on lane ':C3_40_0' with decel=9.00, wished=4.50, severity=1.00, time=2090.00.\n"
     ]
    },
    {
     "name": "stdout",
     "output_type": "stream",
     "text": [
      "Step #2000.00 (1ms ~= 1000.00*RT, ~208000.00UPS, TraCI: 268ms, vehicles TOT 907 ACT 208 BUTOT 1 ACT 1 BUF 0)                     \n"
     ]
    },
    {
     "name": "stderr",
     "output_type": "stream",
     "text": [
      "\u001b[2m\u001b[36m(RolloutWorker pid=6944)\u001b[0m Warning: Vehicle '1241' performs emergency braking on lane 'C2C3_0' with decel=9.00, wished=4.50, severity=1.00, time=2742.00.\n"
     ]
    },
    {
     "name": "stdout",
     "output_type": "stream",
     "text": [
      "Step #2700.00 (0ms ?*RT. ?UPS, TraCI: 232ms, vehicles TOT 1264 ACT 94 BUF 0)              07ms, vehicles TOT 1 ACT 1 BUF 0)     \n",
      "Step #3600.00 (0ms ?*RT. ?UPS, TraCI: 329ms, vehicles TOT 1473 ACT 40 BUF 0)              I: 238ms, vehicles TOT 1297 ACT 72 BUF\n",
      "Step #3600.00 (0ms ?*RT. ?UPS, TraCI: 327ms, vehicles TOT 1473 ACT 37 BUF 0)              I: 255ms, vehicles TOT 983 ACT 194 BUF \n",
      "Step #3600.00 (0ms ?*RT. ?UPS, TraCI: 325ms, vehicles TOT 1473 ACT 37 BUF 0)              08ms, vehicles TOT 1 ACT 1 BUF 0)     \n",
      "Step #3600.00 (1ms ~= 1000.00*RT, ~34000.00UPS, TraCI: 297ms, vehicles TOT 1473 ACT 34 BUFTOT 1 ACT 1 BUF 0)                     \n"
     ]
    },
    {
     "name": "stderr",
     "output_type": "stream",
     "text": [
      "\u001b[2m\u001b[36m(RolloutWorker pid=6944)\u001b[0m Warning: Vehicle '667' performs emergency braking on lane ':D1_36_0' with decel=9.00, wished=4.50, severity=1.00, time=1864.00.\n"
     ]
    },
    {
     "name": "stdout",
     "output_type": "stream",
     "text": [
      "Step #1800.00 (1ms ~= 1000.00*RT, ~174000.00UPS, TraCI: 256ms, vehicles TOT 708 ACT 174 BUOT 1 ACT 1 BUF 0)                     \n"
     ]
    },
    {
     "name": "stderr",
     "output_type": "stream",
     "text": [
      "\u001b[2m\u001b[36m(RolloutWorker pid=19248)\u001b[0m Warning: Vehicle '687' performs emergency braking on lane ':D3_33_0' with decel=9.00, wished=4.50, severity=1.00, time=1930.00.\n"
     ]
    },
    {
     "name": "stdout",
     "output_type": "stream",
     "text": [
      "Step #1900.00 (2ms ~= 500.00*RT, ~111000.00UPS, TraCI: 272ms, vehicles TOT 824 ACT 222 BUFTOT 1 ACT 1 BUF 0)                     \n",
      "Step #3600.00 (0ms ?*RT. ?UPS, TraCI: 280ms, vehicles TOT 1473 ACT 32 BUF 0)              I: 281ms, vehicles TOT 824 ACT 205 BUF\n",
      "Step #3600.00 (0ms ?*RT. ?UPS, TraCI: 286ms, vehicles TOT 1473 ACT 36 BUF 0)              OT 1 ACT 1 BUF 0)                     \n",
      "Step #3600.00 (0ms ?*RT. ?UPS, TraCI: 286ms, vehicles TOT 1473 ACT 30 BUF 0)              aCI: 266ms, vehicles TOT 907 ACT 208 BU\n",
      "Step #3600.00 (0ms ?*RT. ?UPS, TraCI: 246ms, vehicles TOT 1473 ACT 36 BUF 0)              TOT 1 ACT 1 BUF 0)                     \n"
     ]
    },
    {
     "name": "stderr",
     "output_type": "stream",
     "text": [
      "\u001b[2m\u001b[36m(RolloutWorker pid=18968)\u001b[0m Warning: Vehicle '636' performs emergency braking on lane ':A3_42_0' with decel=9.00, wished=4.50, severity=1.00, time=1933.00.\n"
     ]
    },
    {
     "name": "stdout",
     "output_type": "stream",
     "text": [
      "Step #1900.00 (1ms ~= 1000.00*RT, ~227000.00UPS, TraCI: 278ms, vehicles TOT 824 ACT 227 BUTOT 1 ACT 1 BUF 0)                     \n",
      "Step #3600.00 (0ms ?*RT. ?UPS, TraCI: 238ms, vehicles TOT 1473 ACT 29 BUF 0)              OT 1 ACT 1 BUF 0)                     \n",
      "Step #3600.00 (0ms ?*RT. ?UPS, TraCI: 238ms, vehicles TOT 1473 ACT 31 BUF 0)              TOT 1 ACT 1 BUF 0)                     \n",
      "Step #3600.00 (0ms ?*RT. ?UPS, TraCI: 232ms, vehicles TOT 1473 ACT 38 BUF 0)              OT 1 ACT 1 BUF 0)                     \n",
      "Step #3600.00 (0ms ?*RT. ?UPS, TraCI: 237ms, vehicles TOT 1473 ACT 30 BUF 0)              aCI: 270ms, vehicles TOT 907 ACT 201 BU\n",
      "Step #3600.00 (1ms ~= 1000.00*RT, ~34000.00UPS, TraCI: 308ms, vehicles TOT 1473 ACT 34 BUFTOT 1 ACT 1 BUF 0)                     \n",
      "Step #3600.00 (0ms ?*RT. ?UPS, TraCI: 307ms, vehicles TOT 1473 ACT 31 BUF 0)              OT 1 ACT 1 BUF 0)                     \n",
      "Step #3600.00 (1ms ~= 1000.00*RT, ~34000.00UPS, TraCI: 301ms, vehicles TOT 1473 ACT 34 BUFOT 1 ACT 1 BUF 0)                     \n",
      "Step #3600.00 (0ms ?*RT. ?UPS, TraCI: 273ms, vehicles TOT 1473 ACT 31 BUF 0)              TOT 1 ACT 1 BUF 0)                     \n"
     ]
    },
    {
     "name": "stderr",
     "output_type": "stream",
     "text": [
      "\u001b[2m\u001b[36m(RolloutWorker pid=6944)\u001b[0m Warning: Vehicle '498' performs emergency braking on lane ':A1_42_0' with decel=9.00, wished=4.50, severity=1.00, time=1631.00.\n"
     ]
    },
    {
     "name": "stdout",
     "output_type": "stream",
     "text": [
      "Step #1600.00 (1ms ~= 1000.00*RT, ~126000.00UPS, TraCI: 250ms, vehicles TOT 551 ACT 126 BUOT 1 ACT 1 BUF 0)                     \n"
     ]
    },
    {
     "name": "stderr",
     "output_type": "stream",
     "text": [
      "\u001b[2m\u001b[36m(RolloutWorker pid=6944)\u001b[0m Warning: Vehicle '620' performs emergency braking on lane ':A3_37_0' with decel=9.00, wished=4.50, severity=1.00, time=1725.00.\n"
     ]
    },
    {
     "name": "stdout",
     "output_type": "stream",
     "text": [
      "\u001b[2m\u001b[36m(RolloutWorker pid=6944)\u001b[0m Step #1700.00 (1ms ~= 1000.00*RT, ~150000.00UPS, TraCI: 250ms, vehicles TOT 623 ACT 150 BU\n"
     ]
    },
    {
     "name": "stderr",
     "output_type": "stream",
     "text": [
      "\u001b[2m\u001b[36m(RolloutWorker pid=6944)\u001b[0m Warning: Vehicle '867' performs emergency braking on lane ':D2_36_0' with decel=9.00, wished=4.50, severity=1.00, time=2042.00.\n"
     ]
    },
    {
     "name": "stdout",
     "output_type": "stream",
     "text": [
      "Step #2000.00 (1ms ~= 1000.00*RT, ~215000.00UPS, TraCI: 398ms, vehicles TOT 907 ACT 215 BUCI: 254ms, vehicles TOT 708 ACT 171 BU\n",
      "Step #3600.00 (1ms ~= 1000.00*RT, ~33000.00UPS, TraCI: 265ms, vehicles TOT 1473 ACT 33 BUFOT 1 ACT 1 BUF 0)                     \n",
      "Step #3600.00 (0ms ?*RT. ?UPS, TraCI: 263ms, vehicles TOT 1473 ACT 29 BUF 0)              TOT 1 ACT 1 BUF 0)                     \n",
      "Step #3600.00 (0ms ?*RT. ?UPS, TraCI: 257ms, vehicles TOT 1473 ACT 35 BUF 0)              : 264ms, vehicles TOT 983 ACT 194 BUF \n",
      "Step #3600.00 (0ms ?*RT. ?UPS, TraCI: 245ms, vehicles TOT 1473 ACT 37 BUF 0)              TOT 1 ACT 1 BUF 0)                     \n"
     ]
    },
    {
     "name": "stderr",
     "output_type": "stream",
     "text": [
      "\u001b[2m\u001b[36m(RolloutWorker pid=7016)\u001b[0m Warning: Vehicle '478' performs emergency braking on lane ':D1_36_0' with decel=9.00, wished=4.50, severity=1.00, time=1852.00.\n"
     ]
    },
    {
     "name": "stdout",
     "output_type": "stream",
     "text": [
      "Step #1800.00 (1ms ~= 1000.00*RT, ~173000.00UPS, TraCI: 254ms, vehicles TOT 708 ACT 173 BUOT 1 ACT 1 BUF 0)                     \n"
     ]
    },
    {
     "name": "stderr",
     "output_type": "stream",
     "text": [
      "\u001b[2m\u001b[36m(RolloutWorker pid=19248)\u001b[0m Warning: Vehicle '800' performs emergency braking on lane ':A0_46_0' with decel=9.00, wished=4.50, severity=1.00, time=1945.00.\n"
     ]
    },
    {
     "name": "stdout",
     "output_type": "stream",
     "text": [
      "Step #1900.00 (2ms ~= 500.00*RT, ~111000.00UPS, TraCI: 275ms, vehicles TOT 824 ACT 222 BUFTOT 1 ACT 1 BUF 0)                     \n"
     ]
    },
    {
     "name": "stderr",
     "output_type": "stream",
     "text": [
      "\u001b[2m\u001b[36m(RolloutWorker pid=19248)\u001b[0m Warning: Vehicle '735' performs emergency braking on lane ':A2_42_0' with decel=9.00, wished=4.50, severity=1.00, time=2044.00.\n"
     ]
    },
    {
     "name": "stdout",
     "output_type": "stream",
     "text": [
      "\u001b[2m\u001b[36m(RolloutWorker pid=19248)\u001b[0m Step #2000.00 (1ms ~= 1000.00*RT, ~201000.00UPS, TraCI: 263ms, vehicles TOT 907 ACT 201 BU\n"
     ]
    },
    {
     "name": "stderr",
     "output_type": "stream",
     "text": [
      "\u001b[2m\u001b[36m(RolloutWorker pid=18968)\u001b[0m Warning: Vehicle '987' performs emergency braking on lane ':A0_39_0' with decel=9.00, wished=4.50, severity=1.00, time=2335.00.\n"
     ]
    },
    {
     "name": "stdout",
     "output_type": "stream",
     "text": [
      "Step #2300.00 (1ms ~= 1000.00*RT, ~122000.00UPS, TraCI: 238ms, vehicles TOT 1086 ACT 122 BTOT 1 ACT 1 BUF 0)                     \n"
     ]
    },
    {
     "name": "stdout",
     "output_type": "stream",
     "text": [
      "\u001b[2m\u001b[36m(RolloutWorker pid=18968)\u001b[0m Step #2400.00 (1ms ~= 1000.00*RT, ~105000.00UPS, TraCI: 237ms, vehicles TOT 1136 ACT 105 B\n",
      "Step #3600.00 (1ms ~= 1000.00*RT, ~32000.00UPS, TraCI: 237ms, vehicles TOT 1473 ACT 32 BUFs TOT 1136 ACT 101 BUF 0)             \n",
      "Step #3600.00 (0ms ?*RT. ?UPS, TraCI: 221ms, vehicles TOT 1473 ACT 32 BUF 0)              CI: 239ms, vehicles TOT 1175 ACT 92 BUF\n",
      "Step #3600.00 (0ms ?*RT. ?UPS, TraCI: 232ms, vehicles TOT 1473 ACT 34 BUF 0)              OT 1 ACT 1 BUF 0)                     \n",
      "Step #3600.00 (0ms ?*RT. ?UPS, TraCI: 236ms, vehicles TOT 1473 ACT 35 BUF 0)              aCI: 251ms, vehicles TOT 983 ACT 194 BU\n"
     ]
    },
    {
     "name": "stderr",
     "output_type": "stream",
     "text": [
      "\u001b[2m\u001b[36m(RolloutWorker pid=7016)\u001b[0m Warning: Vehicle '896' performs emergency braking on lane ':C0_39_0' with decel=9.00, wished=4.50, severity=1.00, time=2182.00.\u001b[32m [repeated 2x across cluster]\u001b[0m\n"
     ]
    },
    {
     "name": "stdout",
     "output_type": "stream",
     "text": [
      "Step #2100.00 (1ms ~= 1000.00*RT, ~189000.00UPS, TraCI: 266ms, vehicles TOT 983 ACT 189 BU11ms, vehicles TOT 1 ACT 1 BUF 0)     \n",
      "Step #3600.00 (0ms ?*RT. ?UPS, TraCI: 298ms, vehicles TOT 1473 ACT 36 BUF 0)              OT 1 ACT 1 BUF 0)                     \n",
      "Step #3600.00 (0ms ?*RT. ?UPS, TraCI: 301ms, vehicles TOT 1473 ACT 31 BUF 0)              TOT 1 ACT 1 BUF 0)                     \n",
      "Step #3600.00 (1ms ~= 1000.00*RT, ~36000.00UPS, TraCI: 276ms, vehicles TOT 1473 ACT 36 BUFCI: 256ms, vehicles TOT 1042 ACT 157 B\n",
      "Step #3600.00 (1ms ~= 1000.00*RT, ~39000.00UPS, TraCI: 264ms, vehicles TOT 1473 ACT 39 BUFTOT 1 ACT 1 BUF 0)                     \n"
     ]
    },
    {
     "name": "stdout",
     "output_type": "stream",
     "text": [
      "Step #1900.00 (1ms ~= 1000.00*RT, ~215000.00UPS, TraCI: 282ms, vehicles TOT 824 ACT 215 BUOT 1 ACT 1 BUF 0)                     \n",
      "Step #1900.00 (1ms ~= 1000.00*RT, ~229000.00UPS, TraCI: 286ms, vehicles TOT 824 ACT 229 BUTOT 1 ACT 1 BUF 0)                     \n"
     ]
    },
    {
     "name": "stderr",
     "output_type": "stream",
     "text": [
      "\u001b[2m\u001b[36m(RolloutWorker pid=6944)\u001b[0m Warning: Vehicle '971' performs emergency braking on lane ':A1_33_1' with decel=9.00, wished=4.50, severity=1.00, time=2110.00.\u001b[32m [repeated 2x across cluster]\u001b[0m\n"
     ]
    },
    {
     "name": "stdout",
     "output_type": "stream",
     "text": [
      "Step #2100.00 (1ms ~= 1000.00*RT, ~185000.00UPS, TraCI: 253ms, vehicles TOT 983 ACT 185 BUOT 1 ACT 1 BUF 0)                     \n",
      "Step #2100.00 (2ms ~= 500.00*RT, ~101000.00UPS, TraCI: 258ms, vehicles TOT 983 ACT 202 BUFCI: 273ms, vehicles TOT 907 ACT 218 BU\n",
      "Step #3600.00 (0ms ?*RT. ?UPS, TraCI: 259ms, vehicles TOT 1473 ACT 29 BUF 0)              aCI: 270ms, vehicles TOT 907 ACT 204 BU\n",
      "Step #3600.00 (1ms ~= 1000.00*RT, ~33000.00UPS, TraCI: 264ms, vehicles TOT 1473 ACT 33 BUFCI: 263ms, vehicles TOT 1042 ACT 170 B\n",
      "Step #3600.00 (1ms ~= 1000.00*RT, ~36000.00UPS, TraCI: 239ms, vehicles TOT 1473 ACT 36 BUFCI: 226ms, vehicles TOT 339 ACT 79 BUF \n",
      "Step #3600.00 (0ms ?*RT. ?UPS, TraCI: 251ms, vehicles TOT 1473 ACT 34 BUF 0)              CI: 262ms, vehicles TOT 1042 ACT 161 B\n"
     ]
    },
    {
     "name": "stderr",
     "output_type": "stream",
     "text": [
      "\u001b[2m\u001b[36m(RolloutWorker pid=18968)\u001b[0m Warning: Vehicle '896' performs emergency braking on lane ':C0_39_0' with decel=9.00, wished=4.50, severity=1.00, time=2120.00.\u001b[32m [repeated 2x across cluster]\u001b[0m\n"
     ]
    },
    {
     "name": "stdout",
     "output_type": "stream",
     "text": [
      "Step #2100.00 (1ms ~= 1000.00*RT, ~191000.00UPS, TraCI: 262ms, vehicles TOT 984 ACT 191 BUTOT 1 ACT 1 BUF 0)                     \n",
      "Step #3600.00 (1ms ~= 1000.00*RT, ~39000.00UPS, TraCI: 325ms, vehicles TOT 1473 ACT 39 BUFTOT 1 ACT 1 BUF 0)                     \n",
      "Step #3600.00 (0ms ?*RT. ?UPS, TraCI: 313ms, vehicles TOT 1473 ACT 35 BUF 0)              OT 1 ACT 1 BUF 0)                     \n",
      "Step #3600.00 (1ms ~= 1000.00*RT, ~30000.00UPS, TraCI: 310ms, vehicles TOT 1473 ACT 30 BUFOT 1 ACT 1 BUF 0)                     \n",
      "Step #3600.00 (0ms ?*RT. ?UPS, TraCI: 292ms, vehicles TOT 1473 ACT 35 BUF 0)              aCI: 259ms, vehicles TOT 1042 ACT 157 B\n"
     ]
    },
    {
     "name": "stderr",
     "output_type": "stream",
     "text": [
      "\u001b[2m\u001b[36m(RolloutWorker pid=6944)\u001b[0m Warning: Vehicle '27' performs emergency braking on lane ':B3_43_0' with decel=9.00, wished=4.50, severity=1.00, time=250.00.\n"
     ]
    },
    {
     "name": "stdout",
     "output_type": "stream",
     "text": [
      "Step #200.00 (0ms ?*RT. ?UPS, TraCI: 244ms, vehicles TOT 45 ACT 39 BUF 0)                 OT 1 ACT 1 BUF 0)                     \n"
     ]
    },
    {
     "name": "stderr",
     "output_type": "stream",
     "text": [
      "\u001b[2m\u001b[36m(RolloutWorker pid=7016)\u001b[0m Warning: Vehicle '527' performs emergency braking on lane ':A1_42_0' with decel=9.00, wished=4.50, severity=1.00, time=1668.00.\n"
     ]
    },
    {
     "name": "stdout",
     "output_type": "stream",
     "text": [
      "Step #1600.00 (1ms ~= 1000.00*RT, ~134000.00UPS, TraCI: 245ms, vehicles TOT 551 ACT 134 BUOT 1 ACT 1 BUF 0)                     \n"
     ]
    },
    {
     "name": "stderr",
     "output_type": "stream",
     "text": [
      "\u001b[2m\u001b[36m(RolloutWorker pid=6944)\u001b[0m Warning: Vehicle '719' performs emergency braking on lane ':D3_33_0' with decel=9.00, wished=4.50, severity=1.00, time=1925.00.\n"
     ]
    },
    {
     "name": "stdout",
     "output_type": "stream",
     "text": [
      "Step #1900.00 (1ms ~= 1000.00*RT, ~204000.00UPS, TraCI: 279ms, vehicles TOT 824 ACT 204 BU TOT 67 ACT 44 BUF 0)                 \n"
     ]
    },
    {
     "name": "stderr",
     "output_type": "stream",
     "text": [
      "\u001b[2m\u001b[36m(RolloutWorker pid=6944)\u001b[0m Warning: Vehicle '807' performs emergency braking on lane ':B0_46_0' with decel=9.00, wished=4.50, severity=1.00, time=2001.00.\n"
     ]
    },
    {
     "name": "stdout",
     "output_type": "stream",
     "text": [
      "\u001b[2m\u001b[36m(RolloutWorker pid=6944)\u001b[0m Step #2000.00 (2ms ~= 500.00*RT, ~97500.00UPS, TraCI: 265ms, vehicles TOT 907 ACT 195 BUF \n",
      "Step #2000.00 (1ms ~= 1000.00*RT, ~211000.00UPS, TraCI: 277ms, vehicles TOT 907 ACT 211 BUTOT 1 ACT 1 BUF 0)                     \n"
     ]
    },
    {
     "name": "stderr",
     "output_type": "stream",
     "text": [
      "\u001b[2m\u001b[36m(RolloutWorker pid=6944)\u001b[0m Warning: Vehicle '1241' performs emergency braking on lane 'D3D2_0' with decel=9.00, wished=4.50, severity=1.00, time=2682.00.\u001b[32m [repeated 2x across cluster]\u001b[0m\n"
     ]
    },
    {
     "name": "stdout",
     "output_type": "stream",
     "text": [
      "Step #2600.00 (1ms ~= 1000.00*RT, ~99000.00UPS, TraCI: 232ms, vehicles TOT 1220 ACT 99 BUFCI: 270ms, vehicles TOT 983 ACT 181 BU\n"
     ]
    },
    {
     "name": "stderr",
     "output_type": "stream",
     "text": [
      "\u001b[2m\u001b[36m(RolloutWorker pid=6944)\u001b[0m Warning: Vehicle '1251' performs emergency braking on lane ':A2_42_0' with decel=9.00, wished=4.50, severity=1.00, time=2898.00.\n"
     ]
    },
    {
     "name": "stdout",
     "output_type": "stream",
     "text": [
      "Step #2800.00 (0ms ?*RT. ?UPS, TraCI: 232ms, vehicles TOT 1297 ACT 82 BUF 0)              I: 235ms, vehicles TOT 1264 ACT 93 BUF\n",
      "Step #3600.00 (1ms ~= 1000.00*RT, ~36000.00UPS, TraCI: 285ms, vehicles TOT 1473 ACT 36 BUFCI: 249ms, vehicles TOT 623 ACT 155 BU\n",
      "Step #3600.00 (0ms ?*RT. ?UPS, TraCI: 282ms, vehicles TOT 1473 ACT 29 BUF 0)              s TOT 1327 ACT 67 BUF 0)              \n",
      "Step #3600.00 (1ms ~= 1000.00*RT, ~36000.00UPS, TraCI: 285ms, vehicles TOT 1473 ACT 36 BUFTOT 1 ACT 1 BUF 0)                     \n",
      "Step #3600.00 (0ms ?*RT. ?UPS, TraCI: 248ms, vehicles TOT 1473 ACT 37 BUF 0)              I: 276ms, vehicles TOT 983 ACT 196 BUF \n"
     ]
    },
    {
     "name": "stdout",
     "output_type": "stream",
     "text": [
      "Step #1700.00 (1ms ~= 1000.00*RT, ~149000.00UPS, TraCI: 260ms, vehicles TOT 623 ACT 149 BUTOT 1 ACT 1 BUF 0)                     \n"
     ]
    },
    {
     "name": "stderr",
     "output_type": "stream",
     "text": [
      "\u001b[2m\u001b[36m(RolloutWorker pid=19248)\u001b[0m Warning: Vehicle '723' performs emergency braking on lane ':D3_33_0' with decel=9.00, wished=4.50, severity=1.00, time=1914.00.\n"
     ]
    },
    {
     "name": "stdout",
     "output_type": "stream",
     "text": [
      "Step #1900.00 (2ms ~= 500.00*RT, ~113000.00UPS, TraCI: 286ms, vehicles TOT 824 ACT 226 BUFTOT 1 ACT 1 BUF 0)                     \n"
     ]
    },
    {
     "name": "stdout",
     "output_type": "stream",
     "text": [
      "Step #3600.00 (0ms ?*RT. ?UPS, TraCI: 238ms, vehicles TOT 1473 ACT 38 BUF 0)              I: 231ms, vehicles TOT 386 ACT 87 BUF \n",
      "Step #3600.00 (0ms ?*RT. ?UPS, TraCI: 240ms, vehicles TOT 1473 ACT 39 BUF 0)              CI: 246ms, vehicles TOT 1086 ACT 127 B\n",
      "Step #3600.00 (0ms ?*RT. ?UPS, TraCI: 240ms, vehicles TOT 1473 ACT 37 BUF 0)              aCI: 270ms, vehicles TOT 907 ACT 211 BU\n",
      "Step #3600.00 (0ms ?*RT. ?UPS, TraCI: 227ms, vehicles TOT 1473 ACT 32 BUF 0)              aCI: 267ms, vehicles TOT 708 ACT 166 BU\n"
     ]
    },
    {
     "name": "stderr",
     "output_type": "stream",
     "text": [
      "\u001b[2m\u001b[36m(RolloutWorker pid=19248)\u001b[0m Warning: Vehicle '880' performs emergency braking on lane ':D3_40_0' with decel=9.00, wished=4.50, severity=1.00, time=2000.00.\n"
     ]
    },
    {
     "name": "stdout",
     "output_type": "stream",
     "text": [
      "Step #2000.00 (2ms ~= 500.00*RT, ~102000.00UPS, TraCI: 275ms, vehicles TOT 824 ACT 204 BUFTOT 1 ACT 1 BUF 0)                     \n",
      "Step #2000.00 (2ms ~= 500.00*RT, ~100500.00UPS, TraCI: 279ms, vehicles TOT 907 ACT 201 BUFOT 1 ACT 1 BUF 0)                     \n",
      "Step #3600.00 (1ms ~= 1000.00*RT, ~33000.00UPS, TraCI: 317ms, vehicles TOT 1473 ACT 33 BUFCI: 261ms, vehicles TOT 983 ACT 183 BU\n",
      "Step #3600.00 (0ms ?*RT. ?UPS, TraCI: 320ms, vehicles TOT 1473 ACT 34 BUF 0)              OT 1 ACT 1 BUF 0)                     \n",
      "Step #3600.00 (0ms ?*RT. ?UPS, TraCI: 323ms, vehicles TOT 1473 ACT 33 BUF 0)              ehicles TOT 907 ACT 206 BU\n",
      "Step #3600.00 (1ms ~= 1000.00*RT, ~36000.00UPS, TraCI: 281ms, vehicles TOT 1473 ACT 36 BUFaCI: 273ms, vehicles TOT 983 ACT 197 BU\n"
     ]
    },
    {
     "name": "stderr",
     "output_type": "stream",
     "text": [
      "\u001b[2m\u001b[36m(RolloutWorker pid=19248)\u001b[0m Warning: Vehicle '687' performs emergency braking on lane ':D3_45_0' with decel=9.00, wished=4.50, severity=1.00, time=1929.00.\u001b[32m [repeated 3x across cluster]\u001b[0m\n"
     ]
    },
    {
     "name": "stdout",
     "output_type": "stream",
     "text": [
      "Step #1900.00 (2ms ~= 500.00*RT, ~99500.00UPS, TraCI: 268ms, vehicles TOT 824 ACT 199 BUF TOT 1 ACT 1 BUF 0)                     \n"
     ]
    },
    {
     "name": "stderr",
     "output_type": "stream",
     "text": [
      "\u001b[2m\u001b[36m(RolloutWorker pid=6944)\u001b[0m Warning: Vehicle '902' performs emergency braking on lane ':C3_45_0' with decel=9.00, wished=4.50, severity=1.00, time=2096.00.\u001b[32m [repeated 2x across cluster]\u001b[0m\n"
     ]
    },
    {
     "name": "stdout",
     "output_type": "stream",
     "text": [
      "Step #2000.00 (2ms ~= 500.00*RT, ~102500.00UPS, TraCI: 389ms, vehicles TOT 907 ACT 205 BUFOT 1 ACT 1 BUF 0)                     \n",
      "Step #3600.00 (1ms ~= 1000.00*RT, ~37000.00UPS, TraCI: 238ms, vehicles TOT 1473 ACT 37 BUFTOT 1 ACT 1 BUF 0)                     \n"
     ]
    },
    {
     "name": "stderr",
     "output_type": "stream",
     "text": [
      "\u001b[2m\u001b[36m(RolloutWorker pid=6944)\u001b[0m Warning: Vehicle '731' performs emergency braking on lane ':D1_6_0' with decel=9.00, wished=4.50, severity=1.00, time=1897.00.\n"
     ]
    },
    {
     "name": "stdout",
     "output_type": "stream",
     "text": [
      "Step #1800.00 (2ms ~= 500.00*RT, ~88500.00UPS, TraCI: 269ms, vehicles TOT 708 ACT 177 BUF OT 1 ACT 1 BUF 0)                     \n"
     ]
    },
    {
     "name": "stderr",
     "output_type": "stream",
     "text": [
      "\u001b[2m\u001b[36m(RolloutWorker pid=7016)\u001b[0m Warning: Vehicle '800' performs emergency braking on lane ':A2_24_0' with decel=9.00, wished=4.50, severity=1.00, time=2060.00.\n"
     ]
    },
    {
     "name": "stdout",
     "output_type": "stream",
     "text": [
      "Step #2000.00 (1ms ~= 1000.00*RT, ~196000.00UPS, TraCI: 263ms, vehicles TOT 907 ACT 196 BUOT 1 ACT 1 BUF 0)                     \n",
      "Step #2000.00 (2ms ~= 500.00*RT, ~104500.00UPS, TraCI: 270ms, vehicles TOT 907 ACT 209 BUFI: 271ms, vehicles TOT 824 ACT 226 BUF\n",
      "Step #3600.00 (1ms ~= 1000.00*RT, ~37000.00UPS, TraCI: 232ms, vehicles TOT 1473 ACT 37 BUFTOT 1 ACT 1 BUF 0)                     \n",
      "Step #3600.00 (0ms ?*RT. ?UPS, TraCI: 225ms, vehicles TOT 1473 ACT 33 BUF 0)              CI: 263ms, vehicles TOT 983 ACT 188 BU\n",
      "Step #3600.00 (1ms ~= 1000.00*RT, ~36000.00UPS, TraCI: 221ms, vehicles TOT 1473 ACT 36 BUFTOT 1 ACT 1 BUF 0)                     \n",
      "Step #3600.00 (0ms ?*RT. ?UPS, TraCI: 223ms, vehicles TOT 1473 ACT 32 BUF 0)              CI: 259ms, vehicles TOT 983 ACT 189 BU\n"
     ]
    },
    {
     "name": "stderr",
     "output_type": "stream",
     "text": [
      "\u001b[2m\u001b[36m(RolloutWorker pid=18968)\u001b[0m Warning: Vehicle '766' performs emergency braking on lane ':D3_36_0' with decel=9.00, wished=4.50, severity=1.00, time=1873.00.\u001b[32m [repeated 2x across cluster]\u001b[0m\n"
     ]
    },
    {
     "name": "stdout",
     "output_type": "stream",
     "text": [
      "Step #1800.00 (1ms ~= 1000.00*RT, ~171000.00UPS, TraCI: 263ms, vehicles TOT 708 ACT 171 BUTOT 1 ACT 1 BUF 0)                     \n",
      "Step #3600.00 (1ms ~= 1000.00*RT, ~30000.00UPS, TraCI: 300ms, vehicles TOT 1473 ACT 30 BUFOT 1 ACT 1 BUF 0)                     \n",
      "Step #3600.00 (1ms ~= 1000.00*RT, ~38000.00UPS, TraCI: 301ms, vehicles TOT 1473 ACT 38 BUFTOT 1 ACT 1 BUF 0)                     \n",
      "Step #3600.00 (1ms ~= 1000.00*RT, ~36000.00UPS, TraCI: 292ms, vehicles TOT 1473 ACT 36 BUFOT 1 ACT 1 BUF 0)                     \n"
     ]
    },
    {
     "name": "stderr",
     "output_type": "stream",
     "text": [
      "\u001b[2m\u001b[36m(RolloutWorker pid=18968)\u001b[0m Warning: Vehicle '1226' performs emergency braking on lane ':D0_43_0' with decel=9.00, wished=4.50, severity=1.00, time=2725.00.\n"
     ]
    },
    {
     "name": "stdout",
     "output_type": "stream",
     "text": [
      "Step #2700.00 (1ms ~= 1000.00*RT, ~97000.00UPS, TraCI: 233ms, vehicles TOT 1264 ACT 97 BUFTOT 1 ACT 1 BUF 0)                     \n"
     ]
    },
    {
     "name": "stderr",
     "output_type": "stream",
     "text": [
      "\u001b[2m\u001b[36m(RolloutWorker pid=6944)\u001b[0m Warning: Vehicle '1434' performs emergency braking on lane ':D1_24_1' with decel=9.00, wished=4.50, severity=1.00, time=3407.00.\n"
     ]
    },
    {
     "name": "stdout",
     "output_type": "stream",
     "text": [
      "Step #3400.00 (1ms ~= 1000.00*RT, ~45000.00UPS, TraCI: 229ms, vehicles TOT 1441 ACT 45 BUFOT 1 ACT 1 BUF 0)                     \n",
      "Step #3600.00 (0ms ?*RT. ?UPS, TraCI: 255ms, vehicles TOT 1473 ACT 30 BUF 0)              TOT 1 ACT 1 BUF 0)                     \n",
      "Step #3600.00 (0ms ?*RT. ?UPS, TraCI: 254ms, vehicles TOT 1473 ACT 40 BUF 0)              OT 1 ACT 1 BUF 0)                     \n",
      "Step #3600.00 (0ms ?*RT. ?UPS, TraCI: 253ms, vehicles TOT 1473 ACT 31 BUF 0)              es TOT 1297 ACT 77 BUF 0)              \n",
      "Step #3600.00 (1ms ~= 1000.00*RT, ~35000.00UPS, TraCI: 239ms, vehicles TOT 1473 ACT 35 BUFI: 231ms, vehicles TOT 1473 ACT 59 BUF\n"
     ]
    },
    {
     "name": "stderr",
     "output_type": "stream",
     "text": [
      "\u001b[2m\u001b[36m(RolloutWorker pid=19248)\u001b[0m Warning: Vehicle '855' performs emergency braking on lane ':D3_40_0' with decel=9.00, wished=4.50, severity=1.00, time=1963.00.\n"
     ]
    },
    {
     "name": "stdout",
     "output_type": "stream",
     "text": [
      "Step #1900.00 (1ms ~= 1000.00*RT, ~217000.00UPS, TraCI: 274ms, vehicles TOT 824 ACT 217 BUTOT 1 ACT 1 BUF 0)                     \n"
     ]
    },
    {
     "name": "stderr",
     "output_type": "stream",
     "text": [
      "\u001b[2m\u001b[36m(RolloutWorker pid=7016)\u001b[0m Warning: Vehicle '871' performs emergency braking on lane ':D2_36_0' with decel=9.00, wished=4.50, severity=1.00, time=2105.00.\n"
     ]
    },
    {
     "name": "stdout",
     "output_type": "stream",
     "text": [
      "Step #2100.00 (1ms ~= 1000.00*RT, ~199000.00UPS, TraCI: 263ms, vehicles TOT 983 ACT 199 BUOT 1 ACT 1 BUF 0)                     \n"
     ]
    },
    {
     "name": "stderr",
     "output_type": "stream",
     "text": [
      "\u001b[2m\u001b[36m(RolloutWorker pid=19248)\u001b[0m Warning: Vehicle '1185' performs emergency braking on lane ':A1_42_0' with decel=9.00, wished=4.50, severity=1.00, time=2574.00.\n"
     ]
    },
    {
     "name": "stdout",
     "output_type": "stream",
     "text": [
      "Step #2500.00 (0ms ?*RT. ?UPS, TraCI: 231ms, vehicles TOT 1175 ACT 98 BUF 0)              CI: 276ms, vehicles TOT 907 ACT 228 BUF\n",
      "Step #3600.00 (1ms ~= 1000.00*RT, ~36000.00UPS, TraCI: 328ms, vehicles TOT 1473 ACT 36 BUFaCI: 240ms, vehicles TOT 1220 ACT 101 B\n",
      "Step #3600.00 (0ms ?*RT. ?UPS, TraCI: 305ms, vehicles TOT 1473 ACT 36 BUF 0)              CI: 255ms, vehicles TOT 1042 ACT 156 B\n",
      "Step #3600.00 (0ms ?*RT. ?UPS, TraCI: 306ms, vehicles TOT 1473 ACT 42 BUF 0)              OT 1 ACT 1 BUF 0)                     \n",
      "Step #3600.00 (0ms ?*RT. ?UPS, TraCI: 283ms, vehicles TOT 1473 ACT 38 BUF 0)              TOT 1 ACT 1 BUF 0)                     \n"
     ]
    },
    {
     "name": "stderr",
     "output_type": "stream",
     "text": [
      "\u001b[2m\u001b[36m(RolloutWorker pid=7016)\u001b[0m Warning: Vehicle '330' performs emergency braking on lane ':B0_39_0' with decel=9.00, wished=4.50, severity=1.00, time=1335.00.\n"
     ]
    },
    {
     "name": "stdout",
     "output_type": "stream",
     "text": [
      "Step #1300.00 (1ms ~= 1000.00*RT, ~91000.00UPS, TraCI: 227ms, vehicles TOT 386 ACT 91 BUF OT 1 ACT 1 BUF 0)                     \n"
     ]
    },
    {
     "name": "stderr",
     "output_type": "stream",
     "text": [
      "\u001b[2m\u001b[36m(RolloutWorker pid=7016)\u001b[0m Warning: Vehicle '923' performs emergency braking on lane ':D3_15_0' with decel=9.00, wished=4.50, severity=1.00, time=2045.00.\n"
     ]
    },
    {
     "name": "stdout",
     "output_type": "stream",
     "text": [
      "Step #2000.00 (2ms ~= 500.00*RT, ~102500.00UPS, TraCI: 262ms, vehicles TOT 907 ACT 205 BUFCI: 228ms, vehicles TOT 432 ACT 106 BU\n",
      "Step #3600.00 (0ms ?*RT. ?UPS, TraCI: 288ms, vehicles TOT 1473 ACT 29 BUF 0)              TOT 1 ACT 1 BUF 0)                     \n",
      "Step #3600.00 (0ms ?*RT. ?UPS, TraCI: 288ms, vehicles TOT 1473 ACT 36 BUF 0)              : 263ms, vehicles TOT 983 ACT 180 BUF \n",
      "Step #3600.00 (0ms ?*RT. ?UPS, TraCI: 264ms, vehicles TOT 1473 ACT 33 BUF 0)              TOT 1 ACT 1 BUF 0)                     \n",
      "Step #3600.00 (0ms ?*RT. ?UPS, TraCI: 259ms, vehicles TOT 1473 ACT 37 BUF 0)              OT 1 ACT 1 BUF 0)                     \n"
     ]
    },
    {
     "name": "stderr",
     "output_type": "stream",
     "text": [
      "\u001b[2m\u001b[36m(RolloutWorker pid=18968)\u001b[0m Warning: Vehicle '759' performs emergency braking on lane ':D3_33_0' with decel=9.00, wished=4.50, severity=1.00, time=1910.00.\n"
     ]
    },
    {
     "name": "stdout",
     "output_type": "stream",
     "text": [
      "Step #1900.00 (2ms ~= 500.00*RT, ~111000.00UPS, TraCI: 280ms, vehicles TOT 824 ACT 222 BUFTOT 1 ACT 1 BUF 0)                     \n",
      "Step #3600.00 (0ms ?*RT. ?UPS, TraCI: 244ms, vehicles TOT 1473 ACT 37 BUF 0)              OT 1 ACT 1 BUF 0)                     \n",
      "Step #3600.00 (0ms ?*RT. ?UPS, TraCI: 241ms, vehicles TOT 1473 ACT 37 BUF 0)              TOT 1 ACT 1 BUF 0)                     \n",
      "Step #3600.00 (1ms ~= 1000.00*RT, ~38000.00UPS, TraCI: 242ms, vehicles TOT 1473 ACT 38 BUFOT 1 ACT 1 BUF 0)                     \n",
      "Step #3600.00 (1ms ~= 1000.00*RT, ~37000.00UPS, TraCI: 236ms, vehicles TOT 1473 ACT 37 BUFaCI: 274ms, vehicles TOT 907 ACT 213 BU\n"
     ]
    },
    {
     "name": "stderr",
     "output_type": "stream",
     "text": [
      "\u001b[2m\u001b[36m(RolloutWorker pid=18968)\u001b[0m Warning: Vehicle '1199' performs emergency braking on lane ':A3_42_0' with decel=9.00, wished=4.50, severity=1.00, time=2664.00.\n"
     ]
    },
    {
     "name": "stdout",
     "output_type": "stream",
     "text": [
      "Step #2600.00 (1ms ~= 1000.00*RT, ~95000.00UPS, TraCI: 231ms, vehicles TOT 1220 ACT 95 BUFTOT 1 ACT 1 BUF 0)                     \n",
      "Step #3600.00 (0ms ?*RT. ?UPS, TraCI: 311ms, vehicles TOT 1473 ACT 34 BUF 0)              OT 1 ACT 1 BUF 0)                     \n",
      "Step #3600.00 (0ms ?*RT. ?UPS, TraCI: 309ms, vehicles TOT 1473 ACT 30 BUF 0)              TOT 1 ACT 1 BUF 0)                     \n",
      "Step #3600.00 (0ms ?*RT. ?UPS, TraCI: 313ms, vehicles TOT 1473 ACT 40 BUF 0)              OT 1 ACT 1 BUF 0)                     \n",
      "Step #3600.00 (1ms ~= 1000.00*RT, ~38000.00UPS, TraCI: 270ms, vehicles TOT 1473 ACT 38 BUFes TOT 1264 ACT 94 BUF 0)              \n",
      "Step #3600.00 (0ms ?*RT. ?UPS, TraCI: 262ms, vehicles TOT 1473 ACT 29 BUF 0)              90ms, vehicles TOT 1 ACT 1 BUF 0)     \n",
      "Step #3600.00 (0ms ?*RT. ?UPS, TraCI: 264ms, vehicles TOT 1473 ACT 36 BUF 0)              TOT 1 ACT 1 BUF 0)                     \n",
      "Step #3600.00 (1ms ~= 1000.00*RT, ~33000.00UPS, TraCI: 256ms, vehicles TOT 1473 ACT 33 BUFOT 1 ACT 1 BUF 0)                     \n",
      "Step #3600.00 (0ms ?*RT. ?UPS, TraCI: 242ms, vehicles TOT 1473 ACT 31 BUF 0)              TOT 1 ACT 1 BUF 0)                     \n"
     ]
    },
    {
     "name": "stderr",
     "output_type": "stream",
     "text": [
      "\u001b[2m\u001b[36m(RolloutWorker pid=19248)\u001b[0m Warning: Vehicle '229' performs emergency braking on lane ':D0_33_1' with decel=9.00, wished=4.50, severity=1.00, time=1095.00.\n"
     ]
    },
    {
     "name": "stdout",
     "output_type": "stream",
     "text": [
      "Step #1000.00 (0ms ?*RT. ?UPS, TraCI: 228ms, vehicles TOT 258 ACT 69 BUF 0)               TOT 1 ACT 1 BUF 0)                     \n"
     ]
    },
    {
     "name": "stderr",
     "output_type": "stream",
     "text": [
      "\u001b[2m\u001b[36m(RolloutWorker pid=19248)\u001b[0m Warning: Vehicle '446' performs emergency braking on lane ':D1_36_0' with decel=9.00, wished=4.50, severity=1.00, time=1662.00.\n"
     ]
    },
    {
     "name": "stdout",
     "output_type": "stream",
     "text": [
      "Step #1600.00 (1ms ~= 1000.00*RT, ~120000.00UPS, TraCI: 367ms, vehicles TOT 551 ACT 120 BUes TOT 299 ACT 78 BUF 0)               \n"
     ]
    },
    {
     "name": "stderr",
     "output_type": "stream",
     "text": [
      "\u001b[2m\u001b[36m(RolloutWorker pid=7016)\u001b[0m Warning: Vehicle '478' performs emergency braking on lane ':D1_36_0' with decel=9.00, wished=4.50, severity=1.00, time=1856.00.\n"
     ]
    },
    {
     "name": "stdout",
     "output_type": "stream",
     "text": [
      "Step #1800.00 (1ms ~= 1000.00*RT, ~169000.00UPS, TraCI: 256ms, vehicles TOT 708 ACT 169 BUOT 1 ACT 1 BUF 0)                     \n"
     ]
    },
    {
     "name": "stderr",
     "output_type": "stream",
     "text": [
      "\u001b[2m\u001b[36m(RolloutWorker pid=6944)\u001b[0m Warning: Vehicle '1088' performs emergency braking on lane ':D0_39_0' with decel=9.00, wished=4.50, severity=1.00, time=2330.00.\n"
     ]
    },
    {
     "name": "stdout",
     "output_type": "stream",
     "text": [
      "Step #2300.00 (1ms ~= 1000.00*RT, ~113000.00UPS, TraCI: 237ms, vehicles TOT 1086 ACT 113 BOT 1 ACT 1 BUF 0)                     \n"
     ]
    },
    {
     "name": "stderr",
     "output_type": "stream",
     "text": [
      "\u001b[2m\u001b[36m(RolloutWorker pid=19248)\u001b[0m Warning: Vehicle '1115' performs emergency braking on lane 'A2A3_0' with decel=9.00, wished=4.50, severity=1.00, time=2457.00.\n"
     ]
    },
    {
     "name": "stdout",
     "output_type": "stream",
     "text": [
      "Step #2400.00 (0ms ?*RT. ?UPS, TraCI: 252ms, vehicles TOT 1136 ACT 114 BUF 0)             aCI: 249ms, vehicles TOT 623 ACT 146 BU\n",
      "Step #3600.00 (0ms ?*RT. ?UPS, TraCI: 226ms, vehicles TOT 1473 ACT 28 BUF 0)              CI: 249ms, vehicles TOT 1136 ACT 112 B\n",
      "Step #3600.00 (0ms ?*RT. ?UPS, TraCI: 227ms, vehicles TOT 1473 ACT 35 BUF 0)              es TOT 1175 ACT 96 BUF 0)              \n",
      "Step #3600.00 (1ms ~= 1000.00*RT, ~43000.00UPS, TraCI: 220ms, vehicles TOT 1473 ACT 43 BUFI: 296ms, vehicles TOT 824 ACT 215 BUF\n",
      "Step #3600.00 (1ms ~= 1000.00*RT, ~31000.00UPS, TraCI: 227ms, vehicles TOT 1473 ACT 31 BUFTOT 1 ACT 1 BUF 0)                     \n"
     ]
    },
    {
     "name": "stderr",
     "output_type": "stream",
     "text": [
      "\u001b[2m\u001b[36m(RolloutWorker pid=6944)\u001b[0m Warning: Vehicle '759' performs emergency braking on lane ':D3_33_0' with decel=9.00, wished=4.50, severity=1.00, time=1910.00.\n"
     ]
    },
    {
     "name": "stdout",
     "output_type": "stream",
     "text": [
      "Step #1900.00 (1ms ~= 1000.00*RT, ~222000.00UPS, TraCI: 270ms, vehicles TOT 824 ACT 222 BUOT 1 ACT 1 BUF 0)                     \n"
     ]
    },
    {
     "name": "stderr",
     "output_type": "stream",
     "text": [
      "\u001b[2m\u001b[36m(RolloutWorker pid=7016)\u001b[0m Warning: Vehicle '732' performs emergency braking on lane ':A3_42_0' with decel=9.00, wished=4.50, severity=1.00, time=1935.00.\n"
     ]
    },
    {
     "name": "stdout",
     "output_type": "stream",
     "text": [
      "Step #1900.00 (1ms ~= 1000.00*RT, ~207000.00UPS, TraCI: 289ms, vehicles TOT 824 ACT 207 BUOT 1 ACT 1 BUF 0)                     \n",
      "Step #3600.00 (1ms ~= 1000.00*RT, ~31000.00UPS, TraCI: 309ms, vehicles TOT 1473 ACT 31 BUFCI: 278ms, vehicles TOT 907 ACT 206 BU\n",
      "Step #3600.00 (0ms ?*RT. ?UPS, TraCI: 301ms, vehicles TOT 1473 ACT 30 BUF 0)              CI: 272ms, vehicles TOT 907 ACT 198 BU\n",
      "Step #3600.00 (1ms ~= 1000.00*RT, ~38000.00UPS, TraCI: 309ms, vehicles TOT 1473 ACT 38 BUFTOT 1 ACT 1 BUF 0)                     \n",
      "Step #3600.00 (0ms ?*RT. ?UPS, TraCI: 243ms, vehicles TOT 1473 ACT 35 BUF 0)              TOT 1 ACT 1 BUF 0)                     \n",
      "Step #3600.00 (1ms ~= 1000.00*RT, ~35000.00UPS, TraCI: 264ms, vehicles TOT 1473 ACT 35 BUFTOT 1 ACT 1 BUF 0)                     \n",
      "Step #3600.00 (1ms ~= 1000.00*RT, ~32000.00UPS, TraCI: 247ms, vehicles TOT 1473 ACT 32 BUFOT 1 ACT 1 BUF 0)                     \n",
      "Step #3600.00 (0ms ?*RT. ?UPS, TraCI: 237ms, vehicles TOT 1473 ACT 40 BUF 0)              OT 1 ACT 1 BUF 0)                     \n",
      "Step #3600.00 (0ms ?*RT. ?UPS, TraCI: 224ms, vehicles TOT 1473 ACT 31 BUF 0)              TOT 1 ACT 1 BUF 0)                     \n"
     ]
    },
    {
     "name": "stderr",
     "output_type": "stream",
     "text": [
      "\u001b[2m\u001b[36m(RolloutWorker pid=7016)\u001b[0m Warning: Vehicle '694' performs emergency braking on lane ':C2_43_0' with decel=9.00, wished=4.50, severity=1.00, time=1863.00.\n"
     ]
    },
    {
     "name": "stdout",
     "output_type": "stream",
     "text": [
      "Step #1800.00 (1ms ~= 1000.00*RT, ~173000.00UPS, TraCI: 256ms, vehicles TOT 708 ACT 173 BUOT 1 ACT 1 BUF 0)                     \n"
     ]
    },
    {
     "name": "stderr",
     "output_type": "stream",
     "text": [
      "\u001b[2m\u001b[36m(RolloutWorker pid=6944)\u001b[0m Warning: Vehicle '871' performs emergency braking on lane ':D2_36_0' with decel=9.00, wished=4.50, severity=1.00, time=2100.00.\n"
     ]
    },
    {
     "name": "stdout",
     "output_type": "stream",
     "text": [
      "Step #2100.00 (1ms ~= 1000.00*RT, ~209000.00UPS, TraCI: 269ms, vehicles TOT 907 ACT 209 BUOT 1 ACT 1 BUF 0)                     \n",
      "Step #3600.00 (0ms ?*RT. ?UPS, TraCI: 328ms, vehicles TOT 1473 ACT 38 BUF 0)              TOT 1 ACT 1 BUF 0)                     \n",
      "Step #3600.00 (0ms ?*RT. ?UPS, TraCI: 314ms, vehicles TOT 1473 ACT 34 BUF 0)              CI: 270ms, vehicles TOT 824 ACT 202 BU\n",
      "Step #3600.00 (0ms ?*RT. ?UPS, TraCI: 316ms, vehicles TOT 1473 ACT 30 BUF 0)              hicles TOT 983 ACT 201 BU\n",
      "Step #3600.00 (0ms ?*RT. ?UPS, TraCI: 284ms, vehicles TOT 1473 ACT 42 BUF 0)              TOT 1 ACT 1 BUF 0)                     \n"
     ]
    },
    {
     "name": "stderr",
     "output_type": "stream",
     "text": [
      "\u001b[2m\u001b[36m(RolloutWorker pid=6944)\u001b[0m Warning: Vehicle '331' performs emergency braking on lane ':D2_36_0' with decel=9.00, wished=4.50, severity=1.00, time=1386.00.\n"
     ]
    },
    {
     "name": "stdout",
     "output_type": "stream",
     "text": [
      "Step #1300.00 (1ms ~= 1000.00*RT, ~87000.00UPS, TraCI: 229ms, vehicles TOT 386 ACT 87 BUF OT 1 ACT 1 BUF 0)                     \n",
      "Step #3600.00 (0ms ?*RT. ?UPS, TraCI: 278ms, vehicles TOT 1473 ACT 34 BUF 0)              TOT 1 ACT 1 BUF 0)                     \n",
      "Step #3600.00 (0ms ?*RT. ?UPS, TraCI: 269ms, vehicles TOT 1473 ACT 40 BUF 0)              OT 1 ACT 1 BUF 0)                     \n",
      "Step #3600.00 (0ms ?*RT. ?UPS, TraCI: 276ms, vehicles TOT 1473 ACT 34 BUF 0)              I: 218ms, vehicles TOT 432 ACT 99 BUF \n",
      "Step #3600.00 (0ms ?*RT. ?UPS, TraCI: 254ms, vehicles TOT 1473 ACT 32 BUF 0)              198ms, vehicles TOT 1 ACT 1 BUF 0)     \n"
     ]
    },
    {
     "name": "stderr",
     "output_type": "stream",
     "text": [
      "\u001b[2m\u001b[36m(RolloutWorker pid=6944)\u001b[0m Warning: Vehicle '131' performs emergency braking on lane ':A1_42_0' with decel=9.00, wished=4.50, severity=1.00, time=619.00.\n"
     ]
    },
    {
     "name": "stdout",
     "output_type": "stream",
     "text": [
      "Step #600.00 (1ms ~= 1000.00*RT, ~50000.00UPS, TraCI: 215ms, vehicles TOT 141 ACT 50 BUF 0OT 1 ACT 1 BUF 0)                     \n"
     ]
    },
    {
     "name": "stderr",
     "output_type": "stream",
     "text": [
      "\u001b[2m\u001b[36m(RolloutWorker pid=18968)\u001b[0m Warning: Vehicle '456' performs emergency braking on lane ':B0_39_0' with decel=9.00, wished=4.50, severity=1.00, time=1708.00.\n"
     ]
    },
    {
     "name": "stdout",
     "output_type": "stream",
     "text": [
      "Step #1700.00 (1ms ~= 1000.00*RT, ~150000.00UPS, TraCI: 245ms, vehicles TOT 623 ACT 150 BUTOT 1 ACT 1 BUF 0)                     \n"
     ]
    },
    {
     "name": "stderr",
     "output_type": "stream",
     "text": [
      "\u001b[2m\u001b[36m(RolloutWorker pid=19248)\u001b[0m Warning: Vehicle '575' performs emergency braking on lane ':B1_46_0' with decel=9.00, wished=4.50, severity=1.00, time=1725.00.\n"
     ]
    },
    {
     "name": "stdout",
     "output_type": "stream",
     "text": [
      "Step #1700.00 (1ms ~= 1000.00*RT, ~159000.00UPS, TraCI: 248ms, vehicles TOT 623 ACT 159 BU165ms, vehicles TOT 1 ACT 1 BUF 0)     \n"
     ]
    },
    {
     "name": "stderr",
     "output_type": "stream",
     "text": [
      "\u001b[2m\u001b[36m(RolloutWorker pid=18968)\u001b[0m Warning: Vehicle '694' performs emergency braking on lane ':C2_24_1' with decel=9.00, wished=4.50, severity=1.00, time=1895.00.\n"
     ]
    },
    {
     "name": "stdout",
     "output_type": "stream",
     "text": [
      "\u001b[2m\u001b[36m(RolloutWorker pid=18968)\u001b[0m Step #1800.00 (1ms ~= 1000.00*RT, ~165000.00UPS, TraCI: 272ms, vehicles TOT 708 ACT 165 BU\n"
     ]
    },
    {
     "name": "stderr",
     "output_type": "stream",
     "text": [
      "\u001b[2m\u001b[36m(RolloutWorker pid=7016)\u001b[0m Warning: Vehicle '982' performs emergency braking on lane ':D0_15_0' with decel=9.00, wished=4.50, severity=1.00, time=2122.00.\n"
     ]
    },
    {
     "name": "stdout",
     "output_type": "stream",
     "text": [
      "Step #2100.00 (1ms ~= 1000.00*RT, ~183000.00UPS, TraCI: 263ms, vehicles TOT 983 ACT 183 BUOT 1 ACT 1 BUF 0)                     \n"
     ]
    },
    {
     "name": "stderr",
     "output_type": "stream",
     "text": [
      "\u001b[2m\u001b[36m(RolloutWorker pid=7016)\u001b[0m Warning: Vehicle '1060' performs emergency braking on lane ':D0_36_0' with decel=9.00, wished=4.50, severity=1.00, time=2489.00.\n"
     ]
    },
    {
     "name": "stdout",
     "output_type": "stream",
     "text": [
      "Step #2400.00 (1ms ~= 1000.00*RT, ~105000.00UPS, TraCI: 254ms, vehicles TOT 1136 ACT 105 BCI: 248ms, vehicles TOT 1042 ACT 144 B\n",
      "Step #3600.00 (0ms ?*RT. ?UPS, TraCI: 237ms, vehicles TOT 1473 ACT 28 BUF 0)              aCI: 268ms, vehicles TOT 708 ACT 175 BU\n",
      "Step #3600.00 (0ms ?*RT. ?UPS, TraCI: 242ms, vehicles TOT 1473 ACT 38 BUF 0)              I: 230ms, vehicles TOT 1175 ACT 86 BUF\n",
      "Step #3600.00 (0ms ?*RT. ?UPS, TraCI: 224ms, vehicles TOT 1473 ACT 41 BUF 0)              CI: 279ms, vehicles TOT 824 ACT 221 BUF\n",
      "Step #3600.00 (0ms ?*RT. ?UPS, TraCI: 243ms, vehicles TOT 1473 ACT 40 BUF 0)               TOT 164 ACT 43 BUF 0)                \n"
     ]
    },
    {
     "name": "stderr",
     "output_type": "stream",
     "text": [
      "\u001b[2m\u001b[36m(RolloutWorker pid=18968)\u001b[0m Warning: Vehicle '620' performs emergency braking on lane ':A3_6_1' with decel=9.00, wished=4.50, severity=1.00, time=1722.00.\n"
     ]
    },
    {
     "name": "stdout",
     "output_type": "stream",
     "text": [
      "Step #1700.00 (1ms ~= 1000.00*RT, ~148000.00UPS, TraCI: 259ms, vehicles TOT 623 ACT 148 BUTOT 1 ACT 1 BUF 0)                     \n"
     ]
    },
    {
     "name": "stderr",
     "output_type": "stream",
     "text": [
      "\u001b[2m\u001b[36m(RolloutWorker pid=6944)\u001b[0m Warning: Vehicle '923' performs emergency braking on lane ':D3_15_0' with decel=9.00, wished=4.50, severity=1.00, time=2055.00.\n"
     ]
    },
    {
     "name": "stdout",
     "output_type": "stream",
     "text": [
      "Step #2000.00 (2ms ~= 500.00*RT, ~97500.00UPS, TraCI: 261ms, vehicles TOT 907 ACT 195 BUF OT 1 ACT 1 BUF 0)                     \n",
      "Step #3600.00 (1ms ~= 1000.00*RT, ~30000.00UPS, TraCI: 315ms, vehicles TOT 1473 ACT 30 BUFCI: 258ms, vehicles TOT 983 ACT 180 BU\n",
      "Step #3600.00 (1ms ~= 1000.00*RT, ~34000.00UPS, TraCI: 315ms, vehicles TOT 1473 ACT 34 BUFOT 1 ACT 1 BUF 0)                     \n",
      "Step #3600.00 (0ms ?*RT. ?UPS, TraCI: 321ms, vehicles TOT 1473 ACT 37 BUF 0)              TOT 1 ACT 1 BUF 0)                     \n",
      "Step #3600.00 (1ms ~= 1000.00*RT, ~31000.00UPS, TraCI: 272ms, vehicles TOT 1473 ACT 31 BUFaCI: 258ms, vehicles TOT 708 ACT 165 BU\n"
     ]
    },
    {
     "name": "stderr",
     "output_type": "stream",
     "text": [
      "\u001b[2m\u001b[36m(RolloutWorker pid=7016)\u001b[0m Warning: Vehicle '759' performs emergency braking on lane ':D3_45_0' with decel=9.00, wished=4.50, severity=1.00, time=1915.00.\n"
     ]
    },
    {
     "name": "stdout",
     "output_type": "stream",
     "text": [
      "Step #1900.00 (2ms ~= 500.00*RT, ~110500.00UPS, TraCI: 277ms, vehicles TOT 824 ACT 221 BUFOT 1 ACT 1 BUF 0)                     \n"
     ]
    },
    {
     "name": "stderr",
     "output_type": "stream",
     "text": [
      "\u001b[2m\u001b[36m(RolloutWorker pid=18968)\u001b[0m Warning: Vehicle '969' performs emergency braking on lane ':B2_37_0' with decel=9.00, wished=4.50, severity=1.00, time=2215.00.\n"
     ]
    },
    {
     "name": "stdout",
     "output_type": "stream",
     "text": [
      "Step #2200.00 (1ms ~= 1000.00*RT, ~157000.00UPS, TraCI: 254ms, vehicles TOT 1042 ACT 157 BTOT 1 ACT 1 BUF 0)                     \n",
      "Step #3600.00 (1ms ~= 1000.00*RT, ~29000.00UPS, TraCI: 260ms, vehicles TOT 1473 ACT 29 BUFTOT 1 ACT 1 BUF 0)                     \n",
      "Step #3600.00 (1ms ~= 1000.00*RT, ~38000.00UPS, TraCI: 265ms, vehicles TOT 1473 ACT 38 BUFCI: 392ms, vehicles TOT 907 ACT 207 BU\n",
      "Step #3600.00 (1ms ~= 1000.00*RT, ~33000.00UPS, TraCI: 262ms, vehicles TOT 1473 ACT 33 BUFOT 1 ACT 1 BUF 0)                     \n",
      "Step #3600.00 (0ms ?*RT. ?UPS, TraCI: 250ms, vehicles TOT 1473 ACT 37 BUF 0)              aCI: 250ms, vehicles TOT 1086 ACT 128 B\n"
     ]
    },
    {
     "name": "stderr",
     "output_type": "stream",
     "text": [
      "\u001b[2m\u001b[36m(RolloutWorker pid=18968)\u001b[0m Warning: Vehicle '7' performs emergency braking on lane ':D3_33_0' with decel=9.00, wished=4.50, severity=1.00, time=135.00.\n"
     ]
    },
    {
     "name": "stdout",
     "output_type": "stream",
     "text": [
      "Step #100.00 (1ms ~= 1000.00*RT, ~20000.00UPS, TraCI: 214ms, vehicles TOT 21 ACT 20 BUF 0)TOT 1 ACT 1 BUF 0)                     \n"
     ]
    },
    {
     "name": "stderr",
     "output_type": "stream",
     "text": [
      "\u001b[2m\u001b[36m(RolloutWorker pid=7016)\u001b[0m Warning: Vehicle '497' performs emergency braking on lane ':D3_45_0' with decel=9.00, wished=4.50, severity=1.00, time=1912.00.\n"
     ]
    },
    {
     "name": "stdout",
     "output_type": "stream",
     "text": [
      "Step #1900.00 (1ms ~= 1000.00*RT, ~212000.00UPS, TraCI: 282ms, vehicles TOT 824 ACT 212 BUOT 1 ACT 1 BUF 0)                     \n"
     ]
    },
    {
     "name": "stderr",
     "output_type": "stream",
     "text": [
      "\u001b[2m\u001b[36m(RolloutWorker pid=6944)\u001b[0m Warning: Vehicle '963' performs emergency braking on lane ':D2_40_0' with decel=9.00, wished=4.50, severity=1.00, time=2100.00.\n"
     ]
    },
    {
     "name": "stdout",
     "output_type": "stream",
     "text": [
      "Step #2100.00 (1ms ~= 1000.00*RT, ~204000.00UPS, TraCI: 269ms, vehicles TOT 907 ACT 204 BUOT 1 ACT 1 BUF 0)                     \n",
      "Step #2100.00 (2ms ~= 500.00*RT, ~95000.00UPS, TraCI: 272ms, vehicles TOT 983 ACT 190 BUF s TOT 45 ACT 38 BUF 0)                 \n",
      "Step #3600.00 (0ms ?*RT. ?UPS, TraCI: 234ms, vehicles TOT 1473 ACT 30 BUF 0)              TOT 1 ACT 1 BUF 0)                     \n",
      "Step #3600.00 (0ms ?*RT. ?UPS, TraCI: 237ms, vehicles TOT 1473 ACT 35 BUF 0)              I: 272ms, vehicles TOT 907 ACT 209 BUF\n",
      "Step #3600.00 (0ms ?*RT. ?UPS, TraCI: 232ms, vehicles TOT 1473 ACT 35 BUF 0)              aCI: 254ms, vehicles TOT 1042 ACT 151 B\n",
      "Step #3600.00 (0ms ?*RT. ?UPS, TraCI: 238ms, vehicles TOT 1473 ACT 37 BUF 0)              cles TOT 983 ACT 188 BUF \n"
     ]
    },
    {
     "name": "stderr",
     "output_type": "stream",
     "text": [
      "\u001b[2m\u001b[36m(RolloutWorker pid=7016)\u001b[0m Warning: Vehicle '226' performs emergency braking on lane ':A1_42_0' with decel=9.00, wished=4.50, severity=1.00, time=1067.00.\u001b[32m [repeated 2x across cluster]\u001b[0m\n"
     ]
    },
    {
     "name": "stdout",
     "output_type": "stream",
     "text": [
      "Step #1000.00 (1ms ~= 1000.00*RT, ~72000.00UPS, TraCI: 225ms, vehicles TOT 258 ACT 72 BUF OT 1 ACT 1 BUF 0)                     \n"
     ]
    },
    {
     "name": "stderr",
     "output_type": "stream",
     "text": [
      "\u001b[2m\u001b[36m(RolloutWorker pid=19248)\u001b[0m Warning: Vehicle '401' performs emergency braking on lane ':A3_42_0' with decel=9.00, wished=4.50, severity=1.00, time=1503.00.\n"
     ]
    },
    {
     "name": "stdout",
     "output_type": "stream",
     "text": [
      "Step #1500.00 (1ms ~= 1000.00*RT, ~101000.00UPS, TraCI: 241ms, vehicles TOT 483 ACT 101 BUTOT 1 ACT 1 BUF 0)                     \n"
     ]
    },
    {
     "name": "stderr",
     "output_type": "stream",
     "text": [
      "\u001b[2m\u001b[36m(RolloutWorker pid=18968)\u001b[0m Warning: Vehicle '973' performs emergency braking on lane ':C0_46_0' with decel=9.00, wished=4.50, severity=1.00, time=2197.00.\n"
     ]
    },
    {
     "name": "stdout",
     "output_type": "stream",
     "text": [
      "Step #2100.00 (1ms ~= 1000.00*RT, ~177000.00UPS, TraCI: 265ms, vehicles TOT 983 ACT 177 BU204ms, vehicles TOT 1 ACT 1 BUF 0)     \n",
      "Step #3600.00 (0ms ?*RT. ?UPS, TraCI: 304ms, vehicles TOT 1473 ACT 33 BUF 0)              aCI: 239ms, vehicles TOT 551 ACT 125 BU\n",
      "Step #3600.00 (0ms ?*RT. ?UPS, TraCI: 303ms, vehicles TOT 1473 ACT 34 BUF 0)              I: 224ms, vehicles TOT 299 ACT 78 BUF \n",
      "Step #3600.00 (0ms ?*RT. ?UPS, TraCI: 291ms, vehicles TOT 1473 ACT 31 BUF 0)              OT 1 ACT 1 BUF 0)                     \n",
      "Step #3600.00 (1ms ~= 1000.00*RT, ~34000.00UPS, TraCI: 259ms, vehicles TOT 1473 ACT 34 BUFaCI: 263ms, vehicles TOT 1042 ACT 157 B\n"
     ]
    },
    {
     "name": "stderr",
     "output_type": "stream",
     "text": [
      "\u001b[2m\u001b[36m(RolloutWorker pid=18968)\u001b[0m Warning: Vehicle '52' performs emergency braking on lane ':C1_15_1' with decel=9.00, wished=4.50, severity=1.00, time=277.00.\n"
     ]
    },
    {
     "name": "stdout",
     "output_type": "stream",
     "text": [
      "Step #200.00 (0ms ?*RT. ?UPS, TraCI: 221ms, vehicles TOT 45 ACT 40 BUF 0)                 TOT 1 ACT 1 BUF 0)                     \n"
     ]
    },
    {
     "name": "stderr",
     "output_type": "stream",
     "text": [
      "\u001b[2m\u001b[36m(RolloutWorker pid=6944)\u001b[0m Warning: Vehicle '194' performs emergency braking on lane ':D1_36_0' with decel=9.00, wished=4.50, severity=1.00, time=928.00.\n"
     ]
    },
    {
     "name": "stdout",
     "output_type": "stream",
     "text": [
      "Step #900.00 (1ms ~= 1000.00*RT, ~68000.00UPS, TraCI: 221ms, vehicles TOT 224 ACT 68 BUF 0OT 1 ACT 1 BUF 0)                     \n"
     ]
    },
    {
     "name": "stderr",
     "output_type": "stream",
     "text": [
      "\u001b[2m\u001b[36m(RolloutWorker pid=19248)\u001b[0m Warning: Vehicle '341' performs emergency braking on lane ':D2_40_0' with decel=9.00, wished=4.50, severity=1.00, time=1235.00.\n"
     ]
    },
    {
     "name": "stdout",
     "output_type": "stream",
     "text": [
      "Step #1200.00 (1ms ~= 1000.00*RT, ~74000.00UPS, TraCI: 228ms, vehicles TOT 339 ACT 74 BUF TOT 1 ACT 1 BUF 0)                     \n"
     ]
    },
    {
     "name": "stderr",
     "output_type": "stream",
     "text": [
      "\u001b[2m\u001b[36m(RolloutWorker pid=19248)\u001b[0m Warning: Vehicle '609' performs emergency braking on lane ':A2_37_0' with decel=9.00, wished=4.50, severity=1.00, time=1738.00.\n"
     ]
    },
    {
     "name": "stdout",
     "output_type": "stream",
     "text": [
      "Step #1700.00 (1ms ~= 1000.00*RT, ~145000.00UPS, TraCI: 250ms, vehicles TOT 623 ACT 145 BUCI: 291ms, vehicles TOT 386 ACT 90 BUF \n",
      "Step #1700.00 (1ms ~= 1000.00*RT, ~142000.00UPS, TraCI: 246ms, vehicles TOT 623 ACT 142 BUs TOT 67 ACT 48 BUF 0)                 \n",
      "Step #1700.00 (1ms ~= 1000.00*RT, ~156000.00UPS, TraCI: 248ms, vehicles TOT 623 ACT 156 BUOT 1 ACT 1 BUF 0)                     \n"
     ]
    },
    {
     "name": "stderr",
     "output_type": "stream",
     "text": [
      "\u001b[2m\u001b[36m(RolloutWorker pid=19248)\u001b[0m Warning: Vehicle '808' performs emergency braking on lane ':C2_40_0' with decel=9.00, wished=4.50, severity=1.00, time=1955.00.\u001b[32m [repeated 3x across cluster]\u001b[0m\n"
     ]
    },
    {
     "name": "stdout",
     "output_type": "stream",
     "text": [
      "Step #1900.00 (2ms ~= 500.00*RT, ~108000.00UPS, TraCI: 269ms, vehicles TOT 824 ACT 216 BUFaCI: 265ms, vehicles TOT 708 ACT 170 BU\n",
      "Step #3600.00 (1ms ~= 1000.00*RT, ~36000.00UPS, TraCI: 258ms, vehicles TOT 1473 ACT 36 BUFCI: 282ms, vehicles TOT 708 ACT 172 BU\n",
      "Step #3600.00 (0ms ?*RT. ?UPS, TraCI: 255ms, vehicles TOT 1473 ACT 35 BUF 0)              I: 223ms, vehicles TOT 258 ACT 72 BUF \n",
      "Step #3600.00 (0ms ?*RT. ?UPS, TraCI: 255ms, vehicles TOT 1473 ACT 30 BUF 0)              aCI: 279ms, vehicles TOT 907 ACT 217 BU\n",
      "Step #3600.00 (0ms ?*RT. ?UPS, TraCI: 225ms, vehicles TOT 1473 ACT 34 BUF 0)              I: 285ms, vehicles TOT 708 ACT 178 BUF \n"
     ]
    },
    {
     "name": "stderr",
     "output_type": "stream",
     "text": [
      "\u001b[2m\u001b[36m(RolloutWorker pid=18968)\u001b[0m Warning: Vehicle '780' performs emergency braking on lane ':C0_39_0' with decel=9.00, wished=4.50, severity=1.00, time=1972.00.\n"
     ]
    },
    {
     "name": "stdout",
     "output_type": "stream",
     "text": [
      "Step #1900.00 (1ms ~= 1000.00*RT, ~213000.00UPS, TraCI: 268ms, vehicles TOT 824 ACT 213 BUTOT 1 ACT 1 BUF 0)                     \n"
     ]
    },
    {
     "name": "stderr",
     "output_type": "stream",
     "text": [
      "\u001b[2m\u001b[36m(RolloutWorker pid=18968)\u001b[0m Warning: Vehicle '873' performs emergency braking on lane ':A0_37_0' with decel=9.00, wished=4.50, severity=1.00, time=2186.00.\n"
     ]
    },
    {
     "name": "stdout",
     "output_type": "stream",
     "text": [
      "Step #2100.00 (2ms ~= 500.00*RT, ~97000.00UPS, TraCI: 264ms, vehicles TOT 983 ACT 194 BUF aCI: 282ms, vehicles TOT 907 ACT 211 BU\n"
     ]
    },
    {
     "name": "stderr",
     "output_type": "stream",
     "text": [
      "\u001b[2m\u001b[36m(RolloutWorker pid=18968)\u001b[0m Warning: Vehicle '1159' performs emergency braking on lane ':A3_42_0' with decel=9.00, wished=4.50, severity=1.00, time=2774.00.\n"
     ]
    },
    {
     "name": "stdout",
     "output_type": "stream",
     "text": [
      "Step #2700.00 (0ms ?*RT. ?UPS, TraCI: 245ms, vehicles TOT 1264 ACT 91 BUF 0)              aCI: 251ms, vehicles TOT 1042 ACT 154 B\n",
      "Step #3600.00 (0ms ?*RT. ?UPS, TraCI: 323ms, vehicles TOT 1473 ACT 33 BUF 0)              OT 1 ACT 1 BUF 0)                     \n",
      "Step #3600.00 (1ms ~= 1000.00*RT, ~34000.00UPS, TraCI: 325ms, vehicles TOT 1473 ACT 34 BUFTOT 1 ACT 1 BUF 0)                     \n",
      "Step #3600.00 (1ms ~= 1000.00*RT, ~40000.00UPS, TraCI: 309ms, vehicles TOT 1473 ACT 40 BUFOT 1 ACT 1 BUF 0)                     \n",
      "Step #3600.00 (1ms ~= 1000.00*RT, ~37000.00UPS, TraCI: 289ms, vehicles TOT 1473 ACT 37 BUFCI: 236ms, vehicles TOT 1297 ACT 82 BUF\n"
     ]
    },
    {
     "name": "stderr",
     "output_type": "stream",
     "text": [
      "\u001b[2m\u001b[36m(RolloutWorker pid=7016)\u001b[0m Warning: Vehicle '873' performs emergency braking on lane ':A0_6_1' with decel=9.00, wished=4.50, severity=1.00, time=2105.00.\n"
     ]
    },
    {
     "name": "stdout",
     "output_type": "stream",
     "text": [
      "Step #2100.00 (1ms ~= 1000.00*RT, ~178000.00UPS, TraCI: 251ms, vehicles TOT 983 ACT 178 BUOT 1 ACT 1 BUF 0)                     \n",
      "Step #2100.00 (2ms ~= 500.00*RT, ~93500.00UPS, TraCI: 257ms, vehicles TOT 983 ACT 187 BUF TOT 1 ACT 1 BUF 0)                     \n"
     ]
    },
    {
     "name": "stderr",
     "output_type": "stream",
     "text": [
      "\u001b[2m\u001b[36m(RolloutWorker pid=19248)\u001b[0m Warning: Vehicle '947' performs emergency braking on lane ':D0_36_0' with decel=9.00, wished=4.50, severity=1.00, time=2279.00.\u001b[32m [repeated 2x across cluster]\u001b[0m\n"
     ]
    },
    {
     "name": "stdout",
     "output_type": "stream",
     "text": [
      "\u001b[2m\u001b[36m(RolloutWorker pid=19248)\u001b[0m Step #2200.00 (1ms ~= 1000.00*RT, ~150000.00UPS, TraCI: 245ms, vehicles TOT 1042 ACT 150 B\n",
      "Step #3600.00 (0ms ?*RT. ?UPS, TraCI: 280ms, vehicles TOT 1473 ACT 32 BUF 0)              CI: 247ms, vehicles TOT 1042 ACT 152 B\n",
      "Step #3600.00 (1ms ~= 1000.00*RT, ~38000.00UPS, TraCI: 281ms, vehicles TOT 1473 ACT 38 BUFaCI: 236ms, vehicles TOT 1086 ACT 120 B\n",
      "Step #3600.00 (1ms ~= 1000.00*RT, ~33000.00UPS, TraCI: 267ms, vehicles TOT 1473 ACT 33 BUFOT 1 ACT 1 BUF 0)                     \n"
     ]
    },
    {
     "name": "stderr",
     "output_type": "stream",
     "text": [
      "\u001b[2m\u001b[36m(RolloutWorker pid=6944)\u001b[0m Warning: Vehicle '336' performs emergency braking on lane ':B2_37_0' with decel=9.00, wished=4.50, severity=1.00, time=1250.00.\n"
     ]
    },
    {
     "name": "stdout",
     "output_type": "stream",
     "text": [
      "Step #1200.00 (1ms ~= 1000.00*RT, ~80000.00UPS, TraCI: 232ms, vehicles TOT 339 ACT 80 BUF OT 1 ACT 1 BUF 0)                     \n"
     ]
    },
    {
     "name": "stderr",
     "output_type": "stream",
     "text": [
      "\u001b[2m\u001b[36m(RolloutWorker pid=19248)\u001b[0m Warning: Vehicle '365' performs emergency braking on lane ':D2_15_1' with decel=9.00, wished=4.50, severity=1.00, time=1290.00.\n"
     ]
    },
    {
     "name": "stdout",
     "output_type": "stream",
     "text": [
      "Step #1200.00 (1ms ~= 1000.00*RT, ~69000.00UPS, TraCI: 225ms, vehicles TOT 339 ACT 69 BUF TOT 1 ACT 1 BUF 0)                     \n"
     ]
    },
    {
     "name": "stderr",
     "output_type": "stream",
     "text": [
      "\u001b[2m\u001b[36m(RolloutWorker pid=18968)\u001b[0m Warning: Vehicle '620' performs emergency braking on lane ':D3_45_0' with decel=9.00, wished=4.50, severity=1.00, time=1910.00.\n"
     ]
    },
    {
     "name": "stdout",
     "output_type": "stream",
     "text": [
      "Step #1900.00 (2ms ~= 500.00*RT, ~109500.00UPS, TraCI: 275ms, vehicles TOT 824 ACT 219 BUFTOT 1 ACT 1 BUF 0)                     \n"
     ]
    },
    {
     "name": "stderr",
     "output_type": "stream",
     "text": [
      "\u001b[2m\u001b[36m(RolloutWorker pid=19248)\u001b[0m Warning: Vehicle '823' performs emergency braking on lane ':B0_43_0' with decel=9.00, wished=4.50, severity=1.00, time=1941.00.\n"
     ]
    },
    {
     "name": "stdout",
     "output_type": "stream",
     "text": [
      "Step #1900.00 (2ms ~= 500.00*RT, ~108500.00UPS, TraCI: 285ms, vehicles TOT 824 ACT 217 BUFCI: 233ms, vehicles TOT 386 ACT 89 BUF \n",
      "Step #3600.00 (1ms ~= 1000.00*RT, ~34000.00UPS, TraCI: 246ms, vehicles TOT 1473 ACT 34 BUFOT 1 ACT 1 BUF 0)                     \n",
      "Step #3600.00 (0ms ?*RT. ?UPS, TraCI: 243ms, vehicles TOT 1473 ACT 35 BUF 0)              I: 231ms, vehicles TOT 386 ACT 87 BUF \n",
      "Step #3600.00 (0ms ?*RT. ?UPS, TraCI: 246ms, vehicles TOT 1473 ACT 35 BUF 0)              aCI: 271ms, vehicles TOT 907 ACT 212 BU\n",
      "Step #3600.00 (1ms ~= 1000.00*RT, ~34000.00UPS, TraCI: 237ms, vehicles TOT 1473 ACT 34 BUFCI: 271ms, vehicles TOT 907 ACT 201 BUF\n"
     ]
    },
    {
     "name": "stderr",
     "output_type": "stream",
     "text": [
      "\u001b[2m\u001b[36m(RolloutWorker pid=7016)\u001b[0m Warning: Vehicle '968' performs emergency braking on lane ':C3_40_0' with decel=9.00, wished=4.50, severity=1.00, time=2155.00.\n"
     ]
    },
    {
     "name": "stdout",
     "output_type": "stream",
     "text": [
      "Step #2100.00 (1ms ~= 1000.00*RT, ~187000.00UPS, TraCI: 269ms, vehicles TOT 983 ACT 187 BUOT 1 ACT 1 BUF 0)                     \n",
      "Step #3600.00 (0ms ?*RT. ?UPS, TraCI: 310ms, vehicles TOT 1473 ACT 39 BUF 0)              TOT 1 ACT 1 BUF 0)                     \n",
      "Step #3600.00 (1ms ~= 1000.00*RT, ~36000.00UPS, TraCI: 293ms, vehicles TOT 1473 ACT 36 BUFCI: 245ms, vehicles TOT 1042 ACT 156 B\n",
      "Step #3600.00 (1ms ~= 1000.00*RT, ~35000.00UPS, TraCI: 297ms, vehicles TOT 1473 ACT 35 BUFOT 1 ACT 1 BUF 0)                     \n",
      "Step #3600.00 (1ms ~= 1000.00*RT, ~31000.00UPS, TraCI: 280ms, vehicles TOT 1473 ACT 31 BUFTOT 1 ACT 1 BUF 0)                     \n"
     ]
    },
    {
     "name": "stderr",
     "output_type": "stream",
     "text": [
      "\u001b[2m\u001b[36m(RolloutWorker pid=19248)\u001b[0m Warning: Vehicle '664' performs emergency braking on lane ':A0_42_0' with decel=9.00, wished=4.50, severity=1.00, time=1777.00.\n"
     ]
    },
    {
     "name": "stdout",
     "output_type": "stream",
     "text": [
      "Step #1700.00 (1ms ~= 1000.00*RT, ~151000.00UPS, TraCI: 245ms, vehicles TOT 623 ACT 151 BUTOT 1 ACT 1 BUF 0)                     \n",
      "Step #3600.00 (0ms ?*RT. ?UPS, TraCI: 274ms, vehicles TOT 1473 ACT 40 BUF 0)              OT 1 ACT 1 BUF 0)                     \n",
      "Step #3600.00 (0ms ?*RT. ?UPS, TraCI: 271ms, vehicles TOT 1473 ACT 36 BUF 0)              aCI: 257ms, vehicles TOT 708 ACT 169 BU\n",
      "Step #3600.00 (0ms ?*RT. ?UPS, TraCI: 264ms, vehicles TOT 1473 ACT 35 BUF 0)              OT 1 ACT 1 BUF 0)                     \n",
      "Step #3600.00 (1ms ~= 1000.00*RT, ~36000.00UPS, TraCI: 259ms, vehicles TOT 1473 ACT 36 BUFTOT 1 ACT 1 BUF 0)                     \n"
     ]
    },
    {
     "name": "stderr",
     "output_type": "stream",
     "text": [
      "\u001b[2m\u001b[36m(RolloutWorker pid=19248)\u001b[0m Warning: Vehicle '759' performs emergency braking on lane ':D3_45_0' with decel=9.00, wished=4.50, severity=1.00, time=1910.00.\n"
     ]
    },
    {
     "name": "stdout",
     "output_type": "stream",
     "text": [
      "Step #1900.00 (2ms ~= 500.00*RT, ~102500.00UPS, TraCI: 282ms, vehicles TOT 824 ACT 205 BUF185ms, vehicles TOT 1 ACT 1 BUF 0)     \n",
      "Step #3600.00 (0ms ?*RT. ?UPS, TraCI: 230ms, vehicles TOT 1473 ACT 30 BUF 0)              OT 1 ACT 1 BUF 0)                     \n",
      "Step #3600.00 (0ms ?*RT. ?UPS, TraCI: 229ms, vehicles TOT 1473 ACT 32 BUF 0)              aCI: 265ms, vehicles TOT 907 ACT 219 BU\n",
      "Step #3600.00 (0ms ?*RT. ?UPS, TraCI: 220ms, vehicles TOT 1473 ACT 37 BUF 0)              TOT 1 ACT 1 BUF 0)                     \n",
      "Step #3600.00 (0ms ?*RT. ?UPS, TraCI: 227ms, vehicles TOT 1473 ACT 33 BUF 0)              OT 1 ACT 1 BUF 0)                     \n"
     ]
    },
    {
     "name": "stderr",
     "output_type": "stream",
     "text": [
      "\u001b[2m\u001b[36m(RolloutWorker pid=19248)\u001b[0m Warning: Vehicle '1032' performs emergency braking on lane ':A1_46_0' with decel=9.00, wished=4.50, severity=1.00, time=2260.00.\n"
     ]
    },
    {
     "name": "stdout",
     "output_type": "stream",
     "text": [
      "Step #2200.00 (1ms ~= 1000.00*RT, ~147000.00UPS, TraCI: 243ms, vehicles TOT 1042 ACT 147 BTOT 1 ACT 1 BUF 0)                     \n"
     ]
    },
    {
     "name": "stderr",
     "output_type": "stream",
     "text": [
      "\u001b[2m\u001b[36m(RolloutWorker pid=7016)\u001b[0m Warning: Vehicle '1072' performs emergency braking on lane ':D2_36_0' with decel=9.00, wished=4.50, severity=1.00, time=2361.00.\n"
     ]
    },
    {
     "name": "stdout",
     "output_type": "stream",
     "text": [
      "Step #2300.00 (1ms ~= 1000.00*RT, ~130000.00UPS, TraCI: 236ms, vehicles TOT 1086 ACT 130 BOT 1 ACT 1 BUF 0)                     \n"
     ]
    },
    {
     "name": "stderr",
     "output_type": "stream",
     "text": [
      "\u001b[2m\u001b[36m(RolloutWorker pid=18968)\u001b[0m Warning: Vehicle '1276' performs emergency braking on lane ':A0_42_0' with decel=9.00, wished=4.50, severity=1.00, time=2834.00.\n"
     ]
    },
    {
     "name": "stdout",
     "output_type": "stream",
     "text": [
      "Step #2800.00 (1ms ~= 1000.00*RT, ~79000.00UPS, TraCI: 236ms, vehicles TOT 1297 ACT 79 BUFTOT 1 ACT 1 BUF 0)                     \n",
      "Step #3600.00 (0ms ?*RT. ?UPS, TraCI: 299ms, vehicles TOT 1473 ACT 35 BUF 0)              aCI: 237ms, vehicles TOT 1086 ACT 115 B\n",
      "Step #3600.00 (0ms ?*RT. ?UPS, TraCI: 288ms, vehicles TOT 1473 ACT 39 BUF 0)              CI: 233ms, vehicles TOT 1136 ACT 109 B\n",
      "Step #3600.00 (1ms ~= 1000.00*RT, ~39000.00UPS, TraCI: 276ms, vehicles TOT 1473 ACT 39 BUFCI: 237ms, vehicles TOT 1327 ACT 75 BUF\n",
      "Step #3600.00 (1ms ~= 1000.00*RT, ~36000.00UPS, TraCI: 281ms, vehicles TOT 1473 ACT 36 BUFOT 1 ACT 1 BUF 0)                     \n"
     ]
    },
    {
     "name": "stderr",
     "output_type": "stream",
     "text": [
      "\u001b[2m\u001b[36m(RolloutWorker pid=6944)\u001b[0m Warning: Vehicle '680' performs emergency braking on lane ':B0_15_0' with decel=9.00, wished=4.50, severity=1.00, time=1843.00.\n"
     ]
    },
    {
     "name": "stdout",
     "output_type": "stream",
     "text": [
      "Step #1800.00 (1ms ~= 1000.00*RT, ~165000.00UPS, TraCI: 255ms, vehicles TOT 708 ACT 165 BUOT 1 ACT 1 BUF 0)                     \n"
     ]
    },
    {
     "name": "stderr",
     "output_type": "stream",
     "text": [
      "\u001b[2m\u001b[36m(RolloutWorker pid=19248)\u001b[0m Warning: Vehicle '703' performs emergency braking on lane ':A2_42_0' with decel=9.00, wished=4.50, severity=1.00, time=2094.00.\n"
     ]
    },
    {
     "name": "stdout",
     "output_type": "stream",
     "text": [
      "Step #2000.00 (2ms ~= 500.00*RT, ~102500.00UPS, TraCI: 274ms, vehicles TOT 907 ACT 205 BUFTOT 1 ACT 1 BUF 0)                     \n"
     ]
    },
    {
     "name": "stderr",
     "output_type": "stream",
     "text": [
      "\u001b[2m\u001b[36m(RolloutWorker pid=19248)\u001b[0m Warning: Vehicle '1193' performs emergency braking on lane ':D1_36_0' with decel=9.00, wished=4.50, severity=1.00, time=2824.00.\n"
     ]
    },
    {
     "name": "stdout",
     "output_type": "stream",
     "text": [
      "Step #2800.00 (0ms ?*RT. ?UPS, TraCI: 223ms, vehicles TOT 1297 ACT 79 BUF 0)              I: 270ms, vehicles TOT 983 ACT 192 BUF \n",
      "Step #3600.00 (0ms ?*RT. ?UPS, TraCI: 263ms, vehicles TOT 1473 ACT 38 BUF 0)              es TOT 1327 ACT 70 BUF 0)              \n",
      "Step #3600.00 (1ms ~= 1000.00*RT, ~33000.00UPS, TraCI: 257ms, vehicles TOT 1473 ACT 33 BUFOT 1 ACT 1 BUF 0)                     \n",
      "Step #3600.00 (0ms ?*RT. ?UPS, TraCI: 257ms, vehicles TOT 1473 ACT 35 BUF 0)              CI: 276ms, vehicles TOT 824 ACT 209 BU\n",
      "Step #3600.00 (0ms ?*RT. ?UPS, TraCI: 242ms, vehicles TOT 1473 ACT 34 BUF 0)              212ms, vehicles TOT 1 ACT 1 BUF 0)     \n"
     ]
    },
    {
     "name": "stderr",
     "output_type": "stream",
     "text": [
      "\u001b[2m\u001b[36m(RolloutWorker pid=18968)\u001b[0m Warning: Vehicle '55' performs emergency braking on lane ':C3_45_0' with decel=9.00, wished=4.50, severity=1.00, time=336.00.\n"
     ]
    },
    {
     "name": "stdout",
     "output_type": "stream",
     "text": [
      "Step #300.00 (0ms ?*RT. ?UPS, TraCI: 228ms, vehicles TOT 67 ACT 42 BUF 0)                 TOT 1 ACT 1 BUF 0)                     \n"
     ]
    },
    {
     "name": "stderr",
     "output_type": "stream",
     "text": [
      "\u001b[2m\u001b[36m(RolloutWorker pid=7016)\u001b[0m Warning: Vehicle '592' performs emergency braking on lane ':D3_24_1' with decel=9.00, wished=4.50, severity=1.00, time=1922.00.\n"
     ]
    },
    {
     "name": "stdout",
     "output_type": "stream",
     "text": [
      "Step #1900.00 (2ms ~= 500.00*RT, ~109500.00UPS, TraCI: 277ms, vehicles TOT 824 ACT 219 BUFOT 1 ACT 1 BUF 0)                     \n"
     ]
    },
    {
     "name": "stderr",
     "output_type": "stream",
     "text": [
      "\u001b[2m\u001b[36m(RolloutWorker pid=18968)\u001b[0m Warning: Vehicle '800' performs emergency braking on lane ':A0_33_1' with decel=9.00, wished=4.50, severity=1.00, time=1945.00.\n"
     ]
    },
    {
     "name": "stdout",
     "output_type": "stream",
     "text": [
      "Step #1900.00 (2ms ~= 500.00*RT, ~108500.00UPS, TraCI: 284ms, vehicles TOT 824 ACT 217 BUFs TOT 84 ACT 39 BUF 0)                 \n",
      "Step #3600.00 (0ms ?*RT. ?UPS, TraCI: 322ms, vehicles TOT 1473 ACT 31 BUF 0)              : 265ms, vehicles TOT 907 ACT 198 BUF \n",
      "Step #3600.00 (0ms ?*RT. ?UPS, TraCI: 327ms, vehicles TOT 1473 ACT 34 BUF 0)              185ms, vehicles TOT 1 ACT 1 BUF 0)     \n",
      "Step #3600.00 (0ms ?*RT. ?UPS, TraCI: 304ms, vehicles TOT 1473 ACT 32 BUF 0)              OT 1 ACT 1 BUF 0)                     \n",
      "Step #3600.00 (0ms ?*RT. ?UPS, TraCI: 288ms, vehicles TOT 1473 ACT 35 BUF 0)              aCI: 272ms, vehicles TOT 907 ACT 213 BU\n",
      "Step #3600.00 (0ms ?*RT. ?UPS, TraCI: 278ms, vehicles TOT 1473 ACT 35 BUF 0)              TOT 1 ACT 1 BUF 0)                     \n",
      "Step #3600.00 (0ms ?*RT. ?UPS, TraCI: 273ms, vehicles TOT 1473 ACT 38 BUF 0)              OT 1 ACT 1 BUF 0)                     \n",
      "Step #3600.00 (0ms ?*RT. ?UPS, TraCI: 270ms, vehicles TOT 1473 ACT 37 BUF 0)              OT 1 ACT 1 BUF 0)                     \n",
      "Step #3600.00 (1ms ~= 1000.00*RT, ~34000.00UPS, TraCI: 248ms, vehicles TOT 1473 ACT 34 BUFTOT 1 ACT 1 BUF 0)                     \n"
     ]
    },
    {
     "name": "stderr",
     "output_type": "stream",
     "text": [
      "\u001b[2m\u001b[36m(RolloutWorker pid=18968)\u001b[0m Warning: Vehicle '131' performs emergency braking on lane ':A1_24_0' with decel=9.00, wished=4.50, severity=1.00, time=625.00.\n"
     ]
    },
    {
     "name": "stdout",
     "output_type": "stream",
     "text": [
      "Step #600.00 (0ms ?*RT. ?UPS, TraCI: 226ms, vehicles TOT 141 ACT 46 BUF 0)                201ms, vehicles TOT 1 ACT 1 BUF 0)     \n"
     ]
    },
    {
     "name": "stderr",
     "output_type": "stream",
     "text": [
      "\u001b[2m\u001b[36m(RolloutWorker pid=19248)\u001b[0m Warning: Vehicle '934' performs emergency braking on lane ':D3_15_1' with decel=9.00, wished=4.50, severity=1.00, time=2065.00.\n"
     ]
    },
    {
     "name": "stdout",
     "output_type": "stream",
     "text": [
      "Step #2000.00 (2ms ~= 500.00*RT, ~114500.00UPS, TraCI: 293ms, vehicles TOT 907 ACT 229 BUFTOT 1 ACT 1 BUF 0)                     \n",
      "Step #3600.00 (1ms ~= 1000.00*RT, ~37000.00UPS, TraCI: 248ms, vehicles TOT 1473 ACT 37 BUFaCI: 272ms, vehicles TOT 983 ACT 215 BU\n",
      "Step #3600.00 (0ms ?*RT. ?UPS, TraCI: 242ms, vehicles TOT 1473 ACT 30 BUF 0)              OT 1 ACT 1 BUF 0)                     \n",
      "Step #3600.00 (0ms ?*RT. ?UPS, TraCI: 239ms, vehicles TOT 1473 ACT 33 BUF 0)              I: 220ms, vehicles TOT 164 ACT 54 BUF 0\n",
      "Step #3600.00 (0ms ?*RT. ?UPS, TraCI: 245ms, vehicles TOT 1473 ACT 36 BUF 0)              OT 1 ACT 1 BUF 0)                     \n",
      "Step #3600.00 (0ms ?*RT. ?UPS, TraCI: 314ms, vehicles TOT 1473 ACT 31 BUF 0)              TOT 1 ACT 1 BUF 0)                     \n",
      "Step #3600.00 (0ms ?*RT. ?UPS, TraCI: 297ms, vehicles TOT 1473 ACT 31 BUF 0)              OT 1 ACT 1 BUF 0)                     \n",
      "Step #3600.00 (0ms ?*RT. ?UPS, TraCI: 294ms, vehicles TOT 1473 ACT 34 BUF 0)              OT 1 ACT 1 BUF 0)                     \n",
      "Step #3600.00 (0ms ?*RT. ?UPS, TraCI: 295ms, vehicles TOT 1473 ACT 38 BUF 0)              TOT 1 ACT 1 BUF 0)                     \n"
     ]
    },
    {
     "name": "stderr",
     "output_type": "stream",
     "text": [
      "\u001b[2m\u001b[36m(RolloutWorker pid=18968)\u001b[0m Warning: Vehicle '763' performs emergency braking on lane ':A2_46_0' with decel=9.00, wished=4.50, severity=1.00, time=1867.00.\n"
     ]
    },
    {
     "name": "stdout",
     "output_type": "stream",
     "text": [
      "Step #1800.00 (2ms ~= 500.00*RT, ~87000.00UPS, TraCI: 290ms, vehicles TOT 708 ACT 174 BUF TOT 1 ACT 1 BUF 0)                     \n"
     ]
    },
    {
     "name": "stderr",
     "output_type": "stream",
     "text": [
      "\u001b[2m\u001b[36m(RolloutWorker pid=7016)\u001b[0m Warning: Vehicle '963' performs emergency braking on lane ':D2_15_1' with decel=9.00, wished=4.50, severity=1.00, time=2095.00.\n"
     ]
    },
    {
     "name": "stdout",
     "output_type": "stream",
     "text": [
      "Step #2000.00 (2ms ~= 500.00*RT, ~107000.00UPS, TraCI: 380ms, vehicles TOT 907 ACT 214 BUFOT 1 ACT 1 BUF 0)                     \n",
      "Step #3600.00 (0ms ?*RT. ?UPS, TraCI: 264ms, vehicles TOT 1473 ACT 34 BUF 0)              : 258ms, vehicles TOT 983 ACT 194 BUF \n",
      "Step #3600.00 (0ms ?*RT. ?UPS, TraCI: 271ms, vehicles TOT 1473 ACT 36 BUF 0)              OT 1 ACT 1 BUF 0)                     \n",
      "Step #3600.00 (0ms ?*RT. ?UPS, TraCI: 265ms, vehicles TOT 1473 ACT 34 BUF 0)              TOT 1 ACT 1 BUF 0)                     \n",
      "Step #3600.00 (0ms ?*RT. ?UPS, TraCI: 241ms, vehicles TOT 1473 ACT 45 BUF 0)              aCI: 266ms, vehicles TOT 824 ACT 212 BU\n"
     ]
    },
    {
     "name": "stderr",
     "output_type": "stream",
     "text": [
      "\u001b[2m\u001b[36m(RolloutWorker pid=6944)\u001b[0m Warning: Vehicle '636' performs emergency braking on lane ':A3_42_0' with decel=9.00, wished=4.50, severity=1.00, time=1931.00.\n"
     ]
    },
    {
     "name": "stdout",
     "output_type": "stream",
     "text": [
      "Step #1900.00 (2ms ~= 500.00*RT, ~107500.00UPS, TraCI: 272ms, vehicles TOT 824 ACT 215 BUFOT 1 ACT 1 BUF 0)                     \n"
     ]
    },
    {
     "name": "stderr",
     "output_type": "stream",
     "text": [
      "\u001b[2m\u001b[36m(RolloutWorker pid=19248)\u001b[0m Warning: Vehicle '1152' performs emergency braking on lane ':B1_33_1' with decel=9.00, wished=4.50, severity=1.00, time=2517.00.\n"
     ]
    },
    {
     "name": "stdout",
     "output_type": "stream",
     "text": [
      "Step #2500.00 (1ms ~= 1000.00*RT, ~87000.00UPS, TraCI: 223ms, vehicles TOT 1175 ACT 87 BUFTOT 1 ACT 1 BUF 0)                     \n",
      "Step #2500.00 (0ms ?*RT. ?UPS, TraCI: 229ms, vehicles TOT 1175 ACT 93 BUF 0)              CI: 267ms, vehicles TOT 907 ACT 207 BU\n",
      "Step #3600.00 (0ms ?*RT. ?UPS, TraCI: 224ms, vehicles TOT 1473 ACT 39 BUF 0)              OT 1 ACT 1 BUF 0)                     \n",
      "Step #3600.00 (0ms ?*RT. ?UPS, TraCI: 227ms, vehicles TOT 1473 ACT 36 BUF 0)              s TOT 1220 ACT 89 BUF 0)              \n",
      "Step #3600.00 (1ms ~= 1000.00*RT, ~34000.00UPS, TraCI: 225ms, vehicles TOT 1473 ACT 34 BUFCI: 240ms, vehicles TOT 1220 ACT 98 BUF\n",
      "Step #3600.00 (1ms ~= 1000.00*RT, ~37000.00UPS, TraCI: 217ms, vehicles TOT 1473 ACT 37 BUFTOT 1 ACT 1 BUF 0)                     \n"
     ]
    },
    {
     "name": "stderr",
     "output_type": "stream",
     "text": [
      "\u001b[2m\u001b[36m(RolloutWorker pid=7016)\u001b[0m Warning: Vehicle '354' performs emergency braking on lane ':A1_24_0' with decel=9.00, wished=4.50, severity=1.00, time=1370.00.\u001b[32m [repeated 2x across cluster]\u001b[0m\n"
     ]
    },
    {
     "name": "stdout",
     "output_type": "stream",
     "text": [
      "Step #1300.00 (1ms ~= 1000.00*RT, ~86000.00UPS, TraCI: 229ms, vehicles TOT 386 ACT 86 BUF OT 1 ACT 1 BUF 0)                     \n"
     ]
    },
    {
     "name": "stderr",
     "output_type": "stream",
     "text": [
      "2023-05-29 21:13:31,723\tINFO tune.py:945 -- Total run time: 19842.15 seconds (19841.87 seconds for the tuning loop).\n"
     ]
    },
    {
     "data": {
      "text/plain": [
       "<ray.tune.analysis.experiment_analysis.ExperimentAnalysis at 0x1b780497cd0>"
      ]
     },
     "execution_count": 7,
     "metadata": {},
     "output_type": "execute_result"
    }
   ],
   "source": [
    "from time import time\n",
    "from ray import tune\n",
    "\n",
    "current_time = int(time())\n",
    "dir_path = os.path.join(\"ray_results\", env_name, str(current_time))\n",
    "\n",
    "tune.run(\n",
    "    \"PPO\",\n",
    "    name=f\"PPO_{str(current_time)}\",\n",
    "    stop={\"timesteps_total\": 2e5},\n",
    "    checkpoint_freq=10,\n",
    "    local_dir=dir_path,\n",
    "    config=config.to_dict(),\n",
    ")"
   ]
  },
  {
   "cell_type": "code",
   "execution_count": 8,
   "metadata": {},
   "outputs": [
    {
     "name": "stdout",
     "output_type": "stream",
     "text": [
      "Step #1845.00 (1ms ~= 1000.00*RT, ~197000.00UPS, TraCI: 8002ms, vehicles TOT 764 ACT 197 Bs TOT 432 ACT 93 BUF 0)               \n",
      "Step #1845.00 (1ms ~= 1000.00*RT, ~191000.00UPS, TraCI: 7659ms, vehicles TOT 764 ACT 191 BTOT 1 ACT 1 BUF 0)                     \n",
      "Step #1845.00 (2ms ~= 500.00*RT, ~92500.00UPS, TraCI: 8057ms, vehicles TOT 764 ACT 185 BUFOT 1 ACT 1 BUF 0)                     \n",
      "Step #1845.00 (1ms ~= 1000.00*RT, ~191000.00UPS, TraCI: 8374ms, vehicles TOT 764 ACT 191 BTOT 1 ACT 1 BUF 0)                     \n"
     ]
    }
   ],
   "source": [
    "ray.shutdown()"
   ]
  },
  {
   "attachments": {},
   "cell_type": "markdown",
   "metadata": {},
   "source": [
    "## Play the Trained Agent"
   ]
  },
  {
   "cell_type": "code",
   "execution_count": 39,
   "metadata": {},
   "outputs": [],
   "source": [
    "checkpoint_path = os.path.join(dir_path,\"PPO\",\"PPO_grid4x4_1593c_00000_0_2023-05-29_15-42-49\",\"checkpoint_000390\")\n",
    "checkpoint_path = os.path.abspath(checkpoint_path)"
   ]
  },
  {
   "cell_type": "code",
   "execution_count": 40,
   "metadata": {},
   "outputs": [],
   "source": [
    "from observation import Grid4x4ObservationFunction\n",
    "from helper_functions import pz_env\n",
    "\n",
    "def env_creator():\n",
    "    env_params = {\n",
    "        \"net_file\": os.path.join(\"nets\",\"grid4x4\",\"grid4x4.net.xml\"),\n",
    "        \"route_file\": os.path.join(\"nets\",\"grid4x4\",\"grid4x4_1.rou.xml\"),\n",
    "        \"num_seconds\": 3600,\n",
    "        \"reward_fn\": combined_reward,\n",
    "        \"sumo_seed\": SEED,\n",
    "        \"observation_class\": Grid4x4ObservationFunction\n",
    "    }\n",
    "    env = pz_env(**env_params)\n",
    "    env = ss.frame_stack_v1(env, 3)\n",
    "    return env"
   ]
  },
  {
   "cell_type": "code",
   "execution_count": 41,
   "metadata": {},
   "outputs": [],
   "source": [
    "from ray.rllib.env.wrappers.pettingzoo_env import PettingZooEnv\n",
    "\n",
    "env = env_creator()\n",
    "register_env(env_name, lambda config: PettingZooEnv(env_creator()))"
   ]
  },
  {
   "cell_type": "code",
   "execution_count": 42,
   "metadata": {},
   "outputs": [
    {
     "name": "stderr",
     "output_type": "stream",
     "text": [
      "2023-05-29 22:09:02,815\tINFO worker.py:1625 -- Started a local Ray instance.\n"
     ]
    },
    {
     "name": "stdout",
     "output_type": "stream",
     "text": [
      "\u001b[2m\u001b[36m(RolloutWorker pid=11256)\u001b[0m Step #0.00 (0ms ?*RT. ?UPS, TraCI: 52ms, vehicles TOT 0 ACT 0 BUF 0)                     \n"
     ]
    },
    {
     "name": "stderr",
     "output_type": "stream",
     "text": [
      "\u001b[2m\u001b[36m(RolloutWorker pid=26516)\u001b[0m 2023-05-29 22:09:13,680\tWARNING env.py:285 -- Your MultiAgentEnv <PettingZooEnv instance> does not have some or all of the needed base-class attributes! Make sure you call `super().__init__()` from within your MutiAgentEnv's constructor. This will raise an error in the future.\n"
     ]
    }
   ],
   "source": [
    "from ray.rllib.algorithms.ppo import PPO\n",
    "\n",
    "ray.init()\n",
    "\n",
    "ppo_agent = PPO.from_checkpoint(checkpoint_path)"
   ]
  },
  {
   "cell_type": "code",
   "execution_count": 43,
   "metadata": {},
   "outputs": [],
   "source": [
    "reward_sum = 0\n",
    "frame_list = []\n",
    "i = 0\n",
    "env.reset()"
   ]
  },
  {
   "cell_type": "code",
   "execution_count": 44,
   "metadata": {},
   "outputs": [],
   "source": [
    "import csv\n",
    "import traci\n",
    "from listeners import SimListener\n",
    "\n",
    "csv_path = os.path.join(checkpoint_path,\"play.csv\")\n",
    "\n",
    "with open(csv_path, \"w\", newline=\"\") as f:\n",
    "    csv_writer = csv.writer(f)\n",
    "    csv_writer.writerow([\"sim_time\", \"arrived_num\", \"avg_speed\",\n",
    "                         \"pressure\", \"queued\", \"tyre_pm\", \"waiting_time\"])\n",
    "\n",
    "listener = SimListener(env, csv_path, checkpoint_path)\n",
    "traci.addStepListener(listener)\n",
    "\n",
    "for agent in env.agent_iter():\n",
    "    observation, reward, termination, truncation, info = env.last()\n",
    "    \n",
    "    reward_sum += reward\n",
    "    if termination or truncation:\n",
    "        action = None\n",
    "    else:\n",
    "        action = ppo_agent.compute_single_action(observation)\n",
    "\n",
    "    env.step(action)\n",
    "    i += 1\n",
    "\n",
    "env.close()\n",
    "\n",
    "if hasattr(listener, \"tb_writer\"):\n",
    "    listener.tb_writer.close()"
   ]
  },
  {
   "cell_type": "code",
   "execution_count": 45,
   "metadata": {},
   "outputs": [
    {
     "name": "stdout",
     "output_type": "stream",
     "text": [
      "-157418.18592983545\n"
     ]
    }
   ],
   "source": [
    "# Interpret results\n",
    "import pandas as pd\n",
    "\n",
    "play_csv = pd.read_csv(csv_path)\n",
    "arrived = sum(play_csv.arrived_num)\n",
    "tyre_pm = sum(play_csv.tyre_pm)\n",
    "final_wait = play_csv.waiting_time.iat[-1]\n",
    "\n",
    "print(\"Reward:\", reward_sum)\n",
    "print(\"Vehicles arrived:\", arrived)\n",
    "print(\"Total tyre PM emitted:\", tyre_pm)\n",
    "print(\"Last step waiting time:\", final_wait)"
   ]
  },
  {
   "cell_type": "code",
   "execution_count": 46,
   "metadata": {},
   "outputs": [
    {
     "name": "stdout",
     "output_type": "stream",
     "text": [
      "\u001b[2m\u001b[36m(RolloutWorker pid=9276)\u001b[0m Step #0.00 (0ms ?*RT. ?UPS, TraCI: 209ms, vehicles TOT 0 ACT 0 BUF 0)                    \u001b[32m [repeated 7x across cluster]\u001b[0m\n"
     ]
    }
   ],
   "source": [
    "ray.shutdown()"
   ]
  },
  {
   "attachments": {},
   "cell_type": "markdown",
   "metadata": {},
   "source": [
    "## RLlib Docs"
   ]
  },
  {
   "cell_type": "code",
   "execution_count": null,
   "metadata": {},
   "outputs": [],
   "source": [
    "algo = config.build()"
   ]
  },
  {
   "cell_type": "code",
   "execution_count": null,
   "metadata": {},
   "outputs": [],
   "source": [
    "# Changes made in ParallelPettingZooEnv's reset() method: see line 202-206 in\n",
    "# C:\\Users\\admin\\anaconda3\\envs\\marl\\lib\\site-packages\\ray\\rllib\\env\\wrappers\\pettingzoo_env.py\n",
    "\n",
    "algo.evaluate()"
   ]
  },
  {
   "cell_type": "code",
   "execution_count": null,
   "metadata": {},
   "outputs": [],
   "source": [
    "from ray.tune.logger import pretty_print\n",
    "\n",
    "result = algo.train()\n",
    "print(pretty_print(result))"
   ]
  },
  {
   "cell_type": "code",
   "execution_count": null,
   "metadata": {},
   "outputs": [],
   "source": [
    "algo.evaluate()"
   ]
  }
 ],
 "metadata": {
  "kernelspec": {
   "display_name": "marl",
   "language": "python",
   "name": "python3"
  },
  "language_info": {
   "codemirror_mode": {
    "name": "ipython",
    "version": 3
   },
   "file_extension": ".py",
   "mimetype": "text/x-python",
   "name": "python",
   "nbconvert_exporter": "python",
   "pygments_lexer": "ipython3",
   "version": "3.10.11"
  },
  "orig_nbformat": 4
 },
 "nbformat": 4,
 "nbformat_minor": 2
}
