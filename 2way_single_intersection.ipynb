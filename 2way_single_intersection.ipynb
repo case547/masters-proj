{
 "cells": [
  {
   "attachments": {},
   "cell_type": "markdown",
   "metadata": {},
   "source": [
    "# PPO - 2-way Single Intersection"
   ]
  },
  {
   "attachments": {},
   "cell_type": "markdown",
   "metadata": {},
   "source": [
    "## Imports"
   ]
  },
  {
   "cell_type": "code",
   "execution_count": 19,
   "metadata": {},
   "outputs": [],
   "source": [
    "import os\n",
    "import subprocess\n",
    "\n",
    "import pyautogui\n",
    "from stable_baselines3 import PPO\n",
    "from stable_baselines3.common.env_checker import check_env\n",
    "from stable_baselines3.common.evaluation import evaluate_policy\n",
    "from stable_baselines3.common.monitor import Monitor\n",
    "from sumo_rl import SumoEnvironment\n",
    "\n",
    "from tyre_pm_reward import tyre_pm_reward"
   ]
  },
  {
   "attachments": {},
   "cell_type": "markdown",
   "metadata": {},
   "source": [
    "## Create Environment and Instantiate Agent"
   ]
  },
  {
   "cell_type": "code",
   "execution_count": 12,
   "metadata": {},
   "outputs": [],
   "source": [
    "env = SumoEnvironment(\n",
    "    net_file=os.path.join(\"nets\",\"2way-single-intersection\",\"single-intersection.net.xml\"),\n",
    "    route_file=os.path.join(\"nets\",\"2way-single-intersection\",\"single-intersection-vhvh.rou.xml\"),\n",
    "    out_csv_name=os.path.join(\"outputs\",\"2way-single-intersection\",\"ppo\"),\n",
    "    use_gui=True,\n",
    "    num_seconds=1e5,\n",
    "    single_agent=True,\n",
    "    reward_fn=tyre_pm_reward,\n",
    "    sumo_seed=42,\n",
    ")\n",
    "check_env(env)\n",
    "env.close()\n",
    "env = Monitor(env)  # wrap env to know episode reward, length, time"
   ]
  },
  {
   "cell_type": "code",
   "execution_count": 13,
   "metadata": {},
   "outputs": [
    {
     "name": "stdout",
     "output_type": "stream",
     "text": [
      "Using cuda device\n",
      "Wrapping the env in a DummyVecEnv.\n"
     ]
    }
   ],
   "source": [
    "model = PPO(\n",
    "    \"MlpPolicy\",\n",
    "    env,\n",
    "    learning_rate=5e-3,\n",
    "    n_steps=256,\n",
    "    batch_size=256,\n",
    "    n_epochs=5,\n",
    "    gamma=0.95,\n",
    "    gae_lambda=0.99,\n",
    "    clip_range=0.3,\n",
    "    ent_coef=0.09,\n",
    "    vf_coef=0.05,\n",
    "    max_grad_norm=0.9,\n",
    "    tensorboard_log=os.path.join(\"logs\",\"2way-single-intersection\",\"ppo\"),\n",
    "    verbose=1\n",
    ")"
   ]
  },
  {
   "cell_type": "code",
   "execution_count": null,
   "metadata": {},
   "outputs": [],
   "source": [
    "# Evaluate untrained random agent\n",
    "mean_reward, std_reward = evaluate_policy(model, env, n_eval_episodes=1)\n",
    "\n",
    "print(mean_reward)\n",
    "print(std_reward)"
   ]
  },
  {
   "attachments": {},
   "cell_type": "markdown",
   "metadata": {},
   "source": [
    "## Train and Evaluate Agent"
   ]
  },
  {
   "cell_type": "code",
   "execution_count": null,
   "metadata": {},
   "outputs": [],
   "source": [
    "# Train agent\n",
    "model.learn(total_timesteps=1e5)"
   ]
  },
  {
   "cell_type": "code",
   "execution_count": null,
   "metadata": {},
   "outputs": [],
   "source": [
    "# Evaluate trained agent\n",
    "mean_reward, std_reward = evaluate_policy(model, env, n_eval_episodes=1)\n",
    "print(mean_reward)\n",
    "print(std_reward)"
   ]
  },
  {
   "attachments": {},
   "cell_type": "markdown",
   "metadata": {},
   "source": [
    "### Save Model"
   ]
  },
  {
   "cell_type": "code",
   "execution_count": null,
   "metadata": {},
   "outputs": [],
   "source": [
    "model.save(os.path.join(\"saved_models\",\"PPO_2way_single_intersection\"))"
   ]
  },
  {
   "attachments": {},
   "cell_type": "markdown",
   "metadata": {},
   "source": [
    "# Render"
   ]
  },
  {
   "cell_type": "code",
   "execution_count": 23,
   "metadata": {},
   "outputs": [],
   "source": [
    "loaded_model = PPO.load(os.path.join(\"saved_models\",\"ppo_single_intersection\"))\n",
    "\n",
    "obs, info = env.reset()\n",
    "\n",
    "img = env.render()\n",
    "\n",
    "VID_LENGTH = 750\n",
    "for i in range(VID_LENGTH):\n",
    "    actions, _ = loaded_model.predict(obs, state=None, deterministic=False)\n",
    "    obs, reward, done, truncated, info = env.step(actions)\n",
    "    env.render()\n",
    "\n",
    "    im = pyautogui.screenshot(\n",
    "        os.path.join(\"renders\",\"2way-single-intersection\",f\"img{i}.jpg\"),\n",
    "        region=(0, 0, 2560, 1542)\n",
    "    )\n",
    "\n",
    "env.close()  # clean up"
   ]
  },
  {
   "cell_type": "code",
   "execution_count": 25,
   "metadata": {},
   "outputs": [],
   "source": [
    "subprocess.run([\"ffmpeg\", \"-y\", \"-r\", \"5\", \"-i\", \"renders\\\\2way-single-intersection\\\\img%d.jpg\", \"videos\\\\2way_single_intersection.mp4\"])"
   ]
  },
  {
   "attachments": {},
   "cell_type": "markdown",
   "metadata": {},
   "source": [
    "## Clean-up"
   ]
  },
  {
   "cell_type": "code",
   "execution_count": 17,
   "metadata": {},
   "outputs": [],
   "source": [
    "env.close()"
   ]
  }
 ],
 "metadata": {
  "kernelspec": {
   "display_name": "rl",
   "language": "python",
   "name": "python3"
  },
  "language_info": {
   "codemirror_mode": {
    "name": "ipython",
    "version": 3
   },
   "file_extension": ".py",
   "mimetype": "text/x-python",
   "name": "python",
   "nbconvert_exporter": "python",
   "pygments_lexer": "ipython3",
   "version": "3.9.15"
  },
  "orig_nbformat": 4,
  "vscode": {
   "interpreter": {
    "hash": "732c5edff638c91026cc37889b73c340773ecf599b6624077a4552d06a9ec22c"
   }
  }
 },
 "nbformat": 4,
 "nbformat_minor": 2
}
