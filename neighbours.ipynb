{
 "cells": [
  {
   "attachments": {},
   "cell_type": "markdown",
   "metadata": {},
   "source": [
    "# Neighbours"
   ]
  },
  {
   "cell_type": "code",
   "execution_count": 20,
   "metadata": {},
   "outputs": [],
   "source": [
    "import pprint\n",
    "\n",
    "NET = \"cologne8\"\n",
    "RADIUS = 200"
   ]
  },
  {
   "cell_type": "code",
   "execution_count": 21,
   "metadata": {},
   "outputs": [],
   "source": [
    "import os\n",
    "from sumo_rl import parallel_env\n",
    "\n",
    "env_params = {\n",
    "    \"net_file\": os.path.join(\"nets\", NET, f\"{NET}.net.xml\"),\n",
    "    \"route_file\": os.path.join(\"nets\", NET, f\"{NET}.rou.xml\"),\n",
    "}\n",
    "env = parallel_env(**env_params)\n",
    "\n",
    "ts_ids = list(env.unwrapped.env.ts_ids)"
   ]
  },
  {
   "cell_type": "code",
   "execution_count": 22,
   "metadata": {},
   "outputs": [
    {
     "name": "stdout",
     "output_type": "stream",
     "text": [
      "{'247379907': (14057.43, 18072.2),\n",
      " '252017285': (13791.17, 17242.08),\n",
      " '256201389': (14498.06, 17266.64),\n",
      " '26110729': (14266.03, 18073.9),\n",
      " '280120513': (14184.47, 17335.59),\n",
      " '32319828': (13831.28, 16834.98),\n",
      " '62426694': (14172.42, 17193.44),\n",
      " 'cluster_1098574052_1098574061_247379905': (13743.75, 17609.43)}\n"
     ]
    }
   ],
   "source": [
    "import traci\n",
    "\n",
    "traci.start([\"sumo\", \"-c\", os.path.join(\"nets\", NET, f\"{NET}.sumocfg\")])\n",
    "\n",
    "coords = {}\n",
    "for ts in ts_ids:\n",
    "    coords[ts] = traci.junction.getPosition(ts)\n",
    "\n",
    "traci.close()\n",
    "\n",
    "pprint.pprint(coords)"
   ]
  },
  {
   "cell_type": "code",
   "execution_count": 23,
   "metadata": {},
   "outputs": [],
   "source": [
    "import numpy as np\n",
    "X = np.array(list(coords.values()))"
   ]
  },
  {
   "cell_type": "code",
   "execution_count": 24,
   "metadata": {},
   "outputs": [
    {
     "name": "stderr",
     "output_type": "stream",
     "text": [
      "Intel(R) Extension for Scikit-learn* enabled (https://github.com/intel/scikit-learn-intelex)\n"
     ]
    }
   ],
   "source": [
    "from sklearnex import patch_sklearn\n",
    "patch_sklearn()"
   ]
  },
  {
   "cell_type": "code",
   "execution_count": 25,
   "metadata": {},
   "outputs": [
    {
     "name": "stdout",
     "output_type": "stream",
     "text": [
      "{'247379907': [],\n",
      " '252017285': [],\n",
      " '256201389': [],\n",
      " '26110729': [],\n",
      " '280120513': ['62426694'],\n",
      " '32319828': [],\n",
      " '62426694': ['280120513'],\n",
      " 'cluster_1098574052_1098574061_247379905': []}\n"
     ]
    }
   ],
   "source": [
    "from sklearn.neighbors import KDTree\n",
    "tree = KDTree(X)\n",
    "\n",
    "neighbours = {}\n",
    "for i, q in enumerate(tree.query_radius(X, r=RADIUS)):\n",
    "    neighbours[ts_ids[i]] = list(ts_ids[j] for j in q if ts_ids[j] != ts_ids[i])\n",
    "\n",
    "pprint.pprint(neighbours)"
   ]
  }
 ],
 "metadata": {
  "kernelspec": {
   "display_name": "rl",
   "language": "python",
   "name": "python3"
  },
  "language_info": {
   "codemirror_mode": {
    "name": "ipython",
    "version": 3
   },
   "file_extension": ".py",
   "mimetype": "text/x-python",
   "name": "python",
   "nbconvert_exporter": "python",
   "pygments_lexer": "ipython3",
   "version": "3.9.16"
  },
  "orig_nbformat": 4
 },
 "nbformat": 4,
 "nbformat_minor": 2
}
